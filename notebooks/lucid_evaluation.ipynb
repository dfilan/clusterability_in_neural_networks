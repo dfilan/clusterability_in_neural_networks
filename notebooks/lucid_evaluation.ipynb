{
 "cells": [
  {
   "cell_type": "code",
   "execution_count": 1,
   "metadata": {
    "collapsed": false,
    "execution": {
     "iopub.execute_input": "2020-08-15T20:27:50.521081Z",
     "iopub.status.busy": "2020-08-15T20:27:50.519442Z",
     "iopub.status.idle": "2020-08-15T20:27:54.902985Z",
     "shell.execute_reply": "2020-08-15T20:27:54.901488Z"
    },
    "papermill": {
     "duration": 4.496042,
     "end_time": "2020-08-22T20:13:47.614175",
     "exception": false,
     "start_time": "2020-08-22T20:13:43.118133",
     "status": "completed"
    },
    "pycharm": {
     "name": "#%%\n"
    },
    "tags": []
   },
   "outputs": [
    {
     "name": "stderr",
     "output_type": "stream",
     "text": [
      "Using TensorFlow backend.\n"
     ]
    }
   ],
   "source": [
    "import sys\n",
    "sys.path.append('..')\n",
    "from src.lucid import evaluate_visualizations"
   ]
  },
  {
   "cell_type": "code",
   "execution_count": 2,
   "metadata": {
    "collapsed": false,
    "execution": {
     "iopub.execute_input": "2020-08-15T20:27:54.935485Z",
     "iopub.status.busy": "2020-08-15T20:27:54.934531Z",
     "iopub.status.idle": "2020-08-15T20:27:54.938685Z",
     "shell.execute_reply": "2020-08-15T20:27:54.939782Z"
    },
    "papermill": {
     "duration": 0.024468,
     "end_time": "2020-08-22T20:13:47.662766",
     "exception": false,
     "start_time": "2020-08-22T20:13:47.638298",
     "status": "completed"
    },
    "pycharm": {
     "name": "#%%\n"
    },
    "tags": []
   },
   "outputs": [],
   "source": [
    "model_tags = ('MNIST+LUCID', 'MNIST+DROPOUT+LUCID', 'CNN-MNIST+LUCID', 'CNN-MNIST+DROPOUT+LUCID')"
   ]
  },
  {
   "cell_type": "code",
   "execution_count": 3,
   "metadata": {
    "collapsed": false,
    "execution": {
     "iopub.execute_input": "2020-08-15T20:27:54.970881Z",
     "iopub.status.busy": "2020-08-15T20:27:54.969911Z",
     "iopub.status.idle": "2020-08-15T20:28:48.012891Z",
     "shell.execute_reply": "2020-08-15T20:28:48.014193Z"
    },
    "papermill": {
     "duration": 18.596974,
     "end_time": "2020-08-22T20:14:06.269343",
     "exception": false,
     "start_time": "2020-08-22T20:13:47.672369",
     "status": "completed"
    },
    "pycharm": {
     "name": "#%%\n"
    },
    "tags": []
   },
   "outputs": [
    {
     "name": "stdout",
     "output_type": "stream",
     "text": [
      "WARNING:tensorflow:From /usr/local/lib/python3.7/dist-packages/tensorflow_core/python/ops/init_ops.py:97: calling GlorotUniform.__init__ (from tensorflow.python.ops.init_ops) with dtype is deprecated and will be removed in a future version.\n",
      "Instructions for updating:\n",
      "Call initializer instance with the dtype argument instead of passing it to the constructor\n"
     ]
    },
    {
     "name": "stderr",
     "output_type": "stream",
     "text": [
      "WARNING:tensorflow:From /usr/local/lib/python3.7/dist-packages/tensorflow_core/python/ops/init_ops.py:97: calling GlorotUniform.__init__ (from tensorflow.python.ops.init_ops) with dtype is deprecated and will be removed in a future version.\n",
      "Instructions for updating:\n",
      "Call initializer instance with the dtype argument instead of passing it to the constructor\n"
     ]
    },
    {
     "name": "stdout",
     "output_type": "stream",
     "text": [
      "WARNING:tensorflow:From /usr/local/lib/python3.7/dist-packages/tensorflow_core/python/ops/init_ops.py:97: calling Zeros.__init__ (from tensorflow.python.ops.init_ops) with dtype is deprecated and will be removed in a future version.\n",
      "Instructions for updating:\n",
      "Call initializer instance with the dtype argument instead of passing it to the constructor\n"
     ]
    },
    {
     "name": "stderr",
     "output_type": "stream",
     "text": [
      "WARNING:tensorflow:From /usr/local/lib/python3.7/dist-packages/tensorflow_core/python/ops/init_ops.py:97: calling Zeros.__init__ (from tensorflow.python.ops.init_ops) with dtype is deprecated and will be removed in a future version.\n",
      "Instructions for updating:\n",
      "Call initializer instance with the dtype argument instead of passing it to the constructor\n"
     ]
    },
    {
     "name": "stdout",
     "output_type": "stream",
     "text": [
      "WARNING:tensorflow:From /usr/local/lib/python3.7/dist-packages/tensorflow_core/python/ops/resource_variable_ops.py:1630: calling BaseResourceVariable.__init__ (from tensorflow.python.ops.resource_variable_ops) with constraint is deprecated and will be removed in a future version.\n",
      "Instructions for updating:\n",
      "If using Keras pass *_constraint arguments to layers.\n"
     ]
    },
    {
     "name": "stderr",
     "output_type": "stream",
     "text": [
      "WARNING:tensorflow:From /usr/local/lib/python3.7/dist-packages/tensorflow_core/python/ops/resource_variable_ops.py:1630: calling BaseResourceVariable.__init__ (from tensorflow.python.ops.resource_variable_ops) with constraint is deprecated and will be removed in a future version.\n",
      "Instructions for updating:\n",
      "If using Keras pass *_constraint arguments to layers.\n"
     ]
    },
    {
     "name": "stdout",
     "output_type": "stream",
     "text": [
      "MNIST+LUCID, is_unpruned=True\n",
      "max chi2_categorical_ps_entropy: 0.0\n",
      "max chi2_categorical_ps_loss: 0.47631\n",
      "max combined_ps_entropy: 0.0\n",
      "max combined_ps_loss: 0.43546\n",
      "percentiles_entropy: [0.6 0.3 0.5 0.2 0.7 0.6 0.1 0.1 1.  1.  0.1 0.1 0.1 0.1 0.6 0.1 0.1 0.1\n",
      " 0.1 0.1 0.1 0.1 0.1 0.1 0.1 0.1 0.1 0.1 0.1]\n",
      "percentiles_loss: [0.7 0.7 0.4 0.3 0.2 0.8 0.5 0.4 0.5 0.9 0.7 0.6 0.1 0.2 0.7 0.7 0.2 0.2\n",
      " 0.9 1.  0.7 0.8 0.8 0.3 0.4 0.6 0.1 0.7 0.1]\n",
      "\n",
      "WARNING:tensorflow:From /usr/local/lib/python3.7/dist-packages/tensorflow_model_optimization/python/core/sparsity/keras/pruning_wrapper.py:205: Layer.add_variable (from tensorflow.python.keras.engine.base_layer) is deprecated and will be removed in a future version.\n",
      "Instructions for updating:\n",
      "Please use `layer.add_weight` method instead.\n"
     ]
    },
    {
     "name": "stderr",
     "output_type": "stream",
     "text": [
      "WARNING:tensorflow:From /usr/local/lib/python3.7/dist-packages/tensorflow_model_optimization/python/core/sparsity/keras/pruning_wrapper.py:205: Layer.add_variable (from tensorflow.python.keras.engine.base_layer) is deprecated and will be removed in a future version.\n",
      "Instructions for updating:\n",
      "Please use `layer.add_weight` method instead.\n"
     ]
    },
    {
     "name": "stdout",
     "output_type": "stream",
     "text": [
      "WARNING:tensorflow:From /usr/local/lib/python3.7/dist-packages/tensorflow_model_optimization/python/core/sparsity/keras/pruning_schedule.py:240: div (from tensorflow.python.ops.math_ops) is deprecated and will be removed in a future version.\n",
      "Instructions for updating:\n",
      "Deprecated in favor of operator or tf.math.divide.\n"
     ]
    },
    {
     "name": "stderr",
     "output_type": "stream",
     "text": [
      "WARNING:tensorflow:From /usr/local/lib/python3.7/dist-packages/tensorflow_model_optimization/python/core/sparsity/keras/pruning_schedule.py:240: div (from tensorflow.python.ops.math_ops) is deprecated and will be removed in a future version.\n",
      "Instructions for updating:\n",
      "Deprecated in favor of operator or tf.math.divide.\n"
     ]
    },
    {
     "name": "stdout",
     "output_type": "stream",
     "text": [
      "MNIST+LUCID, is_unpruned=False\n",
      "max chi2_categorical_ps_entropy: 0.0\n",
      "max chi2_categorical_ps_loss: 0.92763\n",
      "max combined_ps_entropy: 0.0004\n",
      "max combined_ps_loss: 0.55795\n",
      "percentiles_entropy: [0.6 0.4 0.1 0.4 0.1 0.1 0.6 0.3 0.8 0.5 0.9 0.4 0.4 0.1 0.1 0.9 0.9 0.1\n",
      " 0.1 0.7 0.1 0.1 0.1 0.9 0.1 0.1 0.1]\n",
      "percentiles_loss: [0.8 0.9 0.1 0.7 1.  0.9 0.8 0.6 0.8 0.7 0.3 0.2 1.  0.1 0.2 0.4 1.  1.\n",
      " 0.3 0.7 0.1 0.6 0.9 0.4 0.5 0.7 0.1]\n",
      "\n"
     ]
    },
    {
     "name": "stdout",
     "output_type": "stream",
     "text": [
      "MNIST+DROPOUT+LUCID, is_unpruned=True\n",
      "max chi2_categorical_ps_entropy: 0.0\n",
      "max chi2_categorical_ps_loss: 0.23459\n",
      "max combined_ps_entropy: 0.0001\n",
      "max combined_ps_loss: 0.55708\n",
      "percentiles_entropy: [1.  0.7 0.1 0.9 0.1 0.1 0.7 1.  0.1 0.1 0.1 0.1 0.1 0.1 0.8 0.1 0.1 0.8\n",
      " 0.1 0.8 0.1 0.1]\n",
      "percentiles_loss: [0.5 0.1 0.4 0.8 0.3 0.4 0.4 0.7 0.4 0.6 0.2 0.8 0.7 0.4 0.9 0.2 0.7 0.5\n",
      " 0.7 0.7 0.2 0.6]\n",
      "\n"
     ]
    },
    {
     "name": "stdout",
     "output_type": "stream",
     "text": [
      "MNIST+DROPOUT+LUCID, is_unpruned=False\n",
      "max chi2_categorical_ps_entropy: 0.09909\n",
      "max chi2_categorical_ps_loss: 0.8174\n",
      "max combined_ps_entropy: 0.06702\n",
      "max combined_ps_loss: 0.30423\n",
      "percentiles_entropy: [0.1 0.2 0.5 0.6 0.9 0.6 0.3 0.5 0.6 0.6 0.1 0.2 0.5 0.7 0.4 1.  0.1 0.1\n",
      " 0.5 0.5 0.1]\n",
      "percentiles_loss: [0.5 0.5 0.7 0.1 0.6 0.1 0.8 0.2 0.6 0.4 0.2 0.8 0.3 0.6 0.4 0.4 0.3 0.2\n",
      " 0.6 0.7 1. ]\n",
      "\n"
     ]
    },
    {
     "name": "stdout",
     "output_type": "stream",
     "text": [
      "CNN-MNIST+LUCID, is_unpruned=True\n",
      "max chi2_categorical_ps_entropy: 0.33817\n",
      "max chi2_categorical_ps_loss: 0.54972\n",
      "max combined_ps_entropy: 0.10767\n",
      "max combined_ps_loss: 0.39028\n",
      "percentiles_entropy: [0.8 0.2 0.1 0.7 0.4 1.  0.5 0.8 0.4 0.8 0.1 0.7 0.1 0.1 0.6 0.4 1.  0.7\n",
      " 0.1 0.9 0.2 0.6 0.2 0.2 0.2 0.7]\n",
      "percentiles_loss: [0.5 0.3 0.8 0.3 0.6 1.  0.2 0.4 0.6 0.5 1.  0.8 0.9 0.2 0.3 0.1 0.4 1.\n",
      " 1.  0.1 1.  0.1 0.2 0.7 0.2 1. ]\n",
      "\n"
     ]
    },
    {
     "name": "stdout",
     "output_type": "stream",
     "text": [
      "CNN-MNIST+LUCID, is_unpruned=False\n",
      "max chi2_categorical_ps_entropy: 0.996\n",
      "max chi2_categorical_ps_loss: 0.18428\n",
      "max combined_ps_entropy: 0.63958\n",
      "max combined_ps_loss: 0.22071\n",
      "percentiles_entropy: [0.9 0.3 0.1 0.5 0.6 0.9 0.1 0.4 0.2 1.  0.7 0.7 0.6 0.8 1.  1.  0.4 0.7\n",
      " 0.8 0.2 0.3 0.4]\n",
      "percentiles_loss: [0.6 0.9 1.  0.9 0.2 0.1 0.1 0.5 0.1 0.1 0.8 1.  0.1 0.8 0.5 1.  0.5 0.7\n",
      " 0.2 0.5 0.5 0.6]\n",
      "\n"
     ]
    },
    {
     "name": "stdout",
     "output_type": "stream",
     "text": [
      "CNN-MNIST+DROPOUT+LUCID, is_unpruned=True\n",
      "max chi2_categorical_ps_entropy: 0.12233\n",
      "max chi2_categorical_ps_loss: 0.09747\n",
      "max combined_ps_entropy: 0.96436\n",
      "max combined_ps_loss: 0.24735\n",
      "percentiles_entropy: [0.7 0.6 0.5 0.8 0.9 1.  0.3 0.3 1.  0.4 0.2 1.  1.  1.  0.1 0.7 0.8 0.5\n",
      " 0.8 1.  0.7 0.7 0.3 0.5 1.  0.3]\n",
      "percentiles_loss: [0.9 0.6 0.9 0.2 0.6 0.8 0.9 0.1 0.7 0.9 0.9 1.  1.  0.8 0.1 0.3 0.1 0.3\n",
      " 0.2 0.7 0.7 0.1 0.1 0.9 0.6 0.1]\n",
      "\n"
     ]
    },
    {
     "name": "stdout",
     "output_type": "stream",
     "text": [
      "CNN-MNIST+DROPOUT+LUCID, is_unpruned=False\n",
      "max chi2_categorical_ps_entropy: 0.22287\n",
      "max chi2_categorical_ps_loss: 0.40709\n",
      "max combined_ps_entropy: 0.8909\n",
      "max combined_ps_loss: 0.15197\n",
      "percentiles_entropy: [0.6 0.9 1.  0.8 1.  0.3 0.4 0.3 1.  0.8 0.6 0.5 0.3 0.3 0.5 0.7 0.7 0.7\n",
      " 0.3 0.7 0.6 0.6 0.1 0.6]\n",
      "percentiles_loss: [0.8 0.1 0.2 1.  0.7 0.8 0.3 0.1 0.4 0.6 0.4 0.3 0.1 0.1 0.2 0.9 0.9 0.9\n",
      " 0.1 0.8 0.9 0.2 0.6 0.8]\n",
      "\n"
     ]
    }
   ],
   "source": [
    "for model_tag in model_tags:\n",
    "\n",
    "    for is_unpruned in [True, False]:\n",
    "\n",
    "        results = evaluate_visualizations(model_tag, is_unpruned)\n",
    "\n",
    "        print(f'{model_tag}, is_unpruned={is_unpruned}')\n",
    "        percentiles = results['percentiles']\n",
    "        chi2_ps = results['chi2_ps']\n",
    "        combined_ps = results['combined_ps']\n",
    "        print('max chi2_categorical_ps_entropy:', round(chi2_ps[0], 5))\n",
    "        print('max chi2_categorical_ps_loss:', round(chi2_ps[1], 5))\n",
    "        print('max combined_ps_entropy:', round(combined_ps[0], 5))\n",
    "        print('max combined_ps_loss:', round(combined_ps[1], 5))\n",
    "        sm_info = [f'lyr={layer}, sm_siz={size}, lyr_siz={layer_size}, clust={cluster}'\n",
    "                   for layer, size, layer_size, cluster in\n",
    "                   zip(results['sm_layers'], results['sm_sizes'], results['sm_layer_sizes'], results['sm_clusters'])]\n",
    "        # print(f'{len(sm_info)} submodules with info: {sm_info}')\n",
    "        print(f'percentiles_entropy: {percentiles[0]}')\n",
    "        print(f'percentiles_loss: {percentiles[1]}')\n",
    "        print()"
   ]
  }
 ],
 "metadata": {
  "kernelspec": {
   "display_name": "Python 3",
   "language": "python",
   "name": "python3"
  },
  "language_info": {
   "codemirror_mode": {
    "name": "ipython",
    "version": 3
   },
   "file_extension": ".py",
   "mimetype": "text/x-python",
   "name": "python",
   "nbconvert_exporter": "python",
   "pygments_lexer": "ipython3",
   "version": "3.7.5"
  },
  "papermill": {
   "duration": 25.245065,
   "end_time": "2020-08-22T20:14:07.698595",
   "environment_variables": {},
   "exception": null,
   "input_path": "./notebooks/lucid_evaluation.ipynb",
   "output_path": "./notebooks/lucid_evaluation.ipynb",
   "parameters": {},
   "start_time": "2020-08-22T20:13:42.453530",
   "version": "2.1.2"
  }
 },
 "nbformat": 4,
 "nbformat_minor": 0
}