{
 "cells": [
  {
   "cell_type": "markdown",
   "metadata": {
    "papermill": {
     "duration": 0.083502,
     "end_time": "2020-10-06T19:46:54.032988",
     "exception": false,
     "start_time": "2020-10-06T19:46:53.949486",
     "status": "completed"
    },
    "tags": []
   },
   "source": [
    "# MLP Clustering Significance Stability over Multiple Trainings\n",
    "\n",
    "### Before Running on Perceptron\n",
    "\n",
    "Go to `src/train_nn.py` to line 46, and change the path `./models/` to `/scratch/<your username>/models`\n",
    "\n",
    "Do not forget to undo this change!\n",
    "\n",
    "DO NOT COMMIT THIS CHANGE TO GITHUB!!!"
   ]
  },
  {
   "cell_type": "code",
   "execution_count": 1,
   "metadata": {
    "execution": {
     "iopub.execute_input": "2020-10-06T19:46:54.267525Z",
     "iopub.status.busy": "2020-10-06T19:46:54.266658Z",
     "iopub.status.idle": "2020-10-06T19:46:54.272704Z",
     "shell.execute_reply": "2020-10-06T19:46:54.274043Z"
    },
    "papermill": {
     "duration": 0.101031,
     "end_time": "2020-10-06T19:46:54.274290",
     "exception": false,
     "start_time": "2020-10-06T19:46:54.173259",
     "status": "completed"
    },
    "tags": []
   },
   "outputs": [],
   "source": [
    "%load_ext autoreload\n",
    "%autoreload 1"
   ]
  },
  {
   "cell_type": "code",
   "execution_count": 2,
   "metadata": {
    "execution": {
     "iopub.execute_input": "2020-10-06T19:46:54.456499Z",
     "iopub.status.busy": "2020-10-06T19:46:54.442535Z",
     "iopub.status.idle": "2020-10-06T19:47:43.205576Z",
     "shell.execute_reply": "2020-10-06T19:47:43.206644Z"
    },
    "papermill": {
     "duration": 48.871843,
     "end_time": "2020-10-06T19:47:43.206973",
     "exception": false,
     "start_time": "2020-10-06T19:46:54.335130",
     "status": "completed"
    },
    "tags": []
   },
   "outputs": [],
   "source": [
    "import sys\n",
    "sys.path.append('..')\n",
    "\n",
    "import random\n",
    "import subprocess\n",
    "from multiprocessing import Pool\n",
    "\n",
    "import numpy as np\n",
    "import matplotlib.pylab as plt\n",
    "import pandas as pd\n",
    "from tqdm import tqdm, trange\n",
    "from IPython import display\n",
    "\n",
    "from src.visualization import draw_mlp_clustering_report, run_double_spectral_cluster, run_spectral_cluster\n",
    "from src.utils import get_weights_paths, build_clustering_results, cohen_d_stats\n",
    "from src.experiment_tagging import get_model_path, MODEL_TAG_LOOKUP\n",
    "# from src.spectral_cluster_model import SHUFFLE_METHODS\n",
    "SHUFFLE_METHODS = ['layer']#, 'layer_nonzero']"
   ]
  },
  {
   "cell_type": "code",
   "execution_count": 3,
   "metadata": {
    "execution": {
     "iopub.execute_input": "2020-10-06T19:47:43.673254Z",
     "iopub.status.busy": "2020-10-06T19:47:43.627723Z",
     "iopub.status.idle": "2020-10-06T19:47:43.674059Z",
     "shell.execute_reply": "2020-10-06T19:47:43.672348Z"
    },
    "papermill": {
     "duration": 0.258822,
     "end_time": "2020-10-06T19:47:43.674236",
     "exception": false,
     "start_time": "2020-10-06T19:47:43.415414",
     "status": "completed"
    },
    "tags": []
   },
   "outputs": [],
   "source": [
    "MODEL_BASE_PATH = '/scratch/shlomi/models/'\n",
    "\n",
    "N_TRAINED_MODELS = 5\n",
    "\n",
    "# we ar doing 320 experiments (=32 models x 10 times),\n",
    "# and let's have expectation of false-positive <= 1\n",
    "# so we can set n_shuffles to 320, and then p-values < 1/401\n",
    "# if we make it too large, let see, 1000 shuffles...\n",
    "# ... we might reduce the statistical power (given H1, the probability to reject it incorrectly)!\n",
    "N_SHUFFLES = 50\n",
    "\n",
    "N_CLUSTERS = 12\n",
    "\n",
    "N_GPUS = 4\n",
    "\n",
    "TAGS_COMMANDS = {\n",
    "#    'MNIST': 'python -m src.train_nn with mlp_config dataset_name=mnist',\n",
    "#    'CIFAR10': 'python -m src.train_nn with mlp_config dataset_name=cifar10 pruning_epochs=40',\n",
    "     'LINE': 'python -m src.train_nn with mlp_config dataset_name=line',\n",
    "#    'FASHION': 'python -m src.train_nn with mlp_config dataset_name=fashion',\n",
    "#    'MNIST+DROPOUT': 'python -m src.train_nn with mlp_config dataset_name=mnist with_dropout=True',\n",
    "#    'CIFAR10+DROPOUT': 'python -m src.train_nn with mlp_config dataset_name=cifar10 epochs=100 pruning_epochs=40 with_dropout=True dropout_rate=0.2',\n",
    "     'LINE+DROPOUT': 'python -m src.train_nn with mlp_config dataset_name=line with_dropout=True',\n",
    "#    'FASHION+DROPOUT': 'python -m src.train_nn with mlp_config dataset_name=fashion with_dropout=True',\n",
    "     'LINE-MNIST': 'python -m src.train_nn with mlp_config dataset_name=line-mnist',\n",
    "#    'LINE-CIFAR10': 'python -m src.train_nn with mlp_config dataset_name=line-cifar10 epochs=30 pruning_epochs=40',\n",
    "#    'MNIST-CIFAR10': 'python -m src.train_nn with mlp_config dataset_name=mnist-cifar10 epochs=30 pruning_epochs=40',\n",
    "     'LINE-MNIST-SEPARATED': 'python -m src.train_nn with mlp_config dataset_name=line-mnist-separated',\n",
    "#    'LINE-CIFAR10-SEPARATED': 'python -m src.train_nn with mlp_config dataset_name=line-cifar10-separated epochs=30 pruning_epochs=40',\n",
    "#    'MNIST-CIFAR10-SEPARATED': 'python -m src.train_nn with mlp_config dataset_name=mnist-cifar10-separated epochs=30 pruning_epochs=40',\n",
    "     'LINE-MNIST+DROPOUT': 'python -m src.train_nn with mlp_config dataset_name=line-mnist with_dropout=True',\n",
    "#    'LINE-CIFAR10+DROPOUT': 'python -m src.train_nn with mlp_config dataset_name=line-cifar10 epochs=30 pruning_epochs=40 with_dropout=True dropout_rate=0.2',\n",
    "#    'MNIST-CIFAR10+DROPOUT': 'python -m src.train_nn with mlp_config dataset_name=mnist-cifar10 epochs=30 pruning_epochs=40 with_dropout=True dropout_rate=0.2',\n",
    "     'LINE-MNIST-SEPARATED+DROPOUT': 'python -m src.train_nn with mlp_config dataset_name=line-mnist-separated with_dropout=True',\n",
    "#    'LINE-CIFAR10-SEPARATED+DROPOUT': 'python -m src.train_nn with mlp_config dataset_name=line-cifar10-separated epochs=30 pruning_epochs=40 with_dropout=True dropout_rate=0.2',\n",
    "#    'MNIST-CIFAR10-SEPARATED+DROPOUT': 'python -m src.train_nn with mlp_config dataset_name=mnist-cifar10-separated epochs=30 pruning_epochs=40 with_dropout=True dropout_rate=0.2',\n",
    "#    'RANDOM': 'python -m src.train_nn with mlp_config dataset_name=random',\n",
    "#    'RANDOM+DROPOUT': 'python -m src.train_nn with mlp_config dataset_name=random with_dropout=True',\n",
    "#    'MNIST-x1.5-EPOCHS': 'python -m src.train_nn with mlp_config dataset_name=mnist epochs=30',\n",
    "#    'MNIST-x1.5-EPOCHS+DROPOUT':'python -m src.train_nn with mlp_config dataset_name=mnist epochs=30 with_dropout=True',\n",
    "#    'MNIST-x2-EPOCHS':'python -m src.train_nn with mlp_config dataset_name=mnist epochs=40',\n",
    "#    'MNIST-x2-EPOCHS+DROPOUT':'python -m src.train_nn with mlp_config dataset_name=mnist epochs=40 with_dropout=True',\n",
    "#    'MNIST-x10-EPOCHS': 'python -m src.train_nn with mlp_config dataset_name=mnist epochs=200',\n",
    "#    'MNIST-x10-EPOCHS+DROPOUT': 'python -m src.train_nn with mlp_config dataset_name=mnist epochs=200 with_dropout=True',\n",
    "#    'RANDOM-x50-EPOCHS': 'python -m src.train_nn with mlp_config dataset_name=random epochs=1000',\n",
    "#    'RANDOM-x50-EPOCHS+DROPOUT': 'python -m src.train_nn with mlp_config dataset_name=random epochs=1000 with_dropout=True',\n",
    "#    'RANDOM-OVERFITTING': 'python -m src.train_nn with mlp_config dataset_name=random epochs=100 pruning_epochs=100 shuffle=False n_train=3000',\n",
    "#    'RANDOM-OVERFITTING+DROPOUT': 'python -m src.train_nn with mlp_config dataset_name=random epochs=100 pruning_epochs=100 shuffle=False n_train=3000 with_dropout=True'\n",
    "}\n",
    "DATASETS_TAGS = [command.split()[5][13:] for command in TAGS_COMMANDS.values()]"
   ]
  },
  {
   "cell_type": "code",
   "execution_count": 4,
   "metadata": {
    "execution": {
     "iopub.execute_input": "2020-10-06T19:47:43.970696Z",
     "iopub.status.busy": "2020-10-06T19:47:43.968459Z",
     "iopub.status.idle": "2020-10-06T19:47:43.971980Z",
     "shell.execute_reply": "2020-10-06T19:47:43.969537Z"
    },
    "papermill": {
     "duration": 0.084079,
     "end_time": "2020-10-06T19:47:43.972240",
     "exception": false,
     "start_time": "2020-10-06T19:47:43.888161",
     "status": "completed"
    },
    "tags": []
   },
   "outputs": [],
   "source": [
    "if False:\n",
    "    def train_model_multiply(command, n_models_per_command, gpu_id=None):    \n",
    "        for _ in range(n_models_per_command):\n",
    "            actual_command = f'cd .. && {command}'#' > /dev/null 2>&1'\n",
    "            print(actual_command)\n",
    "            subprocess.run(actual_command, shell=True,\n",
    "                           env={'CUDA_VISIBLE_DEVICES': str(gpu_id)})\n",
    "\n",
    "\n",
    "    def train_models(commands, n_models_per_command, gpu_id=None):\n",
    "        for command in commands:\n",
    "            train_model_multiply(command, n_models_per_command, gpu_id)\n",
    "\n",
    "    commands = list(TAGS_COMMANDS.values())\n",
    "    random.shuffle(commands)\n",
    "\n",
    "    assert len(commands) % N_GPUS == 0\n",
    "    n_commands_per_gpu = len(commands) // N_GPUS\n",
    "\n",
    "    with Pool(N_GPUS) as p:\n",
    "\n",
    "        p.starmap(train_models,\n",
    "                 [(commands[gpu_id*n_commands_per_gpu : (gpu_id+1)*n_commands_per_gpu], N_TRAINED_MODELS, gpu_id)\n",
    "                 for gpu_id in range(N_GPUS)])"
   ]
  },
  {
   "cell_type": "code",
   "execution_count": 5,
   "metadata": {
    "execution": {
     "iopub.execute_input": "2020-10-06T19:47:44.408202Z",
     "iopub.status.busy": "2020-10-06T19:47:44.387847Z",
     "iopub.status.idle": "2020-10-07T00:03:57.905323Z",
     "shell.execute_reply": "2020-10-07T00:03:57.907880Z"
    },
    "papermill": {
     "duration": 15373.841677,
     "end_time": "2020-10-07T00:03:57.908236",
     "exception": false,
     "start_time": "2020-10-06T19:47:44.066559",
     "status": "completed"
    },
    "scrolled": false,
    "tags": []
   },
   "outputs": [
    {
     "name": "stderr",
     "output_type": "stream",
     "text": [
      "\r",
      "  0%|          | 0/6 [00:00<?, ?it/s]"
     ]
    },
    {
     "name": "stderr",
     "output_type": "stream",
     "text": [
      "\n"
     ]
    },
    {
     "name": "stderr",
     "output_type": "stream",
     "text": [
      "\r",
      "  0%|          | 0/5 [00:00<?, ?it/s]"
     ]
    },
    {
     "name": "stderr",
     "output_type": "stream",
     "text": [
      "\u001b[A"
     ]
    },
    {
     "name": "stderr",
     "output_type": "stream",
     "text": [
      "\n"
     ]
    },
    {
     "name": "stderr",
     "output_type": "stream",
     "text": [
      "\r",
      " 20%|██        | 1/5 [08:46<35:07, 526.83s/it]"
     ]
    },
    {
     "name": "stderr",
     "output_type": "stream",
     "text": [
      "\u001b[A"
     ]
    },
    {
     "name": "stderr",
     "output_type": "stream",
     "text": [
      "\n"
     ]
    },
    {
     "name": "stderr",
     "output_type": "stream",
     "text": [
      "\r",
      " 40%|████      | 2/5 [16:47<25:38, 512.88s/it]"
     ]
    },
    {
     "name": "stderr",
     "output_type": "stream",
     "text": [
      "\u001b[A"
     ]
    },
    {
     "name": "stderr",
     "output_type": "stream",
     "text": [
      "\n"
     ]
    },
    {
     "name": "stderr",
     "output_type": "stream",
     "text": [
      "\r",
      " 60%|██████    | 3/5 [25:56<17:27, 523.87s/it]"
     ]
    },
    {
     "name": "stderr",
     "output_type": "stream",
     "text": [
      "\u001b[A"
     ]
    },
    {
     "name": "stderr",
     "output_type": "stream",
     "text": [
      "\n"
     ]
    },
    {
     "name": "stderr",
     "output_type": "stream",
     "text": [
      "\r",
      " 80%|████████  | 4/5 [36:02<09:08, 548.41s/it]"
     ]
    },
    {
     "name": "stderr",
     "output_type": "stream",
     "text": [
      "\u001b[A"
     ]
    },
    {
     "name": "stderr",
     "output_type": "stream",
     "text": [
      "\n"
     ]
    },
    {
     "name": "stderr",
     "output_type": "stream",
     "text": [
      "\r",
      "100%|██████████| 5/5 [42:15<00:00, 495.69s/it]"
     ]
    },
    {
     "name": "stderr",
     "output_type": "stream",
     "text": [
      "\u001b[A"
     ]
    },
    {
     "name": "stderr",
     "output_type": "stream",
     "text": [
      "\r",
      "100%|██████████| 5/5 [42:15<00:00, 507.01s/it]"
     ]
    },
    {
     "name": "stderr",
     "output_type": "stream",
     "text": [
      "\n",
      "\r",
      " 17%|█▋        | 1/6 [42:15<3:31:15, 2535.05s/it]"
     ]
    },
    {
     "name": "stderr",
     "output_type": "stream",
     "text": [
      "\n"
     ]
    },
    {
     "name": "stderr",
     "output_type": "stream",
     "text": [
      "\r",
      "  0%|          | 0/5 [00:00<?, ?it/s]"
     ]
    },
    {
     "name": "stderr",
     "output_type": "stream",
     "text": [
      "\u001b[A"
     ]
    },
    {
     "name": "stderr",
     "output_type": "stream",
     "text": [
      "\n"
     ]
    },
    {
     "name": "stderr",
     "output_type": "stream",
     "text": [
      "\r",
      " 20%|██        | 1/5 [09:31<38:07, 571.81s/it]"
     ]
    },
    {
     "name": "stderr",
     "output_type": "stream",
     "text": [
      "\u001b[A"
     ]
    },
    {
     "name": "stderr",
     "output_type": "stream",
     "text": [
      "\n"
     ]
    },
    {
     "name": "stderr",
     "output_type": "stream",
     "text": [
      "\r",
      " 40%|████      | 2/5 [20:18<29:42, 594.19s/it]"
     ]
    },
    {
     "name": "stderr",
     "output_type": "stream",
     "text": [
      "\u001b[A"
     ]
    },
    {
     "name": "stderr",
     "output_type": "stream",
     "text": [
      "\n"
     ]
    },
    {
     "name": "stderr",
     "output_type": "stream",
     "text": [
      "\r",
      " 60%|██████    | 3/5 [30:14<19:49, 594.74s/it]"
     ]
    },
    {
     "name": "stderr",
     "output_type": "stream",
     "text": [
      "\u001b[A"
     ]
    },
    {
     "name": "stderr",
     "output_type": "stream",
     "text": [
      "\n"
     ]
    },
    {
     "name": "stderr",
     "output_type": "stream",
     "text": [
      "\r",
      " 80%|████████  | 4/5 [38:33<09:26, 566.19s/it]"
     ]
    },
    {
     "name": "stderr",
     "output_type": "stream",
     "text": [
      "\u001b[A"
     ]
    },
    {
     "name": "stderr",
     "output_type": "stream",
     "text": [
      "\n"
     ]
    },
    {
     "name": "stderr",
     "output_type": "stream",
     "text": [
      "\r",
      "100%|██████████| 5/5 [47:59<00:00, 566.04s/it]"
     ]
    },
    {
     "name": "stderr",
     "output_type": "stream",
     "text": [
      "\u001b[A"
     ]
    },
    {
     "name": "stderr",
     "output_type": "stream",
     "text": [
      "\r",
      "100%|██████████| 5/5 [47:59<00:00, 575.91s/it]"
     ]
    },
    {
     "name": "stderr",
     "output_type": "stream",
     "text": [
      "\n",
      "\r",
      " 33%|███▎      | 2/6 [1:30:14<2:55:53, 2638.40s/it]"
     ]
    },
    {
     "name": "stderr",
     "output_type": "stream",
     "text": [
      "\n"
     ]
    },
    {
     "name": "stderr",
     "output_type": "stream",
     "text": [
      "\r",
      "  0%|          | 0/5 [00:00<?, ?it/s]"
     ]
    },
    {
     "name": "stderr",
     "output_type": "stream",
     "text": [
      "\u001b[A"
     ]
    },
    {
     "name": "stderr",
     "output_type": "stream",
     "text": [
      "\n"
     ]
    },
    {
     "name": "stderr",
     "output_type": "stream",
     "text": [
      "\r",
      " 20%|██        | 1/5 [09:02<36:10, 542.62s/it]"
     ]
    },
    {
     "name": "stderr",
     "output_type": "stream",
     "text": [
      "\u001b[A"
     ]
    },
    {
     "name": "stderr",
     "output_type": "stream",
     "text": [
      "\n"
     ]
    },
    {
     "name": "stderr",
     "output_type": "stream",
     "text": [
      "\r",
      " 40%|████      | 2/5 [20:05<28:56, 578.82s/it]"
     ]
    },
    {
     "name": "stderr",
     "output_type": "stream",
     "text": [
      "\u001b[A"
     ]
    },
    {
     "name": "stderr",
     "output_type": "stream",
     "text": [
      "\n"
     ]
    },
    {
     "name": "stderr",
     "output_type": "stream",
     "text": [
      "\r",
      " 60%|██████    | 3/5 [29:44<19:17, 578.79s/it]"
     ]
    },
    {
     "name": "stderr",
     "output_type": "stream",
     "text": [
      "\u001b[A"
     ]
    },
    {
     "name": "stderr",
     "output_type": "stream",
     "text": [
      "\n"
     ]
    },
    {
     "name": "stderr",
     "output_type": "stream",
     "text": [
      "\r",
      " 80%|████████  | 4/5 [38:53<09:29, 569.72s/it]"
     ]
    },
    {
     "name": "stderr",
     "output_type": "stream",
     "text": [
      "\u001b[A"
     ]
    },
    {
     "name": "stderr",
     "output_type": "stream",
     "text": [
      "\n"
     ]
    },
    {
     "name": "stderr",
     "output_type": "stream",
     "text": [
      "\r",
      "100%|██████████| 5/5 [47:24<00:00, 552.22s/it]"
     ]
    },
    {
     "name": "stderr",
     "output_type": "stream",
     "text": [
      "\u001b[A"
     ]
    },
    {
     "name": "stderr",
     "output_type": "stream",
     "text": [
      "\r",
      "100%|██████████| 5/5 [47:24<00:00, 568.92s/it]"
     ]
    },
    {
     "name": "stderr",
     "output_type": "stream",
     "text": [
      "\n",
      "\r",
      " 50%|█████     | 3/6 [2:17:39<2:15:00, 2700.26s/it]"
     ]
    },
    {
     "name": "stderr",
     "output_type": "stream",
     "text": [
      "\n"
     ]
    },
    {
     "name": "stderr",
     "output_type": "stream",
     "text": [
      "\r",
      "  0%|          | 0/5 [00:00<?, ?it/s]"
     ]
    },
    {
     "name": "stderr",
     "output_type": "stream",
     "text": [
      "\u001b[A"
     ]
    },
    {
     "name": "stderr",
     "output_type": "stream",
     "text": [
      "\n"
     ]
    },
    {
     "name": "stderr",
     "output_type": "stream",
     "text": [
      "\r",
      " 20%|██        | 1/5 [07:16<29:04, 436.19s/it]"
     ]
    },
    {
     "name": "stderr",
     "output_type": "stream",
     "text": [
      "\u001b[A"
     ]
    },
    {
     "name": "stderr",
     "output_type": "stream",
     "text": [
      "\n"
     ]
    },
    {
     "name": "stderr",
     "output_type": "stream",
     "text": [
      "\r",
      " 40%|████      | 2/5 [15:50<22:58, 459.49s/it]"
     ]
    },
    {
     "name": "stderr",
     "output_type": "stream",
     "text": [
      "\u001b[A"
     ]
    },
    {
     "name": "stderr",
     "output_type": "stream",
     "text": [
      "\n"
     ]
    },
    {
     "name": "stderr",
     "output_type": "stream",
     "text": [
      "\r",
      " 60%|██████    | 3/5 [21:33<14:09, 424.64s/it]"
     ]
    },
    {
     "name": "stderr",
     "output_type": "stream",
     "text": [
      "\u001b[A"
     ]
    },
    {
     "name": "stderr",
     "output_type": "stream",
     "text": [
      "\n"
     ]
    },
    {
     "name": "stderr",
     "output_type": "stream",
     "text": [
      "\r",
      " 80%|████████  | 4/5 [28:17<06:58, 418.46s/it]"
     ]
    },
    {
     "name": "stderr",
     "output_type": "stream",
     "text": [
      "\u001b[A"
     ]
    },
    {
     "name": "stderr",
     "output_type": "stream",
     "text": [
      "\n"
     ]
    },
    {
     "name": "stderr",
     "output_type": "stream",
     "text": [
      "\r",
      "100%|██████████| 5/5 [36:50<00:00, 446.96s/it]"
     ]
    },
    {
     "name": "stderr",
     "output_type": "stream",
     "text": [
      "\u001b[A"
     ]
    },
    {
     "name": "stderr",
     "output_type": "stream",
     "text": [
      "\r",
      "100%|██████████| 5/5 [36:50<00:00, 442.18s/it]"
     ]
    },
    {
     "name": "stderr",
     "output_type": "stream",
     "text": [
      "\n",
      "\r",
      " 67%|██████▋   | 4/6 [2:54:30<1:25:06, 2553.47s/it]"
     ]
    },
    {
     "name": "stderr",
     "output_type": "stream",
     "text": [
      "\n"
     ]
    },
    {
     "name": "stderr",
     "output_type": "stream",
     "text": [
      "\r",
      "  0%|          | 0/5 [00:00<?, ?it/s]"
     ]
    },
    {
     "name": "stderr",
     "output_type": "stream",
     "text": [
      "\u001b[A"
     ]
    },
    {
     "name": "stderr",
     "output_type": "stream",
     "text": [
      "\n"
     ]
    },
    {
     "name": "stderr",
     "output_type": "stream",
     "text": [
      "\r",
      " 20%|██        | 1/5 [08:45<35:02, 525.61s/it]"
     ]
    },
    {
     "name": "stderr",
     "output_type": "stream",
     "text": [
      "\u001b[A"
     ]
    },
    {
     "name": "stderr",
     "output_type": "stream",
     "text": [
      "\n"
     ]
    },
    {
     "name": "stderr",
     "output_type": "stream",
     "text": [
      "\r",
      " 40%|████      | 2/5 [15:58<24:53, 497.75s/it]"
     ]
    },
    {
     "name": "stderr",
     "output_type": "stream",
     "text": [
      "\u001b[A"
     ]
    },
    {
     "name": "stderr",
     "output_type": "stream",
     "text": [
      "\n"
     ]
    },
    {
     "name": "stderr",
     "output_type": "stream",
     "text": [
      "\r",
      " 60%|██████    | 3/5 [25:34<17:22, 521.28s/it]"
     ]
    },
    {
     "name": "stderr",
     "output_type": "stream",
     "text": [
      "\u001b[A"
     ]
    },
    {
     "name": "stderr",
     "output_type": "stream",
     "text": [
      "\n"
     ]
    },
    {
     "name": "stderr",
     "output_type": "stream",
     "text": [
      "\r",
      " 80%|████████  | 4/5 [35:49<09:09, 549.47s/it]"
     ]
    },
    {
     "name": "stderr",
     "output_type": "stream",
     "text": [
      "\u001b[A"
     ]
    },
    {
     "name": "stderr",
     "output_type": "stream",
     "text": [
      "\n"
     ]
    },
    {
     "name": "stderr",
     "output_type": "stream",
     "text": [
      "\r",
      "100%|██████████| 5/5 [45:31<00:00, 559.24s/it]"
     ]
    },
    {
     "name": "stderr",
     "output_type": "stream",
     "text": [
      "\u001b[A"
     ]
    },
    {
     "name": "stderr",
     "output_type": "stream",
     "text": [
      "\r",
      "100%|██████████| 5/5 [45:31<00:00, 546.37s/it]"
     ]
    },
    {
     "name": "stderr",
     "output_type": "stream",
     "text": [
      "\n",
      "\r",
      " 83%|████████▎ | 5/6 [3:40:02<43:26, 2606.99s/it]  "
     ]
    },
    {
     "name": "stderr",
     "output_type": "stream",
     "text": [
      "\n"
     ]
    },
    {
     "name": "stderr",
     "output_type": "stream",
     "text": [
      "\r",
      "  0%|          | 0/5 [00:00<?, ?it/s]"
     ]
    },
    {
     "name": "stderr",
     "output_type": "stream",
     "text": [
      "\u001b[A"
     ]
    },
    {
     "name": "stderr",
     "output_type": "stream",
     "text": [
      "\n"
     ]
    },
    {
     "name": "stderr",
     "output_type": "stream",
     "text": [
      "\r",
      " 20%|██        | 1/5 [07:33<30:13, 453.35s/it]"
     ]
    },
    {
     "name": "stderr",
     "output_type": "stream",
     "text": [
      "\u001b[A"
     ]
    },
    {
     "name": "stderr",
     "output_type": "stream",
     "text": [
      "\n"
     ]
    },
    {
     "name": "stderr",
     "output_type": "stream",
     "text": [
      "\r",
      " 40%|████      | 2/5 [14:46<22:22, 447.35s/it]"
     ]
    },
    {
     "name": "stderr",
     "output_type": "stream",
     "text": [
      "\u001b[A"
     ]
    },
    {
     "name": "stderr",
     "output_type": "stream",
     "text": [
      "\n"
     ]
    },
    {
     "name": "stderr",
     "output_type": "stream",
     "text": [
      "\r",
      " 60%|██████    | 3/5 [21:54<14:42, 441.42s/it]"
     ]
    },
    {
     "name": "stderr",
     "output_type": "stream",
     "text": [
      "\u001b[A"
     ]
    },
    {
     "name": "stderr",
     "output_type": "stream",
     "text": [
      "\n"
     ]
    },
    {
     "name": "stderr",
     "output_type": "stream",
     "text": [
      "\r",
      " 80%|████████  | 4/5 [29:11<07:20, 440.22s/it]"
     ]
    },
    {
     "name": "stderr",
     "output_type": "stream",
     "text": [
      "\u001b[A"
     ]
    },
    {
     "name": "stderr",
     "output_type": "stream",
     "text": [
      "\n"
     ]
    },
    {
     "name": "stderr",
     "output_type": "stream",
     "text": [
      "\r",
      "100%|██████████| 5/5 [36:11<00:00, 434.03s/it]"
     ]
    },
    {
     "name": "stderr",
     "output_type": "stream",
     "text": [
      "\u001b[A"
     ]
    },
    {
     "name": "stderr",
     "output_type": "stream",
     "text": [
      "\r",
      "100%|██████████| 5/5 [36:11<00:00, 434.27s/it]"
     ]
    },
    {
     "name": "stderr",
     "output_type": "stream",
     "text": [
      "\n",
      "\r",
      " 83%|████████▎ | 5/6 [4:16:13<51:14, 3074.68s/it]"
     ]
    },
    {
     "name": "stderr",
     "output_type": "stream",
     "text": [
      "\n"
     ]
    }
   ],
   "source": [
    "results = {}\n",
    "\n",
    "for shuffle_method in SHUFFLE_METHODS:\n",
    "    results[shuffle_method] = {}\n",
    "    \n",
    "    for (model_tag, _), dataset_tag in zip(TAGS_COMMANDS.items(), tqdm(DATASETS_TAGS)):\n",
    "        model_paths = get_model_path(model_tag, filter_='all', model_base_path=MODEL_BASE_PATH)\n",
    "\n",
    "\n",
    "        results[shuffle_method][model_tag] = [run_spectral_cluster(path / f'{dataset_tag}-mlp-pruned-weights.pckl',\n",
    "                                               n_samples=N_SHUFFLES,\n",
    "                                                n_clusters=N_CLUSTERS,\n",
    "                                               shuffle_method=shuffle_method)\n",
    "            for path in tqdm(model_paths[-N_TRAINED_MODELS:])]"
   ]
  },
  {
   "cell_type": "code",
   "execution_count": 6,
   "metadata": {
    "execution": {
     "iopub.execute_input": "2020-10-07T00:03:58.626203Z",
     "iopub.status.busy": "2020-10-07T00:03:58.625257Z",
     "iopub.status.idle": "2020-10-07T00:03:58.676776Z",
     "shell.execute_reply": "2020-10-07T00:03:58.677677Z"
    },
    "papermill": {
     "duration": 0.16711,
     "end_time": "2020-10-07T00:03:58.677926",
     "exception": false,
     "start_time": "2020-10-07T00:03:58.510816",
     "status": "completed"
    },
    "tags": []
   },
   "outputs": [],
   "source": [
    "def build_all_models_per_shuffle_method_df(single_shuffle_method_results):\n",
    "    model_dfs = []\n",
    "\n",
    "    for model_tag, model_results in single_shuffle_method_results.items():\n",
    "        _, metrics  = zip(*model_results)\n",
    "        model_dfs.append(pd.DataFrame(metrics).assign(model=model_tag))\n",
    "\n",
    "    df = pd.concat(model_dfs, ignore_index=True)\n",
    "\n",
    "    df['is_sig'] = np.isclose(df['percentile'], 1 / (N_SHUFFLES + 1))\n",
    "    \n",
    "    return df\n",
    "\n",
    "layer_df = build_all_models_per_shuffle_method_df(results['layer'])\n",
    "# layer_nonzero_df = build_all_models_per_shuffle_method_df(results['layer_nonzero'])"
   ]
  },
  {
   "cell_type": "code",
   "execution_count": 7,
   "metadata": {
    "execution": {
     "iopub.execute_input": "2020-10-07T00:03:59.349558Z",
     "iopub.status.busy": "2020-10-07T00:03:59.348697Z",
     "iopub.status.idle": "2020-10-07T00:03:59.365040Z",
     "shell.execute_reply": "2020-10-07T00:03:59.365816Z"
    },
    "papermill": {
     "duration": 0.437524,
     "end_time": "2020-10-07T00:03:59.366072",
     "exception": false,
     "start_time": "2020-10-07T00:03:58.928548",
     "status": "completed"
    },
    "tags": []
   },
   "outputs": [
    {
     "data": {
      "text/html": [
       "<div>\n",
       "<style scoped>\n",
       "    .dataframe tbody tr th:only-of-type {\n",
       "        vertical-align: middle;\n",
       "    }\n",
       "\n",
       "    .dataframe tbody tr th {\n",
       "        vertical-align: top;\n",
       "    }\n",
       "\n",
       "    .dataframe thead th {\n",
       "        text-align: right;\n",
       "    }\n",
       "</style>\n",
       "<table border=\"1\" class=\"dataframe\">\n",
       "  <thead>\n",
       "    <tr style=\"text-align: right;\">\n",
       "      <th></th>\n",
       "      <th>ave_in_out</th>\n",
       "      <th>mean</th>\n",
       "      <th>n_samples</th>\n",
       "      <th>ncut</th>\n",
       "      <th>percentile</th>\n",
       "      <th>stdev</th>\n",
       "      <th>test_acc</th>\n",
       "      <th>test_loss</th>\n",
       "      <th>train_acc</th>\n",
       "      <th>train_loss</th>\n",
       "      <th>z_score</th>\n",
       "      <th>model</th>\n",
       "      <th>is_sig</th>\n",
       "    </tr>\n",
       "  </thead>\n",
       "  <tbody>\n",
       "    <tr>\n",
       "      <th>0</th>\n",
       "      <td>0.327202</td>\n",
       "      <td>7.644785</td>\n",
       "      <td>50</td>\n",
       "      <td>7.253364</td>\n",
       "      <td>0.019608</td>\n",
       "      <td>0.108187</td>\n",
       "      <td>1.0</td>\n",
       "      <td>0.000026</td>\n",
       "      <td>1.0</td>\n",
       "      <td>0.000011</td>\n",
       "      <td>-3.617994</td>\n",
       "      <td>LINE</td>\n",
       "      <td>True</td>\n",
       "    </tr>\n",
       "    <tr>\n",
       "      <th>1</th>\n",
       "      <td>0.313899</td>\n",
       "      <td>7.783066</td>\n",
       "      <td>50</td>\n",
       "      <td>7.371920</td>\n",
       "      <td>0.019608</td>\n",
       "      <td>0.106990</td>\n",
       "      <td>1.0</td>\n",
       "      <td>0.000036</td>\n",
       "      <td>1.0</td>\n",
       "      <td>0.000022</td>\n",
       "      <td>-3.842830</td>\n",
       "      <td>LINE</td>\n",
       "      <td>True</td>\n",
       "    </tr>\n",
       "    <tr>\n",
       "      <th>2</th>\n",
       "      <td>0.315323</td>\n",
       "      <td>7.667933</td>\n",
       "      <td>50</td>\n",
       "      <td>7.359045</td>\n",
       "      <td>0.019608</td>\n",
       "      <td>0.122370</td>\n",
       "      <td>1.0</td>\n",
       "      <td>0.000039</td>\n",
       "      <td>1.0</td>\n",
       "      <td>0.000027</td>\n",
       "      <td>-2.524223</td>\n",
       "      <td>LINE</td>\n",
       "      <td>True</td>\n",
       "    </tr>\n",
       "    <tr>\n",
       "      <th>3</th>\n",
       "      <td>0.298867</td>\n",
       "      <td>7.708244</td>\n",
       "      <td>50</td>\n",
       "      <td>7.510642</td>\n",
       "      <td>0.019608</td>\n",
       "      <td>0.096152</td>\n",
       "      <td>1.0</td>\n",
       "      <td>0.000048</td>\n",
       "      <td>1.0</td>\n",
       "      <td>0.000022</td>\n",
       "      <td>-2.055100</td>\n",
       "      <td>LINE</td>\n",
       "      <td>True</td>\n",
       "    </tr>\n",
       "    <tr>\n",
       "      <th>4</th>\n",
       "      <td>0.320602</td>\n",
       "      <td>7.910620</td>\n",
       "      <td>50</td>\n",
       "      <td>7.311702</td>\n",
       "      <td>0.019608</td>\n",
       "      <td>0.082062</td>\n",
       "      <td>1.0</td>\n",
       "      <td>0.000181</td>\n",
       "      <td>1.0</td>\n",
       "      <td>0.000171</td>\n",
       "      <td>-7.298357</td>\n",
       "      <td>LINE</td>\n",
       "      <td>True</td>\n",
       "    </tr>\n",
       "  </tbody>\n",
       "</table>\n",
       "</div>"
      ],
      "text/plain": [
       "   ave_in_out      mean  n_samples      ncut  percentile     stdev  test_acc  \\\n",
       "0    0.327202  7.644785         50  7.253364    0.019608  0.108187       1.0   \n",
       "1    0.313899  7.783066         50  7.371920    0.019608  0.106990       1.0   \n",
       "2    0.315323  7.667933         50  7.359045    0.019608  0.122370       1.0   \n",
       "3    0.298867  7.708244         50  7.510642    0.019608  0.096152       1.0   \n",
       "4    0.320602  7.910620         50  7.311702    0.019608  0.082062       1.0   \n",
       "\n",
       "   test_loss  train_acc  train_loss   z_score model  is_sig  \n",
       "0   0.000026        1.0    0.000011 -3.617994  LINE    True  \n",
       "1   0.000036        1.0    0.000022 -3.842830  LINE    True  \n",
       "2   0.000039        1.0    0.000027 -2.524223  LINE    True  \n",
       "3   0.000048        1.0    0.000022 -2.055100  LINE    True  \n",
       "4   0.000181        1.0    0.000171 -7.298357  LINE    True  "
      ]
     },
     "execution_count": 7,
     "metadata": {},
     "output_type": "execute_result"
    }
   ],
   "source": [
    "layer_df.head()"
   ]
  },
  {
   "cell_type": "code",
   "execution_count": 8,
   "metadata": {
    "execution": {
     "iopub.execute_input": "2020-10-07T00:03:59.849450Z",
     "iopub.status.busy": "2020-10-07T00:03:59.847874Z",
     "iopub.status.idle": "2020-10-07T00:03:59.850270Z",
     "shell.execute_reply": "2020-10-07T00:03:59.848642Z"
    },
    "papermill": {
     "duration": 0.335144,
     "end_time": "2020-10-07T00:03:59.850450",
     "exception": false,
     "start_time": "2020-10-07T00:03:59.515306",
     "status": "completed"
    },
    "tags": []
   },
   "outputs": [],
   "source": [
    "# layer_nonzero_df.head()"
   ]
  },
  {
   "cell_type": "code",
   "execution_count": 9,
   "metadata": {
    "execution": {
     "iopub.execute_input": "2020-10-07T00:04:00.610505Z",
     "iopub.status.busy": "2020-10-07T00:04:00.609547Z",
     "iopub.status.idle": "2020-10-07T00:04:00.612784Z",
     "shell.execute_reply": "2020-10-07T00:04:00.613509Z"
    },
    "papermill": {
     "duration": 0.176061,
     "end_time": "2020-10-07T00:04:00.613736",
     "exception": false,
     "start_time": "2020-10-07T00:04:00.437675",
     "status": "completed"
    },
    "tags": []
   },
   "outputs": [
    {
     "data": {
      "text/plain": [
       "\"\\nMODEL_DATA_COLUMNS = ['model',\\n                      'train_acc', 'train_loss', 'test_acc', 'test_loss',\\n                      'ncut', 'ave_in_out',\\n                      'n_samples']\\n\\nassert layer_df[MODEL_DATA_COLUMNS].equals(layer_nonzero_df[MODEL_DATA_COLUMNS])\\n\\nSHUFFLING_DATA_COLUMNS = ['mean', 'percentile', 'stdev', 'z_score', 'is_sig']\\n\\ntwo_shuffling_method_df = pd.merge(layer_df[SHUFFLING_DATA_COLUMNS],\\n                                     layer_nonzero_df[SHUFFLING_DATA_COLUMNS],\\n                                     left_index=True, right_index=True,\\n                                     suffixes=('_layer', '_layer_nonzero'))\\n\\nassert layer_df[MODEL_DATA_COLUMNS].equals(layer_nonzero_df[MODEL_DATA_COLUMNS])\\n\\ndf = pd.merge(layer_df[MODEL_DATA_COLUMNS], two_shuffling_method_df,\\n              left_index=True, right_index=True,)\\n              \\ndf['cohen_d'] = df.apply(lambda r: cohen_d_stats(r['mean_layer'], r['stdev_layer'], r['n_samples'],\\n                                 r['mean_layer_nonzero'], r['stdev_layer_nonzero'], r['n_samples']),\\n                                axis=1)\\n\""
      ]
     },
     "execution_count": 9,
     "metadata": {},
     "output_type": "execute_result"
    }
   ],
   "source": [
    "\"\"\"\n",
    "MODEL_DATA_COLUMNS = ['model',\n",
    "                      'train_acc', 'train_loss', 'test_acc', 'test_loss',\n",
    "                      'ncut', 'ave_in_out',\n",
    "                      'n_samples']\n",
    "\n",
    "assert layer_df[MODEL_DATA_COLUMNS].equals(layer_nonzero_df[MODEL_DATA_COLUMNS])\n",
    "\n",
    "SHUFFLING_DATA_COLUMNS = ['mean', 'percentile', 'stdev', 'z_score', 'is_sig']\n",
    "\n",
    "two_shuffling_method_df = pd.merge(layer_df[SHUFFLING_DATA_COLUMNS],\n",
    "                                     layer_nonzero_df[SHUFFLING_DATA_COLUMNS],\n",
    "                                     left_index=True, right_index=True,\n",
    "                                     suffixes=('_layer', '_layer_nonzero'))\n",
    "\n",
    "assert layer_df[MODEL_DATA_COLUMNS].equals(layer_nonzero_df[MODEL_DATA_COLUMNS])\n",
    "\n",
    "df = pd.merge(layer_df[MODEL_DATA_COLUMNS], two_shuffling_method_df,\n",
    "              left_index=True, right_index=True,)\n",
    "              \n",
    "df['cohen_d'] = df.apply(lambda r: cohen_d_stats(r['mean_layer'], r['stdev_layer'], r['n_samples'],\n",
    "                                 r['mean_layer_nonzero'], r['stdev_layer_nonzero'], r['n_samples']),\n",
    "                                axis=1)\n",
    "\"\"\""
   ]
  },
  {
   "cell_type": "code",
   "execution_count": 10,
   "metadata": {
    "execution": {
     "iopub.execute_input": "2020-10-07T00:04:00.906725Z",
     "iopub.status.busy": "2020-10-07T00:04:00.905680Z",
     "iopub.status.idle": "2020-10-07T00:04:00.958422Z",
     "shell.execute_reply": "2020-10-07T00:04:00.959240Z"
    },
    "papermill": {
     "duration": 0.234956,
     "end_time": "2020-10-07T00:04:00.959516",
     "exception": false,
     "start_time": "2020-10-07T00:04:00.724560",
     "status": "completed"
    },
    "tags": []
   },
   "outputs": [
    {
     "data": {
      "text/html": [
       "<div>\n",
       "<style scoped>\n",
       "    .dataframe tbody tr th:only-of-type {\n",
       "        vertical-align: middle;\n",
       "    }\n",
       "\n",
       "    .dataframe tbody tr th {\n",
       "        vertical-align: top;\n",
       "    }\n",
       "\n",
       "    .dataframe thead th {\n",
       "        text-align: right;\n",
       "    }\n",
       "</style>\n",
       "<table border=\"1\" class=\"dataframe\">\n",
       "  <thead>\n",
       "    <tr style=\"text-align: right;\">\n",
       "      <th></th>\n",
       "      <th>ave_in_out</th>\n",
       "      <th>mean</th>\n",
       "      <th>n_samples</th>\n",
       "      <th>ncut</th>\n",
       "      <th>percentile</th>\n",
       "      <th>stdev</th>\n",
       "      <th>test_acc</th>\n",
       "      <th>test_loss</th>\n",
       "      <th>train_acc</th>\n",
       "      <th>train_loss</th>\n",
       "      <th>z_score</th>\n",
       "      <th>model</th>\n",
       "      <th>is_sig</th>\n",
       "    </tr>\n",
       "  </thead>\n",
       "  <tbody>\n",
       "    <tr>\n",
       "      <th>0</th>\n",
       "      <td>0.327202</td>\n",
       "      <td>7.644785</td>\n",
       "      <td>50</td>\n",
       "      <td>7.253364</td>\n",
       "      <td>0.019608</td>\n",
       "      <td>0.108187</td>\n",
       "      <td>1.000000</td>\n",
       "      <td>0.000026</td>\n",
       "      <td>1.000000</td>\n",
       "      <td>0.000011</td>\n",
       "      <td>-3.617994</td>\n",
       "      <td>LINE</td>\n",
       "      <td>True</td>\n",
       "    </tr>\n",
       "    <tr>\n",
       "      <th>1</th>\n",
       "      <td>0.313899</td>\n",
       "      <td>7.783066</td>\n",
       "      <td>50</td>\n",
       "      <td>7.371920</td>\n",
       "      <td>0.019608</td>\n",
       "      <td>0.106990</td>\n",
       "      <td>1.000000</td>\n",
       "      <td>0.000036</td>\n",
       "      <td>1.000000</td>\n",
       "      <td>0.000022</td>\n",
       "      <td>-3.842830</td>\n",
       "      <td>LINE</td>\n",
       "      <td>True</td>\n",
       "    </tr>\n",
       "    <tr>\n",
       "      <th>2</th>\n",
       "      <td>0.315323</td>\n",
       "      <td>7.667933</td>\n",
       "      <td>50</td>\n",
       "      <td>7.359045</td>\n",
       "      <td>0.019608</td>\n",
       "      <td>0.122370</td>\n",
       "      <td>1.000000</td>\n",
       "      <td>0.000039</td>\n",
       "      <td>1.000000</td>\n",
       "      <td>0.000027</td>\n",
       "      <td>-2.524223</td>\n",
       "      <td>LINE</td>\n",
       "      <td>True</td>\n",
       "    </tr>\n",
       "    <tr>\n",
       "      <th>3</th>\n",
       "      <td>0.298867</td>\n",
       "      <td>7.708244</td>\n",
       "      <td>50</td>\n",
       "      <td>7.510642</td>\n",
       "      <td>0.019608</td>\n",
       "      <td>0.096152</td>\n",
       "      <td>1.000000</td>\n",
       "      <td>0.000048</td>\n",
       "      <td>1.000000</td>\n",
       "      <td>0.000022</td>\n",
       "      <td>-2.055100</td>\n",
       "      <td>LINE</td>\n",
       "      <td>True</td>\n",
       "    </tr>\n",
       "    <tr>\n",
       "      <th>4</th>\n",
       "      <td>0.320602</td>\n",
       "      <td>7.910620</td>\n",
       "      <td>50</td>\n",
       "      <td>7.311702</td>\n",
       "      <td>0.019608</td>\n",
       "      <td>0.082062</td>\n",
       "      <td>1.000000</td>\n",
       "      <td>0.000181</td>\n",
       "      <td>1.000000</td>\n",
       "      <td>0.000171</td>\n",
       "      <td>-7.298357</td>\n",
       "      <td>LINE</td>\n",
       "      <td>True</td>\n",
       "    </tr>\n",
       "    <tr>\n",
       "      <th>5</th>\n",
       "      <td>0.397428</td>\n",
       "      <td>8.892256</td>\n",
       "      <td>50</td>\n",
       "      <td>6.685774</td>\n",
       "      <td>0.019608</td>\n",
       "      <td>0.044247</td>\n",
       "      <td>0.295200</td>\n",
       "      <td>2.996638</td>\n",
       "      <td>0.903183</td>\n",
       "      <td>0.253735</td>\n",
       "      <td>-49.867484</td>\n",
       "      <td>LINE+DROPOUT</td>\n",
       "      <td>True</td>\n",
       "    </tr>\n",
       "    <tr>\n",
       "      <th>6</th>\n",
       "      <td>0.358717</td>\n",
       "      <td>8.891767</td>\n",
       "      <td>50</td>\n",
       "      <td>6.987170</td>\n",
       "      <td>0.019608</td>\n",
       "      <td>0.038094</td>\n",
       "      <td>0.293900</td>\n",
       "      <td>5.397707</td>\n",
       "      <td>0.920683</td>\n",
       "      <td>0.206457</td>\n",
       "      <td>-49.997865</td>\n",
       "      <td>LINE+DROPOUT</td>\n",
       "      <td>True</td>\n",
       "    </tr>\n",
       "    <tr>\n",
       "      <th>7</th>\n",
       "      <td>0.372457</td>\n",
       "      <td>8.885253</td>\n",
       "      <td>50</td>\n",
       "      <td>6.877133</td>\n",
       "      <td>0.019608</td>\n",
       "      <td>0.032116</td>\n",
       "      <td>0.303200</td>\n",
       "      <td>5.312357</td>\n",
       "      <td>0.924333</td>\n",
       "      <td>0.204587</td>\n",
       "      <td>-62.527534</td>\n",
       "      <td>LINE+DROPOUT</td>\n",
       "      <td>True</td>\n",
       "    </tr>\n",
       "    <tr>\n",
       "      <th>8</th>\n",
       "      <td>0.354684</td>\n",
       "      <td>8.885730</td>\n",
       "      <td>50</td>\n",
       "      <td>7.020136</td>\n",
       "      <td>0.019608</td>\n",
       "      <td>0.032859</td>\n",
       "      <td>0.293900</td>\n",
       "      <td>4.985370</td>\n",
       "      <td>0.910950</td>\n",
       "      <td>0.230818</td>\n",
       "      <td>-56.774956</td>\n",
       "      <td>LINE+DROPOUT</td>\n",
       "      <td>True</td>\n",
       "    </tr>\n",
       "    <tr>\n",
       "      <th>9</th>\n",
       "      <td>0.397984</td>\n",
       "      <td>8.876844</td>\n",
       "      <td>50</td>\n",
       "      <td>6.681631</td>\n",
       "      <td>0.019608</td>\n",
       "      <td>0.038527</td>\n",
       "      <td>0.293700</td>\n",
       "      <td>4.942878</td>\n",
       "      <td>0.902517</td>\n",
       "      <td>0.250102</td>\n",
       "      <td>-56.978968</td>\n",
       "      <td>LINE+DROPOUT</td>\n",
       "      <td>True</td>\n",
       "    </tr>\n",
       "    <tr>\n",
       "      <th>10</th>\n",
       "      <td>0.262122</td>\n",
       "      <td>8.781821</td>\n",
       "      <td>50</td>\n",
       "      <td>7.872756</td>\n",
       "      <td>0.019608</td>\n",
       "      <td>0.081341</td>\n",
       "      <td>0.991350</td>\n",
       "      <td>0.055174</td>\n",
       "      <td>1.000000</td>\n",
       "      <td>0.000222</td>\n",
       "      <td>-11.175960</td>\n",
       "      <td>LINE-MNIST</td>\n",
       "      <td>True</td>\n",
       "    </tr>\n",
       "    <tr>\n",
       "      <th>11</th>\n",
       "      <td>0.248972</td>\n",
       "      <td>8.866847</td>\n",
       "      <td>50</td>\n",
       "      <td>8.010980</td>\n",
       "      <td>0.019608</td>\n",
       "      <td>0.054647</td>\n",
       "      <td>0.990450</td>\n",
       "      <td>0.063653</td>\n",
       "      <td>0.999950</td>\n",
       "      <td>0.000248</td>\n",
       "      <td>-15.661761</td>\n",
       "      <td>LINE-MNIST</td>\n",
       "      <td>True</td>\n",
       "    </tr>\n",
       "    <tr>\n",
       "      <th>12</th>\n",
       "      <td>0.255602</td>\n",
       "      <td>9.022118</td>\n",
       "      <td>50</td>\n",
       "      <td>7.940688</td>\n",
       "      <td>0.019608</td>\n",
       "      <td>0.051410</td>\n",
       "      <td>0.990050</td>\n",
       "      <td>0.066750</td>\n",
       "      <td>0.999967</td>\n",
       "      <td>0.000209</td>\n",
       "      <td>-21.035385</td>\n",
       "      <td>LINE-MNIST</td>\n",
       "      <td>True</td>\n",
       "    </tr>\n",
       "    <tr>\n",
       "      <th>13</th>\n",
       "      <td>0.263361</td>\n",
       "      <td>9.176513</td>\n",
       "      <td>50</td>\n",
       "      <td>7.859977</td>\n",
       "      <td>0.019608</td>\n",
       "      <td>0.043159</td>\n",
       "      <td>0.990850</td>\n",
       "      <td>0.055603</td>\n",
       "      <td>1.000000</td>\n",
       "      <td>0.000167</td>\n",
       "      <td>-30.504072</td>\n",
       "      <td>LINE-MNIST</td>\n",
       "      <td>True</td>\n",
       "    </tr>\n",
       "    <tr>\n",
       "      <th>14</th>\n",
       "      <td>0.241830</td>\n",
       "      <td>9.117952</td>\n",
       "      <td>50</td>\n",
       "      <td>8.088103</td>\n",
       "      <td>0.019608</td>\n",
       "      <td>0.031715</td>\n",
       "      <td>0.991200</td>\n",
       "      <td>0.056069</td>\n",
       "      <td>1.000000</td>\n",
       "      <td>0.000075</td>\n",
       "      <td>-32.472029</td>\n",
       "      <td>LINE-MNIST</td>\n",
       "      <td>True</td>\n",
       "    </tr>\n",
       "    <tr>\n",
       "      <th>15</th>\n",
       "      <td>0.230472</td>\n",
       "      <td>8.445978</td>\n",
       "      <td>50</td>\n",
       "      <td>8.213871</td>\n",
       "      <td>0.019608</td>\n",
       "      <td>0.059778</td>\n",
       "      <td>0.993997</td>\n",
       "      <td>0.035791</td>\n",
       "      <td>1.000000</td>\n",
       "      <td>0.000015</td>\n",
       "      <td>-3.882833</td>\n",
       "      <td>LINE-MNIST-SEPARATED</td>\n",
       "      <td>True</td>\n",
       "    </tr>\n",
       "    <tr>\n",
       "      <th>16</th>\n",
       "      <td>0.235532</td>\n",
       "      <td>8.572652</td>\n",
       "      <td>50</td>\n",
       "      <td>8.157366</td>\n",
       "      <td>0.019608</td>\n",
       "      <td>0.055098</td>\n",
       "      <td>0.993590</td>\n",
       "      <td>0.039643</td>\n",
       "      <td>1.000000</td>\n",
       "      <td>0.000011</td>\n",
       "      <td>-7.537286</td>\n",
       "      <td>LINE-MNIST-SEPARATED</td>\n",
       "      <td>True</td>\n",
       "    </tr>\n",
       "    <tr>\n",
       "      <th>17</th>\n",
       "      <td>0.239758</td>\n",
       "      <td>8.326703</td>\n",
       "      <td>50</td>\n",
       "      <td>8.110761</td>\n",
       "      <td>0.039216</td>\n",
       "      <td>0.071833</td>\n",
       "      <td>0.993793</td>\n",
       "      <td>0.035616</td>\n",
       "      <td>1.000000</td>\n",
       "      <td>0.000014</td>\n",
       "      <td>-3.006168</td>\n",
       "      <td>LINE-MNIST-SEPARATED</td>\n",
       "      <td>False</td>\n",
       "    </tr>\n",
       "    <tr>\n",
       "      <th>18</th>\n",
       "      <td>0.229603</td>\n",
       "      <td>8.428510</td>\n",
       "      <td>50</td>\n",
       "      <td>8.223649</td>\n",
       "      <td>0.019608</td>\n",
       "      <td>0.091566</td>\n",
       "      <td>0.993590</td>\n",
       "      <td>0.043474</td>\n",
       "      <td>1.000000</td>\n",
       "      <td>0.000006</td>\n",
       "      <td>-2.237310</td>\n",
       "      <td>LINE-MNIST-SEPARATED</td>\n",
       "      <td>True</td>\n",
       "    </tr>\n",
       "    <tr>\n",
       "      <th>19</th>\n",
       "      <td>0.197654</td>\n",
       "      <td>8.712743</td>\n",
       "      <td>50</td>\n",
       "      <td>8.600256</td>\n",
       "      <td>0.039216</td>\n",
       "      <td>0.045851</td>\n",
       "      <td>0.993895</td>\n",
       "      <td>0.040035</td>\n",
       "      <td>1.000000</td>\n",
       "      <td>0.000013</td>\n",
       "      <td>-2.453316</td>\n",
       "      <td>LINE-MNIST-SEPARATED</td>\n",
       "      <td>False</td>\n",
       "    </tr>\n",
       "    <tr>\n",
       "      <th>20</th>\n",
       "      <td>0.346382</td>\n",
       "      <td>8.766149</td>\n",
       "      <td>50</td>\n",
       "      <td>7.089001</td>\n",
       "      <td>0.019608</td>\n",
       "      <td>0.042957</td>\n",
       "      <td>0.631550</td>\n",
       "      <td>1.433460</td>\n",
       "      <td>0.868875</td>\n",
       "      <td>0.391745</td>\n",
       "      <td>-39.042144</td>\n",
       "      <td>LINE-MNIST+DROPOUT</td>\n",
       "      <td>True</td>\n",
       "    </tr>\n",
       "    <tr>\n",
       "      <th>21</th>\n",
       "      <td>0.377102</td>\n",
       "      <td>8.697580</td>\n",
       "      <td>50</td>\n",
       "      <td>6.840708</td>\n",
       "      <td>0.019608</td>\n",
       "      <td>0.040652</td>\n",
       "      <td>0.659650</td>\n",
       "      <td>1.459593</td>\n",
       "      <td>0.873825</td>\n",
       "      <td>0.379827</td>\n",
       "      <td>-45.677545</td>\n",
       "      <td>LINE-MNIST+DROPOUT</td>\n",
       "      <td>True</td>\n",
       "    </tr>\n",
       "    <tr>\n",
       "      <th>22</th>\n",
       "      <td>0.370718</td>\n",
       "      <td>8.657248</td>\n",
       "      <td>50</td>\n",
       "      <td>6.890867</td>\n",
       "      <td>0.019608</td>\n",
       "      <td>0.063645</td>\n",
       "      <td>0.630200</td>\n",
       "      <td>2.087700</td>\n",
       "      <td>0.866225</td>\n",
       "      <td>0.412834</td>\n",
       "      <td>-27.753658</td>\n",
       "      <td>LINE-MNIST+DROPOUT</td>\n",
       "      <td>True</td>\n",
       "    </tr>\n",
       "    <tr>\n",
       "      <th>23</th>\n",
       "      <td>0.368275</td>\n",
       "      <td>8.724794</td>\n",
       "      <td>50</td>\n",
       "      <td>6.910252</td>\n",
       "      <td>0.019608</td>\n",
       "      <td>0.055847</td>\n",
       "      <td>0.630300</td>\n",
       "      <td>1.639292</td>\n",
       "      <td>0.873483</td>\n",
       "      <td>0.391841</td>\n",
       "      <td>-32.491371</td>\n",
       "      <td>LINE-MNIST+DROPOUT</td>\n",
       "      <td>True</td>\n",
       "    </tr>\n",
       "    <tr>\n",
       "      <th>24</th>\n",
       "      <td>0.365523</td>\n",
       "      <td>8.657273</td>\n",
       "      <td>50</td>\n",
       "      <td>6.932224</td>\n",
       "      <td>0.019608</td>\n",
       "      <td>0.050081</td>\n",
       "      <td>0.632950</td>\n",
       "      <td>1.712393</td>\n",
       "      <td>0.881842</td>\n",
       "      <td>0.369013</td>\n",
       "      <td>-34.445154</td>\n",
       "      <td>LINE-MNIST+DROPOUT</td>\n",
       "      <td>True</td>\n",
       "    </tr>\n",
       "    <tr>\n",
       "      <th>25</th>\n",
       "      <td>0.269154</td>\n",
       "      <td>9.036839</td>\n",
       "      <td>50</td>\n",
       "      <td>7.800782</td>\n",
       "      <td>0.019608</td>\n",
       "      <td>0.027096</td>\n",
       "      <td>0.896317</td>\n",
       "      <td>0.446133</td>\n",
       "      <td>0.985179</td>\n",
       "      <td>0.053819</td>\n",
       "      <td>-45.617161</td>\n",
       "      <td>LINE-MNIST-SEPARATED+DROPOUT</td>\n",
       "      <td>True</td>\n",
       "    </tr>\n",
       "    <tr>\n",
       "      <th>26</th>\n",
       "      <td>0.273358</td>\n",
       "      <td>9.007828</td>\n",
       "      <td>50</td>\n",
       "      <td>7.758378</td>\n",
       "      <td>0.019608</td>\n",
       "      <td>0.035947</td>\n",
       "      <td>0.894078</td>\n",
       "      <td>0.580593</td>\n",
       "      <td>0.983465</td>\n",
       "      <td>0.057267</td>\n",
       "      <td>-34.758453</td>\n",
       "      <td>LINE-MNIST-SEPARATED+DROPOUT</td>\n",
       "      <td>True</td>\n",
       "    </tr>\n",
       "    <tr>\n",
       "      <th>27</th>\n",
       "      <td>0.264680</td>\n",
       "      <td>9.050257</td>\n",
       "      <td>50</td>\n",
       "      <td>7.846415</td>\n",
       "      <td>0.019608</td>\n",
       "      <td>0.033111</td>\n",
       "      <td>0.933761</td>\n",
       "      <td>0.168804</td>\n",
       "      <td>0.984272</td>\n",
       "      <td>0.059092</td>\n",
       "      <td>-36.357354</td>\n",
       "      <td>LINE-MNIST-SEPARATED+DROPOUT</td>\n",
       "      <td>True</td>\n",
       "    </tr>\n",
       "    <tr>\n",
       "      <th>28</th>\n",
       "      <td>0.266811</td>\n",
       "      <td>9.032939</td>\n",
       "      <td>50</td>\n",
       "      <td>7.824615</td>\n",
       "      <td>0.019608</td>\n",
       "      <td>0.044495</td>\n",
       "      <td>0.912393</td>\n",
       "      <td>0.256417</td>\n",
       "      <td>0.982810</td>\n",
       "      <td>0.060726</td>\n",
       "      <td>-27.156666</td>\n",
       "      <td>LINE-MNIST-SEPARATED+DROPOUT</td>\n",
       "      <td>True</td>\n",
       "    </tr>\n",
       "    <tr>\n",
       "      <th>29</th>\n",
       "      <td>0.282771</td>\n",
       "      <td>9.054676</td>\n",
       "      <td>50</td>\n",
       "      <td>7.665080</td>\n",
       "      <td>0.019608</td>\n",
       "      <td>0.030442</td>\n",
       "      <td>0.831095</td>\n",
       "      <td>0.797394</td>\n",
       "      <td>0.983785</td>\n",
       "      <td>0.059121</td>\n",
       "      <td>-45.646786</td>\n",
       "      <td>LINE-MNIST-SEPARATED+DROPOUT</td>\n",
       "      <td>True</td>\n",
       "    </tr>\n",
       "  </tbody>\n",
       "</table>\n",
       "</div>"
      ],
      "text/plain": [
       "    ave_in_out      mean  n_samples      ncut  percentile     stdev  test_acc  \\\n",
       "0     0.327202  7.644785         50  7.253364    0.019608  0.108187  1.000000   \n",
       "1     0.313899  7.783066         50  7.371920    0.019608  0.106990  1.000000   \n",
       "2     0.315323  7.667933         50  7.359045    0.019608  0.122370  1.000000   \n",
       "3     0.298867  7.708244         50  7.510642    0.019608  0.096152  1.000000   \n",
       "4     0.320602  7.910620         50  7.311702    0.019608  0.082062  1.000000   \n",
       "5     0.397428  8.892256         50  6.685774    0.019608  0.044247  0.295200   \n",
       "6     0.358717  8.891767         50  6.987170    0.019608  0.038094  0.293900   \n",
       "7     0.372457  8.885253         50  6.877133    0.019608  0.032116  0.303200   \n",
       "8     0.354684  8.885730         50  7.020136    0.019608  0.032859  0.293900   \n",
       "9     0.397984  8.876844         50  6.681631    0.019608  0.038527  0.293700   \n",
       "10    0.262122  8.781821         50  7.872756    0.019608  0.081341  0.991350   \n",
       "11    0.248972  8.866847         50  8.010980    0.019608  0.054647  0.990450   \n",
       "12    0.255602  9.022118         50  7.940688    0.019608  0.051410  0.990050   \n",
       "13    0.263361  9.176513         50  7.859977    0.019608  0.043159  0.990850   \n",
       "14    0.241830  9.117952         50  8.088103    0.019608  0.031715  0.991200   \n",
       "15    0.230472  8.445978         50  8.213871    0.019608  0.059778  0.993997   \n",
       "16    0.235532  8.572652         50  8.157366    0.019608  0.055098  0.993590   \n",
       "17    0.239758  8.326703         50  8.110761    0.039216  0.071833  0.993793   \n",
       "18    0.229603  8.428510         50  8.223649    0.019608  0.091566  0.993590   \n",
       "19    0.197654  8.712743         50  8.600256    0.039216  0.045851  0.993895   \n",
       "20    0.346382  8.766149         50  7.089001    0.019608  0.042957  0.631550   \n",
       "21    0.377102  8.697580         50  6.840708    0.019608  0.040652  0.659650   \n",
       "22    0.370718  8.657248         50  6.890867    0.019608  0.063645  0.630200   \n",
       "23    0.368275  8.724794         50  6.910252    0.019608  0.055847  0.630300   \n",
       "24    0.365523  8.657273         50  6.932224    0.019608  0.050081  0.632950   \n",
       "25    0.269154  9.036839         50  7.800782    0.019608  0.027096  0.896317   \n",
       "26    0.273358  9.007828         50  7.758378    0.019608  0.035947  0.894078   \n",
       "27    0.264680  9.050257         50  7.846415    0.019608  0.033111  0.933761   \n",
       "28    0.266811  9.032939         50  7.824615    0.019608  0.044495  0.912393   \n",
       "29    0.282771  9.054676         50  7.665080    0.019608  0.030442  0.831095   \n",
       "\n",
       "    test_loss  train_acc  train_loss    z_score                         model  \\\n",
       "0    0.000026   1.000000    0.000011  -3.617994                          LINE   \n",
       "1    0.000036   1.000000    0.000022  -3.842830                          LINE   \n",
       "2    0.000039   1.000000    0.000027  -2.524223                          LINE   \n",
       "3    0.000048   1.000000    0.000022  -2.055100                          LINE   \n",
       "4    0.000181   1.000000    0.000171  -7.298357                          LINE   \n",
       "5    2.996638   0.903183    0.253735 -49.867484                  LINE+DROPOUT   \n",
       "6    5.397707   0.920683    0.206457 -49.997865                  LINE+DROPOUT   \n",
       "7    5.312357   0.924333    0.204587 -62.527534                  LINE+DROPOUT   \n",
       "8    4.985370   0.910950    0.230818 -56.774956                  LINE+DROPOUT   \n",
       "9    4.942878   0.902517    0.250102 -56.978968                  LINE+DROPOUT   \n",
       "10   0.055174   1.000000    0.000222 -11.175960                    LINE-MNIST   \n",
       "11   0.063653   0.999950    0.000248 -15.661761                    LINE-MNIST   \n",
       "12   0.066750   0.999967    0.000209 -21.035385                    LINE-MNIST   \n",
       "13   0.055603   1.000000    0.000167 -30.504072                    LINE-MNIST   \n",
       "14   0.056069   1.000000    0.000075 -32.472029                    LINE-MNIST   \n",
       "15   0.035791   1.000000    0.000015  -3.882833          LINE-MNIST-SEPARATED   \n",
       "16   0.039643   1.000000    0.000011  -7.537286          LINE-MNIST-SEPARATED   \n",
       "17   0.035616   1.000000    0.000014  -3.006168          LINE-MNIST-SEPARATED   \n",
       "18   0.043474   1.000000    0.000006  -2.237310          LINE-MNIST-SEPARATED   \n",
       "19   0.040035   1.000000    0.000013  -2.453316          LINE-MNIST-SEPARATED   \n",
       "20   1.433460   0.868875    0.391745 -39.042144            LINE-MNIST+DROPOUT   \n",
       "21   1.459593   0.873825    0.379827 -45.677545            LINE-MNIST+DROPOUT   \n",
       "22   2.087700   0.866225    0.412834 -27.753658            LINE-MNIST+DROPOUT   \n",
       "23   1.639292   0.873483    0.391841 -32.491371            LINE-MNIST+DROPOUT   \n",
       "24   1.712393   0.881842    0.369013 -34.445154            LINE-MNIST+DROPOUT   \n",
       "25   0.446133   0.985179    0.053819 -45.617161  LINE-MNIST-SEPARATED+DROPOUT   \n",
       "26   0.580593   0.983465    0.057267 -34.758453  LINE-MNIST-SEPARATED+DROPOUT   \n",
       "27   0.168804   0.984272    0.059092 -36.357354  LINE-MNIST-SEPARATED+DROPOUT   \n",
       "28   0.256417   0.982810    0.060726 -27.156666  LINE-MNIST-SEPARATED+DROPOUT   \n",
       "29   0.797394   0.983785    0.059121 -45.646786  LINE-MNIST-SEPARATED+DROPOUT   \n",
       "\n",
       "    is_sig  \n",
       "0     True  \n",
       "1     True  \n",
       "2     True  \n",
       "3     True  \n",
       "4     True  \n",
       "5     True  \n",
       "6     True  \n",
       "7     True  \n",
       "8     True  \n",
       "9     True  \n",
       "10    True  \n",
       "11    True  \n",
       "12    True  \n",
       "13    True  \n",
       "14    True  \n",
       "15    True  \n",
       "16    True  \n",
       "17   False  \n",
       "18    True  \n",
       "19   False  \n",
       "20    True  \n",
       "21    True  \n",
       "22    True  \n",
       "23    True  \n",
       "24    True  \n",
       "25    True  \n",
       "26    True  \n",
       "27    True  \n",
       "28    True  \n",
       "29    True  "
      ]
     },
     "execution_count": 10,
     "metadata": {},
     "output_type": "execute_result"
    }
   ],
   "source": [
    "df = layer_df\n",
    "\n",
    "\n",
    "df"
   ]
  },
  {
   "cell_type": "code",
   "execution_count": 11,
   "metadata": {
    "execution": {
     "iopub.execute_input": "2020-10-07T00:04:01.876793Z",
     "iopub.status.busy": "2020-10-07T00:04:01.875778Z",
     "iopub.status.idle": "2020-10-07T00:04:01.878491Z",
     "shell.execute_reply": "2020-10-07T00:04:01.877650Z"
    },
    "papermill": {
     "duration": 0.341188,
     "end_time": "2020-10-07T00:04:01.878695",
     "exception": false,
     "start_time": "2020-10-07T00:04:01.537507",
     "status": "completed"
    },
    "tags": []
   },
   "outputs": [],
   "source": [
    "# df = pd.read_csv('../results/mlp-clustering-stability-two-shuffling-methods-all-samples.csv' index_col=0)"
   ]
  },
  {
   "cell_type": "code",
   "execution_count": 12,
   "metadata": {
    "execution": {
     "iopub.execute_input": "2020-10-07T00:04:03.012043Z",
     "iopub.status.busy": "2020-10-07T00:04:03.011163Z",
     "iopub.status.idle": "2020-10-07T00:04:03.414013Z",
     "shell.execute_reply": "2020-10-07T00:04:03.415693Z"
    },
    "papermill": {
     "duration": 1.056194,
     "end_time": "2020-10-07T00:04:03.415932",
     "exception": false,
     "start_time": "2020-10-07T00:04:02.359738",
     "status": "completed"
    },
    "tags": []
   },
   "outputs": [],
   "source": [
    "df_grpby_model = df.groupby('model')\n",
    "\n",
    "# TWO_SHUFFLE_STATS_COLUMNS = [f'{stat}_{shuffle_method}'\n",
    "#                              for stat in ['mean', 'stdev', 'z_score', 'percentile', 'is_sig']\n",
    "#                             for shuffle_method in SHUFFLE_METHODS]\n",
    "\n",
    "TWO_SHUFFLE_STATS_COLUMNS = ['mean', 'stdev', 'z_score', 'percentile', 'is_sig']\n",
    "\n",
    "statistics_df = pd.concat([(df_grpby_model[['ncut'] + TWO_SHUFFLE_STATS_COLUMNS]\n",
    "                             .agg(['mean', 'std'])),\n",
    "                            df_grpby_model.size().rename('n_models'),\n",
    "                            (df_grpby_model[['train_acc', 'test_acc']]\n",
    "                             .agg('mean'))],\n",
    "                           axis=1)"
   ]
  },
  {
   "cell_type": "code",
   "execution_count": 13,
   "metadata": {
    "execution": {
     "iopub.execute_input": "2020-10-07T00:04:03.730182Z",
     "iopub.status.busy": "2020-10-07T00:04:03.728060Z",
     "iopub.status.idle": "2020-10-07T00:04:03.851520Z",
     "shell.execute_reply": "2020-10-07T00:04:03.852679Z"
    },
    "papermill": {
     "duration": 0.282603,
     "end_time": "2020-10-07T00:04:03.852909",
     "exception": false,
     "start_time": "2020-10-07T00:04:03.570306",
     "status": "completed"
    },
    "tags": []
   },
   "outputs": [
    {
     "data": {
      "text/html": [
       "<div>\n",
       "<style scoped>\n",
       "    .dataframe tbody tr th:only-of-type {\n",
       "        vertical-align: middle;\n",
       "    }\n",
       "\n",
       "    .dataframe tbody tr th {\n",
       "        vertical-align: top;\n",
       "    }\n",
       "\n",
       "    .dataframe thead th {\n",
       "        text-align: right;\n",
       "    }\n",
       "</style>\n",
       "<table border=\"1\" class=\"dataframe\">\n",
       "  <thead>\n",
       "    <tr style=\"text-align: right;\">\n",
       "      <th></th>\n",
       "      <th>(ncut, mean)</th>\n",
       "      <th>(ncut, std)</th>\n",
       "      <th>(mean, mean)</th>\n",
       "      <th>(mean, std)</th>\n",
       "      <th>(stdev, mean)</th>\n",
       "      <th>(stdev, std)</th>\n",
       "      <th>(z_score, mean)</th>\n",
       "      <th>(z_score, std)</th>\n",
       "      <th>(percentile, mean)</th>\n",
       "      <th>(percentile, std)</th>\n",
       "      <th>(is_sig, mean)</th>\n",
       "      <th>(is_sig, std)</th>\n",
       "      <th>n_models</th>\n",
       "      <th>train_acc</th>\n",
       "      <th>test_acc</th>\n",
       "    </tr>\n",
       "    <tr>\n",
       "      <th>model</th>\n",
       "      <th></th>\n",
       "      <th></th>\n",
       "      <th></th>\n",
       "      <th></th>\n",
       "      <th></th>\n",
       "      <th></th>\n",
       "      <th></th>\n",
       "      <th></th>\n",
       "      <th></th>\n",
       "      <th></th>\n",
       "      <th></th>\n",
       "      <th></th>\n",
       "      <th></th>\n",
       "      <th></th>\n",
       "      <th></th>\n",
       "    </tr>\n",
       "  </thead>\n",
       "  <tbody>\n",
       "    <tr>\n",
       "      <th>LINE</th>\n",
       "      <td>7.361335</td>\n",
       "      <td>0.095565</td>\n",
       "      <td>7.742930</td>\n",
       "      <td>0.107460</td>\n",
       "      <td>0.103152</td>\n",
       "      <td>0.015027</td>\n",
       "      <td>-3.867701</td>\n",
       "      <td>2.056868</td>\n",
       "      <td>0.019608</td>\n",
       "      <td>0.00000</td>\n",
       "      <td>1.0</td>\n",
       "      <td>0.000000</td>\n",
       "      <td>5</td>\n",
       "      <td>1.000000</td>\n",
       "      <td>1.000000</td>\n",
       "    </tr>\n",
       "    <tr>\n",
       "      <th>LINE+DROPOUT</th>\n",
       "      <td>6.850369</td>\n",
       "      <td>0.161102</td>\n",
       "      <td>8.886370</td>\n",
       "      <td>0.006248</td>\n",
       "      <td>0.037168</td>\n",
       "      <td>0.004922</td>\n",
       "      <td>-55.229361</td>\n",
       "      <td>5.357975</td>\n",
       "      <td>0.019608</td>\n",
       "      <td>0.00000</td>\n",
       "      <td>1.0</td>\n",
       "      <td>0.000000</td>\n",
       "      <td>5</td>\n",
       "      <td>0.912333</td>\n",
       "      <td>0.295980</td>\n",
       "    </tr>\n",
       "    <tr>\n",
       "      <th>LINE-MNIST</th>\n",
       "      <td>7.954501</td>\n",
       "      <td>0.095978</td>\n",
       "      <td>8.993050</td>\n",
       "      <td>0.166320</td>\n",
       "      <td>0.052454</td>\n",
       "      <td>0.018418</td>\n",
       "      <td>-22.169842</td>\n",
       "      <td>9.220927</td>\n",
       "      <td>0.019608</td>\n",
       "      <td>0.00000</td>\n",
       "      <td>1.0</td>\n",
       "      <td>0.000000</td>\n",
       "      <td>5</td>\n",
       "      <td>0.999983</td>\n",
       "      <td>0.990780</td>\n",
       "    </tr>\n",
       "    <tr>\n",
       "      <th>LINE-MNIST+DROPOUT</th>\n",
       "      <td>6.932611</td>\n",
       "      <td>0.093737</td>\n",
       "      <td>8.700609</td>\n",
       "      <td>0.046496</td>\n",
       "      <td>0.050636</td>\n",
       "      <td>0.009425</td>\n",
       "      <td>-35.881974</td>\n",
       "      <td>6.811205</td>\n",
       "      <td>0.019608</td>\n",
       "      <td>0.00000</td>\n",
       "      <td>1.0</td>\n",
       "      <td>0.000000</td>\n",
       "      <td>5</td>\n",
       "      <td>0.872850</td>\n",
       "      <td>0.636930</td>\n",
       "    </tr>\n",
       "    <tr>\n",
       "      <th>LINE-MNIST-SEPARATED</th>\n",
       "      <td>8.261181</td>\n",
       "      <td>0.194950</td>\n",
       "      <td>8.497317</td>\n",
       "      <td>0.148798</td>\n",
       "      <td>0.064825</td>\n",
       "      <td>0.017637</td>\n",
       "      <td>-3.823383</td>\n",
       "      <td>2.171242</td>\n",
       "      <td>0.027451</td>\n",
       "      <td>0.01074</td>\n",
       "      <td>0.6</td>\n",
       "      <td>0.547723</td>\n",
       "      <td>5</td>\n",
       "      <td>1.000000</td>\n",
       "      <td>0.993773</td>\n",
       "    </tr>\n",
       "    <tr>\n",
       "      <th>LINE-MNIST-SEPARATED+DROPOUT</th>\n",
       "      <td>7.779054</td>\n",
       "      <td>0.071594</td>\n",
       "      <td>9.036508</td>\n",
       "      <td>0.018402</td>\n",
       "      <td>0.034218</td>\n",
       "      <td>0.006610</td>\n",
       "      <td>-37.907284</td>\n",
       "      <td>7.861859</td>\n",
       "      <td>0.019608</td>\n",
       "      <td>0.00000</td>\n",
       "      <td>1.0</td>\n",
       "      <td>0.000000</td>\n",
       "      <td>5</td>\n",
       "      <td>0.983902</td>\n",
       "      <td>0.893529</td>\n",
       "    </tr>\n",
       "  </tbody>\n",
       "</table>\n",
       "</div>"
      ],
      "text/plain": [
       "                              (ncut, mean)  (ncut, std)  (mean, mean)  \\\n",
       "model                                                                   \n",
       "LINE                              7.361335     0.095565      7.742930   \n",
       "LINE+DROPOUT                      6.850369     0.161102      8.886370   \n",
       "LINE-MNIST                        7.954501     0.095978      8.993050   \n",
       "LINE-MNIST+DROPOUT                6.932611     0.093737      8.700609   \n",
       "LINE-MNIST-SEPARATED              8.261181     0.194950      8.497317   \n",
       "LINE-MNIST-SEPARATED+DROPOUT      7.779054     0.071594      9.036508   \n",
       "\n",
       "                              (mean, std)  (stdev, mean)  (stdev, std)  \\\n",
       "model                                                                    \n",
       "LINE                             0.107460       0.103152      0.015027   \n",
       "LINE+DROPOUT                     0.006248       0.037168      0.004922   \n",
       "LINE-MNIST                       0.166320       0.052454      0.018418   \n",
       "LINE-MNIST+DROPOUT               0.046496       0.050636      0.009425   \n",
       "LINE-MNIST-SEPARATED             0.148798       0.064825      0.017637   \n",
       "LINE-MNIST-SEPARATED+DROPOUT     0.018402       0.034218      0.006610   \n",
       "\n",
       "                              (z_score, mean)  (z_score, std)  \\\n",
       "model                                                           \n",
       "LINE                                -3.867701        2.056868   \n",
       "LINE+DROPOUT                       -55.229361        5.357975   \n",
       "LINE-MNIST                         -22.169842        9.220927   \n",
       "LINE-MNIST+DROPOUT                 -35.881974        6.811205   \n",
       "LINE-MNIST-SEPARATED                -3.823383        2.171242   \n",
       "LINE-MNIST-SEPARATED+DROPOUT       -37.907284        7.861859   \n",
       "\n",
       "                              (percentile, mean)  (percentile, std)  \\\n",
       "model                                                                 \n",
       "LINE                                    0.019608            0.00000   \n",
       "LINE+DROPOUT                            0.019608            0.00000   \n",
       "LINE-MNIST                              0.019608            0.00000   \n",
       "LINE-MNIST+DROPOUT                      0.019608            0.00000   \n",
       "LINE-MNIST-SEPARATED                    0.027451            0.01074   \n",
       "LINE-MNIST-SEPARATED+DROPOUT            0.019608            0.00000   \n",
       "\n",
       "                              (is_sig, mean)  (is_sig, std)  n_models  \\\n",
       "model                                                                   \n",
       "LINE                                     1.0       0.000000         5   \n",
       "LINE+DROPOUT                             1.0       0.000000         5   \n",
       "LINE-MNIST                               1.0       0.000000         5   \n",
       "LINE-MNIST+DROPOUT                       1.0       0.000000         5   \n",
       "LINE-MNIST-SEPARATED                     0.6       0.547723         5   \n",
       "LINE-MNIST-SEPARATED+DROPOUT             1.0       0.000000         5   \n",
       "\n",
       "                              train_acc  test_acc  \n",
       "model                                              \n",
       "LINE                           1.000000  1.000000  \n",
       "LINE+DROPOUT                   0.912333  0.295980  \n",
       "LINE-MNIST                     0.999983  0.990780  \n",
       "LINE-MNIST+DROPOUT             0.872850  0.636930  \n",
       "LINE-MNIST-SEPARATED           1.000000  0.993773  \n",
       "LINE-MNIST-SEPARATED+DROPOUT   0.983902  0.893529  "
      ]
     },
     "execution_count": 13,
     "metadata": {},
     "output_type": "execute_result"
    }
   ],
   "source": [
    "statistics_df"
   ]
  },
  {
   "cell_type": "code",
   "execution_count": 14,
   "metadata": {
    "execution": {
     "iopub.execute_input": "2020-10-07T00:04:05.934026Z",
     "iopub.status.busy": "2020-10-07T00:04:05.933062Z",
     "iopub.status.idle": "2020-10-07T00:04:05.935522Z",
     "shell.execute_reply": "2020-10-07T00:04:05.934801Z"
    },
    "papermill": {
     "duration": 1.173802,
     "end_time": "2020-10-07T00:04:05.935706",
     "exception": false,
     "start_time": "2020-10-07T00:04:04.761904",
     "status": "completed"
    },
    "tags": []
   },
   "outputs": [],
   "source": [
    "# TODO: ask for a code review\n",
    "# std = np.sqrt(np.mean(x**2) - np.mean(x)**2)\n",
    "\n",
    "def calc_overall_stdev(row, suffix=''):\n",
    "    return np.sqrt(                 # 5. apply root square to get the SD from the variance\n",
    "        (np.mean(                   # 3. divide by the number of trained model\n",
    "            (row[f'stdev{suffix}']**2)       # 1. cancel the overall square root\n",
    "             + row[f'mean{suffix}']**2))     # 2. add the mean and get the sum or squares\n",
    "        - np.mean(row[f'mean{suffix}'])**2)  # 4. substrct the square of the overall mean"
   ]
  },
  {
   "cell_type": "code",
   "execution_count": 15,
   "metadata": {
    "execution": {
     "iopub.execute_input": "2020-10-07T00:04:06.248244Z",
     "iopub.status.busy": "2020-10-07T00:04:06.247238Z",
     "iopub.status.idle": "2020-10-07T00:04:06.299091Z",
     "shell.execute_reply": "2020-10-07T00:04:06.301320Z"
    },
    "papermill": {
     "duration": 0.252191,
     "end_time": "2020-10-07T00:04:06.301588",
     "exception": false,
     "start_time": "2020-10-07T00:04:06.049397",
     "status": "completed"
    },
    "tags": []
   },
   "outputs": [],
   "source": [
    "SHUFFLE_METHOD_SUFFIX = [''] # ['_layer', '_layer_nonzero']\n",
    "for suffix in SHUFFLE_METHOD_SUFFIX:\n",
    "    statistics_df[f'overall_std{suffix}'] = df_grpby_model.apply(calc_overall_stdev, suffix)\n",
    "\n",
    "for suffix in SHUFFLE_METHOD_SUFFIX:\n",
    "    statistics_df[f'is_stable{suffix}'] = (statistics_df[(f'is_sig{suffix}', 'mean')] == 1)\n",
    "\n",
    "statistics_df = statistics_df.loc[TAGS_COMMANDS.keys(), :]"
   ]
  },
  {
   "cell_type": "code",
   "execution_count": 16,
   "metadata": {
    "execution": {
     "iopub.execute_input": "2020-10-07T00:04:07.785853Z",
     "iopub.status.busy": "2020-10-07T00:04:07.784856Z",
     "iopub.status.idle": "2020-10-07T00:04:07.884979Z",
     "shell.execute_reply": "2020-10-07T00:04:07.885922Z"
    },
    "papermill": {
     "duration": 0.83438,
     "end_time": "2020-10-07T00:04:07.886177",
     "exception": false,
     "start_time": "2020-10-07T00:04:07.051797",
     "status": "completed"
    },
    "tags": []
   },
   "outputs": [
    {
     "data": {
      "text/html": [
       "<div>\n",
       "<style scoped>\n",
       "    .dataframe tbody tr th:only-of-type {\n",
       "        vertical-align: middle;\n",
       "    }\n",
       "\n",
       "    .dataframe tbody tr th {\n",
       "        vertical-align: top;\n",
       "    }\n",
       "\n",
       "    .dataframe thead th {\n",
       "        text-align: right;\n",
       "    }\n",
       "</style>\n",
       "<table border=\"1\" class=\"dataframe\">\n",
       "  <thead>\n",
       "    <tr style=\"text-align: right;\">\n",
       "      <th></th>\n",
       "      <th>(ncut, mean)</th>\n",
       "      <th>(ncut, std)</th>\n",
       "      <th>(mean, mean)</th>\n",
       "      <th>(mean, std)</th>\n",
       "      <th>(stdev, mean)</th>\n",
       "      <th>(stdev, std)</th>\n",
       "      <th>(z_score, mean)</th>\n",
       "      <th>(z_score, std)</th>\n",
       "      <th>(percentile, mean)</th>\n",
       "      <th>(percentile, std)</th>\n",
       "      <th>(is_sig, mean)</th>\n",
       "      <th>(is_sig, std)</th>\n",
       "      <th>n_models</th>\n",
       "      <th>train_acc</th>\n",
       "      <th>test_acc</th>\n",
       "      <th>overall_std</th>\n",
       "      <th>is_stable</th>\n",
       "    </tr>\n",
       "    <tr>\n",
       "      <th>model</th>\n",
       "      <th></th>\n",
       "      <th></th>\n",
       "      <th></th>\n",
       "      <th></th>\n",
       "      <th></th>\n",
       "      <th></th>\n",
       "      <th></th>\n",
       "      <th></th>\n",
       "      <th></th>\n",
       "      <th></th>\n",
       "      <th></th>\n",
       "      <th></th>\n",
       "      <th></th>\n",
       "      <th></th>\n",
       "      <th></th>\n",
       "      <th></th>\n",
       "      <th></th>\n",
       "    </tr>\n",
       "  </thead>\n",
       "  <tbody>\n",
       "    <tr>\n",
       "      <th>LINE</th>\n",
       "      <td>7.361335</td>\n",
       "      <td>0.095565</td>\n",
       "      <td>7.742930</td>\n",
       "      <td>0.107460</td>\n",
       "      <td>0.103152</td>\n",
       "      <td>0.015027</td>\n",
       "      <td>-3.867701</td>\n",
       "      <td>2.056868</td>\n",
       "      <td>0.019608</td>\n",
       "      <td>0.00000</td>\n",
       "      <td>1.0</td>\n",
       "      <td>0.000000</td>\n",
       "      <td>5</td>\n",
       "      <td>1.000000</td>\n",
       "      <td>1.000000</td>\n",
       "      <td>0.141631</td>\n",
       "      <td>True</td>\n",
       "    </tr>\n",
       "    <tr>\n",
       "      <th>LINE+DROPOUT</th>\n",
       "      <td>6.850369</td>\n",
       "      <td>0.161102</td>\n",
       "      <td>8.886370</td>\n",
       "      <td>0.006248</td>\n",
       "      <td>0.037168</td>\n",
       "      <td>0.004922</td>\n",
       "      <td>-55.229361</td>\n",
       "      <td>5.357975</td>\n",
       "      <td>0.019608</td>\n",
       "      <td>0.00000</td>\n",
       "      <td>1.0</td>\n",
       "      <td>0.000000</td>\n",
       "      <td>5</td>\n",
       "      <td>0.912333</td>\n",
       "      <td>0.295980</td>\n",
       "      <td>0.037843</td>\n",
       "      <td>True</td>\n",
       "    </tr>\n",
       "    <tr>\n",
       "      <th>LINE-MNIST</th>\n",
       "      <td>7.954501</td>\n",
       "      <td>0.095978</td>\n",
       "      <td>8.993050</td>\n",
       "      <td>0.166320</td>\n",
       "      <td>0.052454</td>\n",
       "      <td>0.018418</td>\n",
       "      <td>-22.169842</td>\n",
       "      <td>9.220927</td>\n",
       "      <td>0.019608</td>\n",
       "      <td>0.00000</td>\n",
       "      <td>1.0</td>\n",
       "      <td>0.000000</td>\n",
       "      <td>5</td>\n",
       "      <td>0.999983</td>\n",
       "      <td>0.990780</td>\n",
       "      <td>0.158596</td>\n",
       "      <td>True</td>\n",
       "    </tr>\n",
       "    <tr>\n",
       "      <th>LINE-MNIST-SEPARATED</th>\n",
       "      <td>8.261181</td>\n",
       "      <td>0.194950</td>\n",
       "      <td>8.497317</td>\n",
       "      <td>0.148798</td>\n",
       "      <td>0.064825</td>\n",
       "      <td>0.017637</td>\n",
       "      <td>-3.823383</td>\n",
       "      <td>2.171242</td>\n",
       "      <td>0.027451</td>\n",
       "      <td>0.01074</td>\n",
       "      <td>0.6</td>\n",
       "      <td>0.547723</td>\n",
       "      <td>5</td>\n",
       "      <td>1.000000</td>\n",
       "      <td>0.993773</td>\n",
       "      <td>0.148875</td>\n",
       "      <td>False</td>\n",
       "    </tr>\n",
       "    <tr>\n",
       "      <th>LINE-MNIST+DROPOUT</th>\n",
       "      <td>6.932611</td>\n",
       "      <td>0.093737</td>\n",
       "      <td>8.700609</td>\n",
       "      <td>0.046496</td>\n",
       "      <td>0.050636</td>\n",
       "      <td>0.009425</td>\n",
       "      <td>-35.881974</td>\n",
       "      <td>6.811205</td>\n",
       "      <td>0.019608</td>\n",
       "      <td>0.00000</td>\n",
       "      <td>1.0</td>\n",
       "      <td>0.000000</td>\n",
       "      <td>5</td>\n",
       "      <td>0.872850</td>\n",
       "      <td>0.636930</td>\n",
       "      <td>0.066066</td>\n",
       "      <td>True</td>\n",
       "    </tr>\n",
       "    <tr>\n",
       "      <th>LINE-MNIST-SEPARATED+DROPOUT</th>\n",
       "      <td>7.779054</td>\n",
       "      <td>0.071594</td>\n",
       "      <td>9.036508</td>\n",
       "      <td>0.018402</td>\n",
       "      <td>0.034218</td>\n",
       "      <td>0.006610</td>\n",
       "      <td>-37.907284</td>\n",
       "      <td>7.861859</td>\n",
       "      <td>0.019608</td>\n",
       "      <td>0.00000</td>\n",
       "      <td>1.0</td>\n",
       "      <td>0.000000</td>\n",
       "      <td>5</td>\n",
       "      <td>0.983902</td>\n",
       "      <td>0.893529</td>\n",
       "      <td>0.038429</td>\n",
       "      <td>True</td>\n",
       "    </tr>\n",
       "  </tbody>\n",
       "</table>\n",
       "</div>"
      ],
      "text/plain": [
       "                              (ncut, mean)  (ncut, std)  (mean, mean)  \\\n",
       "model                                                                   \n",
       "LINE                              7.361335     0.095565      7.742930   \n",
       "LINE+DROPOUT                      6.850369     0.161102      8.886370   \n",
       "LINE-MNIST                        7.954501     0.095978      8.993050   \n",
       "LINE-MNIST-SEPARATED              8.261181     0.194950      8.497317   \n",
       "LINE-MNIST+DROPOUT                6.932611     0.093737      8.700609   \n",
       "LINE-MNIST-SEPARATED+DROPOUT      7.779054     0.071594      9.036508   \n",
       "\n",
       "                              (mean, std)  (stdev, mean)  (stdev, std)  \\\n",
       "model                                                                    \n",
       "LINE                             0.107460       0.103152      0.015027   \n",
       "LINE+DROPOUT                     0.006248       0.037168      0.004922   \n",
       "LINE-MNIST                       0.166320       0.052454      0.018418   \n",
       "LINE-MNIST-SEPARATED             0.148798       0.064825      0.017637   \n",
       "LINE-MNIST+DROPOUT               0.046496       0.050636      0.009425   \n",
       "LINE-MNIST-SEPARATED+DROPOUT     0.018402       0.034218      0.006610   \n",
       "\n",
       "                              (z_score, mean)  (z_score, std)  \\\n",
       "model                                                           \n",
       "LINE                                -3.867701        2.056868   \n",
       "LINE+DROPOUT                       -55.229361        5.357975   \n",
       "LINE-MNIST                         -22.169842        9.220927   \n",
       "LINE-MNIST-SEPARATED                -3.823383        2.171242   \n",
       "LINE-MNIST+DROPOUT                 -35.881974        6.811205   \n",
       "LINE-MNIST-SEPARATED+DROPOUT       -37.907284        7.861859   \n",
       "\n",
       "                              (percentile, mean)  (percentile, std)  \\\n",
       "model                                                                 \n",
       "LINE                                    0.019608            0.00000   \n",
       "LINE+DROPOUT                            0.019608            0.00000   \n",
       "LINE-MNIST                              0.019608            0.00000   \n",
       "LINE-MNIST-SEPARATED                    0.027451            0.01074   \n",
       "LINE-MNIST+DROPOUT                      0.019608            0.00000   \n",
       "LINE-MNIST-SEPARATED+DROPOUT            0.019608            0.00000   \n",
       "\n",
       "                              (is_sig, mean)  (is_sig, std)  n_models  \\\n",
       "model                                                                   \n",
       "LINE                                     1.0       0.000000         5   \n",
       "LINE+DROPOUT                             1.0       0.000000         5   \n",
       "LINE-MNIST                               1.0       0.000000         5   \n",
       "LINE-MNIST-SEPARATED                     0.6       0.547723         5   \n",
       "LINE-MNIST+DROPOUT                       1.0       0.000000         5   \n",
       "LINE-MNIST-SEPARATED+DROPOUT             1.0       0.000000         5   \n",
       "\n",
       "                              train_acc  test_acc  overall_std  is_stable  \n",
       "model                                                                      \n",
       "LINE                           1.000000  1.000000     0.141631       True  \n",
       "LINE+DROPOUT                   0.912333  0.295980     0.037843       True  \n",
       "LINE-MNIST                     0.999983  0.990780     0.158596       True  \n",
       "LINE-MNIST-SEPARATED           1.000000  0.993773     0.148875      False  \n",
       "LINE-MNIST+DROPOUT             0.872850  0.636930     0.066066       True  \n",
       "LINE-MNIST-SEPARATED+DROPOUT   0.983902  0.893529     0.038429       True  "
      ]
     },
     "execution_count": 16,
     "metadata": {},
     "output_type": "execute_result"
    }
   ],
   "source": [
    "statistics_df"
   ]
  },
  {
   "cell_type": "code",
   "execution_count": 17,
   "metadata": {
    "execution": {
     "iopub.execute_input": "2020-10-07T00:04:08.552571Z",
     "iopub.status.busy": "2020-10-07T00:04:08.537759Z",
     "iopub.status.idle": "2020-10-07T00:04:08.554002Z",
     "shell.execute_reply": "2020-10-07T00:04:08.539180Z"
    },
    "papermill": {
     "duration": 0.491359,
     "end_time": "2020-10-07T00:04:08.554294",
     "exception": false,
     "start_time": "2020-10-07T00:04:08.062935",
     "status": "completed"
    },
    "tags": []
   },
   "outputs": [],
   "source": [
    "df.to_csv(f'../results/mlp-clustering-stability-two-shuffling-methods-all-samples-k{N_CLUSTERS}-n{N_SHUFFLES}.csv')\n",
    "statistics_df.to_csv(f'../results/mlp-clustering-stability-two-shuffling-methods-statistics-k{N_CLUSTERS}-n{N_SHUFFLES}.csv')"
   ]
  },
  {
   "cell_type": "markdown",
   "metadata": {
    "papermill": {
     "duration": 0.410884,
     "end_time": "2020-10-07T00:04:09.622879",
     "exception": false,
     "start_time": "2020-10-07T00:04:09.211995",
     "status": "completed"
    },
    "tags": []
   },
   "source": [
    "### Model Stability Statistics"
   ]
  },
  {
   "cell_type": "code",
   "execution_count": 18,
   "metadata": {
    "execution": {
     "iopub.execute_input": "2020-10-07T00:04:10.278827Z",
     "iopub.status.busy": "2020-10-07T00:04:10.277856Z",
     "iopub.status.idle": "2020-10-07T00:04:10.389245Z",
     "shell.execute_reply": "2020-10-07T00:04:10.391492Z"
    },
    "papermill": {
     "duration": 0.557355,
     "end_time": "2020-10-07T00:04:10.391747",
     "exception": false,
     "start_time": "2020-10-07T00:04:09.834392",
     "status": "completed"
    },
    "tags": []
   },
   "outputs": [
    {
     "data": {
      "text/html": [
       "<div>\n",
       "<style scoped>\n",
       "    .dataframe tbody tr th:only-of-type {\n",
       "        vertical-align: middle;\n",
       "    }\n",
       "\n",
       "    .dataframe tbody tr th {\n",
       "        vertical-align: top;\n",
       "    }\n",
       "\n",
       "    .dataframe thead th {\n",
       "        text-align: right;\n",
       "    }\n",
       "</style>\n",
       "<table border=\"1\" class=\"dataframe\">\n",
       "  <thead>\n",
       "    <tr style=\"text-align: right;\">\n",
       "      <th></th>\n",
       "      <th>(ncut, mean)</th>\n",
       "      <th>(ncut, std)</th>\n",
       "      <th>(mean, mean)</th>\n",
       "      <th>(mean, std)</th>\n",
       "      <th>(stdev, mean)</th>\n",
       "      <th>(stdev, std)</th>\n",
       "      <th>(z_score, mean)</th>\n",
       "      <th>(z_score, std)</th>\n",
       "      <th>(percentile, mean)</th>\n",
       "      <th>(percentile, std)</th>\n",
       "      <th>(is_sig, mean)</th>\n",
       "      <th>(is_sig, std)</th>\n",
       "      <th>n_models</th>\n",
       "      <th>train_acc</th>\n",
       "      <th>test_acc</th>\n",
       "      <th>overall_std</th>\n",
       "      <th>is_stable</th>\n",
       "    </tr>\n",
       "    <tr>\n",
       "      <th>model</th>\n",
       "      <th></th>\n",
       "      <th></th>\n",
       "      <th></th>\n",
       "      <th></th>\n",
       "      <th></th>\n",
       "      <th></th>\n",
       "      <th></th>\n",
       "      <th></th>\n",
       "      <th></th>\n",
       "      <th></th>\n",
       "      <th></th>\n",
       "      <th></th>\n",
       "      <th></th>\n",
       "      <th></th>\n",
       "      <th></th>\n",
       "      <th></th>\n",
       "      <th></th>\n",
       "    </tr>\n",
       "  </thead>\n",
       "  <tbody>\n",
       "    <tr>\n",
       "      <th>LINE</th>\n",
       "      <td>7.361335</td>\n",
       "      <td>0.095565</td>\n",
       "      <td>7.742930</td>\n",
       "      <td>0.107460</td>\n",
       "      <td>0.103152</td>\n",
       "      <td>0.015027</td>\n",
       "      <td>-3.867701</td>\n",
       "      <td>2.056868</td>\n",
       "      <td>0.019608</td>\n",
       "      <td>0.00000</td>\n",
       "      <td>1.0</td>\n",
       "      <td>0.000000</td>\n",
       "      <td>5</td>\n",
       "      <td>1.000000</td>\n",
       "      <td>1.000000</td>\n",
       "      <td>0.141631</td>\n",
       "      <td>True</td>\n",
       "    </tr>\n",
       "    <tr>\n",
       "      <th>LINE+DROPOUT</th>\n",
       "      <td>6.850369</td>\n",
       "      <td>0.161102</td>\n",
       "      <td>8.886370</td>\n",
       "      <td>0.006248</td>\n",
       "      <td>0.037168</td>\n",
       "      <td>0.004922</td>\n",
       "      <td>-55.229361</td>\n",
       "      <td>5.357975</td>\n",
       "      <td>0.019608</td>\n",
       "      <td>0.00000</td>\n",
       "      <td>1.0</td>\n",
       "      <td>0.000000</td>\n",
       "      <td>5</td>\n",
       "      <td>0.912333</td>\n",
       "      <td>0.295980</td>\n",
       "      <td>0.037843</td>\n",
       "      <td>True</td>\n",
       "    </tr>\n",
       "    <tr>\n",
       "      <th>LINE-MNIST</th>\n",
       "      <td>7.954501</td>\n",
       "      <td>0.095978</td>\n",
       "      <td>8.993050</td>\n",
       "      <td>0.166320</td>\n",
       "      <td>0.052454</td>\n",
       "      <td>0.018418</td>\n",
       "      <td>-22.169842</td>\n",
       "      <td>9.220927</td>\n",
       "      <td>0.019608</td>\n",
       "      <td>0.00000</td>\n",
       "      <td>1.0</td>\n",
       "      <td>0.000000</td>\n",
       "      <td>5</td>\n",
       "      <td>0.999983</td>\n",
       "      <td>0.990780</td>\n",
       "      <td>0.158596</td>\n",
       "      <td>True</td>\n",
       "    </tr>\n",
       "    <tr>\n",
       "      <th>LINE-MNIST-SEPARATED</th>\n",
       "      <td>8.261181</td>\n",
       "      <td>0.194950</td>\n",
       "      <td>8.497317</td>\n",
       "      <td>0.148798</td>\n",
       "      <td>0.064825</td>\n",
       "      <td>0.017637</td>\n",
       "      <td>-3.823383</td>\n",
       "      <td>2.171242</td>\n",
       "      <td>0.027451</td>\n",
       "      <td>0.01074</td>\n",
       "      <td>0.6</td>\n",
       "      <td>0.547723</td>\n",
       "      <td>5</td>\n",
       "      <td>1.000000</td>\n",
       "      <td>0.993773</td>\n",
       "      <td>0.148875</td>\n",
       "      <td>False</td>\n",
       "    </tr>\n",
       "    <tr>\n",
       "      <th>LINE-MNIST+DROPOUT</th>\n",
       "      <td>6.932611</td>\n",
       "      <td>0.093737</td>\n",
       "      <td>8.700609</td>\n",
       "      <td>0.046496</td>\n",
       "      <td>0.050636</td>\n",
       "      <td>0.009425</td>\n",
       "      <td>-35.881974</td>\n",
       "      <td>6.811205</td>\n",
       "      <td>0.019608</td>\n",
       "      <td>0.00000</td>\n",
       "      <td>1.0</td>\n",
       "      <td>0.000000</td>\n",
       "      <td>5</td>\n",
       "      <td>0.872850</td>\n",
       "      <td>0.636930</td>\n",
       "      <td>0.066066</td>\n",
       "      <td>True</td>\n",
       "    </tr>\n",
       "    <tr>\n",
       "      <th>LINE-MNIST-SEPARATED+DROPOUT</th>\n",
       "      <td>7.779054</td>\n",
       "      <td>0.071594</td>\n",
       "      <td>9.036508</td>\n",
       "      <td>0.018402</td>\n",
       "      <td>0.034218</td>\n",
       "      <td>0.006610</td>\n",
       "      <td>-37.907284</td>\n",
       "      <td>7.861859</td>\n",
       "      <td>0.019608</td>\n",
       "      <td>0.00000</td>\n",
       "      <td>1.0</td>\n",
       "      <td>0.000000</td>\n",
       "      <td>5</td>\n",
       "      <td>0.983902</td>\n",
       "      <td>0.893529</td>\n",
       "      <td>0.038429</td>\n",
       "      <td>True</td>\n",
       "    </tr>\n",
       "  </tbody>\n",
       "</table>\n",
       "</div>"
      ],
      "text/plain": [
       "                              (ncut, mean)  (ncut, std)  (mean, mean)  \\\n",
       "model                                                                   \n",
       "LINE                              7.361335     0.095565      7.742930   \n",
       "LINE+DROPOUT                      6.850369     0.161102      8.886370   \n",
       "LINE-MNIST                        7.954501     0.095978      8.993050   \n",
       "LINE-MNIST-SEPARATED              8.261181     0.194950      8.497317   \n",
       "LINE-MNIST+DROPOUT                6.932611     0.093737      8.700609   \n",
       "LINE-MNIST-SEPARATED+DROPOUT      7.779054     0.071594      9.036508   \n",
       "\n",
       "                              (mean, std)  (stdev, mean)  (stdev, std)  \\\n",
       "model                                                                    \n",
       "LINE                             0.107460       0.103152      0.015027   \n",
       "LINE+DROPOUT                     0.006248       0.037168      0.004922   \n",
       "LINE-MNIST                       0.166320       0.052454      0.018418   \n",
       "LINE-MNIST-SEPARATED             0.148798       0.064825      0.017637   \n",
       "LINE-MNIST+DROPOUT               0.046496       0.050636      0.009425   \n",
       "LINE-MNIST-SEPARATED+DROPOUT     0.018402       0.034218      0.006610   \n",
       "\n",
       "                              (z_score, mean)  (z_score, std)  \\\n",
       "model                                                           \n",
       "LINE                                -3.867701        2.056868   \n",
       "LINE+DROPOUT                       -55.229361        5.357975   \n",
       "LINE-MNIST                         -22.169842        9.220927   \n",
       "LINE-MNIST-SEPARATED                -3.823383        2.171242   \n",
       "LINE-MNIST+DROPOUT                 -35.881974        6.811205   \n",
       "LINE-MNIST-SEPARATED+DROPOUT       -37.907284        7.861859   \n",
       "\n",
       "                              (percentile, mean)  (percentile, std)  \\\n",
       "model                                                                 \n",
       "LINE                                    0.019608            0.00000   \n",
       "LINE+DROPOUT                            0.019608            0.00000   \n",
       "LINE-MNIST                              0.019608            0.00000   \n",
       "LINE-MNIST-SEPARATED                    0.027451            0.01074   \n",
       "LINE-MNIST+DROPOUT                      0.019608            0.00000   \n",
       "LINE-MNIST-SEPARATED+DROPOUT            0.019608            0.00000   \n",
       "\n",
       "                              (is_sig, mean)  (is_sig, std)  n_models  \\\n",
       "model                                                                   \n",
       "LINE                                     1.0       0.000000         5   \n",
       "LINE+DROPOUT                             1.0       0.000000         5   \n",
       "LINE-MNIST                               1.0       0.000000         5   \n",
       "LINE-MNIST-SEPARATED                     0.6       0.547723         5   \n",
       "LINE-MNIST+DROPOUT                       1.0       0.000000         5   \n",
       "LINE-MNIST-SEPARATED+DROPOUT             1.0       0.000000         5   \n",
       "\n",
       "                              train_acc  test_acc  overall_std  is_stable  \n",
       "model                                                                      \n",
       "LINE                           1.000000  1.000000     0.141631       True  \n",
       "LINE+DROPOUT                   0.912333  0.295980     0.037843       True  \n",
       "LINE-MNIST                     0.999983  0.990780     0.158596       True  \n",
       "LINE-MNIST-SEPARATED           1.000000  0.993773     0.148875      False  \n",
       "LINE-MNIST+DROPOUT             0.872850  0.636930     0.066066       True  \n",
       "LINE-MNIST-SEPARATED+DROPOUT   0.983902  0.893529     0.038429       True  "
      ]
     },
     "execution_count": 18,
     "metadata": {},
     "output_type": "execute_result"
    }
   ],
   "source": [
    "statistics_df"
   ]
  },
  {
   "cell_type": "markdown",
   "metadata": {
    "papermill": {
     "duration": 0.438932,
     "end_time": "2020-10-07T00:04:11.118144",
     "exception": false,
     "start_time": "2020-10-07T00:04:10.679212",
     "status": "completed"
    },
    "tags": []
   },
   "source": [
    "### Appendix - All Samples"
   ]
  },
  {
   "cell_type": "code",
   "execution_count": 19,
   "metadata": {
    "execution": {
     "iopub.execute_input": "2020-10-07T00:04:12.737119Z",
     "iopub.status.busy": "2020-10-07T00:04:12.734998Z",
     "iopub.status.idle": "2020-10-07T00:04:12.812265Z",
     "shell.execute_reply": "2020-10-07T00:04:12.814009Z"
    },
    "papermill": {
     "duration": 0.806582,
     "end_time": "2020-10-07T00:04:12.814266",
     "exception": false,
     "start_time": "2020-10-07T00:04:12.007684",
     "status": "completed"
    },
    "tags": []
   },
   "outputs": [
    {
     "data": {
      "text/html": [
       "<div>\n",
       "<style scoped>\n",
       "    .dataframe tbody tr th:only-of-type {\n",
       "        vertical-align: middle;\n",
       "    }\n",
       "\n",
       "    .dataframe tbody tr th {\n",
       "        vertical-align: top;\n",
       "    }\n",
       "\n",
       "    .dataframe thead th {\n",
       "        text-align: right;\n",
       "    }\n",
       "</style>\n",
       "<table border=\"1\" class=\"dataframe\">\n",
       "  <thead>\n",
       "    <tr style=\"text-align: right;\">\n",
       "      <th></th>\n",
       "      <th>ave_in_out</th>\n",
       "      <th>mean</th>\n",
       "      <th>n_samples</th>\n",
       "      <th>ncut</th>\n",
       "      <th>percentile</th>\n",
       "      <th>stdev</th>\n",
       "      <th>test_acc</th>\n",
       "      <th>test_loss</th>\n",
       "      <th>train_acc</th>\n",
       "      <th>train_loss</th>\n",
       "      <th>z_score</th>\n",
       "      <th>model</th>\n",
       "      <th>is_sig</th>\n",
       "    </tr>\n",
       "  </thead>\n",
       "  <tbody>\n",
       "    <tr>\n",
       "      <th>0</th>\n",
       "      <td>0.327202</td>\n",
       "      <td>7.644785</td>\n",
       "      <td>50</td>\n",
       "      <td>7.253364</td>\n",
       "      <td>0.019608</td>\n",
       "      <td>0.108187</td>\n",
       "      <td>1.000000</td>\n",
       "      <td>0.000026</td>\n",
       "      <td>1.000000</td>\n",
       "      <td>0.000011</td>\n",
       "      <td>-3.617994</td>\n",
       "      <td>LINE</td>\n",
       "      <td>True</td>\n",
       "    </tr>\n",
       "    <tr>\n",
       "      <th>1</th>\n",
       "      <td>0.313899</td>\n",
       "      <td>7.783066</td>\n",
       "      <td>50</td>\n",
       "      <td>7.371920</td>\n",
       "      <td>0.019608</td>\n",
       "      <td>0.106990</td>\n",
       "      <td>1.000000</td>\n",
       "      <td>0.000036</td>\n",
       "      <td>1.000000</td>\n",
       "      <td>0.000022</td>\n",
       "      <td>-3.842830</td>\n",
       "      <td>LINE</td>\n",
       "      <td>True</td>\n",
       "    </tr>\n",
       "    <tr>\n",
       "      <th>2</th>\n",
       "      <td>0.315323</td>\n",
       "      <td>7.667933</td>\n",
       "      <td>50</td>\n",
       "      <td>7.359045</td>\n",
       "      <td>0.019608</td>\n",
       "      <td>0.122370</td>\n",
       "      <td>1.000000</td>\n",
       "      <td>0.000039</td>\n",
       "      <td>1.000000</td>\n",
       "      <td>0.000027</td>\n",
       "      <td>-2.524223</td>\n",
       "      <td>LINE</td>\n",
       "      <td>True</td>\n",
       "    </tr>\n",
       "    <tr>\n",
       "      <th>3</th>\n",
       "      <td>0.298867</td>\n",
       "      <td>7.708244</td>\n",
       "      <td>50</td>\n",
       "      <td>7.510642</td>\n",
       "      <td>0.019608</td>\n",
       "      <td>0.096152</td>\n",
       "      <td>1.000000</td>\n",
       "      <td>0.000048</td>\n",
       "      <td>1.000000</td>\n",
       "      <td>0.000022</td>\n",
       "      <td>-2.055100</td>\n",
       "      <td>LINE</td>\n",
       "      <td>True</td>\n",
       "    </tr>\n",
       "    <tr>\n",
       "      <th>4</th>\n",
       "      <td>0.320602</td>\n",
       "      <td>7.910620</td>\n",
       "      <td>50</td>\n",
       "      <td>7.311702</td>\n",
       "      <td>0.019608</td>\n",
       "      <td>0.082062</td>\n",
       "      <td>1.000000</td>\n",
       "      <td>0.000181</td>\n",
       "      <td>1.000000</td>\n",
       "      <td>0.000171</td>\n",
       "      <td>-7.298357</td>\n",
       "      <td>LINE</td>\n",
       "      <td>True</td>\n",
       "    </tr>\n",
       "    <tr>\n",
       "      <th>5</th>\n",
       "      <td>0.397428</td>\n",
       "      <td>8.892256</td>\n",
       "      <td>50</td>\n",
       "      <td>6.685774</td>\n",
       "      <td>0.019608</td>\n",
       "      <td>0.044247</td>\n",
       "      <td>0.295200</td>\n",
       "      <td>2.996638</td>\n",
       "      <td>0.903183</td>\n",
       "      <td>0.253735</td>\n",
       "      <td>-49.867484</td>\n",
       "      <td>LINE+DROPOUT</td>\n",
       "      <td>True</td>\n",
       "    </tr>\n",
       "    <tr>\n",
       "      <th>6</th>\n",
       "      <td>0.358717</td>\n",
       "      <td>8.891767</td>\n",
       "      <td>50</td>\n",
       "      <td>6.987170</td>\n",
       "      <td>0.019608</td>\n",
       "      <td>0.038094</td>\n",
       "      <td>0.293900</td>\n",
       "      <td>5.397707</td>\n",
       "      <td>0.920683</td>\n",
       "      <td>0.206457</td>\n",
       "      <td>-49.997865</td>\n",
       "      <td>LINE+DROPOUT</td>\n",
       "      <td>True</td>\n",
       "    </tr>\n",
       "    <tr>\n",
       "      <th>7</th>\n",
       "      <td>0.372457</td>\n",
       "      <td>8.885253</td>\n",
       "      <td>50</td>\n",
       "      <td>6.877133</td>\n",
       "      <td>0.019608</td>\n",
       "      <td>0.032116</td>\n",
       "      <td>0.303200</td>\n",
       "      <td>5.312357</td>\n",
       "      <td>0.924333</td>\n",
       "      <td>0.204587</td>\n",
       "      <td>-62.527534</td>\n",
       "      <td>LINE+DROPOUT</td>\n",
       "      <td>True</td>\n",
       "    </tr>\n",
       "    <tr>\n",
       "      <th>8</th>\n",
       "      <td>0.354684</td>\n",
       "      <td>8.885730</td>\n",
       "      <td>50</td>\n",
       "      <td>7.020136</td>\n",
       "      <td>0.019608</td>\n",
       "      <td>0.032859</td>\n",
       "      <td>0.293900</td>\n",
       "      <td>4.985370</td>\n",
       "      <td>0.910950</td>\n",
       "      <td>0.230818</td>\n",
       "      <td>-56.774956</td>\n",
       "      <td>LINE+DROPOUT</td>\n",
       "      <td>True</td>\n",
       "    </tr>\n",
       "    <tr>\n",
       "      <th>9</th>\n",
       "      <td>0.397984</td>\n",
       "      <td>8.876844</td>\n",
       "      <td>50</td>\n",
       "      <td>6.681631</td>\n",
       "      <td>0.019608</td>\n",
       "      <td>0.038527</td>\n",
       "      <td>0.293700</td>\n",
       "      <td>4.942878</td>\n",
       "      <td>0.902517</td>\n",
       "      <td>0.250102</td>\n",
       "      <td>-56.978968</td>\n",
       "      <td>LINE+DROPOUT</td>\n",
       "      <td>True</td>\n",
       "    </tr>\n",
       "    <tr>\n",
       "      <th>10</th>\n",
       "      <td>0.262122</td>\n",
       "      <td>8.781821</td>\n",
       "      <td>50</td>\n",
       "      <td>7.872756</td>\n",
       "      <td>0.019608</td>\n",
       "      <td>0.081341</td>\n",
       "      <td>0.991350</td>\n",
       "      <td>0.055174</td>\n",
       "      <td>1.000000</td>\n",
       "      <td>0.000222</td>\n",
       "      <td>-11.175960</td>\n",
       "      <td>LINE-MNIST</td>\n",
       "      <td>True</td>\n",
       "    </tr>\n",
       "    <tr>\n",
       "      <th>11</th>\n",
       "      <td>0.248972</td>\n",
       "      <td>8.866847</td>\n",
       "      <td>50</td>\n",
       "      <td>8.010980</td>\n",
       "      <td>0.019608</td>\n",
       "      <td>0.054647</td>\n",
       "      <td>0.990450</td>\n",
       "      <td>0.063653</td>\n",
       "      <td>0.999950</td>\n",
       "      <td>0.000248</td>\n",
       "      <td>-15.661761</td>\n",
       "      <td>LINE-MNIST</td>\n",
       "      <td>True</td>\n",
       "    </tr>\n",
       "    <tr>\n",
       "      <th>12</th>\n",
       "      <td>0.255602</td>\n",
       "      <td>9.022118</td>\n",
       "      <td>50</td>\n",
       "      <td>7.940688</td>\n",
       "      <td>0.019608</td>\n",
       "      <td>0.051410</td>\n",
       "      <td>0.990050</td>\n",
       "      <td>0.066750</td>\n",
       "      <td>0.999967</td>\n",
       "      <td>0.000209</td>\n",
       "      <td>-21.035385</td>\n",
       "      <td>LINE-MNIST</td>\n",
       "      <td>True</td>\n",
       "    </tr>\n",
       "    <tr>\n",
       "      <th>13</th>\n",
       "      <td>0.263361</td>\n",
       "      <td>9.176513</td>\n",
       "      <td>50</td>\n",
       "      <td>7.859977</td>\n",
       "      <td>0.019608</td>\n",
       "      <td>0.043159</td>\n",
       "      <td>0.990850</td>\n",
       "      <td>0.055603</td>\n",
       "      <td>1.000000</td>\n",
       "      <td>0.000167</td>\n",
       "      <td>-30.504072</td>\n",
       "      <td>LINE-MNIST</td>\n",
       "      <td>True</td>\n",
       "    </tr>\n",
       "    <tr>\n",
       "      <th>14</th>\n",
       "      <td>0.241830</td>\n",
       "      <td>9.117952</td>\n",
       "      <td>50</td>\n",
       "      <td>8.088103</td>\n",
       "      <td>0.019608</td>\n",
       "      <td>0.031715</td>\n",
       "      <td>0.991200</td>\n",
       "      <td>0.056069</td>\n",
       "      <td>1.000000</td>\n",
       "      <td>0.000075</td>\n",
       "      <td>-32.472029</td>\n",
       "      <td>LINE-MNIST</td>\n",
       "      <td>True</td>\n",
       "    </tr>\n",
       "    <tr>\n",
       "      <th>15</th>\n",
       "      <td>0.230472</td>\n",
       "      <td>8.445978</td>\n",
       "      <td>50</td>\n",
       "      <td>8.213871</td>\n",
       "      <td>0.019608</td>\n",
       "      <td>0.059778</td>\n",
       "      <td>0.993997</td>\n",
       "      <td>0.035791</td>\n",
       "      <td>1.000000</td>\n",
       "      <td>0.000015</td>\n",
       "      <td>-3.882833</td>\n",
       "      <td>LINE-MNIST-SEPARATED</td>\n",
       "      <td>True</td>\n",
       "    </tr>\n",
       "    <tr>\n",
       "      <th>16</th>\n",
       "      <td>0.235532</td>\n",
       "      <td>8.572652</td>\n",
       "      <td>50</td>\n",
       "      <td>8.157366</td>\n",
       "      <td>0.019608</td>\n",
       "      <td>0.055098</td>\n",
       "      <td>0.993590</td>\n",
       "      <td>0.039643</td>\n",
       "      <td>1.000000</td>\n",
       "      <td>0.000011</td>\n",
       "      <td>-7.537286</td>\n",
       "      <td>LINE-MNIST-SEPARATED</td>\n",
       "      <td>True</td>\n",
       "    </tr>\n",
       "    <tr>\n",
       "      <th>17</th>\n",
       "      <td>0.239758</td>\n",
       "      <td>8.326703</td>\n",
       "      <td>50</td>\n",
       "      <td>8.110761</td>\n",
       "      <td>0.039216</td>\n",
       "      <td>0.071833</td>\n",
       "      <td>0.993793</td>\n",
       "      <td>0.035616</td>\n",
       "      <td>1.000000</td>\n",
       "      <td>0.000014</td>\n",
       "      <td>-3.006168</td>\n",
       "      <td>LINE-MNIST-SEPARATED</td>\n",
       "      <td>False</td>\n",
       "    </tr>\n",
       "    <tr>\n",
       "      <th>18</th>\n",
       "      <td>0.229603</td>\n",
       "      <td>8.428510</td>\n",
       "      <td>50</td>\n",
       "      <td>8.223649</td>\n",
       "      <td>0.019608</td>\n",
       "      <td>0.091566</td>\n",
       "      <td>0.993590</td>\n",
       "      <td>0.043474</td>\n",
       "      <td>1.000000</td>\n",
       "      <td>0.000006</td>\n",
       "      <td>-2.237310</td>\n",
       "      <td>LINE-MNIST-SEPARATED</td>\n",
       "      <td>True</td>\n",
       "    </tr>\n",
       "    <tr>\n",
       "      <th>19</th>\n",
       "      <td>0.197654</td>\n",
       "      <td>8.712743</td>\n",
       "      <td>50</td>\n",
       "      <td>8.600256</td>\n",
       "      <td>0.039216</td>\n",
       "      <td>0.045851</td>\n",
       "      <td>0.993895</td>\n",
       "      <td>0.040035</td>\n",
       "      <td>1.000000</td>\n",
       "      <td>0.000013</td>\n",
       "      <td>-2.453316</td>\n",
       "      <td>LINE-MNIST-SEPARATED</td>\n",
       "      <td>False</td>\n",
       "    </tr>\n",
       "    <tr>\n",
       "      <th>20</th>\n",
       "      <td>0.346382</td>\n",
       "      <td>8.766149</td>\n",
       "      <td>50</td>\n",
       "      <td>7.089001</td>\n",
       "      <td>0.019608</td>\n",
       "      <td>0.042957</td>\n",
       "      <td>0.631550</td>\n",
       "      <td>1.433460</td>\n",
       "      <td>0.868875</td>\n",
       "      <td>0.391745</td>\n",
       "      <td>-39.042144</td>\n",
       "      <td>LINE-MNIST+DROPOUT</td>\n",
       "      <td>True</td>\n",
       "    </tr>\n",
       "    <tr>\n",
       "      <th>21</th>\n",
       "      <td>0.377102</td>\n",
       "      <td>8.697580</td>\n",
       "      <td>50</td>\n",
       "      <td>6.840708</td>\n",
       "      <td>0.019608</td>\n",
       "      <td>0.040652</td>\n",
       "      <td>0.659650</td>\n",
       "      <td>1.459593</td>\n",
       "      <td>0.873825</td>\n",
       "      <td>0.379827</td>\n",
       "      <td>-45.677545</td>\n",
       "      <td>LINE-MNIST+DROPOUT</td>\n",
       "      <td>True</td>\n",
       "    </tr>\n",
       "    <tr>\n",
       "      <th>22</th>\n",
       "      <td>0.370718</td>\n",
       "      <td>8.657248</td>\n",
       "      <td>50</td>\n",
       "      <td>6.890867</td>\n",
       "      <td>0.019608</td>\n",
       "      <td>0.063645</td>\n",
       "      <td>0.630200</td>\n",
       "      <td>2.087700</td>\n",
       "      <td>0.866225</td>\n",
       "      <td>0.412834</td>\n",
       "      <td>-27.753658</td>\n",
       "      <td>LINE-MNIST+DROPOUT</td>\n",
       "      <td>True</td>\n",
       "    </tr>\n",
       "    <tr>\n",
       "      <th>23</th>\n",
       "      <td>0.368275</td>\n",
       "      <td>8.724794</td>\n",
       "      <td>50</td>\n",
       "      <td>6.910252</td>\n",
       "      <td>0.019608</td>\n",
       "      <td>0.055847</td>\n",
       "      <td>0.630300</td>\n",
       "      <td>1.639292</td>\n",
       "      <td>0.873483</td>\n",
       "      <td>0.391841</td>\n",
       "      <td>-32.491371</td>\n",
       "      <td>LINE-MNIST+DROPOUT</td>\n",
       "      <td>True</td>\n",
       "    </tr>\n",
       "    <tr>\n",
       "      <th>24</th>\n",
       "      <td>0.365523</td>\n",
       "      <td>8.657273</td>\n",
       "      <td>50</td>\n",
       "      <td>6.932224</td>\n",
       "      <td>0.019608</td>\n",
       "      <td>0.050081</td>\n",
       "      <td>0.632950</td>\n",
       "      <td>1.712393</td>\n",
       "      <td>0.881842</td>\n",
       "      <td>0.369013</td>\n",
       "      <td>-34.445154</td>\n",
       "      <td>LINE-MNIST+DROPOUT</td>\n",
       "      <td>True</td>\n",
       "    </tr>\n",
       "    <tr>\n",
       "      <th>25</th>\n",
       "      <td>0.269154</td>\n",
       "      <td>9.036839</td>\n",
       "      <td>50</td>\n",
       "      <td>7.800782</td>\n",
       "      <td>0.019608</td>\n",
       "      <td>0.027096</td>\n",
       "      <td>0.896317</td>\n",
       "      <td>0.446133</td>\n",
       "      <td>0.985179</td>\n",
       "      <td>0.053819</td>\n",
       "      <td>-45.617161</td>\n",
       "      <td>LINE-MNIST-SEPARATED+DROPOUT</td>\n",
       "      <td>True</td>\n",
       "    </tr>\n",
       "    <tr>\n",
       "      <th>26</th>\n",
       "      <td>0.273358</td>\n",
       "      <td>9.007828</td>\n",
       "      <td>50</td>\n",
       "      <td>7.758378</td>\n",
       "      <td>0.019608</td>\n",
       "      <td>0.035947</td>\n",
       "      <td>0.894078</td>\n",
       "      <td>0.580593</td>\n",
       "      <td>0.983465</td>\n",
       "      <td>0.057267</td>\n",
       "      <td>-34.758453</td>\n",
       "      <td>LINE-MNIST-SEPARATED+DROPOUT</td>\n",
       "      <td>True</td>\n",
       "    </tr>\n",
       "    <tr>\n",
       "      <th>27</th>\n",
       "      <td>0.264680</td>\n",
       "      <td>9.050257</td>\n",
       "      <td>50</td>\n",
       "      <td>7.846415</td>\n",
       "      <td>0.019608</td>\n",
       "      <td>0.033111</td>\n",
       "      <td>0.933761</td>\n",
       "      <td>0.168804</td>\n",
       "      <td>0.984272</td>\n",
       "      <td>0.059092</td>\n",
       "      <td>-36.357354</td>\n",
       "      <td>LINE-MNIST-SEPARATED+DROPOUT</td>\n",
       "      <td>True</td>\n",
       "    </tr>\n",
       "    <tr>\n",
       "      <th>28</th>\n",
       "      <td>0.266811</td>\n",
       "      <td>9.032939</td>\n",
       "      <td>50</td>\n",
       "      <td>7.824615</td>\n",
       "      <td>0.019608</td>\n",
       "      <td>0.044495</td>\n",
       "      <td>0.912393</td>\n",
       "      <td>0.256417</td>\n",
       "      <td>0.982810</td>\n",
       "      <td>0.060726</td>\n",
       "      <td>-27.156666</td>\n",
       "      <td>LINE-MNIST-SEPARATED+DROPOUT</td>\n",
       "      <td>True</td>\n",
       "    </tr>\n",
       "    <tr>\n",
       "      <th>29</th>\n",
       "      <td>0.282771</td>\n",
       "      <td>9.054676</td>\n",
       "      <td>50</td>\n",
       "      <td>7.665080</td>\n",
       "      <td>0.019608</td>\n",
       "      <td>0.030442</td>\n",
       "      <td>0.831095</td>\n",
       "      <td>0.797394</td>\n",
       "      <td>0.983785</td>\n",
       "      <td>0.059121</td>\n",
       "      <td>-45.646786</td>\n",
       "      <td>LINE-MNIST-SEPARATED+DROPOUT</td>\n",
       "      <td>True</td>\n",
       "    </tr>\n",
       "  </tbody>\n",
       "</table>\n",
       "</div>"
      ],
      "text/plain": [
       "    ave_in_out      mean  n_samples      ncut  percentile     stdev  test_acc  \\\n",
       "0     0.327202  7.644785         50  7.253364    0.019608  0.108187  1.000000   \n",
       "1     0.313899  7.783066         50  7.371920    0.019608  0.106990  1.000000   \n",
       "2     0.315323  7.667933         50  7.359045    0.019608  0.122370  1.000000   \n",
       "3     0.298867  7.708244         50  7.510642    0.019608  0.096152  1.000000   \n",
       "4     0.320602  7.910620         50  7.311702    0.019608  0.082062  1.000000   \n",
       "5     0.397428  8.892256         50  6.685774    0.019608  0.044247  0.295200   \n",
       "6     0.358717  8.891767         50  6.987170    0.019608  0.038094  0.293900   \n",
       "7     0.372457  8.885253         50  6.877133    0.019608  0.032116  0.303200   \n",
       "8     0.354684  8.885730         50  7.020136    0.019608  0.032859  0.293900   \n",
       "9     0.397984  8.876844         50  6.681631    0.019608  0.038527  0.293700   \n",
       "10    0.262122  8.781821         50  7.872756    0.019608  0.081341  0.991350   \n",
       "11    0.248972  8.866847         50  8.010980    0.019608  0.054647  0.990450   \n",
       "12    0.255602  9.022118         50  7.940688    0.019608  0.051410  0.990050   \n",
       "13    0.263361  9.176513         50  7.859977    0.019608  0.043159  0.990850   \n",
       "14    0.241830  9.117952         50  8.088103    0.019608  0.031715  0.991200   \n",
       "15    0.230472  8.445978         50  8.213871    0.019608  0.059778  0.993997   \n",
       "16    0.235532  8.572652         50  8.157366    0.019608  0.055098  0.993590   \n",
       "17    0.239758  8.326703         50  8.110761    0.039216  0.071833  0.993793   \n",
       "18    0.229603  8.428510         50  8.223649    0.019608  0.091566  0.993590   \n",
       "19    0.197654  8.712743         50  8.600256    0.039216  0.045851  0.993895   \n",
       "20    0.346382  8.766149         50  7.089001    0.019608  0.042957  0.631550   \n",
       "21    0.377102  8.697580         50  6.840708    0.019608  0.040652  0.659650   \n",
       "22    0.370718  8.657248         50  6.890867    0.019608  0.063645  0.630200   \n",
       "23    0.368275  8.724794         50  6.910252    0.019608  0.055847  0.630300   \n",
       "24    0.365523  8.657273         50  6.932224    0.019608  0.050081  0.632950   \n",
       "25    0.269154  9.036839         50  7.800782    0.019608  0.027096  0.896317   \n",
       "26    0.273358  9.007828         50  7.758378    0.019608  0.035947  0.894078   \n",
       "27    0.264680  9.050257         50  7.846415    0.019608  0.033111  0.933761   \n",
       "28    0.266811  9.032939         50  7.824615    0.019608  0.044495  0.912393   \n",
       "29    0.282771  9.054676         50  7.665080    0.019608  0.030442  0.831095   \n",
       "\n",
       "    test_loss  train_acc  train_loss    z_score                         model  \\\n",
       "0    0.000026   1.000000    0.000011  -3.617994                          LINE   \n",
       "1    0.000036   1.000000    0.000022  -3.842830                          LINE   \n",
       "2    0.000039   1.000000    0.000027  -2.524223                          LINE   \n",
       "3    0.000048   1.000000    0.000022  -2.055100                          LINE   \n",
       "4    0.000181   1.000000    0.000171  -7.298357                          LINE   \n",
       "5    2.996638   0.903183    0.253735 -49.867484                  LINE+DROPOUT   \n",
       "6    5.397707   0.920683    0.206457 -49.997865                  LINE+DROPOUT   \n",
       "7    5.312357   0.924333    0.204587 -62.527534                  LINE+DROPOUT   \n",
       "8    4.985370   0.910950    0.230818 -56.774956                  LINE+DROPOUT   \n",
       "9    4.942878   0.902517    0.250102 -56.978968                  LINE+DROPOUT   \n",
       "10   0.055174   1.000000    0.000222 -11.175960                    LINE-MNIST   \n",
       "11   0.063653   0.999950    0.000248 -15.661761                    LINE-MNIST   \n",
       "12   0.066750   0.999967    0.000209 -21.035385                    LINE-MNIST   \n",
       "13   0.055603   1.000000    0.000167 -30.504072                    LINE-MNIST   \n",
       "14   0.056069   1.000000    0.000075 -32.472029                    LINE-MNIST   \n",
       "15   0.035791   1.000000    0.000015  -3.882833          LINE-MNIST-SEPARATED   \n",
       "16   0.039643   1.000000    0.000011  -7.537286          LINE-MNIST-SEPARATED   \n",
       "17   0.035616   1.000000    0.000014  -3.006168          LINE-MNIST-SEPARATED   \n",
       "18   0.043474   1.000000    0.000006  -2.237310          LINE-MNIST-SEPARATED   \n",
       "19   0.040035   1.000000    0.000013  -2.453316          LINE-MNIST-SEPARATED   \n",
       "20   1.433460   0.868875    0.391745 -39.042144            LINE-MNIST+DROPOUT   \n",
       "21   1.459593   0.873825    0.379827 -45.677545            LINE-MNIST+DROPOUT   \n",
       "22   2.087700   0.866225    0.412834 -27.753658            LINE-MNIST+DROPOUT   \n",
       "23   1.639292   0.873483    0.391841 -32.491371            LINE-MNIST+DROPOUT   \n",
       "24   1.712393   0.881842    0.369013 -34.445154            LINE-MNIST+DROPOUT   \n",
       "25   0.446133   0.985179    0.053819 -45.617161  LINE-MNIST-SEPARATED+DROPOUT   \n",
       "26   0.580593   0.983465    0.057267 -34.758453  LINE-MNIST-SEPARATED+DROPOUT   \n",
       "27   0.168804   0.984272    0.059092 -36.357354  LINE-MNIST-SEPARATED+DROPOUT   \n",
       "28   0.256417   0.982810    0.060726 -27.156666  LINE-MNIST-SEPARATED+DROPOUT   \n",
       "29   0.797394   0.983785    0.059121 -45.646786  LINE-MNIST-SEPARATED+DROPOUT   \n",
       "\n",
       "    is_sig  \n",
       "0     True  \n",
       "1     True  \n",
       "2     True  \n",
       "3     True  \n",
       "4     True  \n",
       "5     True  \n",
       "6     True  \n",
       "7     True  \n",
       "8     True  \n",
       "9     True  \n",
       "10    True  \n",
       "11    True  \n",
       "12    True  \n",
       "13    True  \n",
       "14    True  \n",
       "15    True  \n",
       "16    True  \n",
       "17   False  \n",
       "18    True  \n",
       "19   False  \n",
       "20    True  \n",
       "21    True  \n",
       "22    True  \n",
       "23    True  \n",
       "24    True  \n",
       "25    True  \n",
       "26    True  \n",
       "27    True  \n",
       "28    True  \n",
       "29    True  "
      ]
     },
     "execution_count": 19,
     "metadata": {},
     "output_type": "execute_result"
    }
   ],
   "source": [
    "df"
   ]
  },
  {
   "cell_type": "markdown",
   "metadata": {
    "papermill": {
     "duration": 0.692503,
     "end_time": "2020-10-07T00:04:14.933504",
     "exception": false,
     "start_time": "2020-10-07T00:04:14.241001",
     "status": "completed"
    },
    "tags": []
   },
   "source": [
    "### Unpruned results without shuffling\n",
    "#### TODO: Refactor\n",
    "- [ ] Combine with the unpruned table"
   ]
  },
  {
   "cell_type": "raw",
   "metadata": {
    "papermill": {
     "duration": 0.593161,
     "end_time": "2020-10-07T00:04:16.157688",
     "exception": false,
     "start_time": "2020-10-07T00:04:15.564527",
     "status": "completed"
    },
    "tags": []
   },
   "source": [
    "# first for the unpruned results\n",
    "unpruned_results = {}\n",
    "\n",
    "for (model_tag, _), dataset_tag in zip(TAGS_COMMANDS.items(), tqdm(DATASETS_TAGS)):\n",
    "    model_paths = get_model_path(model_tag, filter_='all')\n",
    "    unpruned_results[model_tag] = [run_spectral_cluster(path / f'{dataset_tag}-mlp-unpruned-weights.pckl',\n",
    "                                               with_shuffle=False)\n",
    "            for path in tqdm(model_paths[-N_TRAINED_MODELS:])]\n",
    "       \n",
    "unpruned_model_dfs = []\n",
    "\n",
    "for model_tag, model_results in unpruned_results.items():\n",
    "    _, metrics  = zip(*model_results)\n",
    "    unpruned_model_dfs.append(pd.DataFrame(metrics).assign(model=model_tag))\n",
    "\n",
    "unpruned_df = pd.concat(unpruned_model_dfs, ignore_index=True)\n",
    "\n",
    "unpruned_df_grpby_model = unpruned_df.groupby('model')\n",
    "\n",
    "\n",
    "unpruned_statistics_df = pd.concat([(unpruned_df_grpby_model[['ncut']]\n",
    "                             .agg(['mean', 'std'])),\n",
    "                            unpruned_df_grpby_model.size().rename('n_models'),\n",
    "                            (unpruned_df_grpby_model[['train_acc', 'test_acc']]\n",
    "                             .agg('mean'))],\n",
    "                           axis=1)\n",
    "\n",
    "unpruned_statistics_df = unpruned_statistics_df.loc[TAGS_COMMANDS.keys(), :]\n",
    "\n",
    "unpruned_statistics_df"
   ]
  },
  {
   "cell_type": "raw",
   "metadata": {
    "papermill": {
     "duration": 1.072308,
     "end_time": "2020-10-07T00:04:17.719968",
     "exception": false,
     "start_time": "2020-10-07T00:04:16.647660",
     "status": "completed"
    },
    "tags": []
   },
   "source": [
    "unpruned_df.to_csv(f'../results/mlp-clustering-stability-all-samples-unpruned-k{N_CLUSTERS}-n{N_SHUFFLES}.csv')\n",
    "unpruned_statistics_df.to_csv(f'../results/mlp-clustering-stability-statistics-unpruned-k{N_CLUSTERS}-n{N_SHUFFLES}.csv')"
   ]
  },
  {
   "cell_type": "markdown",
   "metadata": {
    "papermill": {
     "duration": 0.666332,
     "end_time": "2020-10-07T00:04:19.023603",
     "exception": false,
     "start_time": "2020-10-07T00:04:18.357271",
     "status": "completed"
    },
    "pycharm": {
     "name": "#%%\n"
    },
    "tags": []
   },
   "source": [
    "# second for the pruned results\n",
    "pruned_results = {}\n",
    "\n",
    "for (model_tag, _), dataset_tag in zip(TAGS_COMMANDS.items(), tqdm(DATASETS_TAGS)):\n",
    "    model_paths = get_model_path(model_tag, filter_='all')\n",
    "    pruned_results[model_tag] = [run_spectral_cluster(path / f'{dataset_tag}-mlp-pruned-weights.pckl',\n",
    "                                               with_shuffle=False)\n",
    "            for path in tqdm(model_paths[-N_TRAINED_MODELS:])]\n",
    "       \n",
    "pruned_model_dfs = []\n",
    "\n",
    "for model_tag, model_results in pruned_results.items():\n",
    "    _, metrics  = zip(*model_results)\n",
    "    pruned_model_dfs.append(pd.DataFrame(metrics).assign(model=model_tag))\n",
    "\n",
    "pruned_df = pd.concat(pruned_model_dfs, ignore_index=True)\n",
    "\n",
    "pruned_df_grpby_model = pruned_df.groupby('model')\n",
    "\n",
    "\n",
    "pruned_statistics_df = pd.concat([(pruned_df_grpby_model[['ncut']]\n",
    "                             .agg(['mean', 'std'])),\n",
    "                            pruned_df_grpby_model.size().rename('n_models'),\n",
    "                            (pruned_df_grpby_model[['train_acc', 'test_acc']]\n",
    "                             .agg('mean'))],\n",
    "                           axis=1)\n",
    "\n",
    "pruned_statistics_df = pruned_statistics_df.loc[TAGS_COMMANDS.keys(), :]\n",
    "\n",
    "pruned_statistics_df"
   ]
  },
  {
   "cell_type": "raw",
   "metadata": {
    "papermill": {
     "duration": 1.077516,
     "end_time": "2020-10-07T00:04:21.382968",
     "exception": false,
     "start_time": "2020-10-07T00:04:20.305452",
     "status": "completed"
    },
    "pycharm": {
     "name": "#%%\n"
    },
    "tags": []
   },
   "source": [
    "pruned_df.to_csv('../results/mlp-clustering-stability-all-samples.csv')\n",
    "pruned_statistics_df.to_csv('../results/mlp-clustering-stability-statistics.csv')"
   ]
  }
 ],
 "metadata": {
  "kernelspec": {
   "display_name": "Python 3",
   "language": "python",
   "name": "python3"
  },
  "language_info": {
   "codemirror_mode": {
    "name": "ipython",
    "version": 3
   },
   "file_extension": ".py",
   "mimetype": "text/x-python",
   "name": "python",
   "nbconvert_exporter": "python",
   "pygments_lexer": "ipython3",
   "version": "3.7.5"
  },
  "papermill": {
   "duration": 15453.7075,
   "end_time": "2020-10-07T00:04:26.391123",
   "environment_variables": {},
   "exception": null,
   "input_path": "./notebooks/mlp-clustering-stability.ipynb",
   "output_path": "./notebooks/mlp-clustering-stability.ipynb",
   "parameters": {},
   "start_time": "2020-10-06T19:46:52.683623",
   "version": "1.1.0"
  },
  "pycharm": {
   "stem_cell": {
    "cell_type": "raw",
    "metadata": {
     "collapsed": false
    },
    "source": []
   }
  }
 },
 "nbformat": 4,
 "nbformat_minor": 2
}