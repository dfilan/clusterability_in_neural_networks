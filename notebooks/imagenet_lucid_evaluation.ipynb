{
 "cells": [
  {
   "cell_type": "code",
   "execution_count": 1,
   "metadata": {
    "execution": {
     "iopub.execute_input": "2020-08-15T20:28:52.151495Z",
     "iopub.status.busy": "2020-08-15T20:28:52.149889Z",
     "iopub.status.idle": "2020-08-15T20:28:56.378788Z",
     "shell.execute_reply": "2020-08-15T20:28:56.377249Z"
    },
    "papermill": {
     "duration": 4.261577,
     "end_time": "2020-08-15T20:28:56.379147",
     "exception": false,
     "start_time": "2020-08-15T20:28:52.117570",
     "status": "completed"
    },
    "tags": []
   },
   "outputs": [
    {
     "name": "stderr",
     "output_type": "stream",
     "text": [
      "Using TensorFlow backend.\n"
     ]
    }
   ],
   "source": [
    "import sys\n",
    "sys.path.append('..')\n",
    "from src.lucid import evaluate_imagenet_visualizations"
   ]
  },
  {
   "cell_type": "code",
   "execution_count": 2,
   "metadata": {
    "collapsed": false,
    "execution": {
     "iopub.execute_input": "2020-08-15T20:28:56.410752Z",
     "iopub.status.busy": "2020-08-15T20:28:56.409154Z",
     "iopub.status.idle": "2020-08-15T20:28:56.412535Z",
     "shell.execute_reply": "2020-08-15T20:28:56.413811Z"
    },
    "papermill": {
     "duration": 0.02517,
     "end_time": "2020-08-15T20:28:56.414163",
     "exception": false,
     "start_time": "2020-08-15T20:28:56.388993",
     "status": "completed"
    },
    "pycharm": {
     "name": "#%%\n"
    },
    "tags": []
   },
   "outputs": [],
   "source": [
    "VIS_NETS = ['vgg16', 'vgg19', 'resnet50']"
   ]
  },
  {
   "cell_type": "code",
   "execution_count": 3,
   "metadata": {
    "execution": {
     "iopub.execute_input": "2020-08-15T20:28:56.443307Z",
     "iopub.status.busy": "2020-08-15T20:28:56.442241Z",
     "iopub.status.idle": "2020-08-15T20:29:28.233843Z",
     "shell.execute_reply": "2020-08-15T20:29:28.234626Z"
    },
    "papermill": {
     "duration": 31.81256,
     "end_time": "2020-08-15T20:29:28.234887",
     "exception": false,
     "start_time": "2020-08-15T20:28:56.422327",
     "status": "completed"
    },
    "pycharm": {
     "name": "#%%\n"
    },
    "tags": []
   },
   "outputs": [
    {
     "name": "stdout",
     "output_type": "stream",
     "text": [
      "WARNING:tensorflow:From /usr/local/lib/python3.7/dist-packages/tensorflow_core/python/ops/resource_variable_ops.py:1630: calling BaseResourceVariable.__init__ (from tensorflow.python.ops.resource_variable_ops) with constraint is deprecated and will be removed in a future version.\n",
      "Instructions for updating:\n",
      "If using Keras pass *_constraint arguments to layers.\n"
     ]
    },
    {
     "name": "stderr",
     "output_type": "stream",
     "text": [
      "WARNING:tensorflow:From /usr/local/lib/python3.7/dist-packages/tensorflow_core/python/ops/resource_variable_ops.py:1630: calling BaseResourceVariable.__init__ (from tensorflow.python.ops.resource_variable_ops) with constraint is deprecated and will be removed in a future version.\n",
      "Instructions for updating:\n",
      "If using Keras pass *_constraint arguments to layers.\n"
     ]
    },
    {
     "name": "stdout",
     "output_type": "stream",
     "text": [
      "WARNING:tensorflow:From /usr/local/lib/python3.7/dist-packages/keras/backend/tensorflow_backend.py:4070: The name tf.nn.max_pool is deprecated. Please use tf.nn.max_pool2d instead.\n",
      "\n"
     ]
    },
    {
     "name": "stderr",
     "output_type": "stream",
     "text": [
      "WARNING:tensorflow:From /usr/local/lib/python3.7/dist-packages/keras/backend/tensorflow_backend.py:4070: The name tf.nn.max_pool is deprecated. Please use tf.nn.max_pool2d instead.\n",
      "\n"
     ]
    },
    {
     "name": "stdout",
     "output_type": "stream",
     "text": [
      "WARNING:tensorflow:From /usr/local/lib/python3.7/dist-packages/keras/backend/tensorflow_backend.py:422: The name tf.global_variables is deprecated. Please use tf.compat.v1.global_variables instead.\n",
      "\n"
     ]
    },
    {
     "name": "stderr",
     "output_type": "stream",
     "text": [
      "WARNING:tensorflow:From /usr/local/lib/python3.7/dist-packages/keras/backend/tensorflow_backend.py:422: The name tf.global_variables is deprecated. Please use tf.compat.v1.global_variables instead.\n",
      "\n"
     ]
    },
    {
     "name": "stdout",
     "output_type": "stream",
     "text": [
      "vgg16\n",
      "max chi2_categorical_ps_entropy: 0.62911\n",
      "max chi2_categorical_ps_loss: 0.0\n",
      "max combined_ps_entropy: 0.14257\n",
      "max combined_ps_loss: 0.00027\n",
      "percentiles_entropy: [0.6 0.8 0.3 0.6 0.4 0.1 0.3 0.2 0.5 0.7 0.4 0.2 0.1 0.1 0.2 0.7 0.9 0.7\n",
      " 0.1 0.4 1.  0.4 0.7 0.4 0.9 0.3]\n",
      "percentiles_loss: [0.1 0.1 0.1 0.1 0.1 0.2 0.1 0.9 0.1 0.2 0.1 0.1 0.8 1.  0.1 0.1 0.4 0.8\n",
      " 1.  1.  0.1 0.9 0.4 0.7 0.4 0.1]\n",
      "\n"
     ]
    },
    {
     "name": "stdout",
     "output_type": "stream",
     "text": [
      "vgg19\n",
      "max chi2_categorical_ps_entropy: 0.40709\n",
      "max chi2_categorical_ps_loss: 0.0\n",
      "max combined_ps_entropy: 0.72857\n",
      "max combined_ps_loss: 0.00128\n",
      "percentiles_entropy: [0.5 0.2 0.9 0.6 0.1 0.4 1.  0.9 0.6 0.6 0.9 0.7 0.2 0.5 0.1 1.  0.9 0.2\n",
      " 1.  0.6 0.5 0.4 0.6 0.7]\n",
      "percentiles_loss: [1.  0.1 0.1 0.1 0.6 0.1 0.1 0.3 1.  0.3 0.1 0.1 0.1 0.1 1.  0.4 0.4 1.\n",
      " 0.1 1.  1.  0.1 0.3 0.3]\n",
      "\n"
     ]
    },
    {
     "name": "stdout",
     "output_type": "stream",
     "text": [
      "resnet50\n",
      "max chi2_categorical_ps_entropy: 0.97339\n",
      "max chi2_categorical_ps_loss: 0.55952\n",
      "max combined_ps_entropy: 0.38013\n",
      "max combined_ps_loss: 0.15998\n",
      "percentiles_entropy: [0.5 1.  0.2 1.  0.2 0.4 0.6 0.4 0.8 0.1 0.8 0.5 0.6 0.1 0.9 0.3]\n",
      "percentiles_loss: [0.1 0.8 0.7 0.9 0.4 0.8 0.4 1.  0.4 0.6 0.3 0.1 0.1 0.5 0.1 0.5]\n",
      "\n"
     ]
    }
   ],
   "source": [
    "for net in VIS_NETS:\n",
    "\n",
    "    results = evaluate_imagenet_visualizations(net)\n",
    "\n",
    "    print(net)\n",
    "    percentiles = results['percentiles']\n",
    "    chi2_ps = results['chi2_ps']\n",
    "    combined_ps = results['combined_ps']\n",
    "    print('max chi2_categorical_ps_entropy:', round(chi2_ps[0], 5))\n",
    "    print('max chi2_categorical_ps_loss:', round(chi2_ps[1], 5))\n",
    "    print('max combined_ps_entropy:', round(combined_ps[0], 5))\n",
    "    print('max combined_ps_loss:', round(combined_ps[1], 5))\n",
    "    # sm_info = [f'lyr={layer}, sm_siz={size}, lyr_siz={layer_size}, clust={cluster}'\n",
    "    #            for layer, size, layer_size, cluster in\n",
    "    #            zip(results['sm_layers'], results['sm_sizes'], results['sm_layer_sizes'], results['sm_clusters'])]\n",
    "    # print(f'{len(sm_info)} submodules with info: {sm_info}')\n",
    "    print(f'percentiles_entropy: {percentiles[0]}')\n",
    "    print(f'percentiles_loss: {percentiles[1]}')\n",
    "    print()"
   ]
  }
 ],
 "metadata": {
  "kernelspec": {
   "display_name": "Python 3",
   "language": "python",
   "name": "python3"
  },
  "language_info": {
   "codemirror_mode": {
    "name": "ipython",
    "version": 3
   },
   "file_extension": ".py",
   "mimetype": "text/x-python",
   "name": "python",
   "nbconvert_exporter": "python",
   "pygments_lexer": "ipython3",
   "version": "3.7.3"
  },
  "papermill": {
   "duration": 39.262617,
   "end_time": "2020-08-15T20:29:30.538877",
   "environment_variables": {},
   "exception": null,
   "input_path": "./notebooks/imagenet_lucid_evaluation.ipynb",
   "output_path": "./notebooks/imagenet_lucid_evaluation.ipynb",
   "parameters": {},
   "start_time": "2020-08-15T20:28:51.276260",
   "version": "1.2.1"
  }
 },
 "nbformat": 4,
 "nbformat_minor": 1
}