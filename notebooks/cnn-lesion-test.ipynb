{
 "cells": [
  {
   "cell_type": "markdown",
   "metadata": {
    "collapsed": false,
    "papermill": {
     "duration": 0.006953,
     "end_time": "2020-09-23T02:53:38.580482",
     "exception": false,
     "start_time": "2020-09-23T02:53:38.573529",
     "status": "completed"
    },
    "tags": []
   },
   "source": [
    "# CNN Lesion Test"
   ]
  },
  {
   "cell_type": "code",
   "execution_count": 1,
   "metadata": {
    "collapsed": false,
    "execution": {
     "iopub.execute_input": "2020-09-23T02:53:38.610859Z",
     "iopub.status.busy": "2020-09-23T02:53:38.609967Z",
     "iopub.status.idle": "2020-09-23T02:53:44.924067Z",
     "shell.execute_reply": "2020-09-23T02:53:44.924944Z"
    },
    "papermill": {
     "duration": 6.330792,
     "end_time": "2020-09-23T02:53:44.925407",
     "exception": false,
     "start_time": "2020-09-23T02:53:38.594615",
     "status": "completed"
    },
    "pycharm": {
     "name": "#%%\n"
    },
    "tags": []
   },
   "outputs": [
    {
     "name": "stderr",
     "output_type": "stream",
     "text": [
      "Using TensorFlow backend.\n"
     ]
    }
   ],
   "source": [
    "import os\n",
    "os.environ['CUDA_VISIBLE_DEVICES'] = '1'\n",
    "\n",
    "import sys\n",
    "sys.path.append('..')\n",
    "\n",
    "from IPython import display\n",
    "from tqdm import tqdm\n",
    "import seaborn as sns\n",
    "import pandas as pd\n",
    "import warnings\n",
    "from src.utils import suppress, all_logging_disabled\n",
    "from src.lesion import (perform_lesion_experiment, do_lesion_hypo_tests,\n",
    "                        plot_all_damaged_clusters, compute_damaged_cluster_stats,\n",
    "                        plot_overall_damaged_clusters)\n",
    "from src.pointers import DATA_PATHS\n",
    "from src.experiment_tagging import get_model_path\n",
    "\n",
    "sns.set(style='whitegrid')"
   ]
  },
  {
   "cell_type": "code",
   "execution_count": 2,
   "metadata": {
    "collapsed": false,
    "execution": {
     "iopub.execute_input": "2020-09-23T02:53:44.958545Z",
     "iopub.status.busy": "2020-09-23T02:53:44.957259Z",
     "iopub.status.idle": "2020-09-23T02:53:44.960579Z",
     "shell.execute_reply": "2020-09-23T02:53:44.961576Z"
    },
    "papermill": {
     "duration": 0.028882,
     "end_time": "2020-09-23T02:53:44.961883",
     "exception": false,
     "start_time": "2020-09-23T02:53:44.933001",
     "status": "completed"
    },
    "pycharm": {
     "name": "#%%\n"
    },
    "tags": []
   },
   "outputs": [],
   "source": [
    "MODELS = [('mnist', 'CNN-MNIST'),\n",
    "          ('cifar10', 'CNN-CIFAR10'),\n",
    "          ('fashion', 'CNN-FASHION'),\n",
    "          ('mnist', 'CNN-MNIST+DROPOUT'),\n",
    "          ('cifar10', 'CNN-CIFAR10+DROPOUT'),\n",
    "          ('fashion', 'CNN-FASHION+DROPOUT'),\n",
    "          ('mnist', 'CNN-MNIST+L1REG'),\n",
    "          ('cifar10', 'CNN-CIFAR10+L1REG'),\n",
    "          ('fashion', 'CNN-FASHION+L1REG')]\n",
    "\n",
    "n_clust = 12\n",
    "n_shuffles = 20\n",
    "n_workers = 10"
   ]
  },
  {
   "cell_type": "code",
   "execution_count": 3,
   "metadata": {
    "collapsed": false,
    "execution": {
     "iopub.execute_input": "2020-09-23T02:53:44.994617Z",
     "iopub.status.busy": "2020-09-23T02:53:44.993600Z",
     "iopub.status.idle": "2020-09-02T15:27:52.588516Z",
     "shell.execute_reply": "2020-09-02T15:27:52.589344Z"
    },
    "papermill": {
     "duration": 8.896004,
     "end_time": "2020-09-23T02:53:53.866328",
     "exception": false,
     "start_time": "2020-09-23T02:53:44.970324",
     "status": "completed"
    },
    "pycharm": {
     "name": "#%%\n"
    },
    "tags": []
   },
   "outputs": [
    {
     "name": "stderr",
     "output_type": "stream",
     "text": [
      "\r",
      "  0%|          | 0/9 [00:00<?, ?it/s]"
     ]
    }
   ],
   "source": [
    "%%time\n",
    "\n",
    "with warnings.catch_warnings():\n",
    "    warnings.simplefilter('ignore')\n",
    "\n",
    "    for dataset_name, model_name in tqdm(MODELS):\n",
    "\n",
    "        (true_results,\n",
    "         all_random_results,\n",
    "         metadata,\n",
    "         evaluation) = perform_lesion_experiment('.' + DATA_PATHS[dataset_name],\n",
    "                                                 get_model_path(model_name), n_clusters=n_clust,\n",
    "                                                 n_shuffles=n_shuffles, unpruned=True)\n",
    "\n",
    "        plot_all_damaged_clusters(true_results, all_random_results, metadata, evaluation,\n",
    "                                  title=f'{model_name}')\n",
    "\n",
    "        plot_overall_damaged_clusters(true_results, all_random_results, metadata, evaluation,\n",
    "                                      title=f'{model_name}')\n",
    "\n",
    "        # df = compute_damaged_cluster_stats(true_results, all_random_results, metadata, evaluation)\n",
    "        # display.display(df)\n",
    "\n",
    "        hypo_results = do_lesion_hypo_tests(evaluation, true_results, all_random_results)\n",
    "        mean_percentiles = hypo_results['mean_percentiles']\n",
    "        range_percentiles = hypo_results['range_percentiles']\n",
    "        chi2_p_means = hypo_results['chi2_p_means']\n",
    "        chi2_p_ranges = hypo_results['chi2_p_ranges']\n",
    "        combined_p_means = hypo_results['combined_p_means']\n",
    "        combined_p_ranges = hypo_results['combined_p_ranges']\n",
    "        print(f'{model_name}')\n",
    "        print(f'Mean percentiles: {mean_percentiles}')\n",
    "        print(f'Range percentiles: {range_percentiles}')\n",
    "        print(f'chi2 mean p: {chi2_p_means}')\n",
    "        print(f'chi2 range p: {chi2_p_means}')\n",
    "        print(f'combined mean p: {combined_p_means}')\n",
    "        print(f'combined range p: {combined_p_ranges}')\n",
    "        print()"
   ]
  }
 ],
 "metadata": {
  "kernelspec": {
   "display_name": "Python 3",
   "language": "python",
   "name": "python3"
  },
  "language_info": {
   "codemirror_mode": {
    "name": "ipython",
    "version": 3
   },
   "file_extension": ".py",
   "mimetype": "text/x-python",
   "name": "python",
   "nbconvert_exporter": "python",
   "pygments_lexer": "ipython3",
   "version": "3.7.5"
  },
  "nteract": {
   "version": "0.12.3"
  },
  "papermill": {
   "duration": 21.579592,
   "end_time": "2020-09-23T02:53:59.085363",
   "environment_variables": {},
   "exception": null,
   "input_path": "./notebooks/cnn-lesion-test.ipynb",
   "output_path": "./notebooks/cnn-lesion-test.ipynb",
   "parameters": {},
   "start_time": "2020-09-23T02:53:37.505771",
   "version": "1.1.0"
  }
 },
 "nbformat": 4,
 "nbformat_minor": 2
}