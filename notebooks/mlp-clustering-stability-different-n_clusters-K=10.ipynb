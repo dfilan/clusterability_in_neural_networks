{
 "cells": [
  {
   "cell_type": "markdown",
   "metadata": {
    "papermill": {
     "duration": 0.029092,
     "end_time": "2020-05-28T07:26:47.128850",
     "exception": false,
     "start_time": "2020-05-28T07:26:47.099758",
     "status": "completed"
    },
    "tags": []
   },
   "source": [
    "# MLP Clustering Significance Stability over Multiple Trainings - Different #Clusters\n",
    "\n",
    "### Before Running on Perceptron\n",
    "\n",
    "Go to `src/train_nn.py` to line 46, and change the path `./models/` to `/scratch/<your username>/models`\n",
    "\n",
    "Do not forget to undo this change!\n",
    "\n",
    "DO NOT COMMIT THIS CHANGE TO GITHUB!!!"
   ]
  },
  {
   "cell_type": "code",
   "execution_count": 1,
   "metadata": {
    "papermill": {
     "duration": 0.038038,
     "end_time": "2020-05-28T07:26:47.192427",
     "exception": false,
     "start_time": "2020-05-28T07:26:47.154389",
     "status": "completed"
    },
    "tags": [
     "parameters"
    ]
   },
   "outputs": [],
   "source": [
    "N_CLUSTERS = 4"
   ]
  },
  {
   "cell_type": "code",
   "execution_count": 2,
   "metadata": {
    "papermill": {
     "duration": 0.037558,
     "end_time": "2020-05-28T07:26:47.258784",
     "exception": false,
     "start_time": "2020-05-28T07:26:47.221226",
     "status": "completed"
    },
    "tags": [
     "injected-parameters"
    ]
   },
   "outputs": [],
   "source": [
    "# Parameters\n",
    "N_CLUSTERS = 10\n"
   ]
  },
  {
   "cell_type": "code",
   "execution_count": 3,
   "metadata": {
    "papermill": {
     "duration": 0.058276,
     "end_time": "2020-05-28T07:26:47.343633",
     "exception": false,
     "start_time": "2020-05-28T07:26:47.285357",
     "status": "completed"
    },
    "tags": []
   },
   "outputs": [],
   "source": [
    "%load_ext autoreload\n",
    "%autoreload 1"
   ]
  },
  {
   "cell_type": "code",
   "execution_count": 4,
   "metadata": {
    "papermill": {
     "duration": 4.725069,
     "end_time": "2020-05-28T07:26:52.095457",
     "exception": false,
     "start_time": "2020-05-28T07:26:47.370388",
     "status": "completed"
    },
    "tags": []
   },
   "outputs": [],
   "source": [
    "import sys\n",
    "sys.path.append('..')\n",
    "\n",
    "import random\n",
    "import subprocess\n",
    "from multiprocessing import Pool\n",
    "\n",
    "import numpy as np\n",
    "import matplotlib.pylab as plt\n",
    "import pandas as pd\n",
    "from tqdm import tqdm, trange\n",
    "from IPython import display\n",
    "\n",
    "from src.visualization import draw_mlp_clustering_report, run_double_spectral_cluster, run_spectral_cluster\n",
    "from src.utils import get_weights_paths, build_clustering_results, cohen_d_stats\n",
    "from src.experiment_tagging import get_model_path, MODEL_TAG_LOOKUP\n",
    "# from src.spectral_cluster_model import SHUFFLE_METHODS\n",
    "SHUFFLE_METHODS = ['layer', 'layer_nonzero']"
   ]
  },
  {
   "cell_type": "code",
   "execution_count": 5,
   "metadata": {
    "papermill": {
     "duration": 0.042673,
     "end_time": "2020-05-28T07:26:52.169836",
     "exception": false,
     "start_time": "2020-05-28T07:26:52.127163",
     "status": "completed"
    },
    "tags": []
   },
   "outputs": [],
   "source": [
    "N_TRAINED_MODELS = 10\n",
    "\n",
    "# we ar doing 320 experiments (=32 models x 10 times),\n",
    "# and let's have expectation of false-positive <= 1\n",
    "# so we can set n_shuffles to 320, and then p-values < 1/401\n",
    "# if we make it too large, let see, 1000 shuffles...\n",
    "# ... we might reduce the statistical power (given H1, the probability to reject it incorrectly)!\n",
    "N_SHUFFLES = 320\n",
    "\n",
    "N_GPUS = 4\n",
    "\n",
    "TAGS_COMMANDS = {\n",
    "    'MNIST': 'python -m src.train_nn with mlp_config dataset_name=mnist',\n",
    "    'CIFAR10': 'python -m src.train_nn with mlp_config dataset_name=cifar10 pruning_epochs=40',\n",
    "#    'LINE': 'python -m src.train_nn with mlp_config dataset_name=line',\n",
    "    'FASHION': 'python -m src.train_nn with mlp_config dataset_name=fashion',\n",
    "    'MNIST+DROPOUT': 'python -m src.train_nn with mlp_config dataset_name=mnist with_dropout=True',\n",
    "    'CIFAR10+DROPOUT': 'python -m src.train_nn with mlp_config dataset_name=cifar10 epochs=100 pruning_epochs=40 with_dropout=True dropout_rate=0.2',\n",
    "#    'LINE+DROPOUT': 'python -m src.train_nn with mlp_config dataset_name=line with_dropout=True',\n",
    "    'FASHION+DROPOUT': 'python -m src.train_nn with mlp_config dataset_name=fashion with_dropout=True',\n",
    "#    'LINE-MNIST': 'python -m src.train_nn with mlp_config dataset_name=line-mnist',\n",
    "#    'LINE-CIFAR10': 'python -m src.train_nn with mlp_config dataset_name=line-cifar10 epochs=30 pruning_epochs=40',\n",
    "#    'MNIST-CIFAR10': 'python -m src.train_nn with mlp_config dataset_name=mnist-cifar10 epochs=30 pruning_epochs=40',\n",
    "#    'LINE-MNIST-SEPARATED': 'python -m src.train_nn with mlp_config dataset_name=line-mnist-separated',\n",
    "#    'LINE-CIFAR10-SEPARATED': 'python -m src.train_nn with mlp_config dataset_name=line-cifar10-separated epochs=30 pruning_epochs=40',\n",
    "#    'MNIST-CIFAR10-SEPARATED': 'python -m src.train_nn with mlp_config dataset_name=mnist-cifar10-separated epochs=30 pruning_epochs=40',\n",
    "#    'LINE-MNIST+DROPOUT': 'python -m src.train_nn with mlp_config dataset_name=line-mnist with_dropout=True',\n",
    "#    'LINE-CIFAR10+DROPOUT': 'python -m src.train_nn with mlp_config dataset_name=line-cifar10 epochs=30 pruning_epochs=40 with_dropout=True dropout_rate=0.2',\n",
    "#    'MNIST-CIFAR10+DROPOUT': 'python -m src.train_nn with mlp_config dataset_name=mnist-cifar10 epochs=30 pruning_epochs=40 with_dropout=True dropout_rate=0.2',\n",
    "#    'LINE-MNIST-SEPARATED+DROPOUT': 'python -m src.train_nn with mlp_config dataset_name=line-mnist-separated with_dropout=True',\n",
    "#    'LINE-CIFAR10-SEPARATED+DROPOUT': 'python -m src.train_nn with mlp_config dataset_name=line-cifar10-separated epochs=30 pruning_epochs=40 with_dropout=True dropout_rate=0.2',\n",
    "#    'MNIST-CIFAR10-SEPARATED+DROPOUT': 'python -m src.train_nn with mlp_config dataset_name=mnist-cifar10-separated epochs=30 pruning_epochs=40 with_dropout=True dropout_rate=0.2',\n",
    "#    'RANDOM': 'python -m src.train_nn with mlp_config dataset_name=random',\n",
    "#    'RANDOM+DROPOUT': 'python -m src.train_nn with mlp_config dataset_name=random with_dropout=True',\n",
    "#    'MNIST-x1.5-EPOCHS': 'python -m src.train_nn with mlp_config dataset_name=mnist epochs=30',\n",
    "#    'MNIST-x1.5-EPOCHS+DROPOUT':'python -m src.train_nn with mlp_config dataset_name=mnist epochs=30 with_dropout=True',\n",
    "#    'MNIST-x2-EPOCHS':'python -m src.train_nn with mlp_config dataset_name=mnist epochs=40',\n",
    "#    'MNIST-x2-EPOCHS+DROPOUT':'python -m src.train_nn with mlp_config dataset_name=mnist epochs=40 with_dropout=True',\n",
    "#    'MNIST-x10-EPOCHS': 'python -m src.train_nn with mlp_config dataset_name=mnist epochs=200',\n",
    "#    'MNIST-x10-EPOCHS+DROPOUT': 'python -m src.train_nn with mlp_config dataset_name=mnist epochs=200 with_dropout=True',\n",
    "#    'RANDOM-x50-EPOCHS': 'python -m src.train_nn with mlp_config dataset_name=random epochs=1000',\n",
    "#    'RANDOM-x50-EPOCHS+DROPOUT': 'python -m src.train_nn with mlp_config dataset_name=random epochs=1000 with_dropout=True',\n",
    "#    'RANDOM-OVERFITTING': 'python -m src.train_nn with mlp_config dataset_name=random epochs=100 pruning_epochs=100 shuffle=False n_train=3000',\n",
    "#    'RANDOM-OVERFITTING+DROPOUT': 'python -m src.train_nn with mlp_config dataset_name=random epochs=100 pruning_epochs=100 shuffle=False n_train=3000 with_dropout=True'\n",
    "}\n",
    "DATASETS_TAGS = [command.split()[5][13:] for command in TAGS_COMMANDS.values()]"
   ]
  },
  {
   "cell_type": "code",
   "execution_count": 6,
   "metadata": {
    "papermill": {
     "duration": 0.04088,
     "end_time": "2020-05-28T07:26:52.235444",
     "exception": false,
     "start_time": "2020-05-28T07:26:52.194564",
     "status": "completed"
    },
    "tags": []
   },
   "outputs": [],
   "source": [
    "if False:\n",
    "    def train_model_multiply(command, n_models_per_command, gpu_id=None):    \n",
    "        for _ in range(n_models_per_command):\n",
    "            actual_command = f'cd .. && {command}'#' > /dev/null 2>&1'\n",
    "            print(actual_command)\n",
    "            subprocess.run(actual_command, shell=True,\n",
    "                           env={'CUDA_VISIBLE_DEVICES': str(gpu_id)})\n",
    "\n",
    "\n",
    "    def train_models(commands, n_models_per_command, gpu_id=None):\n",
    "        for command in commands:\n",
    "            train_model_multiply(command, n_models_per_command, gpu_id)\n",
    "\n",
    "            commands = list(TAGS_COMMANDS.values())\n",
    "    random.shuffle(commands)\n",
    "\n",
    "    assert len(commands) % N_GPUS == 0\n",
    "    n_commands_per_gpu = len(commands) // N_GPUS\n",
    "\n",
    "    with Pool(N_GPUS) as p:\n",
    "\n",
    "        p.starmap(train_models,\n",
    "                 [(commands[gpu_id*n_commands_per_gpu : (gpu_id+1)*n_commands_per_gpu], N_TRAINED_MODELS, gpu_id)\n",
    "                 for gpu_id in range(N_GPUS)])"
   ]
  },
  {
   "cell_type": "code",
   "execution_count": 7,
   "metadata": {
    "papermill": {
     "duration": 29973.986555,
     "end_time": "2020-05-28T15:46:26.244066",
     "exception": false,
     "start_time": "2020-05-28T07:26:52.257511",
     "status": "completed"
    },
    "scrolled": false,
    "tags": []
   },
   "outputs": [
    {
     "name": "stderr",
     "output_type": "stream",
     "text": [
      "\r",
      "  0%|          | 0/6 [00:00<?, ?it/s]"
     ]
    },
    {
     "name": "stderr",
     "output_type": "stream",
     "text": [
      "\n"
     ]
    },
    {
     "name": "stderr",
     "output_type": "stream",
     "text": [
      "\r",
      "  0%|          | 0/10 [00:00<?, ?it/s]"
     ]
    },
    {
     "name": "stderr",
     "output_type": "stream",
     "text": [
      "\u001b[A"
     ]
    },
    {
     "name": "stderr",
     "output_type": "stream",
     "text": [
      "\n"
     ]
    },
    {
     "name": "stderr",
     "output_type": "stream",
     "text": [
      "\r",
      " 10%|█         | 1/10 [04:09<37:29, 249.97s/it]"
     ]
    },
    {
     "name": "stderr",
     "output_type": "stream",
     "text": [
      "\u001b[A"
     ]
    },
    {
     "name": "stderr",
     "output_type": "stream",
     "text": [
      "\n"
     ]
    },
    {
     "name": "stderr",
     "output_type": "stream",
     "text": [
      "\r",
      " 20%|██        | 2/10 [08:14<33:07, 248.45s/it]"
     ]
    },
    {
     "name": "stderr",
     "output_type": "stream",
     "text": [
      "\u001b[A"
     ]
    },
    {
     "name": "stderr",
     "output_type": "stream",
     "text": [
      "\n"
     ]
    },
    {
     "name": "stderr",
     "output_type": "stream",
     "text": [
      "\r",
      " 30%|███       | 3/10 [12:17<28:46, 246.61s/it]"
     ]
    },
    {
     "name": "stderr",
     "output_type": "stream",
     "text": [
      "\u001b[A"
     ]
    },
    {
     "name": "stderr",
     "output_type": "stream",
     "text": [
      "\n"
     ]
    },
    {
     "name": "stderr",
     "output_type": "stream",
     "text": [
      "\r",
      " 40%|████      | 4/10 [16:21<24:36, 246.03s/it]"
     ]
    },
    {
     "name": "stderr",
     "output_type": "stream",
     "text": [
      "\u001b[A"
     ]
    },
    {
     "name": "stderr",
     "output_type": "stream",
     "text": [
      "\n"
     ]
    },
    {
     "name": "stderr",
     "output_type": "stream",
     "text": [
      "\r",
      " 50%|█████     | 5/10 [20:32<20:36, 247.34s/it]"
     ]
    },
    {
     "name": "stderr",
     "output_type": "stream",
     "text": [
      "\u001b[A"
     ]
    },
    {
     "name": "stderr",
     "output_type": "stream",
     "text": [
      "\n"
     ]
    },
    {
     "name": "stderr",
     "output_type": "stream",
     "text": [
      "\r",
      " 60%|██████    | 6/10 [24:47<16:38, 249.61s/it]"
     ]
    },
    {
     "name": "stderr",
     "output_type": "stream",
     "text": [
      "\u001b[A"
     ]
    },
    {
     "name": "stderr",
     "output_type": "stream",
     "text": [
      "\n"
     ]
    },
    {
     "name": "stderr",
     "output_type": "stream",
     "text": [
      "\r",
      " 70%|███████   | 7/10 [28:56<12:28, 249.54s/it]"
     ]
    },
    {
     "name": "stderr",
     "output_type": "stream",
     "text": [
      "\u001b[A"
     ]
    },
    {
     "name": "stderr",
     "output_type": "stream",
     "text": [
      "\n"
     ]
    },
    {
     "name": "stderr",
     "output_type": "stream",
     "text": [
      "\r",
      " 80%|████████  | 8/10 [33:02<08:17, 248.57s/it]"
     ]
    },
    {
     "name": "stderr",
     "output_type": "stream",
     "text": [
      "\u001b[A"
     ]
    },
    {
     "name": "stderr",
     "output_type": "stream",
     "text": [
      "\n"
     ]
    },
    {
     "name": "stderr",
     "output_type": "stream",
     "text": [
      "\r",
      " 90%|█████████ | 9/10 [37:10<04:08, 248.38s/it]"
     ]
    },
    {
     "name": "stderr",
     "output_type": "stream",
     "text": [
      "\u001b[A"
     ]
    },
    {
     "name": "stderr",
     "output_type": "stream",
     "text": [
      "\n"
     ]
    },
    {
     "name": "stderr",
     "output_type": "stream",
     "text": [
      "\r",
      "100%|██████████| 10/10 [41:17<00:00, 247.88s/it]"
     ]
    },
    {
     "name": "stderr",
     "output_type": "stream",
     "text": [
      "\u001b[A"
     ]
    },
    {
     "name": "stderr",
     "output_type": "stream",
     "text": [
      "\r",
      "100%|██████████| 10/10 [41:17<00:00, 247.75s/it]"
     ]
    },
    {
     "name": "stderr",
     "output_type": "stream",
     "text": [
      "\n",
      "\r",
      " 17%|█▋        | 1/6 [41:17<3:26:27, 2477.53s/it]"
     ]
    },
    {
     "name": "stderr",
     "output_type": "stream",
     "text": [
      "\n"
     ]
    },
    {
     "name": "stderr",
     "output_type": "stream",
     "text": [
      "\r",
      "  0%|          | 0/10 [00:00<?, ?it/s]"
     ]
    },
    {
     "name": "stderr",
     "output_type": "stream",
     "text": [
      "\u001b[A"
     ]
    },
    {
     "name": "stderr",
     "output_type": "stream",
     "text": [
      "\n"
     ]
    },
    {
     "name": "stderr",
     "output_type": "stream",
     "text": [
      "\r",
      " 10%|█         | 1/10 [03:44<33:38, 224.28s/it]"
     ]
    },
    {
     "name": "stderr",
     "output_type": "stream",
     "text": [
      "\u001b[A"
     ]
    },
    {
     "name": "stderr",
     "output_type": "stream",
     "text": [
      "\n"
     ]
    },
    {
     "name": "stderr",
     "output_type": "stream",
     "text": [
      "\r",
      " 20%|██        | 2/10 [07:30<29:58, 224.85s/it]"
     ]
    },
    {
     "name": "stderr",
     "output_type": "stream",
     "text": [
      "\u001b[A"
     ]
    },
    {
     "name": "stderr",
     "output_type": "stream",
     "text": [
      "\n"
     ]
    },
    {
     "name": "stderr",
     "output_type": "stream",
     "text": [
      "\r",
      " 30%|███       | 3/10 [11:17<26:18, 225.49s/it]"
     ]
    },
    {
     "name": "stderr",
     "output_type": "stream",
     "text": [
      "\u001b[A"
     ]
    },
    {
     "name": "stderr",
     "output_type": "stream",
     "text": [
      "\n"
     ]
    },
    {
     "name": "stderr",
     "output_type": "stream",
     "text": [
      "\r",
      " 40%|████      | 4/10 [15:02<22:32, 225.45s/it]"
     ]
    },
    {
     "name": "stderr",
     "output_type": "stream",
     "text": [
      "\u001b[A"
     ]
    },
    {
     "name": "stderr",
     "output_type": "stream",
     "text": [
      "\n"
     ]
    },
    {
     "name": "stderr",
     "output_type": "stream",
     "text": [
      "\r",
      " 50%|█████     | 5/10 [18:42<18:37, 223.58s/it]"
     ]
    },
    {
     "name": "stderr",
     "output_type": "stream",
     "text": [
      "\u001b[A"
     ]
    },
    {
     "name": "stderr",
     "output_type": "stream",
     "text": [
      "\n"
     ]
    },
    {
     "name": "stderr",
     "output_type": "stream",
     "text": [
      "\r",
      " 60%|██████    | 6/10 [22:21<14:48, 222.20s/it]"
     ]
    },
    {
     "name": "stderr",
     "output_type": "stream",
     "text": [
      "\u001b[A"
     ]
    },
    {
     "name": "stderr",
     "output_type": "stream",
     "text": [
      "\n"
     ]
    },
    {
     "name": "stderr",
     "output_type": "stream",
     "text": [
      "\r",
      " 70%|███████   | 7/10 [26:05<11:08, 222.92s/it]"
     ]
    },
    {
     "name": "stderr",
     "output_type": "stream",
     "text": [
      "\u001b[A"
     ]
    },
    {
     "name": "stderr",
     "output_type": "stream",
     "text": [
      "\n"
     ]
    },
    {
     "name": "stderr",
     "output_type": "stream",
     "text": [
      "\r",
      " 80%|████████  | 8/10 [29:47<07:25, 222.53s/it]"
     ]
    },
    {
     "name": "stderr",
     "output_type": "stream",
     "text": [
      "\u001b[A"
     ]
    },
    {
     "name": "stderr",
     "output_type": "stream",
     "text": [
      "\n"
     ]
    },
    {
     "name": "stderr",
     "output_type": "stream",
     "text": [
      "\r",
      " 90%|█████████ | 9/10 [33:37<03:44, 224.90s/it]"
     ]
    },
    {
     "name": "stderr",
     "output_type": "stream",
     "text": [
      "\u001b[A"
     ]
    },
    {
     "name": "stderr",
     "output_type": "stream",
     "text": [
      "\n"
     ]
    },
    {
     "name": "stderr",
     "output_type": "stream",
     "text": [
      "\r",
      "100%|██████████| 10/10 [37:16<00:00, 223.05s/it]"
     ]
    },
    {
     "name": "stderr",
     "output_type": "stream",
     "text": [
      "\u001b[A"
     ]
    },
    {
     "name": "stderr",
     "output_type": "stream",
     "text": [
      "\r",
      "100%|██████████| 10/10 [37:16<00:00, 223.64s/it]"
     ]
    },
    {
     "name": "stderr",
     "output_type": "stream",
     "text": [
      "\n",
      "\r",
      " 33%|███▎      | 2/6 [1:18:33<2:40:20, 2405.19s/it]"
     ]
    },
    {
     "name": "stderr",
     "output_type": "stream",
     "text": [
      "\n"
     ]
    },
    {
     "name": "stderr",
     "output_type": "stream",
     "text": [
      "\r",
      "  0%|          | 0/10 [00:00<?, ?it/s]"
     ]
    },
    {
     "name": "stderr",
     "output_type": "stream",
     "text": [
      "\u001b[A"
     ]
    },
    {
     "name": "stderr",
     "output_type": "stream",
     "text": [
      "\n"
     ]
    },
    {
     "name": "stderr",
     "output_type": "stream",
     "text": [
      "\r",
      " 10%|█         | 1/10 [03:40<33:07, 220.86s/it]"
     ]
    },
    {
     "name": "stderr",
     "output_type": "stream",
     "text": [
      "\u001b[A"
     ]
    },
    {
     "name": "stderr",
     "output_type": "stream",
     "text": [
      "\n"
     ]
    },
    {
     "name": "stderr",
     "output_type": "stream",
     "text": [
      "\r",
      " 20%|██        | 2/10 [07:16<29:13, 219.19s/it]"
     ]
    },
    {
     "name": "stderr",
     "output_type": "stream",
     "text": [
      "\u001b[A"
     ]
    },
    {
     "name": "stderr",
     "output_type": "stream",
     "text": [
      "\n"
     ]
    },
    {
     "name": "stderr",
     "output_type": "stream",
     "text": [
      "\r",
      " 30%|███       | 3/10 [10:48<25:20, 217.15s/it]"
     ]
    },
    {
     "name": "stderr",
     "output_type": "stream",
     "text": [
      "\u001b[A"
     ]
    },
    {
     "name": "stderr",
     "output_type": "stream",
     "text": [
      "\n"
     ]
    },
    {
     "name": "stderr",
     "output_type": "stream",
     "text": [
      "\r",
      " 40%|████      | 4/10 [14:31<21:53, 218.89s/it]"
     ]
    },
    {
     "name": "stderr",
     "output_type": "stream",
     "text": [
      "\u001b[A"
     ]
    },
    {
     "name": "stderr",
     "output_type": "stream",
     "text": [
      "\n"
     ]
    },
    {
     "name": "stderr",
     "output_type": "stream",
     "text": [
      "\r",
      " 50%|█████     | 5/10 [18:07<18:09, 217.98s/it]"
     ]
    },
    {
     "name": "stderr",
     "output_type": "stream",
     "text": [
      "\u001b[A"
     ]
    },
    {
     "name": "stderr",
     "output_type": "stream",
     "text": [
      "\n"
     ]
    },
    {
     "name": "stderr",
     "output_type": "stream",
     "text": [
      "\r",
      " 60%|██████    | 6/10 [21:42<14:28, 217.19s/it]"
     ]
    },
    {
     "name": "stderr",
     "output_type": "stream",
     "text": [
      "\u001b[A"
     ]
    },
    {
     "name": "stderr",
     "output_type": "stream",
     "text": [
      "\n"
     ]
    },
    {
     "name": "stderr",
     "output_type": "stream",
     "text": [
      "\r",
      " 70%|███████   | 7/10 [25:15<10:47, 215.81s/it]"
     ]
    },
    {
     "name": "stderr",
     "output_type": "stream",
     "text": [
      "\u001b[A"
     ]
    },
    {
     "name": "stderr",
     "output_type": "stream",
     "text": [
      "\n"
     ]
    },
    {
     "name": "stderr",
     "output_type": "stream",
     "text": [
      "\r",
      " 80%|████████  | 8/10 [28:45<07:08, 214.25s/it]"
     ]
    },
    {
     "name": "stderr",
     "output_type": "stream",
     "text": [
      "\u001b[A"
     ]
    },
    {
     "name": "stderr",
     "output_type": "stream",
     "text": [
      "\n"
     ]
    },
    {
     "name": "stderr",
     "output_type": "stream",
     "text": [
      "\r",
      " 90%|█████████ | 9/10 [32:23<03:35, 215.29s/it]"
     ]
    },
    {
     "name": "stderr",
     "output_type": "stream",
     "text": [
      "\u001b[A"
     ]
    },
    {
     "name": "stderr",
     "output_type": "stream",
     "text": [
      "\n"
     ]
    },
    {
     "name": "stderr",
     "output_type": "stream",
     "text": [
      "\r",
      "100%|██████████| 10/10 [35:57<00:00, 214.99s/it]"
     ]
    },
    {
     "name": "stderr",
     "output_type": "stream",
     "text": [
      "\u001b[A"
     ]
    },
    {
     "name": "stderr",
     "output_type": "stream",
     "text": [
      "\r",
      "100%|██████████| 10/10 [35:57<00:00, 215.79s/it]"
     ]
    },
    {
     "name": "stderr",
     "output_type": "stream",
     "text": [
      "\n",
      "\r",
      " 50%|█████     | 3/6 [1:54:31<1:56:33, 2331.01s/it]"
     ]
    },
    {
     "name": "stderr",
     "output_type": "stream",
     "text": [
      "\n"
     ]
    },
    {
     "name": "stderr",
     "output_type": "stream",
     "text": [
      "\r",
      "  0%|          | 0/10 [00:00<?, ?it/s]"
     ]
    },
    {
     "name": "stderr",
     "output_type": "stream",
     "text": [
      "\u001b[A"
     ]
    },
    {
     "name": "stderr",
     "output_type": "stream",
     "text": [
      "\n"
     ]
    },
    {
     "name": "stderr",
     "output_type": "stream",
     "text": [
      "\r",
      " 10%|█         | 1/10 [03:57<35:38, 237.58s/it]"
     ]
    },
    {
     "name": "stderr",
     "output_type": "stream",
     "text": [
      "\u001b[A"
     ]
    },
    {
     "name": "stderr",
     "output_type": "stream",
     "text": [
      "\n"
     ]
    },
    {
     "name": "stderr",
     "output_type": "stream",
     "text": [
      "\r",
      " 20%|██        | 2/10 [07:58<31:48, 238.62s/it]"
     ]
    },
    {
     "name": "stderr",
     "output_type": "stream",
     "text": [
      "\u001b[A"
     ]
    },
    {
     "name": "stderr",
     "output_type": "stream",
     "text": [
      "\n"
     ]
    },
    {
     "name": "stderr",
     "output_type": "stream",
     "text": [
      "\r",
      " 30%|███       | 3/10 [12:02<28:00, 240.09s/it]"
     ]
    },
    {
     "name": "stderr",
     "output_type": "stream",
     "text": [
      "\u001b[A"
     ]
    },
    {
     "name": "stderr",
     "output_type": "stream",
     "text": [
      "\n"
     ]
    },
    {
     "name": "stderr",
     "output_type": "stream",
     "text": [
      "\r",
      " 40%|████      | 4/10 [15:58<23:53, 238.86s/it]"
     ]
    },
    {
     "name": "stderr",
     "output_type": "stream",
     "text": [
      "\u001b[A"
     ]
    },
    {
     "name": "stderr",
     "output_type": "stream",
     "text": [
      "\n"
     ]
    },
    {
     "name": "stderr",
     "output_type": "stream",
     "text": [
      "\r",
      " 50%|█████     | 5/10 [19:52<19:47, 237.45s/it]"
     ]
    },
    {
     "name": "stderr",
     "output_type": "stream",
     "text": [
      "\u001b[A"
     ]
    },
    {
     "name": "stderr",
     "output_type": "stream",
     "text": [
      "\n"
     ]
    },
    {
     "name": "stderr",
     "output_type": "stream",
     "text": [
      "\r",
      " 60%|██████    | 6/10 [24:16<16:21, 245.43s/it]"
     ]
    },
    {
     "name": "stderr",
     "output_type": "stream",
     "text": [
      "\u001b[A"
     ]
    },
    {
     "name": "stderr",
     "output_type": "stream",
     "text": [
      "\n"
     ]
    },
    {
     "name": "stderr",
     "output_type": "stream",
     "text": [
      "\r",
      " 70%|███████   | 7/10 [28:56<12:47, 255.87s/it]"
     ]
    },
    {
     "name": "stderr",
     "output_type": "stream",
     "text": [
      "\u001b[A"
     ]
    },
    {
     "name": "stderr",
     "output_type": "stream",
     "text": [
      "\n"
     ]
    },
    {
     "name": "stderr",
     "output_type": "stream",
     "text": [
      "\r",
      " 80%|████████  | 8/10 [33:48<08:53, 266.72s/it]"
     ]
    },
    {
     "name": "stderr",
     "output_type": "stream",
     "text": [
      "\u001b[A"
     ]
    },
    {
     "name": "stderr",
     "output_type": "stream",
     "text": [
      "\n"
     ]
    },
    {
     "name": "stderr",
     "output_type": "stream",
     "text": [
      "\r",
      " 90%|█████████ | 9/10 [38:49<04:36, 276.85s/it]"
     ]
    },
    {
     "name": "stderr",
     "output_type": "stream",
     "text": [
      "\u001b[A"
     ]
    },
    {
     "name": "stderr",
     "output_type": "stream",
     "text": [
      "\n"
     ]
    },
    {
     "name": "stderr",
     "output_type": "stream",
     "text": [
      "\r",
      "100%|██████████| 10/10 [44:00<00:00, 287.33s/it]"
     ]
    },
    {
     "name": "stderr",
     "output_type": "stream",
     "text": [
      "\u001b[A"
     ]
    },
    {
     "name": "stderr",
     "output_type": "stream",
     "text": [
      "\r",
      "100%|██████████| 10/10 [44:00<00:00, 264.09s/it]"
     ]
    },
    {
     "name": "stderr",
     "output_type": "stream",
     "text": [
      "\n",
      "\r",
      " 67%|██████▋   | 4/6 [2:38:32<1:20:47, 2423.98s/it]"
     ]
    },
    {
     "name": "stderr",
     "output_type": "stream",
     "text": [
      "\n"
     ]
    },
    {
     "name": "stderr",
     "output_type": "stream",
     "text": [
      "\r",
      "  0%|          | 0/10 [00:00<?, ?it/s]"
     ]
    },
    {
     "name": "stderr",
     "output_type": "stream",
     "text": [
      "\u001b[A"
     ]
    },
    {
     "name": "stderr",
     "output_type": "stream",
     "text": [
      "\n"
     ]
    },
    {
     "name": "stderr",
     "output_type": "stream",
     "text": [
      "\r",
      " 10%|█         | 1/10 [05:31<49:42, 331.37s/it]"
     ]
    },
    {
     "name": "stderr",
     "output_type": "stream",
     "text": [
      "\u001b[A"
     ]
    },
    {
     "name": "stderr",
     "output_type": "stream",
     "text": [
      "\n"
     ]
    },
    {
     "name": "stderr",
     "output_type": "stream",
     "text": [
      "\r",
      " 20%|██        | 2/10 [11:01<44:07, 330.88s/it]"
     ]
    },
    {
     "name": "stderr",
     "output_type": "stream",
     "text": [
      "\u001b[A"
     ]
    },
    {
     "name": "stderr",
     "output_type": "stream",
     "text": [
      "\n"
     ]
    },
    {
     "name": "stderr",
     "output_type": "stream",
     "text": [
      "\r",
      " 30%|███       | 3/10 [16:36<38:45, 332.15s/it]"
     ]
    },
    {
     "name": "stderr",
     "output_type": "stream",
     "text": [
      "\u001b[A"
     ]
    },
    {
     "name": "stderr",
     "output_type": "stream",
     "text": [
      "\n"
     ]
    },
    {
     "name": "stderr",
     "output_type": "stream",
     "text": [
      "\r",
      " 40%|████      | 4/10 [22:05<33:07, 331.18s/it]"
     ]
    },
    {
     "name": "stderr",
     "output_type": "stream",
     "text": [
      "\u001b[A"
     ]
    },
    {
     "name": "stderr",
     "output_type": "stream",
     "text": [
      "\n"
     ]
    },
    {
     "name": "stderr",
     "output_type": "stream",
     "text": [
      "\r",
      " 50%|█████     | 5/10 [27:34<27:33, 330.76s/it]"
     ]
    },
    {
     "name": "stderr",
     "output_type": "stream",
     "text": [
      "\u001b[A"
     ]
    },
    {
     "name": "stderr",
     "output_type": "stream",
     "text": [
      "\n"
     ]
    },
    {
     "name": "stderr",
     "output_type": "stream",
     "text": [
      "\r",
      " 60%|██████    | 6/10 [33:05<22:03, 330.81s/it]"
     ]
    },
    {
     "name": "stderr",
     "output_type": "stream",
     "text": [
      "\u001b[A"
     ]
    },
    {
     "name": "stderr",
     "output_type": "stream",
     "text": [
      "\n"
     ]
    },
    {
     "name": "stderr",
     "output_type": "stream",
     "text": [
      "\r",
      " 70%|███████   | 7/10 [38:20<16:17, 325.90s/it]"
     ]
    },
    {
     "name": "stderr",
     "output_type": "stream",
     "text": [
      "\u001b[A"
     ]
    },
    {
     "name": "stderr",
     "output_type": "stream",
     "text": [
      "\n"
     ]
    },
    {
     "name": "stderr",
     "output_type": "stream",
     "text": [
      "\r",
      " 80%|████████  | 8/10 [43:42<10:49, 324.79s/it]"
     ]
    },
    {
     "name": "stderr",
     "output_type": "stream",
     "text": [
      "\u001b[A"
     ]
    },
    {
     "name": "stderr",
     "output_type": "stream",
     "text": [
      "\n"
     ]
    },
    {
     "name": "stderr",
     "output_type": "stream",
     "text": [
      "\r",
      " 90%|█████████ | 9/10 [49:06<05:24, 324.51s/it]"
     ]
    },
    {
     "name": "stderr",
     "output_type": "stream",
     "text": [
      "\u001b[A"
     ]
    },
    {
     "name": "stderr",
     "output_type": "stream",
     "text": [
      "\n"
     ]
    },
    {
     "name": "stderr",
     "output_type": "stream",
     "text": [
      "\r",
      "100%|██████████| 10/10 [54:32<00:00, 325.00s/it]"
     ]
    },
    {
     "name": "stderr",
     "output_type": "stream",
     "text": [
      "\u001b[A"
     ]
    },
    {
     "name": "stderr",
     "output_type": "stream",
     "text": [
      "\r",
      "100%|██████████| 10/10 [54:32<00:00, 327.25s/it]"
     ]
    },
    {
     "name": "stderr",
     "output_type": "stream",
     "text": [
      "\n",
      "\r",
      " 83%|████████▎ | 5/6 [3:33:05<44:38, 2678.53s/it]  "
     ]
    },
    {
     "name": "stderr",
     "output_type": "stream",
     "text": [
      "\n"
     ]
    },
    {
     "name": "stderr",
     "output_type": "stream",
     "text": [
      "\r",
      "  0%|          | 0/10 [00:00<?, ?it/s]"
     ]
    },
    {
     "name": "stderr",
     "output_type": "stream",
     "text": [
      "\u001b[A"
     ]
    },
    {
     "name": "stderr",
     "output_type": "stream",
     "text": [
      "\n"
     ]
    },
    {
     "name": "stderr",
     "output_type": "stream",
     "text": [
      "\r",
      " 10%|█         | 1/10 [05:03<45:32, 303.62s/it]"
     ]
    },
    {
     "name": "stderr",
     "output_type": "stream",
     "text": [
      "\u001b[A"
     ]
    },
    {
     "name": "stderr",
     "output_type": "stream",
     "text": [
      "\n"
     ]
    },
    {
     "name": "stderr",
     "output_type": "stream",
     "text": [
      "\r",
      " 20%|██        | 2/10 [10:08<40:31, 303.94s/it]"
     ]
    },
    {
     "name": "stderr",
     "output_type": "stream",
     "text": [
      "\u001b[A"
     ]
    },
    {
     "name": "stderr",
     "output_type": "stream",
     "text": [
      "\n"
     ]
    },
    {
     "name": "stderr",
     "output_type": "stream",
     "text": [
      "\r",
      " 30%|███       | 3/10 [15:09<35:22, 303.22s/it]"
     ]
    },
    {
     "name": "stderr",
     "output_type": "stream",
     "text": [
      "\u001b[A"
     ]
    },
    {
     "name": "stderr",
     "output_type": "stream",
     "text": [
      "\n"
     ]
    },
    {
     "name": "stderr",
     "output_type": "stream",
     "text": [
      "\r",
      " 40%|████      | 4/10 [20:11<30:17, 302.86s/it]"
     ]
    },
    {
     "name": "stderr",
     "output_type": "stream",
     "text": [
      "\u001b[A"
     ]
    },
    {
     "name": "stderr",
     "output_type": "stream",
     "text": [
      "\n"
     ]
    },
    {
     "name": "stderr",
     "output_type": "stream",
     "text": [
      "\r",
      " 50%|█████     | 5/10 [25:17<25:18, 303.73s/it]"
     ]
    },
    {
     "name": "stderr",
     "output_type": "stream",
     "text": [
      "\u001b[A"
     ]
    },
    {
     "name": "stderr",
     "output_type": "stream",
     "text": [
      "\n"
     ]
    },
    {
     "name": "stderr",
     "output_type": "stream",
     "text": [
      "\r",
      " 60%|██████    | 6/10 [30:15<20:07, 301.87s/it]"
     ]
    },
    {
     "name": "stderr",
     "output_type": "stream",
     "text": [
      "\u001b[A"
     ]
    },
    {
     "name": "stderr",
     "output_type": "stream",
     "text": [
      "\n"
     ]
    },
    {
     "name": "stderr",
     "output_type": "stream",
     "text": [
      "\r",
      " 70%|███████   | 7/10 [35:21<15:09, 303.14s/it]"
     ]
    },
    {
     "name": "stderr",
     "output_type": "stream",
     "text": [
      "\u001b[A"
     ]
    },
    {
     "name": "stderr",
     "output_type": "stream",
     "text": [
      "\n"
     ]
    },
    {
     "name": "stderr",
     "output_type": "stream",
     "text": [
      "\r",
      " 80%|████████  | 8/10 [40:22<10:05, 302.62s/it]"
     ]
    },
    {
     "name": "stderr",
     "output_type": "stream",
     "text": [
      "\u001b[A"
     ]
    },
    {
     "name": "stderr",
     "output_type": "stream",
     "text": [
      "\n"
     ]
    },
    {
     "name": "stderr",
     "output_type": "stream",
     "text": [
      "\r",
      " 90%|█████████ | 9/10 [45:23<05:02, 302.06s/it]"
     ]
    },
    {
     "name": "stderr",
     "output_type": "stream",
     "text": [
      "\u001b[A"
     ]
    },
    {
     "name": "stderr",
     "output_type": "stream",
     "text": [
      "\n"
     ]
    },
    {
     "name": "stderr",
     "output_type": "stream",
     "text": [
      "\r",
      "100%|██████████| 10/10 [50:27<00:00, 302.62s/it]"
     ]
    },
    {
     "name": "stderr",
     "output_type": "stream",
     "text": [
      "\u001b[A"
     ]
    },
    {
     "name": "stderr",
     "output_type": "stream",
     "text": [
      "\r",
      "100%|██████████| 10/10 [50:27<00:00, 302.73s/it]"
     ]
    },
    {
     "name": "stderr",
     "output_type": "stream",
     "text": [
      "\n",
      "\n"
     ]
    },
    {
     "name": "stderr",
     "output_type": "stream",
     "text": [
      "\r",
      "  0%|          | 0/6 [00:00<?, ?it/s]"
     ]
    },
    {
     "name": "stderr",
     "output_type": "stream",
     "text": [
      "\u001b[A"
     ]
    },
    {
     "name": "stderr",
     "output_type": "stream",
     "text": [
      "\n",
      "\n"
     ]
    },
    {
     "name": "stderr",
     "output_type": "stream",
     "text": [
      "\r",
      "  0%|          | 0/10 [00:00<?, ?it/s]"
     ]
    },
    {
     "name": "stderr",
     "output_type": "stream",
     "text": [
      "\u001b[A\u001b[A"
     ]
    },
    {
     "name": "stderr",
     "output_type": "stream",
     "text": [
      "\n",
      "\n"
     ]
    },
    {
     "name": "stderr",
     "output_type": "stream",
     "text": [
      "\r",
      " 10%|█         | 1/10 [05:09<46:27, 309.70s/it]"
     ]
    },
    {
     "name": "stderr",
     "output_type": "stream",
     "text": [
      "\u001b[A\u001b[A"
     ]
    },
    {
     "name": "stderr",
     "output_type": "stream",
     "text": [
      "\n",
      "\n"
     ]
    },
    {
     "name": "stderr",
     "output_type": "stream",
     "text": [
      "\r",
      " 20%|██        | 2/10 [10:25<41:31, 311.49s/it]"
     ]
    },
    {
     "name": "stderr",
     "output_type": "stream",
     "text": [
      "\u001b[A\u001b[A"
     ]
    },
    {
     "name": "stderr",
     "output_type": "stream",
     "text": [
      "\n",
      "\n"
     ]
    },
    {
     "name": "stderr",
     "output_type": "stream",
     "text": [
      "\r",
      " 30%|███       | 3/10 [15:45<36:38, 314.05s/it]"
     ]
    },
    {
     "name": "stderr",
     "output_type": "stream",
     "text": [
      "\u001b[A\u001b[A"
     ]
    },
    {
     "name": "stderr",
     "output_type": "stream",
     "text": [
      "\n",
      "\n"
     ]
    },
    {
     "name": "stderr",
     "output_type": "stream",
     "text": [
      "\r",
      " 40%|████      | 4/10 [21:02<31:30, 315.00s/it]"
     ]
    },
    {
     "name": "stderr",
     "output_type": "stream",
     "text": [
      "\u001b[A\u001b[A"
     ]
    },
    {
     "name": "stderr",
     "output_type": "stream",
     "text": [
      "\n",
      "\n"
     ]
    },
    {
     "name": "stderr",
     "output_type": "stream",
     "text": [
      "\r",
      " 50%|█████     | 5/10 [26:15<26:12, 314.45s/it]"
     ]
    },
    {
     "name": "stderr",
     "output_type": "stream",
     "text": [
      "\u001b[A\u001b[A"
     ]
    },
    {
     "name": "stderr",
     "output_type": "stream",
     "text": [
      "\n",
      "\n"
     ]
    },
    {
     "name": "stderr",
     "output_type": "stream",
     "text": [
      "\r",
      " 60%|██████    | 6/10 [31:26<20:53, 313.45s/it]"
     ]
    },
    {
     "name": "stderr",
     "output_type": "stream",
     "text": [
      "\u001b[A\u001b[A"
     ]
    },
    {
     "name": "stderr",
     "output_type": "stream",
     "text": [
      "\n",
      "\n"
     ]
    },
    {
     "name": "stderr",
     "output_type": "stream",
     "text": [
      "\r",
      " 70%|███████   | 7/10 [36:33<15:33, 311.29s/it]"
     ]
    },
    {
     "name": "stderr",
     "output_type": "stream",
     "text": [
      "\u001b[A\u001b[A"
     ]
    },
    {
     "name": "stderr",
     "output_type": "stream",
     "text": [
      "\n",
      "\n"
     ]
    },
    {
     "name": "stderr",
     "output_type": "stream",
     "text": [
      "\r",
      " 80%|████████  | 8/10 [41:46<10:24, 312.00s/it]"
     ]
    },
    {
     "name": "stderr",
     "output_type": "stream",
     "text": [
      "\u001b[A\u001b[A"
     ]
    },
    {
     "name": "stderr",
     "output_type": "stream",
     "text": [
      "\n",
      "\n"
     ]
    },
    {
     "name": "stderr",
     "output_type": "stream",
     "text": [
      "\r",
      " 90%|█████████ | 9/10 [47:00<05:12, 312.45s/it]"
     ]
    },
    {
     "name": "stderr",
     "output_type": "stream",
     "text": [
      "\u001b[A\u001b[A"
     ]
    },
    {
     "name": "stderr",
     "output_type": "stream",
     "text": [
      "\n",
      "\n"
     ]
    },
    {
     "name": "stderr",
     "output_type": "stream",
     "text": [
      "\r",
      "100%|██████████| 10/10 [52:17<00:00, 313.73s/it]"
     ]
    },
    {
     "name": "stderr",
     "output_type": "stream",
     "text": [
      "\u001b[A\u001b[A"
     ]
    },
    {
     "name": "stderr",
     "output_type": "stream",
     "text": [
      "\r",
      "100%|██████████| 10/10 [52:17<00:00, 313.70s/it]"
     ]
    },
    {
     "name": "stderr",
     "output_type": "stream",
     "text": [
      "\n",
      "\n"
     ]
    },
    {
     "name": "stderr",
     "output_type": "stream",
     "text": [
      "\r",
      " 17%|█▋        | 1/6 [52:17<4:21:25, 3137.01s/it]"
     ]
    },
    {
     "name": "stderr",
     "output_type": "stream",
     "text": [
      "\u001b[A"
     ]
    },
    {
     "name": "stderr",
     "output_type": "stream",
     "text": [
      "\n",
      "\n"
     ]
    },
    {
     "name": "stderr",
     "output_type": "stream",
     "text": [
      "\r",
      "  0%|          | 0/10 [00:00<?, ?it/s]"
     ]
    },
    {
     "name": "stderr",
     "output_type": "stream",
     "text": [
      "\u001b[A\u001b[A"
     ]
    },
    {
     "name": "stderr",
     "output_type": "stream",
     "text": [
      "\n",
      "\n"
     ]
    },
    {
     "name": "stderr",
     "output_type": "stream",
     "text": [
      "\r",
      " 10%|█         | 1/10 [05:05<45:49, 305.50s/it]"
     ]
    },
    {
     "name": "stderr",
     "output_type": "stream",
     "text": [
      "\u001b[A\u001b[A"
     ]
    },
    {
     "name": "stderr",
     "output_type": "stream",
     "text": [
      "\n",
      "\n"
     ]
    },
    {
     "name": "stderr",
     "output_type": "stream",
     "text": [
      "\r",
      " 20%|██        | 2/10 [10:12<40:46, 305.86s/it]"
     ]
    },
    {
     "name": "stderr",
     "output_type": "stream",
     "text": [
      "\u001b[A\u001b[A"
     ]
    },
    {
     "name": "stderr",
     "output_type": "stream",
     "text": [
      "\n",
      "\n"
     ]
    },
    {
     "name": "stderr",
     "output_type": "stream",
     "text": [
      "\r",
      " 30%|███       | 3/10 [15:07<35:18, 302.60s/it]"
     ]
    },
    {
     "name": "stderr",
     "output_type": "stream",
     "text": [
      "\u001b[A\u001b[A"
     ]
    },
    {
     "name": "stderr",
     "output_type": "stream",
     "text": [
      "\n",
      "\n"
     ]
    },
    {
     "name": "stderr",
     "output_type": "stream",
     "text": [
      "\r",
      " 40%|████      | 4/10 [20:00<29:58, 299.71s/it]"
     ]
    },
    {
     "name": "stderr",
     "output_type": "stream",
     "text": [
      "\u001b[A\u001b[A"
     ]
    },
    {
     "name": "stderr",
     "output_type": "stream",
     "text": [
      "\n",
      "\n"
     ]
    },
    {
     "name": "stderr",
     "output_type": "stream",
     "text": [
      "\r",
      " 50%|█████     | 5/10 [24:51<24:46, 297.22s/it]"
     ]
    },
    {
     "name": "stderr",
     "output_type": "stream",
     "text": [
      "\u001b[A\u001b[A"
     ]
    },
    {
     "name": "stderr",
     "output_type": "stream",
     "text": [
      "\n",
      "\n"
     ]
    },
    {
     "name": "stderr",
     "output_type": "stream",
     "text": [
      "\r",
      " 60%|██████    | 6/10 [29:57<19:59, 299.77s/it]"
     ]
    },
    {
     "name": "stderr",
     "output_type": "stream",
     "text": [
      "\u001b[A\u001b[A"
     ]
    },
    {
     "name": "stderr",
     "output_type": "stream",
     "text": [
      "\n",
      "\n"
     ]
    },
    {
     "name": "stderr",
     "output_type": "stream",
     "text": [
      "\r",
      " 70%|███████   | 7/10 [34:47<14:50, 296.98s/it]"
     ]
    },
    {
     "name": "stderr",
     "output_type": "stream",
     "text": [
      "\u001b[A\u001b[A"
     ]
    },
    {
     "name": "stderr",
     "output_type": "stream",
     "text": [
      "\n",
      "\n"
     ]
    },
    {
     "name": "stderr",
     "output_type": "stream",
     "text": [
      "\r",
      " 80%|████████  | 8/10 [39:47<09:55, 297.70s/it]"
     ]
    },
    {
     "name": "stderr",
     "output_type": "stream",
     "text": [
      "\u001b[A\u001b[A"
     ]
    },
    {
     "name": "stderr",
     "output_type": "stream",
     "text": [
      "\n",
      "\n"
     ]
    },
    {
     "name": "stderr",
     "output_type": "stream",
     "text": [
      "\r",
      " 90%|█████████ | 9/10 [44:37<04:55, 295.35s/it]"
     ]
    },
    {
     "name": "stderr",
     "output_type": "stream",
     "text": [
      "\u001b[A\u001b[A"
     ]
    },
    {
     "name": "stderr",
     "output_type": "stream",
     "text": [
      "\n",
      "\n"
     ]
    },
    {
     "name": "stderr",
     "output_type": "stream",
     "text": [
      "\r",
      "100%|██████████| 10/10 [49:28<00:00, 294.20s/it]"
     ]
    },
    {
     "name": "stderr",
     "output_type": "stream",
     "text": [
      "\u001b[A\u001b[A"
     ]
    },
    {
     "name": "stderr",
     "output_type": "stream",
     "text": [
      "\r",
      "100%|██████████| 10/10 [49:28<00:00, 296.85s/it]"
     ]
    },
    {
     "name": "stderr",
     "output_type": "stream",
     "text": [
      "\n",
      "\n"
     ]
    },
    {
     "name": "stderr",
     "output_type": "stream",
     "text": [
      "\r",
      " 33%|███▎      | 2/6 [1:41:45<3:25:45, 3086.47s/it]"
     ]
    },
    {
     "name": "stderr",
     "output_type": "stream",
     "text": [
      "\u001b[A"
     ]
    },
    {
     "name": "stderr",
     "output_type": "stream",
     "text": [
      "\n",
      "\n"
     ]
    },
    {
     "name": "stderr",
     "output_type": "stream",
     "text": [
      "\r",
      "  0%|          | 0/10 [00:00<?, ?it/s]"
     ]
    },
    {
     "name": "stderr",
     "output_type": "stream",
     "text": [
      "\u001b[A\u001b[A"
     ]
    },
    {
     "name": "stderr",
     "output_type": "stream",
     "text": [
      "\n",
      "\n"
     ]
    },
    {
     "name": "stderr",
     "output_type": "stream",
     "text": [
      "\r",
      " 10%|█         | 1/10 [04:43<42:27, 283.08s/it]"
     ]
    },
    {
     "name": "stderr",
     "output_type": "stream",
     "text": [
      "\u001b[A\u001b[A"
     ]
    },
    {
     "name": "stderr",
     "output_type": "stream",
     "text": [
      "\n",
      "\n"
     ]
    },
    {
     "name": "stderr",
     "output_type": "stream",
     "text": [
      "\r",
      " 20%|██        | 2/10 [09:14<37:17, 279.66s/it]"
     ]
    },
    {
     "name": "stderr",
     "output_type": "stream",
     "text": [
      "\u001b[A\u001b[A"
     ]
    },
    {
     "name": "stderr",
     "output_type": "stream",
     "text": [
      "\n",
      "\n"
     ]
    },
    {
     "name": "stderr",
     "output_type": "stream",
     "text": [
      "\r",
      " 30%|███       | 3/10 [12:54<30:32, 261.83s/it]"
     ]
    },
    {
     "name": "stderr",
     "output_type": "stream",
     "text": [
      "\u001b[A\u001b[A"
     ]
    },
    {
     "name": "stderr",
     "output_type": "stream",
     "text": [
      "\n",
      "\n"
     ]
    },
    {
     "name": "stderr",
     "output_type": "stream",
     "text": [
      "\r",
      " 40%|████      | 4/10 [16:05<24:03, 240.57s/it]"
     ]
    },
    {
     "name": "stderr",
     "output_type": "stream",
     "text": [
      "\u001b[A\u001b[A"
     ]
    },
    {
     "name": "stderr",
     "output_type": "stream",
     "text": [
      "\n",
      "\n"
     ]
    },
    {
     "name": "stderr",
     "output_type": "stream",
     "text": [
      "\r",
      " 50%|█████     | 5/10 [19:17<18:49, 225.82s/it]"
     ]
    },
    {
     "name": "stderr",
     "output_type": "stream",
     "text": [
      "\u001b[A\u001b[A"
     ]
    },
    {
     "name": "stderr",
     "output_type": "stream",
     "text": [
      "\n",
      "\n"
     ]
    },
    {
     "name": "stderr",
     "output_type": "stream",
     "text": [
      "\r",
      " 60%|██████    | 6/10 [22:26<14:19, 214.92s/it]"
     ]
    },
    {
     "name": "stderr",
     "output_type": "stream",
     "text": [
      "\u001b[A\u001b[A"
     ]
    },
    {
     "name": "stderr",
     "output_type": "stream",
     "text": [
      "\n",
      "\n"
     ]
    },
    {
     "name": "stderr",
     "output_type": "stream",
     "text": [
      "\r",
      " 70%|███████   | 7/10 [25:36<10:22, 207.34s/it]"
     ]
    },
    {
     "name": "stderr",
     "output_type": "stream",
     "text": [
      "\u001b[A\u001b[A"
     ]
    },
    {
     "name": "stderr",
     "output_type": "stream",
     "text": [
      "\n",
      "\n"
     ]
    },
    {
     "name": "stderr",
     "output_type": "stream",
     "text": [
      "\r",
      " 80%|████████  | 8/10 [28:48<06:45, 202.78s/it]"
     ]
    },
    {
     "name": "stderr",
     "output_type": "stream",
     "text": [
      "\u001b[A\u001b[A"
     ]
    },
    {
     "name": "stderr",
     "output_type": "stream",
     "text": [
      "\n",
      "\n"
     ]
    },
    {
     "name": "stderr",
     "output_type": "stream",
     "text": [
      "\r",
      " 90%|█████████ | 9/10 [31:59<03:19, 199.06s/it]"
     ]
    },
    {
     "name": "stderr",
     "output_type": "stream",
     "text": [
      "\u001b[A\u001b[A"
     ]
    },
    {
     "name": "stderr",
     "output_type": "stream",
     "text": [
      "\n",
      "\n"
     ]
    },
    {
     "name": "stderr",
     "output_type": "stream",
     "text": [
      "\r",
      "100%|██████████| 10/10 [35:07<00:00, 195.75s/it]"
     ]
    },
    {
     "name": "stderr",
     "output_type": "stream",
     "text": [
      "\u001b[A\u001b[A"
     ]
    },
    {
     "name": "stderr",
     "output_type": "stream",
     "text": [
      "\r",
      "100%|██████████| 10/10 [35:07<00:00, 210.70s/it]"
     ]
    },
    {
     "name": "stderr",
     "output_type": "stream",
     "text": [
      "\n",
      "\n"
     ]
    },
    {
     "name": "stderr",
     "output_type": "stream",
     "text": [
      "\r",
      " 50%|█████     | 3/6 [2:16:52<2:19:37, 2792.65s/it]"
     ]
    },
    {
     "name": "stderr",
     "output_type": "stream",
     "text": [
      "\u001b[A"
     ]
    },
    {
     "name": "stderr",
     "output_type": "stream",
     "text": [
      "\n",
      "\n"
     ]
    },
    {
     "name": "stderr",
     "output_type": "stream",
     "text": [
      "\r",
      "  0%|          | 0/10 [00:00<?, ?it/s]"
     ]
    },
    {
     "name": "stderr",
     "output_type": "stream",
     "text": [
      "\u001b[A\u001b[A"
     ]
    },
    {
     "name": "stderr",
     "output_type": "stream",
     "text": [
      "\n",
      "\n"
     ]
    },
    {
     "name": "stderr",
     "output_type": "stream",
     "text": [
      "\r",
      " 10%|█         | 1/10 [03:22<30:18, 202.07s/it]"
     ]
    },
    {
     "name": "stderr",
     "output_type": "stream",
     "text": [
      "\u001b[A\u001b[A"
     ]
    },
    {
     "name": "stderr",
     "output_type": "stream",
     "text": [
      "\n",
      "\n"
     ]
    },
    {
     "name": "stderr",
     "output_type": "stream",
     "text": [
      "\r",
      " 20%|██        | 2/10 [06:42<26:53, 201.67s/it]"
     ]
    },
    {
     "name": "stderr",
     "output_type": "stream",
     "text": [
      "\u001b[A\u001b[A"
     ]
    },
    {
     "name": "stderr",
     "output_type": "stream",
     "text": [
      "\n",
      "\n"
     ]
    },
    {
     "name": "stderr",
     "output_type": "stream",
     "text": [
      "\r",
      " 30%|███       | 3/10 [10:04<23:31, 201.65s/it]"
     ]
    },
    {
     "name": "stderr",
     "output_type": "stream",
     "text": [
      "\u001b[A\u001b[A"
     ]
    },
    {
     "name": "stderr",
     "output_type": "stream",
     "text": [
      "\n",
      "\n"
     ]
    },
    {
     "name": "stderr",
     "output_type": "stream",
     "text": [
      "\r",
      " 40%|████      | 4/10 [13:19<19:58, 199.74s/it]"
     ]
    },
    {
     "name": "stderr",
     "output_type": "stream",
     "text": [
      "\u001b[A\u001b[A"
     ]
    },
    {
     "name": "stderr",
     "output_type": "stream",
     "text": [
      "\n",
      "\n"
     ]
    },
    {
     "name": "stderr",
     "output_type": "stream",
     "text": [
      "\r",
      " 50%|█████     | 5/10 [16:40<16:40, 200.11s/it]"
     ]
    },
    {
     "name": "stderr",
     "output_type": "stream",
     "text": [
      "\u001b[A\u001b[A"
     ]
    },
    {
     "name": "stderr",
     "output_type": "stream",
     "text": [
      "\n",
      "\n"
     ]
    },
    {
     "name": "stderr",
     "output_type": "stream",
     "text": [
      "\r",
      " 60%|██████    | 6/10 [19:58<13:17, 199.41s/it]"
     ]
    },
    {
     "name": "stderr",
     "output_type": "stream",
     "text": [
      "\u001b[A\u001b[A"
     ]
    },
    {
     "name": "stderr",
     "output_type": "stream",
     "text": [
      "\n",
      "\n"
     ]
    },
    {
     "name": "stderr",
     "output_type": "stream",
     "text": [
      "\r",
      " 70%|███████   | 7/10 [23:18<09:58, 199.45s/it]"
     ]
    },
    {
     "name": "stderr",
     "output_type": "stream",
     "text": [
      "\u001b[A\u001b[A"
     ]
    },
    {
     "name": "stderr",
     "output_type": "stream",
     "text": [
      "\n",
      "\n"
     ]
    },
    {
     "name": "stderr",
     "output_type": "stream",
     "text": [
      "\r",
      " 80%|████████  | 8/10 [26:37<06:39, 199.51s/it]"
     ]
    },
    {
     "name": "stderr",
     "output_type": "stream",
     "text": [
      "\u001b[A\u001b[A"
     ]
    },
    {
     "name": "stderr",
     "output_type": "stream",
     "text": [
      "\n",
      "\n"
     ]
    },
    {
     "name": "stderr",
     "output_type": "stream",
     "text": [
      "\r",
      " 90%|█████████ | 9/10 [29:59<03:20, 200.28s/it]"
     ]
    },
    {
     "name": "stderr",
     "output_type": "stream",
     "text": [
      "\u001b[A\u001b[A"
     ]
    },
    {
     "name": "stderr",
     "output_type": "stream",
     "text": [
      "\n",
      "\n"
     ]
    },
    {
     "name": "stderr",
     "output_type": "stream",
     "text": [
      "\r",
      "100%|██████████| 10/10 [33:20<00:00, 200.44s/it]"
     ]
    },
    {
     "name": "stderr",
     "output_type": "stream",
     "text": [
      "\u001b[A\u001b[A"
     ]
    },
    {
     "name": "stderr",
     "output_type": "stream",
     "text": [
      "\r",
      "100%|██████████| 10/10 [33:20<00:00, 200.06s/it]"
     ]
    },
    {
     "name": "stderr",
     "output_type": "stream",
     "text": [
      "\n",
      "\n"
     ]
    },
    {
     "name": "stderr",
     "output_type": "stream",
     "text": [
      "\r",
      " 67%|██████▋   | 4/6 [2:50:13<1:25:10, 2555.03s/it]"
     ]
    },
    {
     "name": "stderr",
     "output_type": "stream",
     "text": [
      "\u001b[A"
     ]
    },
    {
     "name": "stderr",
     "output_type": "stream",
     "text": [
      "\n",
      "\n"
     ]
    },
    {
     "name": "stderr",
     "output_type": "stream",
     "text": [
      "\r",
      "  0%|          | 0/10 [00:00<?, ?it/s]"
     ]
    },
    {
     "name": "stderr",
     "output_type": "stream",
     "text": [
      "\u001b[A\u001b[A"
     ]
    },
    {
     "name": "stderr",
     "output_type": "stream",
     "text": [
      "\n",
      "\n"
     ]
    },
    {
     "name": "stderr",
     "output_type": "stream",
     "text": [
      "\r",
      " 10%|█         | 1/10 [03:17<29:36, 197.41s/it]"
     ]
    },
    {
     "name": "stderr",
     "output_type": "stream",
     "text": [
      "\u001b[A\u001b[A"
     ]
    },
    {
     "name": "stderr",
     "output_type": "stream",
     "text": [
      "\n",
      "\n"
     ]
    },
    {
     "name": "stderr",
     "output_type": "stream",
     "text": [
      "\r",
      " 20%|██        | 2/10 [06:37<26:24, 198.08s/it]"
     ]
    },
    {
     "name": "stderr",
     "output_type": "stream",
     "text": [
      "\u001b[A\u001b[A"
     ]
    },
    {
     "name": "stderr",
     "output_type": "stream",
     "text": [
      "\n",
      "\n"
     ]
    },
    {
     "name": "stderr",
     "output_type": "stream",
     "text": [
      "\r",
      " 30%|███       | 3/10 [09:59<23:15, 199.41s/it]"
     ]
    },
    {
     "name": "stderr",
     "output_type": "stream",
     "text": [
      "\u001b[A\u001b[A"
     ]
    },
    {
     "name": "stderr",
     "output_type": "stream",
     "text": [
      "\n",
      "\n"
     ]
    },
    {
     "name": "stderr",
     "output_type": "stream",
     "text": [
      "\r",
      " 40%|████      | 4/10 [13:17<19:54, 199.04s/it]"
     ]
    },
    {
     "name": "stderr",
     "output_type": "stream",
     "text": [
      "\u001b[A\u001b[A"
     ]
    },
    {
     "name": "stderr",
     "output_type": "stream",
     "text": [
      "\n",
      "\n"
     ]
    },
    {
     "name": "stderr",
     "output_type": "stream",
     "text": [
      "\r",
      " 50%|█████     | 5/10 [16:42<16:43, 200.63s/it]"
     ]
    },
    {
     "name": "stderr",
     "output_type": "stream",
     "text": [
      "\u001b[A\u001b[A"
     ]
    },
    {
     "name": "stderr",
     "output_type": "stream",
     "text": [
      "\n",
      "\n"
     ]
    },
    {
     "name": "stderr",
     "output_type": "stream",
     "text": [
      "\r",
      " 60%|██████    | 6/10 [19:58<13:17, 199.44s/it]"
     ]
    },
    {
     "name": "stderr",
     "output_type": "stream",
     "text": [
      "\u001b[A\u001b[A"
     ]
    },
    {
     "name": "stderr",
     "output_type": "stream",
     "text": [
      "\n",
      "\n"
     ]
    },
    {
     "name": "stderr",
     "output_type": "stream",
     "text": [
      "\r",
      " 70%|███████   | 7/10 [23:18<09:58, 199.56s/it]"
     ]
    },
    {
     "name": "stderr",
     "output_type": "stream",
     "text": [
      "\u001b[A\u001b[A"
     ]
    },
    {
     "name": "stderr",
     "output_type": "stream",
     "text": [
      "\n",
      "\n"
     ]
    },
    {
     "name": "stderr",
     "output_type": "stream",
     "text": [
      "\r",
      " 80%|████████  | 8/10 [26:40<06:40, 200.38s/it]"
     ]
    },
    {
     "name": "stderr",
     "output_type": "stream",
     "text": [
      "\u001b[A\u001b[A"
     ]
    },
    {
     "name": "stderr",
     "output_type": "stream",
     "text": [
      "\n",
      "\n"
     ]
    },
    {
     "name": "stderr",
     "output_type": "stream",
     "text": [
      "\r",
      " 90%|█████████ | 9/10 [30:08<03:22, 202.57s/it]"
     ]
    },
    {
     "name": "stderr",
     "output_type": "stream",
     "text": [
      "\u001b[A\u001b[A"
     ]
    },
    {
     "name": "stderr",
     "output_type": "stream",
     "text": [
      "\n",
      "\n"
     ]
    },
    {
     "name": "stderr",
     "output_type": "stream",
     "text": [
      "\r",
      "100%|██████████| 10/10 [33:31<00:00, 202.55s/it]"
     ]
    },
    {
     "name": "stderr",
     "output_type": "stream",
     "text": [
      "\u001b[A\u001b[A"
     ]
    },
    {
     "name": "stderr",
     "output_type": "stream",
     "text": [
      "\r",
      "100%|██████████| 10/10 [33:31<00:00, 201.11s/it]"
     ]
    },
    {
     "name": "stderr",
     "output_type": "stream",
     "text": [
      "\n",
      "\n"
     ]
    },
    {
     "name": "stderr",
     "output_type": "stream",
     "text": [
      "\r",
      " 83%|████████▎ | 5/6 [3:23:44<39:51, 2391.84s/it]  "
     ]
    },
    {
     "name": "stderr",
     "output_type": "stream",
     "text": [
      "\u001b[A"
     ]
    },
    {
     "name": "stderr",
     "output_type": "stream",
     "text": [
      "\n",
      "\n"
     ]
    },
    {
     "name": "stderr",
     "output_type": "stream",
     "text": [
      "\r",
      "  0%|          | 0/10 [00:00<?, ?it/s]"
     ]
    },
    {
     "name": "stderr",
     "output_type": "stream",
     "text": [
      "\u001b[A\u001b[A"
     ]
    },
    {
     "name": "stderr",
     "output_type": "stream",
     "text": [
      "\n",
      "\n"
     ]
    },
    {
     "name": "stderr",
     "output_type": "stream",
     "text": [
      "\r",
      " 10%|█         | 1/10 [03:12<28:52, 192.49s/it]"
     ]
    },
    {
     "name": "stderr",
     "output_type": "stream",
     "text": [
      "\u001b[A\u001b[A"
     ]
    },
    {
     "name": "stderr",
     "output_type": "stream",
     "text": [
      "\n",
      "\n"
     ]
    },
    {
     "name": "stderr",
     "output_type": "stream",
     "text": [
      "\r",
      " 20%|██        | 2/10 [06:28<25:48, 193.51s/it]"
     ]
    },
    {
     "name": "stderr",
     "output_type": "stream",
     "text": [
      "\u001b[A\u001b[A"
     ]
    },
    {
     "name": "stderr",
     "output_type": "stream",
     "text": [
      "\n",
      "\n"
     ]
    },
    {
     "name": "stderr",
     "output_type": "stream",
     "text": [
      "\r",
      " 30%|███       | 3/10 [09:39<22:30, 192.89s/it]"
     ]
    },
    {
     "name": "stderr",
     "output_type": "stream",
     "text": [
      "\u001b[A\u001b[A"
     ]
    },
    {
     "name": "stderr",
     "output_type": "stream",
     "text": [
      "\n",
      "\n"
     ]
    },
    {
     "name": "stderr",
     "output_type": "stream",
     "text": [
      "\r",
      " 40%|████      | 4/10 [12:54<19:20, 193.36s/it]"
     ]
    },
    {
     "name": "stderr",
     "output_type": "stream",
     "text": [
      "\u001b[A\u001b[A"
     ]
    },
    {
     "name": "stderr",
     "output_type": "stream",
     "text": [
      "\n",
      "\n"
     ]
    },
    {
     "name": "stderr",
     "output_type": "stream",
     "text": [
      "\r",
      " 50%|█████     | 5/10 [16:07<16:06, 193.27s/it]"
     ]
    },
    {
     "name": "stderr",
     "output_type": "stream",
     "text": [
      "\u001b[A\u001b[A"
     ]
    },
    {
     "name": "stderr",
     "output_type": "stream",
     "text": [
      "\n",
      "\n"
     ]
    },
    {
     "name": "stderr",
     "output_type": "stream",
     "text": [
      "\r",
      " 60%|██████    | 6/10 [19:23<12:56, 194.12s/it]"
     ]
    },
    {
     "name": "stderr",
     "output_type": "stream",
     "text": [
      "\u001b[A\u001b[A"
     ]
    },
    {
     "name": "stderr",
     "output_type": "stream",
     "text": [
      "\n",
      "\n"
     ]
    },
    {
     "name": "stderr",
     "output_type": "stream",
     "text": [
      "\r",
      " 70%|███████   | 7/10 [22:35<09:40, 193.54s/it]"
     ]
    },
    {
     "name": "stderr",
     "output_type": "stream",
     "text": [
      "\u001b[A\u001b[A"
     ]
    },
    {
     "name": "stderr",
     "output_type": "stream",
     "text": [
      "\n",
      "\n"
     ]
    },
    {
     "name": "stderr",
     "output_type": "stream",
     "text": [
      "\r",
      " 80%|████████  | 8/10 [25:47<06:26, 193.11s/it]"
     ]
    },
    {
     "name": "stderr",
     "output_type": "stream",
     "text": [
      "\u001b[A\u001b[A"
     ]
    },
    {
     "name": "stderr",
     "output_type": "stream",
     "text": [
      "\n",
      "\n"
     ]
    },
    {
     "name": "stderr",
     "output_type": "stream",
     "text": [
      "\r",
      " 90%|█████████ | 9/10 [29:02<03:13, 193.71s/it]"
     ]
    },
    {
     "name": "stderr",
     "output_type": "stream",
     "text": [
      "\u001b[A\u001b[A"
     ]
    },
    {
     "name": "stderr",
     "output_type": "stream",
     "text": [
      "\n",
      "\n"
     ]
    },
    {
     "name": "stderr",
     "output_type": "stream",
     "text": [
      "\r",
      "100%|██████████| 10/10 [32:17<00:00, 193.85s/it]"
     ]
    },
    {
     "name": "stderr",
     "output_type": "stream",
     "text": [
      "\u001b[A\u001b[A"
     ]
    },
    {
     "name": "stderr",
     "output_type": "stream",
     "text": [
      "\r",
      "100%|██████████| 10/10 [32:17<00:00, 193.70s/it]"
     ]
    },
    {
     "name": "stderr",
     "output_type": "stream",
     "text": [
      "\n"
     ]
    }
   ],
   "source": [
    "results = {}\n",
    "\n",
    "for shuffle_method in SHUFFLE_METHODS:\n",
    "    results[shuffle_method] = {}\n",
    "    \n",
    "    for (model_tag, _), dataset_tag in zip(TAGS_COMMANDS.items(), tqdm(DATASETS_TAGS)):\n",
    "        model_paths = get_model_path(model_tag, filter_='all', model_base_path='/scratch/shlomi/models/')\n",
    "\n",
    "\n",
    "        results[shuffle_method][model_tag] = [run_spectral_cluster(path / f'{dataset_tag}-mlp-pruned-weights.pckl',\n",
    "                                               n_samples=N_SHUFFLES,\n",
    "                                               shuffle_method=shuffle_method,\n",
    "                                               n_clusters=N_CLUSTERS)\n",
    "            for path in tqdm(model_paths[-N_TRAINED_MODELS:])]"
   ]
  },
  {
   "cell_type": "code",
   "execution_count": 8,
   "metadata": {
    "papermill": {
     "duration": 0.194674,
     "end_time": "2020-05-28T15:46:26.596073",
     "exception": false,
     "start_time": "2020-05-28T15:46:26.401399",
     "status": "completed"
    },
    "tags": []
   },
   "outputs": [],
   "source": [
    "run_spectral_cluster?"
   ]
  },
  {
   "cell_type": "code",
   "execution_count": 9,
   "metadata": {
    "papermill": {
     "duration": 0.185601,
     "end_time": "2020-05-28T15:46:26.946120",
     "exception": false,
     "start_time": "2020-05-28T15:46:26.760519",
     "status": "completed"
    },
    "tags": []
   },
   "outputs": [],
   "source": [
    "def build_all_models_per_shuffle_method_df(single_shuffle_method_results):\n",
    "    model_dfs = []\n",
    "\n",
    "    for model_tag, model_results in single_shuffle_method_results.items():\n",
    "        _, metrics  = zip(*model_results)\n",
    "        model_dfs.append(pd.DataFrame(metrics).assign(model=model_tag))\n",
    "\n",
    "    df = pd.concat(model_dfs, ignore_index=True)\n",
    "\n",
    "    df['is_sig'] = np.isclose(df['percentile'], 1 / (N_SHUFFLES + 1))\n",
    "    \n",
    "    return df\n",
    "\n",
    "layer_df = build_all_models_per_shuffle_method_df(results['layer'])\n",
    "layer_nonzero_df = build_all_models_per_shuffle_method_df(results['layer_nonzero'])"
   ]
  },
  {
   "cell_type": "code",
   "execution_count": 10,
   "metadata": {
    "papermill": {
     "duration": 0.151277,
     "end_time": "2020-05-28T15:46:27.259060",
     "exception": false,
     "start_time": "2020-05-28T15:46:27.107783",
     "status": "completed"
    },
    "tags": []
   },
   "outputs": [
    {
     "data": {
      "text/html": [
       "<div>\n",
       "<style scoped>\n",
       "    .dataframe tbody tr th:only-of-type {\n",
       "        vertical-align: middle;\n",
       "    }\n",
       "\n",
       "    .dataframe tbody tr th {\n",
       "        vertical-align: top;\n",
       "    }\n",
       "\n",
       "    .dataframe thead th {\n",
       "        text-align: right;\n",
       "    }\n",
       "</style>\n",
       "<table border=\"1\" class=\"dataframe\">\n",
       "  <thead>\n",
       "    <tr style=\"text-align: right;\">\n",
       "      <th></th>\n",
       "      <th>ave_in_out</th>\n",
       "      <th>mean</th>\n",
       "      <th>n_samples</th>\n",
       "      <th>ncut</th>\n",
       "      <th>percentile</th>\n",
       "      <th>stdev</th>\n",
       "      <th>test_acc</th>\n",
       "      <th>test_loss</th>\n",
       "      <th>train_acc</th>\n",
       "      <th>train_loss</th>\n",
       "      <th>z_score</th>\n",
       "      <th>model</th>\n",
       "      <th>is_sig</th>\n",
       "    </tr>\n",
       "  </thead>\n",
       "  <tbody>\n",
       "    <tr>\n",
       "      <th>0</th>\n",
       "      <td>0.199330</td>\n",
       "      <td>7.371774</td>\n",
       "      <td>320</td>\n",
       "      <td>7.149699</td>\n",
       "      <td>0.003115</td>\n",
       "      <td>0.035005</td>\n",
       "      <td>0.9835</td>\n",
       "      <td>0.095332</td>\n",
       "      <td>1.0</td>\n",
       "      <td>0.000048</td>\n",
       "      <td>-6.344132</td>\n",
       "      <td>MNIST</td>\n",
       "      <td>True</td>\n",
       "    </tr>\n",
       "    <tr>\n",
       "      <th>1</th>\n",
       "      <td>0.198384</td>\n",
       "      <td>7.390065</td>\n",
       "      <td>320</td>\n",
       "      <td>7.159383</td>\n",
       "      <td>0.003115</td>\n",
       "      <td>0.031648</td>\n",
       "      <td>0.9847</td>\n",
       "      <td>0.090697</td>\n",
       "      <td>1.0</td>\n",
       "      <td>0.000056</td>\n",
       "      <td>-7.288987</td>\n",
       "      <td>MNIST</td>\n",
       "      <td>True</td>\n",
       "    </tr>\n",
       "    <tr>\n",
       "      <th>2</th>\n",
       "      <td>0.207732</td>\n",
       "      <td>7.391867</td>\n",
       "      <td>320</td>\n",
       "      <td>7.064823</td>\n",
       "      <td>0.003115</td>\n",
       "      <td>0.036177</td>\n",
       "      <td>0.9830</td>\n",
       "      <td>0.099833</td>\n",
       "      <td>1.0</td>\n",
       "      <td>0.000059</td>\n",
       "      <td>-9.040050</td>\n",
       "      <td>MNIST</td>\n",
       "      <td>True</td>\n",
       "    </tr>\n",
       "    <tr>\n",
       "      <th>3</th>\n",
       "      <td>0.199816</td>\n",
       "      <td>7.380998</td>\n",
       "      <td>320</td>\n",
       "      <td>7.144735</td>\n",
       "      <td>0.003115</td>\n",
       "      <td>0.031190</td>\n",
       "      <td>0.9828</td>\n",
       "      <td>0.099546</td>\n",
       "      <td>1.0</td>\n",
       "      <td>0.000062</td>\n",
       "      <td>-7.574911</td>\n",
       "      <td>MNIST</td>\n",
       "      <td>True</td>\n",
       "    </tr>\n",
       "    <tr>\n",
       "      <th>4</th>\n",
       "      <td>0.198309</td>\n",
       "      <td>7.409862</td>\n",
       "      <td>320</td>\n",
       "      <td>7.160156</td>\n",
       "      <td>0.003115</td>\n",
       "      <td>0.030076</td>\n",
       "      <td>0.9845</td>\n",
       "      <td>0.097756</td>\n",
       "      <td>1.0</td>\n",
       "      <td>0.000081</td>\n",
       "      <td>-8.302590</td>\n",
       "      <td>MNIST</td>\n",
       "      <td>True</td>\n",
       "    </tr>\n",
       "  </tbody>\n",
       "</table>\n",
       "</div>"
      ],
      "text/plain": [
       "   ave_in_out      mean  n_samples      ncut  percentile     stdev  test_acc  \\\n",
       "0    0.199330  7.371774        320  7.149699    0.003115  0.035005    0.9835   \n",
       "1    0.198384  7.390065        320  7.159383    0.003115  0.031648    0.9847   \n",
       "2    0.207732  7.391867        320  7.064823    0.003115  0.036177    0.9830   \n",
       "3    0.199816  7.380998        320  7.144735    0.003115  0.031190    0.9828   \n",
       "4    0.198309  7.409862        320  7.160156    0.003115  0.030076    0.9845   \n",
       "\n",
       "   test_loss  train_acc  train_loss   z_score  model  is_sig  \n",
       "0   0.095332        1.0    0.000048 -6.344132  MNIST    True  \n",
       "1   0.090697        1.0    0.000056 -7.288987  MNIST    True  \n",
       "2   0.099833        1.0    0.000059 -9.040050  MNIST    True  \n",
       "3   0.099546        1.0    0.000062 -7.574911  MNIST    True  \n",
       "4   0.097756        1.0    0.000081 -8.302590  MNIST    True  "
      ]
     },
     "execution_count": 10,
     "metadata": {},
     "output_type": "execute_result"
    }
   ],
   "source": [
    "layer_df.head()"
   ]
  },
  {
   "cell_type": "code",
   "execution_count": 11,
   "metadata": {
    "papermill": {
     "duration": 0.166933,
     "end_time": "2020-05-28T15:46:27.554518",
     "exception": false,
     "start_time": "2020-05-28T15:46:27.387585",
     "status": "completed"
    },
    "tags": []
   },
   "outputs": [
    {
     "data": {
      "text/html": [
       "<div>\n",
       "<style scoped>\n",
       "    .dataframe tbody tr th:only-of-type {\n",
       "        vertical-align: middle;\n",
       "    }\n",
       "\n",
       "    .dataframe tbody tr th {\n",
       "        vertical-align: top;\n",
       "    }\n",
       "\n",
       "    .dataframe thead th {\n",
       "        text-align: right;\n",
       "    }\n",
       "</style>\n",
       "<table border=\"1\" class=\"dataframe\">\n",
       "  <thead>\n",
       "    <tr style=\"text-align: right;\">\n",
       "      <th></th>\n",
       "      <th>ave_in_out</th>\n",
       "      <th>mean</th>\n",
       "      <th>n_samples</th>\n",
       "      <th>ncut</th>\n",
       "      <th>percentile</th>\n",
       "      <th>stdev</th>\n",
       "      <th>test_acc</th>\n",
       "      <th>test_loss</th>\n",
       "      <th>train_acc</th>\n",
       "      <th>train_loss</th>\n",
       "      <th>z_score</th>\n",
       "      <th>model</th>\n",
       "      <th>is_sig</th>\n",
       "    </tr>\n",
       "  </thead>\n",
       "  <tbody>\n",
       "    <tr>\n",
       "      <th>0</th>\n",
       "      <td>0.199330</td>\n",
       "      <td>7.261299</td>\n",
       "      <td>320</td>\n",
       "      <td>7.149699</td>\n",
       "      <td>0.003115</td>\n",
       "      <td>0.043346</td>\n",
       "      <td>0.9835</td>\n",
       "      <td>0.095332</td>\n",
       "      <td>1.0</td>\n",
       "      <td>0.000048</td>\n",
       "      <td>-2.574603</td>\n",
       "      <td>MNIST</td>\n",
       "      <td>True</td>\n",
       "    </tr>\n",
       "    <tr>\n",
       "      <th>1</th>\n",
       "      <td>0.198384</td>\n",
       "      <td>7.320522</td>\n",
       "      <td>320</td>\n",
       "      <td>7.159383</td>\n",
       "      <td>0.003115</td>\n",
       "      <td>0.089845</td>\n",
       "      <td>0.9847</td>\n",
       "      <td>0.090697</td>\n",
       "      <td>1.0</td>\n",
       "      <td>0.000056</td>\n",
       "      <td>-1.793533</td>\n",
       "      <td>MNIST</td>\n",
       "      <td>True</td>\n",
       "    </tr>\n",
       "    <tr>\n",
       "      <th>2</th>\n",
       "      <td>0.207732</td>\n",
       "      <td>7.161313</td>\n",
       "      <td>320</td>\n",
       "      <td>7.064823</td>\n",
       "      <td>0.003115</td>\n",
       "      <td>0.018134</td>\n",
       "      <td>0.9830</td>\n",
       "      <td>0.099833</td>\n",
       "      <td>1.0</td>\n",
       "      <td>0.000059</td>\n",
       "      <td>-5.320789</td>\n",
       "      <td>MNIST</td>\n",
       "      <td>True</td>\n",
       "    </tr>\n",
       "    <tr>\n",
       "      <th>3</th>\n",
       "      <td>0.199816</td>\n",
       "      <td>7.249981</td>\n",
       "      <td>320</td>\n",
       "      <td>7.144735</td>\n",
       "      <td>0.003115</td>\n",
       "      <td>0.059685</td>\n",
       "      <td>0.9828</td>\n",
       "      <td>0.099546</td>\n",
       "      <td>1.0</td>\n",
       "      <td>0.000062</td>\n",
       "      <td>-1.763372</td>\n",
       "      <td>MNIST</td>\n",
       "      <td>True</td>\n",
       "    </tr>\n",
       "    <tr>\n",
       "      <th>4</th>\n",
       "      <td>0.198309</td>\n",
       "      <td>7.301281</td>\n",
       "      <td>320</td>\n",
       "      <td>7.160156</td>\n",
       "      <td>0.003115</td>\n",
       "      <td>0.061875</td>\n",
       "      <td>0.9845</td>\n",
       "      <td>0.097756</td>\n",
       "      <td>1.0</td>\n",
       "      <td>0.000081</td>\n",
       "      <td>-2.280814</td>\n",
       "      <td>MNIST</td>\n",
       "      <td>True</td>\n",
       "    </tr>\n",
       "  </tbody>\n",
       "</table>\n",
       "</div>"
      ],
      "text/plain": [
       "   ave_in_out      mean  n_samples      ncut  percentile     stdev  test_acc  \\\n",
       "0    0.199330  7.261299        320  7.149699    0.003115  0.043346    0.9835   \n",
       "1    0.198384  7.320522        320  7.159383    0.003115  0.089845    0.9847   \n",
       "2    0.207732  7.161313        320  7.064823    0.003115  0.018134    0.9830   \n",
       "3    0.199816  7.249981        320  7.144735    0.003115  0.059685    0.9828   \n",
       "4    0.198309  7.301281        320  7.160156    0.003115  0.061875    0.9845   \n",
       "\n",
       "   test_loss  train_acc  train_loss   z_score  model  is_sig  \n",
       "0   0.095332        1.0    0.000048 -2.574603  MNIST    True  \n",
       "1   0.090697        1.0    0.000056 -1.793533  MNIST    True  \n",
       "2   0.099833        1.0    0.000059 -5.320789  MNIST    True  \n",
       "3   0.099546        1.0    0.000062 -1.763372  MNIST    True  \n",
       "4   0.097756        1.0    0.000081 -2.280814  MNIST    True  "
      ]
     },
     "execution_count": 11,
     "metadata": {},
     "output_type": "execute_result"
    }
   ],
   "source": [
    "layer_nonzero_df.head()"
   ]
  },
  {
   "cell_type": "code",
   "execution_count": 12,
   "metadata": {
    "papermill": {
     "duration": 0.235431,
     "end_time": "2020-05-28T15:46:27.932897",
     "exception": false,
     "start_time": "2020-05-28T15:46:27.697466",
     "status": "completed"
    },
    "tags": []
   },
   "outputs": [
    {
     "data": {
      "text/html": [
       "<div>\n",
       "<style scoped>\n",
       "    .dataframe tbody tr th:only-of-type {\n",
       "        vertical-align: middle;\n",
       "    }\n",
       "\n",
       "    .dataframe tbody tr th {\n",
       "        vertical-align: top;\n",
       "    }\n",
       "\n",
       "    .dataframe thead th {\n",
       "        text-align: right;\n",
       "    }\n",
       "</style>\n",
       "<table border=\"1\" class=\"dataframe\">\n",
       "  <thead>\n",
       "    <tr style=\"text-align: right;\">\n",
       "      <th></th>\n",
       "      <th>model</th>\n",
       "      <th>train_acc</th>\n",
       "      <th>train_loss</th>\n",
       "      <th>test_acc</th>\n",
       "      <th>test_loss</th>\n",
       "      <th>ncut</th>\n",
       "      <th>ave_in_out</th>\n",
       "      <th>n_samples</th>\n",
       "      <th>mean_layer</th>\n",
       "      <th>percentile_layer</th>\n",
       "      <th>stdev_layer</th>\n",
       "      <th>z_score_layer</th>\n",
       "      <th>is_sig_layer</th>\n",
       "      <th>mean_layer_nonzero</th>\n",
       "      <th>percentile_layer_nonzero</th>\n",
       "      <th>stdev_layer_nonzero</th>\n",
       "      <th>z_score_layer_nonzero</th>\n",
       "      <th>is_sig_layer_nonzero</th>\n",
       "      <th>cohen_d</th>\n",
       "    </tr>\n",
       "  </thead>\n",
       "  <tbody>\n",
       "    <tr>\n",
       "      <th>0</th>\n",
       "      <td>MNIST</td>\n",
       "      <td>1.000000</td>\n",
       "      <td>0.000048</td>\n",
       "      <td>0.9835</td>\n",
       "      <td>0.095332</td>\n",
       "      <td>7.149699</td>\n",
       "      <td>0.199330</td>\n",
       "      <td>320</td>\n",
       "      <td>7.371774</td>\n",
       "      <td>0.003115</td>\n",
       "      <td>0.035005</td>\n",
       "      <td>-6.344132</td>\n",
       "      <td>True</td>\n",
       "      <td>7.261299</td>\n",
       "      <td>0.003115</td>\n",
       "      <td>0.043346</td>\n",
       "      <td>-2.574603</td>\n",
       "      <td>True</td>\n",
       "      <td>0.896282</td>\n",
       "    </tr>\n",
       "    <tr>\n",
       "      <th>1</th>\n",
       "      <td>MNIST</td>\n",
       "      <td>1.000000</td>\n",
       "      <td>0.000056</td>\n",
       "      <td>0.9847</td>\n",
       "      <td>0.090697</td>\n",
       "      <td>7.159383</td>\n",
       "      <td>0.198384</td>\n",
       "      <td>320</td>\n",
       "      <td>7.390065</td>\n",
       "      <td>0.003115</td>\n",
       "      <td>0.031648</td>\n",
       "      <td>-7.288987</td>\n",
       "      <td>True</td>\n",
       "      <td>7.320522</td>\n",
       "      <td>0.003115</td>\n",
       "      <td>0.089845</td>\n",
       "      <td>-1.793533</td>\n",
       "      <td>True</td>\n",
       "      <td>0.808496</td>\n",
       "    </tr>\n",
       "    <tr>\n",
       "      <th>2</th>\n",
       "      <td>MNIST</td>\n",
       "      <td>1.000000</td>\n",
       "      <td>0.000059</td>\n",
       "      <td>0.9830</td>\n",
       "      <td>0.099833</td>\n",
       "      <td>7.064823</td>\n",
       "      <td>0.207732</td>\n",
       "      <td>320</td>\n",
       "      <td>7.391867</td>\n",
       "      <td>0.003115</td>\n",
       "      <td>0.036177</td>\n",
       "      <td>-9.040050</td>\n",
       "      <td>True</td>\n",
       "      <td>7.161313</td>\n",
       "      <td>0.003115</td>\n",
       "      <td>0.018134</td>\n",
       "      <td>-5.320789</td>\n",
       "      <td>True</td>\n",
       "      <td>0.970519</td>\n",
       "    </tr>\n",
       "    <tr>\n",
       "      <th>3</th>\n",
       "      <td>MNIST</td>\n",
       "      <td>1.000000</td>\n",
       "      <td>0.000062</td>\n",
       "      <td>0.9828</td>\n",
       "      <td>0.099546</td>\n",
       "      <td>7.144735</td>\n",
       "      <td>0.199816</td>\n",
       "      <td>320</td>\n",
       "      <td>7.380998</td>\n",
       "      <td>0.003115</td>\n",
       "      <td>0.031190</td>\n",
       "      <td>-7.574911</td>\n",
       "      <td>True</td>\n",
       "      <td>7.249981</td>\n",
       "      <td>0.003115</td>\n",
       "      <td>0.059685</td>\n",
       "      <td>-1.763372</td>\n",
       "      <td>True</td>\n",
       "      <td>0.865591</td>\n",
       "    </tr>\n",
       "    <tr>\n",
       "      <th>4</th>\n",
       "      <td>MNIST</td>\n",
       "      <td>1.000000</td>\n",
       "      <td>0.000081</td>\n",
       "      <td>0.9845</td>\n",
       "      <td>0.097756</td>\n",
       "      <td>7.160156</td>\n",
       "      <td>0.198309</td>\n",
       "      <td>320</td>\n",
       "      <td>7.409862</td>\n",
       "      <td>0.003115</td>\n",
       "      <td>0.030076</td>\n",
       "      <td>-8.302590</td>\n",
       "      <td>True</td>\n",
       "      <td>7.301281</td>\n",
       "      <td>0.003115</td>\n",
       "      <td>0.061875</td>\n",
       "      <td>-2.280814</td>\n",
       "      <td>True</td>\n",
       "      <td>0.860478</td>\n",
       "    </tr>\n",
       "    <tr>\n",
       "      <th>5</th>\n",
       "      <td>MNIST</td>\n",
       "      <td>1.000000</td>\n",
       "      <td>0.000048</td>\n",
       "      <td>0.9835</td>\n",
       "      <td>0.095626</td>\n",
       "      <td>7.106376</td>\n",
       "      <td>0.203593</td>\n",
       "      <td>320</td>\n",
       "      <td>7.423381</td>\n",
       "      <td>0.003115</td>\n",
       "      <td>0.030406</td>\n",
       "      <td>-10.425870</td>\n",
       "      <td>True</td>\n",
       "      <td>7.357445</td>\n",
       "      <td>0.003115</td>\n",
       "      <td>0.083587</td>\n",
       "      <td>-3.003673</td>\n",
       "      <td>True</td>\n",
       "      <td>0.819586</td>\n",
       "    </tr>\n",
       "    <tr>\n",
       "      <th>6</th>\n",
       "      <td>MNIST</td>\n",
       "      <td>1.000000</td>\n",
       "      <td>0.000056</td>\n",
       "      <td>0.9838</td>\n",
       "      <td>0.087238</td>\n",
       "      <td>7.110218</td>\n",
       "      <td>0.203213</td>\n",
       "      <td>320</td>\n",
       "      <td>7.381650</td>\n",
       "      <td>0.003115</td>\n",
       "      <td>0.026138</td>\n",
       "      <td>-10.384694</td>\n",
       "      <td>True</td>\n",
       "      <td>7.323444</td>\n",
       "      <td>0.065421</td>\n",
       "      <td>0.160001</td>\n",
       "      <td>-1.332656</td>\n",
       "      <td>False</td>\n",
       "      <td>0.716328</td>\n",
       "    </tr>\n",
       "    <tr>\n",
       "      <th>7</th>\n",
       "      <td>MNIST</td>\n",
       "      <td>1.000000</td>\n",
       "      <td>0.000061</td>\n",
       "      <td>0.9838</td>\n",
       "      <td>0.100444</td>\n",
       "      <td>7.156789</td>\n",
       "      <td>0.198637</td>\n",
       "      <td>320</td>\n",
       "      <td>7.396530</td>\n",
       "      <td>0.003115</td>\n",
       "      <td>0.031746</td>\n",
       "      <td>-7.551794</td>\n",
       "      <td>True</td>\n",
       "      <td>7.323966</td>\n",
       "      <td>0.003115</td>\n",
       "      <td>0.080510</td>\n",
       "      <td>-2.076481</td>\n",
       "      <td>True</td>\n",
       "      <td>0.824012</td>\n",
       "    </tr>\n",
       "    <tr>\n",
       "      <th>8</th>\n",
       "      <td>MNIST</td>\n",
       "      <td>1.000000</td>\n",
       "      <td>0.000047</td>\n",
       "      <td>0.9828</td>\n",
       "      <td>0.093142</td>\n",
       "      <td>7.105069</td>\n",
       "      <td>0.203723</td>\n",
       "      <td>320</td>\n",
       "      <td>7.400648</td>\n",
       "      <td>0.003115</td>\n",
       "      <td>0.040944</td>\n",
       "      <td>-7.219160</td>\n",
       "      <td>True</td>\n",
       "      <td>7.264884</td>\n",
       "      <td>0.003115</td>\n",
       "      <td>0.079261</td>\n",
       "      <td>-2.016325</td>\n",
       "      <td>True</td>\n",
       "      <td>0.830063</td>\n",
       "    </tr>\n",
       "    <tr>\n",
       "      <th>9</th>\n",
       "      <td>MNIST</td>\n",
       "      <td>1.000000</td>\n",
       "      <td>0.000049</td>\n",
       "      <td>0.9833</td>\n",
       "      <td>0.102283</td>\n",
       "      <td>7.216584</td>\n",
       "      <td>0.192849</td>\n",
       "      <td>320</td>\n",
       "      <td>7.420351</td>\n",
       "      <td>0.003115</td>\n",
       "      <td>0.032120</td>\n",
       "      <td>-6.343847</td>\n",
       "      <td>True</td>\n",
       "      <td>7.364379</td>\n",
       "      <td>0.003115</td>\n",
       "      <td>0.060175</td>\n",
       "      <td>-2.456112</td>\n",
       "      <td>True</td>\n",
       "      <td>0.859223</td>\n",
       "    </tr>\n",
       "    <tr>\n",
       "      <th>10</th>\n",
       "      <td>CIFAR10</td>\n",
       "      <td>0.647020</td>\n",
       "      <td>0.982019</td>\n",
       "      <td>0.4164</td>\n",
       "      <td>2.009407</td>\n",
       "      <td>7.282947</td>\n",
       "      <td>0.186535</td>\n",
       "      <td>320</td>\n",
       "      <td>7.306948</td>\n",
       "      <td>0.158879</td>\n",
       "      <td>0.031918</td>\n",
       "      <td>-0.751943</td>\n",
       "      <td>False</td>\n",
       "      <td>7.286442</td>\n",
       "      <td>0.470405</td>\n",
       "      <td>0.058573</td>\n",
       "      <td>-0.059665</td>\n",
       "      <td>False</td>\n",
       "      <td>0.855743</td>\n",
       "    </tr>\n",
       "    <tr>\n",
       "      <th>11</th>\n",
       "      <td>CIFAR10</td>\n",
       "      <td>0.655260</td>\n",
       "      <td>0.968012</td>\n",
       "      <td>0.4196</td>\n",
       "      <td>2.009614</td>\n",
       "      <td>7.250526</td>\n",
       "      <td>0.189605</td>\n",
       "      <td>320</td>\n",
       "      <td>7.316047</td>\n",
       "      <td>0.034268</td>\n",
       "      <td>0.033422</td>\n",
       "      <td>-1.960434</td>\n",
       "      <td>False</td>\n",
       "      <td>7.321524</td>\n",
       "      <td>0.003115</td>\n",
       "      <td>0.036805</td>\n",
       "      <td>-1.929016</td>\n",
       "      <td>True</td>\n",
       "      <td>0.897886</td>\n",
       "    </tr>\n",
       "    <tr>\n",
       "      <th>12</th>\n",
       "      <td>CIFAR10</td>\n",
       "      <td>0.645800</td>\n",
       "      <td>0.993128</td>\n",
       "      <td>0.4085</td>\n",
       "      <td>2.026656</td>\n",
       "      <td>7.287138</td>\n",
       "      <td>0.186140</td>\n",
       "      <td>320</td>\n",
       "      <td>7.312712</td>\n",
       "      <td>0.127726</td>\n",
       "      <td>0.027543</td>\n",
       "      <td>-0.928501</td>\n",
       "      <td>False</td>\n",
       "      <td>7.207134</td>\n",
       "      <td>0.626168</td>\n",
       "      <td>0.298073</td>\n",
       "      <td>0.268406</td>\n",
       "      <td>False</td>\n",
       "      <td>0.598607</td>\n",
       "    </tr>\n",
       "    <tr>\n",
       "      <th>13</th>\n",
       "      <td>CIFAR10</td>\n",
       "      <td>0.645580</td>\n",
       "      <td>0.992089</td>\n",
       "      <td>0.4107</td>\n",
       "      <td>2.004410</td>\n",
       "      <td>7.557135</td>\n",
       "      <td>0.161626</td>\n",
       "      <td>320</td>\n",
       "      <td>7.288886</td>\n",
       "      <td>1.000000</td>\n",
       "      <td>0.028031</td>\n",
       "      <td>9.569672</td>\n",
       "      <td>False</td>\n",
       "      <td>7.178151</td>\n",
       "      <td>0.937695</td>\n",
       "      <td>0.306340</td>\n",
       "      <td>1.237133</td>\n",
       "      <td>False</td>\n",
       "      <td>0.592155</td>\n",
       "    </tr>\n",
       "    <tr>\n",
       "      <th>14</th>\n",
       "      <td>CIFAR10</td>\n",
       "      <td>0.654440</td>\n",
       "      <td>0.964225</td>\n",
       "      <td>0.4239</td>\n",
       "      <td>1.981631</td>\n",
       "      <td>7.364724</td>\n",
       "      <td>0.178912</td>\n",
       "      <td>320</td>\n",
       "      <td>7.306863</td>\n",
       "      <td>0.937695</td>\n",
       "      <td>0.037358</td>\n",
       "      <td>1.548792</td>\n",
       "      <td>False</td>\n",
       "      <td>7.306381</td>\n",
       "      <td>0.968847</td>\n",
       "      <td>0.037244</td>\n",
       "      <td>1.566492</td>\n",
       "      <td>False</td>\n",
       "      <td>0.896825</td>\n",
       "    </tr>\n",
       "    <tr>\n",
       "      <th>15</th>\n",
       "      <td>CIFAR10</td>\n",
       "      <td>0.652180</td>\n",
       "      <td>0.973041</td>\n",
       "      <td>0.4111</td>\n",
       "      <td>2.053139</td>\n",
       "      <td>7.221106</td>\n",
       "      <td>0.192415</td>\n",
       "      <td>320</td>\n",
       "      <td>7.292977</td>\n",
       "      <td>0.003115</td>\n",
       "      <td>0.023688</td>\n",
       "      <td>-3.034139</td>\n",
       "      <td>True</td>\n",
       "      <td>7.367185</td>\n",
       "      <td>0.034268</td>\n",
       "      <td>0.073954</td>\n",
       "      <td>-1.975280</td>\n",
       "      <td>False</td>\n",
       "      <td>0.820917</td>\n",
       "    </tr>\n",
       "    <tr>\n",
       "      <th>16</th>\n",
       "      <td>CIFAR10</td>\n",
       "      <td>0.644540</td>\n",
       "      <td>0.994267</td>\n",
       "      <td>0.4178</td>\n",
       "      <td>1.984371</td>\n",
       "      <td>7.202785</td>\n",
       "      <td>0.194176</td>\n",
       "      <td>320</td>\n",
       "      <td>7.298864</td>\n",
       "      <td>0.003115</td>\n",
       "      <td>0.027813</td>\n",
       "      <td>-3.454511</td>\n",
       "      <td>True</td>\n",
       "      <td>7.270084</td>\n",
       "      <td>0.034268</td>\n",
       "      <td>0.032526</td>\n",
       "      <td>-2.069077</td>\n",
       "      <td>False</td>\n",
       "      <td>0.911350</td>\n",
       "    </tr>\n",
       "    <tr>\n",
       "      <th>17</th>\n",
       "      <td>CIFAR10</td>\n",
       "      <td>0.651840</td>\n",
       "      <td>0.974107</td>\n",
       "      <td>0.4177</td>\n",
       "      <td>1.981042</td>\n",
       "      <td>7.284719</td>\n",
       "      <td>0.186368</td>\n",
       "      <td>320</td>\n",
       "      <td>7.306224</td>\n",
       "      <td>0.314642</td>\n",
       "      <td>0.029249</td>\n",
       "      <td>-0.735235</td>\n",
       "      <td>False</td>\n",
       "      <td>7.306556</td>\n",
       "      <td>0.252336</td>\n",
       "      <td>0.038144</td>\n",
       "      <td>-0.572501</td>\n",
       "      <td>False</td>\n",
       "      <td>0.895759</td>\n",
       "    </tr>\n",
       "    <tr>\n",
       "      <th>18</th>\n",
       "      <td>CIFAR10</td>\n",
       "      <td>0.643280</td>\n",
       "      <td>0.998221</td>\n",
       "      <td>0.4150</td>\n",
       "      <td>2.007964</td>\n",
       "      <td>7.545081</td>\n",
       "      <td>0.162683</td>\n",
       "      <td>320</td>\n",
       "      <td>7.288815</td>\n",
       "      <td>1.000000</td>\n",
       "      <td>0.025251</td>\n",
       "      <td>10.148727</td>\n",
       "      <td>False</td>\n",
       "      <td>7.562443</td>\n",
       "      <td>0.501558</td>\n",
       "      <td>0.212606</td>\n",
       "      <td>-0.081663</td>\n",
       "      <td>False</td>\n",
       "      <td>0.647275</td>\n",
       "    </tr>\n",
       "    <tr>\n",
       "      <th>19</th>\n",
       "      <td>CIFAR10</td>\n",
       "      <td>0.660940</td>\n",
       "      <td>0.956555</td>\n",
       "      <td>0.4116</td>\n",
       "      <td>2.029548</td>\n",
       "      <td>7.312999</td>\n",
       "      <td>0.183714</td>\n",
       "      <td>320</td>\n",
       "      <td>7.310011</td>\n",
       "      <td>0.563863</td>\n",
       "      <td>0.027951</td>\n",
       "      <td>0.106899</td>\n",
       "      <td>False</td>\n",
       "      <td>7.309882</td>\n",
       "      <td>0.626168</td>\n",
       "      <td>0.112787</td>\n",
       "      <td>0.027633</td>\n",
       "      <td>False</td>\n",
       "      <td>0.767352</td>\n",
       "    </tr>\n",
       "    <tr>\n",
       "      <th>20</th>\n",
       "      <td>FASHION</td>\n",
       "      <td>0.982533</td>\n",
       "      <td>0.049309</td>\n",
       "      <td>0.8937</td>\n",
       "      <td>0.532207</td>\n",
       "      <td>6.881390</td>\n",
       "      <td>0.226597</td>\n",
       "      <td>320</td>\n",
       "      <td>7.279890</td>\n",
       "      <td>0.003115</td>\n",
       "      <td>0.030857</td>\n",
       "      <td>-12.914332</td>\n",
       "      <td>True</td>\n",
       "      <td>7.085521</td>\n",
       "      <td>0.065421</td>\n",
       "      <td>0.189363</td>\n",
       "      <td>-1.077992</td>\n",
       "      <td>False</td>\n",
       "      <td>0.686715</td>\n",
       "    </tr>\n",
       "    <tr>\n",
       "      <th>21</th>\n",
       "      <td>FASHION</td>\n",
       "      <td>0.982217</td>\n",
       "      <td>0.049195</td>\n",
       "      <td>0.8939</td>\n",
       "      <td>0.526313</td>\n",
       "      <td>6.870828</td>\n",
       "      <td>0.227714</td>\n",
       "      <td>320</td>\n",
       "      <td>7.237194</td>\n",
       "      <td>0.003115</td>\n",
       "      <td>0.031628</td>\n",
       "      <td>-11.583630</td>\n",
       "      <td>True</td>\n",
       "      <td>6.925451</td>\n",
       "      <td>0.221184</td>\n",
       "      <td>0.088740</td>\n",
       "      <td>-0.615541</td>\n",
       "      <td>False</td>\n",
       "      <td>0.822125</td>\n",
       "    </tr>\n",
       "    <tr>\n",
       "      <th>22</th>\n",
       "      <td>FASHION</td>\n",
       "      <td>0.982300</td>\n",
       "      <td>0.047581</td>\n",
       "      <td>0.8911</td>\n",
       "      <td>0.595367</td>\n",
       "      <td>7.126657</td>\n",
       "      <td>0.201591</td>\n",
       "      <td>320</td>\n",
       "      <td>7.279643</td>\n",
       "      <td>0.003115</td>\n",
       "      <td>0.023152</td>\n",
       "      <td>-6.607828</td>\n",
       "      <td>True</td>\n",
       "      <td>7.090162</td>\n",
       "      <td>0.688474</td>\n",
       "      <td>0.113056</td>\n",
       "      <td>0.322804</td>\n",
       "      <td>False</td>\n",
       "      <td>0.778152</td>\n",
       "    </tr>\n",
       "    <tr>\n",
       "      <th>23</th>\n",
       "      <td>FASHION</td>\n",
       "      <td>0.983350</td>\n",
       "      <td>0.046463</td>\n",
       "      <td>0.8949</td>\n",
       "      <td>0.575908</td>\n",
       "      <td>6.909954</td>\n",
       "      <td>0.223594</td>\n",
       "      <td>320</td>\n",
       "      <td>7.267034</td>\n",
       "      <td>0.003115</td>\n",
       "      <td>0.034139</td>\n",
       "      <td>-10.459465</td>\n",
       "      <td>True</td>\n",
       "      <td>7.132308</td>\n",
       "      <td>0.034268</td>\n",
       "      <td>0.161696</td>\n",
       "      <td>-1.375131</td>\n",
       "      <td>False</td>\n",
       "      <td>0.711968</td>\n",
       "    </tr>\n",
       "    <tr>\n",
       "      <th>24</th>\n",
       "      <td>FASHION</td>\n",
       "      <td>0.982533</td>\n",
       "      <td>0.048930</td>\n",
       "      <td>0.8909</td>\n",
       "      <td>0.551969</td>\n",
       "      <td>7.018912</td>\n",
       "      <td>0.212361</td>\n",
       "      <td>320</td>\n",
       "      <td>7.236043</td>\n",
       "      <td>0.003115</td>\n",
       "      <td>0.029975</td>\n",
       "      <td>-7.243822</td>\n",
       "      <td>True</td>\n",
       "      <td>6.976894</td>\n",
       "      <td>0.750779</td>\n",
       "      <td>0.089823</td>\n",
       "      <td>0.467782</td>\n",
       "      <td>False</td>\n",
       "      <td>0.816526</td>\n",
       "    </tr>\n",
       "    <tr>\n",
       "      <th>25</th>\n",
       "      <td>FASHION</td>\n",
       "      <td>0.983767</td>\n",
       "      <td>0.045901</td>\n",
       "      <td>0.8976</td>\n",
       "      <td>0.545859</td>\n",
       "      <td>6.848128</td>\n",
       "      <td>0.230126</td>\n",
       "      <td>320</td>\n",
       "      <td>7.236289</td>\n",
       "      <td>0.003115</td>\n",
       "      <td>0.026316</td>\n",
       "      <td>-14.749982</td>\n",
       "      <td>True</td>\n",
       "      <td>7.077124</td>\n",
       "      <td>0.003115</td>\n",
       "      <td>0.154577</td>\n",
       "      <td>-1.481432</td>\n",
       "      <td>True</td>\n",
       "      <td>0.720537</td>\n",
       "    </tr>\n",
       "    <tr>\n",
       "      <th>26</th>\n",
       "      <td>FASHION</td>\n",
       "      <td>0.982167</td>\n",
       "      <td>0.049422</td>\n",
       "      <td>0.8916</td>\n",
       "      <td>0.564790</td>\n",
       "      <td>6.882887</td>\n",
       "      <td>0.226439</td>\n",
       "      <td>320</td>\n",
       "      <td>7.260924</td>\n",
       "      <td>0.003115</td>\n",
       "      <td>0.033445</td>\n",
       "      <td>-11.303189</td>\n",
       "      <td>True</td>\n",
       "      <td>7.136324</td>\n",
       "      <td>0.034268</td>\n",
       "      <td>0.119614</td>\n",
       "      <td>-2.118781</td>\n",
       "      <td>False</td>\n",
       "      <td>0.762984</td>\n",
       "    </tr>\n",
       "    <tr>\n",
       "      <th>27</th>\n",
       "      <td>FASHION</td>\n",
       "      <td>0.982600</td>\n",
       "      <td>0.049156</td>\n",
       "      <td>0.8944</td>\n",
       "      <td>0.546913</td>\n",
       "      <td>6.991295</td>\n",
       "      <td>0.215175</td>\n",
       "      <td>320</td>\n",
       "      <td>7.234485</td>\n",
       "      <td>0.003115</td>\n",
       "      <td>0.030296</td>\n",
       "      <td>-8.027003</td>\n",
       "      <td>True</td>\n",
       "      <td>7.016418</td>\n",
       "      <td>0.501558</td>\n",
       "      <td>0.118793</td>\n",
       "      <td>-0.211483</td>\n",
       "      <td>False</td>\n",
       "      <td>0.769020</td>\n",
       "    </tr>\n",
       "    <tr>\n",
       "      <th>28</th>\n",
       "      <td>FASHION</td>\n",
       "      <td>0.982267</td>\n",
       "      <td>0.049309</td>\n",
       "      <td>0.8942</td>\n",
       "      <td>0.554626</td>\n",
       "      <td>7.187847</td>\n",
       "      <td>0.195619</td>\n",
       "      <td>320</td>\n",
       "      <td>7.246928</td>\n",
       "      <td>0.034268</td>\n",
       "      <td>0.031468</td>\n",
       "      <td>-1.877478</td>\n",
       "      <td>False</td>\n",
       "      <td>7.033907</td>\n",
       "      <td>0.813084</td>\n",
       "      <td>0.144998</td>\n",
       "      <td>1.061677</td>\n",
       "      <td>False</td>\n",
       "      <td>0.734765</td>\n",
       "    </tr>\n",
       "    <tr>\n",
       "      <th>29</th>\n",
       "      <td>FASHION</td>\n",
       "      <td>0.982567</td>\n",
       "      <td>0.048766</td>\n",
       "      <td>0.8921</td>\n",
       "      <td>0.539734</td>\n",
       "      <td>7.036462</td>\n",
       "      <td>0.210584</td>\n",
       "      <td>320</td>\n",
       "      <td>7.286728</td>\n",
       "      <td>0.003115</td>\n",
       "      <td>0.023342</td>\n",
       "      <td>-10.721534</td>\n",
       "      <td>True</td>\n",
       "      <td>7.033468</td>\n",
       "      <td>0.657321</td>\n",
       "      <td>0.100591</td>\n",
       "      <td>0.029765</td>\n",
       "      <td>False</td>\n",
       "      <td>0.801391</td>\n",
       "    </tr>\n",
       "    <tr>\n",
       "      <th>30</th>\n",
       "      <td>MNIST+DROPOUT</td>\n",
       "      <td>0.967817</td>\n",
       "      <td>0.120144</td>\n",
       "      <td>0.9796</td>\n",
       "      <td>0.084581</td>\n",
       "      <td>6.698866</td>\n",
       "      <td>0.246395</td>\n",
       "      <td>320</td>\n",
       "      <td>7.413733</td>\n",
       "      <td>0.003115</td>\n",
       "      <td>0.028948</td>\n",
       "      <td>-24.694626</td>\n",
       "      <td>True</td>\n",
       "      <td>6.889901</td>\n",
       "      <td>0.003115</td>\n",
       "      <td>0.022501</td>\n",
       "      <td>-8.489896</td>\n",
       "      <td>True</td>\n",
       "      <td>0.995663</td>\n",
       "    </tr>\n",
       "    <tr>\n",
       "      <th>31</th>\n",
       "      <td>MNIST+DROPOUT</td>\n",
       "      <td>0.965267</td>\n",
       "      <td>0.127326</td>\n",
       "      <td>0.9802</td>\n",
       "      <td>0.083526</td>\n",
       "      <td>6.699267</td>\n",
       "      <td>0.246350</td>\n",
       "      <td>320</td>\n",
       "      <td>7.420351</td>\n",
       "      <td>0.003115</td>\n",
       "      <td>0.025575</td>\n",
       "      <td>-28.194613</td>\n",
       "      <td>True</td>\n",
       "      <td>6.909420</td>\n",
       "      <td>0.003115</td>\n",
       "      <td>0.021201</td>\n",
       "      <td>-9.912557</td>\n",
       "      <td>True</td>\n",
       "      <td>0.998350</td>\n",
       "    </tr>\n",
       "    <tr>\n",
       "      <th>32</th>\n",
       "      <td>MNIST+DROPOUT</td>\n",
       "      <td>0.966667</td>\n",
       "      <td>0.123364</td>\n",
       "      <td>0.9789</td>\n",
       "      <td>0.081798</td>\n",
       "      <td>6.698848</td>\n",
       "      <td>0.246397</td>\n",
       "      <td>320</td>\n",
       "      <td>7.419778</td>\n",
       "      <td>0.003115</td>\n",
       "      <td>0.028901</td>\n",
       "      <td>-24.944823</td>\n",
       "      <td>True</td>\n",
       "      <td>6.907296</td>\n",
       "      <td>0.003115</td>\n",
       "      <td>0.108394</td>\n",
       "      <td>-1.923049</td>\n",
       "      <td>True</td>\n",
       "      <td>0.811807</td>\n",
       "    </tr>\n",
       "    <tr>\n",
       "      <th>33</th>\n",
       "      <td>MNIST+DROPOUT</td>\n",
       "      <td>0.967167</td>\n",
       "      <td>0.125616</td>\n",
       "      <td>0.9800</td>\n",
       "      <td>0.081888</td>\n",
       "      <td>6.658210</td>\n",
       "      <td>0.250953</td>\n",
       "      <td>320</td>\n",
       "      <td>7.425709</td>\n",
       "      <td>0.003115</td>\n",
       "      <td>0.038620</td>\n",
       "      <td>-19.873095</td>\n",
       "      <td>True</td>\n",
       "      <td>6.878349</td>\n",
       "      <td>0.003115</td>\n",
       "      <td>0.074882</td>\n",
       "      <td>-2.939797</td>\n",
       "      <td>True</td>\n",
       "      <td>0.872363</td>\n",
       "    </tr>\n",
       "    <tr>\n",
       "      <th>34</th>\n",
       "      <td>MNIST+DROPOUT</td>\n",
       "      <td>0.966133</td>\n",
       "      <td>0.127377</td>\n",
       "      <td>0.9793</td>\n",
       "      <td>0.084823</td>\n",
       "      <td>6.732591</td>\n",
       "      <td>0.242656</td>\n",
       "      <td>320</td>\n",
       "      <td>7.418193</td>\n",
       "      <td>0.003115</td>\n",
       "      <td>0.028902</td>\n",
       "      <td>-23.721272</td>\n",
       "      <td>True</td>\n",
       "      <td>6.877979</td>\n",
       "      <td>0.003115</td>\n",
       "      <td>0.021321</td>\n",
       "      <td>-6.818869</td>\n",
       "      <td>True</td>\n",
       "      <td>1.001242</td>\n",
       "    </tr>\n",
       "    <tr>\n",
       "      <th>35</th>\n",
       "      <td>MNIST+DROPOUT</td>\n",
       "      <td>0.965633</td>\n",
       "      <td>0.123383</td>\n",
       "      <td>0.9782</td>\n",
       "      <td>0.086029</td>\n",
       "      <td>6.623509</td>\n",
       "      <td>0.254887</td>\n",
       "      <td>320</td>\n",
       "      <td>7.419386</td>\n",
       "      <td>0.003115</td>\n",
       "      <td>0.031911</td>\n",
       "      <td>-24.940379</td>\n",
       "      <td>True</td>\n",
       "      <td>6.854576</td>\n",
       "      <td>0.003115</td>\n",
       "      <td>0.021074</td>\n",
       "      <td>-10.964537</td>\n",
       "      <td>True</td>\n",
       "      <td>1.004720</td>\n",
       "    </tr>\n",
       "    <tr>\n",
       "      <th>36</th>\n",
       "      <td>MNIST+DROPOUT</td>\n",
       "      <td>0.966617</td>\n",
       "      <td>0.125282</td>\n",
       "      <td>0.9790</td>\n",
       "      <td>0.083403</td>\n",
       "      <td>6.714051</td>\n",
       "      <td>0.244707</td>\n",
       "      <td>320</td>\n",
       "      <td>7.416009</td>\n",
       "      <td>0.003115</td>\n",
       "      <td>0.029230</td>\n",
       "      <td>-24.014803</td>\n",
       "      <td>True</td>\n",
       "      <td>6.898659</td>\n",
       "      <td>0.003115</td>\n",
       "      <td>0.018965</td>\n",
       "      <td>-9.734200</td>\n",
       "      <td>True</td>\n",
       "      <td>1.005264</td>\n",
       "    </tr>\n",
       "    <tr>\n",
       "      <th>37</th>\n",
       "      <td>MNIST+DROPOUT</td>\n",
       "      <td>0.967667</td>\n",
       "      <td>0.122877</td>\n",
       "      <td>0.9808</td>\n",
       "      <td>0.082423</td>\n",
       "      <td>6.685490</td>\n",
       "      <td>0.247888</td>\n",
       "      <td>320</td>\n",
       "      <td>7.426678</td>\n",
       "      <td>0.003115</td>\n",
       "      <td>0.033893</td>\n",
       "      <td>-21.868401</td>\n",
       "      <td>True</td>\n",
       "      <td>6.851115</td>\n",
       "      <td>0.003115</td>\n",
       "      <td>0.020404</td>\n",
       "      <td>-8.117216</td>\n",
       "      <td>True</td>\n",
       "      <td>1.007900</td>\n",
       "    </tr>\n",
       "    <tr>\n",
       "      <th>38</th>\n",
       "      <td>MNIST+DROPOUT</td>\n",
       "      <td>0.967450</td>\n",
       "      <td>0.122427</td>\n",
       "      <td>0.9793</td>\n",
       "      <td>0.082078</td>\n",
       "      <td>6.724438</td>\n",
       "      <td>0.243557</td>\n",
       "      <td>320</td>\n",
       "      <td>7.419963</td>\n",
       "      <td>0.003115</td>\n",
       "      <td>0.027640</td>\n",
       "      <td>-25.163780</td>\n",
       "      <td>True</td>\n",
       "      <td>6.889290</td>\n",
       "      <td>0.003115</td>\n",
       "      <td>0.023264</td>\n",
       "      <td>-7.086024</td>\n",
       "      <td>True</td>\n",
       "      <td>0.994539</td>\n",
       "    </tr>\n",
       "    <tr>\n",
       "      <th>39</th>\n",
       "      <td>MNIST+DROPOUT</td>\n",
       "      <td>0.967467</td>\n",
       "      <td>0.123260</td>\n",
       "      <td>0.9787</td>\n",
       "      <td>0.084267</td>\n",
       "      <td>6.648088</td>\n",
       "      <td>0.252096</td>\n",
       "      <td>320</td>\n",
       "      <td>7.430812</td>\n",
       "      <td>0.003115</td>\n",
       "      <td>0.030450</td>\n",
       "      <td>-25.705509</td>\n",
       "      <td>True</td>\n",
       "      <td>6.854422</td>\n",
       "      <td>0.003115</td>\n",
       "      <td>0.014504</td>\n",
       "      <td>-14.226437</td>\n",
       "      <td>True</td>\n",
       "      <td>1.026774</td>\n",
       "    </tr>\n",
       "    <tr>\n",
       "      <th>40</th>\n",
       "      <td>CIFAR10+DROPOUT</td>\n",
       "      <td>0.425220</td>\n",
       "      <td>1.612513</td>\n",
       "      <td>0.4201</td>\n",
       "      <td>1.628318</td>\n",
       "      <td>6.814776</td>\n",
       "      <td>0.233700</td>\n",
       "      <td>320</td>\n",
       "      <td>7.280384</td>\n",
       "      <td>0.003115</td>\n",
       "      <td>0.018218</td>\n",
       "      <td>-25.558110</td>\n",
       "      <td>True</td>\n",
       "      <td>7.061623</td>\n",
       "      <td>0.096573</td>\n",
       "      <td>0.160687</td>\n",
       "      <td>-1.536199</td>\n",
       "      <td>False</td>\n",
       "      <td>0.719514</td>\n",
       "    </tr>\n",
       "    <tr>\n",
       "      <th>41</th>\n",
       "      <td>CIFAR10+DROPOUT</td>\n",
       "      <td>0.427100</td>\n",
       "      <td>1.602159</td>\n",
       "      <td>0.4216</td>\n",
       "      <td>1.628530</td>\n",
       "      <td>7.182411</td>\n",
       "      <td>0.196145</td>\n",
       "      <td>320</td>\n",
       "      <td>7.306104</td>\n",
       "      <td>0.003115</td>\n",
       "      <td>0.021099</td>\n",
       "      <td>-5.862370</td>\n",
       "      <td>True</td>\n",
       "      <td>7.329149</td>\n",
       "      <td>0.190031</td>\n",
       "      <td>0.159519</td>\n",
       "      <td>-0.919875</td>\n",
       "      <td>False</td>\n",
       "      <td>0.709699</td>\n",
       "    </tr>\n",
       "    <tr>\n",
       "      <th>42</th>\n",
       "      <td>CIFAR10+DROPOUT</td>\n",
       "      <td>0.427520</td>\n",
       "      <td>1.613026</td>\n",
       "      <td>0.4202</td>\n",
       "      <td>1.634889</td>\n",
       "      <td>7.164931</td>\n",
       "      <td>0.197843</td>\n",
       "      <td>320</td>\n",
       "      <td>7.277251</td>\n",
       "      <td>0.003115</td>\n",
       "      <td>0.020340</td>\n",
       "      <td>-5.522214</td>\n",
       "      <td>True</td>\n",
       "      <td>7.258857</td>\n",
       "      <td>0.314642</td>\n",
       "      <td>0.175842</td>\n",
       "      <td>-0.534153</td>\n",
       "      <td>False</td>\n",
       "      <td>0.693228</td>\n",
       "    </tr>\n",
       "    <tr>\n",
       "      <th>43</th>\n",
       "      <td>CIFAR10+DROPOUT</td>\n",
       "      <td>0.436320</td>\n",
       "      <td>1.593016</td>\n",
       "      <td>0.4317</td>\n",
       "      <td>1.603236</td>\n",
       "      <td>6.938008</td>\n",
       "      <td>0.220668</td>\n",
       "      <td>320</td>\n",
       "      <td>7.310051</td>\n",
       "      <td>0.003115</td>\n",
       "      <td>0.017413</td>\n",
       "      <td>-21.365920</td>\n",
       "      <td>True</td>\n",
       "      <td>7.333197</td>\n",
       "      <td>0.003115</td>\n",
       "      <td>0.165794</td>\n",
       "      <td>-2.383614</td>\n",
       "      <td>True</td>\n",
       "      <td>0.703542</td>\n",
       "    </tr>\n",
       "    <tr>\n",
       "      <th>44</th>\n",
       "      <td>CIFAR10+DROPOUT</td>\n",
       "      <td>0.427500</td>\n",
       "      <td>1.600558</td>\n",
       "      <td>0.4149</td>\n",
       "      <td>1.639029</td>\n",
       "      <td>6.853013</td>\n",
       "      <td>0.229606</td>\n",
       "      <td>320</td>\n",
       "      <td>7.301641</td>\n",
       "      <td>0.003115</td>\n",
       "      <td>0.020642</td>\n",
       "      <td>-21.733867</td>\n",
       "      <td>True</td>\n",
       "      <td>7.052406</td>\n",
       "      <td>0.127726</td>\n",
       "      <td>0.139968</td>\n",
       "      <td>-1.424562</td>\n",
       "      <td>False</td>\n",
       "      <td>0.746705</td>\n",
       "    </tr>\n",
       "    <tr>\n",
       "      <th>45</th>\n",
       "      <td>CIFAR10+DROPOUT</td>\n",
       "      <td>0.420800</td>\n",
       "      <td>1.624310</td>\n",
       "      <td>0.4189</td>\n",
       "      <td>1.635075</td>\n",
       "      <td>6.730628</td>\n",
       "      <td>0.242873</td>\n",
       "      <td>320</td>\n",
       "      <td>7.265859</td>\n",
       "      <td>0.003115</td>\n",
       "      <td>0.020633</td>\n",
       "      <td>-25.940203</td>\n",
       "      <td>True</td>\n",
       "      <td>6.854473</td>\n",
       "      <td>0.221184</td>\n",
       "      <td>0.154129</td>\n",
       "      <td>-0.803515</td>\n",
       "      <td>False</td>\n",
       "      <td>0.736158</td>\n",
       "    </tr>\n",
       "    <tr>\n",
       "      <th>46</th>\n",
       "      <td>CIFAR10+DROPOUT</td>\n",
       "      <td>0.437900</td>\n",
       "      <td>1.573070</td>\n",
       "      <td>0.4274</td>\n",
       "      <td>1.610751</td>\n",
       "      <td>6.974830</td>\n",
       "      <td>0.216863</td>\n",
       "      <td>320</td>\n",
       "      <td>7.419636</td>\n",
       "      <td>0.003115</td>\n",
       "      <td>0.021154</td>\n",
       "      <td>-21.026793</td>\n",
       "      <td>True</td>\n",
       "      <td>7.250438</td>\n",
       "      <td>0.003115</td>\n",
       "      <td>0.089613</td>\n",
       "      <td>-3.075540</td>\n",
       "      <td>True</td>\n",
       "      <td>0.818359</td>\n",
       "    </tr>\n",
       "    <tr>\n",
       "      <th>47</th>\n",
       "      <td>CIFAR10+DROPOUT</td>\n",
       "      <td>0.420840</td>\n",
       "      <td>1.625915</td>\n",
       "      <td>0.4194</td>\n",
       "      <td>1.632398</td>\n",
       "      <td>6.825730</td>\n",
       "      <td>0.232522</td>\n",
       "      <td>320</td>\n",
       "      <td>7.275016</td>\n",
       "      <td>0.003115</td>\n",
       "      <td>0.021961</td>\n",
       "      <td>-20.458269</td>\n",
       "      <td>True</td>\n",
       "      <td>6.966847</td>\n",
       "      <td>0.158879</td>\n",
       "      <td>0.152699</td>\n",
       "      <td>-0.924145</td>\n",
       "      <td>False</td>\n",
       "      <td>0.732795</td>\n",
       "    </tr>\n",
       "    <tr>\n",
       "      <th>48</th>\n",
       "      <td>CIFAR10+DROPOUT</td>\n",
       "      <td>0.420940</td>\n",
       "      <td>1.617852</td>\n",
       "      <td>0.4202</td>\n",
       "      <td>1.627297</td>\n",
       "      <td>7.051161</td>\n",
       "      <td>0.209103</td>\n",
       "      <td>320</td>\n",
       "      <td>7.270101</td>\n",
       "      <td>0.003115</td>\n",
       "      <td>0.021765</td>\n",
       "      <td>-10.059228</td>\n",
       "      <td>True</td>\n",
       "      <td>7.182556</td>\n",
       "      <td>0.190031</td>\n",
       "      <td>0.144369</td>\n",
       "      <td>-0.910127</td>\n",
       "      <td>False</td>\n",
       "      <td>0.730860</td>\n",
       "    </tr>\n",
       "    <tr>\n",
       "      <th>49</th>\n",
       "      <td>CIFAR10+DROPOUT</td>\n",
       "      <td>0.426360</td>\n",
       "      <td>1.609047</td>\n",
       "      <td>0.4245</td>\n",
       "      <td>1.622804</td>\n",
       "      <td>7.192057</td>\n",
       "      <td>0.195211</td>\n",
       "      <td>320</td>\n",
       "      <td>7.277713</td>\n",
       "      <td>0.003115</td>\n",
       "      <td>0.024666</td>\n",
       "      <td>-3.472566</td>\n",
       "      <td>True</td>\n",
       "      <td>7.239010</td>\n",
       "      <td>0.345794</td>\n",
       "      <td>0.178017</td>\n",
       "      <td>-0.263750</td>\n",
       "      <td>False</td>\n",
       "      <td>0.691566</td>\n",
       "    </tr>\n",
       "    <tr>\n",
       "      <th>50</th>\n",
       "      <td>FASHION+DROPOUT</td>\n",
       "      <td>0.863800</td>\n",
       "      <td>0.397653</td>\n",
       "      <td>0.8705</td>\n",
       "      <td>0.359481</td>\n",
       "      <td>6.493208</td>\n",
       "      <td>0.270035</td>\n",
       "      <td>320</td>\n",
       "      <td>7.326138</td>\n",
       "      <td>0.003115</td>\n",
       "      <td>0.034812</td>\n",
       "      <td>-23.926811</td>\n",
       "      <td>True</td>\n",
       "      <td>6.675437</td>\n",
       "      <td>0.003115</td>\n",
       "      <td>0.058547</td>\n",
       "      <td>-3.112543</td>\n",
       "      <td>True</td>\n",
       "      <td>0.913683</td>\n",
       "    </tr>\n",
       "    <tr>\n",
       "      <th>51</th>\n",
       "      <td>FASHION+DROPOUT</td>\n",
       "      <td>0.863817</td>\n",
       "      <td>0.390582</td>\n",
       "      <td>0.8725</td>\n",
       "      <td>0.348940</td>\n",
       "      <td>6.443208</td>\n",
       "      <td>0.276011</td>\n",
       "      <td>320</td>\n",
       "      <td>7.327844</td>\n",
       "      <td>0.003115</td>\n",
       "      <td>0.039475</td>\n",
       "      <td>-22.409749</td>\n",
       "      <td>True</td>\n",
       "      <td>6.702509</td>\n",
       "      <td>0.003115</td>\n",
       "      <td>0.080963</td>\n",
       "      <td>-3.202697</td>\n",
       "      <td>True</td>\n",
       "      <td>0.863396</td>\n",
       "    </tr>\n",
       "    <tr>\n",
       "      <th>52</th>\n",
       "      <td>FASHION+DROPOUT</td>\n",
       "      <td>0.862400</td>\n",
       "      <td>0.391380</td>\n",
       "      <td>0.8663</td>\n",
       "      <td>0.355787</td>\n",
       "      <td>6.432961</td>\n",
       "      <td>0.277247</td>\n",
       "      <td>320</td>\n",
       "      <td>7.337904</td>\n",
       "      <td>0.003115</td>\n",
       "      <td>0.032127</td>\n",
       "      <td>-28.167736</td>\n",
       "      <td>True</td>\n",
       "      <td>6.724385</td>\n",
       "      <td>0.003115</td>\n",
       "      <td>0.084507</td>\n",
       "      <td>-3.448493</td>\n",
       "      <td>True</td>\n",
       "      <td>0.856869</td>\n",
       "    </tr>\n",
       "    <tr>\n",
       "      <th>53</th>\n",
       "      <td>FASHION+DROPOUT</td>\n",
       "      <td>0.865350</td>\n",
       "      <td>0.386754</td>\n",
       "      <td>0.8666</td>\n",
       "      <td>0.354577</td>\n",
       "      <td>6.435635</td>\n",
       "      <td>0.276924</td>\n",
       "      <td>320</td>\n",
       "      <td>7.329085</td>\n",
       "      <td>0.003115</td>\n",
       "      <td>0.034669</td>\n",
       "      <td>-25.771025</td>\n",
       "      <td>True</td>\n",
       "      <td>6.698905</td>\n",
       "      <td>0.003115</td>\n",
       "      <td>0.062582</td>\n",
       "      <td>-4.206811</td>\n",
       "      <td>True</td>\n",
       "      <td>0.902702</td>\n",
       "    </tr>\n",
       "    <tr>\n",
       "      <th>54</th>\n",
       "      <td>FASHION+DROPOUT</td>\n",
       "      <td>0.863467</td>\n",
       "      <td>0.388820</td>\n",
       "      <td>0.8690</td>\n",
       "      <td>0.354417</td>\n",
       "      <td>6.504813</td>\n",
       "      <td>0.268662</td>\n",
       "      <td>320</td>\n",
       "      <td>7.349972</td>\n",
       "      <td>0.003115</td>\n",
       "      <td>0.035586</td>\n",
       "      <td>-23.749855</td>\n",
       "      <td>True</td>\n",
       "      <td>6.778824</td>\n",
       "      <td>0.003115</td>\n",
       "      <td>0.116625</td>\n",
       "      <td>-2.349510</td>\n",
       "      <td>True</td>\n",
       "      <td>0.799182</td>\n",
       "    </tr>\n",
       "    <tr>\n",
       "      <th>55</th>\n",
       "      <td>FASHION+DROPOUT</td>\n",
       "      <td>0.864467</td>\n",
       "      <td>0.392445</td>\n",
       "      <td>0.8709</td>\n",
       "      <td>0.354324</td>\n",
       "      <td>6.506716</td>\n",
       "      <td>0.268437</td>\n",
       "      <td>320</td>\n",
       "      <td>7.336058</td>\n",
       "      <td>0.003115</td>\n",
       "      <td>0.025968</td>\n",
       "      <td>-31.936718</td>\n",
       "      <td>True</td>\n",
       "      <td>6.719946</td>\n",
       "      <td>0.003115</td>\n",
       "      <td>0.066554</td>\n",
       "      <td>-3.203872</td>\n",
       "      <td>True</td>\n",
       "      <td>0.894012</td>\n",
       "    </tr>\n",
       "    <tr>\n",
       "      <th>56</th>\n",
       "      <td>FASHION+DROPOUT</td>\n",
       "      <td>0.861367</td>\n",
       "      <td>0.396722</td>\n",
       "      <td>0.8675</td>\n",
       "      <td>0.355441</td>\n",
       "      <td>6.424095</td>\n",
       "      <td>0.278320</td>\n",
       "      <td>320</td>\n",
       "      <td>7.358615</td>\n",
       "      <td>0.003115</td>\n",
       "      <td>0.022665</td>\n",
       "      <td>-41.232074</td>\n",
       "      <td>True</td>\n",
       "      <td>6.761419</td>\n",
       "      <td>0.003115</td>\n",
       "      <td>0.151037</td>\n",
       "      <td>-2.233392</td>\n",
       "      <td>True</td>\n",
       "      <td>0.754262</td>\n",
       "    </tr>\n",
       "    <tr>\n",
       "      <th>57</th>\n",
       "      <td>FASHION+DROPOUT</td>\n",
       "      <td>0.864950</td>\n",
       "      <td>0.390324</td>\n",
       "      <td>0.8703</td>\n",
       "      <td>0.353516</td>\n",
       "      <td>6.487114</td>\n",
       "      <td>0.270759</td>\n",
       "      <td>320</td>\n",
       "      <td>7.328822</td>\n",
       "      <td>0.003115</td>\n",
       "      <td>0.035076</td>\n",
       "      <td>-23.996758</td>\n",
       "      <td>True</td>\n",
       "      <td>6.877452</td>\n",
       "      <td>0.003115</td>\n",
       "      <td>0.126985</td>\n",
       "      <td>-3.073894</td>\n",
       "      <td>True</td>\n",
       "      <td>0.775526</td>\n",
       "    </tr>\n",
       "    <tr>\n",
       "      <th>58</th>\n",
       "      <td>FASHION+DROPOUT</td>\n",
       "      <td>0.860667</td>\n",
       "      <td>0.400913</td>\n",
       "      <td>0.8667</td>\n",
       "      <td>0.359971</td>\n",
       "      <td>6.482323</td>\n",
       "      <td>0.271328</td>\n",
       "      <td>320</td>\n",
       "      <td>7.356636</td>\n",
       "      <td>0.003115</td>\n",
       "      <td>0.030005</td>\n",
       "      <td>-29.138486</td>\n",
       "      <td>True</td>\n",
       "      <td>6.688599</td>\n",
       "      <td>0.003115</td>\n",
       "      <td>0.060988</td>\n",
       "      <td>-3.382232</td>\n",
       "      <td>True</td>\n",
       "      <td>0.911247</td>\n",
       "    </tr>\n",
       "    <tr>\n",
       "      <th>59</th>\n",
       "      <td>FASHION+DROPOUT</td>\n",
       "      <td>0.862400</td>\n",
       "      <td>0.396842</td>\n",
       "      <td>0.8718</td>\n",
       "      <td>0.354866</td>\n",
       "      <td>6.386189</td>\n",
       "      <td>0.282940</td>\n",
       "      <td>320</td>\n",
       "      <td>7.343339</td>\n",
       "      <td>0.003115</td>\n",
       "      <td>0.030682</td>\n",
       "      <td>-31.195315</td>\n",
       "      <td>True</td>\n",
       "      <td>6.688614</td>\n",
       "      <td>0.003115</td>\n",
       "      <td>0.043425</td>\n",
       "      <td>-6.964249</td>\n",
       "      <td>True</td>\n",
       "      <td>0.952072</td>\n",
       "    </tr>\n",
       "  </tbody>\n",
       "</table>\n",
       "</div>"
      ],
      "text/plain": [
       "              model  train_acc  train_loss  test_acc  test_loss      ncut  \\\n",
       "0             MNIST   1.000000    0.000048    0.9835   0.095332  7.149699   \n",
       "1             MNIST   1.000000    0.000056    0.9847   0.090697  7.159383   \n",
       "2             MNIST   1.000000    0.000059    0.9830   0.099833  7.064823   \n",
       "3             MNIST   1.000000    0.000062    0.9828   0.099546  7.144735   \n",
       "4             MNIST   1.000000    0.000081    0.9845   0.097756  7.160156   \n",
       "5             MNIST   1.000000    0.000048    0.9835   0.095626  7.106376   \n",
       "6             MNIST   1.000000    0.000056    0.9838   0.087238  7.110218   \n",
       "7             MNIST   1.000000    0.000061    0.9838   0.100444  7.156789   \n",
       "8             MNIST   1.000000    0.000047    0.9828   0.093142  7.105069   \n",
       "9             MNIST   1.000000    0.000049    0.9833   0.102283  7.216584   \n",
       "10          CIFAR10   0.647020    0.982019    0.4164   2.009407  7.282947   \n",
       "11          CIFAR10   0.655260    0.968012    0.4196   2.009614  7.250526   \n",
       "12          CIFAR10   0.645800    0.993128    0.4085   2.026656  7.287138   \n",
       "13          CIFAR10   0.645580    0.992089    0.4107   2.004410  7.557135   \n",
       "14          CIFAR10   0.654440    0.964225    0.4239   1.981631  7.364724   \n",
       "15          CIFAR10   0.652180    0.973041    0.4111   2.053139  7.221106   \n",
       "16          CIFAR10   0.644540    0.994267    0.4178   1.984371  7.202785   \n",
       "17          CIFAR10   0.651840    0.974107    0.4177   1.981042  7.284719   \n",
       "18          CIFAR10   0.643280    0.998221    0.4150   2.007964  7.545081   \n",
       "19          CIFAR10   0.660940    0.956555    0.4116   2.029548  7.312999   \n",
       "20          FASHION   0.982533    0.049309    0.8937   0.532207  6.881390   \n",
       "21          FASHION   0.982217    0.049195    0.8939   0.526313  6.870828   \n",
       "22          FASHION   0.982300    0.047581    0.8911   0.595367  7.126657   \n",
       "23          FASHION   0.983350    0.046463    0.8949   0.575908  6.909954   \n",
       "24          FASHION   0.982533    0.048930    0.8909   0.551969  7.018912   \n",
       "25          FASHION   0.983767    0.045901    0.8976   0.545859  6.848128   \n",
       "26          FASHION   0.982167    0.049422    0.8916   0.564790  6.882887   \n",
       "27          FASHION   0.982600    0.049156    0.8944   0.546913  6.991295   \n",
       "28          FASHION   0.982267    0.049309    0.8942   0.554626  7.187847   \n",
       "29          FASHION   0.982567    0.048766    0.8921   0.539734  7.036462   \n",
       "30    MNIST+DROPOUT   0.967817    0.120144    0.9796   0.084581  6.698866   \n",
       "31    MNIST+DROPOUT   0.965267    0.127326    0.9802   0.083526  6.699267   \n",
       "32    MNIST+DROPOUT   0.966667    0.123364    0.9789   0.081798  6.698848   \n",
       "33    MNIST+DROPOUT   0.967167    0.125616    0.9800   0.081888  6.658210   \n",
       "34    MNIST+DROPOUT   0.966133    0.127377    0.9793   0.084823  6.732591   \n",
       "35    MNIST+DROPOUT   0.965633    0.123383    0.9782   0.086029  6.623509   \n",
       "36    MNIST+DROPOUT   0.966617    0.125282    0.9790   0.083403  6.714051   \n",
       "37    MNIST+DROPOUT   0.967667    0.122877    0.9808   0.082423  6.685490   \n",
       "38    MNIST+DROPOUT   0.967450    0.122427    0.9793   0.082078  6.724438   \n",
       "39    MNIST+DROPOUT   0.967467    0.123260    0.9787   0.084267  6.648088   \n",
       "40  CIFAR10+DROPOUT   0.425220    1.612513    0.4201   1.628318  6.814776   \n",
       "41  CIFAR10+DROPOUT   0.427100    1.602159    0.4216   1.628530  7.182411   \n",
       "42  CIFAR10+DROPOUT   0.427520    1.613026    0.4202   1.634889  7.164931   \n",
       "43  CIFAR10+DROPOUT   0.436320    1.593016    0.4317   1.603236  6.938008   \n",
       "44  CIFAR10+DROPOUT   0.427500    1.600558    0.4149   1.639029  6.853013   \n",
       "45  CIFAR10+DROPOUT   0.420800    1.624310    0.4189   1.635075  6.730628   \n",
       "46  CIFAR10+DROPOUT   0.437900    1.573070    0.4274   1.610751  6.974830   \n",
       "47  CIFAR10+DROPOUT   0.420840    1.625915    0.4194   1.632398  6.825730   \n",
       "48  CIFAR10+DROPOUT   0.420940    1.617852    0.4202   1.627297  7.051161   \n",
       "49  CIFAR10+DROPOUT   0.426360    1.609047    0.4245   1.622804  7.192057   \n",
       "50  FASHION+DROPOUT   0.863800    0.397653    0.8705   0.359481  6.493208   \n",
       "51  FASHION+DROPOUT   0.863817    0.390582    0.8725   0.348940  6.443208   \n",
       "52  FASHION+DROPOUT   0.862400    0.391380    0.8663   0.355787  6.432961   \n",
       "53  FASHION+DROPOUT   0.865350    0.386754    0.8666   0.354577  6.435635   \n",
       "54  FASHION+DROPOUT   0.863467    0.388820    0.8690   0.354417  6.504813   \n",
       "55  FASHION+DROPOUT   0.864467    0.392445    0.8709   0.354324  6.506716   \n",
       "56  FASHION+DROPOUT   0.861367    0.396722    0.8675   0.355441  6.424095   \n",
       "57  FASHION+DROPOUT   0.864950    0.390324    0.8703   0.353516  6.487114   \n",
       "58  FASHION+DROPOUT   0.860667    0.400913    0.8667   0.359971  6.482323   \n",
       "59  FASHION+DROPOUT   0.862400    0.396842    0.8718   0.354866  6.386189   \n",
       "\n",
       "    ave_in_out  n_samples  mean_layer  percentile_layer  stdev_layer  \\\n",
       "0     0.199330        320    7.371774          0.003115     0.035005   \n",
       "1     0.198384        320    7.390065          0.003115     0.031648   \n",
       "2     0.207732        320    7.391867          0.003115     0.036177   \n",
       "3     0.199816        320    7.380998          0.003115     0.031190   \n",
       "4     0.198309        320    7.409862          0.003115     0.030076   \n",
       "5     0.203593        320    7.423381          0.003115     0.030406   \n",
       "6     0.203213        320    7.381650          0.003115     0.026138   \n",
       "7     0.198637        320    7.396530          0.003115     0.031746   \n",
       "8     0.203723        320    7.400648          0.003115     0.040944   \n",
       "9     0.192849        320    7.420351          0.003115     0.032120   \n",
       "10    0.186535        320    7.306948          0.158879     0.031918   \n",
       "11    0.189605        320    7.316047          0.034268     0.033422   \n",
       "12    0.186140        320    7.312712          0.127726     0.027543   \n",
       "13    0.161626        320    7.288886          1.000000     0.028031   \n",
       "14    0.178912        320    7.306863          0.937695     0.037358   \n",
       "15    0.192415        320    7.292977          0.003115     0.023688   \n",
       "16    0.194176        320    7.298864          0.003115     0.027813   \n",
       "17    0.186368        320    7.306224          0.314642     0.029249   \n",
       "18    0.162683        320    7.288815          1.000000     0.025251   \n",
       "19    0.183714        320    7.310011          0.563863     0.027951   \n",
       "20    0.226597        320    7.279890          0.003115     0.030857   \n",
       "21    0.227714        320    7.237194          0.003115     0.031628   \n",
       "22    0.201591        320    7.279643          0.003115     0.023152   \n",
       "23    0.223594        320    7.267034          0.003115     0.034139   \n",
       "24    0.212361        320    7.236043          0.003115     0.029975   \n",
       "25    0.230126        320    7.236289          0.003115     0.026316   \n",
       "26    0.226439        320    7.260924          0.003115     0.033445   \n",
       "27    0.215175        320    7.234485          0.003115     0.030296   \n",
       "28    0.195619        320    7.246928          0.034268     0.031468   \n",
       "29    0.210584        320    7.286728          0.003115     0.023342   \n",
       "30    0.246395        320    7.413733          0.003115     0.028948   \n",
       "31    0.246350        320    7.420351          0.003115     0.025575   \n",
       "32    0.246397        320    7.419778          0.003115     0.028901   \n",
       "33    0.250953        320    7.425709          0.003115     0.038620   \n",
       "34    0.242656        320    7.418193          0.003115     0.028902   \n",
       "35    0.254887        320    7.419386          0.003115     0.031911   \n",
       "36    0.244707        320    7.416009          0.003115     0.029230   \n",
       "37    0.247888        320    7.426678          0.003115     0.033893   \n",
       "38    0.243557        320    7.419963          0.003115     0.027640   \n",
       "39    0.252096        320    7.430812          0.003115     0.030450   \n",
       "40    0.233700        320    7.280384          0.003115     0.018218   \n",
       "41    0.196145        320    7.306104          0.003115     0.021099   \n",
       "42    0.197843        320    7.277251          0.003115     0.020340   \n",
       "43    0.220668        320    7.310051          0.003115     0.017413   \n",
       "44    0.229606        320    7.301641          0.003115     0.020642   \n",
       "45    0.242873        320    7.265859          0.003115     0.020633   \n",
       "46    0.216863        320    7.419636          0.003115     0.021154   \n",
       "47    0.232522        320    7.275016          0.003115     0.021961   \n",
       "48    0.209103        320    7.270101          0.003115     0.021765   \n",
       "49    0.195211        320    7.277713          0.003115     0.024666   \n",
       "50    0.270035        320    7.326138          0.003115     0.034812   \n",
       "51    0.276011        320    7.327844          0.003115     0.039475   \n",
       "52    0.277247        320    7.337904          0.003115     0.032127   \n",
       "53    0.276924        320    7.329085          0.003115     0.034669   \n",
       "54    0.268662        320    7.349972          0.003115     0.035586   \n",
       "55    0.268437        320    7.336058          0.003115     0.025968   \n",
       "56    0.278320        320    7.358615          0.003115     0.022665   \n",
       "57    0.270759        320    7.328822          0.003115     0.035076   \n",
       "58    0.271328        320    7.356636          0.003115     0.030005   \n",
       "59    0.282940        320    7.343339          0.003115     0.030682   \n",
       "\n",
       "    z_score_layer  is_sig_layer  mean_layer_nonzero  percentile_layer_nonzero  \\\n",
       "0       -6.344132          True            7.261299                  0.003115   \n",
       "1       -7.288987          True            7.320522                  0.003115   \n",
       "2       -9.040050          True            7.161313                  0.003115   \n",
       "3       -7.574911          True            7.249981                  0.003115   \n",
       "4       -8.302590          True            7.301281                  0.003115   \n",
       "5      -10.425870          True            7.357445                  0.003115   \n",
       "6      -10.384694          True            7.323444                  0.065421   \n",
       "7       -7.551794          True            7.323966                  0.003115   \n",
       "8       -7.219160          True            7.264884                  0.003115   \n",
       "9       -6.343847          True            7.364379                  0.003115   \n",
       "10      -0.751943         False            7.286442                  0.470405   \n",
       "11      -1.960434         False            7.321524                  0.003115   \n",
       "12      -0.928501         False            7.207134                  0.626168   \n",
       "13       9.569672         False            7.178151                  0.937695   \n",
       "14       1.548792         False            7.306381                  0.968847   \n",
       "15      -3.034139          True            7.367185                  0.034268   \n",
       "16      -3.454511          True            7.270084                  0.034268   \n",
       "17      -0.735235         False            7.306556                  0.252336   \n",
       "18      10.148727         False            7.562443                  0.501558   \n",
       "19       0.106899         False            7.309882                  0.626168   \n",
       "20     -12.914332          True            7.085521                  0.065421   \n",
       "21     -11.583630          True            6.925451                  0.221184   \n",
       "22      -6.607828          True            7.090162                  0.688474   \n",
       "23     -10.459465          True            7.132308                  0.034268   \n",
       "24      -7.243822          True            6.976894                  0.750779   \n",
       "25     -14.749982          True            7.077124                  0.003115   \n",
       "26     -11.303189          True            7.136324                  0.034268   \n",
       "27      -8.027003          True            7.016418                  0.501558   \n",
       "28      -1.877478         False            7.033907                  0.813084   \n",
       "29     -10.721534          True            7.033468                  0.657321   \n",
       "30     -24.694626          True            6.889901                  0.003115   \n",
       "31     -28.194613          True            6.909420                  0.003115   \n",
       "32     -24.944823          True            6.907296                  0.003115   \n",
       "33     -19.873095          True            6.878349                  0.003115   \n",
       "34     -23.721272          True            6.877979                  0.003115   \n",
       "35     -24.940379          True            6.854576                  0.003115   \n",
       "36     -24.014803          True            6.898659                  0.003115   \n",
       "37     -21.868401          True            6.851115                  0.003115   \n",
       "38     -25.163780          True            6.889290                  0.003115   \n",
       "39     -25.705509          True            6.854422                  0.003115   \n",
       "40     -25.558110          True            7.061623                  0.096573   \n",
       "41      -5.862370          True            7.329149                  0.190031   \n",
       "42      -5.522214          True            7.258857                  0.314642   \n",
       "43     -21.365920          True            7.333197                  0.003115   \n",
       "44     -21.733867          True            7.052406                  0.127726   \n",
       "45     -25.940203          True            6.854473                  0.221184   \n",
       "46     -21.026793          True            7.250438                  0.003115   \n",
       "47     -20.458269          True            6.966847                  0.158879   \n",
       "48     -10.059228          True            7.182556                  0.190031   \n",
       "49      -3.472566          True            7.239010                  0.345794   \n",
       "50     -23.926811          True            6.675437                  0.003115   \n",
       "51     -22.409749          True            6.702509                  0.003115   \n",
       "52     -28.167736          True            6.724385                  0.003115   \n",
       "53     -25.771025          True            6.698905                  0.003115   \n",
       "54     -23.749855          True            6.778824                  0.003115   \n",
       "55     -31.936718          True            6.719946                  0.003115   \n",
       "56     -41.232074          True            6.761419                  0.003115   \n",
       "57     -23.996758          True            6.877452                  0.003115   \n",
       "58     -29.138486          True            6.688599                  0.003115   \n",
       "59     -31.195315          True            6.688614                  0.003115   \n",
       "\n",
       "    stdev_layer_nonzero  z_score_layer_nonzero  is_sig_layer_nonzero   cohen_d  \n",
       "0              0.043346              -2.574603                  True  0.896282  \n",
       "1              0.089845              -1.793533                  True  0.808496  \n",
       "2              0.018134              -5.320789                  True  0.970519  \n",
       "3              0.059685              -1.763372                  True  0.865591  \n",
       "4              0.061875              -2.280814                  True  0.860478  \n",
       "5              0.083587              -3.003673                  True  0.819586  \n",
       "6              0.160001              -1.332656                 False  0.716328  \n",
       "7              0.080510              -2.076481                  True  0.824012  \n",
       "8              0.079261              -2.016325                  True  0.830063  \n",
       "9              0.060175              -2.456112                  True  0.859223  \n",
       "10             0.058573              -0.059665                 False  0.855743  \n",
       "11             0.036805              -1.929016                  True  0.897886  \n",
       "12             0.298073               0.268406                 False  0.598607  \n",
       "13             0.306340               1.237133                 False  0.592155  \n",
       "14             0.037244               1.566492                 False  0.896825  \n",
       "15             0.073954              -1.975280                 False  0.820917  \n",
       "16             0.032526              -2.069077                 False  0.911350  \n",
       "17             0.038144              -0.572501                 False  0.895759  \n",
       "18             0.212606              -0.081663                 False  0.647275  \n",
       "19             0.112787               0.027633                 False  0.767352  \n",
       "20             0.189363              -1.077992                 False  0.686715  \n",
       "21             0.088740              -0.615541                 False  0.822125  \n",
       "22             0.113056               0.322804                 False  0.778152  \n",
       "23             0.161696              -1.375131                 False  0.711968  \n",
       "24             0.089823               0.467782                 False  0.816526  \n",
       "25             0.154577              -1.481432                  True  0.720537  \n",
       "26             0.119614              -2.118781                 False  0.762984  \n",
       "27             0.118793              -0.211483                 False  0.769020  \n",
       "28             0.144998               1.061677                 False  0.734765  \n",
       "29             0.100591               0.029765                 False  0.801391  \n",
       "30             0.022501              -8.489896                  True  0.995663  \n",
       "31             0.021201              -9.912557                  True  0.998350  \n",
       "32             0.108394              -1.923049                  True  0.811807  \n",
       "33             0.074882              -2.939797                  True  0.872363  \n",
       "34             0.021321              -6.818869                  True  1.001242  \n",
       "35             0.021074             -10.964537                  True  1.004720  \n",
       "36             0.018965              -9.734200                  True  1.005264  \n",
       "37             0.020404              -8.117216                  True  1.007900  \n",
       "38             0.023264              -7.086024                  True  0.994539  \n",
       "39             0.014504             -14.226437                  True  1.026774  \n",
       "40             0.160687              -1.536199                 False  0.719514  \n",
       "41             0.159519              -0.919875                 False  0.709699  \n",
       "42             0.175842              -0.534153                 False  0.693228  \n",
       "43             0.165794              -2.383614                  True  0.703542  \n",
       "44             0.139968              -1.424562                 False  0.746705  \n",
       "45             0.154129              -0.803515                 False  0.736158  \n",
       "46             0.089613              -3.075540                  True  0.818359  \n",
       "47             0.152699              -0.924145                 False  0.732795  \n",
       "48             0.144369              -0.910127                 False  0.730860  \n",
       "49             0.178017              -0.263750                 False  0.691566  \n",
       "50             0.058547              -3.112543                  True  0.913683  \n",
       "51             0.080963              -3.202697                  True  0.863396  \n",
       "52             0.084507              -3.448493                  True  0.856869  \n",
       "53             0.062582              -4.206811                  True  0.902702  \n",
       "54             0.116625              -2.349510                  True  0.799182  \n",
       "55             0.066554              -3.203872                  True  0.894012  \n",
       "56             0.151037              -2.233392                  True  0.754262  \n",
       "57             0.126985              -3.073894                  True  0.775526  \n",
       "58             0.060988              -3.382232                  True  0.911247  \n",
       "59             0.043425              -6.964249                  True  0.952072  "
      ]
     },
     "execution_count": 12,
     "metadata": {},
     "output_type": "execute_result"
    }
   ],
   "source": [
    "MODEL_DATA_COLUMNS = ['model',\n",
    "                      'train_acc', 'train_loss', 'test_acc', 'test_loss',\n",
    "                      'ncut', 'ave_in_out',\n",
    "                      'n_samples']\n",
    "\n",
    "assert layer_df[MODEL_DATA_COLUMNS].equals(layer_nonzero_df[MODEL_DATA_COLUMNS])\n",
    "\n",
    "SHUFFLING_DATA_COLUMNS = ['mean', 'percentile', 'stdev', 'z_score', 'is_sig']\n",
    "\n",
    "two_shuffling_method_df = pd.merge(layer_df[SHUFFLING_DATA_COLUMNS],\n",
    "                                     layer_nonzero_df[SHUFFLING_DATA_COLUMNS],\n",
    "                                     left_index=True, right_index=True,\n",
    "                                     suffixes=('_layer', '_layer_nonzero'))\n",
    "\n",
    "assert layer_df[MODEL_DATA_COLUMNS].equals(layer_nonzero_df[MODEL_DATA_COLUMNS])\n",
    "\n",
    "df = pd.merge(layer_df[MODEL_DATA_COLUMNS], two_shuffling_method_df,\n",
    "              left_index=True, right_index=True,)\n",
    "\n",
    "df['cohen_d'] = df.apply(lambda r: cohen_d_stats(r['mean_layer'], r['stdev_layer'], r['n_samples'],\n",
    "                                 r['mean_layer_nonzero'], r['stdev_layer_nonzero'], r['n_samples']),\n",
    "                                axis=1)\n",
    "\n",
    "df"
   ]
  },
  {
   "cell_type": "code",
   "execution_count": 13,
   "metadata": {
    "papermill": {
     "duration": 0.159454,
     "end_time": "2020-05-28T15:46:28.223904",
     "exception": false,
     "start_time": "2020-05-28T15:46:28.064450",
     "status": "completed"
    },
    "tags": []
   },
   "outputs": [],
   "source": [
    "# df = pd.read_csv('../results/mlp-clustering-stability-two-shuffling-methods-all-samples.csv' index_col=0)"
   ]
  },
  {
   "cell_type": "code",
   "execution_count": 14,
   "metadata": {
    "papermill": {
     "duration": 0.172156,
     "end_time": "2020-05-28T15:46:28.533110",
     "exception": false,
     "start_time": "2020-05-28T15:46:28.360954",
     "status": "completed"
    },
    "tags": []
   },
   "outputs": [],
   "source": [
    "df_grpby_model = df.groupby('model')\n",
    "\n",
    "TWO_SHUFFLE_STATS_COLUMNS = [f'{stat}_{shuffle_method}'\n",
    "                             for stat in ['mean', 'stdev', 'z_score', 'percentile', 'is_sig']\n",
    "                             for shuffle_method in SHUFFLE_METHODS]\n",
    "\n",
    "statistics_df = pd.concat([(df_grpby_model[['ncut'] + TWO_SHUFFLE_STATS_COLUMNS]\n",
    "                             .agg(['mean', 'std'])),\n",
    "                            df_grpby_model.size().rename('n_models'),\n",
    "                            (df_grpby_model[['train_acc', 'test_acc']]\n",
    "                             .agg('mean'))],\n",
    "                           axis=1)"
   ]
  },
  {
   "cell_type": "code",
   "execution_count": 15,
   "metadata": {
    "papermill": {
     "duration": 0.159939,
     "end_time": "2020-05-28T15:46:28.823122",
     "exception": false,
     "start_time": "2020-05-28T15:46:28.663183",
     "status": "completed"
    },
    "tags": []
   },
   "outputs": [
    {
     "data": {
      "text/html": [
       "<div>\n",
       "<style scoped>\n",
       "    .dataframe tbody tr th:only-of-type {\n",
       "        vertical-align: middle;\n",
       "    }\n",
       "\n",
       "    .dataframe tbody tr th {\n",
       "        vertical-align: top;\n",
       "    }\n",
       "\n",
       "    .dataframe thead th {\n",
       "        text-align: right;\n",
       "    }\n",
       "</style>\n",
       "<table border=\"1\" class=\"dataframe\">\n",
       "  <thead>\n",
       "    <tr style=\"text-align: right;\">\n",
       "      <th></th>\n",
       "      <th>(ncut, mean)</th>\n",
       "      <th>(ncut, std)</th>\n",
       "      <th>(mean_layer, mean)</th>\n",
       "      <th>(mean_layer, std)</th>\n",
       "      <th>(mean_layer_nonzero, mean)</th>\n",
       "      <th>(mean_layer_nonzero, std)</th>\n",
       "      <th>(stdev_layer, mean)</th>\n",
       "      <th>(stdev_layer, std)</th>\n",
       "      <th>(stdev_layer_nonzero, mean)</th>\n",
       "      <th>(stdev_layer_nonzero, std)</th>\n",
       "      <th>...</th>\n",
       "      <th>(percentile_layer, std)</th>\n",
       "      <th>(percentile_layer_nonzero, mean)</th>\n",
       "      <th>(percentile_layer_nonzero, std)</th>\n",
       "      <th>(is_sig_layer, mean)</th>\n",
       "      <th>(is_sig_layer, std)</th>\n",
       "      <th>(is_sig_layer_nonzero, mean)</th>\n",
       "      <th>(is_sig_layer_nonzero, std)</th>\n",
       "      <th>n_models</th>\n",
       "      <th>train_acc</th>\n",
       "      <th>test_acc</th>\n",
       "    </tr>\n",
       "    <tr>\n",
       "      <th>model</th>\n",
       "      <th></th>\n",
       "      <th></th>\n",
       "      <th></th>\n",
       "      <th></th>\n",
       "      <th></th>\n",
       "      <th></th>\n",
       "      <th></th>\n",
       "      <th></th>\n",
       "      <th></th>\n",
       "      <th></th>\n",
       "      <th></th>\n",
       "      <th></th>\n",
       "      <th></th>\n",
       "      <th></th>\n",
       "      <th></th>\n",
       "      <th></th>\n",
       "      <th></th>\n",
       "      <th></th>\n",
       "      <th></th>\n",
       "      <th></th>\n",
       "      <th></th>\n",
       "    </tr>\n",
       "  </thead>\n",
       "  <tbody>\n",
       "    <tr>\n",
       "      <th>CIFAR10</th>\n",
       "      <td>7.330916</td>\n",
       "      <td>0.124631</td>\n",
       "      <td>7.302835</td>\n",
       "      <td>0.009845</td>\n",
       "      <td>7.311578</td>\n",
       "      <td>0.103947</td>\n",
       "      <td>0.029222</td>\n",
       "      <td>0.004019</td>\n",
       "      <td>0.120705</td>\n",
       "      <td>0.110087</td>\n",
       "      <td>...</td>\n",
       "      <td>0.424561</td>\n",
       "      <td>0.445483</td>\n",
       "      <td>0.358459</td>\n",
       "      <td>0.2</td>\n",
       "      <td>0.421637</td>\n",
       "      <td>0.1</td>\n",
       "      <td>0.316228</td>\n",
       "      <td>10</td>\n",
       "      <td>0.650088</td>\n",
       "      <td>0.41523</td>\n",
       "    </tr>\n",
       "    <tr>\n",
       "      <th>CIFAR10+DROPOUT</th>\n",
       "      <td>6.972755</td>\n",
       "      <td>0.168614</td>\n",
       "      <td>7.298376</td>\n",
       "      <td>0.045351</td>\n",
       "      <td>7.152856</td>\n",
       "      <td>0.161490</td>\n",
       "      <td>0.020789</td>\n",
       "      <td>0.001996</td>\n",
       "      <td>0.152064</td>\n",
       "      <td>0.025095</td>\n",
       "      <td>...</td>\n",
       "      <td>0.000000</td>\n",
       "      <td>0.165109</td>\n",
       "      <td>0.114509</td>\n",
       "      <td>1.0</td>\n",
       "      <td>0.000000</td>\n",
       "      <td>0.2</td>\n",
       "      <td>0.421637</td>\n",
       "      <td>10</td>\n",
       "      <td>0.427050</td>\n",
       "      <td>0.42189</td>\n",
       "    </tr>\n",
       "    <tr>\n",
       "      <th>FASHION</th>\n",
       "      <td>6.975436</td>\n",
       "      <td>0.116762</td>\n",
       "      <td>7.256516</td>\n",
       "      <td>0.020824</td>\n",
       "      <td>7.050758</td>\n",
       "      <td>0.066956</td>\n",
       "      <td>0.029462</td>\n",
       "      <td>0.003895</td>\n",
       "      <td>0.128125</td>\n",
       "      <td>0.033374</td>\n",
       "      <td>...</td>\n",
       "      <td>0.009851</td>\n",
       "      <td>0.376947</td>\n",
       "      <td>0.336166</td>\n",
       "      <td>0.9</td>\n",
       "      <td>0.316228</td>\n",
       "      <td>0.1</td>\n",
       "      <td>0.316228</td>\n",
       "      <td>10</td>\n",
       "      <td>0.982630</td>\n",
       "      <td>0.89344</td>\n",
       "    </tr>\n",
       "    <tr>\n",
       "      <th>FASHION+DROPOUT</th>\n",
       "      <td>6.459626</td>\n",
       "      <td>0.040647</td>\n",
       "      <td>7.339441</td>\n",
       "      <td>0.012178</td>\n",
       "      <td>6.731609</td>\n",
       "      <td>0.060870</td>\n",
       "      <td>0.032107</td>\n",
       "      <td>0.004971</td>\n",
       "      <td>0.085221</td>\n",
       "      <td>0.034940</td>\n",
       "      <td>...</td>\n",
       "      <td>0.000000</td>\n",
       "      <td>0.003115</td>\n",
       "      <td>0.000000</td>\n",
       "      <td>1.0</td>\n",
       "      <td>0.000000</td>\n",
       "      <td>1.0</td>\n",
       "      <td>0.000000</td>\n",
       "      <td>10</td>\n",
       "      <td>0.863268</td>\n",
       "      <td>0.86921</td>\n",
       "    </tr>\n",
       "    <tr>\n",
       "      <th>MNIST</th>\n",
       "      <td>7.137383</td>\n",
       "      <td>0.041987</td>\n",
       "      <td>7.396713</td>\n",
       "      <td>0.017068</td>\n",
       "      <td>7.292851</td>\n",
       "      <td>0.060505</td>\n",
       "      <td>0.032545</td>\n",
       "      <td>0.004013</td>\n",
       "      <td>0.073642</td>\n",
       "      <td>0.037136</td>\n",
       "      <td>...</td>\n",
       "      <td>0.000000</td>\n",
       "      <td>0.009346</td>\n",
       "      <td>0.019703</td>\n",
       "      <td>1.0</td>\n",
       "      <td>0.000000</td>\n",
       "      <td>0.9</td>\n",
       "      <td>0.316228</td>\n",
       "      <td>10</td>\n",
       "      <td>1.000000</td>\n",
       "      <td>0.98357</td>\n",
       "    </tr>\n",
       "    <tr>\n",
       "      <th>MNIST+DROPOUT</th>\n",
       "      <td>6.688336</td>\n",
       "      <td>0.034964</td>\n",
       "      <td>7.421061</td>\n",
       "      <td>0.005184</td>\n",
       "      <td>6.881101</td>\n",
       "      <td>0.021789</td>\n",
       "      <td>0.030407</td>\n",
       "      <td>0.003665</td>\n",
       "      <td>0.034651</td>\n",
       "      <td>0.031148</td>\n",
       "      <td>...</td>\n",
       "      <td>0.000000</td>\n",
       "      <td>0.003115</td>\n",
       "      <td>0.000000</td>\n",
       "      <td>1.0</td>\n",
       "      <td>0.000000</td>\n",
       "      <td>1.0</td>\n",
       "      <td>0.000000</td>\n",
       "      <td>10</td>\n",
       "      <td>0.966788</td>\n",
       "      <td>0.97940</td>\n",
       "    </tr>\n",
       "  </tbody>\n",
       "</table>\n",
       "<p>6 rows × 25 columns</p>\n",
       "</div>"
      ],
      "text/plain": [
       "                 (ncut, mean)  (ncut, std)  (mean_layer, mean)  \\\n",
       "model                                                            \n",
       "CIFAR10              7.330916     0.124631            7.302835   \n",
       "CIFAR10+DROPOUT      6.972755     0.168614            7.298376   \n",
       "FASHION              6.975436     0.116762            7.256516   \n",
       "FASHION+DROPOUT      6.459626     0.040647            7.339441   \n",
       "MNIST                7.137383     0.041987            7.396713   \n",
       "MNIST+DROPOUT        6.688336     0.034964            7.421061   \n",
       "\n",
       "                 (mean_layer, std)  (mean_layer_nonzero, mean)  \\\n",
       "model                                                            \n",
       "CIFAR10                   0.009845                    7.311578   \n",
       "CIFAR10+DROPOUT           0.045351                    7.152856   \n",
       "FASHION                   0.020824                    7.050758   \n",
       "FASHION+DROPOUT           0.012178                    6.731609   \n",
       "MNIST                     0.017068                    7.292851   \n",
       "MNIST+DROPOUT             0.005184                    6.881101   \n",
       "\n",
       "                 (mean_layer_nonzero, std)  (stdev_layer, mean)  \\\n",
       "model                                                             \n",
       "CIFAR10                           0.103947             0.029222   \n",
       "CIFAR10+DROPOUT                   0.161490             0.020789   \n",
       "FASHION                           0.066956             0.029462   \n",
       "FASHION+DROPOUT                   0.060870             0.032107   \n",
       "MNIST                             0.060505             0.032545   \n",
       "MNIST+DROPOUT                     0.021789             0.030407   \n",
       "\n",
       "                 (stdev_layer, std)  (stdev_layer_nonzero, mean)  \\\n",
       "model                                                              \n",
       "CIFAR10                    0.004019                     0.120705   \n",
       "CIFAR10+DROPOUT            0.001996                     0.152064   \n",
       "FASHION                    0.003895                     0.128125   \n",
       "FASHION+DROPOUT            0.004971                     0.085221   \n",
       "MNIST                      0.004013                     0.073642   \n",
       "MNIST+DROPOUT              0.003665                     0.034651   \n",
       "\n",
       "                 (stdev_layer_nonzero, std)  ...  (percentile_layer, std)  \\\n",
       "model                                        ...                            \n",
       "CIFAR10                            0.110087  ...                 0.424561   \n",
       "CIFAR10+DROPOUT                    0.025095  ...                 0.000000   \n",
       "FASHION                            0.033374  ...                 0.009851   \n",
       "FASHION+DROPOUT                    0.034940  ...                 0.000000   \n",
       "MNIST                              0.037136  ...                 0.000000   \n",
       "MNIST+DROPOUT                      0.031148  ...                 0.000000   \n",
       "\n",
       "                 (percentile_layer_nonzero, mean)  \\\n",
       "model                                               \n",
       "CIFAR10                                  0.445483   \n",
       "CIFAR10+DROPOUT                          0.165109   \n",
       "FASHION                                  0.376947   \n",
       "FASHION+DROPOUT                          0.003115   \n",
       "MNIST                                    0.009346   \n",
       "MNIST+DROPOUT                            0.003115   \n",
       "\n",
       "                 (percentile_layer_nonzero, std)  (is_sig_layer, mean)  \\\n",
       "model                                                                    \n",
       "CIFAR10                                 0.358459                   0.2   \n",
       "CIFAR10+DROPOUT                         0.114509                   1.0   \n",
       "FASHION                                 0.336166                   0.9   \n",
       "FASHION+DROPOUT                         0.000000                   1.0   \n",
       "MNIST                                   0.019703                   1.0   \n",
       "MNIST+DROPOUT                           0.000000                   1.0   \n",
       "\n",
       "                 (is_sig_layer, std)  (is_sig_layer_nonzero, mean)  \\\n",
       "model                                                                \n",
       "CIFAR10                     0.421637                           0.1   \n",
       "CIFAR10+DROPOUT             0.000000                           0.2   \n",
       "FASHION                     0.316228                           0.1   \n",
       "FASHION+DROPOUT             0.000000                           1.0   \n",
       "MNIST                       0.000000                           0.9   \n",
       "MNIST+DROPOUT               0.000000                           1.0   \n",
       "\n",
       "                 (is_sig_layer_nonzero, std)  n_models  train_acc  test_acc  \n",
       "model                                                                        \n",
       "CIFAR10                             0.316228        10   0.650088   0.41523  \n",
       "CIFAR10+DROPOUT                     0.421637        10   0.427050   0.42189  \n",
       "FASHION                             0.316228        10   0.982630   0.89344  \n",
       "FASHION+DROPOUT                     0.000000        10   0.863268   0.86921  \n",
       "MNIST                               0.316228        10   1.000000   0.98357  \n",
       "MNIST+DROPOUT                       0.000000        10   0.966788   0.97940  \n",
       "\n",
       "[6 rows x 25 columns]"
      ]
     },
     "execution_count": 15,
     "metadata": {},
     "output_type": "execute_result"
    }
   ],
   "source": [
    "statistics_df"
   ]
  },
  {
   "cell_type": "code",
   "execution_count": 16,
   "metadata": {
    "papermill": {
     "duration": 0.138331,
     "end_time": "2020-05-28T15:46:29.091618",
     "exception": false,
     "start_time": "2020-05-28T15:46:28.953287",
     "status": "completed"
    },
    "tags": []
   },
   "outputs": [],
   "source": [
    "# TODO: ask for a code review\n",
    "# std = np.sqrt(np.mean(x**2) - np.mean(x)**2)\n",
    "\n",
    "def calc_overall_stdev(row, suffix=''):\n",
    "    return np.sqrt(                 # 5. apply root square to get the SD from the variance\n",
    "        (np.mean(                   # 3. divide by the number of trained model\n",
    "            (row[f'stdev{suffix}']**2)       # 1. cancel the overall square root\n",
    "             + row[f'mean{suffix}']**2))     # 2. add the mean and get the sum or squares\n",
    "        - np.mean(row[f'mean{suffix}'])**2)  # 4. substrct the square of the overall mean"
   ]
  },
  {
   "cell_type": "code",
   "execution_count": 17,
   "metadata": {
    "papermill": {
     "duration": 0.184636,
     "end_time": "2020-05-28T15:46:29.408698",
     "exception": false,
     "start_time": "2020-05-28T15:46:29.224062",
     "status": "completed"
    },
    "tags": []
   },
   "outputs": [],
   "source": [
    "SHUFFLE_METHOD_SUFFIX = ['_layer', '_layer_nonzero']\n",
    "for suffix in SHUFFLE_METHOD_SUFFIX:\n",
    "    statistics_df[f'overall_std{suffix}'] = df_grpby_model.apply(calc_overall_stdev, suffix)\n",
    "\n",
    "for suffix in SHUFFLE_METHOD_SUFFIX:\n",
    "    statistics_df[f'is_stable{suffix}'] = (statistics_df[(f'is_sig{suffix}', 'mean')] == 1)\n",
    "\n",
    "statistics_df = statistics_df.loc[TAGS_COMMANDS.keys(), :]"
   ]
  },
  {
   "cell_type": "code",
   "execution_count": 18,
   "metadata": {
    "papermill": {
     "duration": 0.205666,
     "end_time": "2020-05-28T15:46:29.758386",
     "exception": false,
     "start_time": "2020-05-28T15:46:29.552720",
     "status": "completed"
    },
    "tags": []
   },
   "outputs": [
    {
     "data": {
      "text/html": [
       "<div>\n",
       "<style scoped>\n",
       "    .dataframe tbody tr th:only-of-type {\n",
       "        vertical-align: middle;\n",
       "    }\n",
       "\n",
       "    .dataframe tbody tr th {\n",
       "        vertical-align: top;\n",
       "    }\n",
       "\n",
       "    .dataframe thead th {\n",
       "        text-align: right;\n",
       "    }\n",
       "</style>\n",
       "<table border=\"1\" class=\"dataframe\">\n",
       "  <thead>\n",
       "    <tr style=\"text-align: right;\">\n",
       "      <th></th>\n",
       "      <th>(ncut, mean)</th>\n",
       "      <th>(ncut, std)</th>\n",
       "      <th>(mean_layer, mean)</th>\n",
       "      <th>(mean_layer, std)</th>\n",
       "      <th>(mean_layer_nonzero, mean)</th>\n",
       "      <th>(mean_layer_nonzero, std)</th>\n",
       "      <th>(stdev_layer, mean)</th>\n",
       "      <th>(stdev_layer, std)</th>\n",
       "      <th>(stdev_layer_nonzero, mean)</th>\n",
       "      <th>(stdev_layer_nonzero, std)</th>\n",
       "      <th>...</th>\n",
       "      <th>(is_sig_layer, std)</th>\n",
       "      <th>(is_sig_layer_nonzero, mean)</th>\n",
       "      <th>(is_sig_layer_nonzero, std)</th>\n",
       "      <th>n_models</th>\n",
       "      <th>train_acc</th>\n",
       "      <th>test_acc</th>\n",
       "      <th>overall_std_layer</th>\n",
       "      <th>overall_std_layer_nonzero</th>\n",
       "      <th>is_stable_layer</th>\n",
       "      <th>is_stable_layer_nonzero</th>\n",
       "    </tr>\n",
       "    <tr>\n",
       "      <th>model</th>\n",
       "      <th></th>\n",
       "      <th></th>\n",
       "      <th></th>\n",
       "      <th></th>\n",
       "      <th></th>\n",
       "      <th></th>\n",
       "      <th></th>\n",
       "      <th></th>\n",
       "      <th></th>\n",
       "      <th></th>\n",
       "      <th></th>\n",
       "      <th></th>\n",
       "      <th></th>\n",
       "      <th></th>\n",
       "      <th></th>\n",
       "      <th></th>\n",
       "      <th></th>\n",
       "      <th></th>\n",
       "      <th></th>\n",
       "      <th></th>\n",
       "      <th></th>\n",
       "    </tr>\n",
       "  </thead>\n",
       "  <tbody>\n",
       "    <tr>\n",
       "      <th>MNIST</th>\n",
       "      <td>7.137383</td>\n",
       "      <td>0.041987</td>\n",
       "      <td>7.396713</td>\n",
       "      <td>0.017068</td>\n",
       "      <td>7.292851</td>\n",
       "      <td>0.060505</td>\n",
       "      <td>0.032545</td>\n",
       "      <td>0.004013</td>\n",
       "      <td>0.073642</td>\n",
       "      <td>0.037136</td>\n",
       "      <td>...</td>\n",
       "      <td>0.000000</td>\n",
       "      <td>0.9</td>\n",
       "      <td>0.316228</td>\n",
       "      <td>10</td>\n",
       "      <td>1.000000</td>\n",
       "      <td>0.98357</td>\n",
       "      <td>0.036549</td>\n",
       "      <td>0.099795</td>\n",
       "      <td>True</td>\n",
       "      <td>False</td>\n",
       "    </tr>\n",
       "    <tr>\n",
       "      <th>CIFAR10</th>\n",
       "      <td>7.330916</td>\n",
       "      <td>0.124631</td>\n",
       "      <td>7.302835</td>\n",
       "      <td>0.009845</td>\n",
       "      <td>7.311578</td>\n",
       "      <td>0.103947</td>\n",
       "      <td>0.029222</td>\n",
       "      <td>0.004019</td>\n",
       "      <td>0.120705</td>\n",
       "      <td>0.110087</td>\n",
       "      <td>...</td>\n",
       "      <td>0.421637</td>\n",
       "      <td>0.1</td>\n",
       "      <td>0.316228</td>\n",
       "      <td>10</td>\n",
       "      <td>0.650088</td>\n",
       "      <td>0.41523</td>\n",
       "      <td>0.030915</td>\n",
       "      <td>0.187620</td>\n",
       "      <td>False</td>\n",
       "      <td>False</td>\n",
       "    </tr>\n",
       "    <tr>\n",
       "      <th>FASHION</th>\n",
       "      <td>6.975436</td>\n",
       "      <td>0.116762</td>\n",
       "      <td>7.256516</td>\n",
       "      <td>0.020824</td>\n",
       "      <td>7.050758</td>\n",
       "      <td>0.066956</td>\n",
       "      <td>0.029462</td>\n",
       "      <td>0.003895</td>\n",
       "      <td>0.128125</td>\n",
       "      <td>0.033374</td>\n",
       "      <td>...</td>\n",
       "      <td>0.316228</td>\n",
       "      <td>0.1</td>\n",
       "      <td>0.316228</td>\n",
       "      <td>10</td>\n",
       "      <td>0.982630</td>\n",
       "      <td>0.89344</td>\n",
       "      <td>0.035664</td>\n",
       "      <td>0.146470</td>\n",
       "      <td>False</td>\n",
       "      <td>False</td>\n",
       "    </tr>\n",
       "    <tr>\n",
       "      <th>MNIST+DROPOUT</th>\n",
       "      <td>6.688336</td>\n",
       "      <td>0.034964</td>\n",
       "      <td>7.421061</td>\n",
       "      <td>0.005184</td>\n",
       "      <td>6.881101</td>\n",
       "      <td>0.021789</td>\n",
       "      <td>0.030407</td>\n",
       "      <td>0.003665</td>\n",
       "      <td>0.034651</td>\n",
       "      <td>0.031148</td>\n",
       "      <td>...</td>\n",
       "      <td>0.000000</td>\n",
       "      <td>1.0</td>\n",
       "      <td>0.000000</td>\n",
       "      <td>10</td>\n",
       "      <td>0.966788</td>\n",
       "      <td>0.97940</td>\n",
       "      <td>0.030998</td>\n",
       "      <td>0.050012</td>\n",
       "      <td>True</td>\n",
       "      <td>True</td>\n",
       "    </tr>\n",
       "    <tr>\n",
       "      <th>CIFAR10+DROPOUT</th>\n",
       "      <td>6.972755</td>\n",
       "      <td>0.168614</td>\n",
       "      <td>7.298376</td>\n",
       "      <td>0.045351</td>\n",
       "      <td>7.152856</td>\n",
       "      <td>0.161490</td>\n",
       "      <td>0.020789</td>\n",
       "      <td>0.001996</td>\n",
       "      <td>0.152064</td>\n",
       "      <td>0.025095</td>\n",
       "      <td>...</td>\n",
       "      <td>0.000000</td>\n",
       "      <td>0.2</td>\n",
       "      <td>0.421637</td>\n",
       "      <td>10</td>\n",
       "      <td>0.427050</td>\n",
       "      <td>0.42189</td>\n",
       "      <td>0.047820</td>\n",
       "      <td>0.217166</td>\n",
       "      <td>True</td>\n",
       "      <td>False</td>\n",
       "    </tr>\n",
       "    <tr>\n",
       "      <th>FASHION+DROPOUT</th>\n",
       "      <td>6.459626</td>\n",
       "      <td>0.040647</td>\n",
       "      <td>7.339441</td>\n",
       "      <td>0.012178</td>\n",
       "      <td>6.731609</td>\n",
       "      <td>0.060870</td>\n",
       "      <td>0.032107</td>\n",
       "      <td>0.004971</td>\n",
       "      <td>0.085221</td>\n",
       "      <td>0.034940</td>\n",
       "      <td>...</td>\n",
       "      <td>0.000000</td>\n",
       "      <td>1.0</td>\n",
       "      <td>0.000000</td>\n",
       "      <td>10</td>\n",
       "      <td>0.863268</td>\n",
       "      <td>0.86921</td>\n",
       "      <td>0.034446</td>\n",
       "      <td>0.108148</td>\n",
       "      <td>True</td>\n",
       "      <td>True</td>\n",
       "    </tr>\n",
       "  </tbody>\n",
       "</table>\n",
       "<p>6 rows × 29 columns</p>\n",
       "</div>"
      ],
      "text/plain": [
       "                 (ncut, mean)  (ncut, std)  (mean_layer, mean)  \\\n",
       "model                                                            \n",
       "MNIST                7.137383     0.041987            7.396713   \n",
       "CIFAR10              7.330916     0.124631            7.302835   \n",
       "FASHION              6.975436     0.116762            7.256516   \n",
       "MNIST+DROPOUT        6.688336     0.034964            7.421061   \n",
       "CIFAR10+DROPOUT      6.972755     0.168614            7.298376   \n",
       "FASHION+DROPOUT      6.459626     0.040647            7.339441   \n",
       "\n",
       "                 (mean_layer, std)  (mean_layer_nonzero, mean)  \\\n",
       "model                                                            \n",
       "MNIST                     0.017068                    7.292851   \n",
       "CIFAR10                   0.009845                    7.311578   \n",
       "FASHION                   0.020824                    7.050758   \n",
       "MNIST+DROPOUT             0.005184                    6.881101   \n",
       "CIFAR10+DROPOUT           0.045351                    7.152856   \n",
       "FASHION+DROPOUT           0.012178                    6.731609   \n",
       "\n",
       "                 (mean_layer_nonzero, std)  (stdev_layer, mean)  \\\n",
       "model                                                             \n",
       "MNIST                             0.060505             0.032545   \n",
       "CIFAR10                           0.103947             0.029222   \n",
       "FASHION                           0.066956             0.029462   \n",
       "MNIST+DROPOUT                     0.021789             0.030407   \n",
       "CIFAR10+DROPOUT                   0.161490             0.020789   \n",
       "FASHION+DROPOUT                   0.060870             0.032107   \n",
       "\n",
       "                 (stdev_layer, std)  (stdev_layer_nonzero, mean)  \\\n",
       "model                                                              \n",
       "MNIST                      0.004013                     0.073642   \n",
       "CIFAR10                    0.004019                     0.120705   \n",
       "FASHION                    0.003895                     0.128125   \n",
       "MNIST+DROPOUT              0.003665                     0.034651   \n",
       "CIFAR10+DROPOUT            0.001996                     0.152064   \n",
       "FASHION+DROPOUT            0.004971                     0.085221   \n",
       "\n",
       "                 (stdev_layer_nonzero, std)  ...  (is_sig_layer, std)  \\\n",
       "model                                        ...                        \n",
       "MNIST                              0.037136  ...             0.000000   \n",
       "CIFAR10                            0.110087  ...             0.421637   \n",
       "FASHION                            0.033374  ...             0.316228   \n",
       "MNIST+DROPOUT                      0.031148  ...             0.000000   \n",
       "CIFAR10+DROPOUT                    0.025095  ...             0.000000   \n",
       "FASHION+DROPOUT                    0.034940  ...             0.000000   \n",
       "\n",
       "                 (is_sig_layer_nonzero, mean)  (is_sig_layer_nonzero, std)  \\\n",
       "model                                                                        \n",
       "MNIST                                     0.9                     0.316228   \n",
       "CIFAR10                                   0.1                     0.316228   \n",
       "FASHION                                   0.1                     0.316228   \n",
       "MNIST+DROPOUT                             1.0                     0.000000   \n",
       "CIFAR10+DROPOUT                           0.2                     0.421637   \n",
       "FASHION+DROPOUT                           1.0                     0.000000   \n",
       "\n",
       "                 n_models  train_acc  test_acc  overall_std_layer  \\\n",
       "model                                                               \n",
       "MNIST                  10   1.000000   0.98357           0.036549   \n",
       "CIFAR10                10   0.650088   0.41523           0.030915   \n",
       "FASHION                10   0.982630   0.89344           0.035664   \n",
       "MNIST+DROPOUT          10   0.966788   0.97940           0.030998   \n",
       "CIFAR10+DROPOUT        10   0.427050   0.42189           0.047820   \n",
       "FASHION+DROPOUT        10   0.863268   0.86921           0.034446   \n",
       "\n",
       "                 overall_std_layer_nonzero  is_stable_layer  \\\n",
       "model                                                         \n",
       "MNIST                             0.099795             True   \n",
       "CIFAR10                           0.187620            False   \n",
       "FASHION                           0.146470            False   \n",
       "MNIST+DROPOUT                     0.050012             True   \n",
       "CIFAR10+DROPOUT                   0.217166             True   \n",
       "FASHION+DROPOUT                   0.108148             True   \n",
       "\n",
       "                 is_stable_layer_nonzero  \n",
       "model                                     \n",
       "MNIST                              False  \n",
       "CIFAR10                            False  \n",
       "FASHION                            False  \n",
       "MNIST+DROPOUT                       True  \n",
       "CIFAR10+DROPOUT                    False  \n",
       "FASHION+DROPOUT                     True  \n",
       "\n",
       "[6 rows x 29 columns]"
      ]
     },
     "execution_count": 18,
     "metadata": {},
     "output_type": "execute_result"
    }
   ],
   "source": [
    "statistics_df"
   ]
  },
  {
   "cell_type": "code",
   "execution_count": 19,
   "metadata": {
    "papermill": {
     "duration": 0.168949,
     "end_time": "2020-05-28T15:46:30.074155",
     "exception": false,
     "start_time": "2020-05-28T15:46:29.905206",
     "status": "completed"
    },
    "tags": []
   },
   "outputs": [],
   "source": [
    "df.to_csv(f'../results/mlp-clustering-stability-two-shuffling-methods-all-samples-K-{N_CLUSTERS}.csv')\n",
    "statistics_df.to_csv(f'../results/mlp-clustering-stability-two-shuffling-methods-statistics-K-{N_CLUSTERS}.csv')"
   ]
  },
  {
   "cell_type": "markdown",
   "metadata": {
    "papermill": {
     "duration": 0.177559,
     "end_time": "2020-05-28T15:46:30.394143",
     "exception": false,
     "start_time": "2020-05-28T15:46:30.216584",
     "status": "completed"
    },
    "tags": []
   },
   "source": [
    "### Model Stability Statistics"
   ]
  },
  {
   "cell_type": "code",
   "execution_count": 20,
   "metadata": {
    "papermill": {
     "duration": 0.189567,
     "end_time": "2020-05-28T15:46:30.721727",
     "exception": false,
     "start_time": "2020-05-28T15:46:30.532160",
     "status": "completed"
    },
    "tags": []
   },
   "outputs": [
    {
     "data": {
      "text/html": [
       "<div>\n",
       "<style scoped>\n",
       "    .dataframe tbody tr th:only-of-type {\n",
       "        vertical-align: middle;\n",
       "    }\n",
       "\n",
       "    .dataframe tbody tr th {\n",
       "        vertical-align: top;\n",
       "    }\n",
       "\n",
       "    .dataframe thead th {\n",
       "        text-align: right;\n",
       "    }\n",
       "</style>\n",
       "<table border=\"1\" class=\"dataframe\">\n",
       "  <thead>\n",
       "    <tr style=\"text-align: right;\">\n",
       "      <th></th>\n",
       "      <th>(ncut, mean)</th>\n",
       "      <th>(ncut, std)</th>\n",
       "      <th>(mean_layer, mean)</th>\n",
       "      <th>(mean_layer, std)</th>\n",
       "      <th>(mean_layer_nonzero, mean)</th>\n",
       "      <th>(mean_layer_nonzero, std)</th>\n",
       "      <th>(stdev_layer, mean)</th>\n",
       "      <th>(stdev_layer, std)</th>\n",
       "      <th>(stdev_layer_nonzero, mean)</th>\n",
       "      <th>(stdev_layer_nonzero, std)</th>\n",
       "      <th>...</th>\n",
       "      <th>(is_sig_layer, std)</th>\n",
       "      <th>(is_sig_layer_nonzero, mean)</th>\n",
       "      <th>(is_sig_layer_nonzero, std)</th>\n",
       "      <th>n_models</th>\n",
       "      <th>train_acc</th>\n",
       "      <th>test_acc</th>\n",
       "      <th>overall_std_layer</th>\n",
       "      <th>overall_std_layer_nonzero</th>\n",
       "      <th>is_stable_layer</th>\n",
       "      <th>is_stable_layer_nonzero</th>\n",
       "    </tr>\n",
       "    <tr>\n",
       "      <th>model</th>\n",
       "      <th></th>\n",
       "      <th></th>\n",
       "      <th></th>\n",
       "      <th></th>\n",
       "      <th></th>\n",
       "      <th></th>\n",
       "      <th></th>\n",
       "      <th></th>\n",
       "      <th></th>\n",
       "      <th></th>\n",
       "      <th></th>\n",
       "      <th></th>\n",
       "      <th></th>\n",
       "      <th></th>\n",
       "      <th></th>\n",
       "      <th></th>\n",
       "      <th></th>\n",
       "      <th></th>\n",
       "      <th></th>\n",
       "      <th></th>\n",
       "      <th></th>\n",
       "    </tr>\n",
       "  </thead>\n",
       "  <tbody>\n",
       "    <tr>\n",
       "      <th>MNIST</th>\n",
       "      <td>7.137383</td>\n",
       "      <td>0.041987</td>\n",
       "      <td>7.396713</td>\n",
       "      <td>0.017068</td>\n",
       "      <td>7.292851</td>\n",
       "      <td>0.060505</td>\n",
       "      <td>0.032545</td>\n",
       "      <td>0.004013</td>\n",
       "      <td>0.073642</td>\n",
       "      <td>0.037136</td>\n",
       "      <td>...</td>\n",
       "      <td>0.000000</td>\n",
       "      <td>0.9</td>\n",
       "      <td>0.316228</td>\n",
       "      <td>10</td>\n",
       "      <td>1.000000</td>\n",
       "      <td>0.98357</td>\n",
       "      <td>0.036549</td>\n",
       "      <td>0.099795</td>\n",
       "      <td>True</td>\n",
       "      <td>False</td>\n",
       "    </tr>\n",
       "    <tr>\n",
       "      <th>CIFAR10</th>\n",
       "      <td>7.330916</td>\n",
       "      <td>0.124631</td>\n",
       "      <td>7.302835</td>\n",
       "      <td>0.009845</td>\n",
       "      <td>7.311578</td>\n",
       "      <td>0.103947</td>\n",
       "      <td>0.029222</td>\n",
       "      <td>0.004019</td>\n",
       "      <td>0.120705</td>\n",
       "      <td>0.110087</td>\n",
       "      <td>...</td>\n",
       "      <td>0.421637</td>\n",
       "      <td>0.1</td>\n",
       "      <td>0.316228</td>\n",
       "      <td>10</td>\n",
       "      <td>0.650088</td>\n",
       "      <td>0.41523</td>\n",
       "      <td>0.030915</td>\n",
       "      <td>0.187620</td>\n",
       "      <td>False</td>\n",
       "      <td>False</td>\n",
       "    </tr>\n",
       "    <tr>\n",
       "      <th>FASHION</th>\n",
       "      <td>6.975436</td>\n",
       "      <td>0.116762</td>\n",
       "      <td>7.256516</td>\n",
       "      <td>0.020824</td>\n",
       "      <td>7.050758</td>\n",
       "      <td>0.066956</td>\n",
       "      <td>0.029462</td>\n",
       "      <td>0.003895</td>\n",
       "      <td>0.128125</td>\n",
       "      <td>0.033374</td>\n",
       "      <td>...</td>\n",
       "      <td>0.316228</td>\n",
       "      <td>0.1</td>\n",
       "      <td>0.316228</td>\n",
       "      <td>10</td>\n",
       "      <td>0.982630</td>\n",
       "      <td>0.89344</td>\n",
       "      <td>0.035664</td>\n",
       "      <td>0.146470</td>\n",
       "      <td>False</td>\n",
       "      <td>False</td>\n",
       "    </tr>\n",
       "    <tr>\n",
       "      <th>MNIST+DROPOUT</th>\n",
       "      <td>6.688336</td>\n",
       "      <td>0.034964</td>\n",
       "      <td>7.421061</td>\n",
       "      <td>0.005184</td>\n",
       "      <td>6.881101</td>\n",
       "      <td>0.021789</td>\n",
       "      <td>0.030407</td>\n",
       "      <td>0.003665</td>\n",
       "      <td>0.034651</td>\n",
       "      <td>0.031148</td>\n",
       "      <td>...</td>\n",
       "      <td>0.000000</td>\n",
       "      <td>1.0</td>\n",
       "      <td>0.000000</td>\n",
       "      <td>10</td>\n",
       "      <td>0.966788</td>\n",
       "      <td>0.97940</td>\n",
       "      <td>0.030998</td>\n",
       "      <td>0.050012</td>\n",
       "      <td>True</td>\n",
       "      <td>True</td>\n",
       "    </tr>\n",
       "    <tr>\n",
       "      <th>CIFAR10+DROPOUT</th>\n",
       "      <td>6.972755</td>\n",
       "      <td>0.168614</td>\n",
       "      <td>7.298376</td>\n",
       "      <td>0.045351</td>\n",
       "      <td>7.152856</td>\n",
       "      <td>0.161490</td>\n",
       "      <td>0.020789</td>\n",
       "      <td>0.001996</td>\n",
       "      <td>0.152064</td>\n",
       "      <td>0.025095</td>\n",
       "      <td>...</td>\n",
       "      <td>0.000000</td>\n",
       "      <td>0.2</td>\n",
       "      <td>0.421637</td>\n",
       "      <td>10</td>\n",
       "      <td>0.427050</td>\n",
       "      <td>0.42189</td>\n",
       "      <td>0.047820</td>\n",
       "      <td>0.217166</td>\n",
       "      <td>True</td>\n",
       "      <td>False</td>\n",
       "    </tr>\n",
       "    <tr>\n",
       "      <th>FASHION+DROPOUT</th>\n",
       "      <td>6.459626</td>\n",
       "      <td>0.040647</td>\n",
       "      <td>7.339441</td>\n",
       "      <td>0.012178</td>\n",
       "      <td>6.731609</td>\n",
       "      <td>0.060870</td>\n",
       "      <td>0.032107</td>\n",
       "      <td>0.004971</td>\n",
       "      <td>0.085221</td>\n",
       "      <td>0.034940</td>\n",
       "      <td>...</td>\n",
       "      <td>0.000000</td>\n",
       "      <td>1.0</td>\n",
       "      <td>0.000000</td>\n",
       "      <td>10</td>\n",
       "      <td>0.863268</td>\n",
       "      <td>0.86921</td>\n",
       "      <td>0.034446</td>\n",
       "      <td>0.108148</td>\n",
       "      <td>True</td>\n",
       "      <td>True</td>\n",
       "    </tr>\n",
       "  </tbody>\n",
       "</table>\n",
       "<p>6 rows × 29 columns</p>\n",
       "</div>"
      ],
      "text/plain": [
       "                 (ncut, mean)  (ncut, std)  (mean_layer, mean)  \\\n",
       "model                                                            \n",
       "MNIST                7.137383     0.041987            7.396713   \n",
       "CIFAR10              7.330916     0.124631            7.302835   \n",
       "FASHION              6.975436     0.116762            7.256516   \n",
       "MNIST+DROPOUT        6.688336     0.034964            7.421061   \n",
       "CIFAR10+DROPOUT      6.972755     0.168614            7.298376   \n",
       "FASHION+DROPOUT      6.459626     0.040647            7.339441   \n",
       "\n",
       "                 (mean_layer, std)  (mean_layer_nonzero, mean)  \\\n",
       "model                                                            \n",
       "MNIST                     0.017068                    7.292851   \n",
       "CIFAR10                   0.009845                    7.311578   \n",
       "FASHION                   0.020824                    7.050758   \n",
       "MNIST+DROPOUT             0.005184                    6.881101   \n",
       "CIFAR10+DROPOUT           0.045351                    7.152856   \n",
       "FASHION+DROPOUT           0.012178                    6.731609   \n",
       "\n",
       "                 (mean_layer_nonzero, std)  (stdev_layer, mean)  \\\n",
       "model                                                             \n",
       "MNIST                             0.060505             0.032545   \n",
       "CIFAR10                           0.103947             0.029222   \n",
       "FASHION                           0.066956             0.029462   \n",
       "MNIST+DROPOUT                     0.021789             0.030407   \n",
       "CIFAR10+DROPOUT                   0.161490             0.020789   \n",
       "FASHION+DROPOUT                   0.060870             0.032107   \n",
       "\n",
       "                 (stdev_layer, std)  (stdev_layer_nonzero, mean)  \\\n",
       "model                                                              \n",
       "MNIST                      0.004013                     0.073642   \n",
       "CIFAR10                    0.004019                     0.120705   \n",
       "FASHION                    0.003895                     0.128125   \n",
       "MNIST+DROPOUT              0.003665                     0.034651   \n",
       "CIFAR10+DROPOUT            0.001996                     0.152064   \n",
       "FASHION+DROPOUT            0.004971                     0.085221   \n",
       "\n",
       "                 (stdev_layer_nonzero, std)  ...  (is_sig_layer, std)  \\\n",
       "model                                        ...                        \n",
       "MNIST                              0.037136  ...             0.000000   \n",
       "CIFAR10                            0.110087  ...             0.421637   \n",
       "FASHION                            0.033374  ...             0.316228   \n",
       "MNIST+DROPOUT                      0.031148  ...             0.000000   \n",
       "CIFAR10+DROPOUT                    0.025095  ...             0.000000   \n",
       "FASHION+DROPOUT                    0.034940  ...             0.000000   \n",
       "\n",
       "                 (is_sig_layer_nonzero, mean)  (is_sig_layer_nonzero, std)  \\\n",
       "model                                                                        \n",
       "MNIST                                     0.9                     0.316228   \n",
       "CIFAR10                                   0.1                     0.316228   \n",
       "FASHION                                   0.1                     0.316228   \n",
       "MNIST+DROPOUT                             1.0                     0.000000   \n",
       "CIFAR10+DROPOUT                           0.2                     0.421637   \n",
       "FASHION+DROPOUT                           1.0                     0.000000   \n",
       "\n",
       "                 n_models  train_acc  test_acc  overall_std_layer  \\\n",
       "model                                                               \n",
       "MNIST                  10   1.000000   0.98357           0.036549   \n",
       "CIFAR10                10   0.650088   0.41523           0.030915   \n",
       "FASHION                10   0.982630   0.89344           0.035664   \n",
       "MNIST+DROPOUT          10   0.966788   0.97940           0.030998   \n",
       "CIFAR10+DROPOUT        10   0.427050   0.42189           0.047820   \n",
       "FASHION+DROPOUT        10   0.863268   0.86921           0.034446   \n",
       "\n",
       "                 overall_std_layer_nonzero  is_stable_layer  \\\n",
       "model                                                         \n",
       "MNIST                             0.099795             True   \n",
       "CIFAR10                           0.187620            False   \n",
       "FASHION                           0.146470            False   \n",
       "MNIST+DROPOUT                     0.050012             True   \n",
       "CIFAR10+DROPOUT                   0.217166             True   \n",
       "FASHION+DROPOUT                   0.108148             True   \n",
       "\n",
       "                 is_stable_layer_nonzero  \n",
       "model                                     \n",
       "MNIST                              False  \n",
       "CIFAR10                            False  \n",
       "FASHION                            False  \n",
       "MNIST+DROPOUT                       True  \n",
       "CIFAR10+DROPOUT                    False  \n",
       "FASHION+DROPOUT                     True  \n",
       "\n",
       "[6 rows x 29 columns]"
      ]
     },
     "execution_count": 20,
     "metadata": {},
     "output_type": "execute_result"
    }
   ],
   "source": [
    "statistics_df"
   ]
  },
  {
   "cell_type": "markdown",
   "metadata": {
    "papermill": {
     "duration": 0.137673,
     "end_time": "2020-05-28T15:46:31.009772",
     "exception": false,
     "start_time": "2020-05-28T15:46:30.872099",
     "status": "completed"
    },
    "tags": []
   },
   "source": [
    "### Appendix - All Samples"
   ]
  },
  {
   "cell_type": "code",
   "execution_count": 21,
   "metadata": {
    "papermill": {
     "duration": 0.20396,
     "end_time": "2020-05-28T15:46:31.347512",
     "exception": false,
     "start_time": "2020-05-28T15:46:31.143552",
     "status": "completed"
    },
    "tags": []
   },
   "outputs": [
    {
     "data": {
      "text/html": [
       "<div>\n",
       "<style scoped>\n",
       "    .dataframe tbody tr th:only-of-type {\n",
       "        vertical-align: middle;\n",
       "    }\n",
       "\n",
       "    .dataframe tbody tr th {\n",
       "        vertical-align: top;\n",
       "    }\n",
       "\n",
       "    .dataframe thead th {\n",
       "        text-align: right;\n",
       "    }\n",
       "</style>\n",
       "<table border=\"1\" class=\"dataframe\">\n",
       "  <thead>\n",
       "    <tr style=\"text-align: right;\">\n",
       "      <th></th>\n",
       "      <th>model</th>\n",
       "      <th>train_acc</th>\n",
       "      <th>train_loss</th>\n",
       "      <th>test_acc</th>\n",
       "      <th>test_loss</th>\n",
       "      <th>ncut</th>\n",
       "      <th>ave_in_out</th>\n",
       "      <th>n_samples</th>\n",
       "      <th>mean_layer</th>\n",
       "      <th>percentile_layer</th>\n",
       "      <th>stdev_layer</th>\n",
       "      <th>z_score_layer</th>\n",
       "      <th>is_sig_layer</th>\n",
       "      <th>mean_layer_nonzero</th>\n",
       "      <th>percentile_layer_nonzero</th>\n",
       "      <th>stdev_layer_nonzero</th>\n",
       "      <th>z_score_layer_nonzero</th>\n",
       "      <th>is_sig_layer_nonzero</th>\n",
       "      <th>cohen_d</th>\n",
       "    </tr>\n",
       "  </thead>\n",
       "  <tbody>\n",
       "    <tr>\n",
       "      <th>0</th>\n",
       "      <td>MNIST</td>\n",
       "      <td>1.000000</td>\n",
       "      <td>0.000048</td>\n",
       "      <td>0.9835</td>\n",
       "      <td>0.095332</td>\n",
       "      <td>7.149699</td>\n",
       "      <td>0.199330</td>\n",
       "      <td>320</td>\n",
       "      <td>7.371774</td>\n",
       "      <td>0.003115</td>\n",
       "      <td>0.035005</td>\n",
       "      <td>-6.344132</td>\n",
       "      <td>True</td>\n",
       "      <td>7.261299</td>\n",
       "      <td>0.003115</td>\n",
       "      <td>0.043346</td>\n",
       "      <td>-2.574603</td>\n",
       "      <td>True</td>\n",
       "      <td>0.896282</td>\n",
       "    </tr>\n",
       "    <tr>\n",
       "      <th>1</th>\n",
       "      <td>MNIST</td>\n",
       "      <td>1.000000</td>\n",
       "      <td>0.000056</td>\n",
       "      <td>0.9847</td>\n",
       "      <td>0.090697</td>\n",
       "      <td>7.159383</td>\n",
       "      <td>0.198384</td>\n",
       "      <td>320</td>\n",
       "      <td>7.390065</td>\n",
       "      <td>0.003115</td>\n",
       "      <td>0.031648</td>\n",
       "      <td>-7.288987</td>\n",
       "      <td>True</td>\n",
       "      <td>7.320522</td>\n",
       "      <td>0.003115</td>\n",
       "      <td>0.089845</td>\n",
       "      <td>-1.793533</td>\n",
       "      <td>True</td>\n",
       "      <td>0.808496</td>\n",
       "    </tr>\n",
       "    <tr>\n",
       "      <th>2</th>\n",
       "      <td>MNIST</td>\n",
       "      <td>1.000000</td>\n",
       "      <td>0.000059</td>\n",
       "      <td>0.9830</td>\n",
       "      <td>0.099833</td>\n",
       "      <td>7.064823</td>\n",
       "      <td>0.207732</td>\n",
       "      <td>320</td>\n",
       "      <td>7.391867</td>\n",
       "      <td>0.003115</td>\n",
       "      <td>0.036177</td>\n",
       "      <td>-9.040050</td>\n",
       "      <td>True</td>\n",
       "      <td>7.161313</td>\n",
       "      <td>0.003115</td>\n",
       "      <td>0.018134</td>\n",
       "      <td>-5.320789</td>\n",
       "      <td>True</td>\n",
       "      <td>0.970519</td>\n",
       "    </tr>\n",
       "    <tr>\n",
       "      <th>3</th>\n",
       "      <td>MNIST</td>\n",
       "      <td>1.000000</td>\n",
       "      <td>0.000062</td>\n",
       "      <td>0.9828</td>\n",
       "      <td>0.099546</td>\n",
       "      <td>7.144735</td>\n",
       "      <td>0.199816</td>\n",
       "      <td>320</td>\n",
       "      <td>7.380998</td>\n",
       "      <td>0.003115</td>\n",
       "      <td>0.031190</td>\n",
       "      <td>-7.574911</td>\n",
       "      <td>True</td>\n",
       "      <td>7.249981</td>\n",
       "      <td>0.003115</td>\n",
       "      <td>0.059685</td>\n",
       "      <td>-1.763372</td>\n",
       "      <td>True</td>\n",
       "      <td>0.865591</td>\n",
       "    </tr>\n",
       "    <tr>\n",
       "      <th>4</th>\n",
       "      <td>MNIST</td>\n",
       "      <td>1.000000</td>\n",
       "      <td>0.000081</td>\n",
       "      <td>0.9845</td>\n",
       "      <td>0.097756</td>\n",
       "      <td>7.160156</td>\n",
       "      <td>0.198309</td>\n",
       "      <td>320</td>\n",
       "      <td>7.409862</td>\n",
       "      <td>0.003115</td>\n",
       "      <td>0.030076</td>\n",
       "      <td>-8.302590</td>\n",
       "      <td>True</td>\n",
       "      <td>7.301281</td>\n",
       "      <td>0.003115</td>\n",
       "      <td>0.061875</td>\n",
       "      <td>-2.280814</td>\n",
       "      <td>True</td>\n",
       "      <td>0.860478</td>\n",
       "    </tr>\n",
       "    <tr>\n",
       "      <th>5</th>\n",
       "      <td>MNIST</td>\n",
       "      <td>1.000000</td>\n",
       "      <td>0.000048</td>\n",
       "      <td>0.9835</td>\n",
       "      <td>0.095626</td>\n",
       "      <td>7.106376</td>\n",
       "      <td>0.203593</td>\n",
       "      <td>320</td>\n",
       "      <td>7.423381</td>\n",
       "      <td>0.003115</td>\n",
       "      <td>0.030406</td>\n",
       "      <td>-10.425870</td>\n",
       "      <td>True</td>\n",
       "      <td>7.357445</td>\n",
       "      <td>0.003115</td>\n",
       "      <td>0.083587</td>\n",
       "      <td>-3.003673</td>\n",
       "      <td>True</td>\n",
       "      <td>0.819586</td>\n",
       "    </tr>\n",
       "    <tr>\n",
       "      <th>6</th>\n",
       "      <td>MNIST</td>\n",
       "      <td>1.000000</td>\n",
       "      <td>0.000056</td>\n",
       "      <td>0.9838</td>\n",
       "      <td>0.087238</td>\n",
       "      <td>7.110218</td>\n",
       "      <td>0.203213</td>\n",
       "      <td>320</td>\n",
       "      <td>7.381650</td>\n",
       "      <td>0.003115</td>\n",
       "      <td>0.026138</td>\n",
       "      <td>-10.384694</td>\n",
       "      <td>True</td>\n",
       "      <td>7.323444</td>\n",
       "      <td>0.065421</td>\n",
       "      <td>0.160001</td>\n",
       "      <td>-1.332656</td>\n",
       "      <td>False</td>\n",
       "      <td>0.716328</td>\n",
       "    </tr>\n",
       "    <tr>\n",
       "      <th>7</th>\n",
       "      <td>MNIST</td>\n",
       "      <td>1.000000</td>\n",
       "      <td>0.000061</td>\n",
       "      <td>0.9838</td>\n",
       "      <td>0.100444</td>\n",
       "      <td>7.156789</td>\n",
       "      <td>0.198637</td>\n",
       "      <td>320</td>\n",
       "      <td>7.396530</td>\n",
       "      <td>0.003115</td>\n",
       "      <td>0.031746</td>\n",
       "      <td>-7.551794</td>\n",
       "      <td>True</td>\n",
       "      <td>7.323966</td>\n",
       "      <td>0.003115</td>\n",
       "      <td>0.080510</td>\n",
       "      <td>-2.076481</td>\n",
       "      <td>True</td>\n",
       "      <td>0.824012</td>\n",
       "    </tr>\n",
       "    <tr>\n",
       "      <th>8</th>\n",
       "      <td>MNIST</td>\n",
       "      <td>1.000000</td>\n",
       "      <td>0.000047</td>\n",
       "      <td>0.9828</td>\n",
       "      <td>0.093142</td>\n",
       "      <td>7.105069</td>\n",
       "      <td>0.203723</td>\n",
       "      <td>320</td>\n",
       "      <td>7.400648</td>\n",
       "      <td>0.003115</td>\n",
       "      <td>0.040944</td>\n",
       "      <td>-7.219160</td>\n",
       "      <td>True</td>\n",
       "      <td>7.264884</td>\n",
       "      <td>0.003115</td>\n",
       "      <td>0.079261</td>\n",
       "      <td>-2.016325</td>\n",
       "      <td>True</td>\n",
       "      <td>0.830063</td>\n",
       "    </tr>\n",
       "    <tr>\n",
       "      <th>9</th>\n",
       "      <td>MNIST</td>\n",
       "      <td>1.000000</td>\n",
       "      <td>0.000049</td>\n",
       "      <td>0.9833</td>\n",
       "      <td>0.102283</td>\n",
       "      <td>7.216584</td>\n",
       "      <td>0.192849</td>\n",
       "      <td>320</td>\n",
       "      <td>7.420351</td>\n",
       "      <td>0.003115</td>\n",
       "      <td>0.032120</td>\n",
       "      <td>-6.343847</td>\n",
       "      <td>True</td>\n",
       "      <td>7.364379</td>\n",
       "      <td>0.003115</td>\n",
       "      <td>0.060175</td>\n",
       "      <td>-2.456112</td>\n",
       "      <td>True</td>\n",
       "      <td>0.859223</td>\n",
       "    </tr>\n",
       "    <tr>\n",
       "      <th>10</th>\n",
       "      <td>CIFAR10</td>\n",
       "      <td>0.647020</td>\n",
       "      <td>0.982019</td>\n",
       "      <td>0.4164</td>\n",
       "      <td>2.009407</td>\n",
       "      <td>7.282947</td>\n",
       "      <td>0.186535</td>\n",
       "      <td>320</td>\n",
       "      <td>7.306948</td>\n",
       "      <td>0.158879</td>\n",
       "      <td>0.031918</td>\n",
       "      <td>-0.751943</td>\n",
       "      <td>False</td>\n",
       "      <td>7.286442</td>\n",
       "      <td>0.470405</td>\n",
       "      <td>0.058573</td>\n",
       "      <td>-0.059665</td>\n",
       "      <td>False</td>\n",
       "      <td>0.855743</td>\n",
       "    </tr>\n",
       "    <tr>\n",
       "      <th>11</th>\n",
       "      <td>CIFAR10</td>\n",
       "      <td>0.655260</td>\n",
       "      <td>0.968012</td>\n",
       "      <td>0.4196</td>\n",
       "      <td>2.009614</td>\n",
       "      <td>7.250526</td>\n",
       "      <td>0.189605</td>\n",
       "      <td>320</td>\n",
       "      <td>7.316047</td>\n",
       "      <td>0.034268</td>\n",
       "      <td>0.033422</td>\n",
       "      <td>-1.960434</td>\n",
       "      <td>False</td>\n",
       "      <td>7.321524</td>\n",
       "      <td>0.003115</td>\n",
       "      <td>0.036805</td>\n",
       "      <td>-1.929016</td>\n",
       "      <td>True</td>\n",
       "      <td>0.897886</td>\n",
       "    </tr>\n",
       "    <tr>\n",
       "      <th>12</th>\n",
       "      <td>CIFAR10</td>\n",
       "      <td>0.645800</td>\n",
       "      <td>0.993128</td>\n",
       "      <td>0.4085</td>\n",
       "      <td>2.026656</td>\n",
       "      <td>7.287138</td>\n",
       "      <td>0.186140</td>\n",
       "      <td>320</td>\n",
       "      <td>7.312712</td>\n",
       "      <td>0.127726</td>\n",
       "      <td>0.027543</td>\n",
       "      <td>-0.928501</td>\n",
       "      <td>False</td>\n",
       "      <td>7.207134</td>\n",
       "      <td>0.626168</td>\n",
       "      <td>0.298073</td>\n",
       "      <td>0.268406</td>\n",
       "      <td>False</td>\n",
       "      <td>0.598607</td>\n",
       "    </tr>\n",
       "    <tr>\n",
       "      <th>13</th>\n",
       "      <td>CIFAR10</td>\n",
       "      <td>0.645580</td>\n",
       "      <td>0.992089</td>\n",
       "      <td>0.4107</td>\n",
       "      <td>2.004410</td>\n",
       "      <td>7.557135</td>\n",
       "      <td>0.161626</td>\n",
       "      <td>320</td>\n",
       "      <td>7.288886</td>\n",
       "      <td>1.000000</td>\n",
       "      <td>0.028031</td>\n",
       "      <td>9.569672</td>\n",
       "      <td>False</td>\n",
       "      <td>7.178151</td>\n",
       "      <td>0.937695</td>\n",
       "      <td>0.306340</td>\n",
       "      <td>1.237133</td>\n",
       "      <td>False</td>\n",
       "      <td>0.592155</td>\n",
       "    </tr>\n",
       "    <tr>\n",
       "      <th>14</th>\n",
       "      <td>CIFAR10</td>\n",
       "      <td>0.654440</td>\n",
       "      <td>0.964225</td>\n",
       "      <td>0.4239</td>\n",
       "      <td>1.981631</td>\n",
       "      <td>7.364724</td>\n",
       "      <td>0.178912</td>\n",
       "      <td>320</td>\n",
       "      <td>7.306863</td>\n",
       "      <td>0.937695</td>\n",
       "      <td>0.037358</td>\n",
       "      <td>1.548792</td>\n",
       "      <td>False</td>\n",
       "      <td>7.306381</td>\n",
       "      <td>0.968847</td>\n",
       "      <td>0.037244</td>\n",
       "      <td>1.566492</td>\n",
       "      <td>False</td>\n",
       "      <td>0.896825</td>\n",
       "    </tr>\n",
       "    <tr>\n",
       "      <th>15</th>\n",
       "      <td>CIFAR10</td>\n",
       "      <td>0.652180</td>\n",
       "      <td>0.973041</td>\n",
       "      <td>0.4111</td>\n",
       "      <td>2.053139</td>\n",
       "      <td>7.221106</td>\n",
       "      <td>0.192415</td>\n",
       "      <td>320</td>\n",
       "      <td>7.292977</td>\n",
       "      <td>0.003115</td>\n",
       "      <td>0.023688</td>\n",
       "      <td>-3.034139</td>\n",
       "      <td>True</td>\n",
       "      <td>7.367185</td>\n",
       "      <td>0.034268</td>\n",
       "      <td>0.073954</td>\n",
       "      <td>-1.975280</td>\n",
       "      <td>False</td>\n",
       "      <td>0.820917</td>\n",
       "    </tr>\n",
       "    <tr>\n",
       "      <th>16</th>\n",
       "      <td>CIFAR10</td>\n",
       "      <td>0.644540</td>\n",
       "      <td>0.994267</td>\n",
       "      <td>0.4178</td>\n",
       "      <td>1.984371</td>\n",
       "      <td>7.202785</td>\n",
       "      <td>0.194176</td>\n",
       "      <td>320</td>\n",
       "      <td>7.298864</td>\n",
       "      <td>0.003115</td>\n",
       "      <td>0.027813</td>\n",
       "      <td>-3.454511</td>\n",
       "      <td>True</td>\n",
       "      <td>7.270084</td>\n",
       "      <td>0.034268</td>\n",
       "      <td>0.032526</td>\n",
       "      <td>-2.069077</td>\n",
       "      <td>False</td>\n",
       "      <td>0.911350</td>\n",
       "    </tr>\n",
       "    <tr>\n",
       "      <th>17</th>\n",
       "      <td>CIFAR10</td>\n",
       "      <td>0.651840</td>\n",
       "      <td>0.974107</td>\n",
       "      <td>0.4177</td>\n",
       "      <td>1.981042</td>\n",
       "      <td>7.284719</td>\n",
       "      <td>0.186368</td>\n",
       "      <td>320</td>\n",
       "      <td>7.306224</td>\n",
       "      <td>0.314642</td>\n",
       "      <td>0.029249</td>\n",
       "      <td>-0.735235</td>\n",
       "      <td>False</td>\n",
       "      <td>7.306556</td>\n",
       "      <td>0.252336</td>\n",
       "      <td>0.038144</td>\n",
       "      <td>-0.572501</td>\n",
       "      <td>False</td>\n",
       "      <td>0.895759</td>\n",
       "    </tr>\n",
       "    <tr>\n",
       "      <th>18</th>\n",
       "      <td>CIFAR10</td>\n",
       "      <td>0.643280</td>\n",
       "      <td>0.998221</td>\n",
       "      <td>0.4150</td>\n",
       "      <td>2.007964</td>\n",
       "      <td>7.545081</td>\n",
       "      <td>0.162683</td>\n",
       "      <td>320</td>\n",
       "      <td>7.288815</td>\n",
       "      <td>1.000000</td>\n",
       "      <td>0.025251</td>\n",
       "      <td>10.148727</td>\n",
       "      <td>False</td>\n",
       "      <td>7.562443</td>\n",
       "      <td>0.501558</td>\n",
       "      <td>0.212606</td>\n",
       "      <td>-0.081663</td>\n",
       "      <td>False</td>\n",
       "      <td>0.647275</td>\n",
       "    </tr>\n",
       "    <tr>\n",
       "      <th>19</th>\n",
       "      <td>CIFAR10</td>\n",
       "      <td>0.660940</td>\n",
       "      <td>0.956555</td>\n",
       "      <td>0.4116</td>\n",
       "      <td>2.029548</td>\n",
       "      <td>7.312999</td>\n",
       "      <td>0.183714</td>\n",
       "      <td>320</td>\n",
       "      <td>7.310011</td>\n",
       "      <td>0.563863</td>\n",
       "      <td>0.027951</td>\n",
       "      <td>0.106899</td>\n",
       "      <td>False</td>\n",
       "      <td>7.309882</td>\n",
       "      <td>0.626168</td>\n",
       "      <td>0.112787</td>\n",
       "      <td>0.027633</td>\n",
       "      <td>False</td>\n",
       "      <td>0.767352</td>\n",
       "    </tr>\n",
       "    <tr>\n",
       "      <th>20</th>\n",
       "      <td>FASHION</td>\n",
       "      <td>0.982533</td>\n",
       "      <td>0.049309</td>\n",
       "      <td>0.8937</td>\n",
       "      <td>0.532207</td>\n",
       "      <td>6.881390</td>\n",
       "      <td>0.226597</td>\n",
       "      <td>320</td>\n",
       "      <td>7.279890</td>\n",
       "      <td>0.003115</td>\n",
       "      <td>0.030857</td>\n",
       "      <td>-12.914332</td>\n",
       "      <td>True</td>\n",
       "      <td>7.085521</td>\n",
       "      <td>0.065421</td>\n",
       "      <td>0.189363</td>\n",
       "      <td>-1.077992</td>\n",
       "      <td>False</td>\n",
       "      <td>0.686715</td>\n",
       "    </tr>\n",
       "    <tr>\n",
       "      <th>21</th>\n",
       "      <td>FASHION</td>\n",
       "      <td>0.982217</td>\n",
       "      <td>0.049195</td>\n",
       "      <td>0.8939</td>\n",
       "      <td>0.526313</td>\n",
       "      <td>6.870828</td>\n",
       "      <td>0.227714</td>\n",
       "      <td>320</td>\n",
       "      <td>7.237194</td>\n",
       "      <td>0.003115</td>\n",
       "      <td>0.031628</td>\n",
       "      <td>-11.583630</td>\n",
       "      <td>True</td>\n",
       "      <td>6.925451</td>\n",
       "      <td>0.221184</td>\n",
       "      <td>0.088740</td>\n",
       "      <td>-0.615541</td>\n",
       "      <td>False</td>\n",
       "      <td>0.822125</td>\n",
       "    </tr>\n",
       "    <tr>\n",
       "      <th>22</th>\n",
       "      <td>FASHION</td>\n",
       "      <td>0.982300</td>\n",
       "      <td>0.047581</td>\n",
       "      <td>0.8911</td>\n",
       "      <td>0.595367</td>\n",
       "      <td>7.126657</td>\n",
       "      <td>0.201591</td>\n",
       "      <td>320</td>\n",
       "      <td>7.279643</td>\n",
       "      <td>0.003115</td>\n",
       "      <td>0.023152</td>\n",
       "      <td>-6.607828</td>\n",
       "      <td>True</td>\n",
       "      <td>7.090162</td>\n",
       "      <td>0.688474</td>\n",
       "      <td>0.113056</td>\n",
       "      <td>0.322804</td>\n",
       "      <td>False</td>\n",
       "      <td>0.778152</td>\n",
       "    </tr>\n",
       "    <tr>\n",
       "      <th>23</th>\n",
       "      <td>FASHION</td>\n",
       "      <td>0.983350</td>\n",
       "      <td>0.046463</td>\n",
       "      <td>0.8949</td>\n",
       "      <td>0.575908</td>\n",
       "      <td>6.909954</td>\n",
       "      <td>0.223594</td>\n",
       "      <td>320</td>\n",
       "      <td>7.267034</td>\n",
       "      <td>0.003115</td>\n",
       "      <td>0.034139</td>\n",
       "      <td>-10.459465</td>\n",
       "      <td>True</td>\n",
       "      <td>7.132308</td>\n",
       "      <td>0.034268</td>\n",
       "      <td>0.161696</td>\n",
       "      <td>-1.375131</td>\n",
       "      <td>False</td>\n",
       "      <td>0.711968</td>\n",
       "    </tr>\n",
       "    <tr>\n",
       "      <th>24</th>\n",
       "      <td>FASHION</td>\n",
       "      <td>0.982533</td>\n",
       "      <td>0.048930</td>\n",
       "      <td>0.8909</td>\n",
       "      <td>0.551969</td>\n",
       "      <td>7.018912</td>\n",
       "      <td>0.212361</td>\n",
       "      <td>320</td>\n",
       "      <td>7.236043</td>\n",
       "      <td>0.003115</td>\n",
       "      <td>0.029975</td>\n",
       "      <td>-7.243822</td>\n",
       "      <td>True</td>\n",
       "      <td>6.976894</td>\n",
       "      <td>0.750779</td>\n",
       "      <td>0.089823</td>\n",
       "      <td>0.467782</td>\n",
       "      <td>False</td>\n",
       "      <td>0.816526</td>\n",
       "    </tr>\n",
       "    <tr>\n",
       "      <th>25</th>\n",
       "      <td>FASHION</td>\n",
       "      <td>0.983767</td>\n",
       "      <td>0.045901</td>\n",
       "      <td>0.8976</td>\n",
       "      <td>0.545859</td>\n",
       "      <td>6.848128</td>\n",
       "      <td>0.230126</td>\n",
       "      <td>320</td>\n",
       "      <td>7.236289</td>\n",
       "      <td>0.003115</td>\n",
       "      <td>0.026316</td>\n",
       "      <td>-14.749982</td>\n",
       "      <td>True</td>\n",
       "      <td>7.077124</td>\n",
       "      <td>0.003115</td>\n",
       "      <td>0.154577</td>\n",
       "      <td>-1.481432</td>\n",
       "      <td>True</td>\n",
       "      <td>0.720537</td>\n",
       "    </tr>\n",
       "    <tr>\n",
       "      <th>26</th>\n",
       "      <td>FASHION</td>\n",
       "      <td>0.982167</td>\n",
       "      <td>0.049422</td>\n",
       "      <td>0.8916</td>\n",
       "      <td>0.564790</td>\n",
       "      <td>6.882887</td>\n",
       "      <td>0.226439</td>\n",
       "      <td>320</td>\n",
       "      <td>7.260924</td>\n",
       "      <td>0.003115</td>\n",
       "      <td>0.033445</td>\n",
       "      <td>-11.303189</td>\n",
       "      <td>True</td>\n",
       "      <td>7.136324</td>\n",
       "      <td>0.034268</td>\n",
       "      <td>0.119614</td>\n",
       "      <td>-2.118781</td>\n",
       "      <td>False</td>\n",
       "      <td>0.762984</td>\n",
       "    </tr>\n",
       "    <tr>\n",
       "      <th>27</th>\n",
       "      <td>FASHION</td>\n",
       "      <td>0.982600</td>\n",
       "      <td>0.049156</td>\n",
       "      <td>0.8944</td>\n",
       "      <td>0.546913</td>\n",
       "      <td>6.991295</td>\n",
       "      <td>0.215175</td>\n",
       "      <td>320</td>\n",
       "      <td>7.234485</td>\n",
       "      <td>0.003115</td>\n",
       "      <td>0.030296</td>\n",
       "      <td>-8.027003</td>\n",
       "      <td>True</td>\n",
       "      <td>7.016418</td>\n",
       "      <td>0.501558</td>\n",
       "      <td>0.118793</td>\n",
       "      <td>-0.211483</td>\n",
       "      <td>False</td>\n",
       "      <td>0.769020</td>\n",
       "    </tr>\n",
       "    <tr>\n",
       "      <th>28</th>\n",
       "      <td>FASHION</td>\n",
       "      <td>0.982267</td>\n",
       "      <td>0.049309</td>\n",
       "      <td>0.8942</td>\n",
       "      <td>0.554626</td>\n",
       "      <td>7.187847</td>\n",
       "      <td>0.195619</td>\n",
       "      <td>320</td>\n",
       "      <td>7.246928</td>\n",
       "      <td>0.034268</td>\n",
       "      <td>0.031468</td>\n",
       "      <td>-1.877478</td>\n",
       "      <td>False</td>\n",
       "      <td>7.033907</td>\n",
       "      <td>0.813084</td>\n",
       "      <td>0.144998</td>\n",
       "      <td>1.061677</td>\n",
       "      <td>False</td>\n",
       "      <td>0.734765</td>\n",
       "    </tr>\n",
       "    <tr>\n",
       "      <th>29</th>\n",
       "      <td>FASHION</td>\n",
       "      <td>0.982567</td>\n",
       "      <td>0.048766</td>\n",
       "      <td>0.8921</td>\n",
       "      <td>0.539734</td>\n",
       "      <td>7.036462</td>\n",
       "      <td>0.210584</td>\n",
       "      <td>320</td>\n",
       "      <td>7.286728</td>\n",
       "      <td>0.003115</td>\n",
       "      <td>0.023342</td>\n",
       "      <td>-10.721534</td>\n",
       "      <td>True</td>\n",
       "      <td>7.033468</td>\n",
       "      <td>0.657321</td>\n",
       "      <td>0.100591</td>\n",
       "      <td>0.029765</td>\n",
       "      <td>False</td>\n",
       "      <td>0.801391</td>\n",
       "    </tr>\n",
       "    <tr>\n",
       "      <th>30</th>\n",
       "      <td>MNIST+DROPOUT</td>\n",
       "      <td>0.967817</td>\n",
       "      <td>0.120144</td>\n",
       "      <td>0.9796</td>\n",
       "      <td>0.084581</td>\n",
       "      <td>6.698866</td>\n",
       "      <td>0.246395</td>\n",
       "      <td>320</td>\n",
       "      <td>7.413733</td>\n",
       "      <td>0.003115</td>\n",
       "      <td>0.028948</td>\n",
       "      <td>-24.694626</td>\n",
       "      <td>True</td>\n",
       "      <td>6.889901</td>\n",
       "      <td>0.003115</td>\n",
       "      <td>0.022501</td>\n",
       "      <td>-8.489896</td>\n",
       "      <td>True</td>\n",
       "      <td>0.995663</td>\n",
       "    </tr>\n",
       "    <tr>\n",
       "      <th>31</th>\n",
       "      <td>MNIST+DROPOUT</td>\n",
       "      <td>0.965267</td>\n",
       "      <td>0.127326</td>\n",
       "      <td>0.9802</td>\n",
       "      <td>0.083526</td>\n",
       "      <td>6.699267</td>\n",
       "      <td>0.246350</td>\n",
       "      <td>320</td>\n",
       "      <td>7.420351</td>\n",
       "      <td>0.003115</td>\n",
       "      <td>0.025575</td>\n",
       "      <td>-28.194613</td>\n",
       "      <td>True</td>\n",
       "      <td>6.909420</td>\n",
       "      <td>0.003115</td>\n",
       "      <td>0.021201</td>\n",
       "      <td>-9.912557</td>\n",
       "      <td>True</td>\n",
       "      <td>0.998350</td>\n",
       "    </tr>\n",
       "    <tr>\n",
       "      <th>32</th>\n",
       "      <td>MNIST+DROPOUT</td>\n",
       "      <td>0.966667</td>\n",
       "      <td>0.123364</td>\n",
       "      <td>0.9789</td>\n",
       "      <td>0.081798</td>\n",
       "      <td>6.698848</td>\n",
       "      <td>0.246397</td>\n",
       "      <td>320</td>\n",
       "      <td>7.419778</td>\n",
       "      <td>0.003115</td>\n",
       "      <td>0.028901</td>\n",
       "      <td>-24.944823</td>\n",
       "      <td>True</td>\n",
       "      <td>6.907296</td>\n",
       "      <td>0.003115</td>\n",
       "      <td>0.108394</td>\n",
       "      <td>-1.923049</td>\n",
       "      <td>True</td>\n",
       "      <td>0.811807</td>\n",
       "    </tr>\n",
       "    <tr>\n",
       "      <th>33</th>\n",
       "      <td>MNIST+DROPOUT</td>\n",
       "      <td>0.967167</td>\n",
       "      <td>0.125616</td>\n",
       "      <td>0.9800</td>\n",
       "      <td>0.081888</td>\n",
       "      <td>6.658210</td>\n",
       "      <td>0.250953</td>\n",
       "      <td>320</td>\n",
       "      <td>7.425709</td>\n",
       "      <td>0.003115</td>\n",
       "      <td>0.038620</td>\n",
       "      <td>-19.873095</td>\n",
       "      <td>True</td>\n",
       "      <td>6.878349</td>\n",
       "      <td>0.003115</td>\n",
       "      <td>0.074882</td>\n",
       "      <td>-2.939797</td>\n",
       "      <td>True</td>\n",
       "      <td>0.872363</td>\n",
       "    </tr>\n",
       "    <tr>\n",
       "      <th>34</th>\n",
       "      <td>MNIST+DROPOUT</td>\n",
       "      <td>0.966133</td>\n",
       "      <td>0.127377</td>\n",
       "      <td>0.9793</td>\n",
       "      <td>0.084823</td>\n",
       "      <td>6.732591</td>\n",
       "      <td>0.242656</td>\n",
       "      <td>320</td>\n",
       "      <td>7.418193</td>\n",
       "      <td>0.003115</td>\n",
       "      <td>0.028902</td>\n",
       "      <td>-23.721272</td>\n",
       "      <td>True</td>\n",
       "      <td>6.877979</td>\n",
       "      <td>0.003115</td>\n",
       "      <td>0.021321</td>\n",
       "      <td>-6.818869</td>\n",
       "      <td>True</td>\n",
       "      <td>1.001242</td>\n",
       "    </tr>\n",
       "    <tr>\n",
       "      <th>35</th>\n",
       "      <td>MNIST+DROPOUT</td>\n",
       "      <td>0.965633</td>\n",
       "      <td>0.123383</td>\n",
       "      <td>0.9782</td>\n",
       "      <td>0.086029</td>\n",
       "      <td>6.623509</td>\n",
       "      <td>0.254887</td>\n",
       "      <td>320</td>\n",
       "      <td>7.419386</td>\n",
       "      <td>0.003115</td>\n",
       "      <td>0.031911</td>\n",
       "      <td>-24.940379</td>\n",
       "      <td>True</td>\n",
       "      <td>6.854576</td>\n",
       "      <td>0.003115</td>\n",
       "      <td>0.021074</td>\n",
       "      <td>-10.964537</td>\n",
       "      <td>True</td>\n",
       "      <td>1.004720</td>\n",
       "    </tr>\n",
       "    <tr>\n",
       "      <th>36</th>\n",
       "      <td>MNIST+DROPOUT</td>\n",
       "      <td>0.966617</td>\n",
       "      <td>0.125282</td>\n",
       "      <td>0.9790</td>\n",
       "      <td>0.083403</td>\n",
       "      <td>6.714051</td>\n",
       "      <td>0.244707</td>\n",
       "      <td>320</td>\n",
       "      <td>7.416009</td>\n",
       "      <td>0.003115</td>\n",
       "      <td>0.029230</td>\n",
       "      <td>-24.014803</td>\n",
       "      <td>True</td>\n",
       "      <td>6.898659</td>\n",
       "      <td>0.003115</td>\n",
       "      <td>0.018965</td>\n",
       "      <td>-9.734200</td>\n",
       "      <td>True</td>\n",
       "      <td>1.005264</td>\n",
       "    </tr>\n",
       "    <tr>\n",
       "      <th>37</th>\n",
       "      <td>MNIST+DROPOUT</td>\n",
       "      <td>0.967667</td>\n",
       "      <td>0.122877</td>\n",
       "      <td>0.9808</td>\n",
       "      <td>0.082423</td>\n",
       "      <td>6.685490</td>\n",
       "      <td>0.247888</td>\n",
       "      <td>320</td>\n",
       "      <td>7.426678</td>\n",
       "      <td>0.003115</td>\n",
       "      <td>0.033893</td>\n",
       "      <td>-21.868401</td>\n",
       "      <td>True</td>\n",
       "      <td>6.851115</td>\n",
       "      <td>0.003115</td>\n",
       "      <td>0.020404</td>\n",
       "      <td>-8.117216</td>\n",
       "      <td>True</td>\n",
       "      <td>1.007900</td>\n",
       "    </tr>\n",
       "    <tr>\n",
       "      <th>38</th>\n",
       "      <td>MNIST+DROPOUT</td>\n",
       "      <td>0.967450</td>\n",
       "      <td>0.122427</td>\n",
       "      <td>0.9793</td>\n",
       "      <td>0.082078</td>\n",
       "      <td>6.724438</td>\n",
       "      <td>0.243557</td>\n",
       "      <td>320</td>\n",
       "      <td>7.419963</td>\n",
       "      <td>0.003115</td>\n",
       "      <td>0.027640</td>\n",
       "      <td>-25.163780</td>\n",
       "      <td>True</td>\n",
       "      <td>6.889290</td>\n",
       "      <td>0.003115</td>\n",
       "      <td>0.023264</td>\n",
       "      <td>-7.086024</td>\n",
       "      <td>True</td>\n",
       "      <td>0.994539</td>\n",
       "    </tr>\n",
       "    <tr>\n",
       "      <th>39</th>\n",
       "      <td>MNIST+DROPOUT</td>\n",
       "      <td>0.967467</td>\n",
       "      <td>0.123260</td>\n",
       "      <td>0.9787</td>\n",
       "      <td>0.084267</td>\n",
       "      <td>6.648088</td>\n",
       "      <td>0.252096</td>\n",
       "      <td>320</td>\n",
       "      <td>7.430812</td>\n",
       "      <td>0.003115</td>\n",
       "      <td>0.030450</td>\n",
       "      <td>-25.705509</td>\n",
       "      <td>True</td>\n",
       "      <td>6.854422</td>\n",
       "      <td>0.003115</td>\n",
       "      <td>0.014504</td>\n",
       "      <td>-14.226437</td>\n",
       "      <td>True</td>\n",
       "      <td>1.026774</td>\n",
       "    </tr>\n",
       "    <tr>\n",
       "      <th>40</th>\n",
       "      <td>CIFAR10+DROPOUT</td>\n",
       "      <td>0.425220</td>\n",
       "      <td>1.612513</td>\n",
       "      <td>0.4201</td>\n",
       "      <td>1.628318</td>\n",
       "      <td>6.814776</td>\n",
       "      <td>0.233700</td>\n",
       "      <td>320</td>\n",
       "      <td>7.280384</td>\n",
       "      <td>0.003115</td>\n",
       "      <td>0.018218</td>\n",
       "      <td>-25.558110</td>\n",
       "      <td>True</td>\n",
       "      <td>7.061623</td>\n",
       "      <td>0.096573</td>\n",
       "      <td>0.160687</td>\n",
       "      <td>-1.536199</td>\n",
       "      <td>False</td>\n",
       "      <td>0.719514</td>\n",
       "    </tr>\n",
       "    <tr>\n",
       "      <th>41</th>\n",
       "      <td>CIFAR10+DROPOUT</td>\n",
       "      <td>0.427100</td>\n",
       "      <td>1.602159</td>\n",
       "      <td>0.4216</td>\n",
       "      <td>1.628530</td>\n",
       "      <td>7.182411</td>\n",
       "      <td>0.196145</td>\n",
       "      <td>320</td>\n",
       "      <td>7.306104</td>\n",
       "      <td>0.003115</td>\n",
       "      <td>0.021099</td>\n",
       "      <td>-5.862370</td>\n",
       "      <td>True</td>\n",
       "      <td>7.329149</td>\n",
       "      <td>0.190031</td>\n",
       "      <td>0.159519</td>\n",
       "      <td>-0.919875</td>\n",
       "      <td>False</td>\n",
       "      <td>0.709699</td>\n",
       "    </tr>\n",
       "    <tr>\n",
       "      <th>42</th>\n",
       "      <td>CIFAR10+DROPOUT</td>\n",
       "      <td>0.427520</td>\n",
       "      <td>1.613026</td>\n",
       "      <td>0.4202</td>\n",
       "      <td>1.634889</td>\n",
       "      <td>7.164931</td>\n",
       "      <td>0.197843</td>\n",
       "      <td>320</td>\n",
       "      <td>7.277251</td>\n",
       "      <td>0.003115</td>\n",
       "      <td>0.020340</td>\n",
       "      <td>-5.522214</td>\n",
       "      <td>True</td>\n",
       "      <td>7.258857</td>\n",
       "      <td>0.314642</td>\n",
       "      <td>0.175842</td>\n",
       "      <td>-0.534153</td>\n",
       "      <td>False</td>\n",
       "      <td>0.693228</td>\n",
       "    </tr>\n",
       "    <tr>\n",
       "      <th>43</th>\n",
       "      <td>CIFAR10+DROPOUT</td>\n",
       "      <td>0.436320</td>\n",
       "      <td>1.593016</td>\n",
       "      <td>0.4317</td>\n",
       "      <td>1.603236</td>\n",
       "      <td>6.938008</td>\n",
       "      <td>0.220668</td>\n",
       "      <td>320</td>\n",
       "      <td>7.310051</td>\n",
       "      <td>0.003115</td>\n",
       "      <td>0.017413</td>\n",
       "      <td>-21.365920</td>\n",
       "      <td>True</td>\n",
       "      <td>7.333197</td>\n",
       "      <td>0.003115</td>\n",
       "      <td>0.165794</td>\n",
       "      <td>-2.383614</td>\n",
       "      <td>True</td>\n",
       "      <td>0.703542</td>\n",
       "    </tr>\n",
       "    <tr>\n",
       "      <th>44</th>\n",
       "      <td>CIFAR10+DROPOUT</td>\n",
       "      <td>0.427500</td>\n",
       "      <td>1.600558</td>\n",
       "      <td>0.4149</td>\n",
       "      <td>1.639029</td>\n",
       "      <td>6.853013</td>\n",
       "      <td>0.229606</td>\n",
       "      <td>320</td>\n",
       "      <td>7.301641</td>\n",
       "      <td>0.003115</td>\n",
       "      <td>0.020642</td>\n",
       "      <td>-21.733867</td>\n",
       "      <td>True</td>\n",
       "      <td>7.052406</td>\n",
       "      <td>0.127726</td>\n",
       "      <td>0.139968</td>\n",
       "      <td>-1.424562</td>\n",
       "      <td>False</td>\n",
       "      <td>0.746705</td>\n",
       "    </tr>\n",
       "    <tr>\n",
       "      <th>45</th>\n",
       "      <td>CIFAR10+DROPOUT</td>\n",
       "      <td>0.420800</td>\n",
       "      <td>1.624310</td>\n",
       "      <td>0.4189</td>\n",
       "      <td>1.635075</td>\n",
       "      <td>6.730628</td>\n",
       "      <td>0.242873</td>\n",
       "      <td>320</td>\n",
       "      <td>7.265859</td>\n",
       "      <td>0.003115</td>\n",
       "      <td>0.020633</td>\n",
       "      <td>-25.940203</td>\n",
       "      <td>True</td>\n",
       "      <td>6.854473</td>\n",
       "      <td>0.221184</td>\n",
       "      <td>0.154129</td>\n",
       "      <td>-0.803515</td>\n",
       "      <td>False</td>\n",
       "      <td>0.736158</td>\n",
       "    </tr>\n",
       "    <tr>\n",
       "      <th>46</th>\n",
       "      <td>CIFAR10+DROPOUT</td>\n",
       "      <td>0.437900</td>\n",
       "      <td>1.573070</td>\n",
       "      <td>0.4274</td>\n",
       "      <td>1.610751</td>\n",
       "      <td>6.974830</td>\n",
       "      <td>0.216863</td>\n",
       "      <td>320</td>\n",
       "      <td>7.419636</td>\n",
       "      <td>0.003115</td>\n",
       "      <td>0.021154</td>\n",
       "      <td>-21.026793</td>\n",
       "      <td>True</td>\n",
       "      <td>7.250438</td>\n",
       "      <td>0.003115</td>\n",
       "      <td>0.089613</td>\n",
       "      <td>-3.075540</td>\n",
       "      <td>True</td>\n",
       "      <td>0.818359</td>\n",
       "    </tr>\n",
       "    <tr>\n",
       "      <th>47</th>\n",
       "      <td>CIFAR10+DROPOUT</td>\n",
       "      <td>0.420840</td>\n",
       "      <td>1.625915</td>\n",
       "      <td>0.4194</td>\n",
       "      <td>1.632398</td>\n",
       "      <td>6.825730</td>\n",
       "      <td>0.232522</td>\n",
       "      <td>320</td>\n",
       "      <td>7.275016</td>\n",
       "      <td>0.003115</td>\n",
       "      <td>0.021961</td>\n",
       "      <td>-20.458269</td>\n",
       "      <td>True</td>\n",
       "      <td>6.966847</td>\n",
       "      <td>0.158879</td>\n",
       "      <td>0.152699</td>\n",
       "      <td>-0.924145</td>\n",
       "      <td>False</td>\n",
       "      <td>0.732795</td>\n",
       "    </tr>\n",
       "    <tr>\n",
       "      <th>48</th>\n",
       "      <td>CIFAR10+DROPOUT</td>\n",
       "      <td>0.420940</td>\n",
       "      <td>1.617852</td>\n",
       "      <td>0.4202</td>\n",
       "      <td>1.627297</td>\n",
       "      <td>7.051161</td>\n",
       "      <td>0.209103</td>\n",
       "      <td>320</td>\n",
       "      <td>7.270101</td>\n",
       "      <td>0.003115</td>\n",
       "      <td>0.021765</td>\n",
       "      <td>-10.059228</td>\n",
       "      <td>True</td>\n",
       "      <td>7.182556</td>\n",
       "      <td>0.190031</td>\n",
       "      <td>0.144369</td>\n",
       "      <td>-0.910127</td>\n",
       "      <td>False</td>\n",
       "      <td>0.730860</td>\n",
       "    </tr>\n",
       "    <tr>\n",
       "      <th>49</th>\n",
       "      <td>CIFAR10+DROPOUT</td>\n",
       "      <td>0.426360</td>\n",
       "      <td>1.609047</td>\n",
       "      <td>0.4245</td>\n",
       "      <td>1.622804</td>\n",
       "      <td>7.192057</td>\n",
       "      <td>0.195211</td>\n",
       "      <td>320</td>\n",
       "      <td>7.277713</td>\n",
       "      <td>0.003115</td>\n",
       "      <td>0.024666</td>\n",
       "      <td>-3.472566</td>\n",
       "      <td>True</td>\n",
       "      <td>7.239010</td>\n",
       "      <td>0.345794</td>\n",
       "      <td>0.178017</td>\n",
       "      <td>-0.263750</td>\n",
       "      <td>False</td>\n",
       "      <td>0.691566</td>\n",
       "    </tr>\n",
       "    <tr>\n",
       "      <th>50</th>\n",
       "      <td>FASHION+DROPOUT</td>\n",
       "      <td>0.863800</td>\n",
       "      <td>0.397653</td>\n",
       "      <td>0.8705</td>\n",
       "      <td>0.359481</td>\n",
       "      <td>6.493208</td>\n",
       "      <td>0.270035</td>\n",
       "      <td>320</td>\n",
       "      <td>7.326138</td>\n",
       "      <td>0.003115</td>\n",
       "      <td>0.034812</td>\n",
       "      <td>-23.926811</td>\n",
       "      <td>True</td>\n",
       "      <td>6.675437</td>\n",
       "      <td>0.003115</td>\n",
       "      <td>0.058547</td>\n",
       "      <td>-3.112543</td>\n",
       "      <td>True</td>\n",
       "      <td>0.913683</td>\n",
       "    </tr>\n",
       "    <tr>\n",
       "      <th>51</th>\n",
       "      <td>FASHION+DROPOUT</td>\n",
       "      <td>0.863817</td>\n",
       "      <td>0.390582</td>\n",
       "      <td>0.8725</td>\n",
       "      <td>0.348940</td>\n",
       "      <td>6.443208</td>\n",
       "      <td>0.276011</td>\n",
       "      <td>320</td>\n",
       "      <td>7.327844</td>\n",
       "      <td>0.003115</td>\n",
       "      <td>0.039475</td>\n",
       "      <td>-22.409749</td>\n",
       "      <td>True</td>\n",
       "      <td>6.702509</td>\n",
       "      <td>0.003115</td>\n",
       "      <td>0.080963</td>\n",
       "      <td>-3.202697</td>\n",
       "      <td>True</td>\n",
       "      <td>0.863396</td>\n",
       "    </tr>\n",
       "    <tr>\n",
       "      <th>52</th>\n",
       "      <td>FASHION+DROPOUT</td>\n",
       "      <td>0.862400</td>\n",
       "      <td>0.391380</td>\n",
       "      <td>0.8663</td>\n",
       "      <td>0.355787</td>\n",
       "      <td>6.432961</td>\n",
       "      <td>0.277247</td>\n",
       "      <td>320</td>\n",
       "      <td>7.337904</td>\n",
       "      <td>0.003115</td>\n",
       "      <td>0.032127</td>\n",
       "      <td>-28.167736</td>\n",
       "      <td>True</td>\n",
       "      <td>6.724385</td>\n",
       "      <td>0.003115</td>\n",
       "      <td>0.084507</td>\n",
       "      <td>-3.448493</td>\n",
       "      <td>True</td>\n",
       "      <td>0.856869</td>\n",
       "    </tr>\n",
       "    <tr>\n",
       "      <th>53</th>\n",
       "      <td>FASHION+DROPOUT</td>\n",
       "      <td>0.865350</td>\n",
       "      <td>0.386754</td>\n",
       "      <td>0.8666</td>\n",
       "      <td>0.354577</td>\n",
       "      <td>6.435635</td>\n",
       "      <td>0.276924</td>\n",
       "      <td>320</td>\n",
       "      <td>7.329085</td>\n",
       "      <td>0.003115</td>\n",
       "      <td>0.034669</td>\n",
       "      <td>-25.771025</td>\n",
       "      <td>True</td>\n",
       "      <td>6.698905</td>\n",
       "      <td>0.003115</td>\n",
       "      <td>0.062582</td>\n",
       "      <td>-4.206811</td>\n",
       "      <td>True</td>\n",
       "      <td>0.902702</td>\n",
       "    </tr>\n",
       "    <tr>\n",
       "      <th>54</th>\n",
       "      <td>FASHION+DROPOUT</td>\n",
       "      <td>0.863467</td>\n",
       "      <td>0.388820</td>\n",
       "      <td>0.8690</td>\n",
       "      <td>0.354417</td>\n",
       "      <td>6.504813</td>\n",
       "      <td>0.268662</td>\n",
       "      <td>320</td>\n",
       "      <td>7.349972</td>\n",
       "      <td>0.003115</td>\n",
       "      <td>0.035586</td>\n",
       "      <td>-23.749855</td>\n",
       "      <td>True</td>\n",
       "      <td>6.778824</td>\n",
       "      <td>0.003115</td>\n",
       "      <td>0.116625</td>\n",
       "      <td>-2.349510</td>\n",
       "      <td>True</td>\n",
       "      <td>0.799182</td>\n",
       "    </tr>\n",
       "    <tr>\n",
       "      <th>55</th>\n",
       "      <td>FASHION+DROPOUT</td>\n",
       "      <td>0.864467</td>\n",
       "      <td>0.392445</td>\n",
       "      <td>0.8709</td>\n",
       "      <td>0.354324</td>\n",
       "      <td>6.506716</td>\n",
       "      <td>0.268437</td>\n",
       "      <td>320</td>\n",
       "      <td>7.336058</td>\n",
       "      <td>0.003115</td>\n",
       "      <td>0.025968</td>\n",
       "      <td>-31.936718</td>\n",
       "      <td>True</td>\n",
       "      <td>6.719946</td>\n",
       "      <td>0.003115</td>\n",
       "      <td>0.066554</td>\n",
       "      <td>-3.203872</td>\n",
       "      <td>True</td>\n",
       "      <td>0.894012</td>\n",
       "    </tr>\n",
       "    <tr>\n",
       "      <th>56</th>\n",
       "      <td>FASHION+DROPOUT</td>\n",
       "      <td>0.861367</td>\n",
       "      <td>0.396722</td>\n",
       "      <td>0.8675</td>\n",
       "      <td>0.355441</td>\n",
       "      <td>6.424095</td>\n",
       "      <td>0.278320</td>\n",
       "      <td>320</td>\n",
       "      <td>7.358615</td>\n",
       "      <td>0.003115</td>\n",
       "      <td>0.022665</td>\n",
       "      <td>-41.232074</td>\n",
       "      <td>True</td>\n",
       "      <td>6.761419</td>\n",
       "      <td>0.003115</td>\n",
       "      <td>0.151037</td>\n",
       "      <td>-2.233392</td>\n",
       "      <td>True</td>\n",
       "      <td>0.754262</td>\n",
       "    </tr>\n",
       "    <tr>\n",
       "      <th>57</th>\n",
       "      <td>FASHION+DROPOUT</td>\n",
       "      <td>0.864950</td>\n",
       "      <td>0.390324</td>\n",
       "      <td>0.8703</td>\n",
       "      <td>0.353516</td>\n",
       "      <td>6.487114</td>\n",
       "      <td>0.270759</td>\n",
       "      <td>320</td>\n",
       "      <td>7.328822</td>\n",
       "      <td>0.003115</td>\n",
       "      <td>0.035076</td>\n",
       "      <td>-23.996758</td>\n",
       "      <td>True</td>\n",
       "      <td>6.877452</td>\n",
       "      <td>0.003115</td>\n",
       "      <td>0.126985</td>\n",
       "      <td>-3.073894</td>\n",
       "      <td>True</td>\n",
       "      <td>0.775526</td>\n",
       "    </tr>\n",
       "    <tr>\n",
       "      <th>58</th>\n",
       "      <td>FASHION+DROPOUT</td>\n",
       "      <td>0.860667</td>\n",
       "      <td>0.400913</td>\n",
       "      <td>0.8667</td>\n",
       "      <td>0.359971</td>\n",
       "      <td>6.482323</td>\n",
       "      <td>0.271328</td>\n",
       "      <td>320</td>\n",
       "      <td>7.356636</td>\n",
       "      <td>0.003115</td>\n",
       "      <td>0.030005</td>\n",
       "      <td>-29.138486</td>\n",
       "      <td>True</td>\n",
       "      <td>6.688599</td>\n",
       "      <td>0.003115</td>\n",
       "      <td>0.060988</td>\n",
       "      <td>-3.382232</td>\n",
       "      <td>True</td>\n",
       "      <td>0.911247</td>\n",
       "    </tr>\n",
       "    <tr>\n",
       "      <th>59</th>\n",
       "      <td>FASHION+DROPOUT</td>\n",
       "      <td>0.862400</td>\n",
       "      <td>0.396842</td>\n",
       "      <td>0.8718</td>\n",
       "      <td>0.354866</td>\n",
       "      <td>6.386189</td>\n",
       "      <td>0.282940</td>\n",
       "      <td>320</td>\n",
       "      <td>7.343339</td>\n",
       "      <td>0.003115</td>\n",
       "      <td>0.030682</td>\n",
       "      <td>-31.195315</td>\n",
       "      <td>True</td>\n",
       "      <td>6.688614</td>\n",
       "      <td>0.003115</td>\n",
       "      <td>0.043425</td>\n",
       "      <td>-6.964249</td>\n",
       "      <td>True</td>\n",
       "      <td>0.952072</td>\n",
       "    </tr>\n",
       "  </tbody>\n",
       "</table>\n",
       "</div>"
      ],
      "text/plain": [
       "              model  train_acc  train_loss  test_acc  test_loss      ncut  \\\n",
       "0             MNIST   1.000000    0.000048    0.9835   0.095332  7.149699   \n",
       "1             MNIST   1.000000    0.000056    0.9847   0.090697  7.159383   \n",
       "2             MNIST   1.000000    0.000059    0.9830   0.099833  7.064823   \n",
       "3             MNIST   1.000000    0.000062    0.9828   0.099546  7.144735   \n",
       "4             MNIST   1.000000    0.000081    0.9845   0.097756  7.160156   \n",
       "5             MNIST   1.000000    0.000048    0.9835   0.095626  7.106376   \n",
       "6             MNIST   1.000000    0.000056    0.9838   0.087238  7.110218   \n",
       "7             MNIST   1.000000    0.000061    0.9838   0.100444  7.156789   \n",
       "8             MNIST   1.000000    0.000047    0.9828   0.093142  7.105069   \n",
       "9             MNIST   1.000000    0.000049    0.9833   0.102283  7.216584   \n",
       "10          CIFAR10   0.647020    0.982019    0.4164   2.009407  7.282947   \n",
       "11          CIFAR10   0.655260    0.968012    0.4196   2.009614  7.250526   \n",
       "12          CIFAR10   0.645800    0.993128    0.4085   2.026656  7.287138   \n",
       "13          CIFAR10   0.645580    0.992089    0.4107   2.004410  7.557135   \n",
       "14          CIFAR10   0.654440    0.964225    0.4239   1.981631  7.364724   \n",
       "15          CIFAR10   0.652180    0.973041    0.4111   2.053139  7.221106   \n",
       "16          CIFAR10   0.644540    0.994267    0.4178   1.984371  7.202785   \n",
       "17          CIFAR10   0.651840    0.974107    0.4177   1.981042  7.284719   \n",
       "18          CIFAR10   0.643280    0.998221    0.4150   2.007964  7.545081   \n",
       "19          CIFAR10   0.660940    0.956555    0.4116   2.029548  7.312999   \n",
       "20          FASHION   0.982533    0.049309    0.8937   0.532207  6.881390   \n",
       "21          FASHION   0.982217    0.049195    0.8939   0.526313  6.870828   \n",
       "22          FASHION   0.982300    0.047581    0.8911   0.595367  7.126657   \n",
       "23          FASHION   0.983350    0.046463    0.8949   0.575908  6.909954   \n",
       "24          FASHION   0.982533    0.048930    0.8909   0.551969  7.018912   \n",
       "25          FASHION   0.983767    0.045901    0.8976   0.545859  6.848128   \n",
       "26          FASHION   0.982167    0.049422    0.8916   0.564790  6.882887   \n",
       "27          FASHION   0.982600    0.049156    0.8944   0.546913  6.991295   \n",
       "28          FASHION   0.982267    0.049309    0.8942   0.554626  7.187847   \n",
       "29          FASHION   0.982567    0.048766    0.8921   0.539734  7.036462   \n",
       "30    MNIST+DROPOUT   0.967817    0.120144    0.9796   0.084581  6.698866   \n",
       "31    MNIST+DROPOUT   0.965267    0.127326    0.9802   0.083526  6.699267   \n",
       "32    MNIST+DROPOUT   0.966667    0.123364    0.9789   0.081798  6.698848   \n",
       "33    MNIST+DROPOUT   0.967167    0.125616    0.9800   0.081888  6.658210   \n",
       "34    MNIST+DROPOUT   0.966133    0.127377    0.9793   0.084823  6.732591   \n",
       "35    MNIST+DROPOUT   0.965633    0.123383    0.9782   0.086029  6.623509   \n",
       "36    MNIST+DROPOUT   0.966617    0.125282    0.9790   0.083403  6.714051   \n",
       "37    MNIST+DROPOUT   0.967667    0.122877    0.9808   0.082423  6.685490   \n",
       "38    MNIST+DROPOUT   0.967450    0.122427    0.9793   0.082078  6.724438   \n",
       "39    MNIST+DROPOUT   0.967467    0.123260    0.9787   0.084267  6.648088   \n",
       "40  CIFAR10+DROPOUT   0.425220    1.612513    0.4201   1.628318  6.814776   \n",
       "41  CIFAR10+DROPOUT   0.427100    1.602159    0.4216   1.628530  7.182411   \n",
       "42  CIFAR10+DROPOUT   0.427520    1.613026    0.4202   1.634889  7.164931   \n",
       "43  CIFAR10+DROPOUT   0.436320    1.593016    0.4317   1.603236  6.938008   \n",
       "44  CIFAR10+DROPOUT   0.427500    1.600558    0.4149   1.639029  6.853013   \n",
       "45  CIFAR10+DROPOUT   0.420800    1.624310    0.4189   1.635075  6.730628   \n",
       "46  CIFAR10+DROPOUT   0.437900    1.573070    0.4274   1.610751  6.974830   \n",
       "47  CIFAR10+DROPOUT   0.420840    1.625915    0.4194   1.632398  6.825730   \n",
       "48  CIFAR10+DROPOUT   0.420940    1.617852    0.4202   1.627297  7.051161   \n",
       "49  CIFAR10+DROPOUT   0.426360    1.609047    0.4245   1.622804  7.192057   \n",
       "50  FASHION+DROPOUT   0.863800    0.397653    0.8705   0.359481  6.493208   \n",
       "51  FASHION+DROPOUT   0.863817    0.390582    0.8725   0.348940  6.443208   \n",
       "52  FASHION+DROPOUT   0.862400    0.391380    0.8663   0.355787  6.432961   \n",
       "53  FASHION+DROPOUT   0.865350    0.386754    0.8666   0.354577  6.435635   \n",
       "54  FASHION+DROPOUT   0.863467    0.388820    0.8690   0.354417  6.504813   \n",
       "55  FASHION+DROPOUT   0.864467    0.392445    0.8709   0.354324  6.506716   \n",
       "56  FASHION+DROPOUT   0.861367    0.396722    0.8675   0.355441  6.424095   \n",
       "57  FASHION+DROPOUT   0.864950    0.390324    0.8703   0.353516  6.487114   \n",
       "58  FASHION+DROPOUT   0.860667    0.400913    0.8667   0.359971  6.482323   \n",
       "59  FASHION+DROPOUT   0.862400    0.396842    0.8718   0.354866  6.386189   \n",
       "\n",
       "    ave_in_out  n_samples  mean_layer  percentile_layer  stdev_layer  \\\n",
       "0     0.199330        320    7.371774          0.003115     0.035005   \n",
       "1     0.198384        320    7.390065          0.003115     0.031648   \n",
       "2     0.207732        320    7.391867          0.003115     0.036177   \n",
       "3     0.199816        320    7.380998          0.003115     0.031190   \n",
       "4     0.198309        320    7.409862          0.003115     0.030076   \n",
       "5     0.203593        320    7.423381          0.003115     0.030406   \n",
       "6     0.203213        320    7.381650          0.003115     0.026138   \n",
       "7     0.198637        320    7.396530          0.003115     0.031746   \n",
       "8     0.203723        320    7.400648          0.003115     0.040944   \n",
       "9     0.192849        320    7.420351          0.003115     0.032120   \n",
       "10    0.186535        320    7.306948          0.158879     0.031918   \n",
       "11    0.189605        320    7.316047          0.034268     0.033422   \n",
       "12    0.186140        320    7.312712          0.127726     0.027543   \n",
       "13    0.161626        320    7.288886          1.000000     0.028031   \n",
       "14    0.178912        320    7.306863          0.937695     0.037358   \n",
       "15    0.192415        320    7.292977          0.003115     0.023688   \n",
       "16    0.194176        320    7.298864          0.003115     0.027813   \n",
       "17    0.186368        320    7.306224          0.314642     0.029249   \n",
       "18    0.162683        320    7.288815          1.000000     0.025251   \n",
       "19    0.183714        320    7.310011          0.563863     0.027951   \n",
       "20    0.226597        320    7.279890          0.003115     0.030857   \n",
       "21    0.227714        320    7.237194          0.003115     0.031628   \n",
       "22    0.201591        320    7.279643          0.003115     0.023152   \n",
       "23    0.223594        320    7.267034          0.003115     0.034139   \n",
       "24    0.212361        320    7.236043          0.003115     0.029975   \n",
       "25    0.230126        320    7.236289          0.003115     0.026316   \n",
       "26    0.226439        320    7.260924          0.003115     0.033445   \n",
       "27    0.215175        320    7.234485          0.003115     0.030296   \n",
       "28    0.195619        320    7.246928          0.034268     0.031468   \n",
       "29    0.210584        320    7.286728          0.003115     0.023342   \n",
       "30    0.246395        320    7.413733          0.003115     0.028948   \n",
       "31    0.246350        320    7.420351          0.003115     0.025575   \n",
       "32    0.246397        320    7.419778          0.003115     0.028901   \n",
       "33    0.250953        320    7.425709          0.003115     0.038620   \n",
       "34    0.242656        320    7.418193          0.003115     0.028902   \n",
       "35    0.254887        320    7.419386          0.003115     0.031911   \n",
       "36    0.244707        320    7.416009          0.003115     0.029230   \n",
       "37    0.247888        320    7.426678          0.003115     0.033893   \n",
       "38    0.243557        320    7.419963          0.003115     0.027640   \n",
       "39    0.252096        320    7.430812          0.003115     0.030450   \n",
       "40    0.233700        320    7.280384          0.003115     0.018218   \n",
       "41    0.196145        320    7.306104          0.003115     0.021099   \n",
       "42    0.197843        320    7.277251          0.003115     0.020340   \n",
       "43    0.220668        320    7.310051          0.003115     0.017413   \n",
       "44    0.229606        320    7.301641          0.003115     0.020642   \n",
       "45    0.242873        320    7.265859          0.003115     0.020633   \n",
       "46    0.216863        320    7.419636          0.003115     0.021154   \n",
       "47    0.232522        320    7.275016          0.003115     0.021961   \n",
       "48    0.209103        320    7.270101          0.003115     0.021765   \n",
       "49    0.195211        320    7.277713          0.003115     0.024666   \n",
       "50    0.270035        320    7.326138          0.003115     0.034812   \n",
       "51    0.276011        320    7.327844          0.003115     0.039475   \n",
       "52    0.277247        320    7.337904          0.003115     0.032127   \n",
       "53    0.276924        320    7.329085          0.003115     0.034669   \n",
       "54    0.268662        320    7.349972          0.003115     0.035586   \n",
       "55    0.268437        320    7.336058          0.003115     0.025968   \n",
       "56    0.278320        320    7.358615          0.003115     0.022665   \n",
       "57    0.270759        320    7.328822          0.003115     0.035076   \n",
       "58    0.271328        320    7.356636          0.003115     0.030005   \n",
       "59    0.282940        320    7.343339          0.003115     0.030682   \n",
       "\n",
       "    z_score_layer  is_sig_layer  mean_layer_nonzero  percentile_layer_nonzero  \\\n",
       "0       -6.344132          True            7.261299                  0.003115   \n",
       "1       -7.288987          True            7.320522                  0.003115   \n",
       "2       -9.040050          True            7.161313                  0.003115   \n",
       "3       -7.574911          True            7.249981                  0.003115   \n",
       "4       -8.302590          True            7.301281                  0.003115   \n",
       "5      -10.425870          True            7.357445                  0.003115   \n",
       "6      -10.384694          True            7.323444                  0.065421   \n",
       "7       -7.551794          True            7.323966                  0.003115   \n",
       "8       -7.219160          True            7.264884                  0.003115   \n",
       "9       -6.343847          True            7.364379                  0.003115   \n",
       "10      -0.751943         False            7.286442                  0.470405   \n",
       "11      -1.960434         False            7.321524                  0.003115   \n",
       "12      -0.928501         False            7.207134                  0.626168   \n",
       "13       9.569672         False            7.178151                  0.937695   \n",
       "14       1.548792         False            7.306381                  0.968847   \n",
       "15      -3.034139          True            7.367185                  0.034268   \n",
       "16      -3.454511          True            7.270084                  0.034268   \n",
       "17      -0.735235         False            7.306556                  0.252336   \n",
       "18      10.148727         False            7.562443                  0.501558   \n",
       "19       0.106899         False            7.309882                  0.626168   \n",
       "20     -12.914332          True            7.085521                  0.065421   \n",
       "21     -11.583630          True            6.925451                  0.221184   \n",
       "22      -6.607828          True            7.090162                  0.688474   \n",
       "23     -10.459465          True            7.132308                  0.034268   \n",
       "24      -7.243822          True            6.976894                  0.750779   \n",
       "25     -14.749982          True            7.077124                  0.003115   \n",
       "26     -11.303189          True            7.136324                  0.034268   \n",
       "27      -8.027003          True            7.016418                  0.501558   \n",
       "28      -1.877478         False            7.033907                  0.813084   \n",
       "29     -10.721534          True            7.033468                  0.657321   \n",
       "30     -24.694626          True            6.889901                  0.003115   \n",
       "31     -28.194613          True            6.909420                  0.003115   \n",
       "32     -24.944823          True            6.907296                  0.003115   \n",
       "33     -19.873095          True            6.878349                  0.003115   \n",
       "34     -23.721272          True            6.877979                  0.003115   \n",
       "35     -24.940379          True            6.854576                  0.003115   \n",
       "36     -24.014803          True            6.898659                  0.003115   \n",
       "37     -21.868401          True            6.851115                  0.003115   \n",
       "38     -25.163780          True            6.889290                  0.003115   \n",
       "39     -25.705509          True            6.854422                  0.003115   \n",
       "40     -25.558110          True            7.061623                  0.096573   \n",
       "41      -5.862370          True            7.329149                  0.190031   \n",
       "42      -5.522214          True            7.258857                  0.314642   \n",
       "43     -21.365920          True            7.333197                  0.003115   \n",
       "44     -21.733867          True            7.052406                  0.127726   \n",
       "45     -25.940203          True            6.854473                  0.221184   \n",
       "46     -21.026793          True            7.250438                  0.003115   \n",
       "47     -20.458269          True            6.966847                  0.158879   \n",
       "48     -10.059228          True            7.182556                  0.190031   \n",
       "49      -3.472566          True            7.239010                  0.345794   \n",
       "50     -23.926811          True            6.675437                  0.003115   \n",
       "51     -22.409749          True            6.702509                  0.003115   \n",
       "52     -28.167736          True            6.724385                  0.003115   \n",
       "53     -25.771025          True            6.698905                  0.003115   \n",
       "54     -23.749855          True            6.778824                  0.003115   \n",
       "55     -31.936718          True            6.719946                  0.003115   \n",
       "56     -41.232074          True            6.761419                  0.003115   \n",
       "57     -23.996758          True            6.877452                  0.003115   \n",
       "58     -29.138486          True            6.688599                  0.003115   \n",
       "59     -31.195315          True            6.688614                  0.003115   \n",
       "\n",
       "    stdev_layer_nonzero  z_score_layer_nonzero  is_sig_layer_nonzero   cohen_d  \n",
       "0              0.043346              -2.574603                  True  0.896282  \n",
       "1              0.089845              -1.793533                  True  0.808496  \n",
       "2              0.018134              -5.320789                  True  0.970519  \n",
       "3              0.059685              -1.763372                  True  0.865591  \n",
       "4              0.061875              -2.280814                  True  0.860478  \n",
       "5              0.083587              -3.003673                  True  0.819586  \n",
       "6              0.160001              -1.332656                 False  0.716328  \n",
       "7              0.080510              -2.076481                  True  0.824012  \n",
       "8              0.079261              -2.016325                  True  0.830063  \n",
       "9              0.060175              -2.456112                  True  0.859223  \n",
       "10             0.058573              -0.059665                 False  0.855743  \n",
       "11             0.036805              -1.929016                  True  0.897886  \n",
       "12             0.298073               0.268406                 False  0.598607  \n",
       "13             0.306340               1.237133                 False  0.592155  \n",
       "14             0.037244               1.566492                 False  0.896825  \n",
       "15             0.073954              -1.975280                 False  0.820917  \n",
       "16             0.032526              -2.069077                 False  0.911350  \n",
       "17             0.038144              -0.572501                 False  0.895759  \n",
       "18             0.212606              -0.081663                 False  0.647275  \n",
       "19             0.112787               0.027633                 False  0.767352  \n",
       "20             0.189363              -1.077992                 False  0.686715  \n",
       "21             0.088740              -0.615541                 False  0.822125  \n",
       "22             0.113056               0.322804                 False  0.778152  \n",
       "23             0.161696              -1.375131                 False  0.711968  \n",
       "24             0.089823               0.467782                 False  0.816526  \n",
       "25             0.154577              -1.481432                  True  0.720537  \n",
       "26             0.119614              -2.118781                 False  0.762984  \n",
       "27             0.118793              -0.211483                 False  0.769020  \n",
       "28             0.144998               1.061677                 False  0.734765  \n",
       "29             0.100591               0.029765                 False  0.801391  \n",
       "30             0.022501              -8.489896                  True  0.995663  \n",
       "31             0.021201              -9.912557                  True  0.998350  \n",
       "32             0.108394              -1.923049                  True  0.811807  \n",
       "33             0.074882              -2.939797                  True  0.872363  \n",
       "34             0.021321              -6.818869                  True  1.001242  \n",
       "35             0.021074             -10.964537                  True  1.004720  \n",
       "36             0.018965              -9.734200                  True  1.005264  \n",
       "37             0.020404              -8.117216                  True  1.007900  \n",
       "38             0.023264              -7.086024                  True  0.994539  \n",
       "39             0.014504             -14.226437                  True  1.026774  \n",
       "40             0.160687              -1.536199                 False  0.719514  \n",
       "41             0.159519              -0.919875                 False  0.709699  \n",
       "42             0.175842              -0.534153                 False  0.693228  \n",
       "43             0.165794              -2.383614                  True  0.703542  \n",
       "44             0.139968              -1.424562                 False  0.746705  \n",
       "45             0.154129              -0.803515                 False  0.736158  \n",
       "46             0.089613              -3.075540                  True  0.818359  \n",
       "47             0.152699              -0.924145                 False  0.732795  \n",
       "48             0.144369              -0.910127                 False  0.730860  \n",
       "49             0.178017              -0.263750                 False  0.691566  \n",
       "50             0.058547              -3.112543                  True  0.913683  \n",
       "51             0.080963              -3.202697                  True  0.863396  \n",
       "52             0.084507              -3.448493                  True  0.856869  \n",
       "53             0.062582              -4.206811                  True  0.902702  \n",
       "54             0.116625              -2.349510                  True  0.799182  \n",
       "55             0.066554              -3.203872                  True  0.894012  \n",
       "56             0.151037              -2.233392                  True  0.754262  \n",
       "57             0.126985              -3.073894                  True  0.775526  \n",
       "58             0.060988              -3.382232                  True  0.911247  \n",
       "59             0.043425              -6.964249                  True  0.952072  "
      ]
     },
     "execution_count": 21,
     "metadata": {},
     "output_type": "execute_result"
    }
   ],
   "source": [
    "df"
   ]
  },
  {
   "cell_type": "markdown",
   "metadata": {
    "papermill": {
     "duration": 0.142576,
     "end_time": "2020-05-28T15:46:31.640133",
     "exception": false,
     "start_time": "2020-05-28T15:46:31.497557",
     "status": "completed"
    },
    "tags": []
   },
   "source": [
    "### Unpruned results without shuffling\n",
    "#### TODO: Refactor\n",
    "- [ ] Combine with the unpruned table"
   ]
  },
  {
   "cell_type": "code",
   "execution_count": 22,
   "metadata": {
    "papermill": {
     "duration": 0.169401,
     "end_time": "2020-05-28T15:46:31.950469",
     "exception": false,
     "start_time": "2020-05-28T15:46:31.781068",
     "status": "completed"
    },
    "tags": []
   },
   "outputs": [],
   "source": [
    "if False:\n",
    "    unpruned_results = {}\n",
    "\n",
    "    for (model_tag, _), dataset_tag in zip(TAGS_COMMANDS.items(), tqdm(DATASETS_TAGS)):\n",
    "        model_paths = get_model_path(model_tag, filter_='all', model_base_path='/scratch/shlomi/models/')\n",
    "        unpruned_results[model_tag] = [run_spectral_cluster(path / f'{dataset_tag}-mlp-unpruned-weights.pckl',\n",
    "                                                   with_shuffle=False)\n",
    "                for path in tqdm(model_paths[-N_TRAINED_MODELS:])]\n",
    "\n",
    "    unpruned_model_dfs = []\n",
    "\n",
    "    for model_tag, model_results in unpruned_results.items():\n",
    "        _, metrics  = zip(*model_results)\n",
    "        unpruned_model_dfs.append(pd.DataFrame(metrics).assign(model=model_tag))\n",
    "\n",
    "    unpruned_df = pd.concat(unpruned_model_dfs, ignore_index=True)\n",
    "\n",
    "    unpruned_df_grpby_model = unpruned_df.groupby('model')\n",
    "\n",
    "\n",
    "    unpruned_statistics_df = pd.concat([(unpruned_df_grpby_model[['ncut']]\n",
    "                                 .agg(['mean', 'std'])),\n",
    "                                unpruned_df_grpby_model.size().rename('n_models'),\n",
    "                                (unpruned_df_grpby_model[['train_acc', 'test_acc']]\n",
    "                                 .agg('mean'))],\n",
    "                               axis=1)\n",
    "\n",
    "    unpruned_statistics_df = unpruned_statistics_df.loc[TAGS_COMMANDS.keys(), :]\n",
    "\n",
    "    unpruned_statistics_df"
   ]
  },
  {
   "cell_type": "code",
   "execution_count": 23,
   "metadata": {
    "papermill": {
     "duration": 0.146804,
     "end_time": "2020-05-28T15:46:32.248000",
     "exception": false,
     "start_time": "2020-05-28T15:46:32.101196",
     "status": "completed"
    },
    "tags": []
   },
   "outputs": [],
   "source": [
    "# unpruned_df.to_csv(f'../results/mlp-clustering-stability-all-samples-unpruned-K-{N_CLUSTERS}.csv')\n",
    "# unpruned_statistics_df.to_csv(f'../results/mlp-clustering-stability-statistics-unpruned-K-{N_CLUSTERS}.csv')"
   ]
  }
 ],
 "metadata": {
  "celltoolbar": "Tags",
  "kernelspec": {
   "display_name": "Python 3",
   "language": "python",
   "name": "python3"
  },
  "language_info": {
   "codemirror_mode": {
    "name": "ipython",
    "version": 3
   },
   "file_extension": ".py",
   "mimetype": "text/x-python",
   "name": "python",
   "nbconvert_exporter": "python",
   "pygments_lexer": "ipython3",
   "version": "3.7.3"
  },
  "papermill": {
   "duration": 29986.850196,
   "end_time": "2020-05-28T15:46:33.213938",
   "environment_variables": {},
   "exception": null,
   "input_path": "./notebooks/mlp-clustering-stability-different-n_clusters.ipynb",
   "output_path": "./notebooks/mlp-clustering-stability-different-n_clusters-K=10.ipynb",
   "parameters": {
    "N_CLUSTERS": 10
   },
   "start_time": "2020-05-28T07:26:46.363742",
   "version": "1.1.0"
  }
 },
 "nbformat": 4,
 "nbformat_minor": 2
}