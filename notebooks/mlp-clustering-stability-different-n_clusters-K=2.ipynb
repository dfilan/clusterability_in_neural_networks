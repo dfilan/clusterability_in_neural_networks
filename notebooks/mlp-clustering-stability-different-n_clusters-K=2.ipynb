{
 "cells": [
  {
   "cell_type": "markdown",
   "metadata": {
    "papermill": {
     "duration": 0.027103,
     "end_time": "2020-05-27T10:26:04.102743",
     "exception": false,
     "start_time": "2020-05-27T10:26:04.075640",
     "status": "completed"
    },
    "tags": []
   },
   "source": [
    "# MLP Clustering Significance Stability over Multiple Trainings - Different #Clusters\n",
    "\n",
    "### Before Running on Perceptron\n",
    "\n",
    "Go to `src/train_nn.py` to line 46, and change the path `./models/` to `/scratch/<your username>/models`\n",
    "\n",
    "Do not forget to undo this change!\n",
    "\n",
    "DO NOT COMMIT THIS CHANGE TO GITHUB!!!"
   ]
  },
  {
   "cell_type": "code",
   "execution_count": 1,
   "metadata": {
    "papermill": {
     "duration": 0.037105,
     "end_time": "2020-05-27T10:26:04.166295",
     "exception": false,
     "start_time": "2020-05-27T10:26:04.129190",
     "status": "completed"
    },
    "tags": [
     "parameters"
    ]
   },
   "outputs": [],
   "source": [
    "N_CLUSTERS = 4"
   ]
  },
  {
   "cell_type": "code",
   "execution_count": 2,
   "metadata": {
    "papermill": {
     "duration": 0.036597,
     "end_time": "2020-05-27T10:26:04.229273",
     "exception": false,
     "start_time": "2020-05-27T10:26:04.192676",
     "status": "completed"
    },
    "tags": [
     "injected-parameters"
    ]
   },
   "outputs": [],
   "source": [
    "# Parameters\n",
    "N_CLUSTERS = 2\n"
   ]
  },
  {
   "cell_type": "code",
   "execution_count": 3,
   "metadata": {
    "papermill": {
     "duration": 0.059536,
     "end_time": "2020-05-27T10:26:04.315218",
     "exception": false,
     "start_time": "2020-05-27T10:26:04.255682",
     "status": "completed"
    },
    "tags": []
   },
   "outputs": [],
   "source": [
    "%load_ext autoreload\n",
    "%autoreload 1"
   ]
  },
  {
   "cell_type": "code",
   "execution_count": 4,
   "metadata": {
    "papermill": {
     "duration": 4.663695,
     "end_time": "2020-05-27T10:26:09.006078",
     "exception": false,
     "start_time": "2020-05-27T10:26:04.342383",
     "status": "completed"
    },
    "tags": []
   },
   "outputs": [],
   "source": [
    "import sys\n",
    "sys.path.append('..')\n",
    "\n",
    "import random\n",
    "import subprocess\n",
    "from multiprocessing import Pool\n",
    "\n",
    "import numpy as np\n",
    "import matplotlib.pylab as plt\n",
    "import pandas as pd\n",
    "from tqdm import tqdm, trange\n",
    "from IPython import display\n",
    "\n",
    "from src.visualization import draw_mlp_clustering_report, run_double_spectral_cluster, run_spectral_cluster\n",
    "from src.utils import get_weights_paths, build_clustering_results, cohen_d_stats\n",
    "from src.experiment_tagging import get_model_path, MODEL_TAG_LOOKUP\n",
    "# from src.spectral_cluster_model import SHUFFLE_METHODS\n",
    "SHUFFLE_METHODS = ['layer', 'layer_nonzero']"
   ]
  },
  {
   "cell_type": "code",
   "execution_count": 5,
   "metadata": {
    "papermill": {
     "duration": 0.046573,
     "end_time": "2020-05-27T10:26:09.075361",
     "exception": false,
     "start_time": "2020-05-27T10:26:09.028788",
     "status": "completed"
    },
    "tags": []
   },
   "outputs": [],
   "source": [
    "N_TRAINED_MODELS = 10\n",
    "\n",
    "# we ar doing 320 experiments (=32 models x 10 times),\n",
    "# and let's have expectation of false-positive <= 1\n",
    "# so we can set n_shuffles to 320, and then p-values < 1/401\n",
    "# if we make it too large, let see, 1000 shuffles...\n",
    "# ... we might reduce the statistical power (given H1, the probability to reject it incorrectly)!\n",
    "N_SHUFFLES = 320\n",
    "\n",
    "N_GPUS = 4\n",
    "\n",
    "TAGS_COMMANDS = {\n",
    "    'MNIST': 'python -m src.train_nn with mlp_config dataset_name=mnist',\n",
    "    'CIFAR10': 'python -m src.train_nn with mlp_config dataset_name=cifar10 pruning_epochs=40',\n",
    "#    'LINE': 'python -m src.train_nn with mlp_config dataset_name=line',\n",
    "    'FASHION': 'python -m src.train_nn with mlp_config dataset_name=fashion',\n",
    "    'MNIST+DROPOUT': 'python -m src.train_nn with mlp_config dataset_name=mnist with_dropout=True',\n",
    "    'CIFAR10+DROPOUT': 'python -m src.train_nn with mlp_config dataset_name=cifar10 epochs=100 pruning_epochs=40 with_dropout=True dropout_rate=0.2',\n",
    "#    'LINE+DROPOUT': 'python -m src.train_nn with mlp_config dataset_name=line with_dropout=True',\n",
    "    'FASHION+DROPOUT': 'python -m src.train_nn with mlp_config dataset_name=fashion with_dropout=True',\n",
    "#    'LINE-MNIST': 'python -m src.train_nn with mlp_config dataset_name=line-mnist',\n",
    "#    'LINE-CIFAR10': 'python -m src.train_nn with mlp_config dataset_name=line-cifar10 epochs=30 pruning_epochs=40',\n",
    "#    'MNIST-CIFAR10': 'python -m src.train_nn with mlp_config dataset_name=mnist-cifar10 epochs=30 pruning_epochs=40',\n",
    "#    'LINE-MNIST-SEPARATED': 'python -m src.train_nn with mlp_config dataset_name=line-mnist-separated',\n",
    "#    'LINE-CIFAR10-SEPARATED': 'python -m src.train_nn with mlp_config dataset_name=line-cifar10-separated epochs=30 pruning_epochs=40',\n",
    "#    'MNIST-CIFAR10-SEPARATED': 'python -m src.train_nn with mlp_config dataset_name=mnist-cifar10-separated epochs=30 pruning_epochs=40',\n",
    "#    'LINE-MNIST+DROPOUT': 'python -m src.train_nn with mlp_config dataset_name=line-mnist with_dropout=True',\n",
    "#    'LINE-CIFAR10+DROPOUT': 'python -m src.train_nn with mlp_config dataset_name=line-cifar10 epochs=30 pruning_epochs=40 with_dropout=True dropout_rate=0.2',\n",
    "#    'MNIST-CIFAR10+DROPOUT': 'python -m src.train_nn with mlp_config dataset_name=mnist-cifar10 epochs=30 pruning_epochs=40 with_dropout=True dropout_rate=0.2',\n",
    "#    'LINE-MNIST-SEPARATED+DROPOUT': 'python -m src.train_nn with mlp_config dataset_name=line-mnist-separated with_dropout=True',\n",
    "#    'LINE-CIFAR10-SEPARATED+DROPOUT': 'python -m src.train_nn with mlp_config dataset_name=line-cifar10-separated epochs=30 pruning_epochs=40 with_dropout=True dropout_rate=0.2',\n",
    "#    'MNIST-CIFAR10-SEPARATED+DROPOUT': 'python -m src.train_nn with mlp_config dataset_name=mnist-cifar10-separated epochs=30 pruning_epochs=40 with_dropout=True dropout_rate=0.2',\n",
    "#    'RANDOM': 'python -m src.train_nn with mlp_config dataset_name=random',\n",
    "#    'RANDOM+DROPOUT': 'python -m src.train_nn with mlp_config dataset_name=random with_dropout=True',\n",
    "#    'MNIST-x1.5-EPOCHS': 'python -m src.train_nn with mlp_config dataset_name=mnist epochs=30',\n",
    "#    'MNIST-x1.5-EPOCHS+DROPOUT':'python -m src.train_nn with mlp_config dataset_name=mnist epochs=30 with_dropout=True',\n",
    "#    'MNIST-x2-EPOCHS':'python -m src.train_nn with mlp_config dataset_name=mnist epochs=40',\n",
    "#    'MNIST-x2-EPOCHS+DROPOUT':'python -m src.train_nn with mlp_config dataset_name=mnist epochs=40 with_dropout=True',\n",
    "#    'MNIST-x10-EPOCHS': 'python -m src.train_nn with mlp_config dataset_name=mnist epochs=200',\n",
    "#    'MNIST-x10-EPOCHS+DROPOUT': 'python -m src.train_nn with mlp_config dataset_name=mnist epochs=200 with_dropout=True',\n",
    "#    'RANDOM-x50-EPOCHS': 'python -m src.train_nn with mlp_config dataset_name=random epochs=1000',\n",
    "#    'RANDOM-x50-EPOCHS+DROPOUT': 'python -m src.train_nn with mlp_config dataset_name=random epochs=1000 with_dropout=True',\n",
    "#    'RANDOM-OVERFITTING': 'python -m src.train_nn with mlp_config dataset_name=random epochs=100 pruning_epochs=100 shuffle=False n_train=3000',\n",
    "#    'RANDOM-OVERFITTING+DROPOUT': 'python -m src.train_nn with mlp_config dataset_name=random epochs=100 pruning_epochs=100 shuffle=False n_train=3000 with_dropout=True'\n",
    "}\n",
    "DATASETS_TAGS = [command.split()[5][13:] for command in TAGS_COMMANDS.values()]"
   ]
  },
  {
   "cell_type": "code",
   "execution_count": 6,
   "metadata": {
    "papermill": {
     "duration": 0.044836,
     "end_time": "2020-05-27T10:26:09.140697",
     "exception": false,
     "start_time": "2020-05-27T10:26:09.095861",
     "status": "completed"
    },
    "tags": []
   },
   "outputs": [],
   "source": [
    "if False:\n",
    "    def train_model_multiply(command, n_models_per_command, gpu_id=None):    \n",
    "        for _ in range(n_models_per_command):\n",
    "            actual_command = f'cd .. && {command}'#' > /dev/null 2>&1'\n",
    "            print(actual_command)\n",
    "            subprocess.run(actual_command, shell=True,\n",
    "                           env={'CUDA_VISIBLE_DEVICES': str(gpu_id)})\n",
    "\n",
    "\n",
    "    def train_models(commands, n_models_per_command, gpu_id=None):\n",
    "        for command in commands:\n",
    "            train_model_multiply(command, n_models_per_command, gpu_id)\n",
    "\n",
    "            commands = list(TAGS_COMMANDS.values())\n",
    "    random.shuffle(commands)\n",
    "\n",
    "    assert len(commands) % N_GPUS == 0\n",
    "    n_commands_per_gpu = len(commands) // N_GPUS\n",
    "\n",
    "    with Pool(N_GPUS) as p:\n",
    "\n",
    "        p.starmap(train_models,\n",
    "                 [(commands[gpu_id*n_commands_per_gpu : (gpu_id+1)*n_commands_per_gpu], N_TRAINED_MODELS, gpu_id)\n",
    "                 for gpu_id in range(N_GPUS)])"
   ]
  },
  {
   "cell_type": "code",
   "execution_count": 7,
   "metadata": {
    "papermill": {
     "duration": 3106.610251,
     "end_time": "2020-05-27T11:17:55.775180",
     "exception": false,
     "start_time": "2020-05-27T10:26:09.164929",
     "status": "completed"
    },
    "scrolled": false,
    "tags": []
   },
   "outputs": [
    {
     "name": "stderr",
     "output_type": "stream",
     "text": [
      "\r",
      "  0%|          | 0/6 [00:00<?, ?it/s]"
     ]
    },
    {
     "name": "stderr",
     "output_type": "stream",
     "text": [
      "\n"
     ]
    },
    {
     "name": "stderr",
     "output_type": "stream",
     "text": [
      "\r",
      "  0%|          | 0/10 [00:00<?, ?it/s]"
     ]
    },
    {
     "name": "stderr",
     "output_type": "stream",
     "text": [
      "\u001b[A"
     ]
    },
    {
     "name": "stderr",
     "output_type": "stream",
     "text": [
      "\n"
     ]
    },
    {
     "name": "stderr",
     "output_type": "stream",
     "text": [
      "\r",
      " 10%|█         | 1/10 [00:25<03:52, 25.88s/it]"
     ]
    },
    {
     "name": "stderr",
     "output_type": "stream",
     "text": [
      "\u001b[A"
     ]
    },
    {
     "name": "stderr",
     "output_type": "stream",
     "text": [
      "\n"
     ]
    },
    {
     "name": "stderr",
     "output_type": "stream",
     "text": [
      "\r",
      " 20%|██        | 2/10 [00:51<03:25, 25.66s/it]"
     ]
    },
    {
     "name": "stderr",
     "output_type": "stream",
     "text": [
      "\u001b[A"
     ]
    },
    {
     "name": "stderr",
     "output_type": "stream",
     "text": [
      "\n"
     ]
    },
    {
     "name": "stderr",
     "output_type": "stream",
     "text": [
      "\r",
      " 30%|███       | 3/10 [01:16<02:58, 25.54s/it]"
     ]
    },
    {
     "name": "stderr",
     "output_type": "stream",
     "text": [
      "\u001b[A"
     ]
    },
    {
     "name": "stderr",
     "output_type": "stream",
     "text": [
      "\n"
     ]
    },
    {
     "name": "stderr",
     "output_type": "stream",
     "text": [
      "\r",
      " 40%|████      | 4/10 [01:41<02:32, 25.47s/it]"
     ]
    },
    {
     "name": "stderr",
     "output_type": "stream",
     "text": [
      "\u001b[A"
     ]
    },
    {
     "name": "stderr",
     "output_type": "stream",
     "text": [
      "\n"
     ]
    },
    {
     "name": "stderr",
     "output_type": "stream",
     "text": [
      "\r",
      " 50%|█████     | 5/10 [02:07<02:07, 25.52s/it]"
     ]
    },
    {
     "name": "stderr",
     "output_type": "stream",
     "text": [
      "\u001b[A"
     ]
    },
    {
     "name": "stderr",
     "output_type": "stream",
     "text": [
      "\n"
     ]
    },
    {
     "name": "stderr",
     "output_type": "stream",
     "text": [
      "\r",
      " 60%|██████    | 6/10 [02:32<01:41, 25.36s/it]"
     ]
    },
    {
     "name": "stderr",
     "output_type": "stream",
     "text": [
      "\u001b[A"
     ]
    },
    {
     "name": "stderr",
     "output_type": "stream",
     "text": [
      "\n"
     ]
    },
    {
     "name": "stderr",
     "output_type": "stream",
     "text": [
      "\r",
      " 70%|███████   | 7/10 [02:57<01:15, 25.25s/it]"
     ]
    },
    {
     "name": "stderr",
     "output_type": "stream",
     "text": [
      "\u001b[A"
     ]
    },
    {
     "name": "stderr",
     "output_type": "stream",
     "text": [
      "\n"
     ]
    },
    {
     "name": "stderr",
     "output_type": "stream",
     "text": [
      "\r",
      " 80%|████████  | 8/10 [03:22<00:50, 25.23s/it]"
     ]
    },
    {
     "name": "stderr",
     "output_type": "stream",
     "text": [
      "\u001b[A"
     ]
    },
    {
     "name": "stderr",
     "output_type": "stream",
     "text": [
      "\n"
     ]
    },
    {
     "name": "stderr",
     "output_type": "stream",
     "text": [
      "\r",
      " 90%|█████████ | 9/10 [03:47<00:25, 25.17s/it]"
     ]
    },
    {
     "name": "stderr",
     "output_type": "stream",
     "text": [
      "\u001b[A"
     ]
    },
    {
     "name": "stderr",
     "output_type": "stream",
     "text": [
      "\n"
     ]
    },
    {
     "name": "stderr",
     "output_type": "stream",
     "text": [
      "\r",
      "100%|██████████| 10/10 [04:12<00:00, 25.28s/it]"
     ]
    },
    {
     "name": "stderr",
     "output_type": "stream",
     "text": [
      "\u001b[A"
     ]
    },
    {
     "name": "stderr",
     "output_type": "stream",
     "text": [
      "\r",
      "100%|██████████| 10/10 [04:12<00:00, 25.30s/it]"
     ]
    },
    {
     "name": "stderr",
     "output_type": "stream",
     "text": [
      "\n",
      "\r",
      " 17%|█▋        | 1/6 [04:12<21:04, 252.97s/it]"
     ]
    },
    {
     "name": "stderr",
     "output_type": "stream",
     "text": [
      "\n"
     ]
    },
    {
     "name": "stderr",
     "output_type": "stream",
     "text": [
      "\r",
      "  0%|          | 0/10 [00:00<?, ?it/s]"
     ]
    },
    {
     "name": "stderr",
     "output_type": "stream",
     "text": [
      "\u001b[A"
     ]
    },
    {
     "name": "stderr",
     "output_type": "stream",
     "text": [
      "\n"
     ]
    },
    {
     "name": "stderr",
     "output_type": "stream",
     "text": [
      "\r",
      " 10%|█         | 1/10 [00:24<03:41, 24.64s/it]"
     ]
    },
    {
     "name": "stderr",
     "output_type": "stream",
     "text": [
      "\u001b[A"
     ]
    },
    {
     "name": "stderr",
     "output_type": "stream",
     "text": [
      "\n"
     ]
    },
    {
     "name": "stderr",
     "output_type": "stream",
     "text": [
      "\r",
      " 20%|██        | 2/10 [00:49<03:17, 24.65s/it]"
     ]
    },
    {
     "name": "stderr",
     "output_type": "stream",
     "text": [
      "\u001b[A"
     ]
    },
    {
     "name": "stderr",
     "output_type": "stream",
     "text": [
      "\n"
     ]
    },
    {
     "name": "stderr",
     "output_type": "stream",
     "text": [
      "\r",
      " 30%|███       | 3/10 [01:13<02:51, 24.55s/it]"
     ]
    },
    {
     "name": "stderr",
     "output_type": "stream",
     "text": [
      "\u001b[A"
     ]
    },
    {
     "name": "stderr",
     "output_type": "stream",
     "text": [
      "\n"
     ]
    },
    {
     "name": "stderr",
     "output_type": "stream",
     "text": [
      "\r",
      " 40%|████      | 4/10 [01:37<02:26, 24.41s/it]"
     ]
    },
    {
     "name": "stderr",
     "output_type": "stream",
     "text": [
      "\u001b[A"
     ]
    },
    {
     "name": "stderr",
     "output_type": "stream",
     "text": [
      "\n"
     ]
    },
    {
     "name": "stderr",
     "output_type": "stream",
     "text": [
      "\r",
      " 50%|█████     | 5/10 [02:02<02:01, 24.38s/it]"
     ]
    },
    {
     "name": "stderr",
     "output_type": "stream",
     "text": [
      "\u001b[A"
     ]
    },
    {
     "name": "stderr",
     "output_type": "stream",
     "text": [
      "\n"
     ]
    },
    {
     "name": "stderr",
     "output_type": "stream",
     "text": [
      "\r",
      " 60%|██████    | 6/10 [02:26<01:37, 24.43s/it]"
     ]
    },
    {
     "name": "stderr",
     "output_type": "stream",
     "text": [
      "\u001b[A"
     ]
    },
    {
     "name": "stderr",
     "output_type": "stream",
     "text": [
      "\n"
     ]
    },
    {
     "name": "stderr",
     "output_type": "stream",
     "text": [
      "\r",
      " 70%|███████   | 7/10 [02:50<01:13, 24.43s/it]"
     ]
    },
    {
     "name": "stderr",
     "output_type": "stream",
     "text": [
      "\u001b[A"
     ]
    },
    {
     "name": "stderr",
     "output_type": "stream",
     "text": [
      "\n"
     ]
    },
    {
     "name": "stderr",
     "output_type": "stream",
     "text": [
      "\r",
      " 80%|████████  | 8/10 [03:15<00:48, 24.34s/it]"
     ]
    },
    {
     "name": "stderr",
     "output_type": "stream",
     "text": [
      "\u001b[A"
     ]
    },
    {
     "name": "stderr",
     "output_type": "stream",
     "text": [
      "\n"
     ]
    },
    {
     "name": "stderr",
     "output_type": "stream",
     "text": [
      "\r",
      " 90%|█████████ | 9/10 [03:39<00:24, 24.41s/it]"
     ]
    },
    {
     "name": "stderr",
     "output_type": "stream",
     "text": [
      "\u001b[A"
     ]
    },
    {
     "name": "stderr",
     "output_type": "stream",
     "text": [
      "\n"
     ]
    },
    {
     "name": "stderr",
     "output_type": "stream",
     "text": [
      "\r",
      "100%|██████████| 10/10 [04:03<00:00, 24.33s/it]"
     ]
    },
    {
     "name": "stderr",
     "output_type": "stream",
     "text": [
      "\u001b[A"
     ]
    },
    {
     "name": "stderr",
     "output_type": "stream",
     "text": [
      "\r",
      "100%|██████████| 10/10 [04:03<00:00, 24.39s/it]"
     ]
    },
    {
     "name": "stderr",
     "output_type": "stream",
     "text": [
      "\n",
      "\r",
      " 33%|███▎      | 2/6 [08:16<16:40, 250.24s/it]"
     ]
    },
    {
     "name": "stderr",
     "output_type": "stream",
     "text": [
      "\n"
     ]
    },
    {
     "name": "stderr",
     "output_type": "stream",
     "text": [
      "\r",
      "  0%|          | 0/10 [00:00<?, ?it/s]"
     ]
    },
    {
     "name": "stderr",
     "output_type": "stream",
     "text": [
      "\u001b[A"
     ]
    },
    {
     "name": "stderr",
     "output_type": "stream",
     "text": [
      "\n"
     ]
    },
    {
     "name": "stderr",
     "output_type": "stream",
     "text": [
      "\r",
      " 10%|█         | 1/10 [00:19<02:58, 19.84s/it]"
     ]
    },
    {
     "name": "stderr",
     "output_type": "stream",
     "text": [
      "\u001b[A"
     ]
    },
    {
     "name": "stderr",
     "output_type": "stream",
     "text": [
      "\n"
     ]
    },
    {
     "name": "stderr",
     "output_type": "stream",
     "text": [
      "\r",
      " 20%|██        | 2/10 [00:44<02:50, 21.31s/it]"
     ]
    },
    {
     "name": "stderr",
     "output_type": "stream",
     "text": [
      "\u001b[A"
     ]
    },
    {
     "name": "stderr",
     "output_type": "stream",
     "text": [
      "\n"
     ]
    },
    {
     "name": "stderr",
     "output_type": "stream",
     "text": [
      "\r",
      " 30%|███       | 3/10 [01:11<02:40, 22.87s/it]"
     ]
    },
    {
     "name": "stderr",
     "output_type": "stream",
     "text": [
      "\u001b[A"
     ]
    },
    {
     "name": "stderr",
     "output_type": "stream",
     "text": [
      "\n"
     ]
    },
    {
     "name": "stderr",
     "output_type": "stream",
     "text": [
      "\r",
      " 40%|████      | 4/10 [01:37<02:24, 24.05s/it]"
     ]
    },
    {
     "name": "stderr",
     "output_type": "stream",
     "text": [
      "\u001b[A"
     ]
    },
    {
     "name": "stderr",
     "output_type": "stream",
     "text": [
      "\n"
     ]
    },
    {
     "name": "stderr",
     "output_type": "stream",
     "text": [
      "\r",
      " 50%|█████     | 5/10 [02:05<02:05, 25.05s/it]"
     ]
    },
    {
     "name": "stderr",
     "output_type": "stream",
     "text": [
      "\u001b[A"
     ]
    },
    {
     "name": "stderr",
     "output_type": "stream",
     "text": [
      "\n"
     ]
    },
    {
     "name": "stderr",
     "output_type": "stream",
     "text": [
      "\r",
      " 60%|██████    | 6/10 [02:32<01:43, 25.77s/it]"
     ]
    },
    {
     "name": "stderr",
     "output_type": "stream",
     "text": [
      "\u001b[A"
     ]
    },
    {
     "name": "stderr",
     "output_type": "stream",
     "text": [
      "\n"
     ]
    },
    {
     "name": "stderr",
     "output_type": "stream",
     "text": [
      "\r",
      " 70%|███████   | 7/10 [02:58<01:17, 25.91s/it]"
     ]
    },
    {
     "name": "stderr",
     "output_type": "stream",
     "text": [
      "\u001b[A"
     ]
    },
    {
     "name": "stderr",
     "output_type": "stream",
     "text": [
      "\n"
     ]
    },
    {
     "name": "stderr",
     "output_type": "stream",
     "text": [
      "\r",
      " 80%|████████  | 8/10 [03:25<00:52, 26.13s/it]"
     ]
    },
    {
     "name": "stderr",
     "output_type": "stream",
     "text": [
      "\u001b[A"
     ]
    },
    {
     "name": "stderr",
     "output_type": "stream",
     "text": [
      "\n"
     ]
    },
    {
     "name": "stderr",
     "output_type": "stream",
     "text": [
      "\r",
      " 90%|█████████ | 9/10 [03:51<00:26, 26.15s/it]"
     ]
    },
    {
     "name": "stderr",
     "output_type": "stream",
     "text": [
      "\u001b[A"
     ]
    },
    {
     "name": "stderr",
     "output_type": "stream",
     "text": [
      "\n"
     ]
    },
    {
     "name": "stderr",
     "output_type": "stream",
     "text": [
      "\r",
      "100%|██████████| 10/10 [04:18<00:00, 26.17s/it]"
     ]
    },
    {
     "name": "stderr",
     "output_type": "stream",
     "text": [
      "\u001b[A"
     ]
    },
    {
     "name": "stderr",
     "output_type": "stream",
     "text": [
      "\r",
      "100%|██████████| 10/10 [04:18<00:00, 25.80s/it]"
     ]
    },
    {
     "name": "stderr",
     "output_type": "stream",
     "text": [
      "\n",
      "\r",
      " 50%|█████     | 3/6 [12:34<12:37, 252.59s/it]"
     ]
    },
    {
     "name": "stderr",
     "output_type": "stream",
     "text": [
      "\n"
     ]
    },
    {
     "name": "stderr",
     "output_type": "stream",
     "text": [
      "\r",
      "  0%|          | 0/10 [00:00<?, ?it/s]"
     ]
    },
    {
     "name": "stderr",
     "output_type": "stream",
     "text": [
      "\u001b[A"
     ]
    },
    {
     "name": "stderr",
     "output_type": "stream",
     "text": [
      "\n"
     ]
    },
    {
     "name": "stderr",
     "output_type": "stream",
     "text": [
      "\r",
      " 10%|█         | 1/10 [00:26<03:54, 26.01s/it]"
     ]
    },
    {
     "name": "stderr",
     "output_type": "stream",
     "text": [
      "\u001b[A"
     ]
    },
    {
     "name": "stderr",
     "output_type": "stream",
     "text": [
      "\n"
     ]
    },
    {
     "name": "stderr",
     "output_type": "stream",
     "text": [
      "\r",
      " 20%|██        | 2/10 [00:52<03:28, 26.04s/it]"
     ]
    },
    {
     "name": "stderr",
     "output_type": "stream",
     "text": [
      "\u001b[A"
     ]
    },
    {
     "name": "stderr",
     "output_type": "stream",
     "text": [
      "\n"
     ]
    },
    {
     "name": "stderr",
     "output_type": "stream",
     "text": [
      "\r",
      " 30%|███       | 3/10 [01:18<03:02, 26.12s/it]"
     ]
    },
    {
     "name": "stderr",
     "output_type": "stream",
     "text": [
      "\u001b[A"
     ]
    },
    {
     "name": "stderr",
     "output_type": "stream",
     "text": [
      "\n"
     ]
    },
    {
     "name": "stderr",
     "output_type": "stream",
     "text": [
      "\r",
      " 40%|████      | 4/10 [01:44<02:36, 26.11s/it]"
     ]
    },
    {
     "name": "stderr",
     "output_type": "stream",
     "text": [
      "\u001b[A"
     ]
    },
    {
     "name": "stderr",
     "output_type": "stream",
     "text": [
      "\n"
     ]
    },
    {
     "name": "stderr",
     "output_type": "stream",
     "text": [
      "\r",
      " 50%|█████     | 5/10 [02:11<02:11, 26.23s/it]"
     ]
    },
    {
     "name": "stderr",
     "output_type": "stream",
     "text": [
      "\u001b[A"
     ]
    },
    {
     "name": "stderr",
     "output_type": "stream",
     "text": [
      "\n"
     ]
    },
    {
     "name": "stderr",
     "output_type": "stream",
     "text": [
      "\r",
      " 60%|██████    | 6/10 [02:37<01:45, 26.29s/it]"
     ]
    },
    {
     "name": "stderr",
     "output_type": "stream",
     "text": [
      "\u001b[A"
     ]
    },
    {
     "name": "stderr",
     "output_type": "stream",
     "text": [
      "\n"
     ]
    },
    {
     "name": "stderr",
     "output_type": "stream",
     "text": [
      "\r",
      " 70%|███████   | 7/10 [03:04<01:19, 26.58s/it]"
     ]
    },
    {
     "name": "stderr",
     "output_type": "stream",
     "text": [
      "\u001b[A"
     ]
    },
    {
     "name": "stderr",
     "output_type": "stream",
     "text": [
      "\n"
     ]
    },
    {
     "name": "stderr",
     "output_type": "stream",
     "text": [
      "\r",
      " 80%|████████  | 8/10 [03:30<00:52, 26.43s/it]"
     ]
    },
    {
     "name": "stderr",
     "output_type": "stream",
     "text": [
      "\u001b[A"
     ]
    },
    {
     "name": "stderr",
     "output_type": "stream",
     "text": [
      "\n"
     ]
    },
    {
     "name": "stderr",
     "output_type": "stream",
     "text": [
      "\r",
      " 90%|█████████ | 9/10 [03:57<00:26, 26.47s/it]"
     ]
    },
    {
     "name": "stderr",
     "output_type": "stream",
     "text": [
      "\u001b[A"
     ]
    },
    {
     "name": "stderr",
     "output_type": "stream",
     "text": [
      "\n"
     ]
    },
    {
     "name": "stderr",
     "output_type": "stream",
     "text": [
      "\r",
      "100%|██████████| 10/10 [04:23<00:00, 26.51s/it]"
     ]
    },
    {
     "name": "stderr",
     "output_type": "stream",
     "text": [
      "\u001b[A"
     ]
    },
    {
     "name": "stderr",
     "output_type": "stream",
     "text": [
      "\r",
      "100%|██████████| 10/10 [04:23<00:00, 26.40s/it]"
     ]
    },
    {
     "name": "stderr",
     "output_type": "stream",
     "text": [
      "\n",
      "\r",
      " 67%|██████▋   | 4/6 [16:58<08:32, 256.00s/it]"
     ]
    },
    {
     "name": "stderr",
     "output_type": "stream",
     "text": [
      "\n"
     ]
    },
    {
     "name": "stderr",
     "output_type": "stream",
     "text": [
      "\r",
      "  0%|          | 0/10 [00:00<?, ?it/s]"
     ]
    },
    {
     "name": "stderr",
     "output_type": "stream",
     "text": [
      "\u001b[A"
     ]
    },
    {
     "name": "stderr",
     "output_type": "stream",
     "text": [
      "\n"
     ]
    },
    {
     "name": "stderr",
     "output_type": "stream",
     "text": [
      "\r",
      " 10%|█         | 1/10 [00:26<03:57, 26.37s/it]"
     ]
    },
    {
     "name": "stderr",
     "output_type": "stream",
     "text": [
      "\u001b[A"
     ]
    },
    {
     "name": "stderr",
     "output_type": "stream",
     "text": [
      "\n"
     ]
    },
    {
     "name": "stderr",
     "output_type": "stream",
     "text": [
      "\r",
      " 20%|██        | 2/10 [00:51<03:28, 26.11s/it]"
     ]
    },
    {
     "name": "stderr",
     "output_type": "stream",
     "text": [
      "\u001b[A"
     ]
    },
    {
     "name": "stderr",
     "output_type": "stream",
     "text": [
      "\n"
     ]
    },
    {
     "name": "stderr",
     "output_type": "stream",
     "text": [
      "\r",
      " 30%|███       | 3/10 [01:18<03:04, 26.41s/it]"
     ]
    },
    {
     "name": "stderr",
     "output_type": "stream",
     "text": [
      "\u001b[A"
     ]
    },
    {
     "name": "stderr",
     "output_type": "stream",
     "text": [
      "\n"
     ]
    },
    {
     "name": "stderr",
     "output_type": "stream",
     "text": [
      "\r",
      " 40%|████      | 4/10 [01:44<02:37, 26.29s/it]"
     ]
    },
    {
     "name": "stderr",
     "output_type": "stream",
     "text": [
      "\u001b[A"
     ]
    },
    {
     "name": "stderr",
     "output_type": "stream",
     "text": [
      "\n"
     ]
    },
    {
     "name": "stderr",
     "output_type": "stream",
     "text": [
      "\r",
      " 50%|█████     | 5/10 [02:11<02:11, 26.26s/it]"
     ]
    },
    {
     "name": "stderr",
     "output_type": "stream",
     "text": [
      "\u001b[A"
     ]
    },
    {
     "name": "stderr",
     "output_type": "stream",
     "text": [
      "\n"
     ]
    },
    {
     "name": "stderr",
     "output_type": "stream",
     "text": [
      "\r",
      " 60%|██████    | 6/10 [02:37<01:44, 26.22s/it]"
     ]
    },
    {
     "name": "stderr",
     "output_type": "stream",
     "text": [
      "\u001b[A"
     ]
    },
    {
     "name": "stderr",
     "output_type": "stream",
     "text": [
      "\n"
     ]
    },
    {
     "name": "stderr",
     "output_type": "stream",
     "text": [
      "\r",
      " 70%|███████   | 7/10 [03:03<01:18, 26.07s/it]"
     ]
    },
    {
     "name": "stderr",
     "output_type": "stream",
     "text": [
      "\u001b[A"
     ]
    },
    {
     "name": "stderr",
     "output_type": "stream",
     "text": [
      "\n"
     ]
    },
    {
     "name": "stderr",
     "output_type": "stream",
     "text": [
      "\r",
      " 80%|████████  | 8/10 [03:29<00:52, 26.28s/it]"
     ]
    },
    {
     "name": "stderr",
     "output_type": "stream",
     "text": [
      "\u001b[A"
     ]
    },
    {
     "name": "stderr",
     "output_type": "stream",
     "text": [
      "\n"
     ]
    },
    {
     "name": "stderr",
     "output_type": "stream",
     "text": [
      "\r",
      " 90%|█████████ | 9/10 [03:55<00:26, 26.23s/it]"
     ]
    },
    {
     "name": "stderr",
     "output_type": "stream",
     "text": [
      "\u001b[A"
     ]
    },
    {
     "name": "stderr",
     "output_type": "stream",
     "text": [
      "\n"
     ]
    },
    {
     "name": "stderr",
     "output_type": "stream",
     "text": [
      "\r",
      "100%|██████████| 10/10 [04:22<00:00, 26.22s/it]"
     ]
    },
    {
     "name": "stderr",
     "output_type": "stream",
     "text": [
      "\u001b[A"
     ]
    },
    {
     "name": "stderr",
     "output_type": "stream",
     "text": [
      "\r",
      "100%|██████████| 10/10 [04:22<00:00, 26.21s/it]"
     ]
    },
    {
     "name": "stderr",
     "output_type": "stream",
     "text": [
      "\n",
      "\r",
      " 83%|████████▎ | 5/6 [21:21<04:17, 257.84s/it]"
     ]
    },
    {
     "name": "stderr",
     "output_type": "stream",
     "text": [
      "\n"
     ]
    },
    {
     "name": "stderr",
     "output_type": "stream",
     "text": [
      "\r",
      "  0%|          | 0/10 [00:00<?, ?it/s]"
     ]
    },
    {
     "name": "stderr",
     "output_type": "stream",
     "text": [
      "\u001b[A"
     ]
    },
    {
     "name": "stderr",
     "output_type": "stream",
     "text": [
      "\n"
     ]
    },
    {
     "name": "stderr",
     "output_type": "stream",
     "text": [
      "\r",
      " 10%|█         | 1/10 [00:25<03:53, 26.00s/it]"
     ]
    },
    {
     "name": "stderr",
     "output_type": "stream",
     "text": [
      "\u001b[A"
     ]
    },
    {
     "name": "stderr",
     "output_type": "stream",
     "text": [
      "\n"
     ]
    },
    {
     "name": "stderr",
     "output_type": "stream",
     "text": [
      "\r",
      " 20%|██        | 2/10 [00:51<03:27, 25.98s/it]"
     ]
    },
    {
     "name": "stderr",
     "output_type": "stream",
     "text": [
      "\u001b[A"
     ]
    },
    {
     "name": "stderr",
     "output_type": "stream",
     "text": [
      "\n"
     ]
    },
    {
     "name": "stderr",
     "output_type": "stream",
     "text": [
      "\r",
      " 30%|███       | 3/10 [01:17<03:01, 25.93s/it]"
     ]
    },
    {
     "name": "stderr",
     "output_type": "stream",
     "text": [
      "\u001b[A"
     ]
    },
    {
     "name": "stderr",
     "output_type": "stream",
     "text": [
      "\n"
     ]
    },
    {
     "name": "stderr",
     "output_type": "stream",
     "text": [
      "\r",
      " 40%|████      | 4/10 [01:44<02:36, 26.10s/it]"
     ]
    },
    {
     "name": "stderr",
     "output_type": "stream",
     "text": [
      "\u001b[A"
     ]
    },
    {
     "name": "stderr",
     "output_type": "stream",
     "text": [
      "\n"
     ]
    },
    {
     "name": "stderr",
     "output_type": "stream",
     "text": [
      "\r",
      " 50%|█████     | 5/10 [02:10<02:09, 26.00s/it]"
     ]
    },
    {
     "name": "stderr",
     "output_type": "stream",
     "text": [
      "\u001b[A"
     ]
    },
    {
     "name": "stderr",
     "output_type": "stream",
     "text": [
      "\n"
     ]
    },
    {
     "name": "stderr",
     "output_type": "stream",
     "text": [
      "\r",
      " 60%|██████    | 6/10 [02:35<01:43, 25.88s/it]"
     ]
    },
    {
     "name": "stderr",
     "output_type": "stream",
     "text": [
      "\u001b[A"
     ]
    },
    {
     "name": "stderr",
     "output_type": "stream",
     "text": [
      "\n"
     ]
    },
    {
     "name": "stderr",
     "output_type": "stream",
     "text": [
      "\r",
      " 70%|███████   | 7/10 [03:01<01:17, 26.00s/it]"
     ]
    },
    {
     "name": "stderr",
     "output_type": "stream",
     "text": [
      "\u001b[A"
     ]
    },
    {
     "name": "stderr",
     "output_type": "stream",
     "text": [
      "\n"
     ]
    },
    {
     "name": "stderr",
     "output_type": "stream",
     "text": [
      "\r",
      " 80%|████████  | 8/10 [03:28<00:52, 26.08s/it]"
     ]
    },
    {
     "name": "stderr",
     "output_type": "stream",
     "text": [
      "\u001b[A"
     ]
    },
    {
     "name": "stderr",
     "output_type": "stream",
     "text": [
      "\n"
     ]
    },
    {
     "name": "stderr",
     "output_type": "stream",
     "text": [
      "\r",
      " 90%|█████████ | 9/10 [03:53<00:25, 25.78s/it]"
     ]
    },
    {
     "name": "stderr",
     "output_type": "stream",
     "text": [
      "\u001b[A"
     ]
    },
    {
     "name": "stderr",
     "output_type": "stream",
     "text": [
      "\n"
     ]
    },
    {
     "name": "stderr",
     "output_type": "stream",
     "text": [
      "\r",
      "100%|██████████| 10/10 [04:19<00:00, 25.98s/it]"
     ]
    },
    {
     "name": "stderr",
     "output_type": "stream",
     "text": [
      "\u001b[A"
     ]
    },
    {
     "name": "stderr",
     "output_type": "stream",
     "text": [
      "\r",
      "100%|██████████| 10/10 [04:19<00:00, 25.97s/it]"
     ]
    },
    {
     "name": "stderr",
     "output_type": "stream",
     "text": [
      "\n",
      "\n"
     ]
    },
    {
     "name": "stderr",
     "output_type": "stream",
     "text": [
      "\r",
      "  0%|          | 0/6 [00:00<?, ?it/s]"
     ]
    },
    {
     "name": "stderr",
     "output_type": "stream",
     "text": [
      "\u001b[A"
     ]
    },
    {
     "name": "stderr",
     "output_type": "stream",
     "text": [
      "\n",
      "\n"
     ]
    },
    {
     "name": "stderr",
     "output_type": "stream",
     "text": [
      "\r",
      "  0%|          | 0/10 [00:00<?, ?it/s]"
     ]
    },
    {
     "name": "stderr",
     "output_type": "stream",
     "text": [
      "\u001b[A\u001b[A"
     ]
    },
    {
     "name": "stderr",
     "output_type": "stream",
     "text": [
      "\n",
      "\n"
     ]
    },
    {
     "name": "stderr",
     "output_type": "stream",
     "text": [
      "\r",
      " 10%|█         | 1/10 [00:26<03:54, 26.10s/it]"
     ]
    },
    {
     "name": "stderr",
     "output_type": "stream",
     "text": [
      "\u001b[A\u001b[A"
     ]
    },
    {
     "name": "stderr",
     "output_type": "stream",
     "text": [
      "\n",
      "\n"
     ]
    },
    {
     "name": "stderr",
     "output_type": "stream",
     "text": [
      "\r",
      " 20%|██        | 2/10 [00:53<03:30, 26.35s/it]"
     ]
    },
    {
     "name": "stderr",
     "output_type": "stream",
     "text": [
      "\u001b[A\u001b[A"
     ]
    },
    {
     "name": "stderr",
     "output_type": "stream",
     "text": [
      "\n",
      "\n"
     ]
    },
    {
     "name": "stderr",
     "output_type": "stream",
     "text": [
      "\r",
      " 30%|███       | 3/10 [01:19<03:04, 26.29s/it]"
     ]
    },
    {
     "name": "stderr",
     "output_type": "stream",
     "text": [
      "\u001b[A\u001b[A"
     ]
    },
    {
     "name": "stderr",
     "output_type": "stream",
     "text": [
      "\n",
      "\n"
     ]
    },
    {
     "name": "stderr",
     "output_type": "stream",
     "text": [
      "\r",
      " 40%|████      | 4/10 [01:46<02:39, 26.51s/it]"
     ]
    },
    {
     "name": "stderr",
     "output_type": "stream",
     "text": [
      "\u001b[A\u001b[A"
     ]
    },
    {
     "name": "stderr",
     "output_type": "stream",
     "text": [
      "\n",
      "\n"
     ]
    },
    {
     "name": "stderr",
     "output_type": "stream",
     "text": [
      "\r",
      " 50%|█████     | 5/10 [02:12<02:12, 26.49s/it]"
     ]
    },
    {
     "name": "stderr",
     "output_type": "stream",
     "text": [
      "\u001b[A\u001b[A"
     ]
    },
    {
     "name": "stderr",
     "output_type": "stream",
     "text": [
      "\n",
      "\n"
     ]
    },
    {
     "name": "stderr",
     "output_type": "stream",
     "text": [
      "\r",
      " 60%|██████    | 6/10 [02:39<01:45, 26.50s/it]"
     ]
    },
    {
     "name": "stderr",
     "output_type": "stream",
     "text": [
      "\u001b[A\u001b[A"
     ]
    },
    {
     "name": "stderr",
     "output_type": "stream",
     "text": [
      "\n",
      "\n"
     ]
    },
    {
     "name": "stderr",
     "output_type": "stream",
     "text": [
      "\r",
      " 70%|███████   | 7/10 [03:05<01:19, 26.52s/it]"
     ]
    },
    {
     "name": "stderr",
     "output_type": "stream",
     "text": [
      "\u001b[A\u001b[A"
     ]
    },
    {
     "name": "stderr",
     "output_type": "stream",
     "text": [
      "\n",
      "\n"
     ]
    },
    {
     "name": "stderr",
     "output_type": "stream",
     "text": [
      "\r",
      " 80%|████████  | 8/10 [03:32<00:52, 26.46s/it]"
     ]
    },
    {
     "name": "stderr",
     "output_type": "stream",
     "text": [
      "\u001b[A\u001b[A"
     ]
    },
    {
     "name": "stderr",
     "output_type": "stream",
     "text": [
      "\n",
      "\n"
     ]
    },
    {
     "name": "stderr",
     "output_type": "stream",
     "text": [
      "\r",
      " 90%|█████████ | 9/10 [03:58<00:26, 26.46s/it]"
     ]
    },
    {
     "name": "stderr",
     "output_type": "stream",
     "text": [
      "\u001b[A\u001b[A"
     ]
    },
    {
     "name": "stderr",
     "output_type": "stream",
     "text": [
      "\n",
      "\n"
     ]
    },
    {
     "name": "stderr",
     "output_type": "stream",
     "text": [
      "\r",
      "100%|██████████| 10/10 [04:25<00:00, 26.69s/it]"
     ]
    },
    {
     "name": "stderr",
     "output_type": "stream",
     "text": [
      "\u001b[A\u001b[A"
     ]
    },
    {
     "name": "stderr",
     "output_type": "stream",
     "text": [
      "\r",
      "100%|██████████| 10/10 [04:25<00:00, 26.58s/it]"
     ]
    },
    {
     "name": "stderr",
     "output_type": "stream",
     "text": [
      "\n",
      "\n"
     ]
    },
    {
     "name": "stderr",
     "output_type": "stream",
     "text": [
      "\r",
      " 17%|█▋        | 1/6 [04:25<22:08, 265.77s/it]"
     ]
    },
    {
     "name": "stderr",
     "output_type": "stream",
     "text": [
      "\u001b[A"
     ]
    },
    {
     "name": "stderr",
     "output_type": "stream",
     "text": [
      "\n",
      "\n"
     ]
    },
    {
     "name": "stderr",
     "output_type": "stream",
     "text": [
      "\r",
      "  0%|          | 0/10 [00:00<?, ?it/s]"
     ]
    },
    {
     "name": "stderr",
     "output_type": "stream",
     "text": [
      "\u001b[A\u001b[A"
     ]
    },
    {
     "name": "stderr",
     "output_type": "stream",
     "text": [
      "\n",
      "\n"
     ]
    },
    {
     "name": "stderr",
     "output_type": "stream",
     "text": [
      "\r",
      " 10%|█         | 1/10 [00:25<03:53, 25.95s/it]"
     ]
    },
    {
     "name": "stderr",
     "output_type": "stream",
     "text": [
      "\u001b[A\u001b[A"
     ]
    },
    {
     "name": "stderr",
     "output_type": "stream",
     "text": [
      "\n",
      "\n"
     ]
    },
    {
     "name": "stderr",
     "output_type": "stream",
     "text": [
      "\r",
      " 20%|██        | 2/10 [00:51<03:27, 25.90s/it]"
     ]
    },
    {
     "name": "stderr",
     "output_type": "stream",
     "text": [
      "\u001b[A\u001b[A"
     ]
    },
    {
     "name": "stderr",
     "output_type": "stream",
     "text": [
      "\n",
      "\n"
     ]
    },
    {
     "name": "stderr",
     "output_type": "stream",
     "text": [
      "\r",
      " 30%|███       | 3/10 [01:17<03:00, 25.76s/it]"
     ]
    },
    {
     "name": "stderr",
     "output_type": "stream",
     "text": [
      "\u001b[A\u001b[A"
     ]
    },
    {
     "name": "stderr",
     "output_type": "stream",
     "text": [
      "\n",
      "\n"
     ]
    },
    {
     "name": "stderr",
     "output_type": "stream",
     "text": [
      "\r",
      " 40%|████      | 4/10 [01:41<02:32, 25.44s/it]"
     ]
    },
    {
     "name": "stderr",
     "output_type": "stream",
     "text": [
      "\u001b[A\u001b[A"
     ]
    },
    {
     "name": "stderr",
     "output_type": "stream",
     "text": [
      "\n",
      "\n"
     ]
    },
    {
     "name": "stderr",
     "output_type": "stream",
     "text": [
      "\r",
      " 50%|█████     | 5/10 [02:08<02:08, 25.78s/it]"
     ]
    },
    {
     "name": "stderr",
     "output_type": "stream",
     "text": [
      "\u001b[A\u001b[A"
     ]
    },
    {
     "name": "stderr",
     "output_type": "stream",
     "text": [
      "\n",
      "\n"
     ]
    },
    {
     "name": "stderr",
     "output_type": "stream",
     "text": [
      "\r",
      " 60%|██████    | 6/10 [02:33<01:42, 25.71s/it]"
     ]
    },
    {
     "name": "stderr",
     "output_type": "stream",
     "text": [
      "\u001b[A\u001b[A"
     ]
    },
    {
     "name": "stderr",
     "output_type": "stream",
     "text": [
      "\n",
      "\n"
     ]
    },
    {
     "name": "stderr",
     "output_type": "stream",
     "text": [
      "\r",
      " 70%|███████   | 7/10 [02:59<01:16, 25.65s/it]"
     ]
    },
    {
     "name": "stderr",
     "output_type": "stream",
     "text": [
      "\u001b[A\u001b[A"
     ]
    },
    {
     "name": "stderr",
     "output_type": "stream",
     "text": [
      "\n",
      "\n"
     ]
    },
    {
     "name": "stderr",
     "output_type": "stream",
     "text": [
      "\r",
      " 80%|████████  | 8/10 [03:25<00:51, 25.83s/it]"
     ]
    },
    {
     "name": "stderr",
     "output_type": "stream",
     "text": [
      "\u001b[A\u001b[A"
     ]
    },
    {
     "name": "stderr",
     "output_type": "stream",
     "text": [
      "\n",
      "\n"
     ]
    },
    {
     "name": "stderr",
     "output_type": "stream",
     "text": [
      "\r",
      " 90%|█████████ | 9/10 [03:51<00:25, 25.70s/it]"
     ]
    },
    {
     "name": "stderr",
     "output_type": "stream",
     "text": [
      "\u001b[A\u001b[A"
     ]
    },
    {
     "name": "stderr",
     "output_type": "stream",
     "text": [
      "\n",
      "\n"
     ]
    },
    {
     "name": "stderr",
     "output_type": "stream",
     "text": [
      "\r",
      "100%|██████████| 10/10 [04:16<00:00, 25.57s/it]"
     ]
    },
    {
     "name": "stderr",
     "output_type": "stream",
     "text": [
      "\u001b[A\u001b[A"
     ]
    },
    {
     "name": "stderr",
     "output_type": "stream",
     "text": [
      "\r",
      "100%|██████████| 10/10 [04:16<00:00, 25.64s/it]"
     ]
    },
    {
     "name": "stderr",
     "output_type": "stream",
     "text": [
      "\n",
      "\n"
     ]
    },
    {
     "name": "stderr",
     "output_type": "stream",
     "text": [
      "\r",
      " 33%|███▎      | 2/6 [08:42<17:31, 262.96s/it]"
     ]
    },
    {
     "name": "stderr",
     "output_type": "stream",
     "text": [
      "\u001b[A"
     ]
    },
    {
     "name": "stderr",
     "output_type": "stream",
     "text": [
      "\n",
      "\n"
     ]
    },
    {
     "name": "stderr",
     "output_type": "stream",
     "text": [
      "\r",
      "  0%|          | 0/10 [00:00<?, ?it/s]"
     ]
    },
    {
     "name": "stderr",
     "output_type": "stream",
     "text": [
      "\u001b[A\u001b[A"
     ]
    },
    {
     "name": "stderr",
     "output_type": "stream",
     "text": [
      "\n",
      "\n"
     ]
    },
    {
     "name": "stderr",
     "output_type": "stream",
     "text": [
      "\r",
      " 10%|█         | 1/10 [00:26<03:54, 26.02s/it]"
     ]
    },
    {
     "name": "stderr",
     "output_type": "stream",
     "text": [
      "\u001b[A\u001b[A"
     ]
    },
    {
     "name": "stderr",
     "output_type": "stream",
     "text": [
      "\n",
      "\n"
     ]
    },
    {
     "name": "stderr",
     "output_type": "stream",
     "text": [
      "\r",
      " 20%|██        | 2/10 [00:52<03:28, 26.11s/it]"
     ]
    },
    {
     "name": "stderr",
     "output_type": "stream",
     "text": [
      "\u001b[A\u001b[A"
     ]
    },
    {
     "name": "stderr",
     "output_type": "stream",
     "text": [
      "\n",
      "\n"
     ]
    },
    {
     "name": "stderr",
     "output_type": "stream",
     "text": [
      "\r",
      " 30%|███       | 3/10 [01:18<03:03, 26.27s/it]"
     ]
    },
    {
     "name": "stderr",
     "output_type": "stream",
     "text": [
      "\u001b[A\u001b[A"
     ]
    },
    {
     "name": "stderr",
     "output_type": "stream",
     "text": [
      "\n",
      "\n"
     ]
    },
    {
     "name": "stderr",
     "output_type": "stream",
     "text": [
      "\r",
      " 40%|████      | 4/10 [01:45<02:37, 26.33s/it]"
     ]
    },
    {
     "name": "stderr",
     "output_type": "stream",
     "text": [
      "\u001b[A\u001b[A"
     ]
    },
    {
     "name": "stderr",
     "output_type": "stream",
     "text": [
      "\n",
      "\n"
     ]
    },
    {
     "name": "stderr",
     "output_type": "stream",
     "text": [
      "\r",
      " 50%|█████     | 5/10 [02:12<02:12, 26.51s/it]"
     ]
    },
    {
     "name": "stderr",
     "output_type": "stream",
     "text": [
      "\u001b[A\u001b[A"
     ]
    },
    {
     "name": "stderr",
     "output_type": "stream",
     "text": [
      "\n",
      "\n"
     ]
    },
    {
     "name": "stderr",
     "output_type": "stream",
     "text": [
      "\r",
      " 60%|██████    | 6/10 [02:39<01:46, 26.67s/it]"
     ]
    },
    {
     "name": "stderr",
     "output_type": "stream",
     "text": [
      "\u001b[A\u001b[A"
     ]
    },
    {
     "name": "stderr",
     "output_type": "stream",
     "text": [
      "\n",
      "\n"
     ]
    },
    {
     "name": "stderr",
     "output_type": "stream",
     "text": [
      "\r",
      " 70%|███████   | 7/10 [03:05<01:19, 26.46s/it]"
     ]
    },
    {
     "name": "stderr",
     "output_type": "stream",
     "text": [
      "\u001b[A\u001b[A"
     ]
    },
    {
     "name": "stderr",
     "output_type": "stream",
     "text": [
      "\n",
      "\n"
     ]
    },
    {
     "name": "stderr",
     "output_type": "stream",
     "text": [
      "\r",
      " 80%|████████  | 8/10 [03:31<00:52, 26.30s/it]"
     ]
    },
    {
     "name": "stderr",
     "output_type": "stream",
     "text": [
      "\u001b[A\u001b[A"
     ]
    },
    {
     "name": "stderr",
     "output_type": "stream",
     "text": [
      "\n",
      "\n"
     ]
    },
    {
     "name": "stderr",
     "output_type": "stream",
     "text": [
      "\r",
      " 90%|█████████ | 9/10 [03:57<00:26, 26.27s/it]"
     ]
    },
    {
     "name": "stderr",
     "output_type": "stream",
     "text": [
      "\u001b[A\u001b[A"
     ]
    },
    {
     "name": "stderr",
     "output_type": "stream",
     "text": [
      "\n",
      "\n"
     ]
    },
    {
     "name": "stderr",
     "output_type": "stream",
     "text": [
      "\r",
      "100%|██████████| 10/10 [04:24<00:00, 26.35s/it]"
     ]
    },
    {
     "name": "stderr",
     "output_type": "stream",
     "text": [
      "\u001b[A\u001b[A"
     ]
    },
    {
     "name": "stderr",
     "output_type": "stream",
     "text": [
      "\r",
      "100%|██████████| 10/10 [04:24<00:00, 26.41s/it]"
     ]
    },
    {
     "name": "stderr",
     "output_type": "stream",
     "text": [
      "\n",
      "\n"
     ]
    },
    {
     "name": "stderr",
     "output_type": "stream",
     "text": [
      "\r",
      " 50%|█████     | 3/6 [13:06<13:09, 263.30s/it]"
     ]
    },
    {
     "name": "stderr",
     "output_type": "stream",
     "text": [
      "\u001b[A"
     ]
    },
    {
     "name": "stderr",
     "output_type": "stream",
     "text": [
      "\n",
      "\n"
     ]
    },
    {
     "name": "stderr",
     "output_type": "stream",
     "text": [
      "\r",
      "  0%|          | 0/10 [00:00<?, ?it/s]"
     ]
    },
    {
     "name": "stderr",
     "output_type": "stream",
     "text": [
      "\u001b[A\u001b[A"
     ]
    },
    {
     "name": "stderr",
     "output_type": "stream",
     "text": [
      "\n",
      "\n"
     ]
    },
    {
     "name": "stderr",
     "output_type": "stream",
     "text": [
      "\r",
      " 10%|█         | 1/10 [00:26<03:54, 26.01s/it]"
     ]
    },
    {
     "name": "stderr",
     "output_type": "stream",
     "text": [
      "\u001b[A\u001b[A"
     ]
    },
    {
     "name": "stderr",
     "output_type": "stream",
     "text": [
      "\n",
      "\n"
     ]
    },
    {
     "name": "stderr",
     "output_type": "stream",
     "text": [
      "\r",
      " 20%|██        | 2/10 [00:52<03:28, 26.02s/it]"
     ]
    },
    {
     "name": "stderr",
     "output_type": "stream",
     "text": [
      "\u001b[A\u001b[A"
     ]
    },
    {
     "name": "stderr",
     "output_type": "stream",
     "text": [
      "\n",
      "\n"
     ]
    },
    {
     "name": "stderr",
     "output_type": "stream",
     "text": [
      "\r",
      " 30%|███       | 3/10 [01:18<03:02, 26.04s/it]"
     ]
    },
    {
     "name": "stderr",
     "output_type": "stream",
     "text": [
      "\u001b[A\u001b[A"
     ]
    },
    {
     "name": "stderr",
     "output_type": "stream",
     "text": [
      "\n",
      "\n"
     ]
    },
    {
     "name": "stderr",
     "output_type": "stream",
     "text": [
      "\r",
      " 40%|████      | 4/10 [01:44<02:36, 26.03s/it]"
     ]
    },
    {
     "name": "stderr",
     "output_type": "stream",
     "text": [
      "\u001b[A\u001b[A"
     ]
    },
    {
     "name": "stderr",
     "output_type": "stream",
     "text": [
      "\n",
      "\n"
     ]
    },
    {
     "name": "stderr",
     "output_type": "stream",
     "text": [
      "\r",
      " 50%|█████     | 5/10 [02:10<02:10, 26.10s/it]"
     ]
    },
    {
     "name": "stderr",
     "output_type": "stream",
     "text": [
      "\u001b[A\u001b[A"
     ]
    },
    {
     "name": "stderr",
     "output_type": "stream",
     "text": [
      "\n",
      "\n"
     ]
    },
    {
     "name": "stderr",
     "output_type": "stream",
     "text": [
      "\r",
      " 60%|██████    | 6/10 [02:36<01:44, 26.07s/it]"
     ]
    },
    {
     "name": "stderr",
     "output_type": "stream",
     "text": [
      "\u001b[A\u001b[A"
     ]
    },
    {
     "name": "stderr",
     "output_type": "stream",
     "text": [
      "\n",
      "\n"
     ]
    },
    {
     "name": "stderr",
     "output_type": "stream",
     "text": [
      "\r",
      " 70%|███████   | 7/10 [03:02<01:18, 26.01s/it]"
     ]
    },
    {
     "name": "stderr",
     "output_type": "stream",
     "text": [
      "\u001b[A\u001b[A"
     ]
    },
    {
     "name": "stderr",
     "output_type": "stream",
     "text": [
      "\n",
      "\n"
     ]
    },
    {
     "name": "stderr",
     "output_type": "stream",
     "text": [
      "\r",
      " 80%|████████  | 8/10 [03:28<00:52, 26.06s/it]"
     ]
    },
    {
     "name": "stderr",
     "output_type": "stream",
     "text": [
      "\u001b[A\u001b[A"
     ]
    },
    {
     "name": "stderr",
     "output_type": "stream",
     "text": [
      "\n",
      "\n"
     ]
    },
    {
     "name": "stderr",
     "output_type": "stream",
     "text": [
      "\r",
      " 90%|█████████ | 9/10 [03:54<00:26, 26.19s/it]"
     ]
    },
    {
     "name": "stderr",
     "output_type": "stream",
     "text": [
      "\u001b[A\u001b[A"
     ]
    },
    {
     "name": "stderr",
     "output_type": "stream",
     "text": [
      "\n",
      "\n"
     ]
    },
    {
     "name": "stderr",
     "output_type": "stream",
     "text": [
      "\r",
      "100%|██████████| 10/10 [04:20<00:00, 26.08s/it]"
     ]
    },
    {
     "name": "stderr",
     "output_type": "stream",
     "text": [
      "\u001b[A\u001b[A"
     ]
    },
    {
     "name": "stderr",
     "output_type": "stream",
     "text": [
      "\r",
      "100%|██████████| 10/10 [04:20<00:00, 26.08s/it]"
     ]
    },
    {
     "name": "stderr",
     "output_type": "stream",
     "text": [
      "\n",
      "\n"
     ]
    },
    {
     "name": "stderr",
     "output_type": "stream",
     "text": [
      "\r",
      " 67%|██████▋   | 4/6 [17:27<08:45, 262.54s/it]"
     ]
    },
    {
     "name": "stderr",
     "output_type": "stream",
     "text": [
      "\u001b[A"
     ]
    },
    {
     "name": "stderr",
     "output_type": "stream",
     "text": [
      "\n",
      "\n"
     ]
    },
    {
     "name": "stderr",
     "output_type": "stream",
     "text": [
      "\r",
      "  0%|          | 0/10 [00:00<?, ?it/s]"
     ]
    },
    {
     "name": "stderr",
     "output_type": "stream",
     "text": [
      "\u001b[A\u001b[A"
     ]
    },
    {
     "name": "stderr",
     "output_type": "stream",
     "text": [
      "\n",
      "\n"
     ]
    },
    {
     "name": "stderr",
     "output_type": "stream",
     "text": [
      "\r",
      " 10%|█         | 1/10 [00:25<03:53, 26.00s/it]"
     ]
    },
    {
     "name": "stderr",
     "output_type": "stream",
     "text": [
      "\u001b[A\u001b[A"
     ]
    },
    {
     "name": "stderr",
     "output_type": "stream",
     "text": [
      "\n",
      "\n"
     ]
    },
    {
     "name": "stderr",
     "output_type": "stream",
     "text": [
      "\r",
      " 20%|██        | 2/10 [00:52<03:29, 26.14s/it]"
     ]
    },
    {
     "name": "stderr",
     "output_type": "stream",
     "text": [
      "\u001b[A\u001b[A"
     ]
    },
    {
     "name": "stderr",
     "output_type": "stream",
     "text": [
      "\n",
      "\n"
     ]
    },
    {
     "name": "stderr",
     "output_type": "stream",
     "text": [
      "\r",
      " 30%|███       | 3/10 [01:18<03:03, 26.23s/it]"
     ]
    },
    {
     "name": "stderr",
     "output_type": "stream",
     "text": [
      "\u001b[A\u001b[A"
     ]
    },
    {
     "name": "stderr",
     "output_type": "stream",
     "text": [
      "\n",
      "\n"
     ]
    },
    {
     "name": "stderr",
     "output_type": "stream",
     "text": [
      "\r",
      " 40%|████      | 4/10 [01:45<02:38, 26.45s/it]"
     ]
    },
    {
     "name": "stderr",
     "output_type": "stream",
     "text": [
      "\u001b[A\u001b[A"
     ]
    },
    {
     "name": "stderr",
     "output_type": "stream",
     "text": [
      "\n",
      "\n"
     ]
    },
    {
     "name": "stderr",
     "output_type": "stream",
     "text": [
      "\r",
      " 50%|█████     | 5/10 [02:12<02:12, 26.55s/it]"
     ]
    },
    {
     "name": "stderr",
     "output_type": "stream",
     "text": [
      "\u001b[A\u001b[A"
     ]
    },
    {
     "name": "stderr",
     "output_type": "stream",
     "text": [
      "\n",
      "\n"
     ]
    },
    {
     "name": "stderr",
     "output_type": "stream",
     "text": [
      "\r",
      " 60%|██████    | 6/10 [02:38<01:45, 26.41s/it]"
     ]
    },
    {
     "name": "stderr",
     "output_type": "stream",
     "text": [
      "\u001b[A\u001b[A"
     ]
    },
    {
     "name": "stderr",
     "output_type": "stream",
     "text": [
      "\n",
      "\n"
     ]
    },
    {
     "name": "stderr",
     "output_type": "stream",
     "text": [
      "\r",
      " 70%|███████   | 7/10 [03:04<01:18, 26.31s/it]"
     ]
    },
    {
     "name": "stderr",
     "output_type": "stream",
     "text": [
      "\u001b[A\u001b[A"
     ]
    },
    {
     "name": "stderr",
     "output_type": "stream",
     "text": [
      "\n",
      "\n"
     ]
    },
    {
     "name": "stderr",
     "output_type": "stream",
     "text": [
      "\r",
      " 80%|████████  | 8/10 [03:31<00:52, 26.36s/it]"
     ]
    },
    {
     "name": "stderr",
     "output_type": "stream",
     "text": [
      "\u001b[A\u001b[A"
     ]
    },
    {
     "name": "stderr",
     "output_type": "stream",
     "text": [
      "\n",
      "\n"
     ]
    },
    {
     "name": "stderr",
     "output_type": "stream",
     "text": [
      "\r",
      " 90%|█████████ | 9/10 [03:57<00:26, 26.39s/it]"
     ]
    },
    {
     "name": "stderr",
     "output_type": "stream",
     "text": [
      "\u001b[A\u001b[A"
     ]
    },
    {
     "name": "stderr",
     "output_type": "stream",
     "text": [
      "\n",
      "\n"
     ]
    },
    {
     "name": "stderr",
     "output_type": "stream",
     "text": [
      "\r",
      "100%|██████████| 10/10 [04:24<00:00, 26.37s/it]"
     ]
    },
    {
     "name": "stderr",
     "output_type": "stream",
     "text": [
      "\u001b[A\u001b[A"
     ]
    },
    {
     "name": "stderr",
     "output_type": "stream",
     "text": [
      "\r",
      "100%|██████████| 10/10 [04:24<00:00, 26.41s/it]"
     ]
    },
    {
     "name": "stderr",
     "output_type": "stream",
     "text": [
      "\n",
      "\n"
     ]
    },
    {
     "name": "stderr",
     "output_type": "stream",
     "text": [
      "\r",
      " 83%|████████▎ | 5/6 [21:51<04:22, 262.99s/it]"
     ]
    },
    {
     "name": "stderr",
     "output_type": "stream",
     "text": [
      "\u001b[A"
     ]
    },
    {
     "name": "stderr",
     "output_type": "stream",
     "text": [
      "\n",
      "\n"
     ]
    },
    {
     "name": "stderr",
     "output_type": "stream",
     "text": [
      "\r",
      "  0%|          | 0/10 [00:00<?, ?it/s]"
     ]
    },
    {
     "name": "stderr",
     "output_type": "stream",
     "text": [
      "\u001b[A\u001b[A"
     ]
    },
    {
     "name": "stderr",
     "output_type": "stream",
     "text": [
      "\n",
      "\n"
     ]
    },
    {
     "name": "stderr",
     "output_type": "stream",
     "text": [
      "\r",
      " 10%|█         | 1/10 [00:24<03:44, 24.91s/it]"
     ]
    },
    {
     "name": "stderr",
     "output_type": "stream",
     "text": [
      "\u001b[A\u001b[A"
     ]
    },
    {
     "name": "stderr",
     "output_type": "stream",
     "text": [
      "\n",
      "\n"
     ]
    },
    {
     "name": "stderr",
     "output_type": "stream",
     "text": [
      "\r",
      " 20%|██        | 2/10 [00:50<03:20, 25.10s/it]"
     ]
    },
    {
     "name": "stderr",
     "output_type": "stream",
     "text": [
      "\u001b[A\u001b[A"
     ]
    },
    {
     "name": "stderr",
     "output_type": "stream",
     "text": [
      "\n",
      "\n"
     ]
    },
    {
     "name": "stderr",
     "output_type": "stream",
     "text": [
      "\r",
      " 30%|███       | 3/10 [01:15<02:55, 25.08s/it]"
     ]
    },
    {
     "name": "stderr",
     "output_type": "stream",
     "text": [
      "\u001b[A\u001b[A"
     ]
    },
    {
     "name": "stderr",
     "output_type": "stream",
     "text": [
      "\n",
      "\n"
     ]
    },
    {
     "name": "stderr",
     "output_type": "stream",
     "text": [
      "\r",
      " 40%|████      | 4/10 [01:40<02:31, 25.21s/it]"
     ]
    },
    {
     "name": "stderr",
     "output_type": "stream",
     "text": [
      "\u001b[A\u001b[A"
     ]
    },
    {
     "name": "stderr",
     "output_type": "stream",
     "text": [
      "\n",
      "\n"
     ]
    },
    {
     "name": "stderr",
     "output_type": "stream",
     "text": [
      "\r",
      " 50%|█████     | 5/10 [02:06<02:06, 25.38s/it]"
     ]
    },
    {
     "name": "stderr",
     "output_type": "stream",
     "text": [
      "\u001b[A\u001b[A"
     ]
    },
    {
     "name": "stderr",
     "output_type": "stream",
     "text": [
      "\n",
      "\n"
     ]
    },
    {
     "name": "stderr",
     "output_type": "stream",
     "text": [
      "\r",
      " 60%|██████    | 6/10 [02:32<01:42, 25.60s/it]"
     ]
    },
    {
     "name": "stderr",
     "output_type": "stream",
     "text": [
      "\u001b[A\u001b[A"
     ]
    },
    {
     "name": "stderr",
     "output_type": "stream",
     "text": [
      "\n",
      "\n"
     ]
    },
    {
     "name": "stderr",
     "output_type": "stream",
     "text": [
      "\r",
      " 70%|███████   | 7/10 [02:58<01:16, 25.65s/it]"
     ]
    },
    {
     "name": "stderr",
     "output_type": "stream",
     "text": [
      "\u001b[A\u001b[A"
     ]
    },
    {
     "name": "stderr",
     "output_type": "stream",
     "text": [
      "\n",
      "\n"
     ]
    },
    {
     "name": "stderr",
     "output_type": "stream",
     "text": [
      "\r",
      " 80%|████████  | 8/10 [03:23<00:50, 25.34s/it]"
     ]
    },
    {
     "name": "stderr",
     "output_type": "stream",
     "text": [
      "\u001b[A\u001b[A"
     ]
    },
    {
     "name": "stderr",
     "output_type": "stream",
     "text": [
      "\n",
      "\n"
     ]
    },
    {
     "name": "stderr",
     "output_type": "stream",
     "text": [
      "\r",
      " 90%|█████████ | 9/10 [03:48<00:25, 25.44s/it]"
     ]
    },
    {
     "name": "stderr",
     "output_type": "stream",
     "text": [
      "\u001b[A\u001b[A"
     ]
    },
    {
     "name": "stderr",
     "output_type": "stream",
     "text": [
      "\n",
      "\n"
     ]
    },
    {
     "name": "stderr",
     "output_type": "stream",
     "text": [
      "\r",
      "100%|██████████| 10/10 [04:14<00:00, 25.54s/it]"
     ]
    },
    {
     "name": "stderr",
     "output_type": "stream",
     "text": [
      "\u001b[A\u001b[A"
     ]
    },
    {
     "name": "stderr",
     "output_type": "stream",
     "text": [
      "\r",
      "100%|██████████| 10/10 [04:14<00:00, 25.47s/it]"
     ]
    },
    {
     "name": "stderr",
     "output_type": "stream",
     "text": [
      "\n"
     ]
    }
   ],
   "source": [
    "results = {}\n",
    "\n",
    "for shuffle_method in SHUFFLE_METHODS:\n",
    "    results[shuffle_method] = {}\n",
    "    \n",
    "    for (model_tag, _), dataset_tag in zip(TAGS_COMMANDS.items(), tqdm(DATASETS_TAGS)):\n",
    "        model_paths = get_model_path(model_tag, filter_='all', model_base_path='/scratch/shlomi/models/')\n",
    "\n",
    "\n",
    "        results[shuffle_method][model_tag] = [run_spectral_cluster(path / f'{dataset_tag}-mlp-pruned-weights.pckl',\n",
    "                                               n_samples=N_SHUFFLES,\n",
    "                                               shuffle_method=shuffle_method,\n",
    "                                               n_clusters=N_CLUSTERS)\n",
    "            for path in tqdm(model_paths[-N_TRAINED_MODELS:])]"
   ]
  },
  {
   "cell_type": "code",
   "execution_count": 8,
   "metadata": {
    "papermill": {
     "duration": 0.225966,
     "end_time": "2020-05-27T11:17:56.234197",
     "exception": false,
     "start_time": "2020-05-27T11:17:56.008231",
     "status": "completed"
    },
    "tags": []
   },
   "outputs": [],
   "source": [
    "run_spectral_cluster?"
   ]
  },
  {
   "cell_type": "code",
   "execution_count": 9,
   "metadata": {
    "papermill": {
     "duration": 0.23675,
     "end_time": "2020-05-27T11:17:56.653481",
     "exception": false,
     "start_time": "2020-05-27T11:17:56.416731",
     "status": "completed"
    },
    "tags": []
   },
   "outputs": [],
   "source": [
    "def build_all_models_per_shuffle_method_df(single_shuffle_method_results):\n",
    "    model_dfs = []\n",
    "\n",
    "    for model_tag, model_results in single_shuffle_method_results.items():\n",
    "        _, metrics  = zip(*model_results)\n",
    "        model_dfs.append(pd.DataFrame(metrics).assign(model=model_tag))\n",
    "\n",
    "    df = pd.concat(model_dfs, ignore_index=True)\n",
    "\n",
    "    df['is_sig'] = np.isclose(df['percentile'], 1 / (N_SHUFFLES + 1))\n",
    "    \n",
    "    return df\n",
    "\n",
    "layer_df = build_all_models_per_shuffle_method_df(results['layer'])\n",
    "layer_nonzero_df = build_all_models_per_shuffle_method_df(results['layer_nonzero'])"
   ]
  },
  {
   "cell_type": "code",
   "execution_count": 10,
   "metadata": {
    "papermill": {
     "duration": 0.213724,
     "end_time": "2020-05-27T11:17:57.049491",
     "exception": false,
     "start_time": "2020-05-27T11:17:56.835767",
     "status": "completed"
    },
    "tags": []
   },
   "outputs": [
    {
     "data": {
      "text/html": [
       "<div>\n",
       "<style scoped>\n",
       "    .dataframe tbody tr th:only-of-type {\n",
       "        vertical-align: middle;\n",
       "    }\n",
       "\n",
       "    .dataframe tbody tr th {\n",
       "        vertical-align: top;\n",
       "    }\n",
       "\n",
       "    .dataframe thead th {\n",
       "        text-align: right;\n",
       "    }\n",
       "</style>\n",
       "<table border=\"1\" class=\"dataframe\">\n",
       "  <thead>\n",
       "    <tr style=\"text-align: right;\">\n",
       "      <th></th>\n",
       "      <th>ave_in_out</th>\n",
       "      <th>mean</th>\n",
       "      <th>n_samples</th>\n",
       "      <th>ncut</th>\n",
       "      <th>percentile</th>\n",
       "      <th>stdev</th>\n",
       "      <th>test_acc</th>\n",
       "      <th>test_loss</th>\n",
       "      <th>train_acc</th>\n",
       "      <th>train_loss</th>\n",
       "      <th>z_score</th>\n",
       "      <th>model</th>\n",
       "      <th>is_sig</th>\n",
       "    </tr>\n",
       "  </thead>\n",
       "  <tbody>\n",
       "    <tr>\n",
       "      <th>0</th>\n",
       "      <td>2.530629</td>\n",
       "      <td>0.329872</td>\n",
       "      <td>320</td>\n",
       "      <td>0.329965</td>\n",
       "      <td>0.563863</td>\n",
       "      <td>0.002359</td>\n",
       "      <td>0.9835</td>\n",
       "      <td>0.095332</td>\n",
       "      <td>1.0</td>\n",
       "      <td>0.000048</td>\n",
       "      <td>0.039226</td>\n",
       "      <td>MNIST</td>\n",
       "      <td>False</td>\n",
       "    </tr>\n",
       "    <tr>\n",
       "      <th>1</th>\n",
       "      <td>2.528825</td>\n",
       "      <td>0.329599</td>\n",
       "      <td>320</td>\n",
       "      <td>0.330161</td>\n",
       "      <td>0.563863</td>\n",
       "      <td>0.002051</td>\n",
       "      <td>0.9847</td>\n",
       "      <td>0.090697</td>\n",
       "      <td>1.0</td>\n",
       "      <td>0.000056</td>\n",
       "      <td>0.273888</td>\n",
       "      <td>MNIST</td>\n",
       "      <td>False</td>\n",
       "    </tr>\n",
       "    <tr>\n",
       "      <th>2</th>\n",
       "      <td>2.494644</td>\n",
       "      <td>0.328610</td>\n",
       "      <td>320</td>\n",
       "      <td>0.333930</td>\n",
       "      <td>0.968847</td>\n",
       "      <td>0.002429</td>\n",
       "      <td>0.9830</td>\n",
       "      <td>0.099833</td>\n",
       "      <td>1.0</td>\n",
       "      <td>0.000059</td>\n",
       "      <td>2.190334</td>\n",
       "      <td>MNIST</td>\n",
       "      <td>False</td>\n",
       "    </tr>\n",
       "    <tr>\n",
       "      <th>3</th>\n",
       "      <td>2.519351</td>\n",
       "      <td>0.329903</td>\n",
       "      <td>320</td>\n",
       "      <td>0.331197</td>\n",
       "      <td>0.626168</td>\n",
       "      <td>0.002327</td>\n",
       "      <td>0.9828</td>\n",
       "      <td>0.099546</td>\n",
       "      <td>1.0</td>\n",
       "      <td>0.000062</td>\n",
       "      <td>0.556271</td>\n",
       "      <td>MNIST</td>\n",
       "      <td>False</td>\n",
       "    </tr>\n",
       "    <tr>\n",
       "      <th>4</th>\n",
       "      <td>2.462010</td>\n",
       "      <td>0.332344</td>\n",
       "      <td>320</td>\n",
       "      <td>0.337609</td>\n",
       "      <td>1.000000</td>\n",
       "      <td>0.002243</td>\n",
       "      <td>0.9845</td>\n",
       "      <td>0.097756</td>\n",
       "      <td>1.0</td>\n",
       "      <td>0.000081</td>\n",
       "      <td>2.347679</td>\n",
       "      <td>MNIST</td>\n",
       "      <td>False</td>\n",
       "    </tr>\n",
       "  </tbody>\n",
       "</table>\n",
       "</div>"
      ],
      "text/plain": [
       "   ave_in_out      mean  n_samples      ncut  percentile     stdev  test_acc  \\\n",
       "0    2.530629  0.329872        320  0.329965    0.563863  0.002359    0.9835   \n",
       "1    2.528825  0.329599        320  0.330161    0.563863  0.002051    0.9847   \n",
       "2    2.494644  0.328610        320  0.333930    0.968847  0.002429    0.9830   \n",
       "3    2.519351  0.329903        320  0.331197    0.626168  0.002327    0.9828   \n",
       "4    2.462010  0.332344        320  0.337609    1.000000  0.002243    0.9845   \n",
       "\n",
       "   test_loss  train_acc  train_loss   z_score  model  is_sig  \n",
       "0   0.095332        1.0    0.000048  0.039226  MNIST   False  \n",
       "1   0.090697        1.0    0.000056  0.273888  MNIST   False  \n",
       "2   0.099833        1.0    0.000059  2.190334  MNIST   False  \n",
       "3   0.099546        1.0    0.000062  0.556271  MNIST   False  \n",
       "4   0.097756        1.0    0.000081  2.347679  MNIST   False  "
      ]
     },
     "execution_count": 10,
     "metadata": {},
     "output_type": "execute_result"
    }
   ],
   "source": [
    "layer_df.head()"
   ]
  },
  {
   "cell_type": "code",
   "execution_count": 11,
   "metadata": {
    "papermill": {
     "duration": 0.210225,
     "end_time": "2020-05-27T11:17:57.436822",
     "exception": false,
     "start_time": "2020-05-27T11:17:57.226597",
     "status": "completed"
    },
    "tags": []
   },
   "outputs": [
    {
     "data": {
      "text/html": [
       "<div>\n",
       "<style scoped>\n",
       "    .dataframe tbody tr th:only-of-type {\n",
       "        vertical-align: middle;\n",
       "    }\n",
       "\n",
       "    .dataframe tbody tr th {\n",
       "        vertical-align: top;\n",
       "    }\n",
       "\n",
       "    .dataframe thead th {\n",
       "        text-align: right;\n",
       "    }\n",
       "</style>\n",
       "<table border=\"1\" class=\"dataframe\">\n",
       "  <thead>\n",
       "    <tr style=\"text-align: right;\">\n",
       "      <th></th>\n",
       "      <th>ave_in_out</th>\n",
       "      <th>mean</th>\n",
       "      <th>n_samples</th>\n",
       "      <th>ncut</th>\n",
       "      <th>percentile</th>\n",
       "      <th>stdev</th>\n",
       "      <th>test_acc</th>\n",
       "      <th>test_loss</th>\n",
       "      <th>train_acc</th>\n",
       "      <th>train_loss</th>\n",
       "      <th>z_score</th>\n",
       "      <th>model</th>\n",
       "      <th>is_sig</th>\n",
       "    </tr>\n",
       "  </thead>\n",
       "  <tbody>\n",
       "    <tr>\n",
       "      <th>0</th>\n",
       "      <td>2.530629</td>\n",
       "      <td>0.329494</td>\n",
       "      <td>320</td>\n",
       "      <td>0.329965</td>\n",
       "      <td>0.595016</td>\n",
       "      <td>0.001083</td>\n",
       "      <td>0.9835</td>\n",
       "      <td>0.095332</td>\n",
       "      <td>1.0</td>\n",
       "      <td>0.000048</td>\n",
       "      <td>0.434404</td>\n",
       "      <td>MNIST</td>\n",
       "      <td>False</td>\n",
       "    </tr>\n",
       "    <tr>\n",
       "      <th>1</th>\n",
       "      <td>2.528825</td>\n",
       "      <td>0.328940</td>\n",
       "      <td>320</td>\n",
       "      <td>0.330161</td>\n",
       "      <td>0.875389</td>\n",
       "      <td>0.000903</td>\n",
       "      <td>0.9847</td>\n",
       "      <td>0.090697</td>\n",
       "      <td>1.0</td>\n",
       "      <td>0.000056</td>\n",
       "      <td>1.351846</td>\n",
       "      <td>MNIST</td>\n",
       "      <td>False</td>\n",
       "    </tr>\n",
       "    <tr>\n",
       "      <th>2</th>\n",
       "      <td>2.494644</td>\n",
       "      <td>0.332132</td>\n",
       "      <td>320</td>\n",
       "      <td>0.333930</td>\n",
       "      <td>0.968847</td>\n",
       "      <td>0.001124</td>\n",
       "      <td>0.9830</td>\n",
       "      <td>0.099833</td>\n",
       "      <td>1.0</td>\n",
       "      <td>0.000059</td>\n",
       "      <td>1.599889</td>\n",
       "      <td>MNIST</td>\n",
       "      <td>False</td>\n",
       "    </tr>\n",
       "    <tr>\n",
       "      <th>3</th>\n",
       "      <td>2.519351</td>\n",
       "      <td>0.329517</td>\n",
       "      <td>320</td>\n",
       "      <td>0.331197</td>\n",
       "      <td>1.000000</td>\n",
       "      <td>0.000927</td>\n",
       "      <td>0.9828</td>\n",
       "      <td>0.099546</td>\n",
       "      <td>1.0</td>\n",
       "      <td>0.000062</td>\n",
       "      <td>1.812551</td>\n",
       "      <td>MNIST</td>\n",
       "      <td>False</td>\n",
       "    </tr>\n",
       "    <tr>\n",
       "      <th>4</th>\n",
       "      <td>2.462010</td>\n",
       "      <td>0.335694</td>\n",
       "      <td>320</td>\n",
       "      <td>0.337609</td>\n",
       "      <td>0.875389</td>\n",
       "      <td>0.001318</td>\n",
       "      <td>0.9845</td>\n",
       "      <td>0.097756</td>\n",
       "      <td>1.0</td>\n",
       "      <td>0.000081</td>\n",
       "      <td>1.452518</td>\n",
       "      <td>MNIST</td>\n",
       "      <td>False</td>\n",
       "    </tr>\n",
       "  </tbody>\n",
       "</table>\n",
       "</div>"
      ],
      "text/plain": [
       "   ave_in_out      mean  n_samples      ncut  percentile     stdev  test_acc  \\\n",
       "0    2.530629  0.329494        320  0.329965    0.595016  0.001083    0.9835   \n",
       "1    2.528825  0.328940        320  0.330161    0.875389  0.000903    0.9847   \n",
       "2    2.494644  0.332132        320  0.333930    0.968847  0.001124    0.9830   \n",
       "3    2.519351  0.329517        320  0.331197    1.000000  0.000927    0.9828   \n",
       "4    2.462010  0.335694        320  0.337609    0.875389  0.001318    0.9845   \n",
       "\n",
       "   test_loss  train_acc  train_loss   z_score  model  is_sig  \n",
       "0   0.095332        1.0    0.000048  0.434404  MNIST   False  \n",
       "1   0.090697        1.0    0.000056  1.351846  MNIST   False  \n",
       "2   0.099833        1.0    0.000059  1.599889  MNIST   False  \n",
       "3   0.099546        1.0    0.000062  1.812551  MNIST   False  \n",
       "4   0.097756        1.0    0.000081  1.452518  MNIST   False  "
      ]
     },
     "execution_count": 11,
     "metadata": {},
     "output_type": "execute_result"
    }
   ],
   "source": [
    "layer_nonzero_df.head()"
   ]
  },
  {
   "cell_type": "code",
   "execution_count": 12,
   "metadata": {
    "papermill": {
     "duration": 0.276067,
     "end_time": "2020-05-27T11:17:57.893486",
     "exception": false,
     "start_time": "2020-05-27T11:17:57.617419",
     "status": "completed"
    },
    "tags": []
   },
   "outputs": [
    {
     "data": {
      "text/html": [
       "<div>\n",
       "<style scoped>\n",
       "    .dataframe tbody tr th:only-of-type {\n",
       "        vertical-align: middle;\n",
       "    }\n",
       "\n",
       "    .dataframe tbody tr th {\n",
       "        vertical-align: top;\n",
       "    }\n",
       "\n",
       "    .dataframe thead th {\n",
       "        text-align: right;\n",
       "    }\n",
       "</style>\n",
       "<table border=\"1\" class=\"dataframe\">\n",
       "  <thead>\n",
       "    <tr style=\"text-align: right;\">\n",
       "      <th></th>\n",
       "      <th>model</th>\n",
       "      <th>train_acc</th>\n",
       "      <th>train_loss</th>\n",
       "      <th>test_acc</th>\n",
       "      <th>test_loss</th>\n",
       "      <th>ncut</th>\n",
       "      <th>ave_in_out</th>\n",
       "      <th>n_samples</th>\n",
       "      <th>mean_layer</th>\n",
       "      <th>percentile_layer</th>\n",
       "      <th>stdev_layer</th>\n",
       "      <th>z_score_layer</th>\n",
       "      <th>is_sig_layer</th>\n",
       "      <th>mean_layer_nonzero</th>\n",
       "      <th>percentile_layer_nonzero</th>\n",
       "      <th>stdev_layer_nonzero</th>\n",
       "      <th>z_score_layer_nonzero</th>\n",
       "      <th>is_sig_layer_nonzero</th>\n",
       "      <th>cohen_d</th>\n",
       "    </tr>\n",
       "  </thead>\n",
       "  <tbody>\n",
       "    <tr>\n",
       "      <th>0</th>\n",
       "      <td>MNIST</td>\n",
       "      <td>1.000000</td>\n",
       "      <td>0.000048</td>\n",
       "      <td>0.9835</td>\n",
       "      <td>0.095332</td>\n",
       "      <td>0.329965</td>\n",
       "      <td>2.530629</td>\n",
       "      <td>320</td>\n",
       "      <td>0.329872</td>\n",
       "      <td>0.563863</td>\n",
       "      <td>0.002359</td>\n",
       "      <td>0.039226</td>\n",
       "      <td>False</td>\n",
       "      <td>0.329494</td>\n",
       "      <td>0.595016</td>\n",
       "      <td>0.001083</td>\n",
       "      <td>0.434404</td>\n",
       "      <td>False</td>\n",
       "      <td>0.483902</td>\n",
       "    </tr>\n",
       "    <tr>\n",
       "      <th>1</th>\n",
       "      <td>MNIST</td>\n",
       "      <td>1.000000</td>\n",
       "      <td>0.000056</td>\n",
       "      <td>0.9847</td>\n",
       "      <td>0.090697</td>\n",
       "      <td>0.330161</td>\n",
       "      <td>2.528825</td>\n",
       "      <td>320</td>\n",
       "      <td>0.329599</td>\n",
       "      <td>0.563863</td>\n",
       "      <td>0.002051</td>\n",
       "      <td>0.273888</td>\n",
       "      <td>False</td>\n",
       "      <td>0.328940</td>\n",
       "      <td>0.875389</td>\n",
       "      <td>0.000903</td>\n",
       "      <td>1.351846</td>\n",
       "      <td>False</td>\n",
       "      <td>0.518073</td>\n",
       "    </tr>\n",
       "    <tr>\n",
       "      <th>2</th>\n",
       "      <td>MNIST</td>\n",
       "      <td>1.000000</td>\n",
       "      <td>0.000059</td>\n",
       "      <td>0.9830</td>\n",
       "      <td>0.099833</td>\n",
       "      <td>0.333930</td>\n",
       "      <td>2.494644</td>\n",
       "      <td>320</td>\n",
       "      <td>0.328610</td>\n",
       "      <td>0.968847</td>\n",
       "      <td>0.002429</td>\n",
       "      <td>2.190334</td>\n",
       "      <td>False</td>\n",
       "      <td>0.332132</td>\n",
       "      <td>0.968847</td>\n",
       "      <td>0.001124</td>\n",
       "      <td>1.599889</td>\n",
       "      <td>False</td>\n",
       "      <td>0.474365</td>\n",
       "    </tr>\n",
       "    <tr>\n",
       "      <th>3</th>\n",
       "      <td>MNIST</td>\n",
       "      <td>1.000000</td>\n",
       "      <td>0.000062</td>\n",
       "      <td>0.9828</td>\n",
       "      <td>0.099546</td>\n",
       "      <td>0.331197</td>\n",
       "      <td>2.519351</td>\n",
       "      <td>320</td>\n",
       "      <td>0.329903</td>\n",
       "      <td>0.626168</td>\n",
       "      <td>0.002327</td>\n",
       "      <td>0.556271</td>\n",
       "      <td>False</td>\n",
       "      <td>0.329517</td>\n",
       "      <td>1.000000</td>\n",
       "      <td>0.000927</td>\n",
       "      <td>1.812551</td>\n",
       "      <td>False</td>\n",
       "      <td>0.513064</td>\n",
       "    </tr>\n",
       "    <tr>\n",
       "      <th>4</th>\n",
       "      <td>MNIST</td>\n",
       "      <td>1.000000</td>\n",
       "      <td>0.000081</td>\n",
       "      <td>0.9845</td>\n",
       "      <td>0.097756</td>\n",
       "      <td>0.337609</td>\n",
       "      <td>2.462010</td>\n",
       "      <td>320</td>\n",
       "      <td>0.332344</td>\n",
       "      <td>1.000000</td>\n",
       "      <td>0.002243</td>\n",
       "      <td>2.347679</td>\n",
       "      <td>False</td>\n",
       "      <td>0.335694</td>\n",
       "      <td>0.875389</td>\n",
       "      <td>0.001318</td>\n",
       "      <td>1.452518</td>\n",
       "      <td>False</td>\n",
       "      <td>0.450070</td>\n",
       "    </tr>\n",
       "    <tr>\n",
       "      <th>5</th>\n",
       "      <td>MNIST</td>\n",
       "      <td>1.000000</td>\n",
       "      <td>0.000048</td>\n",
       "      <td>0.9835</td>\n",
       "      <td>0.095626</td>\n",
       "      <td>0.331404</td>\n",
       "      <td>2.517462</td>\n",
       "      <td>320</td>\n",
       "      <td>0.331395</td>\n",
       "      <td>0.408100</td>\n",
       "      <td>0.002754</td>\n",
       "      <td>0.003563</td>\n",
       "      <td>False</td>\n",
       "      <td>0.328806</td>\n",
       "      <td>1.000000</td>\n",
       "      <td>0.000848</td>\n",
       "      <td>3.063931</td>\n",
       "      <td>False</td>\n",
       "      <td>0.531824</td>\n",
       "    </tr>\n",
       "    <tr>\n",
       "      <th>6</th>\n",
       "      <td>MNIST</td>\n",
       "      <td>1.000000</td>\n",
       "      <td>0.000056</td>\n",
       "      <td>0.9838</td>\n",
       "      <td>0.087238</td>\n",
       "      <td>0.335151</td>\n",
       "      <td>2.483726</td>\n",
       "      <td>320</td>\n",
       "      <td>0.330888</td>\n",
       "      <td>0.968847</td>\n",
       "      <td>0.002116</td>\n",
       "      <td>2.014740</td>\n",
       "      <td>False</td>\n",
       "      <td>0.333080</td>\n",
       "      <td>1.000000</td>\n",
       "      <td>0.001018</td>\n",
       "      <td>2.033987</td>\n",
       "      <td>False</td>\n",
       "      <td>0.495887</td>\n",
       "    </tr>\n",
       "    <tr>\n",
       "      <th>7</th>\n",
       "      <td>MNIST</td>\n",
       "      <td>1.000000</td>\n",
       "      <td>0.000061</td>\n",
       "      <td>0.9838</td>\n",
       "      <td>0.100444</td>\n",
       "      <td>0.332732</td>\n",
       "      <td>2.505426</td>\n",
       "      <td>320</td>\n",
       "      <td>0.332105</td>\n",
       "      <td>0.626168</td>\n",
       "      <td>0.001924</td>\n",
       "      <td>0.325583</td>\n",
       "      <td>False</td>\n",
       "      <td>0.333334</td>\n",
       "      <td>0.221184</td>\n",
       "      <td>0.000755</td>\n",
       "      <td>-0.797120</td>\n",
       "      <td>False</td>\n",
       "      <td>0.554175</td>\n",
       "    </tr>\n",
       "    <tr>\n",
       "      <th>8</th>\n",
       "      <td>MNIST</td>\n",
       "      <td>1.000000</td>\n",
       "      <td>0.000047</td>\n",
       "      <td>0.9828</td>\n",
       "      <td>0.093142</td>\n",
       "      <td>0.331260</td>\n",
       "      <td>2.518777</td>\n",
       "      <td>320</td>\n",
       "      <td>0.330194</td>\n",
       "      <td>0.657321</td>\n",
       "      <td>0.001992</td>\n",
       "      <td>0.535228</td>\n",
       "      <td>False</td>\n",
       "      <td>0.329284</td>\n",
       "      <td>0.937695</td>\n",
       "      <td>0.001082</td>\n",
       "      <td>1.826329</td>\n",
       "      <td>False</td>\n",
       "      <td>0.485221</td>\n",
       "    </tr>\n",
       "    <tr>\n",
       "      <th>9</th>\n",
       "      <td>MNIST</td>\n",
       "      <td>1.000000</td>\n",
       "      <td>0.000049</td>\n",
       "      <td>0.9833</td>\n",
       "      <td>0.102283</td>\n",
       "      <td>0.337271</td>\n",
       "      <td>2.464977</td>\n",
       "      <td>320</td>\n",
       "      <td>0.330002</td>\n",
       "      <td>0.968847</td>\n",
       "      <td>0.002464</td>\n",
       "      <td>2.949653</td>\n",
       "      <td>False</td>\n",
       "      <td>0.335770</td>\n",
       "      <td>0.844237</td>\n",
       "      <td>0.001393</td>\n",
       "      <td>1.077225</td>\n",
       "      <td>False</td>\n",
       "      <td>0.436860</td>\n",
       "    </tr>\n",
       "    <tr>\n",
       "      <th>10</th>\n",
       "      <td>CIFAR10</td>\n",
       "      <td>0.647020</td>\n",
       "      <td>0.982019</td>\n",
       "      <td>0.4164</td>\n",
       "      <td>2.009407</td>\n",
       "      <td>0.314240</td>\n",
       "      <td>2.682276</td>\n",
       "      <td>320</td>\n",
       "      <td>0.318902</td>\n",
       "      <td>0.003115</td>\n",
       "      <td>0.001191</td>\n",
       "      <td>-3.913489</td>\n",
       "      <td>True</td>\n",
       "      <td>0.307621</td>\n",
       "      <td>1.000000</td>\n",
       "      <td>0.000827</td>\n",
       "      <td>8.000536</td>\n",
       "      <td>False</td>\n",
       "      <td>0.528301</td>\n",
       "    </tr>\n",
       "    <tr>\n",
       "      <th>11</th>\n",
       "      <td>CIFAR10</td>\n",
       "      <td>0.655260</td>\n",
       "      <td>0.968012</td>\n",
       "      <td>0.4196</td>\n",
       "      <td>2.009614</td>\n",
       "      <td>0.312869</td>\n",
       "      <td>2.696229</td>\n",
       "      <td>320</td>\n",
       "      <td>0.317546</td>\n",
       "      <td>0.003115</td>\n",
       "      <td>0.000927</td>\n",
       "      <td>-5.045120</td>\n",
       "      <td>True</td>\n",
       "      <td>0.306037</td>\n",
       "      <td>1.000000</td>\n",
       "      <td>0.000568</td>\n",
       "      <td>12.026482</td>\n",
       "      <td>False</td>\n",
       "      <td>0.601401</td>\n",
       "    </tr>\n",
       "    <tr>\n",
       "      <th>12</th>\n",
       "      <td>CIFAR10</td>\n",
       "      <td>0.645800</td>\n",
       "      <td>0.993128</td>\n",
       "      <td>0.4085</td>\n",
       "      <td>2.026656</td>\n",
       "      <td>0.294478</td>\n",
       "      <td>2.895837</td>\n",
       "      <td>320</td>\n",
       "      <td>0.305161</td>\n",
       "      <td>0.003115</td>\n",
       "      <td>0.001078</td>\n",
       "      <td>-9.913187</td>\n",
       "      <td>True</td>\n",
       "      <td>0.279232</td>\n",
       "      <td>1.000000</td>\n",
       "      <td>0.000820</td>\n",
       "      <td>18.597838</td>\n",
       "      <td>False</td>\n",
       "      <td>0.519631</td>\n",
       "    </tr>\n",
       "    <tr>\n",
       "      <th>13</th>\n",
       "      <td>CIFAR10</td>\n",
       "      <td>0.645580</td>\n",
       "      <td>0.992089</td>\n",
       "      <td>0.4107</td>\n",
       "      <td>2.004410</td>\n",
       "      <td>0.300670</td>\n",
       "      <td>2.825904</td>\n",
       "      <td>320</td>\n",
       "      <td>0.309404</td>\n",
       "      <td>0.003115</td>\n",
       "      <td>0.001148</td>\n",
       "      <td>-7.605136</td>\n",
       "      <td>True</td>\n",
       "      <td>0.289069</td>\n",
       "      <td>1.000000</td>\n",
       "      <td>0.000571</td>\n",
       "      <td>20.314053</td>\n",
       "      <td>False</td>\n",
       "      <td>0.595461</td>\n",
       "    </tr>\n",
       "    <tr>\n",
       "      <th>14</th>\n",
       "      <td>CIFAR10</td>\n",
       "      <td>0.654440</td>\n",
       "      <td>0.964225</td>\n",
       "      <td>0.4239</td>\n",
       "      <td>1.981631</td>\n",
       "      <td>0.315640</td>\n",
       "      <td>2.668166</td>\n",
       "      <td>320</td>\n",
       "      <td>0.319390</td>\n",
       "      <td>0.003115</td>\n",
       "      <td>0.001487</td>\n",
       "      <td>-2.521704</td>\n",
       "      <td>True</td>\n",
       "      <td>0.308754</td>\n",
       "      <td>1.000000</td>\n",
       "      <td>0.000550</td>\n",
       "      <td>12.515774</td>\n",
       "      <td>False</td>\n",
       "      <td>0.608323</td>\n",
       "    </tr>\n",
       "    <tr>\n",
       "      <th>15</th>\n",
       "      <td>CIFAR10</td>\n",
       "      <td>0.652180</td>\n",
       "      <td>0.973041</td>\n",
       "      <td>0.4111</td>\n",
       "      <td>2.053139</td>\n",
       "      <td>0.295704</td>\n",
       "      <td>2.881764</td>\n",
       "      <td>320</td>\n",
       "      <td>0.306315</td>\n",
       "      <td>0.003115</td>\n",
       "      <td>0.001314</td>\n",
       "      <td>-8.075259</td>\n",
       "      <td>True</td>\n",
       "      <td>0.282069</td>\n",
       "      <td>1.000000</td>\n",
       "      <td>0.000498</td>\n",
       "      <td>27.406171</td>\n",
       "      <td>False</td>\n",
       "      <td>0.622231</td>\n",
       "    </tr>\n",
       "    <tr>\n",
       "      <th>16</th>\n",
       "      <td>CIFAR10</td>\n",
       "      <td>0.644540</td>\n",
       "      <td>0.994267</td>\n",
       "      <td>0.4178</td>\n",
       "      <td>1.984371</td>\n",
       "      <td>0.301966</td>\n",
       "      <td>2.811629</td>\n",
       "      <td>320</td>\n",
       "      <td>0.309832</td>\n",
       "      <td>0.003115</td>\n",
       "      <td>0.001275</td>\n",
       "      <td>-6.167629</td>\n",
       "      <td>True</td>\n",
       "      <td>0.291154</td>\n",
       "      <td>1.000000</td>\n",
       "      <td>0.000785</td>\n",
       "      <td>13.780119</td>\n",
       "      <td>False</td>\n",
       "      <td>0.530771</td>\n",
       "    </tr>\n",
       "    <tr>\n",
       "      <th>17</th>\n",
       "      <td>CIFAR10</td>\n",
       "      <td>0.651840</td>\n",
       "      <td>0.974107</td>\n",
       "      <td>0.4177</td>\n",
       "      <td>1.981042</td>\n",
       "      <td>0.314059</td>\n",
       "      <td>2.684117</td>\n",
       "      <td>320</td>\n",
       "      <td>0.316932</td>\n",
       "      <td>0.003115</td>\n",
       "      <td>0.001395</td>\n",
       "      <td>-2.059393</td>\n",
       "      <td>True</td>\n",
       "      <td>0.307393</td>\n",
       "      <td>1.000000</td>\n",
       "      <td>0.000339</td>\n",
       "      <td>19.670614</td>\n",
       "      <td>False</td>\n",
       "      <td>0.698247</td>\n",
       "    </tr>\n",
       "    <tr>\n",
       "      <th>18</th>\n",
       "      <td>CIFAR10</td>\n",
       "      <td>0.643280</td>\n",
       "      <td>0.998221</td>\n",
       "      <td>0.4150</td>\n",
       "      <td>2.007964</td>\n",
       "      <td>0.295675</td>\n",
       "      <td>2.882088</td>\n",
       "      <td>320</td>\n",
       "      <td>0.305491</td>\n",
       "      <td>0.003115</td>\n",
       "      <td>0.001093</td>\n",
       "      <td>-8.983393</td>\n",
       "      <td>True</td>\n",
       "      <td>0.281685</td>\n",
       "      <td>1.000000</td>\n",
       "      <td>0.000576</td>\n",
       "      <td>24.280213</td>\n",
       "      <td>False</td>\n",
       "      <td>0.590887</td>\n",
       "    </tr>\n",
       "    <tr>\n",
       "      <th>19</th>\n",
       "      <td>CIFAR10</td>\n",
       "      <td>0.660940</td>\n",
       "      <td>0.956555</td>\n",
       "      <td>0.4116</td>\n",
       "      <td>2.029548</td>\n",
       "      <td>0.318317</td>\n",
       "      <td>2.641524</td>\n",
       "      <td>320</td>\n",
       "      <td>0.319333</td>\n",
       "      <td>0.252336</td>\n",
       "      <td>0.001479</td>\n",
       "      <td>-0.686863</td>\n",
       "      <td>False</td>\n",
       "      <td>0.313939</td>\n",
       "      <td>1.000000</td>\n",
       "      <td>0.000275</td>\n",
       "      <td>15.910679</td>\n",
       "      <td>False</td>\n",
       "      <td>0.733493</td>\n",
       "    </tr>\n",
       "    <tr>\n",
       "      <th>20</th>\n",
       "      <td>FASHION</td>\n",
       "      <td>0.982533</td>\n",
       "      <td>0.049309</td>\n",
       "      <td>0.8937</td>\n",
       "      <td>0.532207</td>\n",
       "      <td>0.319982</td>\n",
       "      <td>2.625177</td>\n",
       "      <td>320</td>\n",
       "      <td>0.313300</td>\n",
       "      <td>1.000000</td>\n",
       "      <td>0.002137</td>\n",
       "      <td>3.126423</td>\n",
       "      <td>False</td>\n",
       "      <td>0.316795</td>\n",
       "      <td>1.000000</td>\n",
       "      <td>0.001020</td>\n",
       "      <td>3.125606</td>\n",
       "      <td>False</td>\n",
       "      <td>0.474879</td>\n",
       "    </tr>\n",
       "    <tr>\n",
       "      <th>21</th>\n",
       "      <td>FASHION</td>\n",
       "      <td>0.982217</td>\n",
       "      <td>0.049195</td>\n",
       "      <td>0.8939</td>\n",
       "      <td>0.526313</td>\n",
       "      <td>0.322536</td>\n",
       "      <td>2.600431</td>\n",
       "      <td>320</td>\n",
       "      <td>0.314453</td>\n",
       "      <td>1.000000</td>\n",
       "      <td>0.002137</td>\n",
       "      <td>3.781497</td>\n",
       "      <td>False</td>\n",
       "      <td>0.320147</td>\n",
       "      <td>1.000000</td>\n",
       "      <td>0.000957</td>\n",
       "      <td>2.496662</td>\n",
       "      <td>False</td>\n",
       "      <td>0.487047</td>\n",
       "    </tr>\n",
       "    <tr>\n",
       "      <th>22</th>\n",
       "      <td>FASHION</td>\n",
       "      <td>0.982300</td>\n",
       "      <td>0.047581</td>\n",
       "      <td>0.8911</td>\n",
       "      <td>0.595367</td>\n",
       "      <td>0.319935</td>\n",
       "      <td>2.625632</td>\n",
       "      <td>320</td>\n",
       "      <td>0.312601</td>\n",
       "      <td>1.000000</td>\n",
       "      <td>0.002449</td>\n",
       "      <td>2.994576</td>\n",
       "      <td>False</td>\n",
       "      <td>0.318276</td>\n",
       "      <td>1.000000</td>\n",
       "      <td>0.001094</td>\n",
       "      <td>1.516540</td>\n",
       "      <td>False</td>\n",
       "      <td>0.460221</td>\n",
       "    </tr>\n",
       "    <tr>\n",
       "      <th>23</th>\n",
       "      <td>FASHION</td>\n",
       "      <td>0.983350</td>\n",
       "      <td>0.046463</td>\n",
       "      <td>0.8949</td>\n",
       "      <td>0.575908</td>\n",
       "      <td>0.316542</td>\n",
       "      <td>2.659143</td>\n",
       "      <td>320</td>\n",
       "      <td>0.310822</td>\n",
       "      <td>1.000000</td>\n",
       "      <td>0.001663</td>\n",
       "      <td>3.439737</td>\n",
       "      <td>False</td>\n",
       "      <td>0.315184</td>\n",
       "      <td>0.968847</td>\n",
       "      <td>0.000693</td>\n",
       "      <td>1.959192</td>\n",
       "      <td>False</td>\n",
       "      <td>0.543956</td>\n",
       "    </tr>\n",
       "    <tr>\n",
       "      <th>24</th>\n",
       "      <td>FASHION</td>\n",
       "      <td>0.982533</td>\n",
       "      <td>0.048930</td>\n",
       "      <td>0.8909</td>\n",
       "      <td>0.551969</td>\n",
       "      <td>0.323342</td>\n",
       "      <td>2.592701</td>\n",
       "      <td>320</td>\n",
       "      <td>0.314672</td>\n",
       "      <td>1.000000</td>\n",
       "      <td>0.002347</td>\n",
       "      <td>3.693438</td>\n",
       "      <td>False</td>\n",
       "      <td>0.321276</td>\n",
       "      <td>0.968847</td>\n",
       "      <td>0.000971</td>\n",
       "      <td>2.126911</td>\n",
       "      <td>False</td>\n",
       "      <td>0.483876</td>\n",
       "    </tr>\n",
       "    <tr>\n",
       "      <th>25</th>\n",
       "      <td>FASHION</td>\n",
       "      <td>0.983767</td>\n",
       "      <td>0.045901</td>\n",
       "      <td>0.8976</td>\n",
       "      <td>0.545859</td>\n",
       "      <td>0.319973</td>\n",
       "      <td>2.625266</td>\n",
       "      <td>320</td>\n",
       "      <td>0.311264</td>\n",
       "      <td>1.000000</td>\n",
       "      <td>0.002033</td>\n",
       "      <td>4.284387</td>\n",
       "      <td>False</td>\n",
       "      <td>0.317435</td>\n",
       "      <td>1.000000</td>\n",
       "      <td>0.001110</td>\n",
       "      <td>2.285104</td>\n",
       "      <td>False</td>\n",
       "      <td>0.456452</td>\n",
       "    </tr>\n",
       "    <tr>\n",
       "      <th>26</th>\n",
       "      <td>FASHION</td>\n",
       "      <td>0.982167</td>\n",
       "      <td>0.049422</td>\n",
       "      <td>0.8916</td>\n",
       "      <td>0.564790</td>\n",
       "      <td>0.316521</td>\n",
       "      <td>2.659348</td>\n",
       "      <td>320</td>\n",
       "      <td>0.311190</td>\n",
       "      <td>1.000000</td>\n",
       "      <td>0.002662</td>\n",
       "      <td>2.002686</td>\n",
       "      <td>False</td>\n",
       "      <td>0.315356</td>\n",
       "      <td>0.875389</td>\n",
       "      <td>0.000908</td>\n",
       "      <td>1.282501</td>\n",
       "      <td>False</td>\n",
       "      <td>0.492430</td>\n",
       "    </tr>\n",
       "    <tr>\n",
       "      <th>27</th>\n",
       "      <td>FASHION</td>\n",
       "      <td>0.982600</td>\n",
       "      <td>0.049156</td>\n",
       "      <td>0.8944</td>\n",
       "      <td>0.546913</td>\n",
       "      <td>0.314293</td>\n",
       "      <td>2.681747</td>\n",
       "      <td>320</td>\n",
       "      <td>0.310325</td>\n",
       "      <td>0.968847</td>\n",
       "      <td>0.002015</td>\n",
       "      <td>1.969105</td>\n",
       "      <td>False</td>\n",
       "      <td>0.314338</td>\n",
       "      <td>0.439252</td>\n",
       "      <td>0.000692</td>\n",
       "      <td>-0.064706</td>\n",
       "      <td>False</td>\n",
       "      <td>0.543123</td>\n",
       "    </tr>\n",
       "    <tr>\n",
       "      <th>28</th>\n",
       "      <td>FASHION</td>\n",
       "      <td>0.982267</td>\n",
       "      <td>0.049309</td>\n",
       "      <td>0.8942</td>\n",
       "      <td>0.554626</td>\n",
       "      <td>0.316773</td>\n",
       "      <td>2.656831</td>\n",
       "      <td>320</td>\n",
       "      <td>0.312153</td>\n",
       "      <td>0.968847</td>\n",
       "      <td>0.002309</td>\n",
       "      <td>2.000491</td>\n",
       "      <td>False</td>\n",
       "      <td>0.315816</td>\n",
       "      <td>0.844237</td>\n",
       "      <td>0.000767</td>\n",
       "      <td>1.247637</td>\n",
       "      <td>False</td>\n",
       "      <td>0.525642</td>\n",
       "    </tr>\n",
       "    <tr>\n",
       "      <th>29</th>\n",
       "      <td>FASHION</td>\n",
       "      <td>0.982567</td>\n",
       "      <td>0.048766</td>\n",
       "      <td>0.8921</td>\n",
       "      <td>0.539734</td>\n",
       "      <td>0.324311</td>\n",
       "      <td>2.583462</td>\n",
       "      <td>320</td>\n",
       "      <td>0.315137</td>\n",
       "      <td>1.000000</td>\n",
       "      <td>0.002103</td>\n",
       "      <td>4.361388</td>\n",
       "      <td>False</td>\n",
       "      <td>0.322208</td>\n",
       "      <td>1.000000</td>\n",
       "      <td>0.001044</td>\n",
       "      <td>2.013634</td>\n",
       "      <td>False</td>\n",
       "      <td>0.471527</td>\n",
       "    </tr>\n",
       "    <tr>\n",
       "      <th>30</th>\n",
       "      <td>MNIST+DROPOUT</td>\n",
       "      <td>0.967817</td>\n",
       "      <td>0.120144</td>\n",
       "      <td>0.9796</td>\n",
       "      <td>0.084581</td>\n",
       "      <td>0.332111</td>\n",
       "      <td>2.511043</td>\n",
       "      <td>320</td>\n",
       "      <td>0.323871</td>\n",
       "      <td>1.000000</td>\n",
       "      <td>0.001831</td>\n",
       "      <td>4.500197</td>\n",
       "      <td>False</td>\n",
       "      <td>0.329616</td>\n",
       "      <td>1.000000</td>\n",
       "      <td>0.001238</td>\n",
       "      <td>2.015573</td>\n",
       "      <td>False</td>\n",
       "      <td>0.451874</td>\n",
       "    </tr>\n",
       "    <tr>\n",
       "      <th>31</th>\n",
       "      <td>MNIST+DROPOUT</td>\n",
       "      <td>0.965267</td>\n",
       "      <td>0.127326</td>\n",
       "      <td>0.9802</td>\n",
       "      <td>0.083526</td>\n",
       "      <td>0.332924</td>\n",
       "      <td>2.503693</td>\n",
       "      <td>320</td>\n",
       "      <td>0.323296</td>\n",
       "      <td>1.000000</td>\n",
       "      <td>0.002229</td>\n",
       "      <td>4.319884</td>\n",
       "      <td>False</td>\n",
       "      <td>0.329981</td>\n",
       "      <td>1.000000</td>\n",
       "      <td>0.001142</td>\n",
       "      <td>2.578000</td>\n",
       "      <td>False</td>\n",
       "      <td>0.464801</td>\n",
       "    </tr>\n",
       "    <tr>\n",
       "      <th>32</th>\n",
       "      <td>MNIST+DROPOUT</td>\n",
       "      <td>0.966667</td>\n",
       "      <td>0.123364</td>\n",
       "      <td>0.9789</td>\n",
       "      <td>0.081798</td>\n",
       "      <td>0.330929</td>\n",
       "      <td>2.521799</td>\n",
       "      <td>320</td>\n",
       "      <td>0.324427</td>\n",
       "      <td>1.000000</td>\n",
       "      <td>0.002623</td>\n",
       "      <td>2.478314</td>\n",
       "      <td>False</td>\n",
       "      <td>0.328824</td>\n",
       "      <td>1.000000</td>\n",
       "      <td>0.000818</td>\n",
       "      <td>2.571129</td>\n",
       "      <td>False</td>\n",
       "      <td>0.527369</td>\n",
       "    </tr>\n",
       "    <tr>\n",
       "      <th>33</th>\n",
       "      <td>MNIST+DROPOUT</td>\n",
       "      <td>0.967167</td>\n",
       "      <td>0.125616</td>\n",
       "      <td>0.9800</td>\n",
       "      <td>0.081888</td>\n",
       "      <td>0.330114</td>\n",
       "      <td>2.529259</td>\n",
       "      <td>320</td>\n",
       "      <td>0.323235</td>\n",
       "      <td>1.000000</td>\n",
       "      <td>0.002698</td>\n",
       "      <td>2.549442</td>\n",
       "      <td>False</td>\n",
       "      <td>0.329767</td>\n",
       "      <td>0.563863</td>\n",
       "      <td>0.001655</td>\n",
       "      <td>0.209506</td>\n",
       "      <td>False</td>\n",
       "      <td>0.399889</td>\n",
       "    </tr>\n",
       "    <tr>\n",
       "      <th>34</th>\n",
       "      <td>MNIST+DROPOUT</td>\n",
       "      <td>0.966133</td>\n",
       "      <td>0.127377</td>\n",
       "      <td>0.9793</td>\n",
       "      <td>0.084823</td>\n",
       "      <td>0.333830</td>\n",
       "      <td>2.495538</td>\n",
       "      <td>320</td>\n",
       "      <td>0.322823</td>\n",
       "      <td>1.000000</td>\n",
       "      <td>0.002720</td>\n",
       "      <td>4.046283</td>\n",
       "      <td>False</td>\n",
       "      <td>0.332661</td>\n",
       "      <td>0.875389</td>\n",
       "      <td>0.001147</td>\n",
       "      <td>1.019206</td>\n",
       "      <td>False</td>\n",
       "      <td>0.461688</td>\n",
       "    </tr>\n",
       "    <tr>\n",
       "      <th>35</th>\n",
       "      <td>MNIST+DROPOUT</td>\n",
       "      <td>0.965633</td>\n",
       "      <td>0.123383</td>\n",
       "      <td>0.9782</td>\n",
       "      <td>0.086029</td>\n",
       "      <td>0.330967</td>\n",
       "      <td>2.521447</td>\n",
       "      <td>320</td>\n",
       "      <td>0.321219</td>\n",
       "      <td>1.000000</td>\n",
       "      <td>0.002444</td>\n",
       "      <td>3.988152</td>\n",
       "      <td>False</td>\n",
       "      <td>0.329162</td>\n",
       "      <td>0.875389</td>\n",
       "      <td>0.001522</td>\n",
       "      <td>1.186624</td>\n",
       "      <td>False</td>\n",
       "      <td>0.411878</td>\n",
       "    </tr>\n",
       "    <tr>\n",
       "      <th>36</th>\n",
       "      <td>MNIST+DROPOUT</td>\n",
       "      <td>0.966617</td>\n",
       "      <td>0.125282</td>\n",
       "      <td>0.9790</td>\n",
       "      <td>0.083403</td>\n",
       "      <td>0.331467</td>\n",
       "      <td>2.516889</td>\n",
       "      <td>320</td>\n",
       "      <td>0.321774</td>\n",
       "      <td>1.000000</td>\n",
       "      <td>0.002243</td>\n",
       "      <td>4.322058</td>\n",
       "      <td>False</td>\n",
       "      <td>0.330550</td>\n",
       "      <td>0.719626</td>\n",
       "      <td>0.001402</td>\n",
       "      <td>0.654053</td>\n",
       "      <td>False</td>\n",
       "      <td>0.426461</td>\n",
       "    </tr>\n",
       "    <tr>\n",
       "      <th>37</th>\n",
       "      <td>MNIST+DROPOUT</td>\n",
       "      <td>0.967667</td>\n",
       "      <td>0.122877</td>\n",
       "      <td>0.9808</td>\n",
       "      <td>0.082423</td>\n",
       "      <td>0.334031</td>\n",
       "      <td>2.493732</td>\n",
       "      <td>320</td>\n",
       "      <td>0.322710</td>\n",
       "      <td>1.000000</td>\n",
       "      <td>0.002649</td>\n",
       "      <td>4.273280</td>\n",
       "      <td>False</td>\n",
       "      <td>0.332531</td>\n",
       "      <td>0.875389</td>\n",
       "      <td>0.001259</td>\n",
       "      <td>1.191548</td>\n",
       "      <td>False</td>\n",
       "      <td>0.445237</td>\n",
       "    </tr>\n",
       "    <tr>\n",
       "      <th>38</th>\n",
       "      <td>MNIST+DROPOUT</td>\n",
       "      <td>0.967450</td>\n",
       "      <td>0.122427</td>\n",
       "      <td>0.9793</td>\n",
       "      <td>0.082078</td>\n",
       "      <td>0.336755</td>\n",
       "      <td>2.469515</td>\n",
       "      <td>320</td>\n",
       "      <td>0.324554</td>\n",
       "      <td>1.000000</td>\n",
       "      <td>0.002625</td>\n",
       "      <td>4.648461</td>\n",
       "      <td>False</td>\n",
       "      <td>0.334387</td>\n",
       "      <td>1.000000</td>\n",
       "      <td>0.001205</td>\n",
       "      <td>1.965079</td>\n",
       "      <td>False</td>\n",
       "      <td>0.455028</td>\n",
       "    </tr>\n",
       "    <tr>\n",
       "      <th>39</th>\n",
       "      <td>MNIST+DROPOUT</td>\n",
       "      <td>0.967467</td>\n",
       "      <td>0.123260</td>\n",
       "      <td>0.9787</td>\n",
       "      <td>0.084267</td>\n",
       "      <td>0.331310</td>\n",
       "      <td>2.518324</td>\n",
       "      <td>320</td>\n",
       "      <td>0.322423</td>\n",
       "      <td>1.000000</td>\n",
       "      <td>0.002245</td>\n",
       "      <td>3.959418</td>\n",
       "      <td>False</td>\n",
       "      <td>0.329684</td>\n",
       "      <td>0.906542</td>\n",
       "      <td>0.001231</td>\n",
       "      <td>1.320042</td>\n",
       "      <td>False</td>\n",
       "      <td>0.450181</td>\n",
       "    </tr>\n",
       "    <tr>\n",
       "      <th>40</th>\n",
       "      <td>CIFAR10+DROPOUT</td>\n",
       "      <td>0.425220</td>\n",
       "      <td>1.612513</td>\n",
       "      <td>0.4201</td>\n",
       "      <td>1.628318</td>\n",
       "      <td>0.284230</td>\n",
       "      <td>3.018274</td>\n",
       "      <td>320</td>\n",
       "      <td>0.304616</td>\n",
       "      <td>0.003115</td>\n",
       "      <td>0.001111</td>\n",
       "      <td>-18.356509</td>\n",
       "      <td>True</td>\n",
       "      <td>0.247566</td>\n",
       "      <td>1.000000</td>\n",
       "      <td>0.001314</td>\n",
       "      <td>27.906729</td>\n",
       "      <td>False</td>\n",
       "      <td>0.435927</td>\n",
       "    </tr>\n",
       "    <tr>\n",
       "      <th>41</th>\n",
       "      <td>CIFAR10+DROPOUT</td>\n",
       "      <td>0.427100</td>\n",
       "      <td>1.602159</td>\n",
       "      <td>0.4216</td>\n",
       "      <td>1.628530</td>\n",
       "      <td>0.297271</td>\n",
       "      <td>2.863929</td>\n",
       "      <td>320</td>\n",
       "      <td>0.313434</td>\n",
       "      <td>0.003115</td>\n",
       "      <td>0.001076</td>\n",
       "      <td>-15.014631</td>\n",
       "      <td>True</td>\n",
       "      <td>0.267771</td>\n",
       "      <td>1.000000</td>\n",
       "      <td>0.001073</td>\n",
       "      <td>27.498146</td>\n",
       "      <td>False</td>\n",
       "      <td>0.483358</td>\n",
       "    </tr>\n",
       "    <tr>\n",
       "      <th>42</th>\n",
       "      <td>CIFAR10+DROPOUT</td>\n",
       "      <td>0.427520</td>\n",
       "      <td>1.613026</td>\n",
       "      <td>0.4202</td>\n",
       "      <td>1.634889</td>\n",
       "      <td>0.283114</td>\n",
       "      <td>3.032145</td>\n",
       "      <td>320</td>\n",
       "      <td>0.304199</td>\n",
       "      <td>0.003115</td>\n",
       "      <td>0.000720</td>\n",
       "      <td>-29.287900</td>\n",
       "      <td>True</td>\n",
       "      <td>0.245649</td>\n",
       "      <td>1.000000</td>\n",
       "      <td>0.001004</td>\n",
       "      <td>37.318045</td>\n",
       "      <td>False</td>\n",
       "      <td>0.489734</td>\n",
       "    </tr>\n",
       "    <tr>\n",
       "      <th>43</th>\n",
       "      <td>CIFAR10+DROPOUT</td>\n",
       "      <td>0.436320</td>\n",
       "      <td>1.593016</td>\n",
       "      <td>0.4317</td>\n",
       "      <td>1.603236</td>\n",
       "      <td>0.297564</td>\n",
       "      <td>2.860626</td>\n",
       "      <td>320</td>\n",
       "      <td>0.314577</td>\n",
       "      <td>0.003115</td>\n",
       "      <td>0.001075</td>\n",
       "      <td>-15.821443</td>\n",
       "      <td>True</td>\n",
       "      <td>0.266342</td>\n",
       "      <td>1.000000</td>\n",
       "      <td>0.001025</td>\n",
       "      <td>30.470550</td>\n",
       "      <td>False</td>\n",
       "      <td>0.494865</td>\n",
       "    </tr>\n",
       "    <tr>\n",
       "      <th>44</th>\n",
       "      <td>CIFAR10+DROPOUT</td>\n",
       "      <td>0.427500</td>\n",
       "      <td>1.600558</td>\n",
       "      <td>0.4149</td>\n",
       "      <td>1.639029</td>\n",
       "      <td>0.288761</td>\n",
       "      <td>2.963076</td>\n",
       "      <td>320</td>\n",
       "      <td>0.308254</td>\n",
       "      <td>0.003115</td>\n",
       "      <td>0.000934</td>\n",
       "      <td>-20.871227</td>\n",
       "      <td>True</td>\n",
       "      <td>0.254974</td>\n",
       "      <td>1.000000</td>\n",
       "      <td>0.001227</td>\n",
       "      <td>27.541760</td>\n",
       "      <td>False</td>\n",
       "      <td>0.452899</td>\n",
       "    </tr>\n",
       "    <tr>\n",
       "      <th>45</th>\n",
       "      <td>CIFAR10+DROPOUT</td>\n",
       "      <td>0.420800</td>\n",
       "      <td>1.624310</td>\n",
       "      <td>0.4189</td>\n",
       "      <td>1.635075</td>\n",
       "      <td>0.277697</td>\n",
       "      <td>3.101043</td>\n",
       "      <td>320</td>\n",
       "      <td>0.301537</td>\n",
       "      <td>0.003115</td>\n",
       "      <td>0.000846</td>\n",
       "      <td>-28.190690</td>\n",
       "      <td>True</td>\n",
       "      <td>0.236933</td>\n",
       "      <td>1.000000</td>\n",
       "      <td>0.001089</td>\n",
       "      <td>37.428237</td>\n",
       "      <td>False</td>\n",
       "      <td>0.471213</td>\n",
       "    </tr>\n",
       "    <tr>\n",
       "      <th>46</th>\n",
       "      <td>CIFAR10+DROPOUT</td>\n",
       "      <td>0.437900</td>\n",
       "      <td>1.573070</td>\n",
       "      <td>0.4274</td>\n",
       "      <td>1.610751</td>\n",
       "      <td>0.327573</td>\n",
       "      <td>2.552757</td>\n",
       "      <td>320</td>\n",
       "      <td>0.329517</td>\n",
       "      <td>0.065421</td>\n",
       "      <td>0.001223</td>\n",
       "      <td>-1.589498</td>\n",
       "      <td>False</td>\n",
       "      <td>0.320496</td>\n",
       "      <td>1.000000</td>\n",
       "      <td>0.000673</td>\n",
       "      <td>10.508074</td>\n",
       "      <td>False</td>\n",
       "      <td>0.580151</td>\n",
       "    </tr>\n",
       "    <tr>\n",
       "      <th>47</th>\n",
       "      <td>CIFAR10+DROPOUT</td>\n",
       "      <td>0.420840</td>\n",
       "      <td>1.625915</td>\n",
       "      <td>0.4194</td>\n",
       "      <td>1.632398</td>\n",
       "      <td>0.280248</td>\n",
       "      <td>3.068264</td>\n",
       "      <td>320</td>\n",
       "      <td>0.303138</td>\n",
       "      <td>0.003115</td>\n",
       "      <td>0.000852</td>\n",
       "      <td>-26.857819</td>\n",
       "      <td>True</td>\n",
       "      <td>0.242465</td>\n",
       "      <td>1.000000</td>\n",
       "      <td>0.001103</td>\n",
       "      <td>34.256693</td>\n",
       "      <td>False</td>\n",
       "      <td>0.469625</td>\n",
       "    </tr>\n",
       "    <tr>\n",
       "      <th>48</th>\n",
       "      <td>CIFAR10+DROPOUT</td>\n",
       "      <td>0.420940</td>\n",
       "      <td>1.617852</td>\n",
       "      <td>0.4202</td>\n",
       "      <td>1.627297</td>\n",
       "      <td>0.278569</td>\n",
       "      <td>3.089778</td>\n",
       "      <td>320</td>\n",
       "      <td>0.301853</td>\n",
       "      <td>0.003115</td>\n",
       "      <td>0.000737</td>\n",
       "      <td>-31.590941</td>\n",
       "      <td>True</td>\n",
       "      <td>0.239931</td>\n",
       "      <td>1.000000</td>\n",
       "      <td>0.001345</td>\n",
       "      <td>28.729237</td>\n",
       "      <td>False</td>\n",
       "      <td>0.429727</td>\n",
       "    </tr>\n",
       "    <tr>\n",
       "      <th>49</th>\n",
       "      <td>CIFAR10+DROPOUT</td>\n",
       "      <td>0.426360</td>\n",
       "      <td>1.609047</td>\n",
       "      <td>0.4245</td>\n",
       "      <td>1.622804</td>\n",
       "      <td>0.283562</td>\n",
       "      <td>3.026572</td>\n",
       "      <td>320</td>\n",
       "      <td>0.303784</td>\n",
       "      <td>0.003115</td>\n",
       "      <td>0.000975</td>\n",
       "      <td>-20.739797</td>\n",
       "      <td>True</td>\n",
       "      <td>0.248103</td>\n",
       "      <td>1.000000</td>\n",
       "      <td>0.001228</td>\n",
       "      <td>28.881678</td>\n",
       "      <td>False</td>\n",
       "      <td>0.447795</td>\n",
       "    </tr>\n",
       "    <tr>\n",
       "      <th>50</th>\n",
       "      <td>FASHION+DROPOUT</td>\n",
       "      <td>0.863800</td>\n",
       "      <td>0.397653</td>\n",
       "      <td>0.8705</td>\n",
       "      <td>0.359481</td>\n",
       "      <td>0.305787</td>\n",
       "      <td>2.770248</td>\n",
       "      <td>320</td>\n",
       "      <td>0.309188</td>\n",
       "      <td>0.034268</td>\n",
       "      <td>0.001985</td>\n",
       "      <td>-1.713604</td>\n",
       "      <td>False</td>\n",
       "      <td>0.305805</td>\n",
       "      <td>0.595016</td>\n",
       "      <td>0.001124</td>\n",
       "      <td>-0.015840</td>\n",
       "      <td>False</td>\n",
       "      <td>0.454833</td>\n",
       "    </tr>\n",
       "    <tr>\n",
       "      <th>51</th>\n",
       "      <td>FASHION+DROPOUT</td>\n",
       "      <td>0.863817</td>\n",
       "      <td>0.390582</td>\n",
       "      <td>0.8725</td>\n",
       "      <td>0.348940</td>\n",
       "      <td>0.316285</td>\n",
       "      <td>2.661708</td>\n",
       "      <td>320</td>\n",
       "      <td>0.312109</td>\n",
       "      <td>1.000000</td>\n",
       "      <td>0.002299</td>\n",
       "      <td>1.816174</td>\n",
       "      <td>False</td>\n",
       "      <td>0.313190</td>\n",
       "      <td>1.000000</td>\n",
       "      <td>0.001196</td>\n",
       "      <td>2.588434</td>\n",
       "      <td>False</td>\n",
       "      <td>0.445431</td>\n",
       "    </tr>\n",
       "    <tr>\n",
       "      <th>52</th>\n",
       "      <td>FASHION+DROPOUT</td>\n",
       "      <td>0.862400</td>\n",
       "      <td>0.391380</td>\n",
       "      <td>0.8663</td>\n",
       "      <td>0.355787</td>\n",
       "      <td>0.310966</td>\n",
       "      <td>2.715788</td>\n",
       "      <td>320</td>\n",
       "      <td>0.312956</td>\n",
       "      <td>0.190031</td>\n",
       "      <td>0.001901</td>\n",
       "      <td>-1.046845</td>\n",
       "      <td>False</td>\n",
       "      <td>0.310485</td>\n",
       "      <td>0.626168</td>\n",
       "      <td>0.001357</td>\n",
       "      <td>0.354724</td>\n",
       "      <td>False</td>\n",
       "      <td>0.425709</td>\n",
       "    </tr>\n",
       "    <tr>\n",
       "      <th>53</th>\n",
       "      <td>FASHION+DROPOUT</td>\n",
       "      <td>0.865350</td>\n",
       "      <td>0.386754</td>\n",
       "      <td>0.8666</td>\n",
       "      <td>0.354577</td>\n",
       "      <td>0.310769</td>\n",
       "      <td>2.717828</td>\n",
       "      <td>320</td>\n",
       "      <td>0.312453</td>\n",
       "      <td>0.158879</td>\n",
       "      <td>0.001371</td>\n",
       "      <td>-1.228126</td>\n",
       "      <td>False</td>\n",
       "      <td>0.310521</td>\n",
       "      <td>0.626168</td>\n",
       "      <td>0.001186</td>\n",
       "      <td>0.208606</td>\n",
       "      <td>False</td>\n",
       "      <td>0.449481</td>\n",
       "    </tr>\n",
       "    <tr>\n",
       "      <th>54</th>\n",
       "      <td>FASHION+DROPOUT</td>\n",
       "      <td>0.863467</td>\n",
       "      <td>0.388820</td>\n",
       "      <td>0.8690</td>\n",
       "      <td>0.354417</td>\n",
       "      <td>0.312438</td>\n",
       "      <td>2.700631</td>\n",
       "      <td>320</td>\n",
       "      <td>0.312870</td>\n",
       "      <td>0.314642</td>\n",
       "      <td>0.001863</td>\n",
       "      <td>-0.231478</td>\n",
       "      <td>False</td>\n",
       "      <td>0.314115</td>\n",
       "      <td>0.065421</td>\n",
       "      <td>0.001218</td>\n",
       "      <td>-1.376054</td>\n",
       "      <td>False</td>\n",
       "      <td>0.443572</td>\n",
       "    </tr>\n",
       "    <tr>\n",
       "      <th>55</th>\n",
       "      <td>FASHION+DROPOUT</td>\n",
       "      <td>0.864467</td>\n",
       "      <td>0.392445</td>\n",
       "      <td>0.8709</td>\n",
       "      <td>0.354324</td>\n",
       "      <td>0.316284</td>\n",
       "      <td>2.661718</td>\n",
       "      <td>320</td>\n",
       "      <td>0.310492</td>\n",
       "      <td>1.000000</td>\n",
       "      <td>0.001787</td>\n",
       "      <td>3.241394</td>\n",
       "      <td>False</td>\n",
       "      <td>0.314471</td>\n",
       "      <td>1.000000</td>\n",
       "      <td>0.000604</td>\n",
       "      <td>3.001295</td>\n",
       "      <td>False</td>\n",
       "      <td>0.569320</td>\n",
       "    </tr>\n",
       "    <tr>\n",
       "      <th>56</th>\n",
       "      <td>FASHION+DROPOUT</td>\n",
       "      <td>0.861367</td>\n",
       "      <td>0.396722</td>\n",
       "      <td>0.8675</td>\n",
       "      <td>0.355441</td>\n",
       "      <td>0.311480</td>\n",
       "      <td>2.710474</td>\n",
       "      <td>320</td>\n",
       "      <td>0.313228</td>\n",
       "      <td>0.190031</td>\n",
       "      <td>0.001926</td>\n",
       "      <td>-0.907570</td>\n",
       "      <td>False</td>\n",
       "      <td>0.312750</td>\n",
       "      <td>0.065421</td>\n",
       "      <td>0.000816</td>\n",
       "      <td>-1.555982</td>\n",
       "      <td>False</td>\n",
       "      <td>0.517983</td>\n",
       "    </tr>\n",
       "    <tr>\n",
       "      <th>57</th>\n",
       "      <td>FASHION+DROPOUT</td>\n",
       "      <td>0.864950</td>\n",
       "      <td>0.390324</td>\n",
       "      <td>0.8703</td>\n",
       "      <td>0.353516</td>\n",
       "      <td>0.308273</td>\n",
       "      <td>2.743876</td>\n",
       "      <td>320</td>\n",
       "      <td>0.314006</td>\n",
       "      <td>0.034268</td>\n",
       "      <td>0.001926</td>\n",
       "      <td>-2.977186</td>\n",
       "      <td>False</td>\n",
       "      <td>0.309431</td>\n",
       "      <td>0.314642</td>\n",
       "      <td>0.001369</td>\n",
       "      <td>-0.845917</td>\n",
       "      <td>False</td>\n",
       "      <td>0.425839</td>\n",
       "    </tr>\n",
       "    <tr>\n",
       "      <th>58</th>\n",
       "      <td>FASHION+DROPOUT</td>\n",
       "      <td>0.860667</td>\n",
       "      <td>0.400913</td>\n",
       "      <td>0.8667</td>\n",
       "      <td>0.359971</td>\n",
       "      <td>0.310929</td>\n",
       "      <td>2.716167</td>\n",
       "      <td>320</td>\n",
       "      <td>0.311723</td>\n",
       "      <td>0.376947</td>\n",
       "      <td>0.002143</td>\n",
       "      <td>-0.370726</td>\n",
       "      <td>False</td>\n",
       "      <td>0.311208</td>\n",
       "      <td>0.408100</td>\n",
       "      <td>0.001115</td>\n",
       "      <td>-0.250302</td>\n",
       "      <td>False</td>\n",
       "      <td>0.458191</td>\n",
       "    </tr>\n",
       "    <tr>\n",
       "      <th>59</th>\n",
       "      <td>FASHION+DROPOUT</td>\n",
       "      <td>0.862400</td>\n",
       "      <td>0.396842</td>\n",
       "      <td>0.8718</td>\n",
       "      <td>0.354866</td>\n",
       "      <td>0.313459</td>\n",
       "      <td>2.690213</td>\n",
       "      <td>320</td>\n",
       "      <td>0.315753</td>\n",
       "      <td>0.127726</td>\n",
       "      <td>0.001757</td>\n",
       "      <td>-1.306103</td>\n",
       "      <td>False</td>\n",
       "      <td>0.314656</td>\n",
       "      <td>0.065421</td>\n",
       "      <td>0.000732</td>\n",
       "      <td>-1.636597</td>\n",
       "      <td>False</td>\n",
       "      <td>0.542282</td>\n",
       "    </tr>\n",
       "  </tbody>\n",
       "</table>\n",
       "</div>"
      ],
      "text/plain": [
       "              model  train_acc  train_loss  test_acc  test_loss      ncut  \\\n",
       "0             MNIST   1.000000    0.000048    0.9835   0.095332  0.329965   \n",
       "1             MNIST   1.000000    0.000056    0.9847   0.090697  0.330161   \n",
       "2             MNIST   1.000000    0.000059    0.9830   0.099833  0.333930   \n",
       "3             MNIST   1.000000    0.000062    0.9828   0.099546  0.331197   \n",
       "4             MNIST   1.000000    0.000081    0.9845   0.097756  0.337609   \n",
       "5             MNIST   1.000000    0.000048    0.9835   0.095626  0.331404   \n",
       "6             MNIST   1.000000    0.000056    0.9838   0.087238  0.335151   \n",
       "7             MNIST   1.000000    0.000061    0.9838   0.100444  0.332732   \n",
       "8             MNIST   1.000000    0.000047    0.9828   0.093142  0.331260   \n",
       "9             MNIST   1.000000    0.000049    0.9833   0.102283  0.337271   \n",
       "10          CIFAR10   0.647020    0.982019    0.4164   2.009407  0.314240   \n",
       "11          CIFAR10   0.655260    0.968012    0.4196   2.009614  0.312869   \n",
       "12          CIFAR10   0.645800    0.993128    0.4085   2.026656  0.294478   \n",
       "13          CIFAR10   0.645580    0.992089    0.4107   2.004410  0.300670   \n",
       "14          CIFAR10   0.654440    0.964225    0.4239   1.981631  0.315640   \n",
       "15          CIFAR10   0.652180    0.973041    0.4111   2.053139  0.295704   \n",
       "16          CIFAR10   0.644540    0.994267    0.4178   1.984371  0.301966   \n",
       "17          CIFAR10   0.651840    0.974107    0.4177   1.981042  0.314059   \n",
       "18          CIFAR10   0.643280    0.998221    0.4150   2.007964  0.295675   \n",
       "19          CIFAR10   0.660940    0.956555    0.4116   2.029548  0.318317   \n",
       "20          FASHION   0.982533    0.049309    0.8937   0.532207  0.319982   \n",
       "21          FASHION   0.982217    0.049195    0.8939   0.526313  0.322536   \n",
       "22          FASHION   0.982300    0.047581    0.8911   0.595367  0.319935   \n",
       "23          FASHION   0.983350    0.046463    0.8949   0.575908  0.316542   \n",
       "24          FASHION   0.982533    0.048930    0.8909   0.551969  0.323342   \n",
       "25          FASHION   0.983767    0.045901    0.8976   0.545859  0.319973   \n",
       "26          FASHION   0.982167    0.049422    0.8916   0.564790  0.316521   \n",
       "27          FASHION   0.982600    0.049156    0.8944   0.546913  0.314293   \n",
       "28          FASHION   0.982267    0.049309    0.8942   0.554626  0.316773   \n",
       "29          FASHION   0.982567    0.048766    0.8921   0.539734  0.324311   \n",
       "30    MNIST+DROPOUT   0.967817    0.120144    0.9796   0.084581  0.332111   \n",
       "31    MNIST+DROPOUT   0.965267    0.127326    0.9802   0.083526  0.332924   \n",
       "32    MNIST+DROPOUT   0.966667    0.123364    0.9789   0.081798  0.330929   \n",
       "33    MNIST+DROPOUT   0.967167    0.125616    0.9800   0.081888  0.330114   \n",
       "34    MNIST+DROPOUT   0.966133    0.127377    0.9793   0.084823  0.333830   \n",
       "35    MNIST+DROPOUT   0.965633    0.123383    0.9782   0.086029  0.330967   \n",
       "36    MNIST+DROPOUT   0.966617    0.125282    0.9790   0.083403  0.331467   \n",
       "37    MNIST+DROPOUT   0.967667    0.122877    0.9808   0.082423  0.334031   \n",
       "38    MNIST+DROPOUT   0.967450    0.122427    0.9793   0.082078  0.336755   \n",
       "39    MNIST+DROPOUT   0.967467    0.123260    0.9787   0.084267  0.331310   \n",
       "40  CIFAR10+DROPOUT   0.425220    1.612513    0.4201   1.628318  0.284230   \n",
       "41  CIFAR10+DROPOUT   0.427100    1.602159    0.4216   1.628530  0.297271   \n",
       "42  CIFAR10+DROPOUT   0.427520    1.613026    0.4202   1.634889  0.283114   \n",
       "43  CIFAR10+DROPOUT   0.436320    1.593016    0.4317   1.603236  0.297564   \n",
       "44  CIFAR10+DROPOUT   0.427500    1.600558    0.4149   1.639029  0.288761   \n",
       "45  CIFAR10+DROPOUT   0.420800    1.624310    0.4189   1.635075  0.277697   \n",
       "46  CIFAR10+DROPOUT   0.437900    1.573070    0.4274   1.610751  0.327573   \n",
       "47  CIFAR10+DROPOUT   0.420840    1.625915    0.4194   1.632398  0.280248   \n",
       "48  CIFAR10+DROPOUT   0.420940    1.617852    0.4202   1.627297  0.278569   \n",
       "49  CIFAR10+DROPOUT   0.426360    1.609047    0.4245   1.622804  0.283562   \n",
       "50  FASHION+DROPOUT   0.863800    0.397653    0.8705   0.359481  0.305787   \n",
       "51  FASHION+DROPOUT   0.863817    0.390582    0.8725   0.348940  0.316285   \n",
       "52  FASHION+DROPOUT   0.862400    0.391380    0.8663   0.355787  0.310966   \n",
       "53  FASHION+DROPOUT   0.865350    0.386754    0.8666   0.354577  0.310769   \n",
       "54  FASHION+DROPOUT   0.863467    0.388820    0.8690   0.354417  0.312438   \n",
       "55  FASHION+DROPOUT   0.864467    0.392445    0.8709   0.354324  0.316284   \n",
       "56  FASHION+DROPOUT   0.861367    0.396722    0.8675   0.355441  0.311480   \n",
       "57  FASHION+DROPOUT   0.864950    0.390324    0.8703   0.353516  0.308273   \n",
       "58  FASHION+DROPOUT   0.860667    0.400913    0.8667   0.359971  0.310929   \n",
       "59  FASHION+DROPOUT   0.862400    0.396842    0.8718   0.354866  0.313459   \n",
       "\n",
       "    ave_in_out  n_samples  mean_layer  percentile_layer  stdev_layer  \\\n",
       "0     2.530629        320    0.329872          0.563863     0.002359   \n",
       "1     2.528825        320    0.329599          0.563863     0.002051   \n",
       "2     2.494644        320    0.328610          0.968847     0.002429   \n",
       "3     2.519351        320    0.329903          0.626168     0.002327   \n",
       "4     2.462010        320    0.332344          1.000000     0.002243   \n",
       "5     2.517462        320    0.331395          0.408100     0.002754   \n",
       "6     2.483726        320    0.330888          0.968847     0.002116   \n",
       "7     2.505426        320    0.332105          0.626168     0.001924   \n",
       "8     2.518777        320    0.330194          0.657321     0.001992   \n",
       "9     2.464977        320    0.330002          0.968847     0.002464   \n",
       "10    2.682276        320    0.318902          0.003115     0.001191   \n",
       "11    2.696229        320    0.317546          0.003115     0.000927   \n",
       "12    2.895837        320    0.305161          0.003115     0.001078   \n",
       "13    2.825904        320    0.309404          0.003115     0.001148   \n",
       "14    2.668166        320    0.319390          0.003115     0.001487   \n",
       "15    2.881764        320    0.306315          0.003115     0.001314   \n",
       "16    2.811629        320    0.309832          0.003115     0.001275   \n",
       "17    2.684117        320    0.316932          0.003115     0.001395   \n",
       "18    2.882088        320    0.305491          0.003115     0.001093   \n",
       "19    2.641524        320    0.319333          0.252336     0.001479   \n",
       "20    2.625177        320    0.313300          1.000000     0.002137   \n",
       "21    2.600431        320    0.314453          1.000000     0.002137   \n",
       "22    2.625632        320    0.312601          1.000000     0.002449   \n",
       "23    2.659143        320    0.310822          1.000000     0.001663   \n",
       "24    2.592701        320    0.314672          1.000000     0.002347   \n",
       "25    2.625266        320    0.311264          1.000000     0.002033   \n",
       "26    2.659348        320    0.311190          1.000000     0.002662   \n",
       "27    2.681747        320    0.310325          0.968847     0.002015   \n",
       "28    2.656831        320    0.312153          0.968847     0.002309   \n",
       "29    2.583462        320    0.315137          1.000000     0.002103   \n",
       "30    2.511043        320    0.323871          1.000000     0.001831   \n",
       "31    2.503693        320    0.323296          1.000000     0.002229   \n",
       "32    2.521799        320    0.324427          1.000000     0.002623   \n",
       "33    2.529259        320    0.323235          1.000000     0.002698   \n",
       "34    2.495538        320    0.322823          1.000000     0.002720   \n",
       "35    2.521447        320    0.321219          1.000000     0.002444   \n",
       "36    2.516889        320    0.321774          1.000000     0.002243   \n",
       "37    2.493732        320    0.322710          1.000000     0.002649   \n",
       "38    2.469515        320    0.324554          1.000000     0.002625   \n",
       "39    2.518324        320    0.322423          1.000000     0.002245   \n",
       "40    3.018274        320    0.304616          0.003115     0.001111   \n",
       "41    2.863929        320    0.313434          0.003115     0.001076   \n",
       "42    3.032145        320    0.304199          0.003115     0.000720   \n",
       "43    2.860626        320    0.314577          0.003115     0.001075   \n",
       "44    2.963076        320    0.308254          0.003115     0.000934   \n",
       "45    3.101043        320    0.301537          0.003115     0.000846   \n",
       "46    2.552757        320    0.329517          0.065421     0.001223   \n",
       "47    3.068264        320    0.303138          0.003115     0.000852   \n",
       "48    3.089778        320    0.301853          0.003115     0.000737   \n",
       "49    3.026572        320    0.303784          0.003115     0.000975   \n",
       "50    2.770248        320    0.309188          0.034268     0.001985   \n",
       "51    2.661708        320    0.312109          1.000000     0.002299   \n",
       "52    2.715788        320    0.312956          0.190031     0.001901   \n",
       "53    2.717828        320    0.312453          0.158879     0.001371   \n",
       "54    2.700631        320    0.312870          0.314642     0.001863   \n",
       "55    2.661718        320    0.310492          1.000000     0.001787   \n",
       "56    2.710474        320    0.313228          0.190031     0.001926   \n",
       "57    2.743876        320    0.314006          0.034268     0.001926   \n",
       "58    2.716167        320    0.311723          0.376947     0.002143   \n",
       "59    2.690213        320    0.315753          0.127726     0.001757   \n",
       "\n",
       "    z_score_layer  is_sig_layer  mean_layer_nonzero  percentile_layer_nonzero  \\\n",
       "0        0.039226         False            0.329494                  0.595016   \n",
       "1        0.273888         False            0.328940                  0.875389   \n",
       "2        2.190334         False            0.332132                  0.968847   \n",
       "3        0.556271         False            0.329517                  1.000000   \n",
       "4        2.347679         False            0.335694                  0.875389   \n",
       "5        0.003563         False            0.328806                  1.000000   \n",
       "6        2.014740         False            0.333080                  1.000000   \n",
       "7        0.325583         False            0.333334                  0.221184   \n",
       "8        0.535228         False            0.329284                  0.937695   \n",
       "9        2.949653         False            0.335770                  0.844237   \n",
       "10      -3.913489          True            0.307621                  1.000000   \n",
       "11      -5.045120          True            0.306037                  1.000000   \n",
       "12      -9.913187          True            0.279232                  1.000000   \n",
       "13      -7.605136          True            0.289069                  1.000000   \n",
       "14      -2.521704          True            0.308754                  1.000000   \n",
       "15      -8.075259          True            0.282069                  1.000000   \n",
       "16      -6.167629          True            0.291154                  1.000000   \n",
       "17      -2.059393          True            0.307393                  1.000000   \n",
       "18      -8.983393          True            0.281685                  1.000000   \n",
       "19      -0.686863         False            0.313939                  1.000000   \n",
       "20       3.126423         False            0.316795                  1.000000   \n",
       "21       3.781497         False            0.320147                  1.000000   \n",
       "22       2.994576         False            0.318276                  1.000000   \n",
       "23       3.439737         False            0.315184                  0.968847   \n",
       "24       3.693438         False            0.321276                  0.968847   \n",
       "25       4.284387         False            0.317435                  1.000000   \n",
       "26       2.002686         False            0.315356                  0.875389   \n",
       "27       1.969105         False            0.314338                  0.439252   \n",
       "28       2.000491         False            0.315816                  0.844237   \n",
       "29       4.361388         False            0.322208                  1.000000   \n",
       "30       4.500197         False            0.329616                  1.000000   \n",
       "31       4.319884         False            0.329981                  1.000000   \n",
       "32       2.478314         False            0.328824                  1.000000   \n",
       "33       2.549442         False            0.329767                  0.563863   \n",
       "34       4.046283         False            0.332661                  0.875389   \n",
       "35       3.988152         False            0.329162                  0.875389   \n",
       "36       4.322058         False            0.330550                  0.719626   \n",
       "37       4.273280         False            0.332531                  0.875389   \n",
       "38       4.648461         False            0.334387                  1.000000   \n",
       "39       3.959418         False            0.329684                  0.906542   \n",
       "40     -18.356509          True            0.247566                  1.000000   \n",
       "41     -15.014631          True            0.267771                  1.000000   \n",
       "42     -29.287900          True            0.245649                  1.000000   \n",
       "43     -15.821443          True            0.266342                  1.000000   \n",
       "44     -20.871227          True            0.254974                  1.000000   \n",
       "45     -28.190690          True            0.236933                  1.000000   \n",
       "46      -1.589498         False            0.320496                  1.000000   \n",
       "47     -26.857819          True            0.242465                  1.000000   \n",
       "48     -31.590941          True            0.239931                  1.000000   \n",
       "49     -20.739797          True            0.248103                  1.000000   \n",
       "50      -1.713604         False            0.305805                  0.595016   \n",
       "51       1.816174         False            0.313190                  1.000000   \n",
       "52      -1.046845         False            0.310485                  0.626168   \n",
       "53      -1.228126         False            0.310521                  0.626168   \n",
       "54      -0.231478         False            0.314115                  0.065421   \n",
       "55       3.241394         False            0.314471                  1.000000   \n",
       "56      -0.907570         False            0.312750                  0.065421   \n",
       "57      -2.977186         False            0.309431                  0.314642   \n",
       "58      -0.370726         False            0.311208                  0.408100   \n",
       "59      -1.306103         False            0.314656                  0.065421   \n",
       "\n",
       "    stdev_layer_nonzero  z_score_layer_nonzero  is_sig_layer_nonzero   cohen_d  \n",
       "0              0.001083               0.434404                 False  0.483902  \n",
       "1              0.000903               1.351846                 False  0.518073  \n",
       "2              0.001124               1.599889                 False  0.474365  \n",
       "3              0.000927               1.812551                 False  0.513064  \n",
       "4              0.001318               1.452518                 False  0.450070  \n",
       "5              0.000848               3.063931                 False  0.531824  \n",
       "6              0.001018               2.033987                 False  0.495887  \n",
       "7              0.000755              -0.797120                 False  0.554175  \n",
       "8              0.001082               1.826329                 False  0.485221  \n",
       "9              0.001393               1.077225                 False  0.436860  \n",
       "10             0.000827               8.000536                 False  0.528301  \n",
       "11             0.000568              12.026482                 False  0.601401  \n",
       "12             0.000820              18.597838                 False  0.519631  \n",
       "13             0.000571              20.314053                 False  0.595461  \n",
       "14             0.000550              12.515774                 False  0.608323  \n",
       "15             0.000498              27.406171                 False  0.622231  \n",
       "16             0.000785              13.780119                 False  0.530771  \n",
       "17             0.000339              19.670614                 False  0.698247  \n",
       "18             0.000576              24.280213                 False  0.590887  \n",
       "19             0.000275              15.910679                 False  0.733493  \n",
       "20             0.001020               3.125606                 False  0.474879  \n",
       "21             0.000957               2.496662                 False  0.487047  \n",
       "22             0.001094               1.516540                 False  0.460221  \n",
       "23             0.000693               1.959192                 False  0.543956  \n",
       "24             0.000971               2.126911                 False  0.483876  \n",
       "25             0.001110               2.285104                 False  0.456452  \n",
       "26             0.000908               1.282501                 False  0.492430  \n",
       "27             0.000692              -0.064706                 False  0.543123  \n",
       "28             0.000767               1.247637                 False  0.525642  \n",
       "29             0.001044               2.013634                 False  0.471527  \n",
       "30             0.001238               2.015573                 False  0.451874  \n",
       "31             0.001142               2.578000                 False  0.464801  \n",
       "32             0.000818               2.571129                 False  0.527369  \n",
       "33             0.001655               0.209506                 False  0.399889  \n",
       "34             0.001147               1.019206                 False  0.461688  \n",
       "35             0.001522               1.186624                 False  0.411878  \n",
       "36             0.001402               0.654053                 False  0.426461  \n",
       "37             0.001259               1.191548                 False  0.445237  \n",
       "38             0.001205               1.965079                 False  0.455028  \n",
       "39             0.001231               1.320042                 False  0.450181  \n",
       "40             0.001314              27.906729                 False  0.435927  \n",
       "41             0.001073              27.498146                 False  0.483358  \n",
       "42             0.001004              37.318045                 False  0.489734  \n",
       "43             0.001025              30.470550                 False  0.494865  \n",
       "44             0.001227              27.541760                 False  0.452899  \n",
       "45             0.001089              37.428237                 False  0.471213  \n",
       "46             0.000673              10.508074                 False  0.580151  \n",
       "47             0.001103              34.256693                 False  0.469625  \n",
       "48             0.001345              28.729237                 False  0.429727  \n",
       "49             0.001228              28.881678                 False  0.447795  \n",
       "50             0.001124              -0.015840                 False  0.454833  \n",
       "51             0.001196               2.588434                 False  0.445431  \n",
       "52             0.001357               0.354724                 False  0.425709  \n",
       "53             0.001186               0.208606                 False  0.449481  \n",
       "54             0.001218              -1.376054                 False  0.443572  \n",
       "55             0.000604               3.001295                 False  0.569320  \n",
       "56             0.000816              -1.555982                 False  0.517983  \n",
       "57             0.001369              -0.845917                 False  0.425839  \n",
       "58             0.001115              -0.250302                 False  0.458191  \n",
       "59             0.000732              -1.636597                 False  0.542282  "
      ]
     },
     "execution_count": 12,
     "metadata": {},
     "output_type": "execute_result"
    }
   ],
   "source": [
    "MODEL_DATA_COLUMNS = ['model',\n",
    "                      'train_acc', 'train_loss', 'test_acc', 'test_loss',\n",
    "                      'ncut', 'ave_in_out',\n",
    "                      'n_samples']\n",
    "\n",
    "assert layer_df[MODEL_DATA_COLUMNS].equals(layer_nonzero_df[MODEL_DATA_COLUMNS])\n",
    "\n",
    "SHUFFLING_DATA_COLUMNS = ['mean', 'percentile', 'stdev', 'z_score', 'is_sig']\n",
    "\n",
    "two_shuffling_method_df = pd.merge(layer_df[SHUFFLING_DATA_COLUMNS],\n",
    "                                     layer_nonzero_df[SHUFFLING_DATA_COLUMNS],\n",
    "                                     left_index=True, right_index=True,\n",
    "                                     suffixes=('_layer', '_layer_nonzero'))\n",
    "\n",
    "assert layer_df[MODEL_DATA_COLUMNS].equals(layer_nonzero_df[MODEL_DATA_COLUMNS])\n",
    "\n",
    "df = pd.merge(layer_df[MODEL_DATA_COLUMNS], two_shuffling_method_df,\n",
    "              left_index=True, right_index=True,)\n",
    "\n",
    "df['cohen_d'] = df.apply(lambda r: cohen_d_stats(r['mean_layer'], r['stdev_layer'], r['n_samples'],\n",
    "                                 r['mean_layer_nonzero'], r['stdev_layer_nonzero'], r['n_samples']),\n",
    "                                axis=1)\n",
    "\n",
    "df"
   ]
  },
  {
   "cell_type": "code",
   "execution_count": 13,
   "metadata": {
    "papermill": {
     "duration": 0.185411,
     "end_time": "2020-05-27T11:17:58.259380",
     "exception": false,
     "start_time": "2020-05-27T11:17:58.073969",
     "status": "completed"
    },
    "tags": []
   },
   "outputs": [],
   "source": [
    "# df = pd.read_csv('../results/mlp-clustering-stability-two-shuffling-methods-all-samples.csv' index_col=0)"
   ]
  },
  {
   "cell_type": "code",
   "execution_count": 14,
   "metadata": {
    "papermill": {
     "duration": 0.230748,
     "end_time": "2020-05-27T11:17:58.665202",
     "exception": false,
     "start_time": "2020-05-27T11:17:58.434454",
     "status": "completed"
    },
    "tags": []
   },
   "outputs": [],
   "source": [
    "df_grpby_model = df.groupby('model')\n",
    "\n",
    "TWO_SHUFFLE_STATS_COLUMNS = [f'{stat}_{shuffle_method}'\n",
    "                             for stat in ['mean', 'stdev', 'z_score', 'percentile', 'is_sig']\n",
    "                             for shuffle_method in SHUFFLE_METHODS]\n",
    "\n",
    "statistics_df = pd.concat([(df_grpby_model[['ncut'] + TWO_SHUFFLE_STATS_COLUMNS]\n",
    "                             .agg(['mean', 'std'])),\n",
    "                            df_grpby_model.size().rename('n_models'),\n",
    "                            (df_grpby_model[['train_acc', 'test_acc']]\n",
    "                             .agg('mean'))],\n",
    "                           axis=1)"
   ]
  },
  {
   "cell_type": "code",
   "execution_count": 15,
   "metadata": {
    "papermill": {
     "duration": 0.230255,
     "end_time": "2020-05-27T11:17:59.078874",
     "exception": false,
     "start_time": "2020-05-27T11:17:58.848619",
     "status": "completed"
    },
    "tags": []
   },
   "outputs": [
    {
     "data": {
      "text/html": [
       "<div>\n",
       "<style scoped>\n",
       "    .dataframe tbody tr th:only-of-type {\n",
       "        vertical-align: middle;\n",
       "    }\n",
       "\n",
       "    .dataframe tbody tr th {\n",
       "        vertical-align: top;\n",
       "    }\n",
       "\n",
       "    .dataframe thead th {\n",
       "        text-align: right;\n",
       "    }\n",
       "</style>\n",
       "<table border=\"1\" class=\"dataframe\">\n",
       "  <thead>\n",
       "    <tr style=\"text-align: right;\">\n",
       "      <th></th>\n",
       "      <th>(ncut, mean)</th>\n",
       "      <th>(ncut, std)</th>\n",
       "      <th>(mean_layer, mean)</th>\n",
       "      <th>(mean_layer, std)</th>\n",
       "      <th>(mean_layer_nonzero, mean)</th>\n",
       "      <th>(mean_layer_nonzero, std)</th>\n",
       "      <th>(stdev_layer, mean)</th>\n",
       "      <th>(stdev_layer, std)</th>\n",
       "      <th>(stdev_layer_nonzero, mean)</th>\n",
       "      <th>(stdev_layer_nonzero, std)</th>\n",
       "      <th>...</th>\n",
       "      <th>(percentile_layer, std)</th>\n",
       "      <th>(percentile_layer_nonzero, mean)</th>\n",
       "      <th>(percentile_layer_nonzero, std)</th>\n",
       "      <th>(is_sig_layer, mean)</th>\n",
       "      <th>(is_sig_layer, std)</th>\n",
       "      <th>(is_sig_layer_nonzero, mean)</th>\n",
       "      <th>(is_sig_layer_nonzero, std)</th>\n",
       "      <th>n_models</th>\n",
       "      <th>train_acc</th>\n",
       "      <th>test_acc</th>\n",
       "    </tr>\n",
       "    <tr>\n",
       "      <th>model</th>\n",
       "      <th></th>\n",
       "      <th></th>\n",
       "      <th></th>\n",
       "      <th></th>\n",
       "      <th></th>\n",
       "      <th></th>\n",
       "      <th></th>\n",
       "      <th></th>\n",
       "      <th></th>\n",
       "      <th></th>\n",
       "      <th></th>\n",
       "      <th></th>\n",
       "      <th></th>\n",
       "      <th></th>\n",
       "      <th></th>\n",
       "      <th></th>\n",
       "      <th></th>\n",
       "      <th></th>\n",
       "      <th></th>\n",
       "      <th></th>\n",
       "      <th></th>\n",
       "    </tr>\n",
       "  </thead>\n",
       "  <tbody>\n",
       "    <tr>\n",
       "      <th>CIFAR10</th>\n",
       "      <td>0.306362</td>\n",
       "      <td>0.009507</td>\n",
       "      <td>0.312830</td>\n",
       "      <td>0.006120</td>\n",
       "      <td>0.296695</td>\n",
       "      <td>0.013320</td>\n",
       "      <td>0.001239</td>\n",
       "      <td>0.000184</td>\n",
       "      <td>0.000581</td>\n",
       "      <td>0.000188</td>\n",
       "      <td>...</td>\n",
       "      <td>0.078811</td>\n",
       "      <td>1.000000</td>\n",
       "      <td>0.000000</td>\n",
       "      <td>0.9</td>\n",
       "      <td>0.316228</td>\n",
       "      <td>False</td>\n",
       "      <td>0.0</td>\n",
       "      <td>10</td>\n",
       "      <td>0.650088</td>\n",
       "      <td>0.41523</td>\n",
       "    </tr>\n",
       "    <tr>\n",
       "      <th>CIFAR10+DROPOUT</th>\n",
       "      <td>0.289859</td>\n",
       "      <td>0.014990</td>\n",
       "      <td>0.308491</td>\n",
       "      <td>0.008694</td>\n",
       "      <td>0.257023</td>\n",
       "      <td>0.024589</td>\n",
       "      <td>0.000955</td>\n",
       "      <td>0.000167</td>\n",
       "      <td>0.001108</td>\n",
       "      <td>0.000193</td>\n",
       "      <td>...</td>\n",
       "      <td>0.019703</td>\n",
       "      <td>1.000000</td>\n",
       "      <td>0.000000</td>\n",
       "      <td>0.9</td>\n",
       "      <td>0.316228</td>\n",
       "      <td>False</td>\n",
       "      <td>0.0</td>\n",
       "      <td>10</td>\n",
       "      <td>0.427050</td>\n",
       "      <td>0.42189</td>\n",
       "    </tr>\n",
       "    <tr>\n",
       "      <th>FASHION</th>\n",
       "      <td>0.319421</td>\n",
       "      <td>0.003331</td>\n",
       "      <td>0.312592</td>\n",
       "      <td>0.001731</td>\n",
       "      <td>0.317683</td>\n",
       "      <td>0.002728</td>\n",
       "      <td>0.002186</td>\n",
       "      <td>0.000274</td>\n",
       "      <td>0.000926</td>\n",
       "      <td>0.000157</td>\n",
       "      <td>...</td>\n",
       "      <td>0.013135</td>\n",
       "      <td>0.909657</td>\n",
       "      <td>0.174659</td>\n",
       "      <td>0.0</td>\n",
       "      <td>0.000000</td>\n",
       "      <td>False</td>\n",
       "      <td>0.0</td>\n",
       "      <td>10</td>\n",
       "      <td>0.982630</td>\n",
       "      <td>0.89344</td>\n",
       "    </tr>\n",
       "    <tr>\n",
       "      <th>FASHION+DROPOUT</th>\n",
       "      <td>0.311667</td>\n",
       "      <td>0.003239</td>\n",
       "      <td>0.312478</td>\n",
       "      <td>0.001810</td>\n",
       "      <td>0.311663</td>\n",
       "      <td>0.002760</td>\n",
       "      <td>0.001896</td>\n",
       "      <td>0.000245</td>\n",
       "      <td>0.001072</td>\n",
       "      <td>0.000263</td>\n",
       "      <td>...</td>\n",
       "      <td>0.362542</td>\n",
       "      <td>0.476636</td>\n",
       "      <td>0.356649</td>\n",
       "      <td>0.0</td>\n",
       "      <td>0.000000</td>\n",
       "      <td>False</td>\n",
       "      <td>0.0</td>\n",
       "      <td>10</td>\n",
       "      <td>0.863268</td>\n",
       "      <td>0.86921</td>\n",
       "    </tr>\n",
       "    <tr>\n",
       "      <th>MNIST</th>\n",
       "      <td>0.333068</td>\n",
       "      <td>0.002811</td>\n",
       "      <td>0.330491</td>\n",
       "      <td>0.001174</td>\n",
       "      <td>0.331605</td>\n",
       "      <td>0.002762</td>\n",
       "      <td>0.002266</td>\n",
       "      <td>0.000253</td>\n",
       "      <td>0.001045</td>\n",
       "      <td>0.000201</td>\n",
       "      <td>...</td>\n",
       "      <td>0.218439</td>\n",
       "      <td>0.831776</td>\n",
       "      <td>0.246699</td>\n",
       "      <td>0.0</td>\n",
       "      <td>0.000000</td>\n",
       "      <td>False</td>\n",
       "      <td>0.0</td>\n",
       "      <td>10</td>\n",
       "      <td>1.000000</td>\n",
       "      <td>0.98357</td>\n",
       "    </tr>\n",
       "    <tr>\n",
       "      <th>MNIST+DROPOUT</th>\n",
       "      <td>0.332444</td>\n",
       "      <td>0.001986</td>\n",
       "      <td>0.323033</td>\n",
       "      <td>0.001078</td>\n",
       "      <td>0.330716</td>\n",
       "      <td>0.001835</td>\n",
       "      <td>0.002431</td>\n",
       "      <td>0.000288</td>\n",
       "      <td>0.001262</td>\n",
       "      <td>0.000229</td>\n",
       "      <td>...</td>\n",
       "      <td>0.000000</td>\n",
       "      <td>0.881620</td>\n",
       "      <td>0.142986</td>\n",
       "      <td>0.0</td>\n",
       "      <td>0.000000</td>\n",
       "      <td>False</td>\n",
       "      <td>0.0</td>\n",
       "      <td>10</td>\n",
       "      <td>0.966788</td>\n",
       "      <td>0.97940</td>\n",
       "    </tr>\n",
       "  </tbody>\n",
       "</table>\n",
       "<p>6 rows × 25 columns</p>\n",
       "</div>"
      ],
      "text/plain": [
       "                 (ncut, mean)  (ncut, std)  (mean_layer, mean)  \\\n",
       "model                                                            \n",
       "CIFAR10              0.306362     0.009507            0.312830   \n",
       "CIFAR10+DROPOUT      0.289859     0.014990            0.308491   \n",
       "FASHION              0.319421     0.003331            0.312592   \n",
       "FASHION+DROPOUT      0.311667     0.003239            0.312478   \n",
       "MNIST                0.333068     0.002811            0.330491   \n",
       "MNIST+DROPOUT        0.332444     0.001986            0.323033   \n",
       "\n",
       "                 (mean_layer, std)  (mean_layer_nonzero, mean)  \\\n",
       "model                                                            \n",
       "CIFAR10                   0.006120                    0.296695   \n",
       "CIFAR10+DROPOUT           0.008694                    0.257023   \n",
       "FASHION                   0.001731                    0.317683   \n",
       "FASHION+DROPOUT           0.001810                    0.311663   \n",
       "MNIST                     0.001174                    0.331605   \n",
       "MNIST+DROPOUT             0.001078                    0.330716   \n",
       "\n",
       "                 (mean_layer_nonzero, std)  (stdev_layer, mean)  \\\n",
       "model                                                             \n",
       "CIFAR10                           0.013320             0.001239   \n",
       "CIFAR10+DROPOUT                   0.024589             0.000955   \n",
       "FASHION                           0.002728             0.002186   \n",
       "FASHION+DROPOUT                   0.002760             0.001896   \n",
       "MNIST                             0.002762             0.002266   \n",
       "MNIST+DROPOUT                     0.001835             0.002431   \n",
       "\n",
       "                 (stdev_layer, std)  (stdev_layer_nonzero, mean)  \\\n",
       "model                                                              \n",
       "CIFAR10                    0.000184                     0.000581   \n",
       "CIFAR10+DROPOUT            0.000167                     0.001108   \n",
       "FASHION                    0.000274                     0.000926   \n",
       "FASHION+DROPOUT            0.000245                     0.001072   \n",
       "MNIST                      0.000253                     0.001045   \n",
       "MNIST+DROPOUT              0.000288                     0.001262   \n",
       "\n",
       "                 (stdev_layer_nonzero, std)  ...  (percentile_layer, std)  \\\n",
       "model                                        ...                            \n",
       "CIFAR10                            0.000188  ...                 0.078811   \n",
       "CIFAR10+DROPOUT                    0.000193  ...                 0.019703   \n",
       "FASHION                            0.000157  ...                 0.013135   \n",
       "FASHION+DROPOUT                    0.000263  ...                 0.362542   \n",
       "MNIST                              0.000201  ...                 0.218439   \n",
       "MNIST+DROPOUT                      0.000229  ...                 0.000000   \n",
       "\n",
       "                 (percentile_layer_nonzero, mean)  \\\n",
       "model                                               \n",
       "CIFAR10                                  1.000000   \n",
       "CIFAR10+DROPOUT                          1.000000   \n",
       "FASHION                                  0.909657   \n",
       "FASHION+DROPOUT                          0.476636   \n",
       "MNIST                                    0.831776   \n",
       "MNIST+DROPOUT                            0.881620   \n",
       "\n",
       "                 (percentile_layer_nonzero, std)  (is_sig_layer, mean)  \\\n",
       "model                                                                    \n",
       "CIFAR10                                 0.000000                   0.9   \n",
       "CIFAR10+DROPOUT                         0.000000                   0.9   \n",
       "FASHION                                 0.174659                   0.0   \n",
       "FASHION+DROPOUT                         0.356649                   0.0   \n",
       "MNIST                                   0.246699                   0.0   \n",
       "MNIST+DROPOUT                           0.142986                   0.0   \n",
       "\n",
       "                 (is_sig_layer, std)  (is_sig_layer_nonzero, mean)  \\\n",
       "model                                                                \n",
       "CIFAR10                     0.316228                         False   \n",
       "CIFAR10+DROPOUT             0.316228                         False   \n",
       "FASHION                     0.000000                         False   \n",
       "FASHION+DROPOUT             0.000000                         False   \n",
       "MNIST                       0.000000                         False   \n",
       "MNIST+DROPOUT               0.000000                         False   \n",
       "\n",
       "                 (is_sig_layer_nonzero, std)  n_models  train_acc  test_acc  \n",
       "model                                                                        \n",
       "CIFAR10                                  0.0        10   0.650088   0.41523  \n",
       "CIFAR10+DROPOUT                          0.0        10   0.427050   0.42189  \n",
       "FASHION                                  0.0        10   0.982630   0.89344  \n",
       "FASHION+DROPOUT                          0.0        10   0.863268   0.86921  \n",
       "MNIST                                    0.0        10   1.000000   0.98357  \n",
       "MNIST+DROPOUT                            0.0        10   0.966788   0.97940  \n",
       "\n",
       "[6 rows x 25 columns]"
      ]
     },
     "execution_count": 15,
     "metadata": {},
     "output_type": "execute_result"
    }
   ],
   "source": [
    "statistics_df"
   ]
  },
  {
   "cell_type": "code",
   "execution_count": 16,
   "metadata": {
    "papermill": {
     "duration": 0.191317,
     "end_time": "2020-05-27T11:17:59.453699",
     "exception": false,
     "start_time": "2020-05-27T11:17:59.262382",
     "status": "completed"
    },
    "tags": []
   },
   "outputs": [],
   "source": [
    "# TODO: ask for a code review\n",
    "# std = np.sqrt(np.mean(x**2) - np.mean(x)**2)\n",
    "\n",
    "def calc_overall_stdev(row, suffix=''):\n",
    "    return np.sqrt(                 # 5. apply root square to get the SD from the variance\n",
    "        (np.mean(                   # 3. divide by the number of trained model\n",
    "            (row[f'stdev{suffix}']**2)       # 1. cancel the overall square root\n",
    "             + row[f'mean{suffix}']**2))     # 2. add the mean and get the sum or squares\n",
    "        - np.mean(row[f'mean{suffix}'])**2)  # 4. substrct the square of the overall mean"
   ]
  },
  {
   "cell_type": "code",
   "execution_count": 17,
   "metadata": {
    "papermill": {
     "duration": 0.224278,
     "end_time": "2020-05-27T11:17:59.854557",
     "exception": false,
     "start_time": "2020-05-27T11:17:59.630279",
     "status": "completed"
    },
    "tags": []
   },
   "outputs": [],
   "source": [
    "SHUFFLE_METHOD_SUFFIX = ['_layer', '_layer_nonzero']\n",
    "for suffix in SHUFFLE_METHOD_SUFFIX:\n",
    "    statistics_df[f'overall_std{suffix}'] = df_grpby_model.apply(calc_overall_stdev, suffix)\n",
    "\n",
    "for suffix in SHUFFLE_METHOD_SUFFIX:\n",
    "    statistics_df[f'is_stable{suffix}'] = (statistics_df[(f'is_sig{suffix}', 'mean')] == 1)\n",
    "\n",
    "statistics_df = statistics_df.loc[TAGS_COMMANDS.keys(), :]"
   ]
  },
  {
   "cell_type": "code",
   "execution_count": 18,
   "metadata": {
    "papermill": {
     "duration": 0.265187,
     "end_time": "2020-05-27T11:18:00.343764",
     "exception": false,
     "start_time": "2020-05-27T11:18:00.078577",
     "status": "completed"
    },
    "tags": []
   },
   "outputs": [
    {
     "data": {
      "text/html": [
       "<div>\n",
       "<style scoped>\n",
       "    .dataframe tbody tr th:only-of-type {\n",
       "        vertical-align: middle;\n",
       "    }\n",
       "\n",
       "    .dataframe tbody tr th {\n",
       "        vertical-align: top;\n",
       "    }\n",
       "\n",
       "    .dataframe thead th {\n",
       "        text-align: right;\n",
       "    }\n",
       "</style>\n",
       "<table border=\"1\" class=\"dataframe\">\n",
       "  <thead>\n",
       "    <tr style=\"text-align: right;\">\n",
       "      <th></th>\n",
       "      <th>(ncut, mean)</th>\n",
       "      <th>(ncut, std)</th>\n",
       "      <th>(mean_layer, mean)</th>\n",
       "      <th>(mean_layer, std)</th>\n",
       "      <th>(mean_layer_nonzero, mean)</th>\n",
       "      <th>(mean_layer_nonzero, std)</th>\n",
       "      <th>(stdev_layer, mean)</th>\n",
       "      <th>(stdev_layer, std)</th>\n",
       "      <th>(stdev_layer_nonzero, mean)</th>\n",
       "      <th>(stdev_layer_nonzero, std)</th>\n",
       "      <th>...</th>\n",
       "      <th>(is_sig_layer, std)</th>\n",
       "      <th>(is_sig_layer_nonzero, mean)</th>\n",
       "      <th>(is_sig_layer_nonzero, std)</th>\n",
       "      <th>n_models</th>\n",
       "      <th>train_acc</th>\n",
       "      <th>test_acc</th>\n",
       "      <th>overall_std_layer</th>\n",
       "      <th>overall_std_layer_nonzero</th>\n",
       "      <th>is_stable_layer</th>\n",
       "      <th>is_stable_layer_nonzero</th>\n",
       "    </tr>\n",
       "    <tr>\n",
       "      <th>model</th>\n",
       "      <th></th>\n",
       "      <th></th>\n",
       "      <th></th>\n",
       "      <th></th>\n",
       "      <th></th>\n",
       "      <th></th>\n",
       "      <th></th>\n",
       "      <th></th>\n",
       "      <th></th>\n",
       "      <th></th>\n",
       "      <th></th>\n",
       "      <th></th>\n",
       "      <th></th>\n",
       "      <th></th>\n",
       "      <th></th>\n",
       "      <th></th>\n",
       "      <th></th>\n",
       "      <th></th>\n",
       "      <th></th>\n",
       "      <th></th>\n",
       "      <th></th>\n",
       "    </tr>\n",
       "  </thead>\n",
       "  <tbody>\n",
       "    <tr>\n",
       "      <th>MNIST</th>\n",
       "      <td>0.333068</td>\n",
       "      <td>0.002811</td>\n",
       "      <td>0.330491</td>\n",
       "      <td>0.001174</td>\n",
       "      <td>0.331605</td>\n",
       "      <td>0.002762</td>\n",
       "      <td>0.002266</td>\n",
       "      <td>0.000253</td>\n",
       "      <td>0.001045</td>\n",
       "      <td>0.000201</td>\n",
       "      <td>...</td>\n",
       "      <td>0.000000</td>\n",
       "      <td>False</td>\n",
       "      <td>0.0</td>\n",
       "      <td>10</td>\n",
       "      <td>1.000000</td>\n",
       "      <td>0.98357</td>\n",
       "      <td>0.002536</td>\n",
       "      <td>0.002827</td>\n",
       "      <td>False</td>\n",
       "      <td>False</td>\n",
       "    </tr>\n",
       "    <tr>\n",
       "      <th>CIFAR10</th>\n",
       "      <td>0.306362</td>\n",
       "      <td>0.009507</td>\n",
       "      <td>0.312830</td>\n",
       "      <td>0.006120</td>\n",
       "      <td>0.296695</td>\n",
       "      <td>0.013320</td>\n",
       "      <td>0.001239</td>\n",
       "      <td>0.000184</td>\n",
       "      <td>0.000581</td>\n",
       "      <td>0.000188</td>\n",
       "      <td>...</td>\n",
       "      <td>0.316228</td>\n",
       "      <td>False</td>\n",
       "      <td>0.0</td>\n",
       "      <td>10</td>\n",
       "      <td>0.650088</td>\n",
       "      <td>0.41523</td>\n",
       "      <td>0.005939</td>\n",
       "      <td>0.012651</td>\n",
       "      <td>False</td>\n",
       "      <td>False</td>\n",
       "    </tr>\n",
       "    <tr>\n",
       "      <th>FASHION</th>\n",
       "      <td>0.319421</td>\n",
       "      <td>0.003331</td>\n",
       "      <td>0.312592</td>\n",
       "      <td>0.001731</td>\n",
       "      <td>0.317683</td>\n",
       "      <td>0.002728</td>\n",
       "      <td>0.002186</td>\n",
       "      <td>0.000274</td>\n",
       "      <td>0.000926</td>\n",
       "      <td>0.000157</td>\n",
       "      <td>...</td>\n",
       "      <td>0.000000</td>\n",
       "      <td>False</td>\n",
       "      <td>0.0</td>\n",
       "      <td>10</td>\n",
       "      <td>0.982630</td>\n",
       "      <td>0.89344</td>\n",
       "      <td>0.002746</td>\n",
       "      <td>0.002753</td>\n",
       "      <td>False</td>\n",
       "      <td>False</td>\n",
       "    </tr>\n",
       "    <tr>\n",
       "      <th>MNIST+DROPOUT</th>\n",
       "      <td>0.332444</td>\n",
       "      <td>0.001986</td>\n",
       "      <td>0.323033</td>\n",
       "      <td>0.001078</td>\n",
       "      <td>0.330716</td>\n",
       "      <td>0.001835</td>\n",
       "      <td>0.002431</td>\n",
       "      <td>0.000288</td>\n",
       "      <td>0.001262</td>\n",
       "      <td>0.000229</td>\n",
       "      <td>...</td>\n",
       "      <td>0.000000</td>\n",
       "      <td>False</td>\n",
       "      <td>0.0</td>\n",
       "      <td>10</td>\n",
       "      <td>0.966788</td>\n",
       "      <td>0.97940</td>\n",
       "      <td>0.002651</td>\n",
       "      <td>0.002161</td>\n",
       "      <td>False</td>\n",
       "      <td>False</td>\n",
       "    </tr>\n",
       "    <tr>\n",
       "      <th>CIFAR10+DROPOUT</th>\n",
       "      <td>0.289859</td>\n",
       "      <td>0.014990</td>\n",
       "      <td>0.308491</td>\n",
       "      <td>0.008694</td>\n",
       "      <td>0.257023</td>\n",
       "      <td>0.024589</td>\n",
       "      <td>0.000955</td>\n",
       "      <td>0.000167</td>\n",
       "      <td>0.001108</td>\n",
       "      <td>0.000193</td>\n",
       "      <td>...</td>\n",
       "      <td>0.316228</td>\n",
       "      <td>False</td>\n",
       "      <td>0.0</td>\n",
       "      <td>10</td>\n",
       "      <td>0.427050</td>\n",
       "      <td>0.42189</td>\n",
       "      <td>0.008304</td>\n",
       "      <td>0.023354</td>\n",
       "      <td>False</td>\n",
       "      <td>False</td>\n",
       "    </tr>\n",
       "    <tr>\n",
       "      <th>FASHION+DROPOUT</th>\n",
       "      <td>0.311667</td>\n",
       "      <td>0.003239</td>\n",
       "      <td>0.312478</td>\n",
       "      <td>0.001810</td>\n",
       "      <td>0.311663</td>\n",
       "      <td>0.002760</td>\n",
       "      <td>0.001896</td>\n",
       "      <td>0.000245</td>\n",
       "      <td>0.001072</td>\n",
       "      <td>0.000263</td>\n",
       "      <td>...</td>\n",
       "      <td>0.000000</td>\n",
       "      <td>False</td>\n",
       "      <td>0.0</td>\n",
       "      <td>10</td>\n",
       "      <td>0.863268</td>\n",
       "      <td>0.86921</td>\n",
       "      <td>0.002568</td>\n",
       "      <td>0.002840</td>\n",
       "      <td>False</td>\n",
       "      <td>False</td>\n",
       "    </tr>\n",
       "  </tbody>\n",
       "</table>\n",
       "<p>6 rows × 29 columns</p>\n",
       "</div>"
      ],
      "text/plain": [
       "                 (ncut, mean)  (ncut, std)  (mean_layer, mean)  \\\n",
       "model                                                            \n",
       "MNIST                0.333068     0.002811            0.330491   \n",
       "CIFAR10              0.306362     0.009507            0.312830   \n",
       "FASHION              0.319421     0.003331            0.312592   \n",
       "MNIST+DROPOUT        0.332444     0.001986            0.323033   \n",
       "CIFAR10+DROPOUT      0.289859     0.014990            0.308491   \n",
       "FASHION+DROPOUT      0.311667     0.003239            0.312478   \n",
       "\n",
       "                 (mean_layer, std)  (mean_layer_nonzero, mean)  \\\n",
       "model                                                            \n",
       "MNIST                     0.001174                    0.331605   \n",
       "CIFAR10                   0.006120                    0.296695   \n",
       "FASHION                   0.001731                    0.317683   \n",
       "MNIST+DROPOUT             0.001078                    0.330716   \n",
       "CIFAR10+DROPOUT           0.008694                    0.257023   \n",
       "FASHION+DROPOUT           0.001810                    0.311663   \n",
       "\n",
       "                 (mean_layer_nonzero, std)  (stdev_layer, mean)  \\\n",
       "model                                                             \n",
       "MNIST                             0.002762             0.002266   \n",
       "CIFAR10                           0.013320             0.001239   \n",
       "FASHION                           0.002728             0.002186   \n",
       "MNIST+DROPOUT                     0.001835             0.002431   \n",
       "CIFAR10+DROPOUT                   0.024589             0.000955   \n",
       "FASHION+DROPOUT                   0.002760             0.001896   \n",
       "\n",
       "                 (stdev_layer, std)  (stdev_layer_nonzero, mean)  \\\n",
       "model                                                              \n",
       "MNIST                      0.000253                     0.001045   \n",
       "CIFAR10                    0.000184                     0.000581   \n",
       "FASHION                    0.000274                     0.000926   \n",
       "MNIST+DROPOUT              0.000288                     0.001262   \n",
       "CIFAR10+DROPOUT            0.000167                     0.001108   \n",
       "FASHION+DROPOUT            0.000245                     0.001072   \n",
       "\n",
       "                 (stdev_layer_nonzero, std)  ...  (is_sig_layer, std)  \\\n",
       "model                                        ...                        \n",
       "MNIST                              0.000201  ...             0.000000   \n",
       "CIFAR10                            0.000188  ...             0.316228   \n",
       "FASHION                            0.000157  ...             0.000000   \n",
       "MNIST+DROPOUT                      0.000229  ...             0.000000   \n",
       "CIFAR10+DROPOUT                    0.000193  ...             0.316228   \n",
       "FASHION+DROPOUT                    0.000263  ...             0.000000   \n",
       "\n",
       "                 (is_sig_layer_nonzero, mean)  (is_sig_layer_nonzero, std)  \\\n",
       "model                                                                        \n",
       "MNIST                                   False                          0.0   \n",
       "CIFAR10                                 False                          0.0   \n",
       "FASHION                                 False                          0.0   \n",
       "MNIST+DROPOUT                           False                          0.0   \n",
       "CIFAR10+DROPOUT                         False                          0.0   \n",
       "FASHION+DROPOUT                         False                          0.0   \n",
       "\n",
       "                 n_models  train_acc  test_acc  overall_std_layer  \\\n",
       "model                                                               \n",
       "MNIST                  10   1.000000   0.98357           0.002536   \n",
       "CIFAR10                10   0.650088   0.41523           0.005939   \n",
       "FASHION                10   0.982630   0.89344           0.002746   \n",
       "MNIST+DROPOUT          10   0.966788   0.97940           0.002651   \n",
       "CIFAR10+DROPOUT        10   0.427050   0.42189           0.008304   \n",
       "FASHION+DROPOUT        10   0.863268   0.86921           0.002568   \n",
       "\n",
       "                 overall_std_layer_nonzero  is_stable_layer  \\\n",
       "model                                                         \n",
       "MNIST                             0.002827            False   \n",
       "CIFAR10                           0.012651            False   \n",
       "FASHION                           0.002753            False   \n",
       "MNIST+DROPOUT                     0.002161            False   \n",
       "CIFAR10+DROPOUT                   0.023354            False   \n",
       "FASHION+DROPOUT                   0.002840            False   \n",
       "\n",
       "                 is_stable_layer_nonzero  \n",
       "model                                     \n",
       "MNIST                              False  \n",
       "CIFAR10                            False  \n",
       "FASHION                            False  \n",
       "MNIST+DROPOUT                      False  \n",
       "CIFAR10+DROPOUT                    False  \n",
       "FASHION+DROPOUT                    False  \n",
       "\n",
       "[6 rows x 29 columns]"
      ]
     },
     "execution_count": 18,
     "metadata": {},
     "output_type": "execute_result"
    }
   ],
   "source": [
    "statistics_df"
   ]
  },
  {
   "cell_type": "code",
   "execution_count": 19,
   "metadata": {
    "papermill": {
     "duration": 0.194195,
     "end_time": "2020-05-27T11:18:00.723834",
     "exception": false,
     "start_time": "2020-05-27T11:18:00.529639",
     "status": "completed"
    },
    "tags": []
   },
   "outputs": [],
   "source": [
    "df.to_csv(f'../results/mlp-clustering-stability-two-shuffling-methods-all-samples-K-{N_CLUSTERS}.csv')\n",
    "statistics_df.to_csv(f'../results/mlp-clustering-stability-two-shuffling-methods-statistics-K-{N_CLUSTERS}.csv')"
   ]
  },
  {
   "cell_type": "markdown",
   "metadata": {
    "papermill": {
     "duration": 0.28753,
     "end_time": "2020-05-27T11:18:01.245306",
     "exception": false,
     "start_time": "2020-05-27T11:18:00.957776",
     "status": "completed"
    },
    "tags": []
   },
   "source": [
    "### Model Stability Statistics"
   ]
  },
  {
   "cell_type": "code",
   "execution_count": 20,
   "metadata": {
    "papermill": {
     "duration": 0.236752,
     "end_time": "2020-05-27T11:18:01.666660",
     "exception": false,
     "start_time": "2020-05-27T11:18:01.429908",
     "status": "completed"
    },
    "tags": []
   },
   "outputs": [
    {
     "data": {
      "text/html": [
       "<div>\n",
       "<style scoped>\n",
       "    .dataframe tbody tr th:only-of-type {\n",
       "        vertical-align: middle;\n",
       "    }\n",
       "\n",
       "    .dataframe tbody tr th {\n",
       "        vertical-align: top;\n",
       "    }\n",
       "\n",
       "    .dataframe thead th {\n",
       "        text-align: right;\n",
       "    }\n",
       "</style>\n",
       "<table border=\"1\" class=\"dataframe\">\n",
       "  <thead>\n",
       "    <tr style=\"text-align: right;\">\n",
       "      <th></th>\n",
       "      <th>(ncut, mean)</th>\n",
       "      <th>(ncut, std)</th>\n",
       "      <th>(mean_layer, mean)</th>\n",
       "      <th>(mean_layer, std)</th>\n",
       "      <th>(mean_layer_nonzero, mean)</th>\n",
       "      <th>(mean_layer_nonzero, std)</th>\n",
       "      <th>(stdev_layer, mean)</th>\n",
       "      <th>(stdev_layer, std)</th>\n",
       "      <th>(stdev_layer_nonzero, mean)</th>\n",
       "      <th>(stdev_layer_nonzero, std)</th>\n",
       "      <th>...</th>\n",
       "      <th>(is_sig_layer, std)</th>\n",
       "      <th>(is_sig_layer_nonzero, mean)</th>\n",
       "      <th>(is_sig_layer_nonzero, std)</th>\n",
       "      <th>n_models</th>\n",
       "      <th>train_acc</th>\n",
       "      <th>test_acc</th>\n",
       "      <th>overall_std_layer</th>\n",
       "      <th>overall_std_layer_nonzero</th>\n",
       "      <th>is_stable_layer</th>\n",
       "      <th>is_stable_layer_nonzero</th>\n",
       "    </tr>\n",
       "    <tr>\n",
       "      <th>model</th>\n",
       "      <th></th>\n",
       "      <th></th>\n",
       "      <th></th>\n",
       "      <th></th>\n",
       "      <th></th>\n",
       "      <th></th>\n",
       "      <th></th>\n",
       "      <th></th>\n",
       "      <th></th>\n",
       "      <th></th>\n",
       "      <th></th>\n",
       "      <th></th>\n",
       "      <th></th>\n",
       "      <th></th>\n",
       "      <th></th>\n",
       "      <th></th>\n",
       "      <th></th>\n",
       "      <th></th>\n",
       "      <th></th>\n",
       "      <th></th>\n",
       "      <th></th>\n",
       "    </tr>\n",
       "  </thead>\n",
       "  <tbody>\n",
       "    <tr>\n",
       "      <th>MNIST</th>\n",
       "      <td>0.333068</td>\n",
       "      <td>0.002811</td>\n",
       "      <td>0.330491</td>\n",
       "      <td>0.001174</td>\n",
       "      <td>0.331605</td>\n",
       "      <td>0.002762</td>\n",
       "      <td>0.002266</td>\n",
       "      <td>0.000253</td>\n",
       "      <td>0.001045</td>\n",
       "      <td>0.000201</td>\n",
       "      <td>...</td>\n",
       "      <td>0.000000</td>\n",
       "      <td>False</td>\n",
       "      <td>0.0</td>\n",
       "      <td>10</td>\n",
       "      <td>1.000000</td>\n",
       "      <td>0.98357</td>\n",
       "      <td>0.002536</td>\n",
       "      <td>0.002827</td>\n",
       "      <td>False</td>\n",
       "      <td>False</td>\n",
       "    </tr>\n",
       "    <tr>\n",
       "      <th>CIFAR10</th>\n",
       "      <td>0.306362</td>\n",
       "      <td>0.009507</td>\n",
       "      <td>0.312830</td>\n",
       "      <td>0.006120</td>\n",
       "      <td>0.296695</td>\n",
       "      <td>0.013320</td>\n",
       "      <td>0.001239</td>\n",
       "      <td>0.000184</td>\n",
       "      <td>0.000581</td>\n",
       "      <td>0.000188</td>\n",
       "      <td>...</td>\n",
       "      <td>0.316228</td>\n",
       "      <td>False</td>\n",
       "      <td>0.0</td>\n",
       "      <td>10</td>\n",
       "      <td>0.650088</td>\n",
       "      <td>0.41523</td>\n",
       "      <td>0.005939</td>\n",
       "      <td>0.012651</td>\n",
       "      <td>False</td>\n",
       "      <td>False</td>\n",
       "    </tr>\n",
       "    <tr>\n",
       "      <th>FASHION</th>\n",
       "      <td>0.319421</td>\n",
       "      <td>0.003331</td>\n",
       "      <td>0.312592</td>\n",
       "      <td>0.001731</td>\n",
       "      <td>0.317683</td>\n",
       "      <td>0.002728</td>\n",
       "      <td>0.002186</td>\n",
       "      <td>0.000274</td>\n",
       "      <td>0.000926</td>\n",
       "      <td>0.000157</td>\n",
       "      <td>...</td>\n",
       "      <td>0.000000</td>\n",
       "      <td>False</td>\n",
       "      <td>0.0</td>\n",
       "      <td>10</td>\n",
       "      <td>0.982630</td>\n",
       "      <td>0.89344</td>\n",
       "      <td>0.002746</td>\n",
       "      <td>0.002753</td>\n",
       "      <td>False</td>\n",
       "      <td>False</td>\n",
       "    </tr>\n",
       "    <tr>\n",
       "      <th>MNIST+DROPOUT</th>\n",
       "      <td>0.332444</td>\n",
       "      <td>0.001986</td>\n",
       "      <td>0.323033</td>\n",
       "      <td>0.001078</td>\n",
       "      <td>0.330716</td>\n",
       "      <td>0.001835</td>\n",
       "      <td>0.002431</td>\n",
       "      <td>0.000288</td>\n",
       "      <td>0.001262</td>\n",
       "      <td>0.000229</td>\n",
       "      <td>...</td>\n",
       "      <td>0.000000</td>\n",
       "      <td>False</td>\n",
       "      <td>0.0</td>\n",
       "      <td>10</td>\n",
       "      <td>0.966788</td>\n",
       "      <td>0.97940</td>\n",
       "      <td>0.002651</td>\n",
       "      <td>0.002161</td>\n",
       "      <td>False</td>\n",
       "      <td>False</td>\n",
       "    </tr>\n",
       "    <tr>\n",
       "      <th>CIFAR10+DROPOUT</th>\n",
       "      <td>0.289859</td>\n",
       "      <td>0.014990</td>\n",
       "      <td>0.308491</td>\n",
       "      <td>0.008694</td>\n",
       "      <td>0.257023</td>\n",
       "      <td>0.024589</td>\n",
       "      <td>0.000955</td>\n",
       "      <td>0.000167</td>\n",
       "      <td>0.001108</td>\n",
       "      <td>0.000193</td>\n",
       "      <td>...</td>\n",
       "      <td>0.316228</td>\n",
       "      <td>False</td>\n",
       "      <td>0.0</td>\n",
       "      <td>10</td>\n",
       "      <td>0.427050</td>\n",
       "      <td>0.42189</td>\n",
       "      <td>0.008304</td>\n",
       "      <td>0.023354</td>\n",
       "      <td>False</td>\n",
       "      <td>False</td>\n",
       "    </tr>\n",
       "    <tr>\n",
       "      <th>FASHION+DROPOUT</th>\n",
       "      <td>0.311667</td>\n",
       "      <td>0.003239</td>\n",
       "      <td>0.312478</td>\n",
       "      <td>0.001810</td>\n",
       "      <td>0.311663</td>\n",
       "      <td>0.002760</td>\n",
       "      <td>0.001896</td>\n",
       "      <td>0.000245</td>\n",
       "      <td>0.001072</td>\n",
       "      <td>0.000263</td>\n",
       "      <td>...</td>\n",
       "      <td>0.000000</td>\n",
       "      <td>False</td>\n",
       "      <td>0.0</td>\n",
       "      <td>10</td>\n",
       "      <td>0.863268</td>\n",
       "      <td>0.86921</td>\n",
       "      <td>0.002568</td>\n",
       "      <td>0.002840</td>\n",
       "      <td>False</td>\n",
       "      <td>False</td>\n",
       "    </tr>\n",
       "  </tbody>\n",
       "</table>\n",
       "<p>6 rows × 29 columns</p>\n",
       "</div>"
      ],
      "text/plain": [
       "                 (ncut, mean)  (ncut, std)  (mean_layer, mean)  \\\n",
       "model                                                            \n",
       "MNIST                0.333068     0.002811            0.330491   \n",
       "CIFAR10              0.306362     0.009507            0.312830   \n",
       "FASHION              0.319421     0.003331            0.312592   \n",
       "MNIST+DROPOUT        0.332444     0.001986            0.323033   \n",
       "CIFAR10+DROPOUT      0.289859     0.014990            0.308491   \n",
       "FASHION+DROPOUT      0.311667     0.003239            0.312478   \n",
       "\n",
       "                 (mean_layer, std)  (mean_layer_nonzero, mean)  \\\n",
       "model                                                            \n",
       "MNIST                     0.001174                    0.331605   \n",
       "CIFAR10                   0.006120                    0.296695   \n",
       "FASHION                   0.001731                    0.317683   \n",
       "MNIST+DROPOUT             0.001078                    0.330716   \n",
       "CIFAR10+DROPOUT           0.008694                    0.257023   \n",
       "FASHION+DROPOUT           0.001810                    0.311663   \n",
       "\n",
       "                 (mean_layer_nonzero, std)  (stdev_layer, mean)  \\\n",
       "model                                                             \n",
       "MNIST                             0.002762             0.002266   \n",
       "CIFAR10                           0.013320             0.001239   \n",
       "FASHION                           0.002728             0.002186   \n",
       "MNIST+DROPOUT                     0.001835             0.002431   \n",
       "CIFAR10+DROPOUT                   0.024589             0.000955   \n",
       "FASHION+DROPOUT                   0.002760             0.001896   \n",
       "\n",
       "                 (stdev_layer, std)  (stdev_layer_nonzero, mean)  \\\n",
       "model                                                              \n",
       "MNIST                      0.000253                     0.001045   \n",
       "CIFAR10                    0.000184                     0.000581   \n",
       "FASHION                    0.000274                     0.000926   \n",
       "MNIST+DROPOUT              0.000288                     0.001262   \n",
       "CIFAR10+DROPOUT            0.000167                     0.001108   \n",
       "FASHION+DROPOUT            0.000245                     0.001072   \n",
       "\n",
       "                 (stdev_layer_nonzero, std)  ...  (is_sig_layer, std)  \\\n",
       "model                                        ...                        \n",
       "MNIST                              0.000201  ...             0.000000   \n",
       "CIFAR10                            0.000188  ...             0.316228   \n",
       "FASHION                            0.000157  ...             0.000000   \n",
       "MNIST+DROPOUT                      0.000229  ...             0.000000   \n",
       "CIFAR10+DROPOUT                    0.000193  ...             0.316228   \n",
       "FASHION+DROPOUT                    0.000263  ...             0.000000   \n",
       "\n",
       "                 (is_sig_layer_nonzero, mean)  (is_sig_layer_nonzero, std)  \\\n",
       "model                                                                        \n",
       "MNIST                                   False                          0.0   \n",
       "CIFAR10                                 False                          0.0   \n",
       "FASHION                                 False                          0.0   \n",
       "MNIST+DROPOUT                           False                          0.0   \n",
       "CIFAR10+DROPOUT                         False                          0.0   \n",
       "FASHION+DROPOUT                         False                          0.0   \n",
       "\n",
       "                 n_models  train_acc  test_acc  overall_std_layer  \\\n",
       "model                                                               \n",
       "MNIST                  10   1.000000   0.98357           0.002536   \n",
       "CIFAR10                10   0.650088   0.41523           0.005939   \n",
       "FASHION                10   0.982630   0.89344           0.002746   \n",
       "MNIST+DROPOUT          10   0.966788   0.97940           0.002651   \n",
       "CIFAR10+DROPOUT        10   0.427050   0.42189           0.008304   \n",
       "FASHION+DROPOUT        10   0.863268   0.86921           0.002568   \n",
       "\n",
       "                 overall_std_layer_nonzero  is_stable_layer  \\\n",
       "model                                                         \n",
       "MNIST                             0.002827            False   \n",
       "CIFAR10                           0.012651            False   \n",
       "FASHION                           0.002753            False   \n",
       "MNIST+DROPOUT                     0.002161            False   \n",
       "CIFAR10+DROPOUT                   0.023354            False   \n",
       "FASHION+DROPOUT                   0.002840            False   \n",
       "\n",
       "                 is_stable_layer_nonzero  \n",
       "model                                     \n",
       "MNIST                              False  \n",
       "CIFAR10                            False  \n",
       "FASHION                            False  \n",
       "MNIST+DROPOUT                      False  \n",
       "CIFAR10+DROPOUT                    False  \n",
       "FASHION+DROPOUT                    False  \n",
       "\n",
       "[6 rows x 29 columns]"
      ]
     },
     "execution_count": 20,
     "metadata": {},
     "output_type": "execute_result"
    }
   ],
   "source": [
    "statistics_df"
   ]
  },
  {
   "cell_type": "markdown",
   "metadata": {
    "papermill": {
     "duration": 0.174444,
     "end_time": "2020-05-27T11:18:02.031308",
     "exception": false,
     "start_time": "2020-05-27T11:18:01.856864",
     "status": "completed"
    },
    "tags": []
   },
   "source": [
    "### Appendix - All Samples"
   ]
  },
  {
   "cell_type": "code",
   "execution_count": 21,
   "metadata": {
    "papermill": {
     "duration": 0.265674,
     "end_time": "2020-05-27T11:18:02.475964",
     "exception": false,
     "start_time": "2020-05-27T11:18:02.210290",
     "status": "completed"
    },
    "tags": []
   },
   "outputs": [
    {
     "data": {
      "text/html": [
       "<div>\n",
       "<style scoped>\n",
       "    .dataframe tbody tr th:only-of-type {\n",
       "        vertical-align: middle;\n",
       "    }\n",
       "\n",
       "    .dataframe tbody tr th {\n",
       "        vertical-align: top;\n",
       "    }\n",
       "\n",
       "    .dataframe thead th {\n",
       "        text-align: right;\n",
       "    }\n",
       "</style>\n",
       "<table border=\"1\" class=\"dataframe\">\n",
       "  <thead>\n",
       "    <tr style=\"text-align: right;\">\n",
       "      <th></th>\n",
       "      <th>model</th>\n",
       "      <th>train_acc</th>\n",
       "      <th>train_loss</th>\n",
       "      <th>test_acc</th>\n",
       "      <th>test_loss</th>\n",
       "      <th>ncut</th>\n",
       "      <th>ave_in_out</th>\n",
       "      <th>n_samples</th>\n",
       "      <th>mean_layer</th>\n",
       "      <th>percentile_layer</th>\n",
       "      <th>stdev_layer</th>\n",
       "      <th>z_score_layer</th>\n",
       "      <th>is_sig_layer</th>\n",
       "      <th>mean_layer_nonzero</th>\n",
       "      <th>percentile_layer_nonzero</th>\n",
       "      <th>stdev_layer_nonzero</th>\n",
       "      <th>z_score_layer_nonzero</th>\n",
       "      <th>is_sig_layer_nonzero</th>\n",
       "      <th>cohen_d</th>\n",
       "    </tr>\n",
       "  </thead>\n",
       "  <tbody>\n",
       "    <tr>\n",
       "      <th>0</th>\n",
       "      <td>MNIST</td>\n",
       "      <td>1.000000</td>\n",
       "      <td>0.000048</td>\n",
       "      <td>0.9835</td>\n",
       "      <td>0.095332</td>\n",
       "      <td>0.329965</td>\n",
       "      <td>2.530629</td>\n",
       "      <td>320</td>\n",
       "      <td>0.329872</td>\n",
       "      <td>0.563863</td>\n",
       "      <td>0.002359</td>\n",
       "      <td>0.039226</td>\n",
       "      <td>False</td>\n",
       "      <td>0.329494</td>\n",
       "      <td>0.595016</td>\n",
       "      <td>0.001083</td>\n",
       "      <td>0.434404</td>\n",
       "      <td>False</td>\n",
       "      <td>0.483902</td>\n",
       "    </tr>\n",
       "    <tr>\n",
       "      <th>1</th>\n",
       "      <td>MNIST</td>\n",
       "      <td>1.000000</td>\n",
       "      <td>0.000056</td>\n",
       "      <td>0.9847</td>\n",
       "      <td>0.090697</td>\n",
       "      <td>0.330161</td>\n",
       "      <td>2.528825</td>\n",
       "      <td>320</td>\n",
       "      <td>0.329599</td>\n",
       "      <td>0.563863</td>\n",
       "      <td>0.002051</td>\n",
       "      <td>0.273888</td>\n",
       "      <td>False</td>\n",
       "      <td>0.328940</td>\n",
       "      <td>0.875389</td>\n",
       "      <td>0.000903</td>\n",
       "      <td>1.351846</td>\n",
       "      <td>False</td>\n",
       "      <td>0.518073</td>\n",
       "    </tr>\n",
       "    <tr>\n",
       "      <th>2</th>\n",
       "      <td>MNIST</td>\n",
       "      <td>1.000000</td>\n",
       "      <td>0.000059</td>\n",
       "      <td>0.9830</td>\n",
       "      <td>0.099833</td>\n",
       "      <td>0.333930</td>\n",
       "      <td>2.494644</td>\n",
       "      <td>320</td>\n",
       "      <td>0.328610</td>\n",
       "      <td>0.968847</td>\n",
       "      <td>0.002429</td>\n",
       "      <td>2.190334</td>\n",
       "      <td>False</td>\n",
       "      <td>0.332132</td>\n",
       "      <td>0.968847</td>\n",
       "      <td>0.001124</td>\n",
       "      <td>1.599889</td>\n",
       "      <td>False</td>\n",
       "      <td>0.474365</td>\n",
       "    </tr>\n",
       "    <tr>\n",
       "      <th>3</th>\n",
       "      <td>MNIST</td>\n",
       "      <td>1.000000</td>\n",
       "      <td>0.000062</td>\n",
       "      <td>0.9828</td>\n",
       "      <td>0.099546</td>\n",
       "      <td>0.331197</td>\n",
       "      <td>2.519351</td>\n",
       "      <td>320</td>\n",
       "      <td>0.329903</td>\n",
       "      <td>0.626168</td>\n",
       "      <td>0.002327</td>\n",
       "      <td>0.556271</td>\n",
       "      <td>False</td>\n",
       "      <td>0.329517</td>\n",
       "      <td>1.000000</td>\n",
       "      <td>0.000927</td>\n",
       "      <td>1.812551</td>\n",
       "      <td>False</td>\n",
       "      <td>0.513064</td>\n",
       "    </tr>\n",
       "    <tr>\n",
       "      <th>4</th>\n",
       "      <td>MNIST</td>\n",
       "      <td>1.000000</td>\n",
       "      <td>0.000081</td>\n",
       "      <td>0.9845</td>\n",
       "      <td>0.097756</td>\n",
       "      <td>0.337609</td>\n",
       "      <td>2.462010</td>\n",
       "      <td>320</td>\n",
       "      <td>0.332344</td>\n",
       "      <td>1.000000</td>\n",
       "      <td>0.002243</td>\n",
       "      <td>2.347679</td>\n",
       "      <td>False</td>\n",
       "      <td>0.335694</td>\n",
       "      <td>0.875389</td>\n",
       "      <td>0.001318</td>\n",
       "      <td>1.452518</td>\n",
       "      <td>False</td>\n",
       "      <td>0.450070</td>\n",
       "    </tr>\n",
       "    <tr>\n",
       "      <th>5</th>\n",
       "      <td>MNIST</td>\n",
       "      <td>1.000000</td>\n",
       "      <td>0.000048</td>\n",
       "      <td>0.9835</td>\n",
       "      <td>0.095626</td>\n",
       "      <td>0.331404</td>\n",
       "      <td>2.517462</td>\n",
       "      <td>320</td>\n",
       "      <td>0.331395</td>\n",
       "      <td>0.408100</td>\n",
       "      <td>0.002754</td>\n",
       "      <td>0.003563</td>\n",
       "      <td>False</td>\n",
       "      <td>0.328806</td>\n",
       "      <td>1.000000</td>\n",
       "      <td>0.000848</td>\n",
       "      <td>3.063931</td>\n",
       "      <td>False</td>\n",
       "      <td>0.531824</td>\n",
       "    </tr>\n",
       "    <tr>\n",
       "      <th>6</th>\n",
       "      <td>MNIST</td>\n",
       "      <td>1.000000</td>\n",
       "      <td>0.000056</td>\n",
       "      <td>0.9838</td>\n",
       "      <td>0.087238</td>\n",
       "      <td>0.335151</td>\n",
       "      <td>2.483726</td>\n",
       "      <td>320</td>\n",
       "      <td>0.330888</td>\n",
       "      <td>0.968847</td>\n",
       "      <td>0.002116</td>\n",
       "      <td>2.014740</td>\n",
       "      <td>False</td>\n",
       "      <td>0.333080</td>\n",
       "      <td>1.000000</td>\n",
       "      <td>0.001018</td>\n",
       "      <td>2.033987</td>\n",
       "      <td>False</td>\n",
       "      <td>0.495887</td>\n",
       "    </tr>\n",
       "    <tr>\n",
       "      <th>7</th>\n",
       "      <td>MNIST</td>\n",
       "      <td>1.000000</td>\n",
       "      <td>0.000061</td>\n",
       "      <td>0.9838</td>\n",
       "      <td>0.100444</td>\n",
       "      <td>0.332732</td>\n",
       "      <td>2.505426</td>\n",
       "      <td>320</td>\n",
       "      <td>0.332105</td>\n",
       "      <td>0.626168</td>\n",
       "      <td>0.001924</td>\n",
       "      <td>0.325583</td>\n",
       "      <td>False</td>\n",
       "      <td>0.333334</td>\n",
       "      <td>0.221184</td>\n",
       "      <td>0.000755</td>\n",
       "      <td>-0.797120</td>\n",
       "      <td>False</td>\n",
       "      <td>0.554175</td>\n",
       "    </tr>\n",
       "    <tr>\n",
       "      <th>8</th>\n",
       "      <td>MNIST</td>\n",
       "      <td>1.000000</td>\n",
       "      <td>0.000047</td>\n",
       "      <td>0.9828</td>\n",
       "      <td>0.093142</td>\n",
       "      <td>0.331260</td>\n",
       "      <td>2.518777</td>\n",
       "      <td>320</td>\n",
       "      <td>0.330194</td>\n",
       "      <td>0.657321</td>\n",
       "      <td>0.001992</td>\n",
       "      <td>0.535228</td>\n",
       "      <td>False</td>\n",
       "      <td>0.329284</td>\n",
       "      <td>0.937695</td>\n",
       "      <td>0.001082</td>\n",
       "      <td>1.826329</td>\n",
       "      <td>False</td>\n",
       "      <td>0.485221</td>\n",
       "    </tr>\n",
       "    <tr>\n",
       "      <th>9</th>\n",
       "      <td>MNIST</td>\n",
       "      <td>1.000000</td>\n",
       "      <td>0.000049</td>\n",
       "      <td>0.9833</td>\n",
       "      <td>0.102283</td>\n",
       "      <td>0.337271</td>\n",
       "      <td>2.464977</td>\n",
       "      <td>320</td>\n",
       "      <td>0.330002</td>\n",
       "      <td>0.968847</td>\n",
       "      <td>0.002464</td>\n",
       "      <td>2.949653</td>\n",
       "      <td>False</td>\n",
       "      <td>0.335770</td>\n",
       "      <td>0.844237</td>\n",
       "      <td>0.001393</td>\n",
       "      <td>1.077225</td>\n",
       "      <td>False</td>\n",
       "      <td>0.436860</td>\n",
       "    </tr>\n",
       "    <tr>\n",
       "      <th>10</th>\n",
       "      <td>CIFAR10</td>\n",
       "      <td>0.647020</td>\n",
       "      <td>0.982019</td>\n",
       "      <td>0.4164</td>\n",
       "      <td>2.009407</td>\n",
       "      <td>0.314240</td>\n",
       "      <td>2.682276</td>\n",
       "      <td>320</td>\n",
       "      <td>0.318902</td>\n",
       "      <td>0.003115</td>\n",
       "      <td>0.001191</td>\n",
       "      <td>-3.913489</td>\n",
       "      <td>True</td>\n",
       "      <td>0.307621</td>\n",
       "      <td>1.000000</td>\n",
       "      <td>0.000827</td>\n",
       "      <td>8.000536</td>\n",
       "      <td>False</td>\n",
       "      <td>0.528301</td>\n",
       "    </tr>\n",
       "    <tr>\n",
       "      <th>11</th>\n",
       "      <td>CIFAR10</td>\n",
       "      <td>0.655260</td>\n",
       "      <td>0.968012</td>\n",
       "      <td>0.4196</td>\n",
       "      <td>2.009614</td>\n",
       "      <td>0.312869</td>\n",
       "      <td>2.696229</td>\n",
       "      <td>320</td>\n",
       "      <td>0.317546</td>\n",
       "      <td>0.003115</td>\n",
       "      <td>0.000927</td>\n",
       "      <td>-5.045120</td>\n",
       "      <td>True</td>\n",
       "      <td>0.306037</td>\n",
       "      <td>1.000000</td>\n",
       "      <td>0.000568</td>\n",
       "      <td>12.026482</td>\n",
       "      <td>False</td>\n",
       "      <td>0.601401</td>\n",
       "    </tr>\n",
       "    <tr>\n",
       "      <th>12</th>\n",
       "      <td>CIFAR10</td>\n",
       "      <td>0.645800</td>\n",
       "      <td>0.993128</td>\n",
       "      <td>0.4085</td>\n",
       "      <td>2.026656</td>\n",
       "      <td>0.294478</td>\n",
       "      <td>2.895837</td>\n",
       "      <td>320</td>\n",
       "      <td>0.305161</td>\n",
       "      <td>0.003115</td>\n",
       "      <td>0.001078</td>\n",
       "      <td>-9.913187</td>\n",
       "      <td>True</td>\n",
       "      <td>0.279232</td>\n",
       "      <td>1.000000</td>\n",
       "      <td>0.000820</td>\n",
       "      <td>18.597838</td>\n",
       "      <td>False</td>\n",
       "      <td>0.519631</td>\n",
       "    </tr>\n",
       "    <tr>\n",
       "      <th>13</th>\n",
       "      <td>CIFAR10</td>\n",
       "      <td>0.645580</td>\n",
       "      <td>0.992089</td>\n",
       "      <td>0.4107</td>\n",
       "      <td>2.004410</td>\n",
       "      <td>0.300670</td>\n",
       "      <td>2.825904</td>\n",
       "      <td>320</td>\n",
       "      <td>0.309404</td>\n",
       "      <td>0.003115</td>\n",
       "      <td>0.001148</td>\n",
       "      <td>-7.605136</td>\n",
       "      <td>True</td>\n",
       "      <td>0.289069</td>\n",
       "      <td>1.000000</td>\n",
       "      <td>0.000571</td>\n",
       "      <td>20.314053</td>\n",
       "      <td>False</td>\n",
       "      <td>0.595461</td>\n",
       "    </tr>\n",
       "    <tr>\n",
       "      <th>14</th>\n",
       "      <td>CIFAR10</td>\n",
       "      <td>0.654440</td>\n",
       "      <td>0.964225</td>\n",
       "      <td>0.4239</td>\n",
       "      <td>1.981631</td>\n",
       "      <td>0.315640</td>\n",
       "      <td>2.668166</td>\n",
       "      <td>320</td>\n",
       "      <td>0.319390</td>\n",
       "      <td>0.003115</td>\n",
       "      <td>0.001487</td>\n",
       "      <td>-2.521704</td>\n",
       "      <td>True</td>\n",
       "      <td>0.308754</td>\n",
       "      <td>1.000000</td>\n",
       "      <td>0.000550</td>\n",
       "      <td>12.515774</td>\n",
       "      <td>False</td>\n",
       "      <td>0.608323</td>\n",
       "    </tr>\n",
       "    <tr>\n",
       "      <th>15</th>\n",
       "      <td>CIFAR10</td>\n",
       "      <td>0.652180</td>\n",
       "      <td>0.973041</td>\n",
       "      <td>0.4111</td>\n",
       "      <td>2.053139</td>\n",
       "      <td>0.295704</td>\n",
       "      <td>2.881764</td>\n",
       "      <td>320</td>\n",
       "      <td>0.306315</td>\n",
       "      <td>0.003115</td>\n",
       "      <td>0.001314</td>\n",
       "      <td>-8.075259</td>\n",
       "      <td>True</td>\n",
       "      <td>0.282069</td>\n",
       "      <td>1.000000</td>\n",
       "      <td>0.000498</td>\n",
       "      <td>27.406171</td>\n",
       "      <td>False</td>\n",
       "      <td>0.622231</td>\n",
       "    </tr>\n",
       "    <tr>\n",
       "      <th>16</th>\n",
       "      <td>CIFAR10</td>\n",
       "      <td>0.644540</td>\n",
       "      <td>0.994267</td>\n",
       "      <td>0.4178</td>\n",
       "      <td>1.984371</td>\n",
       "      <td>0.301966</td>\n",
       "      <td>2.811629</td>\n",
       "      <td>320</td>\n",
       "      <td>0.309832</td>\n",
       "      <td>0.003115</td>\n",
       "      <td>0.001275</td>\n",
       "      <td>-6.167629</td>\n",
       "      <td>True</td>\n",
       "      <td>0.291154</td>\n",
       "      <td>1.000000</td>\n",
       "      <td>0.000785</td>\n",
       "      <td>13.780119</td>\n",
       "      <td>False</td>\n",
       "      <td>0.530771</td>\n",
       "    </tr>\n",
       "    <tr>\n",
       "      <th>17</th>\n",
       "      <td>CIFAR10</td>\n",
       "      <td>0.651840</td>\n",
       "      <td>0.974107</td>\n",
       "      <td>0.4177</td>\n",
       "      <td>1.981042</td>\n",
       "      <td>0.314059</td>\n",
       "      <td>2.684117</td>\n",
       "      <td>320</td>\n",
       "      <td>0.316932</td>\n",
       "      <td>0.003115</td>\n",
       "      <td>0.001395</td>\n",
       "      <td>-2.059393</td>\n",
       "      <td>True</td>\n",
       "      <td>0.307393</td>\n",
       "      <td>1.000000</td>\n",
       "      <td>0.000339</td>\n",
       "      <td>19.670614</td>\n",
       "      <td>False</td>\n",
       "      <td>0.698247</td>\n",
       "    </tr>\n",
       "    <tr>\n",
       "      <th>18</th>\n",
       "      <td>CIFAR10</td>\n",
       "      <td>0.643280</td>\n",
       "      <td>0.998221</td>\n",
       "      <td>0.4150</td>\n",
       "      <td>2.007964</td>\n",
       "      <td>0.295675</td>\n",
       "      <td>2.882088</td>\n",
       "      <td>320</td>\n",
       "      <td>0.305491</td>\n",
       "      <td>0.003115</td>\n",
       "      <td>0.001093</td>\n",
       "      <td>-8.983393</td>\n",
       "      <td>True</td>\n",
       "      <td>0.281685</td>\n",
       "      <td>1.000000</td>\n",
       "      <td>0.000576</td>\n",
       "      <td>24.280213</td>\n",
       "      <td>False</td>\n",
       "      <td>0.590887</td>\n",
       "    </tr>\n",
       "    <tr>\n",
       "      <th>19</th>\n",
       "      <td>CIFAR10</td>\n",
       "      <td>0.660940</td>\n",
       "      <td>0.956555</td>\n",
       "      <td>0.4116</td>\n",
       "      <td>2.029548</td>\n",
       "      <td>0.318317</td>\n",
       "      <td>2.641524</td>\n",
       "      <td>320</td>\n",
       "      <td>0.319333</td>\n",
       "      <td>0.252336</td>\n",
       "      <td>0.001479</td>\n",
       "      <td>-0.686863</td>\n",
       "      <td>False</td>\n",
       "      <td>0.313939</td>\n",
       "      <td>1.000000</td>\n",
       "      <td>0.000275</td>\n",
       "      <td>15.910679</td>\n",
       "      <td>False</td>\n",
       "      <td>0.733493</td>\n",
       "    </tr>\n",
       "    <tr>\n",
       "      <th>20</th>\n",
       "      <td>FASHION</td>\n",
       "      <td>0.982533</td>\n",
       "      <td>0.049309</td>\n",
       "      <td>0.8937</td>\n",
       "      <td>0.532207</td>\n",
       "      <td>0.319982</td>\n",
       "      <td>2.625177</td>\n",
       "      <td>320</td>\n",
       "      <td>0.313300</td>\n",
       "      <td>1.000000</td>\n",
       "      <td>0.002137</td>\n",
       "      <td>3.126423</td>\n",
       "      <td>False</td>\n",
       "      <td>0.316795</td>\n",
       "      <td>1.000000</td>\n",
       "      <td>0.001020</td>\n",
       "      <td>3.125606</td>\n",
       "      <td>False</td>\n",
       "      <td>0.474879</td>\n",
       "    </tr>\n",
       "    <tr>\n",
       "      <th>21</th>\n",
       "      <td>FASHION</td>\n",
       "      <td>0.982217</td>\n",
       "      <td>0.049195</td>\n",
       "      <td>0.8939</td>\n",
       "      <td>0.526313</td>\n",
       "      <td>0.322536</td>\n",
       "      <td>2.600431</td>\n",
       "      <td>320</td>\n",
       "      <td>0.314453</td>\n",
       "      <td>1.000000</td>\n",
       "      <td>0.002137</td>\n",
       "      <td>3.781497</td>\n",
       "      <td>False</td>\n",
       "      <td>0.320147</td>\n",
       "      <td>1.000000</td>\n",
       "      <td>0.000957</td>\n",
       "      <td>2.496662</td>\n",
       "      <td>False</td>\n",
       "      <td>0.487047</td>\n",
       "    </tr>\n",
       "    <tr>\n",
       "      <th>22</th>\n",
       "      <td>FASHION</td>\n",
       "      <td>0.982300</td>\n",
       "      <td>0.047581</td>\n",
       "      <td>0.8911</td>\n",
       "      <td>0.595367</td>\n",
       "      <td>0.319935</td>\n",
       "      <td>2.625632</td>\n",
       "      <td>320</td>\n",
       "      <td>0.312601</td>\n",
       "      <td>1.000000</td>\n",
       "      <td>0.002449</td>\n",
       "      <td>2.994576</td>\n",
       "      <td>False</td>\n",
       "      <td>0.318276</td>\n",
       "      <td>1.000000</td>\n",
       "      <td>0.001094</td>\n",
       "      <td>1.516540</td>\n",
       "      <td>False</td>\n",
       "      <td>0.460221</td>\n",
       "    </tr>\n",
       "    <tr>\n",
       "      <th>23</th>\n",
       "      <td>FASHION</td>\n",
       "      <td>0.983350</td>\n",
       "      <td>0.046463</td>\n",
       "      <td>0.8949</td>\n",
       "      <td>0.575908</td>\n",
       "      <td>0.316542</td>\n",
       "      <td>2.659143</td>\n",
       "      <td>320</td>\n",
       "      <td>0.310822</td>\n",
       "      <td>1.000000</td>\n",
       "      <td>0.001663</td>\n",
       "      <td>3.439737</td>\n",
       "      <td>False</td>\n",
       "      <td>0.315184</td>\n",
       "      <td>0.968847</td>\n",
       "      <td>0.000693</td>\n",
       "      <td>1.959192</td>\n",
       "      <td>False</td>\n",
       "      <td>0.543956</td>\n",
       "    </tr>\n",
       "    <tr>\n",
       "      <th>24</th>\n",
       "      <td>FASHION</td>\n",
       "      <td>0.982533</td>\n",
       "      <td>0.048930</td>\n",
       "      <td>0.8909</td>\n",
       "      <td>0.551969</td>\n",
       "      <td>0.323342</td>\n",
       "      <td>2.592701</td>\n",
       "      <td>320</td>\n",
       "      <td>0.314672</td>\n",
       "      <td>1.000000</td>\n",
       "      <td>0.002347</td>\n",
       "      <td>3.693438</td>\n",
       "      <td>False</td>\n",
       "      <td>0.321276</td>\n",
       "      <td>0.968847</td>\n",
       "      <td>0.000971</td>\n",
       "      <td>2.126911</td>\n",
       "      <td>False</td>\n",
       "      <td>0.483876</td>\n",
       "    </tr>\n",
       "    <tr>\n",
       "      <th>25</th>\n",
       "      <td>FASHION</td>\n",
       "      <td>0.983767</td>\n",
       "      <td>0.045901</td>\n",
       "      <td>0.8976</td>\n",
       "      <td>0.545859</td>\n",
       "      <td>0.319973</td>\n",
       "      <td>2.625266</td>\n",
       "      <td>320</td>\n",
       "      <td>0.311264</td>\n",
       "      <td>1.000000</td>\n",
       "      <td>0.002033</td>\n",
       "      <td>4.284387</td>\n",
       "      <td>False</td>\n",
       "      <td>0.317435</td>\n",
       "      <td>1.000000</td>\n",
       "      <td>0.001110</td>\n",
       "      <td>2.285104</td>\n",
       "      <td>False</td>\n",
       "      <td>0.456452</td>\n",
       "    </tr>\n",
       "    <tr>\n",
       "      <th>26</th>\n",
       "      <td>FASHION</td>\n",
       "      <td>0.982167</td>\n",
       "      <td>0.049422</td>\n",
       "      <td>0.8916</td>\n",
       "      <td>0.564790</td>\n",
       "      <td>0.316521</td>\n",
       "      <td>2.659348</td>\n",
       "      <td>320</td>\n",
       "      <td>0.311190</td>\n",
       "      <td>1.000000</td>\n",
       "      <td>0.002662</td>\n",
       "      <td>2.002686</td>\n",
       "      <td>False</td>\n",
       "      <td>0.315356</td>\n",
       "      <td>0.875389</td>\n",
       "      <td>0.000908</td>\n",
       "      <td>1.282501</td>\n",
       "      <td>False</td>\n",
       "      <td>0.492430</td>\n",
       "    </tr>\n",
       "    <tr>\n",
       "      <th>27</th>\n",
       "      <td>FASHION</td>\n",
       "      <td>0.982600</td>\n",
       "      <td>0.049156</td>\n",
       "      <td>0.8944</td>\n",
       "      <td>0.546913</td>\n",
       "      <td>0.314293</td>\n",
       "      <td>2.681747</td>\n",
       "      <td>320</td>\n",
       "      <td>0.310325</td>\n",
       "      <td>0.968847</td>\n",
       "      <td>0.002015</td>\n",
       "      <td>1.969105</td>\n",
       "      <td>False</td>\n",
       "      <td>0.314338</td>\n",
       "      <td>0.439252</td>\n",
       "      <td>0.000692</td>\n",
       "      <td>-0.064706</td>\n",
       "      <td>False</td>\n",
       "      <td>0.543123</td>\n",
       "    </tr>\n",
       "    <tr>\n",
       "      <th>28</th>\n",
       "      <td>FASHION</td>\n",
       "      <td>0.982267</td>\n",
       "      <td>0.049309</td>\n",
       "      <td>0.8942</td>\n",
       "      <td>0.554626</td>\n",
       "      <td>0.316773</td>\n",
       "      <td>2.656831</td>\n",
       "      <td>320</td>\n",
       "      <td>0.312153</td>\n",
       "      <td>0.968847</td>\n",
       "      <td>0.002309</td>\n",
       "      <td>2.000491</td>\n",
       "      <td>False</td>\n",
       "      <td>0.315816</td>\n",
       "      <td>0.844237</td>\n",
       "      <td>0.000767</td>\n",
       "      <td>1.247637</td>\n",
       "      <td>False</td>\n",
       "      <td>0.525642</td>\n",
       "    </tr>\n",
       "    <tr>\n",
       "      <th>29</th>\n",
       "      <td>FASHION</td>\n",
       "      <td>0.982567</td>\n",
       "      <td>0.048766</td>\n",
       "      <td>0.8921</td>\n",
       "      <td>0.539734</td>\n",
       "      <td>0.324311</td>\n",
       "      <td>2.583462</td>\n",
       "      <td>320</td>\n",
       "      <td>0.315137</td>\n",
       "      <td>1.000000</td>\n",
       "      <td>0.002103</td>\n",
       "      <td>4.361388</td>\n",
       "      <td>False</td>\n",
       "      <td>0.322208</td>\n",
       "      <td>1.000000</td>\n",
       "      <td>0.001044</td>\n",
       "      <td>2.013634</td>\n",
       "      <td>False</td>\n",
       "      <td>0.471527</td>\n",
       "    </tr>\n",
       "    <tr>\n",
       "      <th>30</th>\n",
       "      <td>MNIST+DROPOUT</td>\n",
       "      <td>0.967817</td>\n",
       "      <td>0.120144</td>\n",
       "      <td>0.9796</td>\n",
       "      <td>0.084581</td>\n",
       "      <td>0.332111</td>\n",
       "      <td>2.511043</td>\n",
       "      <td>320</td>\n",
       "      <td>0.323871</td>\n",
       "      <td>1.000000</td>\n",
       "      <td>0.001831</td>\n",
       "      <td>4.500197</td>\n",
       "      <td>False</td>\n",
       "      <td>0.329616</td>\n",
       "      <td>1.000000</td>\n",
       "      <td>0.001238</td>\n",
       "      <td>2.015573</td>\n",
       "      <td>False</td>\n",
       "      <td>0.451874</td>\n",
       "    </tr>\n",
       "    <tr>\n",
       "      <th>31</th>\n",
       "      <td>MNIST+DROPOUT</td>\n",
       "      <td>0.965267</td>\n",
       "      <td>0.127326</td>\n",
       "      <td>0.9802</td>\n",
       "      <td>0.083526</td>\n",
       "      <td>0.332924</td>\n",
       "      <td>2.503693</td>\n",
       "      <td>320</td>\n",
       "      <td>0.323296</td>\n",
       "      <td>1.000000</td>\n",
       "      <td>0.002229</td>\n",
       "      <td>4.319884</td>\n",
       "      <td>False</td>\n",
       "      <td>0.329981</td>\n",
       "      <td>1.000000</td>\n",
       "      <td>0.001142</td>\n",
       "      <td>2.578000</td>\n",
       "      <td>False</td>\n",
       "      <td>0.464801</td>\n",
       "    </tr>\n",
       "    <tr>\n",
       "      <th>32</th>\n",
       "      <td>MNIST+DROPOUT</td>\n",
       "      <td>0.966667</td>\n",
       "      <td>0.123364</td>\n",
       "      <td>0.9789</td>\n",
       "      <td>0.081798</td>\n",
       "      <td>0.330929</td>\n",
       "      <td>2.521799</td>\n",
       "      <td>320</td>\n",
       "      <td>0.324427</td>\n",
       "      <td>1.000000</td>\n",
       "      <td>0.002623</td>\n",
       "      <td>2.478314</td>\n",
       "      <td>False</td>\n",
       "      <td>0.328824</td>\n",
       "      <td>1.000000</td>\n",
       "      <td>0.000818</td>\n",
       "      <td>2.571129</td>\n",
       "      <td>False</td>\n",
       "      <td>0.527369</td>\n",
       "    </tr>\n",
       "    <tr>\n",
       "      <th>33</th>\n",
       "      <td>MNIST+DROPOUT</td>\n",
       "      <td>0.967167</td>\n",
       "      <td>0.125616</td>\n",
       "      <td>0.9800</td>\n",
       "      <td>0.081888</td>\n",
       "      <td>0.330114</td>\n",
       "      <td>2.529259</td>\n",
       "      <td>320</td>\n",
       "      <td>0.323235</td>\n",
       "      <td>1.000000</td>\n",
       "      <td>0.002698</td>\n",
       "      <td>2.549442</td>\n",
       "      <td>False</td>\n",
       "      <td>0.329767</td>\n",
       "      <td>0.563863</td>\n",
       "      <td>0.001655</td>\n",
       "      <td>0.209506</td>\n",
       "      <td>False</td>\n",
       "      <td>0.399889</td>\n",
       "    </tr>\n",
       "    <tr>\n",
       "      <th>34</th>\n",
       "      <td>MNIST+DROPOUT</td>\n",
       "      <td>0.966133</td>\n",
       "      <td>0.127377</td>\n",
       "      <td>0.9793</td>\n",
       "      <td>0.084823</td>\n",
       "      <td>0.333830</td>\n",
       "      <td>2.495538</td>\n",
       "      <td>320</td>\n",
       "      <td>0.322823</td>\n",
       "      <td>1.000000</td>\n",
       "      <td>0.002720</td>\n",
       "      <td>4.046283</td>\n",
       "      <td>False</td>\n",
       "      <td>0.332661</td>\n",
       "      <td>0.875389</td>\n",
       "      <td>0.001147</td>\n",
       "      <td>1.019206</td>\n",
       "      <td>False</td>\n",
       "      <td>0.461688</td>\n",
       "    </tr>\n",
       "    <tr>\n",
       "      <th>35</th>\n",
       "      <td>MNIST+DROPOUT</td>\n",
       "      <td>0.965633</td>\n",
       "      <td>0.123383</td>\n",
       "      <td>0.9782</td>\n",
       "      <td>0.086029</td>\n",
       "      <td>0.330967</td>\n",
       "      <td>2.521447</td>\n",
       "      <td>320</td>\n",
       "      <td>0.321219</td>\n",
       "      <td>1.000000</td>\n",
       "      <td>0.002444</td>\n",
       "      <td>3.988152</td>\n",
       "      <td>False</td>\n",
       "      <td>0.329162</td>\n",
       "      <td>0.875389</td>\n",
       "      <td>0.001522</td>\n",
       "      <td>1.186624</td>\n",
       "      <td>False</td>\n",
       "      <td>0.411878</td>\n",
       "    </tr>\n",
       "    <tr>\n",
       "      <th>36</th>\n",
       "      <td>MNIST+DROPOUT</td>\n",
       "      <td>0.966617</td>\n",
       "      <td>0.125282</td>\n",
       "      <td>0.9790</td>\n",
       "      <td>0.083403</td>\n",
       "      <td>0.331467</td>\n",
       "      <td>2.516889</td>\n",
       "      <td>320</td>\n",
       "      <td>0.321774</td>\n",
       "      <td>1.000000</td>\n",
       "      <td>0.002243</td>\n",
       "      <td>4.322058</td>\n",
       "      <td>False</td>\n",
       "      <td>0.330550</td>\n",
       "      <td>0.719626</td>\n",
       "      <td>0.001402</td>\n",
       "      <td>0.654053</td>\n",
       "      <td>False</td>\n",
       "      <td>0.426461</td>\n",
       "    </tr>\n",
       "    <tr>\n",
       "      <th>37</th>\n",
       "      <td>MNIST+DROPOUT</td>\n",
       "      <td>0.967667</td>\n",
       "      <td>0.122877</td>\n",
       "      <td>0.9808</td>\n",
       "      <td>0.082423</td>\n",
       "      <td>0.334031</td>\n",
       "      <td>2.493732</td>\n",
       "      <td>320</td>\n",
       "      <td>0.322710</td>\n",
       "      <td>1.000000</td>\n",
       "      <td>0.002649</td>\n",
       "      <td>4.273280</td>\n",
       "      <td>False</td>\n",
       "      <td>0.332531</td>\n",
       "      <td>0.875389</td>\n",
       "      <td>0.001259</td>\n",
       "      <td>1.191548</td>\n",
       "      <td>False</td>\n",
       "      <td>0.445237</td>\n",
       "    </tr>\n",
       "    <tr>\n",
       "      <th>38</th>\n",
       "      <td>MNIST+DROPOUT</td>\n",
       "      <td>0.967450</td>\n",
       "      <td>0.122427</td>\n",
       "      <td>0.9793</td>\n",
       "      <td>0.082078</td>\n",
       "      <td>0.336755</td>\n",
       "      <td>2.469515</td>\n",
       "      <td>320</td>\n",
       "      <td>0.324554</td>\n",
       "      <td>1.000000</td>\n",
       "      <td>0.002625</td>\n",
       "      <td>4.648461</td>\n",
       "      <td>False</td>\n",
       "      <td>0.334387</td>\n",
       "      <td>1.000000</td>\n",
       "      <td>0.001205</td>\n",
       "      <td>1.965079</td>\n",
       "      <td>False</td>\n",
       "      <td>0.455028</td>\n",
       "    </tr>\n",
       "    <tr>\n",
       "      <th>39</th>\n",
       "      <td>MNIST+DROPOUT</td>\n",
       "      <td>0.967467</td>\n",
       "      <td>0.123260</td>\n",
       "      <td>0.9787</td>\n",
       "      <td>0.084267</td>\n",
       "      <td>0.331310</td>\n",
       "      <td>2.518324</td>\n",
       "      <td>320</td>\n",
       "      <td>0.322423</td>\n",
       "      <td>1.000000</td>\n",
       "      <td>0.002245</td>\n",
       "      <td>3.959418</td>\n",
       "      <td>False</td>\n",
       "      <td>0.329684</td>\n",
       "      <td>0.906542</td>\n",
       "      <td>0.001231</td>\n",
       "      <td>1.320042</td>\n",
       "      <td>False</td>\n",
       "      <td>0.450181</td>\n",
       "    </tr>\n",
       "    <tr>\n",
       "      <th>40</th>\n",
       "      <td>CIFAR10+DROPOUT</td>\n",
       "      <td>0.425220</td>\n",
       "      <td>1.612513</td>\n",
       "      <td>0.4201</td>\n",
       "      <td>1.628318</td>\n",
       "      <td>0.284230</td>\n",
       "      <td>3.018274</td>\n",
       "      <td>320</td>\n",
       "      <td>0.304616</td>\n",
       "      <td>0.003115</td>\n",
       "      <td>0.001111</td>\n",
       "      <td>-18.356509</td>\n",
       "      <td>True</td>\n",
       "      <td>0.247566</td>\n",
       "      <td>1.000000</td>\n",
       "      <td>0.001314</td>\n",
       "      <td>27.906729</td>\n",
       "      <td>False</td>\n",
       "      <td>0.435927</td>\n",
       "    </tr>\n",
       "    <tr>\n",
       "      <th>41</th>\n",
       "      <td>CIFAR10+DROPOUT</td>\n",
       "      <td>0.427100</td>\n",
       "      <td>1.602159</td>\n",
       "      <td>0.4216</td>\n",
       "      <td>1.628530</td>\n",
       "      <td>0.297271</td>\n",
       "      <td>2.863929</td>\n",
       "      <td>320</td>\n",
       "      <td>0.313434</td>\n",
       "      <td>0.003115</td>\n",
       "      <td>0.001076</td>\n",
       "      <td>-15.014631</td>\n",
       "      <td>True</td>\n",
       "      <td>0.267771</td>\n",
       "      <td>1.000000</td>\n",
       "      <td>0.001073</td>\n",
       "      <td>27.498146</td>\n",
       "      <td>False</td>\n",
       "      <td>0.483358</td>\n",
       "    </tr>\n",
       "    <tr>\n",
       "      <th>42</th>\n",
       "      <td>CIFAR10+DROPOUT</td>\n",
       "      <td>0.427520</td>\n",
       "      <td>1.613026</td>\n",
       "      <td>0.4202</td>\n",
       "      <td>1.634889</td>\n",
       "      <td>0.283114</td>\n",
       "      <td>3.032145</td>\n",
       "      <td>320</td>\n",
       "      <td>0.304199</td>\n",
       "      <td>0.003115</td>\n",
       "      <td>0.000720</td>\n",
       "      <td>-29.287900</td>\n",
       "      <td>True</td>\n",
       "      <td>0.245649</td>\n",
       "      <td>1.000000</td>\n",
       "      <td>0.001004</td>\n",
       "      <td>37.318045</td>\n",
       "      <td>False</td>\n",
       "      <td>0.489734</td>\n",
       "    </tr>\n",
       "    <tr>\n",
       "      <th>43</th>\n",
       "      <td>CIFAR10+DROPOUT</td>\n",
       "      <td>0.436320</td>\n",
       "      <td>1.593016</td>\n",
       "      <td>0.4317</td>\n",
       "      <td>1.603236</td>\n",
       "      <td>0.297564</td>\n",
       "      <td>2.860626</td>\n",
       "      <td>320</td>\n",
       "      <td>0.314577</td>\n",
       "      <td>0.003115</td>\n",
       "      <td>0.001075</td>\n",
       "      <td>-15.821443</td>\n",
       "      <td>True</td>\n",
       "      <td>0.266342</td>\n",
       "      <td>1.000000</td>\n",
       "      <td>0.001025</td>\n",
       "      <td>30.470550</td>\n",
       "      <td>False</td>\n",
       "      <td>0.494865</td>\n",
       "    </tr>\n",
       "    <tr>\n",
       "      <th>44</th>\n",
       "      <td>CIFAR10+DROPOUT</td>\n",
       "      <td>0.427500</td>\n",
       "      <td>1.600558</td>\n",
       "      <td>0.4149</td>\n",
       "      <td>1.639029</td>\n",
       "      <td>0.288761</td>\n",
       "      <td>2.963076</td>\n",
       "      <td>320</td>\n",
       "      <td>0.308254</td>\n",
       "      <td>0.003115</td>\n",
       "      <td>0.000934</td>\n",
       "      <td>-20.871227</td>\n",
       "      <td>True</td>\n",
       "      <td>0.254974</td>\n",
       "      <td>1.000000</td>\n",
       "      <td>0.001227</td>\n",
       "      <td>27.541760</td>\n",
       "      <td>False</td>\n",
       "      <td>0.452899</td>\n",
       "    </tr>\n",
       "    <tr>\n",
       "      <th>45</th>\n",
       "      <td>CIFAR10+DROPOUT</td>\n",
       "      <td>0.420800</td>\n",
       "      <td>1.624310</td>\n",
       "      <td>0.4189</td>\n",
       "      <td>1.635075</td>\n",
       "      <td>0.277697</td>\n",
       "      <td>3.101043</td>\n",
       "      <td>320</td>\n",
       "      <td>0.301537</td>\n",
       "      <td>0.003115</td>\n",
       "      <td>0.000846</td>\n",
       "      <td>-28.190690</td>\n",
       "      <td>True</td>\n",
       "      <td>0.236933</td>\n",
       "      <td>1.000000</td>\n",
       "      <td>0.001089</td>\n",
       "      <td>37.428237</td>\n",
       "      <td>False</td>\n",
       "      <td>0.471213</td>\n",
       "    </tr>\n",
       "    <tr>\n",
       "      <th>46</th>\n",
       "      <td>CIFAR10+DROPOUT</td>\n",
       "      <td>0.437900</td>\n",
       "      <td>1.573070</td>\n",
       "      <td>0.4274</td>\n",
       "      <td>1.610751</td>\n",
       "      <td>0.327573</td>\n",
       "      <td>2.552757</td>\n",
       "      <td>320</td>\n",
       "      <td>0.329517</td>\n",
       "      <td>0.065421</td>\n",
       "      <td>0.001223</td>\n",
       "      <td>-1.589498</td>\n",
       "      <td>False</td>\n",
       "      <td>0.320496</td>\n",
       "      <td>1.000000</td>\n",
       "      <td>0.000673</td>\n",
       "      <td>10.508074</td>\n",
       "      <td>False</td>\n",
       "      <td>0.580151</td>\n",
       "    </tr>\n",
       "    <tr>\n",
       "      <th>47</th>\n",
       "      <td>CIFAR10+DROPOUT</td>\n",
       "      <td>0.420840</td>\n",
       "      <td>1.625915</td>\n",
       "      <td>0.4194</td>\n",
       "      <td>1.632398</td>\n",
       "      <td>0.280248</td>\n",
       "      <td>3.068264</td>\n",
       "      <td>320</td>\n",
       "      <td>0.303138</td>\n",
       "      <td>0.003115</td>\n",
       "      <td>0.000852</td>\n",
       "      <td>-26.857819</td>\n",
       "      <td>True</td>\n",
       "      <td>0.242465</td>\n",
       "      <td>1.000000</td>\n",
       "      <td>0.001103</td>\n",
       "      <td>34.256693</td>\n",
       "      <td>False</td>\n",
       "      <td>0.469625</td>\n",
       "    </tr>\n",
       "    <tr>\n",
       "      <th>48</th>\n",
       "      <td>CIFAR10+DROPOUT</td>\n",
       "      <td>0.420940</td>\n",
       "      <td>1.617852</td>\n",
       "      <td>0.4202</td>\n",
       "      <td>1.627297</td>\n",
       "      <td>0.278569</td>\n",
       "      <td>3.089778</td>\n",
       "      <td>320</td>\n",
       "      <td>0.301853</td>\n",
       "      <td>0.003115</td>\n",
       "      <td>0.000737</td>\n",
       "      <td>-31.590941</td>\n",
       "      <td>True</td>\n",
       "      <td>0.239931</td>\n",
       "      <td>1.000000</td>\n",
       "      <td>0.001345</td>\n",
       "      <td>28.729237</td>\n",
       "      <td>False</td>\n",
       "      <td>0.429727</td>\n",
       "    </tr>\n",
       "    <tr>\n",
       "      <th>49</th>\n",
       "      <td>CIFAR10+DROPOUT</td>\n",
       "      <td>0.426360</td>\n",
       "      <td>1.609047</td>\n",
       "      <td>0.4245</td>\n",
       "      <td>1.622804</td>\n",
       "      <td>0.283562</td>\n",
       "      <td>3.026572</td>\n",
       "      <td>320</td>\n",
       "      <td>0.303784</td>\n",
       "      <td>0.003115</td>\n",
       "      <td>0.000975</td>\n",
       "      <td>-20.739797</td>\n",
       "      <td>True</td>\n",
       "      <td>0.248103</td>\n",
       "      <td>1.000000</td>\n",
       "      <td>0.001228</td>\n",
       "      <td>28.881678</td>\n",
       "      <td>False</td>\n",
       "      <td>0.447795</td>\n",
       "    </tr>\n",
       "    <tr>\n",
       "      <th>50</th>\n",
       "      <td>FASHION+DROPOUT</td>\n",
       "      <td>0.863800</td>\n",
       "      <td>0.397653</td>\n",
       "      <td>0.8705</td>\n",
       "      <td>0.359481</td>\n",
       "      <td>0.305787</td>\n",
       "      <td>2.770248</td>\n",
       "      <td>320</td>\n",
       "      <td>0.309188</td>\n",
       "      <td>0.034268</td>\n",
       "      <td>0.001985</td>\n",
       "      <td>-1.713604</td>\n",
       "      <td>False</td>\n",
       "      <td>0.305805</td>\n",
       "      <td>0.595016</td>\n",
       "      <td>0.001124</td>\n",
       "      <td>-0.015840</td>\n",
       "      <td>False</td>\n",
       "      <td>0.454833</td>\n",
       "    </tr>\n",
       "    <tr>\n",
       "      <th>51</th>\n",
       "      <td>FASHION+DROPOUT</td>\n",
       "      <td>0.863817</td>\n",
       "      <td>0.390582</td>\n",
       "      <td>0.8725</td>\n",
       "      <td>0.348940</td>\n",
       "      <td>0.316285</td>\n",
       "      <td>2.661708</td>\n",
       "      <td>320</td>\n",
       "      <td>0.312109</td>\n",
       "      <td>1.000000</td>\n",
       "      <td>0.002299</td>\n",
       "      <td>1.816174</td>\n",
       "      <td>False</td>\n",
       "      <td>0.313190</td>\n",
       "      <td>1.000000</td>\n",
       "      <td>0.001196</td>\n",
       "      <td>2.588434</td>\n",
       "      <td>False</td>\n",
       "      <td>0.445431</td>\n",
       "    </tr>\n",
       "    <tr>\n",
       "      <th>52</th>\n",
       "      <td>FASHION+DROPOUT</td>\n",
       "      <td>0.862400</td>\n",
       "      <td>0.391380</td>\n",
       "      <td>0.8663</td>\n",
       "      <td>0.355787</td>\n",
       "      <td>0.310966</td>\n",
       "      <td>2.715788</td>\n",
       "      <td>320</td>\n",
       "      <td>0.312956</td>\n",
       "      <td>0.190031</td>\n",
       "      <td>0.001901</td>\n",
       "      <td>-1.046845</td>\n",
       "      <td>False</td>\n",
       "      <td>0.310485</td>\n",
       "      <td>0.626168</td>\n",
       "      <td>0.001357</td>\n",
       "      <td>0.354724</td>\n",
       "      <td>False</td>\n",
       "      <td>0.425709</td>\n",
       "    </tr>\n",
       "    <tr>\n",
       "      <th>53</th>\n",
       "      <td>FASHION+DROPOUT</td>\n",
       "      <td>0.865350</td>\n",
       "      <td>0.386754</td>\n",
       "      <td>0.8666</td>\n",
       "      <td>0.354577</td>\n",
       "      <td>0.310769</td>\n",
       "      <td>2.717828</td>\n",
       "      <td>320</td>\n",
       "      <td>0.312453</td>\n",
       "      <td>0.158879</td>\n",
       "      <td>0.001371</td>\n",
       "      <td>-1.228126</td>\n",
       "      <td>False</td>\n",
       "      <td>0.310521</td>\n",
       "      <td>0.626168</td>\n",
       "      <td>0.001186</td>\n",
       "      <td>0.208606</td>\n",
       "      <td>False</td>\n",
       "      <td>0.449481</td>\n",
       "    </tr>\n",
       "    <tr>\n",
       "      <th>54</th>\n",
       "      <td>FASHION+DROPOUT</td>\n",
       "      <td>0.863467</td>\n",
       "      <td>0.388820</td>\n",
       "      <td>0.8690</td>\n",
       "      <td>0.354417</td>\n",
       "      <td>0.312438</td>\n",
       "      <td>2.700631</td>\n",
       "      <td>320</td>\n",
       "      <td>0.312870</td>\n",
       "      <td>0.314642</td>\n",
       "      <td>0.001863</td>\n",
       "      <td>-0.231478</td>\n",
       "      <td>False</td>\n",
       "      <td>0.314115</td>\n",
       "      <td>0.065421</td>\n",
       "      <td>0.001218</td>\n",
       "      <td>-1.376054</td>\n",
       "      <td>False</td>\n",
       "      <td>0.443572</td>\n",
       "    </tr>\n",
       "    <tr>\n",
       "      <th>55</th>\n",
       "      <td>FASHION+DROPOUT</td>\n",
       "      <td>0.864467</td>\n",
       "      <td>0.392445</td>\n",
       "      <td>0.8709</td>\n",
       "      <td>0.354324</td>\n",
       "      <td>0.316284</td>\n",
       "      <td>2.661718</td>\n",
       "      <td>320</td>\n",
       "      <td>0.310492</td>\n",
       "      <td>1.000000</td>\n",
       "      <td>0.001787</td>\n",
       "      <td>3.241394</td>\n",
       "      <td>False</td>\n",
       "      <td>0.314471</td>\n",
       "      <td>1.000000</td>\n",
       "      <td>0.000604</td>\n",
       "      <td>3.001295</td>\n",
       "      <td>False</td>\n",
       "      <td>0.569320</td>\n",
       "    </tr>\n",
       "    <tr>\n",
       "      <th>56</th>\n",
       "      <td>FASHION+DROPOUT</td>\n",
       "      <td>0.861367</td>\n",
       "      <td>0.396722</td>\n",
       "      <td>0.8675</td>\n",
       "      <td>0.355441</td>\n",
       "      <td>0.311480</td>\n",
       "      <td>2.710474</td>\n",
       "      <td>320</td>\n",
       "      <td>0.313228</td>\n",
       "      <td>0.190031</td>\n",
       "      <td>0.001926</td>\n",
       "      <td>-0.907570</td>\n",
       "      <td>False</td>\n",
       "      <td>0.312750</td>\n",
       "      <td>0.065421</td>\n",
       "      <td>0.000816</td>\n",
       "      <td>-1.555982</td>\n",
       "      <td>False</td>\n",
       "      <td>0.517983</td>\n",
       "    </tr>\n",
       "    <tr>\n",
       "      <th>57</th>\n",
       "      <td>FASHION+DROPOUT</td>\n",
       "      <td>0.864950</td>\n",
       "      <td>0.390324</td>\n",
       "      <td>0.8703</td>\n",
       "      <td>0.353516</td>\n",
       "      <td>0.308273</td>\n",
       "      <td>2.743876</td>\n",
       "      <td>320</td>\n",
       "      <td>0.314006</td>\n",
       "      <td>0.034268</td>\n",
       "      <td>0.001926</td>\n",
       "      <td>-2.977186</td>\n",
       "      <td>False</td>\n",
       "      <td>0.309431</td>\n",
       "      <td>0.314642</td>\n",
       "      <td>0.001369</td>\n",
       "      <td>-0.845917</td>\n",
       "      <td>False</td>\n",
       "      <td>0.425839</td>\n",
       "    </tr>\n",
       "    <tr>\n",
       "      <th>58</th>\n",
       "      <td>FASHION+DROPOUT</td>\n",
       "      <td>0.860667</td>\n",
       "      <td>0.400913</td>\n",
       "      <td>0.8667</td>\n",
       "      <td>0.359971</td>\n",
       "      <td>0.310929</td>\n",
       "      <td>2.716167</td>\n",
       "      <td>320</td>\n",
       "      <td>0.311723</td>\n",
       "      <td>0.376947</td>\n",
       "      <td>0.002143</td>\n",
       "      <td>-0.370726</td>\n",
       "      <td>False</td>\n",
       "      <td>0.311208</td>\n",
       "      <td>0.408100</td>\n",
       "      <td>0.001115</td>\n",
       "      <td>-0.250302</td>\n",
       "      <td>False</td>\n",
       "      <td>0.458191</td>\n",
       "    </tr>\n",
       "    <tr>\n",
       "      <th>59</th>\n",
       "      <td>FASHION+DROPOUT</td>\n",
       "      <td>0.862400</td>\n",
       "      <td>0.396842</td>\n",
       "      <td>0.8718</td>\n",
       "      <td>0.354866</td>\n",
       "      <td>0.313459</td>\n",
       "      <td>2.690213</td>\n",
       "      <td>320</td>\n",
       "      <td>0.315753</td>\n",
       "      <td>0.127726</td>\n",
       "      <td>0.001757</td>\n",
       "      <td>-1.306103</td>\n",
       "      <td>False</td>\n",
       "      <td>0.314656</td>\n",
       "      <td>0.065421</td>\n",
       "      <td>0.000732</td>\n",
       "      <td>-1.636597</td>\n",
       "      <td>False</td>\n",
       "      <td>0.542282</td>\n",
       "    </tr>\n",
       "  </tbody>\n",
       "</table>\n",
       "</div>"
      ],
      "text/plain": [
       "              model  train_acc  train_loss  test_acc  test_loss      ncut  \\\n",
       "0             MNIST   1.000000    0.000048    0.9835   0.095332  0.329965   \n",
       "1             MNIST   1.000000    0.000056    0.9847   0.090697  0.330161   \n",
       "2             MNIST   1.000000    0.000059    0.9830   0.099833  0.333930   \n",
       "3             MNIST   1.000000    0.000062    0.9828   0.099546  0.331197   \n",
       "4             MNIST   1.000000    0.000081    0.9845   0.097756  0.337609   \n",
       "5             MNIST   1.000000    0.000048    0.9835   0.095626  0.331404   \n",
       "6             MNIST   1.000000    0.000056    0.9838   0.087238  0.335151   \n",
       "7             MNIST   1.000000    0.000061    0.9838   0.100444  0.332732   \n",
       "8             MNIST   1.000000    0.000047    0.9828   0.093142  0.331260   \n",
       "9             MNIST   1.000000    0.000049    0.9833   0.102283  0.337271   \n",
       "10          CIFAR10   0.647020    0.982019    0.4164   2.009407  0.314240   \n",
       "11          CIFAR10   0.655260    0.968012    0.4196   2.009614  0.312869   \n",
       "12          CIFAR10   0.645800    0.993128    0.4085   2.026656  0.294478   \n",
       "13          CIFAR10   0.645580    0.992089    0.4107   2.004410  0.300670   \n",
       "14          CIFAR10   0.654440    0.964225    0.4239   1.981631  0.315640   \n",
       "15          CIFAR10   0.652180    0.973041    0.4111   2.053139  0.295704   \n",
       "16          CIFAR10   0.644540    0.994267    0.4178   1.984371  0.301966   \n",
       "17          CIFAR10   0.651840    0.974107    0.4177   1.981042  0.314059   \n",
       "18          CIFAR10   0.643280    0.998221    0.4150   2.007964  0.295675   \n",
       "19          CIFAR10   0.660940    0.956555    0.4116   2.029548  0.318317   \n",
       "20          FASHION   0.982533    0.049309    0.8937   0.532207  0.319982   \n",
       "21          FASHION   0.982217    0.049195    0.8939   0.526313  0.322536   \n",
       "22          FASHION   0.982300    0.047581    0.8911   0.595367  0.319935   \n",
       "23          FASHION   0.983350    0.046463    0.8949   0.575908  0.316542   \n",
       "24          FASHION   0.982533    0.048930    0.8909   0.551969  0.323342   \n",
       "25          FASHION   0.983767    0.045901    0.8976   0.545859  0.319973   \n",
       "26          FASHION   0.982167    0.049422    0.8916   0.564790  0.316521   \n",
       "27          FASHION   0.982600    0.049156    0.8944   0.546913  0.314293   \n",
       "28          FASHION   0.982267    0.049309    0.8942   0.554626  0.316773   \n",
       "29          FASHION   0.982567    0.048766    0.8921   0.539734  0.324311   \n",
       "30    MNIST+DROPOUT   0.967817    0.120144    0.9796   0.084581  0.332111   \n",
       "31    MNIST+DROPOUT   0.965267    0.127326    0.9802   0.083526  0.332924   \n",
       "32    MNIST+DROPOUT   0.966667    0.123364    0.9789   0.081798  0.330929   \n",
       "33    MNIST+DROPOUT   0.967167    0.125616    0.9800   0.081888  0.330114   \n",
       "34    MNIST+DROPOUT   0.966133    0.127377    0.9793   0.084823  0.333830   \n",
       "35    MNIST+DROPOUT   0.965633    0.123383    0.9782   0.086029  0.330967   \n",
       "36    MNIST+DROPOUT   0.966617    0.125282    0.9790   0.083403  0.331467   \n",
       "37    MNIST+DROPOUT   0.967667    0.122877    0.9808   0.082423  0.334031   \n",
       "38    MNIST+DROPOUT   0.967450    0.122427    0.9793   0.082078  0.336755   \n",
       "39    MNIST+DROPOUT   0.967467    0.123260    0.9787   0.084267  0.331310   \n",
       "40  CIFAR10+DROPOUT   0.425220    1.612513    0.4201   1.628318  0.284230   \n",
       "41  CIFAR10+DROPOUT   0.427100    1.602159    0.4216   1.628530  0.297271   \n",
       "42  CIFAR10+DROPOUT   0.427520    1.613026    0.4202   1.634889  0.283114   \n",
       "43  CIFAR10+DROPOUT   0.436320    1.593016    0.4317   1.603236  0.297564   \n",
       "44  CIFAR10+DROPOUT   0.427500    1.600558    0.4149   1.639029  0.288761   \n",
       "45  CIFAR10+DROPOUT   0.420800    1.624310    0.4189   1.635075  0.277697   \n",
       "46  CIFAR10+DROPOUT   0.437900    1.573070    0.4274   1.610751  0.327573   \n",
       "47  CIFAR10+DROPOUT   0.420840    1.625915    0.4194   1.632398  0.280248   \n",
       "48  CIFAR10+DROPOUT   0.420940    1.617852    0.4202   1.627297  0.278569   \n",
       "49  CIFAR10+DROPOUT   0.426360    1.609047    0.4245   1.622804  0.283562   \n",
       "50  FASHION+DROPOUT   0.863800    0.397653    0.8705   0.359481  0.305787   \n",
       "51  FASHION+DROPOUT   0.863817    0.390582    0.8725   0.348940  0.316285   \n",
       "52  FASHION+DROPOUT   0.862400    0.391380    0.8663   0.355787  0.310966   \n",
       "53  FASHION+DROPOUT   0.865350    0.386754    0.8666   0.354577  0.310769   \n",
       "54  FASHION+DROPOUT   0.863467    0.388820    0.8690   0.354417  0.312438   \n",
       "55  FASHION+DROPOUT   0.864467    0.392445    0.8709   0.354324  0.316284   \n",
       "56  FASHION+DROPOUT   0.861367    0.396722    0.8675   0.355441  0.311480   \n",
       "57  FASHION+DROPOUT   0.864950    0.390324    0.8703   0.353516  0.308273   \n",
       "58  FASHION+DROPOUT   0.860667    0.400913    0.8667   0.359971  0.310929   \n",
       "59  FASHION+DROPOUT   0.862400    0.396842    0.8718   0.354866  0.313459   \n",
       "\n",
       "    ave_in_out  n_samples  mean_layer  percentile_layer  stdev_layer  \\\n",
       "0     2.530629        320    0.329872          0.563863     0.002359   \n",
       "1     2.528825        320    0.329599          0.563863     0.002051   \n",
       "2     2.494644        320    0.328610          0.968847     0.002429   \n",
       "3     2.519351        320    0.329903          0.626168     0.002327   \n",
       "4     2.462010        320    0.332344          1.000000     0.002243   \n",
       "5     2.517462        320    0.331395          0.408100     0.002754   \n",
       "6     2.483726        320    0.330888          0.968847     0.002116   \n",
       "7     2.505426        320    0.332105          0.626168     0.001924   \n",
       "8     2.518777        320    0.330194          0.657321     0.001992   \n",
       "9     2.464977        320    0.330002          0.968847     0.002464   \n",
       "10    2.682276        320    0.318902          0.003115     0.001191   \n",
       "11    2.696229        320    0.317546          0.003115     0.000927   \n",
       "12    2.895837        320    0.305161          0.003115     0.001078   \n",
       "13    2.825904        320    0.309404          0.003115     0.001148   \n",
       "14    2.668166        320    0.319390          0.003115     0.001487   \n",
       "15    2.881764        320    0.306315          0.003115     0.001314   \n",
       "16    2.811629        320    0.309832          0.003115     0.001275   \n",
       "17    2.684117        320    0.316932          0.003115     0.001395   \n",
       "18    2.882088        320    0.305491          0.003115     0.001093   \n",
       "19    2.641524        320    0.319333          0.252336     0.001479   \n",
       "20    2.625177        320    0.313300          1.000000     0.002137   \n",
       "21    2.600431        320    0.314453          1.000000     0.002137   \n",
       "22    2.625632        320    0.312601          1.000000     0.002449   \n",
       "23    2.659143        320    0.310822          1.000000     0.001663   \n",
       "24    2.592701        320    0.314672          1.000000     0.002347   \n",
       "25    2.625266        320    0.311264          1.000000     0.002033   \n",
       "26    2.659348        320    0.311190          1.000000     0.002662   \n",
       "27    2.681747        320    0.310325          0.968847     0.002015   \n",
       "28    2.656831        320    0.312153          0.968847     0.002309   \n",
       "29    2.583462        320    0.315137          1.000000     0.002103   \n",
       "30    2.511043        320    0.323871          1.000000     0.001831   \n",
       "31    2.503693        320    0.323296          1.000000     0.002229   \n",
       "32    2.521799        320    0.324427          1.000000     0.002623   \n",
       "33    2.529259        320    0.323235          1.000000     0.002698   \n",
       "34    2.495538        320    0.322823          1.000000     0.002720   \n",
       "35    2.521447        320    0.321219          1.000000     0.002444   \n",
       "36    2.516889        320    0.321774          1.000000     0.002243   \n",
       "37    2.493732        320    0.322710          1.000000     0.002649   \n",
       "38    2.469515        320    0.324554          1.000000     0.002625   \n",
       "39    2.518324        320    0.322423          1.000000     0.002245   \n",
       "40    3.018274        320    0.304616          0.003115     0.001111   \n",
       "41    2.863929        320    0.313434          0.003115     0.001076   \n",
       "42    3.032145        320    0.304199          0.003115     0.000720   \n",
       "43    2.860626        320    0.314577          0.003115     0.001075   \n",
       "44    2.963076        320    0.308254          0.003115     0.000934   \n",
       "45    3.101043        320    0.301537          0.003115     0.000846   \n",
       "46    2.552757        320    0.329517          0.065421     0.001223   \n",
       "47    3.068264        320    0.303138          0.003115     0.000852   \n",
       "48    3.089778        320    0.301853          0.003115     0.000737   \n",
       "49    3.026572        320    0.303784          0.003115     0.000975   \n",
       "50    2.770248        320    0.309188          0.034268     0.001985   \n",
       "51    2.661708        320    0.312109          1.000000     0.002299   \n",
       "52    2.715788        320    0.312956          0.190031     0.001901   \n",
       "53    2.717828        320    0.312453          0.158879     0.001371   \n",
       "54    2.700631        320    0.312870          0.314642     0.001863   \n",
       "55    2.661718        320    0.310492          1.000000     0.001787   \n",
       "56    2.710474        320    0.313228          0.190031     0.001926   \n",
       "57    2.743876        320    0.314006          0.034268     0.001926   \n",
       "58    2.716167        320    0.311723          0.376947     0.002143   \n",
       "59    2.690213        320    0.315753          0.127726     0.001757   \n",
       "\n",
       "    z_score_layer  is_sig_layer  mean_layer_nonzero  percentile_layer_nonzero  \\\n",
       "0        0.039226         False            0.329494                  0.595016   \n",
       "1        0.273888         False            0.328940                  0.875389   \n",
       "2        2.190334         False            0.332132                  0.968847   \n",
       "3        0.556271         False            0.329517                  1.000000   \n",
       "4        2.347679         False            0.335694                  0.875389   \n",
       "5        0.003563         False            0.328806                  1.000000   \n",
       "6        2.014740         False            0.333080                  1.000000   \n",
       "7        0.325583         False            0.333334                  0.221184   \n",
       "8        0.535228         False            0.329284                  0.937695   \n",
       "9        2.949653         False            0.335770                  0.844237   \n",
       "10      -3.913489          True            0.307621                  1.000000   \n",
       "11      -5.045120          True            0.306037                  1.000000   \n",
       "12      -9.913187          True            0.279232                  1.000000   \n",
       "13      -7.605136          True            0.289069                  1.000000   \n",
       "14      -2.521704          True            0.308754                  1.000000   \n",
       "15      -8.075259          True            0.282069                  1.000000   \n",
       "16      -6.167629          True            0.291154                  1.000000   \n",
       "17      -2.059393          True            0.307393                  1.000000   \n",
       "18      -8.983393          True            0.281685                  1.000000   \n",
       "19      -0.686863         False            0.313939                  1.000000   \n",
       "20       3.126423         False            0.316795                  1.000000   \n",
       "21       3.781497         False            0.320147                  1.000000   \n",
       "22       2.994576         False            0.318276                  1.000000   \n",
       "23       3.439737         False            0.315184                  0.968847   \n",
       "24       3.693438         False            0.321276                  0.968847   \n",
       "25       4.284387         False            0.317435                  1.000000   \n",
       "26       2.002686         False            0.315356                  0.875389   \n",
       "27       1.969105         False            0.314338                  0.439252   \n",
       "28       2.000491         False            0.315816                  0.844237   \n",
       "29       4.361388         False            0.322208                  1.000000   \n",
       "30       4.500197         False            0.329616                  1.000000   \n",
       "31       4.319884         False            0.329981                  1.000000   \n",
       "32       2.478314         False            0.328824                  1.000000   \n",
       "33       2.549442         False            0.329767                  0.563863   \n",
       "34       4.046283         False            0.332661                  0.875389   \n",
       "35       3.988152         False            0.329162                  0.875389   \n",
       "36       4.322058         False            0.330550                  0.719626   \n",
       "37       4.273280         False            0.332531                  0.875389   \n",
       "38       4.648461         False            0.334387                  1.000000   \n",
       "39       3.959418         False            0.329684                  0.906542   \n",
       "40     -18.356509          True            0.247566                  1.000000   \n",
       "41     -15.014631          True            0.267771                  1.000000   \n",
       "42     -29.287900          True            0.245649                  1.000000   \n",
       "43     -15.821443          True            0.266342                  1.000000   \n",
       "44     -20.871227          True            0.254974                  1.000000   \n",
       "45     -28.190690          True            0.236933                  1.000000   \n",
       "46      -1.589498         False            0.320496                  1.000000   \n",
       "47     -26.857819          True            0.242465                  1.000000   \n",
       "48     -31.590941          True            0.239931                  1.000000   \n",
       "49     -20.739797          True            0.248103                  1.000000   \n",
       "50      -1.713604         False            0.305805                  0.595016   \n",
       "51       1.816174         False            0.313190                  1.000000   \n",
       "52      -1.046845         False            0.310485                  0.626168   \n",
       "53      -1.228126         False            0.310521                  0.626168   \n",
       "54      -0.231478         False            0.314115                  0.065421   \n",
       "55       3.241394         False            0.314471                  1.000000   \n",
       "56      -0.907570         False            0.312750                  0.065421   \n",
       "57      -2.977186         False            0.309431                  0.314642   \n",
       "58      -0.370726         False            0.311208                  0.408100   \n",
       "59      -1.306103         False            0.314656                  0.065421   \n",
       "\n",
       "    stdev_layer_nonzero  z_score_layer_nonzero  is_sig_layer_nonzero   cohen_d  \n",
       "0              0.001083               0.434404                 False  0.483902  \n",
       "1              0.000903               1.351846                 False  0.518073  \n",
       "2              0.001124               1.599889                 False  0.474365  \n",
       "3              0.000927               1.812551                 False  0.513064  \n",
       "4              0.001318               1.452518                 False  0.450070  \n",
       "5              0.000848               3.063931                 False  0.531824  \n",
       "6              0.001018               2.033987                 False  0.495887  \n",
       "7              0.000755              -0.797120                 False  0.554175  \n",
       "8              0.001082               1.826329                 False  0.485221  \n",
       "9              0.001393               1.077225                 False  0.436860  \n",
       "10             0.000827               8.000536                 False  0.528301  \n",
       "11             0.000568              12.026482                 False  0.601401  \n",
       "12             0.000820              18.597838                 False  0.519631  \n",
       "13             0.000571              20.314053                 False  0.595461  \n",
       "14             0.000550              12.515774                 False  0.608323  \n",
       "15             0.000498              27.406171                 False  0.622231  \n",
       "16             0.000785              13.780119                 False  0.530771  \n",
       "17             0.000339              19.670614                 False  0.698247  \n",
       "18             0.000576              24.280213                 False  0.590887  \n",
       "19             0.000275              15.910679                 False  0.733493  \n",
       "20             0.001020               3.125606                 False  0.474879  \n",
       "21             0.000957               2.496662                 False  0.487047  \n",
       "22             0.001094               1.516540                 False  0.460221  \n",
       "23             0.000693               1.959192                 False  0.543956  \n",
       "24             0.000971               2.126911                 False  0.483876  \n",
       "25             0.001110               2.285104                 False  0.456452  \n",
       "26             0.000908               1.282501                 False  0.492430  \n",
       "27             0.000692              -0.064706                 False  0.543123  \n",
       "28             0.000767               1.247637                 False  0.525642  \n",
       "29             0.001044               2.013634                 False  0.471527  \n",
       "30             0.001238               2.015573                 False  0.451874  \n",
       "31             0.001142               2.578000                 False  0.464801  \n",
       "32             0.000818               2.571129                 False  0.527369  \n",
       "33             0.001655               0.209506                 False  0.399889  \n",
       "34             0.001147               1.019206                 False  0.461688  \n",
       "35             0.001522               1.186624                 False  0.411878  \n",
       "36             0.001402               0.654053                 False  0.426461  \n",
       "37             0.001259               1.191548                 False  0.445237  \n",
       "38             0.001205               1.965079                 False  0.455028  \n",
       "39             0.001231               1.320042                 False  0.450181  \n",
       "40             0.001314              27.906729                 False  0.435927  \n",
       "41             0.001073              27.498146                 False  0.483358  \n",
       "42             0.001004              37.318045                 False  0.489734  \n",
       "43             0.001025              30.470550                 False  0.494865  \n",
       "44             0.001227              27.541760                 False  0.452899  \n",
       "45             0.001089              37.428237                 False  0.471213  \n",
       "46             0.000673              10.508074                 False  0.580151  \n",
       "47             0.001103              34.256693                 False  0.469625  \n",
       "48             0.001345              28.729237                 False  0.429727  \n",
       "49             0.001228              28.881678                 False  0.447795  \n",
       "50             0.001124              -0.015840                 False  0.454833  \n",
       "51             0.001196               2.588434                 False  0.445431  \n",
       "52             0.001357               0.354724                 False  0.425709  \n",
       "53             0.001186               0.208606                 False  0.449481  \n",
       "54             0.001218              -1.376054                 False  0.443572  \n",
       "55             0.000604               3.001295                 False  0.569320  \n",
       "56             0.000816              -1.555982                 False  0.517983  \n",
       "57             0.001369              -0.845917                 False  0.425839  \n",
       "58             0.001115              -0.250302                 False  0.458191  \n",
       "59             0.000732              -1.636597                 False  0.542282  "
      ]
     },
     "execution_count": 21,
     "metadata": {},
     "output_type": "execute_result"
    }
   ],
   "source": [
    "df"
   ]
  },
  {
   "cell_type": "markdown",
   "metadata": {
    "papermill": {
     "duration": 0.178382,
     "end_time": "2020-05-27T11:18:02.837972",
     "exception": false,
     "start_time": "2020-05-27T11:18:02.659590",
     "status": "completed"
    },
    "tags": []
   },
   "source": [
    "### Unpruned results without shuffling\n",
    "#### TODO: Refactor\n",
    "- [ ] Combine with the unpruned table"
   ]
  },
  {
   "cell_type": "code",
   "execution_count": 22,
   "metadata": {
    "papermill": {
     "duration": 0.198711,
     "end_time": "2020-05-27T11:18:03.214693",
     "exception": false,
     "start_time": "2020-05-27T11:18:03.015982",
     "status": "completed"
    },
    "tags": []
   },
   "outputs": [],
   "source": [
    "if False:\n",
    "    unpruned_results = {}\n",
    "\n",
    "    for (model_tag, _), dataset_tag in zip(TAGS_COMMANDS.items(), tqdm(DATASETS_TAGS)):\n",
    "        model_paths = get_model_path(model_tag, filter_='all', model_base_path='/scratch/shlomi/models/')\n",
    "        unpruned_results[model_tag] = [run_spectral_cluster(path / f'{dataset_tag}-mlp-unpruned-weights.pckl',\n",
    "                                                   with_shuffle=False)\n",
    "                for path in tqdm(model_paths[-N_TRAINED_MODELS:])]\n",
    "\n",
    "    unpruned_model_dfs = []\n",
    "\n",
    "    for model_tag, model_results in unpruned_results.items():\n",
    "        _, metrics  = zip(*model_results)\n",
    "        unpruned_model_dfs.append(pd.DataFrame(metrics).assign(model=model_tag))\n",
    "\n",
    "    unpruned_df = pd.concat(unpruned_model_dfs, ignore_index=True)\n",
    "\n",
    "    unpruned_df_grpby_model = unpruned_df.groupby('model')\n",
    "\n",
    "\n",
    "    unpruned_statistics_df = pd.concat([(unpruned_df_grpby_model[['ncut']]\n",
    "                                 .agg(['mean', 'std'])),\n",
    "                                unpruned_df_grpby_model.size().rename('n_models'),\n",
    "                                (unpruned_df_grpby_model[['train_acc', 'test_acc']]\n",
    "                                 .agg('mean'))],\n",
    "                               axis=1)\n",
    "\n",
    "    unpruned_statistics_df = unpruned_statistics_df.loc[TAGS_COMMANDS.keys(), :]\n",
    "\n",
    "    unpruned_statistics_df"
   ]
  },
  {
   "cell_type": "code",
   "execution_count": 23,
   "metadata": {
    "papermill": {
     "duration": 0.186976,
     "end_time": "2020-05-27T11:18:03.586637",
     "exception": false,
     "start_time": "2020-05-27T11:18:03.399661",
     "status": "completed"
    },
    "tags": []
   },
   "outputs": [],
   "source": [
    "# unpruned_df.to_csv(f'../results/mlp-clustering-stability-all-samples-unpruned-K-{N_CLUSTERS}.csv')\n",
    "# unpruned_statistics_df.to_csv(f'../results/mlp-clustering-stability-statistics-unpruned-K-{N_CLUSTERS}.csv')"
   ]
  }
 ],
 "metadata": {
  "celltoolbar": "Tags",
  "kernelspec": {
   "display_name": "Python 3",
   "language": "python",
   "name": "python3"
  },
  "language_info": {
   "codemirror_mode": {
    "name": "ipython",
    "version": 3
   },
   "file_extension": ".py",
   "mimetype": "text/x-python",
   "name": "python",
   "nbconvert_exporter": "python",
   "pygments_lexer": "ipython3",
   "version": "3.7.3"
  },
  "papermill": {
   "duration": 3121.881961,
   "end_time": "2020-05-27T11:18:05.077730",
   "environment_variables": {},
   "exception": null,
   "input_path": "./notebooks/mlp-clustering-stability-different-n_clusters.ipynb",
   "output_path": "./notebooks/mlp-clustering-stability-different-n_clusters-K=2.ipynb",
   "parameters": {
    "N_CLUSTERS": 2
   },
   "start_time": "2020-05-27T10:26:03.195769",
   "version": "1.1.0"
  }
 },
 "nbformat": 4,
 "nbformat_minor": 2
}