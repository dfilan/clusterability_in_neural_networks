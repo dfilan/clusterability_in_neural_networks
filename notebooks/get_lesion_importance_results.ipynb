{
 "cells": [
  {
   "cell_type": "code",
   "execution_count": 1,
   "metadata": {
    "execution": {
     "iopub.execute_input": "2020-09-03T04:02:00.715360Z",
     "iopub.status.busy": "2020-09-03T04:02:00.714492Z",
     "iopub.status.idle": "2020-09-03T04:02:28.050988Z",
     "shell.execute_reply": "2020-09-03T04:02:28.052370Z"
    },
    "papermill": {
     "duration": 27.357068,
     "end_time": "2020-09-03T04:02:28.052701",
     "exception": false,
     "start_time": "2020-09-03T04:02:00.695633",
     "status": "completed"
    },
    "tags": []
   },
   "outputs": [
    {
     "name": "stderr",
     "output_type": "stream",
     "text": [
      "Using TensorFlow backend.\n"
     ]
    }
   ],
   "source": [
    "import sys\n",
    "import os\n",
    "os.environ['CUDA_VISIBLE_DEVICES'] = '2,3'\n",
    "sys.path.append('..')\n",
    "from tqdm import tqdm\n",
    "import pandas as pd\n",
    "import pickle\n",
    "import warnings\n",
    "from src.lesion import perform_lesion_experiment, do_lesion_hypo_tests\n",
    "from src.pointers import DATA_PATHS\n",
    "from src.experiment_tagging import get_model_path"
   ]
  },
  {
   "cell_type": "code",
   "execution_count": 2,
   "metadata": {
    "execution": {
     "iopub.execute_input": "2020-09-03T04:02:28.076453Z",
     "iopub.status.busy": "2020-09-03T04:02:28.075430Z",
     "iopub.status.idle": "2020-09-03T04:02:28.080359Z",
     "shell.execute_reply": "2020-09-03T04:02:28.081139Z"
    },
    "papermill": {
     "duration": 0.020965,
     "end_time": "2020-09-03T04:02:28.081383",
     "exception": false,
     "start_time": "2020-09-03T04:02:28.060418",
     "status": "completed"
    },
    "pycharm": {
     "name": "#%%\n"
    },
    "tags": []
   },
   "outputs": [],
   "source": [
    "dataset_name = 'fashion'\n",
    "tag = 'FASHION+DROPOUT'\n",
    "n_clusts = [4, 8, 12]\n",
    "n_shuffles = 20\n",
    "n_workers = 5\n",
    "n_reps = 2\n",
    "is_unpruned = False"
   ]
  },
  {
   "cell_type": "code",
   "execution_count": 3,
   "metadata": {
    "execution": {
     "iopub.execute_input": "2020-09-03T04:02:28.105788Z",
     "iopub.status.busy": "2020-09-03T04:02:28.104840Z",
     "iopub.status.idle": "2020-09-04T01:55:10.680675Z",
     "shell.execute_reply": "2020-09-04T01:55:10.681365Z"
    },
    "papermill": {
     "duration": 78762.594806,
     "end_time": "2020-09-04T01:55:10.681770",
     "exception": false,
     "start_time": "2020-09-03T04:02:28.086964",
     "status": "completed"
    },
    "pycharm": {
     "name": "#%%\n"
    },
    "tags": []
   },
   "outputs": [
    {
     "name": "stdout",
     "output_type": "stream",
     "text": [
      "net_i=0...\n",
      "n_clust=4...\n",
      "n_clust=8...\n",
      "n_clust=12...\n",
      "net_i=1...\n",
      "n_clust=4...\n",
      "n_clust=8...\n",
      "n_clust=12...\n"
     ]
    }
   ],
   "source": [
    "results = {}\n",
    "\n",
    "with warnings.catch_warnings():\n",
    "    warnings.simplefilter('ignore')\n",
    "\n",
    "    paths = get_model_path(tag, filter_='all')[-n_reps:]\n",
    "    for net_i, path in enumerate(paths):\n",
    "        print(f'net_i={net_i}...')\n",
    "\n",
    "        results[f'net_{net_i}'] = {}\n",
    "\n",
    "        for n_clust in n_clusts:\n",
    "            print(f'n_clust={n_clust}...')\n",
    "\n",
    "            results[f'net_{net_i}'][f'clusters_{n_clust}'] = {}\n",
    "\n",
    "            (true_results,\n",
    "             all_random_results,\n",
    "             metadata,\n",
    "             evaluation)  = perform_lesion_experiment('.' + DATA_PATHS[dataset_name],\n",
    "                                                     path, n_clusters=n_clust,\n",
    "                                                     n_shuffles=n_shuffles,\n",
    "                                                     unpruned=is_unpruned)\n",
    "            results[f'net_{net_i}'][f'clusters_{n_clust}']['true_results'] = true_results\n",
    "            results[f'net_{net_i}'][f'clusters_{n_clust}']['all_random_results'] = all_random_results\n",
    "            results[f'net_{net_i}'][f'clusters_{n_clust}']['metadata'] = metadata\n",
    "            results[f'net_{net_i}'][f'clusters_{n_clust}']['evaluation'] = evaluation\n",
    "\n",
    "savename = '../results/lesion_importance_results.pkl'\n",
    "with open(savename, 'wb') as f:\n",
    "    pickle.dump(results, f)\n"
   ]
  },
  {
   "cell_type": "code",
   "execution_count": null,
   "metadata": {},
   "outputs": [],
   "source": []
  }
 ],
 "metadata": {
  "kernelspec": {
   "display_name": "Python 3",
   "language": "python",
   "name": "python3"
  },
  "language_info": {
   "codemirror_mode": {
    "name": "ipython",
    "version": 3
   },
   "file_extension": ".py",
   "mimetype": "text/x-python",
   "name": "python",
   "nbconvert_exporter": "python",
   "pygments_lexer": "ipython3",
   "version": "3.7.5"
  },
  "papermill": {
   "duration": 78799.116494,
   "end_time": "2020-09-04T01:55:15.612084",
   "environment_variables": {},
   "exception": null,
   "input_path": "./notebooks/lesion_tables.ipynb",
   "output_path": "./notebooks/lesion_tables.ipynb",
   "parameters": {},
   "start_time": "2020-09-03T04:01:56.495590",
   "version": "1.2.1"
  }
 },
 "nbformat": 4,
 "nbformat_minor": 1
}
