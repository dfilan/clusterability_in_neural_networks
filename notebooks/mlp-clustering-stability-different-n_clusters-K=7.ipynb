{
 "cells": [
  {
   "cell_type": "markdown",
   "metadata": {
    "papermill": {
     "duration": 0.026478,
     "end_time": "2020-05-27T11:25:45.802894",
     "exception": false,
     "start_time": "2020-05-27T11:25:45.776416",
     "status": "completed"
    },
    "tags": []
   },
   "source": [
    "# MLP Clustering Significance Stability over Multiple Trainings - Different #Clusters\n",
    "\n",
    "### Before Running on Perceptron\n",
    "\n",
    "Go to `src/train_nn.py` to line 46, and change the path `./models/` to `/scratch/<your username>/models`\n",
    "\n",
    "Do not forget to undo this change!\n",
    "\n",
    "DO NOT COMMIT THIS CHANGE TO GITHUB!!!"
   ]
  },
  {
   "cell_type": "code",
   "execution_count": 1,
   "metadata": {
    "papermill": {
     "duration": 0.027711,
     "end_time": "2020-05-27T11:25:45.849258",
     "exception": false,
     "start_time": "2020-05-27T11:25:45.821547",
     "status": "completed"
    },
    "tags": [
     "parameters"
    ]
   },
   "outputs": [],
   "source": [
    "N_CLUSTERS = 4"
   ]
  },
  {
   "cell_type": "code",
   "execution_count": 2,
   "metadata": {
    "papermill": {
     "duration": 0.032173,
     "end_time": "2020-05-27T11:25:45.902223",
     "exception": false,
     "start_time": "2020-05-27T11:25:45.870050",
     "status": "completed"
    },
    "tags": [
     "injected-parameters"
    ]
   },
   "outputs": [],
   "source": [
    "# Parameters\n",
    "N_CLUSTERS = 7\n"
   ]
  },
  {
   "cell_type": "code",
   "execution_count": 3,
   "metadata": {
    "papermill": {
     "duration": 0.053331,
     "end_time": "2020-05-27T11:25:45.984466",
     "exception": false,
     "start_time": "2020-05-27T11:25:45.931135",
     "status": "completed"
    },
    "tags": []
   },
   "outputs": [],
   "source": [
    "%load_ext autoreload\n",
    "%autoreload 1"
   ]
  },
  {
   "cell_type": "code",
   "execution_count": 4,
   "metadata": {
    "papermill": {
     "duration": 4.336987,
     "end_time": "2020-05-27T11:25:50.347228",
     "exception": false,
     "start_time": "2020-05-27T11:25:46.010241",
     "status": "completed"
    },
    "tags": []
   },
   "outputs": [],
   "source": [
    "import sys\n",
    "sys.path.append('..')\n",
    "\n",
    "import random\n",
    "import subprocess\n",
    "from multiprocessing import Pool\n",
    "\n",
    "import numpy as np\n",
    "import matplotlib.pylab as plt\n",
    "import pandas as pd\n",
    "from tqdm import tqdm, trange\n",
    "from IPython import display\n",
    "\n",
    "from src.visualization import draw_mlp_clustering_report, run_double_spectral_cluster, run_spectral_cluster\n",
    "from src.utils import get_weights_paths, build_clustering_results, cohen_d_stats\n",
    "from src.experiment_tagging import get_model_path, MODEL_TAG_LOOKUP\n",
    "# from src.spectral_cluster_model import SHUFFLE_METHODS\n",
    "SHUFFLE_METHODS = ['layer', 'layer_nonzero']"
   ]
  },
  {
   "cell_type": "code",
   "execution_count": 5,
   "metadata": {
    "papermill": {
     "duration": 0.041546,
     "end_time": "2020-05-27T11:25:50.414229",
     "exception": false,
     "start_time": "2020-05-27T11:25:50.372683",
     "status": "completed"
    },
    "tags": []
   },
   "outputs": [],
   "source": [
    "N_TRAINED_MODELS = 10\n",
    "\n",
    "# we ar doing 320 experiments (=32 models x 10 times),\n",
    "# and let's have expectation of false-positive <= 1\n",
    "# so we can set n_shuffles to 320, and then p-values < 1/401\n",
    "# if we make it too large, let see, 1000 shuffles...\n",
    "# ... we might reduce the statistical power (given H1, the probability to reject it incorrectly)!\n",
    "N_SHUFFLES = 320\n",
    "\n",
    "N_GPUS = 4\n",
    "\n",
    "TAGS_COMMANDS = {\n",
    "    'MNIST': 'python -m src.train_nn with mlp_config dataset_name=mnist',\n",
    "    'CIFAR10': 'python -m src.train_nn with mlp_config dataset_name=cifar10 pruning_epochs=40',\n",
    "#    'LINE': 'python -m src.train_nn with mlp_config dataset_name=line',\n",
    "    'FASHION': 'python -m src.train_nn with mlp_config dataset_name=fashion',\n",
    "    'MNIST+DROPOUT': 'python -m src.train_nn with mlp_config dataset_name=mnist with_dropout=True',\n",
    "    'CIFAR10+DROPOUT': 'python -m src.train_nn with mlp_config dataset_name=cifar10 epochs=100 pruning_epochs=40 with_dropout=True dropout_rate=0.2',\n",
    "#    'LINE+DROPOUT': 'python -m src.train_nn with mlp_config dataset_name=line with_dropout=True',\n",
    "    'FASHION+DROPOUT': 'python -m src.train_nn with mlp_config dataset_name=fashion with_dropout=True',\n",
    "#    'LINE-MNIST': 'python -m src.train_nn with mlp_config dataset_name=line-mnist',\n",
    "#    'LINE-CIFAR10': 'python -m src.train_nn with mlp_config dataset_name=line-cifar10 epochs=30 pruning_epochs=40',\n",
    "#    'MNIST-CIFAR10': 'python -m src.train_nn with mlp_config dataset_name=mnist-cifar10 epochs=30 pruning_epochs=40',\n",
    "#    'LINE-MNIST-SEPARATED': 'python -m src.train_nn with mlp_config dataset_name=line-mnist-separated',\n",
    "#    'LINE-CIFAR10-SEPARATED': 'python -m src.train_nn with mlp_config dataset_name=line-cifar10-separated epochs=30 pruning_epochs=40',\n",
    "#    'MNIST-CIFAR10-SEPARATED': 'python -m src.train_nn with mlp_config dataset_name=mnist-cifar10-separated epochs=30 pruning_epochs=40',\n",
    "#    'LINE-MNIST+DROPOUT': 'python -m src.train_nn with mlp_config dataset_name=line-mnist with_dropout=True',\n",
    "#    'LINE-CIFAR10+DROPOUT': 'python -m src.train_nn with mlp_config dataset_name=line-cifar10 epochs=30 pruning_epochs=40 with_dropout=True dropout_rate=0.2',\n",
    "#    'MNIST-CIFAR10+DROPOUT': 'python -m src.train_nn with mlp_config dataset_name=mnist-cifar10 epochs=30 pruning_epochs=40 with_dropout=True dropout_rate=0.2',\n",
    "#    'LINE-MNIST-SEPARATED+DROPOUT': 'python -m src.train_nn with mlp_config dataset_name=line-mnist-separated with_dropout=True',\n",
    "#    'LINE-CIFAR10-SEPARATED+DROPOUT': 'python -m src.train_nn with mlp_config dataset_name=line-cifar10-separated epochs=30 pruning_epochs=40 with_dropout=True dropout_rate=0.2',\n",
    "#    'MNIST-CIFAR10-SEPARATED+DROPOUT': 'python -m src.train_nn with mlp_config dataset_name=mnist-cifar10-separated epochs=30 pruning_epochs=40 with_dropout=True dropout_rate=0.2',\n",
    "#    'RANDOM': 'python -m src.train_nn with mlp_config dataset_name=random',\n",
    "#    'RANDOM+DROPOUT': 'python -m src.train_nn with mlp_config dataset_name=random with_dropout=True',\n",
    "#    'MNIST-x1.5-EPOCHS': 'python -m src.train_nn with mlp_config dataset_name=mnist epochs=30',\n",
    "#    'MNIST-x1.5-EPOCHS+DROPOUT':'python -m src.train_nn with mlp_config dataset_name=mnist epochs=30 with_dropout=True',\n",
    "#    'MNIST-x2-EPOCHS':'python -m src.train_nn with mlp_config dataset_name=mnist epochs=40',\n",
    "#    'MNIST-x2-EPOCHS+DROPOUT':'python -m src.train_nn with mlp_config dataset_name=mnist epochs=40 with_dropout=True',\n",
    "#    'MNIST-x10-EPOCHS': 'python -m src.train_nn with mlp_config dataset_name=mnist epochs=200',\n",
    "#    'MNIST-x10-EPOCHS+DROPOUT': 'python -m src.train_nn with mlp_config dataset_name=mnist epochs=200 with_dropout=True',\n",
    "#    'RANDOM-x50-EPOCHS': 'python -m src.train_nn with mlp_config dataset_name=random epochs=1000',\n",
    "#    'RANDOM-x50-EPOCHS+DROPOUT': 'python -m src.train_nn with mlp_config dataset_name=random epochs=1000 with_dropout=True',\n",
    "#    'RANDOM-OVERFITTING': 'python -m src.train_nn with mlp_config dataset_name=random epochs=100 pruning_epochs=100 shuffle=False n_train=3000',\n",
    "#    'RANDOM-OVERFITTING+DROPOUT': 'python -m src.train_nn with mlp_config dataset_name=random epochs=100 pruning_epochs=100 shuffle=False n_train=3000 with_dropout=True'\n",
    "}\n",
    "DATASETS_TAGS = [command.split()[5][13:] for command in TAGS_COMMANDS.values()]"
   ]
  },
  {
   "cell_type": "code",
   "execution_count": 6,
   "metadata": {
    "papermill": {
     "duration": 0.048309,
     "end_time": "2020-05-27T11:25:50.491773",
     "exception": false,
     "start_time": "2020-05-27T11:25:50.443464",
     "status": "completed"
    },
    "tags": []
   },
   "outputs": [],
   "source": [
    "if False:\n",
    "    def train_model_multiply(command, n_models_per_command, gpu_id=None):    \n",
    "        for _ in range(n_models_per_command):\n",
    "            actual_command = f'cd .. && {command}'#' > /dev/null 2>&1'\n",
    "            print(actual_command)\n",
    "            subprocess.run(actual_command, shell=True,\n",
    "                           env={'CUDA_VISIBLE_DEVICES': str(gpu_id)})\n",
    "\n",
    "\n",
    "    def train_models(commands, n_models_per_command, gpu_id=None):\n",
    "        for command in commands:\n",
    "            train_model_multiply(command, n_models_per_command, gpu_id)\n",
    "\n",
    "            commands = list(TAGS_COMMANDS.values())\n",
    "    random.shuffle(commands)\n",
    "\n",
    "    assert len(commands) % N_GPUS == 0\n",
    "    n_commands_per_gpu = len(commands) // N_GPUS\n",
    "\n",
    "    with Pool(N_GPUS) as p:\n",
    "\n",
    "        p.starmap(train_models,\n",
    "                 [(commands[gpu_id*n_commands_per_gpu : (gpu_id+1)*n_commands_per_gpu], N_TRAINED_MODELS, gpu_id)\n",
    "                 for gpu_id in range(N_GPUS)])"
   ]
  },
  {
   "cell_type": "code",
   "execution_count": 7,
   "metadata": {
    "papermill": {
     "duration": 27956.950707,
     "end_time": "2020-05-27T19:11:47.471237",
     "exception": false,
     "start_time": "2020-05-27T11:25:50.520530",
     "status": "completed"
    },
    "scrolled": false,
    "tags": []
   },
   "outputs": [
    {
     "name": "stderr",
     "output_type": "stream",
     "text": [
      "\r",
      "  0%|          | 0/6 [00:00<?, ?it/s]"
     ]
    },
    {
     "name": "stderr",
     "output_type": "stream",
     "text": [
      "\n"
     ]
    },
    {
     "name": "stderr",
     "output_type": "stream",
     "text": [
      "\r",
      "  0%|          | 0/10 [00:00<?, ?it/s]"
     ]
    },
    {
     "name": "stderr",
     "output_type": "stream",
     "text": [
      "\u001b[A"
     ]
    },
    {
     "name": "stderr",
     "output_type": "stream",
     "text": [
      "\n"
     ]
    },
    {
     "name": "stderr",
     "output_type": "stream",
     "text": [
      "\r",
      " 10%|█         | 1/10 [03:36<32:32, 216.95s/it]"
     ]
    },
    {
     "name": "stderr",
     "output_type": "stream",
     "text": [
      "\u001b[A"
     ]
    },
    {
     "name": "stderr",
     "output_type": "stream",
     "text": [
      "\n"
     ]
    },
    {
     "name": "stderr",
     "output_type": "stream",
     "text": [
      "\r",
      " 20%|██        | 2/10 [07:12<28:51, 216.47s/it]"
     ]
    },
    {
     "name": "stderr",
     "output_type": "stream",
     "text": [
      "\u001b[A"
     ]
    },
    {
     "name": "stderr",
     "output_type": "stream",
     "text": [
      "\n"
     ]
    },
    {
     "name": "stderr",
     "output_type": "stream",
     "text": [
      "\r",
      " 30%|███       | 3/10 [10:34<24:45, 212.20s/it]"
     ]
    },
    {
     "name": "stderr",
     "output_type": "stream",
     "text": [
      "\u001b[A"
     ]
    },
    {
     "name": "stderr",
     "output_type": "stream",
     "text": [
      "\n"
     ]
    },
    {
     "name": "stderr",
     "output_type": "stream",
     "text": [
      "\r",
      " 40%|████      | 4/10 [14:09<21:18, 213.07s/it]"
     ]
    },
    {
     "name": "stderr",
     "output_type": "stream",
     "text": [
      "\u001b[A"
     ]
    },
    {
     "name": "stderr",
     "output_type": "stream",
     "text": [
      "\n"
     ]
    },
    {
     "name": "stderr",
     "output_type": "stream",
     "text": [
      "\r",
      " 50%|█████     | 5/10 [17:43<17:47, 213.40s/it]"
     ]
    },
    {
     "name": "stderr",
     "output_type": "stream",
     "text": [
      "\u001b[A"
     ]
    },
    {
     "name": "stderr",
     "output_type": "stream",
     "text": [
      "\n"
     ]
    },
    {
     "name": "stderr",
     "output_type": "stream",
     "text": [
      "\r",
      " 60%|██████    | 6/10 [21:19<14:16, 214.12s/it]"
     ]
    },
    {
     "name": "stderr",
     "output_type": "stream",
     "text": [
      "\u001b[A"
     ]
    },
    {
     "name": "stderr",
     "output_type": "stream",
     "text": [
      "\n"
     ]
    },
    {
     "name": "stderr",
     "output_type": "stream",
     "text": [
      "\r",
      " 70%|███████   | 7/10 [24:50<10:39, 213.13s/it]"
     ]
    },
    {
     "name": "stderr",
     "output_type": "stream",
     "text": [
      "\u001b[A"
     ]
    },
    {
     "name": "stderr",
     "output_type": "stream",
     "text": [
      "\n"
     ]
    },
    {
     "name": "stderr",
     "output_type": "stream",
     "text": [
      "\r",
      " 80%|████████  | 8/10 [28:25<07:07, 213.63s/it]"
     ]
    },
    {
     "name": "stderr",
     "output_type": "stream",
     "text": [
      "\u001b[A"
     ]
    },
    {
     "name": "stderr",
     "output_type": "stream",
     "text": [
      "\n"
     ]
    },
    {
     "name": "stderr",
     "output_type": "stream",
     "text": [
      "\r",
      " 90%|█████████ | 9/10 [31:58<03:33, 213.41s/it]"
     ]
    },
    {
     "name": "stderr",
     "output_type": "stream",
     "text": [
      "\u001b[A"
     ]
    },
    {
     "name": "stderr",
     "output_type": "stream",
     "text": [
      "\n"
     ]
    },
    {
     "name": "stderr",
     "output_type": "stream",
     "text": [
      "\r",
      "100%|██████████| 10/10 [35:33<00:00, 214.11s/it]"
     ]
    },
    {
     "name": "stderr",
     "output_type": "stream",
     "text": [
      "\u001b[A"
     ]
    },
    {
     "name": "stderr",
     "output_type": "stream",
     "text": [
      "\r",
      "100%|██████████| 10/10 [35:33<00:00, 213.39s/it]"
     ]
    },
    {
     "name": "stderr",
     "output_type": "stream",
     "text": [
      "\n",
      "\r",
      " 17%|█▋        | 1/6 [35:33<2:57:49, 2133.88s/it]"
     ]
    },
    {
     "name": "stderr",
     "output_type": "stream",
     "text": [
      "\n"
     ]
    },
    {
     "name": "stderr",
     "output_type": "stream",
     "text": [
      "\r",
      "  0%|          | 0/10 [00:00<?, ?it/s]"
     ]
    },
    {
     "name": "stderr",
     "output_type": "stream",
     "text": [
      "\u001b[A"
     ]
    },
    {
     "name": "stderr",
     "output_type": "stream",
     "text": [
      "\n"
     ]
    },
    {
     "name": "stderr",
     "output_type": "stream",
     "text": [
      "\r",
      " 10%|█         | 1/10 [03:36<32:29, 216.65s/it]"
     ]
    },
    {
     "name": "stderr",
     "output_type": "stream",
     "text": [
      "\u001b[A"
     ]
    },
    {
     "name": "stderr",
     "output_type": "stream",
     "text": [
      "\n"
     ]
    },
    {
     "name": "stderr",
     "output_type": "stream",
     "text": [
      "\r",
      " 20%|██        | 2/10 [07:11<28:48, 216.09s/it]"
     ]
    },
    {
     "name": "stderr",
     "output_type": "stream",
     "text": [
      "\u001b[A"
     ]
    },
    {
     "name": "stderr",
     "output_type": "stream",
     "text": [
      "\n"
     ]
    },
    {
     "name": "stderr",
     "output_type": "stream",
     "text": [
      "\r",
      " 30%|███       | 3/10 [10:50<25:18, 216.93s/it]"
     ]
    },
    {
     "name": "stderr",
     "output_type": "stream",
     "text": [
      "\u001b[A"
     ]
    },
    {
     "name": "stderr",
     "output_type": "stream",
     "text": [
      "\n"
     ]
    },
    {
     "name": "stderr",
     "output_type": "stream",
     "text": [
      "\r",
      " 40%|████      | 4/10 [14:26<21:40, 216.68s/it]"
     ]
    },
    {
     "name": "stderr",
     "output_type": "stream",
     "text": [
      "\u001b[A"
     ]
    },
    {
     "name": "stderr",
     "output_type": "stream",
     "text": [
      "\n"
     ]
    },
    {
     "name": "stderr",
     "output_type": "stream",
     "text": [
      "\r",
      " 50%|█████     | 5/10 [18:03<18:03, 216.75s/it]"
     ]
    },
    {
     "name": "stderr",
     "output_type": "stream",
     "text": [
      "\u001b[A"
     ]
    },
    {
     "name": "stderr",
     "output_type": "stream",
     "text": [
      "\n"
     ]
    },
    {
     "name": "stderr",
     "output_type": "stream",
     "text": [
      "\r",
      " 60%|██████    | 6/10 [21:40<14:27, 216.88s/it]"
     ]
    },
    {
     "name": "stderr",
     "output_type": "stream",
     "text": [
      "\u001b[A"
     ]
    },
    {
     "name": "stderr",
     "output_type": "stream",
     "text": [
      "\n"
     ]
    },
    {
     "name": "stderr",
     "output_type": "stream",
     "text": [
      "\r",
      " 70%|███████   | 7/10 [25:17<10:50, 216.94s/it]"
     ]
    },
    {
     "name": "stderr",
     "output_type": "stream",
     "text": [
      "\u001b[A"
     ]
    },
    {
     "name": "stderr",
     "output_type": "stream",
     "text": [
      "\n"
     ]
    },
    {
     "name": "stderr",
     "output_type": "stream",
     "text": [
      "\r",
      " 80%|████████  | 8/10 [28:54<07:14, 217.04s/it]"
     ]
    },
    {
     "name": "stderr",
     "output_type": "stream",
     "text": [
      "\u001b[A"
     ]
    },
    {
     "name": "stderr",
     "output_type": "stream",
     "text": [
      "\n"
     ]
    },
    {
     "name": "stderr",
     "output_type": "stream",
     "text": [
      "\r",
      " 90%|█████████ | 9/10 [32:29<03:36, 216.29s/it]"
     ]
    },
    {
     "name": "stderr",
     "output_type": "stream",
     "text": [
      "\u001b[A"
     ]
    },
    {
     "name": "stderr",
     "output_type": "stream",
     "text": [
      "\n"
     ]
    },
    {
     "name": "stderr",
     "output_type": "stream",
     "text": [
      "\r",
      "100%|██████████| 10/10 [35:49<00:00, 211.41s/it]"
     ]
    },
    {
     "name": "stderr",
     "output_type": "stream",
     "text": [
      "\u001b[A"
     ]
    },
    {
     "name": "stderr",
     "output_type": "stream",
     "text": [
      "\r",
      "100%|██████████| 10/10 [35:49<00:00, 214.94s/it]"
     ]
    },
    {
     "name": "stderr",
     "output_type": "stream",
     "text": [
      "\n",
      "\r",
      " 33%|███▎      | 2/6 [1:11:23<2:22:34, 2138.55s/it]"
     ]
    },
    {
     "name": "stderr",
     "output_type": "stream",
     "text": [
      "\n"
     ]
    },
    {
     "name": "stderr",
     "output_type": "stream",
     "text": [
      "\r",
      "  0%|          | 0/10 [00:00<?, ?it/s]"
     ]
    },
    {
     "name": "stderr",
     "output_type": "stream",
     "text": [
      "\u001b[A"
     ]
    },
    {
     "name": "stderr",
     "output_type": "stream",
     "text": [
      "\n"
     ]
    },
    {
     "name": "stderr",
     "output_type": "stream",
     "text": [
      "\r",
      " 10%|█         | 1/10 [03:31<31:45, 211.74s/it]"
     ]
    },
    {
     "name": "stderr",
     "output_type": "stream",
     "text": [
      "\u001b[A"
     ]
    },
    {
     "name": "stderr",
     "output_type": "stream",
     "text": [
      "\n"
     ]
    },
    {
     "name": "stderr",
     "output_type": "stream",
     "text": [
      "\r",
      " 20%|██        | 2/10 [06:59<28:04, 210.57s/it]"
     ]
    },
    {
     "name": "stderr",
     "output_type": "stream",
     "text": [
      "\u001b[A"
     ]
    },
    {
     "name": "stderr",
     "output_type": "stream",
     "text": [
      "\n"
     ]
    },
    {
     "name": "stderr",
     "output_type": "stream",
     "text": [
      "\r",
      " 30%|███       | 3/10 [10:30<24:35, 210.74s/it]"
     ]
    },
    {
     "name": "stderr",
     "output_type": "stream",
     "text": [
      "\u001b[A"
     ]
    },
    {
     "name": "stderr",
     "output_type": "stream",
     "text": [
      "\n"
     ]
    },
    {
     "name": "stderr",
     "output_type": "stream",
     "text": [
      "\r",
      " 40%|████      | 4/10 [13:57<20:56, 209.41s/it]"
     ]
    },
    {
     "name": "stderr",
     "output_type": "stream",
     "text": [
      "\u001b[A"
     ]
    },
    {
     "name": "stderr",
     "output_type": "stream",
     "text": [
      "\n"
     ]
    },
    {
     "name": "stderr",
     "output_type": "stream",
     "text": [
      "\r",
      " 50%|█████     | 5/10 [17:19<17:16, 207.25s/it]"
     ]
    },
    {
     "name": "stderr",
     "output_type": "stream",
     "text": [
      "\u001b[A"
     ]
    },
    {
     "name": "stderr",
     "output_type": "stream",
     "text": [
      "\n"
     ]
    },
    {
     "name": "stderr",
     "output_type": "stream",
     "text": [
      "\r",
      " 60%|██████    | 6/10 [20:48<13:51, 207.82s/it]"
     ]
    },
    {
     "name": "stderr",
     "output_type": "stream",
     "text": [
      "\u001b[A"
     ]
    },
    {
     "name": "stderr",
     "output_type": "stream",
     "text": [
      "\n"
     ]
    },
    {
     "name": "stderr",
     "output_type": "stream",
     "text": [
      "\r",
      " 70%|███████   | 7/10 [24:18<10:25, 208.61s/it]"
     ]
    },
    {
     "name": "stderr",
     "output_type": "stream",
     "text": [
      "\u001b[A"
     ]
    },
    {
     "name": "stderr",
     "output_type": "stream",
     "text": [
      "\n"
     ]
    },
    {
     "name": "stderr",
     "output_type": "stream",
     "text": [
      "\r",
      " 80%|████████  | 8/10 [27:47<06:57, 208.57s/it]"
     ]
    },
    {
     "name": "stderr",
     "output_type": "stream",
     "text": [
      "\u001b[A"
     ]
    },
    {
     "name": "stderr",
     "output_type": "stream",
     "text": [
      "\n"
     ]
    },
    {
     "name": "stderr",
     "output_type": "stream",
     "text": [
      "\r",
      " 90%|█████████ | 9/10 [31:14<03:28, 208.02s/it]"
     ]
    },
    {
     "name": "stderr",
     "output_type": "stream",
     "text": [
      "\u001b[A"
     ]
    },
    {
     "name": "stderr",
     "output_type": "stream",
     "text": [
      "\n"
     ]
    },
    {
     "name": "stderr",
     "output_type": "stream",
     "text": [
      "\r",
      "100%|██████████| 10/10 [34:40<00:00, 207.56s/it]"
     ]
    },
    {
     "name": "stderr",
     "output_type": "stream",
     "text": [
      "\u001b[A"
     ]
    },
    {
     "name": "stderr",
     "output_type": "stream",
     "text": [
      "\r",
      "100%|██████████| 10/10 [34:40<00:00, 208.05s/it]"
     ]
    },
    {
     "name": "stderr",
     "output_type": "stream",
     "text": [
      "\n",
      "\r",
      " 50%|█████     | 3/6 [1:46:03<1:46:03, 2121.15s/it]"
     ]
    },
    {
     "name": "stderr",
     "output_type": "stream",
     "text": [
      "\n"
     ]
    },
    {
     "name": "stderr",
     "output_type": "stream",
     "text": [
      "\r",
      "  0%|          | 0/10 [00:00<?, ?it/s]"
     ]
    },
    {
     "name": "stderr",
     "output_type": "stream",
     "text": [
      "\u001b[A"
     ]
    },
    {
     "name": "stderr",
     "output_type": "stream",
     "text": [
      "\n"
     ]
    },
    {
     "name": "stderr",
     "output_type": "stream",
     "text": [
      "\r",
      " 10%|█         | 1/10 [03:47<34:05, 227.27s/it]"
     ]
    },
    {
     "name": "stderr",
     "output_type": "stream",
     "text": [
      "\u001b[A"
     ]
    },
    {
     "name": "stderr",
     "output_type": "stream",
     "text": [
      "\n"
     ]
    },
    {
     "name": "stderr",
     "output_type": "stream",
     "text": [
      "\r",
      " 20%|██        | 2/10 [07:44<30:41, 230.18s/it]"
     ]
    },
    {
     "name": "stderr",
     "output_type": "stream",
     "text": [
      "\u001b[A"
     ]
    },
    {
     "name": "stderr",
     "output_type": "stream",
     "text": [
      "\n"
     ]
    },
    {
     "name": "stderr",
     "output_type": "stream",
     "text": [
      "\r",
      " 30%|███       | 3/10 [12:00<27:45, 237.89s/it]"
     ]
    },
    {
     "name": "stderr",
     "output_type": "stream",
     "text": [
      "\u001b[A"
     ]
    },
    {
     "name": "stderr",
     "output_type": "stream",
     "text": [
      "\n"
     ]
    },
    {
     "name": "stderr",
     "output_type": "stream",
     "text": [
      "\r",
      " 40%|████      | 4/10 [16:12<24:12, 242.16s/it]"
     ]
    },
    {
     "name": "stderr",
     "output_type": "stream",
     "text": [
      "\u001b[A"
     ]
    },
    {
     "name": "stderr",
     "output_type": "stream",
     "text": [
      "\n"
     ]
    },
    {
     "name": "stderr",
     "output_type": "stream",
     "text": [
      "\r",
      " 50%|█████     | 5/10 [20:30<20:34, 246.97s/it]"
     ]
    },
    {
     "name": "stderr",
     "output_type": "stream",
     "text": [
      "\u001b[A"
     ]
    },
    {
     "name": "stderr",
     "output_type": "stream",
     "text": [
      "\n"
     ]
    },
    {
     "name": "stderr",
     "output_type": "stream",
     "text": [
      "\r",
      " 60%|██████    | 6/10 [24:37<16:27, 246.87s/it]"
     ]
    },
    {
     "name": "stderr",
     "output_type": "stream",
     "text": [
      "\u001b[A"
     ]
    },
    {
     "name": "stderr",
     "output_type": "stream",
     "text": [
      "\n"
     ]
    },
    {
     "name": "stderr",
     "output_type": "stream",
     "text": [
      "\r",
      " 70%|███████   | 7/10 [28:50<12:26, 248.72s/it]"
     ]
    },
    {
     "name": "stderr",
     "output_type": "stream",
     "text": [
      "\u001b[A"
     ]
    },
    {
     "name": "stderr",
     "output_type": "stream",
     "text": [
      "\n"
     ]
    },
    {
     "name": "stderr",
     "output_type": "stream",
     "text": [
      "\r",
      " 80%|████████  | 8/10 [33:00<08:18, 249.12s/it]"
     ]
    },
    {
     "name": "stderr",
     "output_type": "stream",
     "text": [
      "\u001b[A"
     ]
    },
    {
     "name": "stderr",
     "output_type": "stream",
     "text": [
      "\n"
     ]
    },
    {
     "name": "stderr",
     "output_type": "stream",
     "text": [
      "\r",
      " 90%|█████████ | 9/10 [37:10<04:09, 249.59s/it]"
     ]
    },
    {
     "name": "stderr",
     "output_type": "stream",
     "text": [
      "\u001b[A"
     ]
    },
    {
     "name": "stderr",
     "output_type": "stream",
     "text": [
      "\n"
     ]
    },
    {
     "name": "stderr",
     "output_type": "stream",
     "text": [
      "\r",
      "100%|██████████| 10/10 [41:22<00:00, 250.33s/it]"
     ]
    },
    {
     "name": "stderr",
     "output_type": "stream",
     "text": [
      "\u001b[A"
     ]
    },
    {
     "name": "stderr",
     "output_type": "stream",
     "text": [
      "\r",
      "100%|██████████| 10/10 [41:22<00:00, 248.29s/it]"
     ]
    },
    {
     "name": "stderr",
     "output_type": "stream",
     "text": [
      "\n",
      "\r",
      " 67%|██████▋   | 4/6 [2:27:26<1:14:19, 2229.69s/it]"
     ]
    },
    {
     "name": "stderr",
     "output_type": "stream",
     "text": [
      "\n"
     ]
    },
    {
     "name": "stderr",
     "output_type": "stream",
     "text": [
      "\r",
      "  0%|          | 0/10 [00:00<?, ?it/s]"
     ]
    },
    {
     "name": "stderr",
     "output_type": "stream",
     "text": [
      "\u001b[A"
     ]
    },
    {
     "name": "stderr",
     "output_type": "stream",
     "text": [
      "\n"
     ]
    },
    {
     "name": "stderr",
     "output_type": "stream",
     "text": [
      "\r",
      " 10%|█         | 1/10 [04:30<40:30, 270.11s/it]"
     ]
    },
    {
     "name": "stderr",
     "output_type": "stream",
     "text": [
      "\u001b[A"
     ]
    },
    {
     "name": "stderr",
     "output_type": "stream",
     "text": [
      "\n"
     ]
    },
    {
     "name": "stderr",
     "output_type": "stream",
     "text": [
      "\r",
      " 20%|██        | 2/10 [08:58<35:55, 269.45s/it]"
     ]
    },
    {
     "name": "stderr",
     "output_type": "stream",
     "text": [
      "\u001b[A"
     ]
    },
    {
     "name": "stderr",
     "output_type": "stream",
     "text": [
      "\n"
     ]
    },
    {
     "name": "stderr",
     "output_type": "stream",
     "text": [
      "\r",
      " 30%|███       | 3/10 [13:28<31:28, 269.76s/it]"
     ]
    },
    {
     "name": "stderr",
     "output_type": "stream",
     "text": [
      "\u001b[A"
     ]
    },
    {
     "name": "stderr",
     "output_type": "stream",
     "text": [
      "\n"
     ]
    },
    {
     "name": "stderr",
     "output_type": "stream",
     "text": [
      "\r",
      " 40%|████      | 4/10 [17:58<26:59, 269.92s/it]"
     ]
    },
    {
     "name": "stderr",
     "output_type": "stream",
     "text": [
      "\u001b[A"
     ]
    },
    {
     "name": "stderr",
     "output_type": "stream",
     "text": [
      "\n"
     ]
    },
    {
     "name": "stderr",
     "output_type": "stream",
     "text": [
      "\r",
      " 50%|█████     | 5/10 [22:29<22:30, 270.10s/it]"
     ]
    },
    {
     "name": "stderr",
     "output_type": "stream",
     "text": [
      "\u001b[A"
     ]
    },
    {
     "name": "stderr",
     "output_type": "stream",
     "text": [
      "\n"
     ]
    },
    {
     "name": "stderr",
     "output_type": "stream",
     "text": [
      "\r",
      " 60%|██████    | 6/10 [27:03<18:05, 271.36s/it]"
     ]
    },
    {
     "name": "stderr",
     "output_type": "stream",
     "text": [
      "\u001b[A"
     ]
    },
    {
     "name": "stderr",
     "output_type": "stream",
     "text": [
      "\n"
     ]
    },
    {
     "name": "stderr",
     "output_type": "stream",
     "text": [
      "\r",
      " 70%|███████   | 7/10 [31:27<13:27, 269.02s/it]"
     ]
    },
    {
     "name": "stderr",
     "output_type": "stream",
     "text": [
      "\u001b[A"
     ]
    },
    {
     "name": "stderr",
     "output_type": "stream",
     "text": [
      "\n"
     ]
    },
    {
     "name": "stderr",
     "output_type": "stream",
     "text": [
      "\r",
      " 80%|████████  | 8/10 [36:02<09:01, 270.88s/it]"
     ]
    },
    {
     "name": "stderr",
     "output_type": "stream",
     "text": [
      "\u001b[A"
     ]
    },
    {
     "name": "stderr",
     "output_type": "stream",
     "text": [
      "\n"
     ]
    },
    {
     "name": "stderr",
     "output_type": "stream",
     "text": [
      "\r",
      " 90%|█████████ | 9/10 [40:36<04:31, 271.89s/it]"
     ]
    },
    {
     "name": "stderr",
     "output_type": "stream",
     "text": [
      "\u001b[A"
     ]
    },
    {
     "name": "stderr",
     "output_type": "stream",
     "text": [
      "\n"
     ]
    },
    {
     "name": "stderr",
     "output_type": "stream",
     "text": [
      "\r",
      "100%|██████████| 10/10 [44:54<00:00, 267.77s/it]"
     ]
    },
    {
     "name": "stderr",
     "output_type": "stream",
     "text": [
      "\u001b[A"
     ]
    },
    {
     "name": "stderr",
     "output_type": "stream",
     "text": [
      "\r",
      "100%|██████████| 10/10 [44:54<00:00, 269.48s/it]"
     ]
    },
    {
     "name": "stderr",
     "output_type": "stream",
     "text": [
      "\n",
      "\r",
      " 83%|████████▎ | 5/6 [3:12:21<39:29, 2369.24s/it]  "
     ]
    },
    {
     "name": "stderr",
     "output_type": "stream",
     "text": [
      "\n"
     ]
    },
    {
     "name": "stderr",
     "output_type": "stream",
     "text": [
      "\r",
      "  0%|          | 0/10 [00:00<?, ?it/s]"
     ]
    },
    {
     "name": "stderr",
     "output_type": "stream",
     "text": [
      "\u001b[A"
     ]
    },
    {
     "name": "stderr",
     "output_type": "stream",
     "text": [
      "\n"
     ]
    },
    {
     "name": "stderr",
     "output_type": "stream",
     "text": [
      "\r",
      " 10%|█         | 1/10 [03:57<35:36, 237.44s/it]"
     ]
    },
    {
     "name": "stderr",
     "output_type": "stream",
     "text": [
      "\u001b[A"
     ]
    },
    {
     "name": "stderr",
     "output_type": "stream",
     "text": [
      "\n"
     ]
    },
    {
     "name": "stderr",
     "output_type": "stream",
     "text": [
      "\r",
      " 20%|██        | 2/10 [07:56<31:44, 238.03s/it]"
     ]
    },
    {
     "name": "stderr",
     "output_type": "stream",
     "text": [
      "\u001b[A"
     ]
    },
    {
     "name": "stderr",
     "output_type": "stream",
     "text": [
      "\n"
     ]
    },
    {
     "name": "stderr",
     "output_type": "stream",
     "text": [
      "\r",
      " 30%|███       | 3/10 [11:55<27:47, 238.23s/it]"
     ]
    },
    {
     "name": "stderr",
     "output_type": "stream",
     "text": [
      "\u001b[A"
     ]
    },
    {
     "name": "stderr",
     "output_type": "stream",
     "text": [
      "\n"
     ]
    },
    {
     "name": "stderr",
     "output_type": "stream",
     "text": [
      "\r",
      " 40%|████      | 4/10 [15:54<23:50, 238.49s/it]"
     ]
    },
    {
     "name": "stderr",
     "output_type": "stream",
     "text": [
      "\u001b[A"
     ]
    },
    {
     "name": "stderr",
     "output_type": "stream",
     "text": [
      "\n"
     ]
    },
    {
     "name": "stderr",
     "output_type": "stream",
     "text": [
      "\r",
      " 50%|█████     | 5/10 [19:55<19:56, 239.31s/it]"
     ]
    },
    {
     "name": "stderr",
     "output_type": "stream",
     "text": [
      "\u001b[A"
     ]
    },
    {
     "name": "stderr",
     "output_type": "stream",
     "text": [
      "\n"
     ]
    },
    {
     "name": "stderr",
     "output_type": "stream",
     "text": [
      "\r",
      " 60%|██████    | 6/10 [24:57<17:11, 257.92s/it]"
     ]
    },
    {
     "name": "stderr",
     "output_type": "stream",
     "text": [
      "\u001b[A"
     ]
    },
    {
     "name": "stderr",
     "output_type": "stream",
     "text": [
      "\n"
     ]
    },
    {
     "name": "stderr",
     "output_type": "stream",
     "text": [
      "\r",
      " 70%|███████   | 7/10 [31:14<14:41, 293.75s/it]"
     ]
    },
    {
     "name": "stderr",
     "output_type": "stream",
     "text": [
      "\u001b[A"
     ]
    },
    {
     "name": "stderr",
     "output_type": "stream",
     "text": [
      "\n"
     ]
    },
    {
     "name": "stderr",
     "output_type": "stream",
     "text": [
      "\r",
      " 80%|████████  | 8/10 [37:26<10:34, 317.08s/it]"
     ]
    },
    {
     "name": "stderr",
     "output_type": "stream",
     "text": [
      "\u001b[A"
     ]
    },
    {
     "name": "stderr",
     "output_type": "stream",
     "text": [
      "\n"
     ]
    },
    {
     "name": "stderr",
     "output_type": "stream",
     "text": [
      "\r",
      " 90%|█████████ | 9/10 [43:33<05:32, 332.24s/it]"
     ]
    },
    {
     "name": "stderr",
     "output_type": "stream",
     "text": [
      "\u001b[A"
     ]
    },
    {
     "name": "stderr",
     "output_type": "stream",
     "text": [
      "\n"
     ]
    },
    {
     "name": "stderr",
     "output_type": "stream",
     "text": [
      "\r",
      "100%|██████████| 10/10 [49:42<00:00, 343.16s/it]"
     ]
    },
    {
     "name": "stderr",
     "output_type": "stream",
     "text": [
      "\u001b[A"
     ]
    },
    {
     "name": "stderr",
     "output_type": "stream",
     "text": [
      "\r",
      "100%|██████████| 10/10 [49:42<00:00, 298.23s/it]"
     ]
    },
    {
     "name": "stderr",
     "output_type": "stream",
     "text": [
      "\n",
      "\n"
     ]
    },
    {
     "name": "stderr",
     "output_type": "stream",
     "text": [
      "\r",
      "  0%|          | 0/6 [00:00<?, ?it/s]"
     ]
    },
    {
     "name": "stderr",
     "output_type": "stream",
     "text": [
      "\u001b[A"
     ]
    },
    {
     "name": "stderr",
     "output_type": "stream",
     "text": [
      "\n",
      "\n"
     ]
    },
    {
     "name": "stderr",
     "output_type": "stream",
     "text": [
      "\r",
      "  0%|          | 0/10 [00:00<?, ?it/s]"
     ]
    },
    {
     "name": "stderr",
     "output_type": "stream",
     "text": [
      "\u001b[A\u001b[A"
     ]
    },
    {
     "name": "stderr",
     "output_type": "stream",
     "text": [
      "\n",
      "\n"
     ]
    },
    {
     "name": "stderr",
     "output_type": "stream",
     "text": [
      "\r",
      " 10%|█         | 1/10 [06:22<57:22, 382.47s/it]"
     ]
    },
    {
     "name": "stderr",
     "output_type": "stream",
     "text": [
      "\u001b[A\u001b[A"
     ]
    },
    {
     "name": "stderr",
     "output_type": "stream",
     "text": [
      "\n",
      "\n"
     ]
    },
    {
     "name": "stderr",
     "output_type": "stream",
     "text": [
      "\r",
      " 20%|██        | 2/10 [10:56<46:39, 349.97s/it]"
     ]
    },
    {
     "name": "stderr",
     "output_type": "stream",
     "text": [
      "\u001b[A\u001b[A"
     ]
    },
    {
     "name": "stderr",
     "output_type": "stream",
     "text": [
      "\n",
      "\n"
     ]
    },
    {
     "name": "stderr",
     "output_type": "stream",
     "text": [
      "\r",
      " 30%|███       | 3/10 [14:20<35:42, 306.01s/it]"
     ]
    },
    {
     "name": "stderr",
     "output_type": "stream",
     "text": [
      "\u001b[A\u001b[A"
     ]
    },
    {
     "name": "stderr",
     "output_type": "stream",
     "text": [
      "\n",
      "\n"
     ]
    },
    {
     "name": "stderr",
     "output_type": "stream",
     "text": [
      "\r",
      " 40%|████      | 4/10 [17:48<27:40, 276.74s/it]"
     ]
    },
    {
     "name": "stderr",
     "output_type": "stream",
     "text": [
      "\u001b[A\u001b[A"
     ]
    },
    {
     "name": "stderr",
     "output_type": "stream",
     "text": [
      "\n",
      "\n"
     ]
    },
    {
     "name": "stderr",
     "output_type": "stream",
     "text": [
      "\r",
      " 50%|█████     | 5/10 [21:14<21:18, 255.64s/it]"
     ]
    },
    {
     "name": "stderr",
     "output_type": "stream",
     "text": [
      "\u001b[A\u001b[A"
     ]
    },
    {
     "name": "stderr",
     "output_type": "stream",
     "text": [
      "\n",
      "\n"
     ]
    },
    {
     "name": "stderr",
     "output_type": "stream",
     "text": [
      "\r",
      " 60%|██████    | 6/10 [24:42<16:04, 241.20s/it]"
     ]
    },
    {
     "name": "stderr",
     "output_type": "stream",
     "text": [
      "\u001b[A\u001b[A"
     ]
    },
    {
     "name": "stderr",
     "output_type": "stream",
     "text": [
      "\n",
      "\n"
     ]
    },
    {
     "name": "stderr",
     "output_type": "stream",
     "text": [
      "\r",
      " 70%|███████   | 7/10 [28:03<11:27, 229.23s/it]"
     ]
    },
    {
     "name": "stderr",
     "output_type": "stream",
     "text": [
      "\u001b[A\u001b[A"
     ]
    },
    {
     "name": "stderr",
     "output_type": "stream",
     "text": [
      "\n",
      "\n"
     ]
    },
    {
     "name": "stderr",
     "output_type": "stream",
     "text": [
      "\r",
      " 80%|████████  | 8/10 [31:32<07:26, 223.14s/it]"
     ]
    },
    {
     "name": "stderr",
     "output_type": "stream",
     "text": [
      "\u001b[A\u001b[A"
     ]
    },
    {
     "name": "stderr",
     "output_type": "stream",
     "text": [
      "\n",
      "\n"
     ]
    },
    {
     "name": "stderr",
     "output_type": "stream",
     "text": [
      "\r",
      " 90%|█████████ | 9/10 [34:57<03:37, 217.76s/it]"
     ]
    },
    {
     "name": "stderr",
     "output_type": "stream",
     "text": [
      "\u001b[A\u001b[A"
     ]
    },
    {
     "name": "stderr",
     "output_type": "stream",
     "text": [
      "\n",
      "\n"
     ]
    },
    {
     "name": "stderr",
     "output_type": "stream",
     "text": [
      "\r",
      "100%|██████████| 10/10 [38:26<00:00, 215.10s/it]"
     ]
    },
    {
     "name": "stderr",
     "output_type": "stream",
     "text": [
      "\u001b[A\u001b[A"
     ]
    },
    {
     "name": "stderr",
     "output_type": "stream",
     "text": [
      "\r",
      "100%|██████████| 10/10 [38:26<00:00, 230.67s/it]"
     ]
    },
    {
     "name": "stderr",
     "output_type": "stream",
     "text": [
      "\n",
      "\n"
     ]
    },
    {
     "name": "stderr",
     "output_type": "stream",
     "text": [
      "\r",
      " 17%|█▋        | 1/6 [38:26<3:12:13, 2306.77s/it]"
     ]
    },
    {
     "name": "stderr",
     "output_type": "stream",
     "text": [
      "\u001b[A"
     ]
    },
    {
     "name": "stderr",
     "output_type": "stream",
     "text": [
      "\n",
      "\n"
     ]
    },
    {
     "name": "stderr",
     "output_type": "stream",
     "text": [
      "\r",
      "  0%|          | 0/10 [00:00<?, ?it/s]"
     ]
    },
    {
     "name": "stderr",
     "output_type": "stream",
     "text": [
      "\u001b[A\u001b[A"
     ]
    },
    {
     "name": "stderr",
     "output_type": "stream",
     "text": [
      "\n",
      "\n"
     ]
    },
    {
     "name": "stderr",
     "output_type": "stream",
     "text": [
      "\r",
      " 10%|█         | 1/10 [03:14<29:07, 194.19s/it]"
     ]
    },
    {
     "name": "stderr",
     "output_type": "stream",
     "text": [
      "\u001b[A\u001b[A"
     ]
    },
    {
     "name": "stderr",
     "output_type": "stream",
     "text": [
      "\n",
      "\n"
     ]
    },
    {
     "name": "stderr",
     "output_type": "stream",
     "text": [
      "\r",
      " 20%|██        | 2/10 [06:29<25:55, 194.39s/it]"
     ]
    },
    {
     "name": "stderr",
     "output_type": "stream",
     "text": [
      "\u001b[A\u001b[A"
     ]
    },
    {
     "name": "stderr",
     "output_type": "stream",
     "text": [
      "\n",
      "\n"
     ]
    },
    {
     "name": "stderr",
     "output_type": "stream",
     "text": [
      "\r",
      " 30%|███       | 3/10 [09:34<22:21, 191.58s/it]"
     ]
    },
    {
     "name": "stderr",
     "output_type": "stream",
     "text": [
      "\u001b[A\u001b[A"
     ]
    },
    {
     "name": "stderr",
     "output_type": "stream",
     "text": [
      "\n",
      "\n"
     ]
    },
    {
     "name": "stderr",
     "output_type": "stream",
     "text": [
      "\r",
      " 40%|████      | 4/10 [12:35<18:51, 188.61s/it]"
     ]
    },
    {
     "name": "stderr",
     "output_type": "stream",
     "text": [
      "\u001b[A\u001b[A"
     ]
    },
    {
     "name": "stderr",
     "output_type": "stream",
     "text": [
      "\n",
      "\n"
     ]
    },
    {
     "name": "stderr",
     "output_type": "stream",
     "text": [
      "\r",
      " 50%|█████     | 5/10 [15:51<15:54, 190.89s/it]"
     ]
    },
    {
     "name": "stderr",
     "output_type": "stream",
     "text": [
      "\u001b[A\u001b[A"
     ]
    },
    {
     "name": "stderr",
     "output_type": "stream",
     "text": [
      "\n",
      "\n"
     ]
    },
    {
     "name": "stderr",
     "output_type": "stream",
     "text": [
      "\r",
      " 60%|██████    | 6/10 [19:05<12:47, 191.81s/it]"
     ]
    },
    {
     "name": "stderr",
     "output_type": "stream",
     "text": [
      "\u001b[A\u001b[A"
     ]
    },
    {
     "name": "stderr",
     "output_type": "stream",
     "text": [
      "\n",
      "\n"
     ]
    },
    {
     "name": "stderr",
     "output_type": "stream",
     "text": [
      "\r",
      " 70%|███████   | 7/10 [22:19<09:36, 192.31s/it]"
     ]
    },
    {
     "name": "stderr",
     "output_type": "stream",
     "text": [
      "\u001b[A\u001b[A"
     ]
    },
    {
     "name": "stderr",
     "output_type": "stream",
     "text": [
      "\n",
      "\n"
     ]
    },
    {
     "name": "stderr",
     "output_type": "stream",
     "text": [
      "\r",
      " 80%|████████  | 8/10 [25:36<06:27, 193.84s/it]"
     ]
    },
    {
     "name": "stderr",
     "output_type": "stream",
     "text": [
      "\u001b[A\u001b[A"
     ]
    },
    {
     "name": "stderr",
     "output_type": "stream",
     "text": [
      "\n",
      "\n"
     ]
    },
    {
     "name": "stderr",
     "output_type": "stream",
     "text": [
      "\r",
      " 90%|█████████ | 9/10 [29:17<03:21, 201.88s/it]"
     ]
    },
    {
     "name": "stderr",
     "output_type": "stream",
     "text": [
      "\u001b[A\u001b[A"
     ]
    },
    {
     "name": "stderr",
     "output_type": "stream",
     "text": [
      "\n",
      "\n"
     ]
    },
    {
     "name": "stderr",
     "output_type": "stream",
     "text": [
      "\r",
      "100%|██████████| 10/10 [34:15<00:00, 230.88s/it]"
     ]
    },
    {
     "name": "stderr",
     "output_type": "stream",
     "text": [
      "\u001b[A\u001b[A"
     ]
    },
    {
     "name": "stderr",
     "output_type": "stream",
     "text": [
      "\r",
      "100%|██████████| 10/10 [34:15<00:00, 205.60s/it]"
     ]
    },
    {
     "name": "stderr",
     "output_type": "stream",
     "text": [
      "\n",
      "\n"
     ]
    },
    {
     "name": "stderr",
     "output_type": "stream",
     "text": [
      "\r",
      " 33%|███▎      | 2/6 [1:12:42<2:28:46, 2231.54s/it]"
     ]
    },
    {
     "name": "stderr",
     "output_type": "stream",
     "text": [
      "\u001b[A"
     ]
    },
    {
     "name": "stderr",
     "output_type": "stream",
     "text": [
      "\n",
      "\n"
     ]
    },
    {
     "name": "stderr",
     "output_type": "stream",
     "text": [
      "\r",
      "  0%|          | 0/10 [00:00<?, ?it/s]"
     ]
    },
    {
     "name": "stderr",
     "output_type": "stream",
     "text": [
      "\u001b[A\u001b[A"
     ]
    },
    {
     "name": "stderr",
     "output_type": "stream",
     "text": [
      "\n",
      "\n"
     ]
    },
    {
     "name": "stderr",
     "output_type": "stream",
     "text": [
      "\r",
      " 10%|█         | 1/10 [05:04<45:41, 304.61s/it]"
     ]
    },
    {
     "name": "stderr",
     "output_type": "stream",
     "text": [
      "\u001b[A\u001b[A"
     ]
    },
    {
     "name": "stderr",
     "output_type": "stream",
     "text": [
      "\n",
      "\n"
     ]
    },
    {
     "name": "stderr",
     "output_type": "stream",
     "text": [
      "\r",
      " 20%|██        | 2/10 [10:15<40:52, 306.62s/it]"
     ]
    },
    {
     "name": "stderr",
     "output_type": "stream",
     "text": [
      "\u001b[A\u001b[A"
     ]
    },
    {
     "name": "stderr",
     "output_type": "stream",
     "text": [
      "\n",
      "\n"
     ]
    },
    {
     "name": "stderr",
     "output_type": "stream",
     "text": [
      "\r",
      " 30%|███       | 3/10 [15:40<36:24, 312.03s/it]"
     ]
    },
    {
     "name": "stderr",
     "output_type": "stream",
     "text": [
      "\u001b[A\u001b[A"
     ]
    },
    {
     "name": "stderr",
     "output_type": "stream",
     "text": [
      "\n",
      "\n"
     ]
    },
    {
     "name": "stderr",
     "output_type": "stream",
     "text": [
      "\r",
      " 40%|████      | 4/10 [20:36<30:43, 307.31s/it]"
     ]
    },
    {
     "name": "stderr",
     "output_type": "stream",
     "text": [
      "\u001b[A\u001b[A"
     ]
    },
    {
     "name": "stderr",
     "output_type": "stream",
     "text": [
      "\n",
      "\n"
     ]
    },
    {
     "name": "stderr",
     "output_type": "stream",
     "text": [
      "\r",
      " 50%|█████     | 5/10 [25:41<25:32, 306.53s/it]"
     ]
    },
    {
     "name": "stderr",
     "output_type": "stream",
     "text": [
      "\u001b[A\u001b[A"
     ]
    },
    {
     "name": "stderr",
     "output_type": "stream",
     "text": [
      "\n",
      "\n"
     ]
    },
    {
     "name": "stderr",
     "output_type": "stream",
     "text": [
      "\r",
      " 60%|██████    | 6/10 [30:59<20:39, 309.96s/it]"
     ]
    },
    {
     "name": "stderr",
     "output_type": "stream",
     "text": [
      "\u001b[A\u001b[A"
     ]
    },
    {
     "name": "stderr",
     "output_type": "stream",
     "text": [
      "\n",
      "\n"
     ]
    },
    {
     "name": "stderr",
     "output_type": "stream",
     "text": [
      "\r",
      " 70%|███████   | 7/10 [36:13<15:33, 311.23s/it]"
     ]
    },
    {
     "name": "stderr",
     "output_type": "stream",
     "text": [
      "\u001b[A\u001b[A"
     ]
    },
    {
     "name": "stderr",
     "output_type": "stream",
     "text": [
      "\n",
      "\n"
     ]
    },
    {
     "name": "stderr",
     "output_type": "stream",
     "text": [
      "\r",
      " 80%|████████  | 8/10 [41:26<10:23, 311.73s/it]"
     ]
    },
    {
     "name": "stderr",
     "output_type": "stream",
     "text": [
      "\u001b[A\u001b[A"
     ]
    },
    {
     "name": "stderr",
     "output_type": "stream",
     "text": [
      "\n",
      "\n"
     ]
    },
    {
     "name": "stderr",
     "output_type": "stream",
     "text": [
      "\r",
      " 90%|█████████ | 9/10 [46:25<05:07, 307.95s/it]"
     ]
    },
    {
     "name": "stderr",
     "output_type": "stream",
     "text": [
      "\u001b[A\u001b[A"
     ]
    },
    {
     "name": "stderr",
     "output_type": "stream",
     "text": [
      "\n",
      "\n"
     ]
    },
    {
     "name": "stderr",
     "output_type": "stream",
     "text": [
      "\r",
      "100%|██████████| 10/10 [49:53<00:00, 278.03s/it]"
     ]
    },
    {
     "name": "stderr",
     "output_type": "stream",
     "text": [
      "\u001b[A\u001b[A"
     ]
    },
    {
     "name": "stderr",
     "output_type": "stream",
     "text": [
      "\r",
      "100%|██████████| 10/10 [49:53<00:00, 299.40s/it]"
     ]
    },
    {
     "name": "stderr",
     "output_type": "stream",
     "text": [
      "\n",
      "\n"
     ]
    },
    {
     "name": "stderr",
     "output_type": "stream",
     "text": [
      "\r",
      " 50%|█████     | 3/6 [2:02:36<2:03:00, 2460.28s/it]"
     ]
    },
    {
     "name": "stderr",
     "output_type": "stream",
     "text": [
      "\u001b[A"
     ]
    },
    {
     "name": "stderr",
     "output_type": "stream",
     "text": [
      "\n",
      "\n"
     ]
    },
    {
     "name": "stderr",
     "output_type": "stream",
     "text": [
      "\r",
      "  0%|          | 0/10 [00:00<?, ?it/s]"
     ]
    },
    {
     "name": "stderr",
     "output_type": "stream",
     "text": [
      "\u001b[A\u001b[A"
     ]
    },
    {
     "name": "stderr",
     "output_type": "stream",
     "text": [
      "\n",
      "\n"
     ]
    },
    {
     "name": "stderr",
     "output_type": "stream",
     "text": [
      "\r",
      " 10%|█         | 1/10 [03:26<30:58, 206.54s/it]"
     ]
    },
    {
     "name": "stderr",
     "output_type": "stream",
     "text": [
      "\u001b[A\u001b[A"
     ]
    },
    {
     "name": "stderr",
     "output_type": "stream",
     "text": [
      "\n",
      "\n"
     ]
    },
    {
     "name": "stderr",
     "output_type": "stream",
     "text": [
      "\r",
      " 20%|██        | 2/10 [06:51<27:29, 206.14s/it]"
     ]
    },
    {
     "name": "stderr",
     "output_type": "stream",
     "text": [
      "\u001b[A\u001b[A"
     ]
    },
    {
     "name": "stderr",
     "output_type": "stream",
     "text": [
      "\n",
      "\n"
     ]
    },
    {
     "name": "stderr",
     "output_type": "stream",
     "text": [
      "\r",
      " 30%|███       | 3/10 [10:13<23:53, 204.72s/it]"
     ]
    },
    {
     "name": "stderr",
     "output_type": "stream",
     "text": [
      "\u001b[A\u001b[A"
     ]
    },
    {
     "name": "stderr",
     "output_type": "stream",
     "text": [
      "\n",
      "\n"
     ]
    },
    {
     "name": "stderr",
     "output_type": "stream",
     "text": [
      "\r",
      " 40%|████      | 4/10 [13:38<20:29, 204.87s/it]"
     ]
    },
    {
     "name": "stderr",
     "output_type": "stream",
     "text": [
      "\u001b[A\u001b[A"
     ]
    },
    {
     "name": "stderr",
     "output_type": "stream",
     "text": [
      "\n",
      "\n"
     ]
    },
    {
     "name": "stderr",
     "output_type": "stream",
     "text": [
      "\r",
      " 50%|█████     | 5/10 [17:01<17:02, 204.43s/it]"
     ]
    },
    {
     "name": "stderr",
     "output_type": "stream",
     "text": [
      "\u001b[A\u001b[A"
     ]
    },
    {
     "name": "stderr",
     "output_type": "stream",
     "text": [
      "\n",
      "\n"
     ]
    },
    {
     "name": "stderr",
     "output_type": "stream",
     "text": [
      "\r",
      " 60%|██████    | 6/10 [20:27<13:39, 204.86s/it]"
     ]
    },
    {
     "name": "stderr",
     "output_type": "stream",
     "text": [
      "\u001b[A\u001b[A"
     ]
    },
    {
     "name": "stderr",
     "output_type": "stream",
     "text": [
      "\n",
      "\n"
     ]
    },
    {
     "name": "stderr",
     "output_type": "stream",
     "text": [
      "\r",
      " 70%|███████   | 7/10 [23:51<10:13, 204.42s/it]"
     ]
    },
    {
     "name": "stderr",
     "output_type": "stream",
     "text": [
      "\u001b[A\u001b[A"
     ]
    },
    {
     "name": "stderr",
     "output_type": "stream",
     "text": [
      "\n",
      "\n"
     ]
    },
    {
     "name": "stderr",
     "output_type": "stream",
     "text": [
      "\r",
      " 80%|████████  | 8/10 [27:12<06:46, 203.48s/it]"
     ]
    },
    {
     "name": "stderr",
     "output_type": "stream",
     "text": [
      "\u001b[A\u001b[A"
     ]
    },
    {
     "name": "stderr",
     "output_type": "stream",
     "text": [
      "\n",
      "\n"
     ]
    },
    {
     "name": "stderr",
     "output_type": "stream",
     "text": [
      "\r",
      " 90%|█████████ | 9/10 [30:37<03:23, 203.94s/it]"
     ]
    },
    {
     "name": "stderr",
     "output_type": "stream",
     "text": [
      "\u001b[A\u001b[A"
     ]
    },
    {
     "name": "stderr",
     "output_type": "stream",
     "text": [
      "\n",
      "\n"
     ]
    },
    {
     "name": "stderr",
     "output_type": "stream",
     "text": [
      "\r",
      "100%|██████████| 10/10 [34:00<00:00, 203.84s/it]"
     ]
    },
    {
     "name": "stderr",
     "output_type": "stream",
     "text": [
      "\u001b[A\u001b[A"
     ]
    },
    {
     "name": "stderr",
     "output_type": "stream",
     "text": [
      "\r",
      "100%|██████████| 10/10 [34:00<00:00, 204.10s/it]"
     ]
    },
    {
     "name": "stderr",
     "output_type": "stream",
     "text": [
      "\n",
      "\n"
     ]
    },
    {
     "name": "stderr",
     "output_type": "stream",
     "text": [
      "\r",
      " 67%|██████▋   | 4/6 [2:36:37<1:17:48, 2334.49s/it]"
     ]
    },
    {
     "name": "stderr",
     "output_type": "stream",
     "text": [
      "\u001b[A"
     ]
    },
    {
     "name": "stderr",
     "output_type": "stream",
     "text": [
      "\n",
      "\n"
     ]
    },
    {
     "name": "stderr",
     "output_type": "stream",
     "text": [
      "\r",
      "  0%|          | 0/10 [00:00<?, ?it/s]"
     ]
    },
    {
     "name": "stderr",
     "output_type": "stream",
     "text": [
      "\u001b[A\u001b[A"
     ]
    },
    {
     "name": "stderr",
     "output_type": "stream",
     "text": [
      "\n",
      "\n"
     ]
    },
    {
     "name": "stderr",
     "output_type": "stream",
     "text": [
      "\r",
      " 10%|█         | 1/10 [03:22<30:21, 202.37s/it]"
     ]
    },
    {
     "name": "stderr",
     "output_type": "stream",
     "text": [
      "\u001b[A\u001b[A"
     ]
    },
    {
     "name": "stderr",
     "output_type": "stream",
     "text": [
      "\n",
      "\n"
     ]
    },
    {
     "name": "stderr",
     "output_type": "stream",
     "text": [
      "\r",
      " 20%|██        | 2/10 [06:40<26:47, 200.97s/it]"
     ]
    },
    {
     "name": "stderr",
     "output_type": "stream",
     "text": [
      "\u001b[A\u001b[A"
     ]
    },
    {
     "name": "stderr",
     "output_type": "stream",
     "text": [
      "\n",
      "\n"
     ]
    },
    {
     "name": "stderr",
     "output_type": "stream",
     "text": [
      "\r",
      " 30%|███       | 3/10 [10:07<23:39, 202.83s/it]"
     ]
    },
    {
     "name": "stderr",
     "output_type": "stream",
     "text": [
      "\u001b[A\u001b[A"
     ]
    },
    {
     "name": "stderr",
     "output_type": "stream",
     "text": [
      "\n",
      "\n"
     ]
    },
    {
     "name": "stderr",
     "output_type": "stream",
     "text": [
      "\r",
      " 40%|████      | 4/10 [13:30<20:18, 203.01s/it]"
     ]
    },
    {
     "name": "stderr",
     "output_type": "stream",
     "text": [
      "\u001b[A\u001b[A"
     ]
    },
    {
     "name": "stderr",
     "output_type": "stream",
     "text": [
      "\n",
      "\n"
     ]
    },
    {
     "name": "stderr",
     "output_type": "stream",
     "text": [
      "\r",
      " 50%|█████     | 5/10 [16:58<17:02, 204.54s/it]"
     ]
    },
    {
     "name": "stderr",
     "output_type": "stream",
     "text": [
      "\u001b[A\u001b[A"
     ]
    },
    {
     "name": "stderr",
     "output_type": "stream",
     "text": [
      "\n",
      "\n"
     ]
    },
    {
     "name": "stderr",
     "output_type": "stream",
     "text": [
      "\r",
      " 60%|██████    | 6/10 [20:18<13:31, 202.97s/it]"
     ]
    },
    {
     "name": "stderr",
     "output_type": "stream",
     "text": [
      "\u001b[A\u001b[A"
     ]
    },
    {
     "name": "stderr",
     "output_type": "stream",
     "text": [
      "\n",
      "\n"
     ]
    },
    {
     "name": "stderr",
     "output_type": "stream",
     "text": [
      "\r",
      " 70%|███████   | 7/10 [23:39<10:07, 202.46s/it]"
     ]
    },
    {
     "name": "stderr",
     "output_type": "stream",
     "text": [
      "\u001b[A\u001b[A"
     ]
    },
    {
     "name": "stderr",
     "output_type": "stream",
     "text": [
      "\n",
      "\n"
     ]
    },
    {
     "name": "stderr",
     "output_type": "stream",
     "text": [
      "\r",
      " 80%|████████  | 8/10 [27:04<06:46, 203.18s/it]"
     ]
    },
    {
     "name": "stderr",
     "output_type": "stream",
     "text": [
      "\u001b[A\u001b[A"
     ]
    },
    {
     "name": "stderr",
     "output_type": "stream",
     "text": [
      "\n",
      "\n"
     ]
    },
    {
     "name": "stderr",
     "output_type": "stream",
     "text": [
      "\r",
      " 90%|█████████ | 9/10 [30:24<03:22, 202.16s/it]"
     ]
    },
    {
     "name": "stderr",
     "output_type": "stream",
     "text": [
      "\u001b[A\u001b[A"
     ]
    },
    {
     "name": "stderr",
     "output_type": "stream",
     "text": [
      "\n",
      "\n"
     ]
    },
    {
     "name": "stderr",
     "output_type": "stream",
     "text": [
      "\r",
      "100%|██████████| 10/10 [33:49<00:00, 203.01s/it]"
     ]
    },
    {
     "name": "stderr",
     "output_type": "stream",
     "text": [
      "\u001b[A\u001b[A"
     ]
    },
    {
     "name": "stderr",
     "output_type": "stream",
     "text": [
      "\r",
      "100%|██████████| 10/10 [33:49<00:00, 202.90s/it]"
     ]
    },
    {
     "name": "stderr",
     "output_type": "stream",
     "text": [
      "\n",
      "\n"
     ]
    },
    {
     "name": "stderr",
     "output_type": "stream",
     "text": [
      "\r",
      " 83%|████████▎ | 5/6 [3:10:26<37:22, 2242.85s/it]  "
     ]
    },
    {
     "name": "stderr",
     "output_type": "stream",
     "text": [
      "\u001b[A"
     ]
    },
    {
     "name": "stderr",
     "output_type": "stream",
     "text": [
      "\n",
      "\n"
     ]
    },
    {
     "name": "stderr",
     "output_type": "stream",
     "text": [
      "\r",
      "  0%|          | 0/10 [00:00<?, ?it/s]"
     ]
    },
    {
     "name": "stderr",
     "output_type": "stream",
     "text": [
      "\u001b[A\u001b[A"
     ]
    },
    {
     "name": "stderr",
     "output_type": "stream",
     "text": [
      "\n",
      "\n"
     ]
    },
    {
     "name": "stderr",
     "output_type": "stream",
     "text": [
      "\r",
      " 10%|█         | 1/10 [03:17<29:39, 197.72s/it]"
     ]
    },
    {
     "name": "stderr",
     "output_type": "stream",
     "text": [
      "\u001b[A\u001b[A"
     ]
    },
    {
     "name": "stderr",
     "output_type": "stream",
     "text": [
      "\n",
      "\n"
     ]
    },
    {
     "name": "stderr",
     "output_type": "stream",
     "text": [
      "\r",
      " 20%|██        | 2/10 [06:34<26:18, 197.34s/it]"
     ]
    },
    {
     "name": "stderr",
     "output_type": "stream",
     "text": [
      "\u001b[A\u001b[A"
     ]
    },
    {
     "name": "stderr",
     "output_type": "stream",
     "text": [
      "\n",
      "\n"
     ]
    },
    {
     "name": "stderr",
     "output_type": "stream",
     "text": [
      "\r",
      " 30%|███       | 3/10 [09:49<22:57, 196.74s/it]"
     ]
    },
    {
     "name": "stderr",
     "output_type": "stream",
     "text": [
      "\u001b[A\u001b[A"
     ]
    },
    {
     "name": "stderr",
     "output_type": "stream",
     "text": [
      "\n",
      "\n"
     ]
    },
    {
     "name": "stderr",
     "output_type": "stream",
     "text": [
      "\r",
      " 40%|████      | 4/10 [13:06<19:41, 196.89s/it]"
     ]
    },
    {
     "name": "stderr",
     "output_type": "stream",
     "text": [
      "\u001b[A\u001b[A"
     ]
    },
    {
     "name": "stderr",
     "output_type": "stream",
     "text": [
      "\n",
      "\n"
     ]
    },
    {
     "name": "stderr",
     "output_type": "stream",
     "text": [
      "\r",
      " 50%|█████     | 5/10 [16:23<16:24, 196.92s/it]"
     ]
    },
    {
     "name": "stderr",
     "output_type": "stream",
     "text": [
      "\u001b[A\u001b[A"
     ]
    },
    {
     "name": "stderr",
     "output_type": "stream",
     "text": [
      "\n",
      "\n"
     ]
    },
    {
     "name": "stderr",
     "output_type": "stream",
     "text": [
      "\r",
      " 60%|██████    | 6/10 [19:41<13:08, 197.21s/it]"
     ]
    },
    {
     "name": "stderr",
     "output_type": "stream",
     "text": [
      "\u001b[A\u001b[A"
     ]
    },
    {
     "name": "stderr",
     "output_type": "stream",
     "text": [
      "\n",
      "\n"
     ]
    },
    {
     "name": "stderr",
     "output_type": "stream",
     "text": [
      "\r",
      " 70%|███████   | 7/10 [23:09<10:01, 200.39s/it]"
     ]
    },
    {
     "name": "stderr",
     "output_type": "stream",
     "text": [
      "\u001b[A\u001b[A"
     ]
    },
    {
     "name": "stderr",
     "output_type": "stream",
     "text": [
      "\n",
      "\n"
     ]
    },
    {
     "name": "stderr",
     "output_type": "stream",
     "text": [
      "\r",
      " 80%|████████  | 8/10 [26:23<06:36, 198.42s/it]"
     ]
    },
    {
     "name": "stderr",
     "output_type": "stream",
     "text": [
      "\u001b[A\u001b[A"
     ]
    },
    {
     "name": "stderr",
     "output_type": "stream",
     "text": [
      "\n",
      "\n"
     ]
    },
    {
     "name": "stderr",
     "output_type": "stream",
     "text": [
      "\r",
      " 90%|█████████ | 9/10 [29:57<03:23, 203.17s/it]"
     ]
    },
    {
     "name": "stderr",
     "output_type": "stream",
     "text": [
      "\u001b[A\u001b[A"
     ]
    },
    {
     "name": "stderr",
     "output_type": "stream",
     "text": [
      "\n",
      "\n"
     ]
    },
    {
     "name": "stderr",
     "output_type": "stream",
     "text": [
      "\r",
      "100%|██████████| 10/10 [33:21<00:00, 203.40s/it]"
     ]
    },
    {
     "name": "stderr",
     "output_type": "stream",
     "text": [
      "\u001b[A\u001b[A"
     ]
    },
    {
     "name": "stderr",
     "output_type": "stream",
     "text": [
      "\r",
      "100%|██████████| 10/10 [33:21<00:00, 200.15s/it]"
     ]
    },
    {
     "name": "stderr",
     "output_type": "stream",
     "text": [
      "\n"
     ]
    }
   ],
   "source": [
    "results = {}\n",
    "\n",
    "for shuffle_method in SHUFFLE_METHODS:\n",
    "    results[shuffle_method] = {}\n",
    "    \n",
    "    for (model_tag, _), dataset_tag in zip(TAGS_COMMANDS.items(), tqdm(DATASETS_TAGS)):\n",
    "        model_paths = get_model_path(model_tag, filter_='all', model_base_path='/scratch/shlomi/models/')\n",
    "\n",
    "\n",
    "        results[shuffle_method][model_tag] = [run_spectral_cluster(path / f'{dataset_tag}-mlp-pruned-weights.pckl',\n",
    "                                               n_samples=N_SHUFFLES,\n",
    "                                               shuffle_method=shuffle_method,\n",
    "                                               n_clusters=N_CLUSTERS)\n",
    "            for path in tqdm(model_paths[-N_TRAINED_MODELS:])]"
   ]
  },
  {
   "cell_type": "code",
   "execution_count": 8,
   "metadata": {
    "papermill": {
     "duration": 2.393038,
     "end_time": "2020-05-27T19:11:51.011669",
     "exception": false,
     "start_time": "2020-05-27T19:11:48.618631",
     "status": "completed"
    },
    "tags": []
   },
   "outputs": [],
   "source": [
    "run_spectral_cluster?"
   ]
  },
  {
   "cell_type": "code",
   "execution_count": 9,
   "metadata": {
    "papermill": {
     "duration": 2.014744,
     "end_time": "2020-05-27T19:11:53.231980",
     "exception": false,
     "start_time": "2020-05-27T19:11:51.217236",
     "status": "completed"
    },
    "tags": []
   },
   "outputs": [],
   "source": [
    "def build_all_models_per_shuffle_method_df(single_shuffle_method_results):\n",
    "    model_dfs = []\n",
    "\n",
    "    for model_tag, model_results in single_shuffle_method_results.items():\n",
    "        _, metrics  = zip(*model_results)\n",
    "        model_dfs.append(pd.DataFrame(metrics).assign(model=model_tag))\n",
    "\n",
    "    df = pd.concat(model_dfs, ignore_index=True)\n",
    "\n",
    "    df['is_sig'] = np.isclose(df['percentile'], 1 / (N_SHUFFLES + 1))\n",
    "    \n",
    "    return df\n",
    "\n",
    "layer_df = build_all_models_per_shuffle_method_df(results['layer'])\n",
    "layer_nonzero_df = build_all_models_per_shuffle_method_df(results['layer_nonzero'])"
   ]
  },
  {
   "cell_type": "code",
   "execution_count": 10,
   "metadata": {
    "papermill": {
     "duration": 1.71192,
     "end_time": "2020-05-27T19:11:55.161127",
     "exception": false,
     "start_time": "2020-05-27T19:11:53.449207",
     "status": "completed"
    },
    "tags": []
   },
   "outputs": [
    {
     "data": {
      "text/html": [
       "<div>\n",
       "<style scoped>\n",
       "    .dataframe tbody tr th:only-of-type {\n",
       "        vertical-align: middle;\n",
       "    }\n",
       "\n",
       "    .dataframe tbody tr th {\n",
       "        vertical-align: top;\n",
       "    }\n",
       "\n",
       "    .dataframe thead th {\n",
       "        text-align: right;\n",
       "    }\n",
       "</style>\n",
       "<table border=\"1\" class=\"dataframe\">\n",
       "  <thead>\n",
       "    <tr style=\"text-align: right;\">\n",
       "      <th></th>\n",
       "      <th>ave_in_out</th>\n",
       "      <th>mean</th>\n",
       "      <th>n_samples</th>\n",
       "      <th>ncut</th>\n",
       "      <th>percentile</th>\n",
       "      <th>stdev</th>\n",
       "      <th>test_acc</th>\n",
       "      <th>test_loss</th>\n",
       "      <th>train_acc</th>\n",
       "      <th>train_loss</th>\n",
       "      <th>z_score</th>\n",
       "      <th>model</th>\n",
       "      <th>is_sig</th>\n",
       "    </tr>\n",
       "  </thead>\n",
       "  <tbody>\n",
       "    <tr>\n",
       "      <th>0</th>\n",
       "      <td>0.255226</td>\n",
       "      <td>4.701298</td>\n",
       "      <td>320</td>\n",
       "      <td>4.634377</td>\n",
       "      <td>0.003115</td>\n",
       "      <td>0.015993</td>\n",
       "      <td>0.9835</td>\n",
       "      <td>0.095332</td>\n",
       "      <td>1.0</td>\n",
       "      <td>0.000048</td>\n",
       "      <td>-4.184349</td>\n",
       "      <td>MNIST</td>\n",
       "      <td>True</td>\n",
       "    </tr>\n",
       "    <tr>\n",
       "      <th>1</th>\n",
       "      <td>0.269979</td>\n",
       "      <td>4.707760</td>\n",
       "      <td>320</td>\n",
       "      <td>4.545577</td>\n",
       "      <td>0.003115</td>\n",
       "      <td>0.024822</td>\n",
       "      <td>0.9847</td>\n",
       "      <td>0.090697</td>\n",
       "      <td>1.0</td>\n",
       "      <td>0.000056</td>\n",
       "      <td>-6.533918</td>\n",
       "      <td>MNIST</td>\n",
       "      <td>True</td>\n",
       "    </tr>\n",
       "    <tr>\n",
       "      <th>2</th>\n",
       "      <td>0.282360</td>\n",
       "      <td>4.704236</td>\n",
       "      <td>320</td>\n",
       "      <td>4.473643</td>\n",
       "      <td>0.003115</td>\n",
       "      <td>0.026848</td>\n",
       "      <td>0.9830</td>\n",
       "      <td>0.099833</td>\n",
       "      <td>1.0</td>\n",
       "      <td>0.000059</td>\n",
       "      <td>-8.588974</td>\n",
       "      <td>MNIST</td>\n",
       "      <td>True</td>\n",
       "    </tr>\n",
       "    <tr>\n",
       "      <th>3</th>\n",
       "      <td>0.267632</td>\n",
       "      <td>4.701830</td>\n",
       "      <td>320</td>\n",
       "      <td>4.559476</td>\n",
       "      <td>0.003115</td>\n",
       "      <td>0.024402</td>\n",
       "      <td>0.9828</td>\n",
       "      <td>0.099546</td>\n",
       "      <td>1.0</td>\n",
       "      <td>0.000062</td>\n",
       "      <td>-5.833708</td>\n",
       "      <td>MNIST</td>\n",
       "      <td>True</td>\n",
       "    </tr>\n",
       "    <tr>\n",
       "      <th>4</th>\n",
       "      <td>0.259061</td>\n",
       "      <td>4.724072</td>\n",
       "      <td>320</td>\n",
       "      <td>4.610962</td>\n",
       "      <td>0.003115</td>\n",
       "      <td>0.019739</td>\n",
       "      <td>0.9845</td>\n",
       "      <td>0.097756</td>\n",
       "      <td>1.0</td>\n",
       "      <td>0.000081</td>\n",
       "      <td>-5.730319</td>\n",
       "      <td>MNIST</td>\n",
       "      <td>True</td>\n",
       "    </tr>\n",
       "  </tbody>\n",
       "</table>\n",
       "</div>"
      ],
      "text/plain": [
       "   ave_in_out      mean  n_samples      ncut  percentile     stdev  test_acc  \\\n",
       "0    0.255226  4.701298        320  4.634377    0.003115  0.015993    0.9835   \n",
       "1    0.269979  4.707760        320  4.545577    0.003115  0.024822    0.9847   \n",
       "2    0.282360  4.704236        320  4.473643    0.003115  0.026848    0.9830   \n",
       "3    0.267632  4.701830        320  4.559476    0.003115  0.024402    0.9828   \n",
       "4    0.259061  4.724072        320  4.610962    0.003115  0.019739    0.9845   \n",
       "\n",
       "   test_loss  train_acc  train_loss   z_score  model  is_sig  \n",
       "0   0.095332        1.0    0.000048 -4.184349  MNIST    True  \n",
       "1   0.090697        1.0    0.000056 -6.533918  MNIST    True  \n",
       "2   0.099833        1.0    0.000059 -8.588974  MNIST    True  \n",
       "3   0.099546        1.0    0.000062 -5.833708  MNIST    True  \n",
       "4   0.097756        1.0    0.000081 -5.730319  MNIST    True  "
      ]
     },
     "execution_count": 10,
     "metadata": {},
     "output_type": "execute_result"
    }
   ],
   "source": [
    "layer_df.head()"
   ]
  },
  {
   "cell_type": "code",
   "execution_count": 11,
   "metadata": {
    "papermill": {
     "duration": 0.238345,
     "end_time": "2020-05-27T19:11:55.608741",
     "exception": false,
     "start_time": "2020-05-27T19:11:55.370396",
     "status": "completed"
    },
    "tags": []
   },
   "outputs": [
    {
     "data": {
      "text/html": [
       "<div>\n",
       "<style scoped>\n",
       "    .dataframe tbody tr th:only-of-type {\n",
       "        vertical-align: middle;\n",
       "    }\n",
       "\n",
       "    .dataframe tbody tr th {\n",
       "        vertical-align: top;\n",
       "    }\n",
       "\n",
       "    .dataframe thead th {\n",
       "        text-align: right;\n",
       "    }\n",
       "</style>\n",
       "<table border=\"1\" class=\"dataframe\">\n",
       "  <thead>\n",
       "    <tr style=\"text-align: right;\">\n",
       "      <th></th>\n",
       "      <th>ave_in_out</th>\n",
       "      <th>mean</th>\n",
       "      <th>n_samples</th>\n",
       "      <th>ncut</th>\n",
       "      <th>percentile</th>\n",
       "      <th>stdev</th>\n",
       "      <th>test_acc</th>\n",
       "      <th>test_loss</th>\n",
       "      <th>train_acc</th>\n",
       "      <th>train_loss</th>\n",
       "      <th>z_score</th>\n",
       "      <th>model</th>\n",
       "      <th>is_sig</th>\n",
       "    </tr>\n",
       "  </thead>\n",
       "  <tbody>\n",
       "    <tr>\n",
       "      <th>0</th>\n",
       "      <td>0.255226</td>\n",
       "      <td>4.649677</td>\n",
       "      <td>320</td>\n",
       "      <td>4.634377</td>\n",
       "      <td>0.376947</td>\n",
       "      <td>0.047088</td>\n",
       "      <td>0.9835</td>\n",
       "      <td>0.095332</td>\n",
       "      <td>1.0</td>\n",
       "      <td>0.000048</td>\n",
       "      <td>-0.324925</td>\n",
       "      <td>MNIST</td>\n",
       "      <td>False</td>\n",
       "    </tr>\n",
       "    <tr>\n",
       "      <th>1</th>\n",
       "      <td>0.269979</td>\n",
       "      <td>4.693166</td>\n",
       "      <td>320</td>\n",
       "      <td>4.545577</td>\n",
       "      <td>0.003115</td>\n",
       "      <td>0.058114</td>\n",
       "      <td>0.9847</td>\n",
       "      <td>0.090697</td>\n",
       "      <td>1.0</td>\n",
       "      <td>0.000056</td>\n",
       "      <td>-2.539635</td>\n",
       "      <td>MNIST</td>\n",
       "      <td>True</td>\n",
       "    </tr>\n",
       "    <tr>\n",
       "      <th>2</th>\n",
       "      <td>0.282360</td>\n",
       "      <td>4.560108</td>\n",
       "      <td>320</td>\n",
       "      <td>4.473643</td>\n",
       "      <td>0.003115</td>\n",
       "      <td>0.024097</td>\n",
       "      <td>0.9830</td>\n",
       "      <td>0.099833</td>\n",
       "      <td>1.0</td>\n",
       "      <td>0.000059</td>\n",
       "      <td>-3.588255</td>\n",
       "      <td>MNIST</td>\n",
       "      <td>True</td>\n",
       "    </tr>\n",
       "    <tr>\n",
       "      <th>3</th>\n",
       "      <td>0.267632</td>\n",
       "      <td>4.619620</td>\n",
       "      <td>320</td>\n",
       "      <td>4.559476</td>\n",
       "      <td>0.065421</td>\n",
       "      <td>0.038410</td>\n",
       "      <td>0.9828</td>\n",
       "      <td>0.099546</td>\n",
       "      <td>1.0</td>\n",
       "      <td>0.000062</td>\n",
       "      <td>-1.565863</td>\n",
       "      <td>MNIST</td>\n",
       "      <td>False</td>\n",
       "    </tr>\n",
       "    <tr>\n",
       "      <th>4</th>\n",
       "      <td>0.259061</td>\n",
       "      <td>4.675526</td>\n",
       "      <td>320</td>\n",
       "      <td>4.610962</td>\n",
       "      <td>0.283489</td>\n",
       "      <td>0.080500</td>\n",
       "      <td>0.9845</td>\n",
       "      <td>0.097756</td>\n",
       "      <td>1.0</td>\n",
       "      <td>0.000081</td>\n",
       "      <td>-0.802033</td>\n",
       "      <td>MNIST</td>\n",
       "      <td>False</td>\n",
       "    </tr>\n",
       "  </tbody>\n",
       "</table>\n",
       "</div>"
      ],
      "text/plain": [
       "   ave_in_out      mean  n_samples      ncut  percentile     stdev  test_acc  \\\n",
       "0    0.255226  4.649677        320  4.634377    0.376947  0.047088    0.9835   \n",
       "1    0.269979  4.693166        320  4.545577    0.003115  0.058114    0.9847   \n",
       "2    0.282360  4.560108        320  4.473643    0.003115  0.024097    0.9830   \n",
       "3    0.267632  4.619620        320  4.559476    0.065421  0.038410    0.9828   \n",
       "4    0.259061  4.675526        320  4.610962    0.283489  0.080500    0.9845   \n",
       "\n",
       "   test_loss  train_acc  train_loss   z_score  model  is_sig  \n",
       "0   0.095332        1.0    0.000048 -0.324925  MNIST   False  \n",
       "1   0.090697        1.0    0.000056 -2.539635  MNIST    True  \n",
       "2   0.099833        1.0    0.000059 -3.588255  MNIST    True  \n",
       "3   0.099546        1.0    0.000062 -1.565863  MNIST   False  \n",
       "4   0.097756        1.0    0.000081 -0.802033  MNIST   False  "
      ]
     },
     "execution_count": 11,
     "metadata": {},
     "output_type": "execute_result"
    }
   ],
   "source": [
    "layer_nonzero_df.head()"
   ]
  },
  {
   "cell_type": "code",
   "execution_count": 12,
   "metadata": {
    "papermill": {
     "duration": 0.648721,
     "end_time": "2020-05-27T19:11:56.480063",
     "exception": false,
     "start_time": "2020-05-27T19:11:55.831342",
     "status": "completed"
    },
    "tags": []
   },
   "outputs": [
    {
     "data": {
      "text/html": [
       "<div>\n",
       "<style scoped>\n",
       "    .dataframe tbody tr th:only-of-type {\n",
       "        vertical-align: middle;\n",
       "    }\n",
       "\n",
       "    .dataframe tbody tr th {\n",
       "        vertical-align: top;\n",
       "    }\n",
       "\n",
       "    .dataframe thead th {\n",
       "        text-align: right;\n",
       "    }\n",
       "</style>\n",
       "<table border=\"1\" class=\"dataframe\">\n",
       "  <thead>\n",
       "    <tr style=\"text-align: right;\">\n",
       "      <th></th>\n",
       "      <th>model</th>\n",
       "      <th>train_acc</th>\n",
       "      <th>train_loss</th>\n",
       "      <th>test_acc</th>\n",
       "      <th>test_loss</th>\n",
       "      <th>ncut</th>\n",
       "      <th>ave_in_out</th>\n",
       "      <th>n_samples</th>\n",
       "      <th>mean_layer</th>\n",
       "      <th>percentile_layer</th>\n",
       "      <th>stdev_layer</th>\n",
       "      <th>z_score_layer</th>\n",
       "      <th>is_sig_layer</th>\n",
       "      <th>mean_layer_nonzero</th>\n",
       "      <th>percentile_layer_nonzero</th>\n",
       "      <th>stdev_layer_nonzero</th>\n",
       "      <th>z_score_layer_nonzero</th>\n",
       "      <th>is_sig_layer_nonzero</th>\n",
       "      <th>cohen_d</th>\n",
       "    </tr>\n",
       "  </thead>\n",
       "  <tbody>\n",
       "    <tr>\n",
       "      <th>0</th>\n",
       "      <td>MNIST</td>\n",
       "      <td>1.000000</td>\n",
       "      <td>0.000048</td>\n",
       "      <td>0.9835</td>\n",
       "      <td>0.095332</td>\n",
       "      <td>4.634377</td>\n",
       "      <td>0.255226</td>\n",
       "      <td>320</td>\n",
       "      <td>4.701298</td>\n",
       "      <td>0.003115</td>\n",
       "      <td>0.015993</td>\n",
       "      <td>-4.184349</td>\n",
       "      <td>True</td>\n",
       "      <td>4.649677</td>\n",
       "      <td>0.376947</td>\n",
       "      <td>0.047088</td>\n",
       "      <td>-0.324925</td>\n",
       "      <td>False</td>\n",
       "      <td>0.771166</td>\n",
       "    </tr>\n",
       "    <tr>\n",
       "      <th>1</th>\n",
       "      <td>MNIST</td>\n",
       "      <td>1.000000</td>\n",
       "      <td>0.000056</td>\n",
       "      <td>0.9847</td>\n",
       "      <td>0.090697</td>\n",
       "      <td>4.545577</td>\n",
       "      <td>0.269979</td>\n",
       "      <td>320</td>\n",
       "      <td>4.707760</td>\n",
       "      <td>0.003115</td>\n",
       "      <td>0.024822</td>\n",
       "      <td>-6.533918</td>\n",
       "      <td>True</td>\n",
       "      <td>4.693166</td>\n",
       "      <td>0.003115</td>\n",
       "      <td>0.058114</td>\n",
       "      <td>-2.539635</td>\n",
       "      <td>True</td>\n",
       "      <td>0.732510</td>\n",
       "    </tr>\n",
       "    <tr>\n",
       "      <th>2</th>\n",
       "      <td>MNIST</td>\n",
       "      <td>1.000000</td>\n",
       "      <td>0.000059</td>\n",
       "      <td>0.9830</td>\n",
       "      <td>0.099833</td>\n",
       "      <td>4.473643</td>\n",
       "      <td>0.282360</td>\n",
       "      <td>320</td>\n",
       "      <td>4.704236</td>\n",
       "      <td>0.003115</td>\n",
       "      <td>0.026848</td>\n",
       "      <td>-8.588974</td>\n",
       "      <td>True</td>\n",
       "      <td>4.560108</td>\n",
       "      <td>0.003115</td>\n",
       "      <td>0.024097</td>\n",
       "      <td>-3.588255</td>\n",
       "      <td>True</td>\n",
       "      <td>0.873361</td>\n",
       "    </tr>\n",
       "    <tr>\n",
       "      <th>3</th>\n",
       "      <td>MNIST</td>\n",
       "      <td>1.000000</td>\n",
       "      <td>0.000062</td>\n",
       "      <td>0.9828</td>\n",
       "      <td>0.099546</td>\n",
       "      <td>4.559476</td>\n",
       "      <td>0.267632</td>\n",
       "      <td>320</td>\n",
       "      <td>4.701830</td>\n",
       "      <td>0.003115</td>\n",
       "      <td>0.024402</td>\n",
       "      <td>-5.833708</td>\n",
       "      <td>True</td>\n",
       "      <td>4.619620</td>\n",
       "      <td>0.065421</td>\n",
       "      <td>0.038410</td>\n",
       "      <td>-1.565863</td>\n",
       "      <td>False</td>\n",
       "      <td>0.804074</td>\n",
       "    </tr>\n",
       "    <tr>\n",
       "      <th>4</th>\n",
       "      <td>MNIST</td>\n",
       "      <td>1.000000</td>\n",
       "      <td>0.000081</td>\n",
       "      <td>0.9845</td>\n",
       "      <td>0.097756</td>\n",
       "      <td>4.610962</td>\n",
       "      <td>0.259061</td>\n",
       "      <td>320</td>\n",
       "      <td>4.724072</td>\n",
       "      <td>0.003115</td>\n",
       "      <td>0.019739</td>\n",
       "      <td>-5.730319</td>\n",
       "      <td>True</td>\n",
       "      <td>4.675526</td>\n",
       "      <td>0.283489</td>\n",
       "      <td>0.080500</td>\n",
       "      <td>-0.802033</td>\n",
       "      <td>False</td>\n",
       "      <td>0.679664</td>\n",
       "    </tr>\n",
       "    <tr>\n",
       "      <th>5</th>\n",
       "      <td>MNIST</td>\n",
       "      <td>1.000000</td>\n",
       "      <td>0.000048</td>\n",
       "      <td>0.9835</td>\n",
       "      <td>0.095626</td>\n",
       "      <td>4.498175</td>\n",
       "      <td>0.278093</td>\n",
       "      <td>320</td>\n",
       "      <td>4.726294</td>\n",
       "      <td>0.003115</td>\n",
       "      <td>0.021361</td>\n",
       "      <td>-10.679443</td>\n",
       "      <td>True</td>\n",
       "      <td>4.649077</td>\n",
       "      <td>0.003115</td>\n",
       "      <td>0.038872</td>\n",
       "      <td>-3.881992</td>\n",
       "      <td>True</td>\n",
       "      <td>0.803786</td>\n",
       "    </tr>\n",
       "    <tr>\n",
       "      <th>6</th>\n",
       "      <td>MNIST</td>\n",
       "      <td>1.000000</td>\n",
       "      <td>0.000056</td>\n",
       "      <td>0.9838</td>\n",
       "      <td>0.087238</td>\n",
       "      <td>4.514373</td>\n",
       "      <td>0.275301</td>\n",
       "      <td>320</td>\n",
       "      <td>4.695680</td>\n",
       "      <td>0.003115</td>\n",
       "      <td>0.024391</td>\n",
       "      <td>-7.433439</td>\n",
       "      <td>True</td>\n",
       "      <td>4.704034</td>\n",
       "      <td>0.003115</td>\n",
       "      <td>0.145137</td>\n",
       "      <td>-1.306768</td>\n",
       "      <td>True</td>\n",
       "      <td>0.562472</td>\n",
       "    </tr>\n",
       "    <tr>\n",
       "      <th>7</th>\n",
       "      <td>MNIST</td>\n",
       "      <td>1.000000</td>\n",
       "      <td>0.000061</td>\n",
       "      <td>0.9838</td>\n",
       "      <td>0.100444</td>\n",
       "      <td>4.592311</td>\n",
       "      <td>0.262143</td>\n",
       "      <td>320</td>\n",
       "      <td>4.716121</td>\n",
       "      <td>0.003115</td>\n",
       "      <td>0.022920</td>\n",
       "      <td>-5.401807</td>\n",
       "      <td>True</td>\n",
       "      <td>4.707152</td>\n",
       "      <td>0.003115</td>\n",
       "      <td>0.055481</td>\n",
       "      <td>-2.069906</td>\n",
       "      <td>True</td>\n",
       "      <td>0.740625</td>\n",
       "    </tr>\n",
       "    <tr>\n",
       "      <th>8</th>\n",
       "      <td>MNIST</td>\n",
       "      <td>1.000000</td>\n",
       "      <td>0.000047</td>\n",
       "      <td>0.9828</td>\n",
       "      <td>0.093142</td>\n",
       "      <td>4.536716</td>\n",
       "      <td>0.271483</td>\n",
       "      <td>320</td>\n",
       "      <td>4.699434</td>\n",
       "      <td>0.003115</td>\n",
       "      <td>0.028623</td>\n",
       "      <td>-5.684835</td>\n",
       "      <td>True</td>\n",
       "      <td>4.573713</td>\n",
       "      <td>0.065421</td>\n",
       "      <td>0.026173</td>\n",
       "      <td>-1.413515</td>\n",
       "      <td>False</td>\n",
       "      <td>0.860314</td>\n",
       "    </tr>\n",
       "    <tr>\n",
       "      <th>9</th>\n",
       "      <td>MNIST</td>\n",
       "      <td>1.000000</td>\n",
       "      <td>0.000049</td>\n",
       "      <td>0.9833</td>\n",
       "      <td>0.102283</td>\n",
       "      <td>4.589832</td>\n",
       "      <td>0.262555</td>\n",
       "      <td>320</td>\n",
       "      <td>4.724979</td>\n",
       "      <td>0.003115</td>\n",
       "      <td>0.026312</td>\n",
       "      <td>-5.136238</td>\n",
       "      <td>True</td>\n",
       "      <td>4.700492</td>\n",
       "      <td>0.003115</td>\n",
       "      <td>0.035032</td>\n",
       "      <td>-3.158842</td>\n",
       "      <td>True</td>\n",
       "      <td>0.811677</td>\n",
       "    </tr>\n",
       "    <tr>\n",
       "      <th>10</th>\n",
       "      <td>CIFAR10</td>\n",
       "      <td>0.647020</td>\n",
       "      <td>0.982019</td>\n",
       "      <td>0.4164</td>\n",
       "      <td>2.009407</td>\n",
       "      <td>4.642482</td>\n",
       "      <td>0.253907</td>\n",
       "      <td>320</td>\n",
       "      <td>4.651311</td>\n",
       "      <td>0.283489</td>\n",
       "      <td>0.021092</td>\n",
       "      <td>-0.418548</td>\n",
       "      <td>False</td>\n",
       "      <td>4.627100</td>\n",
       "      <td>0.657321</td>\n",
       "      <td>0.035171</td>\n",
       "      <td>0.437368</td>\n",
       "      <td>False</td>\n",
       "      <td>0.807653</td>\n",
       "    </tr>\n",
       "    <tr>\n",
       "      <th>11</th>\n",
       "      <td>CIFAR10</td>\n",
       "      <td>0.655260</td>\n",
       "      <td>0.968012</td>\n",
       "      <td>0.4196</td>\n",
       "      <td>2.009614</td>\n",
       "      <td>4.684847</td>\n",
       "      <td>0.247089</td>\n",
       "      <td>320</td>\n",
       "      <td>4.650236</td>\n",
       "      <td>0.937695</td>\n",
       "      <td>0.025492</td>\n",
       "      <td>1.357749</td>\n",
       "      <td>False</td>\n",
       "      <td>4.661016</td>\n",
       "      <td>0.844237</td>\n",
       "      <td>0.021639</td>\n",
       "      <td>1.101274</td>\n",
       "      <td>False</td>\n",
       "      <td>0.861354</td>\n",
       "    </tr>\n",
       "    <tr>\n",
       "      <th>12</th>\n",
       "      <td>CIFAR10</td>\n",
       "      <td>0.645800</td>\n",
       "      <td>0.993128</td>\n",
       "      <td>0.4085</td>\n",
       "      <td>2.026656</td>\n",
       "      <td>4.707837</td>\n",
       "      <td>0.243441</td>\n",
       "      <td>320</td>\n",
       "      <td>4.645114</td>\n",
       "      <td>1.000000</td>\n",
       "      <td>0.022708</td>\n",
       "      <td>2.762088</td>\n",
       "      <td>False</td>\n",
       "      <td>4.455268</td>\n",
       "      <td>0.813084</td>\n",
       "      <td>0.229422</td>\n",
       "      <td>1.100890</td>\n",
       "      <td>False</td>\n",
       "      <td>0.477315</td>\n",
       "    </tr>\n",
       "    <tr>\n",
       "      <th>13</th>\n",
       "      <td>CIFAR10</td>\n",
       "      <td>0.645580</td>\n",
       "      <td>0.992089</td>\n",
       "      <td>0.4107</td>\n",
       "      <td>2.004410</td>\n",
       "      <td>4.899453</td>\n",
       "      <td>0.214365</td>\n",
       "      <td>320</td>\n",
       "      <td>4.642184</td>\n",
       "      <td>1.000000</td>\n",
       "      <td>0.026820</td>\n",
       "      <td>9.592570</td>\n",
       "      <td>False</td>\n",
       "      <td>4.543834</td>\n",
       "      <td>0.906542</td>\n",
       "      <td>0.275066</td>\n",
       "      <td>1.292851</td>\n",
       "      <td>False</td>\n",
       "      <td>0.441552</td>\n",
       "    </tr>\n",
       "    <tr>\n",
       "      <th>14</th>\n",
       "      <td>CIFAR10</td>\n",
       "      <td>0.654440</td>\n",
       "      <td>0.964225</td>\n",
       "      <td>0.4239</td>\n",
       "      <td>1.981631</td>\n",
       "      <td>4.665183</td>\n",
       "      <td>0.250239</td>\n",
       "      <td>320</td>\n",
       "      <td>4.661804</td>\n",
       "      <td>0.626168</td>\n",
       "      <td>0.022730</td>\n",
       "      <td>0.148670</td>\n",
       "      <td>False</td>\n",
       "      <td>4.659816</td>\n",
       "      <td>0.688474</td>\n",
       "      <td>0.040235</td>\n",
       "      <td>0.133388</td>\n",
       "      <td>False</td>\n",
       "      <td>0.786371</td>\n",
       "    </tr>\n",
       "    <tr>\n",
       "      <th>15</th>\n",
       "      <td>CIFAR10</td>\n",
       "      <td>0.652180</td>\n",
       "      <td>0.973041</td>\n",
       "      <td>0.4111</td>\n",
       "      <td>2.053139</td>\n",
       "      <td>4.607653</td>\n",
       "      <td>0.259606</td>\n",
       "      <td>320</td>\n",
       "      <td>4.642464</td>\n",
       "      <td>0.003115</td>\n",
       "      <td>0.020119</td>\n",
       "      <td>-1.730251</td>\n",
       "      <td>True</td>\n",
       "      <td>4.649237</td>\n",
       "      <td>0.158879</td>\n",
       "      <td>0.082284</td>\n",
       "      <td>-0.505372</td>\n",
       "      <td>False</td>\n",
       "      <td>0.665548</td>\n",
       "    </tr>\n",
       "    <tr>\n",
       "      <th>16</th>\n",
       "      <td>CIFAR10</td>\n",
       "      <td>0.644540</td>\n",
       "      <td>0.994267</td>\n",
       "      <td>0.4178</td>\n",
       "      <td>1.984371</td>\n",
       "      <td>4.632842</td>\n",
       "      <td>0.255476</td>\n",
       "      <td>320</td>\n",
       "      <td>4.651849</td>\n",
       "      <td>0.283489</td>\n",
       "      <td>0.021893</td>\n",
       "      <td>-0.868169</td>\n",
       "      <td>False</td>\n",
       "      <td>4.600624</td>\n",
       "      <td>0.937695</td>\n",
       "      <td>0.036748</td>\n",
       "      <td>0.876729</td>\n",
       "      <td>False</td>\n",
       "      <td>0.804409</td>\n",
       "    </tr>\n",
       "    <tr>\n",
       "      <th>17</th>\n",
       "      <td>CIFAR10</td>\n",
       "      <td>0.651840</td>\n",
       "      <td>0.974107</td>\n",
       "      <td>0.4177</td>\n",
       "      <td>1.981042</td>\n",
       "      <td>4.677363</td>\n",
       "      <td>0.248285</td>\n",
       "      <td>320</td>\n",
       "      <td>4.654959</td>\n",
       "      <td>0.781931</td>\n",
       "      <td>0.022470</td>\n",
       "      <td>0.997055</td>\n",
       "      <td>False</td>\n",
       "      <td>4.647135</td>\n",
       "      <td>0.937695</td>\n",
       "      <td>0.020742</td>\n",
       "      <td>1.457346</td>\n",
       "      <td>False</td>\n",
       "      <td>0.869134</td>\n",
       "    </tr>\n",
       "    <tr>\n",
       "      <th>18</th>\n",
       "      <td>CIFAR10</td>\n",
       "      <td>0.643280</td>\n",
       "      <td>0.998221</td>\n",
       "      <td>0.4150</td>\n",
       "      <td>2.007964</td>\n",
       "      <td>4.882997</td>\n",
       "      <td>0.216773</td>\n",
       "      <td>320</td>\n",
       "      <td>4.631036</td>\n",
       "      <td>1.000000</td>\n",
       "      <td>0.021674</td>\n",
       "      <td>11.625097</td>\n",
       "      <td>False</td>\n",
       "      <td>4.830639</td>\n",
       "      <td>0.563863</td>\n",
       "      <td>0.165660</td>\n",
       "      <td>0.316056</td>\n",
       "      <td>False</td>\n",
       "      <td>0.526016</td>\n",
       "    </tr>\n",
       "    <tr>\n",
       "      <th>19</th>\n",
       "      <td>CIFAR10</td>\n",
       "      <td>0.660940</td>\n",
       "      <td>0.956555</td>\n",
       "      <td>0.4116</td>\n",
       "      <td>2.029548</td>\n",
       "      <td>4.670019</td>\n",
       "      <td>0.249462</td>\n",
       "      <td>320</td>\n",
       "      <td>4.641896</td>\n",
       "      <td>0.844237</td>\n",
       "      <td>0.021222</td>\n",
       "      <td>1.325164</td>\n",
       "      <td>False</td>\n",
       "      <td>4.653300</td>\n",
       "      <td>0.657321</td>\n",
       "      <td>0.048693</td>\n",
       "      <td>0.343355</td>\n",
       "      <td>False</td>\n",
       "      <td>0.754922</td>\n",
       "    </tr>\n",
       "    <tr>\n",
       "      <th>20</th>\n",
       "      <td>FASHION</td>\n",
       "      <td>0.982533</td>\n",
       "      <td>0.049309</td>\n",
       "      <td>0.8937</td>\n",
       "      <td>0.532207</td>\n",
       "      <td>4.308516</td>\n",
       "      <td>0.312345</td>\n",
       "      <td>320</td>\n",
       "      <td>4.627097</td>\n",
       "      <td>0.003115</td>\n",
       "      <td>0.021872</td>\n",
       "      <td>-14.565709</td>\n",
       "      <td>True</td>\n",
       "      <td>4.490250</td>\n",
       "      <td>0.065421</td>\n",
       "      <td>0.161611</td>\n",
       "      <td>-1.124516</td>\n",
       "      <td>False</td>\n",
       "      <td>0.541629</td>\n",
       "    </tr>\n",
       "    <tr>\n",
       "      <th>21</th>\n",
       "      <td>FASHION</td>\n",
       "      <td>0.982217</td>\n",
       "      <td>0.049195</td>\n",
       "      <td>0.8939</td>\n",
       "      <td>0.526313</td>\n",
       "      <td>4.264402</td>\n",
       "      <td>0.320748</td>\n",
       "      <td>320</td>\n",
       "      <td>4.597312</td>\n",
       "      <td>0.003115</td>\n",
       "      <td>0.032649</td>\n",
       "      <td>-10.196545</td>\n",
       "      <td>True</td>\n",
       "      <td>4.349688</td>\n",
       "      <td>0.034268</td>\n",
       "      <td>0.062442</td>\n",
       "      <td>-1.365840</td>\n",
       "      <td>False</td>\n",
       "      <td>0.729640</td>\n",
       "    </tr>\n",
       "    <tr>\n",
       "      <th>22</th>\n",
       "      <td>FASHION</td>\n",
       "      <td>0.982300</td>\n",
       "      <td>0.047581</td>\n",
       "      <td>0.8911</td>\n",
       "      <td>0.595367</td>\n",
       "      <td>4.372453</td>\n",
       "      <td>0.300466</td>\n",
       "      <td>320</td>\n",
       "      <td>4.630344</td>\n",
       "      <td>0.003115</td>\n",
       "      <td>0.024233</td>\n",
       "      <td>-10.642383</td>\n",
       "      <td>True</td>\n",
       "      <td>4.437724</td>\n",
       "      <td>0.065421</td>\n",
       "      <td>0.058260</td>\n",
       "      <td>-1.120358</td>\n",
       "      <td>False</td>\n",
       "      <td>0.741663</td>\n",
       "    </tr>\n",
       "    <tr>\n",
       "      <th>23</th>\n",
       "      <td>FASHION</td>\n",
       "      <td>0.983350</td>\n",
       "      <td>0.046463</td>\n",
       "      <td>0.8949</td>\n",
       "      <td>0.575908</td>\n",
       "      <td>4.344261</td>\n",
       "      <td>0.305661</td>\n",
       "      <td>320</td>\n",
       "      <td>4.621884</td>\n",
       "      <td>0.003115</td>\n",
       "      <td>0.024989</td>\n",
       "      <td>-11.109860</td>\n",
       "      <td>True</td>\n",
       "      <td>4.505900</td>\n",
       "      <td>0.034268</td>\n",
       "      <td>0.145231</td>\n",
       "      <td>-1.112982</td>\n",
       "      <td>False</td>\n",
       "      <td>0.560904</td>\n",
       "    </tr>\n",
       "    <tr>\n",
       "      <th>24</th>\n",
       "      <td>FASHION</td>\n",
       "      <td>0.982533</td>\n",
       "      <td>0.048930</td>\n",
       "      <td>0.8909</td>\n",
       "      <td>0.551969</td>\n",
       "      <td>4.450120</td>\n",
       "      <td>0.286496</td>\n",
       "      <td>320</td>\n",
       "      <td>4.601388</td>\n",
       "      <td>0.003115</td>\n",
       "      <td>0.025593</td>\n",
       "      <td>-5.910436</td>\n",
       "      <td>True</td>\n",
       "      <td>4.411680</td>\n",
       "      <td>0.844237</td>\n",
       "      <td>0.053227</td>\n",
       "      <td>0.722181</td>\n",
       "      <td>False</td>\n",
       "      <td>0.755128</td>\n",
       "    </tr>\n",
       "    <tr>\n",
       "      <th>25</th>\n",
       "      <td>FASHION</td>\n",
       "      <td>0.983767</td>\n",
       "      <td>0.045901</td>\n",
       "      <td>0.8976</td>\n",
       "      <td>0.545859</td>\n",
       "      <td>4.317434</td>\n",
       "      <td>0.310667</td>\n",
       "      <td>320</td>\n",
       "      <td>4.598646</td>\n",
       "      <td>0.003115</td>\n",
       "      <td>0.023530</td>\n",
       "      <td>-11.951115</td>\n",
       "      <td>True</td>\n",
       "      <td>4.463826</td>\n",
       "      <td>0.034268</td>\n",
       "      <td>0.135428</td>\n",
       "      <td>-1.080956</td>\n",
       "      <td>False</td>\n",
       "      <td>0.573534</td>\n",
       "    </tr>\n",
       "    <tr>\n",
       "      <th>26</th>\n",
       "      <td>FASHION</td>\n",
       "      <td>0.982167</td>\n",
       "      <td>0.049422</td>\n",
       "      <td>0.8916</td>\n",
       "      <td>0.564790</td>\n",
       "      <td>4.333570</td>\n",
       "      <td>0.307648</td>\n",
       "      <td>320</td>\n",
       "      <td>4.612837</td>\n",
       "      <td>0.003115</td>\n",
       "      <td>0.025377</td>\n",
       "      <td>-11.004815</td>\n",
       "      <td>True</td>\n",
       "      <td>4.544311</td>\n",
       "      <td>0.034268</td>\n",
       "      <td>0.134240</td>\n",
       "      <td>-1.569882</td>\n",
       "      <td>False</td>\n",
       "      <td>0.573520</td>\n",
       "    </tr>\n",
       "    <tr>\n",
       "      <th>27</th>\n",
       "      <td>FASHION</td>\n",
       "      <td>0.982600</td>\n",
       "      <td>0.049156</td>\n",
       "      <td>0.8944</td>\n",
       "      <td>0.546913</td>\n",
       "      <td>4.391052</td>\n",
       "      <td>0.297075</td>\n",
       "      <td>320</td>\n",
       "      <td>4.597459</td>\n",
       "      <td>0.003115</td>\n",
       "      <td>0.029227</td>\n",
       "      <td>-7.062204</td>\n",
       "      <td>True</td>\n",
       "      <td>4.429788</td>\n",
       "      <td>0.127726</td>\n",
       "      <td>0.078180</td>\n",
       "      <td>-0.495463</td>\n",
       "      <td>False</td>\n",
       "      <td>0.681671</td>\n",
       "    </tr>\n",
       "    <tr>\n",
       "      <th>28</th>\n",
       "      <td>FASHION</td>\n",
       "      <td>0.982267</td>\n",
       "      <td>0.049309</td>\n",
       "      <td>0.8942</td>\n",
       "      <td>0.554626</td>\n",
       "      <td>4.307105</td>\n",
       "      <td>0.312611</td>\n",
       "      <td>320</td>\n",
       "      <td>4.614370</td>\n",
       "      <td>0.003115</td>\n",
       "      <td>0.025013</td>\n",
       "      <td>-12.284402</td>\n",
       "      <td>True</td>\n",
       "      <td>4.454108</td>\n",
       "      <td>0.034268</td>\n",
       "      <td>0.112755</td>\n",
       "      <td>-1.303741</td>\n",
       "      <td>False</td>\n",
       "      <td>0.611902</td>\n",
       "    </tr>\n",
       "    <tr>\n",
       "      <th>29</th>\n",
       "      <td>FASHION</td>\n",
       "      <td>0.982567</td>\n",
       "      <td>0.048766</td>\n",
       "      <td>0.8921</td>\n",
       "      <td>0.539734</td>\n",
       "      <td>4.421796</td>\n",
       "      <td>0.291534</td>\n",
       "      <td>320</td>\n",
       "      <td>4.629036</td>\n",
       "      <td>0.003115</td>\n",
       "      <td>0.021349</td>\n",
       "      <td>-9.707326</td>\n",
       "      <td>True</td>\n",
       "      <td>4.483690</td>\n",
       "      <td>0.127726</td>\n",
       "      <td>0.076746</td>\n",
       "      <td>-0.806492</td>\n",
       "      <td>False</td>\n",
       "      <td>0.687392</td>\n",
       "    </tr>\n",
       "    <tr>\n",
       "      <th>30</th>\n",
       "      <td>MNIST+DROPOUT</td>\n",
       "      <td>0.967817</td>\n",
       "      <td>0.120144</td>\n",
       "      <td>0.9796</td>\n",
       "      <td>0.084581</td>\n",
       "      <td>4.226893</td>\n",
       "      <td>0.328031</td>\n",
       "      <td>320</td>\n",
       "      <td>4.712073</td>\n",
       "      <td>0.003115</td>\n",
       "      <td>0.025949</td>\n",
       "      <td>-18.697790</td>\n",
       "      <td>True</td>\n",
       "      <td>4.341921</td>\n",
       "      <td>0.003115</td>\n",
       "      <td>0.010207</td>\n",
       "      <td>-11.269095</td>\n",
       "      <td>True</td>\n",
       "      <td>0.993299</td>\n",
       "    </tr>\n",
       "    <tr>\n",
       "      <th>31</th>\n",
       "      <td>MNIST+DROPOUT</td>\n",
       "      <td>0.965267</td>\n",
       "      <td>0.127326</td>\n",
       "      <td>0.9802</td>\n",
       "      <td>0.083526</td>\n",
       "      <td>4.256507</td>\n",
       "      <td>0.322270</td>\n",
       "      <td>320</td>\n",
       "      <td>4.719242</td>\n",
       "      <td>0.003115</td>\n",
       "      <td>0.022642</td>\n",
       "      <td>-20.437400</td>\n",
       "      <td>True</td>\n",
       "      <td>4.363140</td>\n",
       "      <td>0.003115</td>\n",
       "      <td>0.022668</td>\n",
       "      <td>-4.704066</td>\n",
       "      <td>True</td>\n",
       "      <td>0.913136</td>\n",
       "    </tr>\n",
       "    <tr>\n",
       "      <th>32</th>\n",
       "      <td>MNIST+DROPOUT</td>\n",
       "      <td>0.966667</td>\n",
       "      <td>0.123364</td>\n",
       "      <td>0.9789</td>\n",
       "      <td>0.081798</td>\n",
       "      <td>4.221213</td>\n",
       "      <td>0.329146</td>\n",
       "      <td>320</td>\n",
       "      <td>4.701025</td>\n",
       "      <td>0.003115</td>\n",
       "      <td>0.023158</td>\n",
       "      <td>-20.718750</td>\n",
       "      <td>True</td>\n",
       "      <td>4.332169</td>\n",
       "      <td>0.003115</td>\n",
       "      <td>0.061308</td>\n",
       "      <td>-1.809796</td>\n",
       "      <td>True</td>\n",
       "      <td>0.752731</td>\n",
       "    </tr>\n",
       "    <tr>\n",
       "      <th>33</th>\n",
       "      <td>MNIST+DROPOUT</td>\n",
       "      <td>0.967167</td>\n",
       "      <td>0.125616</td>\n",
       "      <td>0.9800</td>\n",
       "      <td>0.081888</td>\n",
       "      <td>4.221115</td>\n",
       "      <td>0.329165</td>\n",
       "      <td>320</td>\n",
       "      <td>4.705132</td>\n",
       "      <td>0.003115</td>\n",
       "      <td>0.022903</td>\n",
       "      <td>-21.133096</td>\n",
       "      <td>True</td>\n",
       "      <td>4.383448</td>\n",
       "      <td>0.003115</td>\n",
       "      <td>0.093611</td>\n",
       "      <td>-1.734134</td>\n",
       "      <td>True</td>\n",
       "      <td>0.665740</td>\n",
       "    </tr>\n",
       "    <tr>\n",
       "      <th>34</th>\n",
       "      <td>MNIST+DROPOUT</td>\n",
       "      <td>0.966133</td>\n",
       "      <td>0.127377</td>\n",
       "      <td>0.9793</td>\n",
       "      <td>0.084823</td>\n",
       "      <td>4.183866</td>\n",
       "      <td>0.336547</td>\n",
       "      <td>320</td>\n",
       "      <td>4.713252</td>\n",
       "      <td>0.003115</td>\n",
       "      <td>0.019384</td>\n",
       "      <td>-27.310306</td>\n",
       "      <td>True</td>\n",
       "      <td>4.347099</td>\n",
       "      <td>0.003115</td>\n",
       "      <td>0.008876</td>\n",
       "      <td>-18.389495</td>\n",
       "      <td>True</td>\n",
       "      <td>1.003618</td>\n",
       "    </tr>\n",
       "    <tr>\n",
       "      <th>35</th>\n",
       "      <td>MNIST+DROPOUT</td>\n",
       "      <td>0.965633</td>\n",
       "      <td>0.123383</td>\n",
       "      <td>0.9782</td>\n",
       "      <td>0.086029</td>\n",
       "      <td>4.195546</td>\n",
       "      <td>0.334218</td>\n",
       "      <td>320</td>\n",
       "      <td>4.706445</td>\n",
       "      <td>0.003115</td>\n",
       "      <td>0.021075</td>\n",
       "      <td>-24.241373</td>\n",
       "      <td>True</td>\n",
       "      <td>4.348237</td>\n",
       "      <td>0.003115</td>\n",
       "      <td>0.014554</td>\n",
       "      <td>-10.491646</td>\n",
       "      <td>True</td>\n",
       "      <td>0.962199</td>\n",
       "    </tr>\n",
       "    <tr>\n",
       "      <th>36</th>\n",
       "      <td>MNIST+DROPOUT</td>\n",
       "      <td>0.966617</td>\n",
       "      <td>0.125282</td>\n",
       "      <td>0.9790</td>\n",
       "      <td>0.083403</td>\n",
       "      <td>4.222762</td>\n",
       "      <td>0.328841</td>\n",
       "      <td>320</td>\n",
       "      <td>4.719282</td>\n",
       "      <td>0.003115</td>\n",
       "      <td>0.023811</td>\n",
       "      <td>-20.852570</td>\n",
       "      <td>True</td>\n",
       "      <td>4.333144</td>\n",
       "      <td>0.003115</td>\n",
       "      <td>0.023714</td>\n",
       "      <td>-4.654785</td>\n",
       "      <td>True</td>\n",
       "      <td>0.911641</td>\n",
       "    </tr>\n",
       "    <tr>\n",
       "      <th>37</th>\n",
       "      <td>MNIST+DROPOUT</td>\n",
       "      <td>0.967667</td>\n",
       "      <td>0.122877</td>\n",
       "      <td>0.9808</td>\n",
       "      <td>0.082423</td>\n",
       "      <td>4.172099</td>\n",
       "      <td>0.338906</td>\n",
       "      <td>320</td>\n",
       "      <td>4.712031</td>\n",
       "      <td>0.003115</td>\n",
       "      <td>0.019647</td>\n",
       "      <td>-27.481498</td>\n",
       "      <td>True</td>\n",
       "      <td>4.289718</td>\n",
       "      <td>0.003115</td>\n",
       "      <td>0.009085</td>\n",
       "      <td>-12.946199</td>\n",
       "      <td>True</td>\n",
       "      <td>1.013345</td>\n",
       "    </tr>\n",
       "    <tr>\n",
       "      <th>38</th>\n",
       "      <td>MNIST+DROPOUT</td>\n",
       "      <td>0.967450</td>\n",
       "      <td>0.122427</td>\n",
       "      <td>0.9793</td>\n",
       "      <td>0.082078</td>\n",
       "      <td>4.295151</td>\n",
       "      <td>0.314872</td>\n",
       "      <td>320</td>\n",
       "      <td>4.717996</td>\n",
       "      <td>0.003115</td>\n",
       "      <td>0.023114</td>\n",
       "      <td>-18.293494</td>\n",
       "      <td>True</td>\n",
       "      <td>4.334628</td>\n",
       "      <td>0.003115</td>\n",
       "      <td>0.016176</td>\n",
       "      <td>-2.440489</td>\n",
       "      <td>True</td>\n",
       "      <td>0.956057</td>\n",
       "    </tr>\n",
       "    <tr>\n",
       "      <th>39</th>\n",
       "      <td>MNIST+DROPOUT</td>\n",
       "      <td>0.967467</td>\n",
       "      <td>0.123260</td>\n",
       "      <td>0.9787</td>\n",
       "      <td>0.084267</td>\n",
       "      <td>4.228689</td>\n",
       "      <td>0.327680</td>\n",
       "      <td>320</td>\n",
       "      <td>4.713327</td>\n",
       "      <td>0.003115</td>\n",
       "      <td>0.024655</td>\n",
       "      <td>-19.656749</td>\n",
       "      <td>True</td>\n",
       "      <td>4.365073</td>\n",
       "      <td>0.003115</td>\n",
       "      <td>0.015038</td>\n",
       "      <td>-9.069292</td>\n",
       "      <td>True</td>\n",
       "      <td>0.956772</td>\n",
       "    </tr>\n",
       "    <tr>\n",
       "      <th>40</th>\n",
       "      <td>CIFAR10+DROPOUT</td>\n",
       "      <td>0.425220</td>\n",
       "      <td>1.612513</td>\n",
       "      <td>0.4201</td>\n",
       "      <td>1.628318</td>\n",
       "      <td>4.204254</td>\n",
       "      <td>0.332490</td>\n",
       "      <td>320</td>\n",
       "      <td>4.606864</td>\n",
       "      <td>0.003115</td>\n",
       "      <td>0.014119</td>\n",
       "      <td>-28.515361</td>\n",
       "      <td>True</td>\n",
       "      <td>4.318687</td>\n",
       "      <td>0.065421</td>\n",
       "      <td>0.108263</td>\n",
       "      <td>-1.056983</td>\n",
       "      <td>False</td>\n",
       "      <td>0.627249</td>\n",
       "    </tr>\n",
       "    <tr>\n",
       "      <th>41</th>\n",
       "      <td>CIFAR10+DROPOUT</td>\n",
       "      <td>0.427100</td>\n",
       "      <td>1.602159</td>\n",
       "      <td>0.4216</td>\n",
       "      <td>1.628530</td>\n",
       "      <td>4.679689</td>\n",
       "      <td>0.247913</td>\n",
       "      <td>320</td>\n",
       "      <td>4.631062</td>\n",
       "      <td>1.000000</td>\n",
       "      <td>0.020855</td>\n",
       "      <td>2.331633</td>\n",
       "      <td>False</td>\n",
       "      <td>4.701694</td>\n",
       "      <td>0.376947</td>\n",
       "      <td>0.095994</td>\n",
       "      <td>-0.229241</td>\n",
       "      <td>False</td>\n",
       "      <td>0.632425</td>\n",
       "    </tr>\n",
       "    <tr>\n",
       "      <th>42</th>\n",
       "      <td>CIFAR10+DROPOUT</td>\n",
       "      <td>0.427520</td>\n",
       "      <td>1.613026</td>\n",
       "      <td>0.4202</td>\n",
       "      <td>1.634889</td>\n",
       "      <td>4.415758</td>\n",
       "      <td>0.292616</td>\n",
       "      <td>320</td>\n",
       "      <td>4.600992</td>\n",
       "      <td>0.003115</td>\n",
       "      <td>0.017695</td>\n",
       "      <td>-10.468194</td>\n",
       "      <td>True</td>\n",
       "      <td>4.591241</td>\n",
       "      <td>0.127726</td>\n",
       "      <td>0.138908</td>\n",
       "      <td>-1.263298</td>\n",
       "      <td>False</td>\n",
       "      <td>0.564535</td>\n",
       "    </tr>\n",
       "    <tr>\n",
       "      <th>43</th>\n",
       "      <td>CIFAR10+DROPOUT</td>\n",
       "      <td>0.436320</td>\n",
       "      <td>1.593016</td>\n",
       "      <td>0.4317</td>\n",
       "      <td>1.603236</td>\n",
       "      <td>4.362284</td>\n",
       "      <td>0.302332</td>\n",
       "      <td>320</td>\n",
       "      <td>4.642848</td>\n",
       "      <td>0.003115</td>\n",
       "      <td>0.028094</td>\n",
       "      <td>-9.986684</td>\n",
       "      <td>True</td>\n",
       "      <td>4.503578</td>\n",
       "      <td>0.190031</td>\n",
       "      <td>0.164947</td>\n",
       "      <td>-0.856606</td>\n",
       "      <td>False</td>\n",
       "      <td>0.538324</td>\n",
       "    </tr>\n",
       "    <tr>\n",
       "      <th>44</th>\n",
       "      <td>CIFAR10+DROPOUT</td>\n",
       "      <td>0.427500</td>\n",
       "      <td>1.600558</td>\n",
       "      <td>0.4149</td>\n",
       "      <td>1.639029</td>\n",
       "      <td>4.241719</td>\n",
       "      <td>0.325137</td>\n",
       "      <td>320</td>\n",
       "      <td>4.619377</td>\n",
       "      <td>0.003115</td>\n",
       "      <td>0.019685</td>\n",
       "      <td>-19.184914</td>\n",
       "      <td>True</td>\n",
       "      <td>4.377873</td>\n",
       "      <td>0.003115</td>\n",
       "      <td>0.083232</td>\n",
       "      <td>-1.635837</td>\n",
       "      <td>True</td>\n",
       "      <td>0.677628</td>\n",
       "    </tr>\n",
       "    <tr>\n",
       "      <th>45</th>\n",
       "      <td>CIFAR10+DROPOUT</td>\n",
       "      <td>0.420800</td>\n",
       "      <td>1.624310</td>\n",
       "      <td>0.4189</td>\n",
       "      <td>1.635075</td>\n",
       "      <td>4.186724</td>\n",
       "      <td>0.335976</td>\n",
       "      <td>320</td>\n",
       "      <td>4.595561</td>\n",
       "      <td>0.003115</td>\n",
       "      <td>0.016155</td>\n",
       "      <td>-25.306823</td>\n",
       "      <td>True</td>\n",
       "      <td>4.265606</td>\n",
       "      <td>0.190031</td>\n",
       "      <td>0.097990</td>\n",
       "      <td>-0.805010</td>\n",
       "      <td>False</td>\n",
       "      <td>0.648610</td>\n",
       "    </tr>\n",
       "    <tr>\n",
       "      <th>46</th>\n",
       "      <td>CIFAR10+DROPOUT</td>\n",
       "      <td>0.437900</td>\n",
       "      <td>1.573070</td>\n",
       "      <td>0.4274</td>\n",
       "      <td>1.610751</td>\n",
       "      <td>4.326458</td>\n",
       "      <td>0.308976</td>\n",
       "      <td>320</td>\n",
       "      <td>4.696410</td>\n",
       "      <td>0.003115</td>\n",
       "      <td>0.014515</td>\n",
       "      <td>-25.487467</td>\n",
       "      <td>True</td>\n",
       "      <td>4.548727</td>\n",
       "      <td>0.003115</td>\n",
       "      <td>0.075755</td>\n",
       "      <td>-2.934061</td>\n",
       "      <td>True</td>\n",
       "      <td>0.696357</td>\n",
       "    </tr>\n",
       "    <tr>\n",
       "      <th>47</th>\n",
       "      <td>CIFAR10+DROPOUT</td>\n",
       "      <td>0.420840</td>\n",
       "      <td>1.625915</td>\n",
       "      <td>0.4194</td>\n",
       "      <td>1.632398</td>\n",
       "      <td>4.276981</td>\n",
       "      <td>0.318334</td>\n",
       "      <td>320</td>\n",
       "      <td>4.599370</td>\n",
       "      <td>0.003115</td>\n",
       "      <td>0.012526</td>\n",
       "      <td>-25.736777</td>\n",
       "      <td>True</td>\n",
       "      <td>4.352215</td>\n",
       "      <td>0.221184</td>\n",
       "      <td>0.103860</td>\n",
       "      <td>-0.724376</td>\n",
       "      <td>False</td>\n",
       "      <td>0.633118</td>\n",
       "    </tr>\n",
       "    <tr>\n",
       "      <th>48</th>\n",
       "      <td>CIFAR10+DROPOUT</td>\n",
       "      <td>0.420940</td>\n",
       "      <td>1.617852</td>\n",
       "      <td>0.4202</td>\n",
       "      <td>1.627297</td>\n",
       "      <td>4.535098</td>\n",
       "      <td>0.271758</td>\n",
       "      <td>320</td>\n",
       "      <td>4.593510</td>\n",
       "      <td>0.003115</td>\n",
       "      <td>0.019091</td>\n",
       "      <td>-3.059675</td>\n",
       "      <td>True</td>\n",
       "      <td>4.506198</td>\n",
       "      <td>0.719626</td>\n",
       "      <td>0.114392</td>\n",
       "      <td>0.252644</td>\n",
       "      <td>False</td>\n",
       "      <td>0.604580</td>\n",
       "    </tr>\n",
       "    <tr>\n",
       "      <th>49</th>\n",
       "      <td>CIFAR10+DROPOUT</td>\n",
       "      <td>0.426360</td>\n",
       "      <td>1.609047</td>\n",
       "      <td>0.4245</td>\n",
       "      <td>1.622804</td>\n",
       "      <td>4.498984</td>\n",
       "      <td>0.277953</td>\n",
       "      <td>320</td>\n",
       "      <td>4.598370</td>\n",
       "      <td>0.003115</td>\n",
       "      <td>0.017305</td>\n",
       "      <td>-5.743048</td>\n",
       "      <td>True</td>\n",
       "      <td>4.485019</td>\n",
       "      <td>0.532710</td>\n",
       "      <td>0.132462</td>\n",
       "      <td>0.105428</td>\n",
       "      <td>False</td>\n",
       "      <td>0.577756</td>\n",
       "    </tr>\n",
       "    <tr>\n",
       "      <th>50</th>\n",
       "      <td>FASHION+DROPOUT</td>\n",
       "      <td>0.863800</td>\n",
       "      <td>0.397653</td>\n",
       "      <td>0.8705</td>\n",
       "      <td>0.359481</td>\n",
       "      <td>4.142563</td>\n",
       "      <td>0.344887</td>\n",
       "      <td>320</td>\n",
       "      <td>4.645540</td>\n",
       "      <td>0.003115</td>\n",
       "      <td>0.027892</td>\n",
       "      <td>-18.032842</td>\n",
       "      <td>True</td>\n",
       "      <td>4.201623</td>\n",
       "      <td>0.034268</td>\n",
       "      <td>0.029069</td>\n",
       "      <td>-2.031712</td>\n",
       "      <td>False</td>\n",
       "      <td>0.886655</td>\n",
       "    </tr>\n",
       "    <tr>\n",
       "      <th>51</th>\n",
       "      <td>FASHION+DROPOUT</td>\n",
       "      <td>0.863817</td>\n",
       "      <td>0.390582</td>\n",
       "      <td>0.8725</td>\n",
       "      <td>0.348940</td>\n",
       "      <td>4.064316</td>\n",
       "      <td>0.361154</td>\n",
       "      <td>320</td>\n",
       "      <td>4.666905</td>\n",
       "      <td>0.003115</td>\n",
       "      <td>0.031707</td>\n",
       "      <td>-19.004682</td>\n",
       "      <td>True</td>\n",
       "      <td>4.216407</td>\n",
       "      <td>0.003115</td>\n",
       "      <td>0.072033</td>\n",
       "      <td>-2.111416</td>\n",
       "      <td>True</td>\n",
       "      <td>0.723226</td>\n",
       "    </tr>\n",
       "    <tr>\n",
       "      <th>52</th>\n",
       "      <td>FASHION+DROPOUT</td>\n",
       "      <td>0.862400</td>\n",
       "      <td>0.391380</td>\n",
       "      <td>0.8663</td>\n",
       "      <td>0.355787</td>\n",
       "      <td>4.011317</td>\n",
       "      <td>0.372531</td>\n",
       "      <td>320</td>\n",
       "      <td>4.667771</td>\n",
       "      <td>0.003115</td>\n",
       "      <td>0.023092</td>\n",
       "      <td>-28.428316</td>\n",
       "      <td>True</td>\n",
       "      <td>4.204820</td>\n",
       "      <td>0.003115</td>\n",
       "      <td>0.039240</td>\n",
       "      <td>-4.931230</td>\n",
       "      <td>True</td>\n",
       "      <td>0.842071</td>\n",
       "    </tr>\n",
       "    <tr>\n",
       "      <th>53</th>\n",
       "      <td>FASHION+DROPOUT</td>\n",
       "      <td>0.865350</td>\n",
       "      <td>0.386754</td>\n",
       "      <td>0.8666</td>\n",
       "      <td>0.354577</td>\n",
       "      <td>4.137169</td>\n",
       "      <td>0.345989</td>\n",
       "      <td>320</td>\n",
       "      <td>4.646587</td>\n",
       "      <td>0.003115</td>\n",
       "      <td>0.025514</td>\n",
       "      <td>-19.966190</td>\n",
       "      <td>True</td>\n",
       "      <td>4.221416</td>\n",
       "      <td>0.065421</td>\n",
       "      <td>0.034364</td>\n",
       "      <td>-2.451636</td>\n",
       "      <td>False</td>\n",
       "      <td>0.858189</td>\n",
       "    </tr>\n",
       "    <tr>\n",
       "      <th>54</th>\n",
       "      <td>FASHION+DROPOUT</td>\n",
       "      <td>0.863467</td>\n",
       "      <td>0.388820</td>\n",
       "      <td>0.8690</td>\n",
       "      <td>0.354417</td>\n",
       "      <td>4.054651</td>\n",
       "      <td>0.363206</td>\n",
       "      <td>320</td>\n",
       "      <td>4.672214</td>\n",
       "      <td>0.003115</td>\n",
       "      <td>0.026221</td>\n",
       "      <td>-23.552499</td>\n",
       "      <td>True</td>\n",
       "      <td>4.280999</td>\n",
       "      <td>0.003115</td>\n",
       "      <td>0.092131</td>\n",
       "      <td>-2.456815</td>\n",
       "      <td>True</td>\n",
       "      <td>0.669925</td>\n",
       "    </tr>\n",
       "    <tr>\n",
       "      <th>55</th>\n",
       "      <td>FASHION+DROPOUT</td>\n",
       "      <td>0.864467</td>\n",
       "      <td>0.392445</td>\n",
       "      <td>0.8709</td>\n",
       "      <td>0.354324</td>\n",
       "      <td>4.013757</td>\n",
       "      <td>0.372001</td>\n",
       "      <td>320</td>\n",
       "      <td>4.666420</td>\n",
       "      <td>0.003115</td>\n",
       "      <td>0.027619</td>\n",
       "      <td>-23.630779</td>\n",
       "      <td>True</td>\n",
       "      <td>4.225922</td>\n",
       "      <td>0.003115</td>\n",
       "      <td>0.092687</td>\n",
       "      <td>-2.289039</td>\n",
       "      <td>True</td>\n",
       "      <td>0.670930</td>\n",
       "    </tr>\n",
       "    <tr>\n",
       "      <th>56</th>\n",
       "      <td>FASHION+DROPOUT</td>\n",
       "      <td>0.861367</td>\n",
       "      <td>0.396722</td>\n",
       "      <td>0.8675</td>\n",
       "      <td>0.355441</td>\n",
       "      <td>4.103688</td>\n",
       "      <td>0.352891</td>\n",
       "      <td>320</td>\n",
       "      <td>4.669107</td>\n",
       "      <td>0.003115</td>\n",
       "      <td>0.022175</td>\n",
       "      <td>-25.498274</td>\n",
       "      <td>True</td>\n",
       "      <td>4.283947</td>\n",
       "      <td>0.034268</td>\n",
       "      <td>0.164198</td>\n",
       "      <td>-1.097810</td>\n",
       "      <td>False</td>\n",
       "      <td>0.550310</td>\n",
       "    </tr>\n",
       "    <tr>\n",
       "      <th>57</th>\n",
       "      <td>FASHION+DROPOUT</td>\n",
       "      <td>0.864950</td>\n",
       "      <td>0.390324</td>\n",
       "      <td>0.8703</td>\n",
       "      <td>0.353516</td>\n",
       "      <td>4.095277</td>\n",
       "      <td>0.354643</td>\n",
       "      <td>320</td>\n",
       "      <td>4.662560</td>\n",
       "      <td>0.003115</td>\n",
       "      <td>0.030671</td>\n",
       "      <td>-18.495851</td>\n",
       "      <td>True</td>\n",
       "      <td>4.309936</td>\n",
       "      <td>0.034268</td>\n",
       "      <td>0.171217</td>\n",
       "      <td>-1.253726</td>\n",
       "      <td>False</td>\n",
       "      <td>0.539224</td>\n",
       "    </tr>\n",
       "    <tr>\n",
       "      <th>58</th>\n",
       "      <td>FASHION+DROPOUT</td>\n",
       "      <td>0.860667</td>\n",
       "      <td>0.400913</td>\n",
       "      <td>0.8667</td>\n",
       "      <td>0.359971</td>\n",
       "      <td>4.058933</td>\n",
       "      <td>0.362296</td>\n",
       "      <td>320</td>\n",
       "      <td>4.671131</td>\n",
       "      <td>0.003115</td>\n",
       "      <td>0.024677</td>\n",
       "      <td>-24.808140</td>\n",
       "      <td>True</td>\n",
       "      <td>4.209618</td>\n",
       "      <td>0.034268</td>\n",
       "      <td>0.037795</td>\n",
       "      <td>-3.986901</td>\n",
       "      <td>False</td>\n",
       "      <td>0.848333</td>\n",
       "    </tr>\n",
       "    <tr>\n",
       "      <th>59</th>\n",
       "      <td>FASHION+DROPOUT</td>\n",
       "      <td>0.862400</td>\n",
       "      <td>0.396842</td>\n",
       "      <td>0.8718</td>\n",
       "      <td>0.354866</td>\n",
       "      <td>4.111875</td>\n",
       "      <td>0.351193</td>\n",
       "      <td>320</td>\n",
       "      <td>4.660888</td>\n",
       "      <td>0.003115</td>\n",
       "      <td>0.032351</td>\n",
       "      <td>-16.970364</td>\n",
       "      <td>True</td>\n",
       "      <td>4.236282</td>\n",
       "      <td>0.003115</td>\n",
       "      <td>0.034558</td>\n",
       "      <td>-3.599979</td>\n",
       "      <td>True</td>\n",
       "      <td>0.856787</td>\n",
       "    </tr>\n",
       "  </tbody>\n",
       "</table>\n",
       "</div>"
      ],
      "text/plain": [
       "              model  train_acc  train_loss  test_acc  test_loss      ncut  \\\n",
       "0             MNIST   1.000000    0.000048    0.9835   0.095332  4.634377   \n",
       "1             MNIST   1.000000    0.000056    0.9847   0.090697  4.545577   \n",
       "2             MNIST   1.000000    0.000059    0.9830   0.099833  4.473643   \n",
       "3             MNIST   1.000000    0.000062    0.9828   0.099546  4.559476   \n",
       "4             MNIST   1.000000    0.000081    0.9845   0.097756  4.610962   \n",
       "5             MNIST   1.000000    0.000048    0.9835   0.095626  4.498175   \n",
       "6             MNIST   1.000000    0.000056    0.9838   0.087238  4.514373   \n",
       "7             MNIST   1.000000    0.000061    0.9838   0.100444  4.592311   \n",
       "8             MNIST   1.000000    0.000047    0.9828   0.093142  4.536716   \n",
       "9             MNIST   1.000000    0.000049    0.9833   0.102283  4.589832   \n",
       "10          CIFAR10   0.647020    0.982019    0.4164   2.009407  4.642482   \n",
       "11          CIFAR10   0.655260    0.968012    0.4196   2.009614  4.684847   \n",
       "12          CIFAR10   0.645800    0.993128    0.4085   2.026656  4.707837   \n",
       "13          CIFAR10   0.645580    0.992089    0.4107   2.004410  4.899453   \n",
       "14          CIFAR10   0.654440    0.964225    0.4239   1.981631  4.665183   \n",
       "15          CIFAR10   0.652180    0.973041    0.4111   2.053139  4.607653   \n",
       "16          CIFAR10   0.644540    0.994267    0.4178   1.984371  4.632842   \n",
       "17          CIFAR10   0.651840    0.974107    0.4177   1.981042  4.677363   \n",
       "18          CIFAR10   0.643280    0.998221    0.4150   2.007964  4.882997   \n",
       "19          CIFAR10   0.660940    0.956555    0.4116   2.029548  4.670019   \n",
       "20          FASHION   0.982533    0.049309    0.8937   0.532207  4.308516   \n",
       "21          FASHION   0.982217    0.049195    0.8939   0.526313  4.264402   \n",
       "22          FASHION   0.982300    0.047581    0.8911   0.595367  4.372453   \n",
       "23          FASHION   0.983350    0.046463    0.8949   0.575908  4.344261   \n",
       "24          FASHION   0.982533    0.048930    0.8909   0.551969  4.450120   \n",
       "25          FASHION   0.983767    0.045901    0.8976   0.545859  4.317434   \n",
       "26          FASHION   0.982167    0.049422    0.8916   0.564790  4.333570   \n",
       "27          FASHION   0.982600    0.049156    0.8944   0.546913  4.391052   \n",
       "28          FASHION   0.982267    0.049309    0.8942   0.554626  4.307105   \n",
       "29          FASHION   0.982567    0.048766    0.8921   0.539734  4.421796   \n",
       "30    MNIST+DROPOUT   0.967817    0.120144    0.9796   0.084581  4.226893   \n",
       "31    MNIST+DROPOUT   0.965267    0.127326    0.9802   0.083526  4.256507   \n",
       "32    MNIST+DROPOUT   0.966667    0.123364    0.9789   0.081798  4.221213   \n",
       "33    MNIST+DROPOUT   0.967167    0.125616    0.9800   0.081888  4.221115   \n",
       "34    MNIST+DROPOUT   0.966133    0.127377    0.9793   0.084823  4.183866   \n",
       "35    MNIST+DROPOUT   0.965633    0.123383    0.9782   0.086029  4.195546   \n",
       "36    MNIST+DROPOUT   0.966617    0.125282    0.9790   0.083403  4.222762   \n",
       "37    MNIST+DROPOUT   0.967667    0.122877    0.9808   0.082423  4.172099   \n",
       "38    MNIST+DROPOUT   0.967450    0.122427    0.9793   0.082078  4.295151   \n",
       "39    MNIST+DROPOUT   0.967467    0.123260    0.9787   0.084267  4.228689   \n",
       "40  CIFAR10+DROPOUT   0.425220    1.612513    0.4201   1.628318  4.204254   \n",
       "41  CIFAR10+DROPOUT   0.427100    1.602159    0.4216   1.628530  4.679689   \n",
       "42  CIFAR10+DROPOUT   0.427520    1.613026    0.4202   1.634889  4.415758   \n",
       "43  CIFAR10+DROPOUT   0.436320    1.593016    0.4317   1.603236  4.362284   \n",
       "44  CIFAR10+DROPOUT   0.427500    1.600558    0.4149   1.639029  4.241719   \n",
       "45  CIFAR10+DROPOUT   0.420800    1.624310    0.4189   1.635075  4.186724   \n",
       "46  CIFAR10+DROPOUT   0.437900    1.573070    0.4274   1.610751  4.326458   \n",
       "47  CIFAR10+DROPOUT   0.420840    1.625915    0.4194   1.632398  4.276981   \n",
       "48  CIFAR10+DROPOUT   0.420940    1.617852    0.4202   1.627297  4.535098   \n",
       "49  CIFAR10+DROPOUT   0.426360    1.609047    0.4245   1.622804  4.498984   \n",
       "50  FASHION+DROPOUT   0.863800    0.397653    0.8705   0.359481  4.142563   \n",
       "51  FASHION+DROPOUT   0.863817    0.390582    0.8725   0.348940  4.064316   \n",
       "52  FASHION+DROPOUT   0.862400    0.391380    0.8663   0.355787  4.011317   \n",
       "53  FASHION+DROPOUT   0.865350    0.386754    0.8666   0.354577  4.137169   \n",
       "54  FASHION+DROPOUT   0.863467    0.388820    0.8690   0.354417  4.054651   \n",
       "55  FASHION+DROPOUT   0.864467    0.392445    0.8709   0.354324  4.013757   \n",
       "56  FASHION+DROPOUT   0.861367    0.396722    0.8675   0.355441  4.103688   \n",
       "57  FASHION+DROPOUT   0.864950    0.390324    0.8703   0.353516  4.095277   \n",
       "58  FASHION+DROPOUT   0.860667    0.400913    0.8667   0.359971  4.058933   \n",
       "59  FASHION+DROPOUT   0.862400    0.396842    0.8718   0.354866  4.111875   \n",
       "\n",
       "    ave_in_out  n_samples  mean_layer  percentile_layer  stdev_layer  \\\n",
       "0     0.255226        320    4.701298          0.003115     0.015993   \n",
       "1     0.269979        320    4.707760          0.003115     0.024822   \n",
       "2     0.282360        320    4.704236          0.003115     0.026848   \n",
       "3     0.267632        320    4.701830          0.003115     0.024402   \n",
       "4     0.259061        320    4.724072          0.003115     0.019739   \n",
       "5     0.278093        320    4.726294          0.003115     0.021361   \n",
       "6     0.275301        320    4.695680          0.003115     0.024391   \n",
       "7     0.262143        320    4.716121          0.003115     0.022920   \n",
       "8     0.271483        320    4.699434          0.003115     0.028623   \n",
       "9     0.262555        320    4.724979          0.003115     0.026312   \n",
       "10    0.253907        320    4.651311          0.283489     0.021092   \n",
       "11    0.247089        320    4.650236          0.937695     0.025492   \n",
       "12    0.243441        320    4.645114          1.000000     0.022708   \n",
       "13    0.214365        320    4.642184          1.000000     0.026820   \n",
       "14    0.250239        320    4.661804          0.626168     0.022730   \n",
       "15    0.259606        320    4.642464          0.003115     0.020119   \n",
       "16    0.255476        320    4.651849          0.283489     0.021893   \n",
       "17    0.248285        320    4.654959          0.781931     0.022470   \n",
       "18    0.216773        320    4.631036          1.000000     0.021674   \n",
       "19    0.249462        320    4.641896          0.844237     0.021222   \n",
       "20    0.312345        320    4.627097          0.003115     0.021872   \n",
       "21    0.320748        320    4.597312          0.003115     0.032649   \n",
       "22    0.300466        320    4.630344          0.003115     0.024233   \n",
       "23    0.305661        320    4.621884          0.003115     0.024989   \n",
       "24    0.286496        320    4.601388          0.003115     0.025593   \n",
       "25    0.310667        320    4.598646          0.003115     0.023530   \n",
       "26    0.307648        320    4.612837          0.003115     0.025377   \n",
       "27    0.297075        320    4.597459          0.003115     0.029227   \n",
       "28    0.312611        320    4.614370          0.003115     0.025013   \n",
       "29    0.291534        320    4.629036          0.003115     0.021349   \n",
       "30    0.328031        320    4.712073          0.003115     0.025949   \n",
       "31    0.322270        320    4.719242          0.003115     0.022642   \n",
       "32    0.329146        320    4.701025          0.003115     0.023158   \n",
       "33    0.329165        320    4.705132          0.003115     0.022903   \n",
       "34    0.336547        320    4.713252          0.003115     0.019384   \n",
       "35    0.334218        320    4.706445          0.003115     0.021075   \n",
       "36    0.328841        320    4.719282          0.003115     0.023811   \n",
       "37    0.338906        320    4.712031          0.003115     0.019647   \n",
       "38    0.314872        320    4.717996          0.003115     0.023114   \n",
       "39    0.327680        320    4.713327          0.003115     0.024655   \n",
       "40    0.332490        320    4.606864          0.003115     0.014119   \n",
       "41    0.247913        320    4.631062          1.000000     0.020855   \n",
       "42    0.292616        320    4.600992          0.003115     0.017695   \n",
       "43    0.302332        320    4.642848          0.003115     0.028094   \n",
       "44    0.325137        320    4.619377          0.003115     0.019685   \n",
       "45    0.335976        320    4.595561          0.003115     0.016155   \n",
       "46    0.308976        320    4.696410          0.003115     0.014515   \n",
       "47    0.318334        320    4.599370          0.003115     0.012526   \n",
       "48    0.271758        320    4.593510          0.003115     0.019091   \n",
       "49    0.277953        320    4.598370          0.003115     0.017305   \n",
       "50    0.344887        320    4.645540          0.003115     0.027892   \n",
       "51    0.361154        320    4.666905          0.003115     0.031707   \n",
       "52    0.372531        320    4.667771          0.003115     0.023092   \n",
       "53    0.345989        320    4.646587          0.003115     0.025514   \n",
       "54    0.363206        320    4.672214          0.003115     0.026221   \n",
       "55    0.372001        320    4.666420          0.003115     0.027619   \n",
       "56    0.352891        320    4.669107          0.003115     0.022175   \n",
       "57    0.354643        320    4.662560          0.003115     0.030671   \n",
       "58    0.362296        320    4.671131          0.003115     0.024677   \n",
       "59    0.351193        320    4.660888          0.003115     0.032351   \n",
       "\n",
       "    z_score_layer  is_sig_layer  mean_layer_nonzero  percentile_layer_nonzero  \\\n",
       "0       -4.184349          True            4.649677                  0.376947   \n",
       "1       -6.533918          True            4.693166                  0.003115   \n",
       "2       -8.588974          True            4.560108                  0.003115   \n",
       "3       -5.833708          True            4.619620                  0.065421   \n",
       "4       -5.730319          True            4.675526                  0.283489   \n",
       "5      -10.679443          True            4.649077                  0.003115   \n",
       "6       -7.433439          True            4.704034                  0.003115   \n",
       "7       -5.401807          True            4.707152                  0.003115   \n",
       "8       -5.684835          True            4.573713                  0.065421   \n",
       "9       -5.136238          True            4.700492                  0.003115   \n",
       "10      -0.418548         False            4.627100                  0.657321   \n",
       "11       1.357749         False            4.661016                  0.844237   \n",
       "12       2.762088         False            4.455268                  0.813084   \n",
       "13       9.592570         False            4.543834                  0.906542   \n",
       "14       0.148670         False            4.659816                  0.688474   \n",
       "15      -1.730251          True            4.649237                  0.158879   \n",
       "16      -0.868169         False            4.600624                  0.937695   \n",
       "17       0.997055         False            4.647135                  0.937695   \n",
       "18      11.625097         False            4.830639                  0.563863   \n",
       "19       1.325164         False            4.653300                  0.657321   \n",
       "20     -14.565709          True            4.490250                  0.065421   \n",
       "21     -10.196545          True            4.349688                  0.034268   \n",
       "22     -10.642383          True            4.437724                  0.065421   \n",
       "23     -11.109860          True            4.505900                  0.034268   \n",
       "24      -5.910436          True            4.411680                  0.844237   \n",
       "25     -11.951115          True            4.463826                  0.034268   \n",
       "26     -11.004815          True            4.544311                  0.034268   \n",
       "27      -7.062204          True            4.429788                  0.127726   \n",
       "28     -12.284402          True            4.454108                  0.034268   \n",
       "29      -9.707326          True            4.483690                  0.127726   \n",
       "30     -18.697790          True            4.341921                  0.003115   \n",
       "31     -20.437400          True            4.363140                  0.003115   \n",
       "32     -20.718750          True            4.332169                  0.003115   \n",
       "33     -21.133096          True            4.383448                  0.003115   \n",
       "34     -27.310306          True            4.347099                  0.003115   \n",
       "35     -24.241373          True            4.348237                  0.003115   \n",
       "36     -20.852570          True            4.333144                  0.003115   \n",
       "37     -27.481498          True            4.289718                  0.003115   \n",
       "38     -18.293494          True            4.334628                  0.003115   \n",
       "39     -19.656749          True            4.365073                  0.003115   \n",
       "40     -28.515361          True            4.318687                  0.065421   \n",
       "41       2.331633         False            4.701694                  0.376947   \n",
       "42     -10.468194          True            4.591241                  0.127726   \n",
       "43      -9.986684          True            4.503578                  0.190031   \n",
       "44     -19.184914          True            4.377873                  0.003115   \n",
       "45     -25.306823          True            4.265606                  0.190031   \n",
       "46     -25.487467          True            4.548727                  0.003115   \n",
       "47     -25.736777          True            4.352215                  0.221184   \n",
       "48      -3.059675          True            4.506198                  0.719626   \n",
       "49      -5.743048          True            4.485019                  0.532710   \n",
       "50     -18.032842          True            4.201623                  0.034268   \n",
       "51     -19.004682          True            4.216407                  0.003115   \n",
       "52     -28.428316          True            4.204820                  0.003115   \n",
       "53     -19.966190          True            4.221416                  0.065421   \n",
       "54     -23.552499          True            4.280999                  0.003115   \n",
       "55     -23.630779          True            4.225922                  0.003115   \n",
       "56     -25.498274          True            4.283947                  0.034268   \n",
       "57     -18.495851          True            4.309936                  0.034268   \n",
       "58     -24.808140          True            4.209618                  0.034268   \n",
       "59     -16.970364          True            4.236282                  0.003115   \n",
       "\n",
       "    stdev_layer_nonzero  z_score_layer_nonzero  is_sig_layer_nonzero   cohen_d  \n",
       "0              0.047088              -0.324925                 False  0.771166  \n",
       "1              0.058114              -2.539635                  True  0.732510  \n",
       "2              0.024097              -3.588255                  True  0.873361  \n",
       "3              0.038410              -1.565863                 False  0.804074  \n",
       "4              0.080500              -0.802033                 False  0.679664  \n",
       "5              0.038872              -3.881992                  True  0.803786  \n",
       "6              0.145137              -1.306768                  True  0.562472  \n",
       "7              0.055481              -2.069906                  True  0.740625  \n",
       "8              0.026173              -1.413515                 False  0.860314  \n",
       "9              0.035032              -3.158842                  True  0.811677  \n",
       "10             0.035171               0.437368                 False  0.807653  \n",
       "11             0.021639               1.101274                 False  0.861354  \n",
       "12             0.229422               1.100890                 False  0.477315  \n",
       "13             0.275066               1.292851                 False  0.441552  \n",
       "14             0.040235               0.133388                 False  0.786371  \n",
       "15             0.082284              -0.505372                 False  0.665548  \n",
       "16             0.036748               0.876729                 False  0.804409  \n",
       "17             0.020742               1.457346                 False  0.869134  \n",
       "18             0.165660               0.316056                 False  0.526016  \n",
       "19             0.048693               0.343355                 False  0.754922  \n",
       "20             0.161611              -1.124516                 False  0.541629  \n",
       "21             0.062442              -1.365840                 False  0.729640  \n",
       "22             0.058260              -1.120358                 False  0.741663  \n",
       "23             0.145231              -1.112982                 False  0.560904  \n",
       "24             0.053227               0.722181                 False  0.755128  \n",
       "25             0.135428              -1.080956                 False  0.573534  \n",
       "26             0.134240              -1.569882                 False  0.573520  \n",
       "27             0.078180              -0.495463                 False  0.681671  \n",
       "28             0.112755              -1.303741                 False  0.611902  \n",
       "29             0.076746              -0.806492                 False  0.687392  \n",
       "30             0.010207             -11.269095                  True  0.993299  \n",
       "31             0.022668              -4.704066                  True  0.913136  \n",
       "32             0.061308              -1.809796                  True  0.752731  \n",
       "33             0.093611              -1.734134                  True  0.665740  \n",
       "34             0.008876             -18.389495                  True  1.003618  \n",
       "35             0.014554             -10.491646                  True  0.962199  \n",
       "36             0.023714              -4.654785                  True  0.911641  \n",
       "37             0.009085             -12.946199                  True  1.013345  \n",
       "38             0.016176              -2.440489                  True  0.956057  \n",
       "39             0.015038              -9.069292                  True  0.956772  \n",
       "40             0.108263              -1.056983                 False  0.627249  \n",
       "41             0.095994              -0.229241                 False  0.632425  \n",
       "42             0.138908              -1.263298                 False  0.564535  \n",
       "43             0.164947              -0.856606                 False  0.538324  \n",
       "44             0.083232              -1.635837                  True  0.677628  \n",
       "45             0.097990              -0.805010                 False  0.648610  \n",
       "46             0.075755              -2.934061                  True  0.696357  \n",
       "47             0.103860              -0.724376                 False  0.633118  \n",
       "48             0.114392               0.252644                 False  0.604580  \n",
       "49             0.132462               0.105428                 False  0.577756  \n",
       "50             0.029069              -2.031712                 False  0.886655  \n",
       "51             0.072033              -2.111416                  True  0.723226  \n",
       "52             0.039240              -4.931230                  True  0.842071  \n",
       "53             0.034364              -2.451636                 False  0.858189  \n",
       "54             0.092131              -2.456815                  True  0.669925  \n",
       "55             0.092687              -2.289039                  True  0.670930  \n",
       "56             0.164198              -1.097810                 False  0.550310  \n",
       "57             0.171217              -1.253726                 False  0.539224  \n",
       "58             0.037795              -3.986901                 False  0.848333  \n",
       "59             0.034558              -3.599979                  True  0.856787  "
      ]
     },
     "execution_count": 12,
     "metadata": {},
     "output_type": "execute_result"
    }
   ],
   "source": [
    "MODEL_DATA_COLUMNS = ['model',\n",
    "                      'train_acc', 'train_loss', 'test_acc', 'test_loss',\n",
    "                      'ncut', 'ave_in_out',\n",
    "                      'n_samples']\n",
    "\n",
    "assert layer_df[MODEL_DATA_COLUMNS].equals(layer_nonzero_df[MODEL_DATA_COLUMNS])\n",
    "\n",
    "SHUFFLING_DATA_COLUMNS = ['mean', 'percentile', 'stdev', 'z_score', 'is_sig']\n",
    "\n",
    "two_shuffling_method_df = pd.merge(layer_df[SHUFFLING_DATA_COLUMNS],\n",
    "                                     layer_nonzero_df[SHUFFLING_DATA_COLUMNS],\n",
    "                                     left_index=True, right_index=True,\n",
    "                                     suffixes=('_layer', '_layer_nonzero'))\n",
    "\n",
    "assert layer_df[MODEL_DATA_COLUMNS].equals(layer_nonzero_df[MODEL_DATA_COLUMNS])\n",
    "\n",
    "df = pd.merge(layer_df[MODEL_DATA_COLUMNS], two_shuffling_method_df,\n",
    "              left_index=True, right_index=True,)\n",
    "\n",
    "df['cohen_d'] = df.apply(lambda r: cohen_d_stats(r['mean_layer'], r['stdev_layer'], r['n_samples'],\n",
    "                                 r['mean_layer_nonzero'], r['stdev_layer_nonzero'], r['n_samples']),\n",
    "                                axis=1)\n",
    "\n",
    "df"
   ]
  },
  {
   "cell_type": "code",
   "execution_count": 13,
   "metadata": {
    "papermill": {
     "duration": 0.235876,
     "end_time": "2020-05-27T19:11:56.921883",
     "exception": false,
     "start_time": "2020-05-27T19:11:56.686007",
     "status": "completed"
    },
    "tags": []
   },
   "outputs": [],
   "source": [
    "# df = pd.read_csv('../results/mlp-clustering-stability-two-shuffling-methods-all-samples.csv' index_col=0)"
   ]
  },
  {
   "cell_type": "code",
   "execution_count": 14,
   "metadata": {
    "papermill": {
     "duration": 0.581285,
     "end_time": "2020-05-27T19:11:57.747197",
     "exception": false,
     "start_time": "2020-05-27T19:11:57.165912",
     "status": "completed"
    },
    "tags": []
   },
   "outputs": [],
   "source": [
    "df_grpby_model = df.groupby('model')\n",
    "\n",
    "TWO_SHUFFLE_STATS_COLUMNS = [f'{stat}_{shuffle_method}'\n",
    "                             for stat in ['mean', 'stdev', 'z_score', 'percentile', 'is_sig']\n",
    "                             for shuffle_method in SHUFFLE_METHODS]\n",
    "\n",
    "statistics_df = pd.concat([(df_grpby_model[['ncut'] + TWO_SHUFFLE_STATS_COLUMNS]\n",
    "                             .agg(['mean', 'std'])),\n",
    "                            df_grpby_model.size().rename('n_models'),\n",
    "                            (df_grpby_model[['train_acc', 'test_acc']]\n",
    "                             .agg('mean'))],\n",
    "                           axis=1)"
   ]
  },
  {
   "cell_type": "code",
   "execution_count": 15,
   "metadata": {
    "papermill": {
     "duration": 0.293996,
     "end_time": "2020-05-27T19:11:58.258352",
     "exception": false,
     "start_time": "2020-05-27T19:11:57.964356",
     "status": "completed"
    },
    "tags": []
   },
   "outputs": [
    {
     "data": {
      "text/html": [
       "<div>\n",
       "<style scoped>\n",
       "    .dataframe tbody tr th:only-of-type {\n",
       "        vertical-align: middle;\n",
       "    }\n",
       "\n",
       "    .dataframe tbody tr th {\n",
       "        vertical-align: top;\n",
       "    }\n",
       "\n",
       "    .dataframe thead th {\n",
       "        text-align: right;\n",
       "    }\n",
       "</style>\n",
       "<table border=\"1\" class=\"dataframe\">\n",
       "  <thead>\n",
       "    <tr style=\"text-align: right;\">\n",
       "      <th></th>\n",
       "      <th>(ncut, mean)</th>\n",
       "      <th>(ncut, std)</th>\n",
       "      <th>(mean_layer, mean)</th>\n",
       "      <th>(mean_layer, std)</th>\n",
       "      <th>(mean_layer_nonzero, mean)</th>\n",
       "      <th>(mean_layer_nonzero, std)</th>\n",
       "      <th>(stdev_layer, mean)</th>\n",
       "      <th>(stdev_layer, std)</th>\n",
       "      <th>(stdev_layer_nonzero, mean)</th>\n",
       "      <th>(stdev_layer_nonzero, std)</th>\n",
       "      <th>...</th>\n",
       "      <th>(percentile_layer, std)</th>\n",
       "      <th>(percentile_layer_nonzero, mean)</th>\n",
       "      <th>(percentile_layer_nonzero, std)</th>\n",
       "      <th>(is_sig_layer, mean)</th>\n",
       "      <th>(is_sig_layer, std)</th>\n",
       "      <th>(is_sig_layer_nonzero, mean)</th>\n",
       "      <th>(is_sig_layer_nonzero, std)</th>\n",
       "      <th>n_models</th>\n",
       "      <th>train_acc</th>\n",
       "      <th>test_acc</th>\n",
       "    </tr>\n",
       "    <tr>\n",
       "      <th>model</th>\n",
       "      <th></th>\n",
       "      <th></th>\n",
       "      <th></th>\n",
       "      <th></th>\n",
       "      <th></th>\n",
       "      <th></th>\n",
       "      <th></th>\n",
       "      <th></th>\n",
       "      <th></th>\n",
       "      <th></th>\n",
       "      <th></th>\n",
       "      <th></th>\n",
       "      <th></th>\n",
       "      <th></th>\n",
       "      <th></th>\n",
       "      <th></th>\n",
       "      <th></th>\n",
       "      <th></th>\n",
       "      <th></th>\n",
       "      <th></th>\n",
       "      <th></th>\n",
       "    </tr>\n",
       "  </thead>\n",
       "  <tbody>\n",
       "    <tr>\n",
       "      <th>CIFAR10</th>\n",
       "      <td>4.707068</td>\n",
       "      <td>0.101122</td>\n",
       "      <td>4.647285</td>\n",
       "      <td>0.008580</td>\n",
       "      <td>4.632797</td>\n",
       "      <td>0.095489</td>\n",
       "      <td>0.022622</td>\n",
       "      <td>0.002052</td>\n",
       "      <td>0.095566</td>\n",
       "      <td>0.093486</td>\n",
       "      <td>...</td>\n",
       "      <td>0.363062</td>\n",
       "      <td>0.716511</td>\n",
       "      <td>0.236090</td>\n",
       "      <td>0.1</td>\n",
       "      <td>0.316228</td>\n",
       "      <td>0.0</td>\n",
       "      <td>0.000000</td>\n",
       "      <td>10</td>\n",
       "      <td>0.650088</td>\n",
       "      <td>0.41523</td>\n",
       "    </tr>\n",
       "    <tr>\n",
       "      <th>CIFAR10+DROPOUT</th>\n",
       "      <td>4.372795</td>\n",
       "      <td>0.159841</td>\n",
       "      <td>4.618436</td>\n",
       "      <td>0.031946</td>\n",
       "      <td>4.465084</td>\n",
       "      <td>0.135004</td>\n",
       "      <td>0.018004</td>\n",
       "      <td>0.004412</td>\n",
       "      <td>0.111580</td>\n",
       "      <td>0.027130</td>\n",
       "      <td>...</td>\n",
       "      <td>0.315243</td>\n",
       "      <td>0.242991</td>\n",
       "      <td>0.234532</td>\n",
       "      <td>0.9</td>\n",
       "      <td>0.316228</td>\n",
       "      <td>0.2</td>\n",
       "      <td>0.421637</td>\n",
       "      <td>10</td>\n",
       "      <td>0.427050</td>\n",
       "      <td>0.42189</td>\n",
       "    </tr>\n",
       "    <tr>\n",
       "      <th>FASHION</th>\n",
       "      <td>4.351071</td>\n",
       "      <td>0.057357</td>\n",
       "      <td>4.613037</td>\n",
       "      <td>0.013606</td>\n",
       "      <td>4.457097</td>\n",
       "      <td>0.054333</td>\n",
       "      <td>0.025383</td>\n",
       "      <td>0.003354</td>\n",
       "      <td>0.101812</td>\n",
       "      <td>0.040492</td>\n",
       "      <td>...</td>\n",
       "      <td>0.000000</td>\n",
       "      <td>0.140187</td>\n",
       "      <td>0.250171</td>\n",
       "      <td>1.0</td>\n",
       "      <td>0.000000</td>\n",
       "      <td>0.0</td>\n",
       "      <td>0.000000</td>\n",
       "      <td>10</td>\n",
       "      <td>0.982630</td>\n",
       "      <td>0.89344</td>\n",
       "    </tr>\n",
       "    <tr>\n",
       "      <th>FASHION+DROPOUT</th>\n",
       "      <td>4.079355</td>\n",
       "      <td>0.046460</td>\n",
       "      <td>4.662912</td>\n",
       "      <td>0.009527</td>\n",
       "      <td>4.239097</td>\n",
       "      <td>0.038359</td>\n",
       "      <td>0.027192</td>\n",
       "      <td>0.003525</td>\n",
       "      <td>0.076729</td>\n",
       "      <td>0.053602</td>\n",
       "      <td>...</td>\n",
       "      <td>0.000000</td>\n",
       "      <td>0.021807</td>\n",
       "      <td>0.021782</td>\n",
       "      <td>1.0</td>\n",
       "      <td>0.000000</td>\n",
       "      <td>0.5</td>\n",
       "      <td>0.527046</td>\n",
       "      <td>10</td>\n",
       "      <td>0.863268</td>\n",
       "      <td>0.86921</td>\n",
       "    </tr>\n",
       "    <tr>\n",
       "      <th>MNIST</th>\n",
       "      <td>4.555544</td>\n",
       "      <td>0.051615</td>\n",
       "      <td>4.710170</td>\n",
       "      <td>0.011655</td>\n",
       "      <td>4.653256</td>\n",
       "      <td>0.053716</td>\n",
       "      <td>0.023541</td>\n",
       "      <td>0.003714</td>\n",
       "      <td>0.054891</td>\n",
       "      <td>0.035851</td>\n",
       "      <td>...</td>\n",
       "      <td>0.000000</td>\n",
       "      <td>0.080997</td>\n",
       "      <td>0.135593</td>\n",
       "      <td>1.0</td>\n",
       "      <td>0.000000</td>\n",
       "      <td>0.6</td>\n",
       "      <td>0.516398</td>\n",
       "      <td>10</td>\n",
       "      <td>1.000000</td>\n",
       "      <td>0.98357</td>\n",
       "    </tr>\n",
       "    <tr>\n",
       "      <th>MNIST+DROPOUT</th>\n",
       "      <td>4.222384</td>\n",
       "      <td>0.035363</td>\n",
       "      <td>4.711981</td>\n",
       "      <td>0.006176</td>\n",
       "      <td>4.343858</td>\n",
       "      <td>0.025145</td>\n",
       "      <td>0.022634</td>\n",
       "      <td>0.002080</td>\n",
       "      <td>0.027524</td>\n",
       "      <td>0.027864</td>\n",
       "      <td>...</td>\n",
       "      <td>0.000000</td>\n",
       "      <td>0.003115</td>\n",
       "      <td>0.000000</td>\n",
       "      <td>1.0</td>\n",
       "      <td>0.000000</td>\n",
       "      <td>1.0</td>\n",
       "      <td>0.000000</td>\n",
       "      <td>10</td>\n",
       "      <td>0.966788</td>\n",
       "      <td>0.97940</td>\n",
       "    </tr>\n",
       "  </tbody>\n",
       "</table>\n",
       "<p>6 rows × 25 columns</p>\n",
       "</div>"
      ],
      "text/plain": [
       "                 (ncut, mean)  (ncut, std)  (mean_layer, mean)  \\\n",
       "model                                                            \n",
       "CIFAR10              4.707068     0.101122            4.647285   \n",
       "CIFAR10+DROPOUT      4.372795     0.159841            4.618436   \n",
       "FASHION              4.351071     0.057357            4.613037   \n",
       "FASHION+DROPOUT      4.079355     0.046460            4.662912   \n",
       "MNIST                4.555544     0.051615            4.710170   \n",
       "MNIST+DROPOUT        4.222384     0.035363            4.711981   \n",
       "\n",
       "                 (mean_layer, std)  (mean_layer_nonzero, mean)  \\\n",
       "model                                                            \n",
       "CIFAR10                   0.008580                    4.632797   \n",
       "CIFAR10+DROPOUT           0.031946                    4.465084   \n",
       "FASHION                   0.013606                    4.457097   \n",
       "FASHION+DROPOUT           0.009527                    4.239097   \n",
       "MNIST                     0.011655                    4.653256   \n",
       "MNIST+DROPOUT             0.006176                    4.343858   \n",
       "\n",
       "                 (mean_layer_nonzero, std)  (stdev_layer, mean)  \\\n",
       "model                                                             \n",
       "CIFAR10                           0.095489             0.022622   \n",
       "CIFAR10+DROPOUT                   0.135004             0.018004   \n",
       "FASHION                           0.054333             0.025383   \n",
       "FASHION+DROPOUT                   0.038359             0.027192   \n",
       "MNIST                             0.053716             0.023541   \n",
       "MNIST+DROPOUT                     0.025145             0.022634   \n",
       "\n",
       "                 (stdev_layer, std)  (stdev_layer_nonzero, mean)  \\\n",
       "model                                                              \n",
       "CIFAR10                    0.002052                     0.095566   \n",
       "CIFAR10+DROPOUT            0.004412                     0.111580   \n",
       "FASHION                    0.003354                     0.101812   \n",
       "FASHION+DROPOUT            0.003525                     0.076729   \n",
       "MNIST                      0.003714                     0.054891   \n",
       "MNIST+DROPOUT              0.002080                     0.027524   \n",
       "\n",
       "                 (stdev_layer_nonzero, std)  ...  (percentile_layer, std)  \\\n",
       "model                                        ...                            \n",
       "CIFAR10                            0.093486  ...                 0.363062   \n",
       "CIFAR10+DROPOUT                    0.027130  ...                 0.315243   \n",
       "FASHION                            0.040492  ...                 0.000000   \n",
       "FASHION+DROPOUT                    0.053602  ...                 0.000000   \n",
       "MNIST                              0.035851  ...                 0.000000   \n",
       "MNIST+DROPOUT                      0.027864  ...                 0.000000   \n",
       "\n",
       "                 (percentile_layer_nonzero, mean)  \\\n",
       "model                                               \n",
       "CIFAR10                                  0.716511   \n",
       "CIFAR10+DROPOUT                          0.242991   \n",
       "FASHION                                  0.140187   \n",
       "FASHION+DROPOUT                          0.021807   \n",
       "MNIST                                    0.080997   \n",
       "MNIST+DROPOUT                            0.003115   \n",
       "\n",
       "                 (percentile_layer_nonzero, std)  (is_sig_layer, mean)  \\\n",
       "model                                                                    \n",
       "CIFAR10                                 0.236090                   0.1   \n",
       "CIFAR10+DROPOUT                         0.234532                   0.9   \n",
       "FASHION                                 0.250171                   1.0   \n",
       "FASHION+DROPOUT                         0.021782                   1.0   \n",
       "MNIST                                   0.135593                   1.0   \n",
       "MNIST+DROPOUT                           0.000000                   1.0   \n",
       "\n",
       "                 (is_sig_layer, std)  (is_sig_layer_nonzero, mean)  \\\n",
       "model                                                                \n",
       "CIFAR10                     0.316228                           0.0   \n",
       "CIFAR10+DROPOUT             0.316228                           0.2   \n",
       "FASHION                     0.000000                           0.0   \n",
       "FASHION+DROPOUT             0.000000                           0.5   \n",
       "MNIST                       0.000000                           0.6   \n",
       "MNIST+DROPOUT               0.000000                           1.0   \n",
       "\n",
       "                 (is_sig_layer_nonzero, std)  n_models  train_acc  test_acc  \n",
       "model                                                                        \n",
       "CIFAR10                             0.000000        10   0.650088   0.41523  \n",
       "CIFAR10+DROPOUT                     0.421637        10   0.427050   0.42189  \n",
       "FASHION                             0.000000        10   0.982630   0.89344  \n",
       "FASHION+DROPOUT                     0.527046        10   0.863268   0.86921  \n",
       "MNIST                               0.516398        10   1.000000   0.98357  \n",
       "MNIST+DROPOUT                       0.000000        10   0.966788   0.97940  \n",
       "\n",
       "[6 rows x 25 columns]"
      ]
     },
     "execution_count": 15,
     "metadata": {},
     "output_type": "execute_result"
    }
   ],
   "source": [
    "statistics_df"
   ]
  },
  {
   "cell_type": "code",
   "execution_count": 16,
   "metadata": {
    "papermill": {
     "duration": 0.208801,
     "end_time": "2020-05-27T19:11:58.672827",
     "exception": false,
     "start_time": "2020-05-27T19:11:58.464026",
     "status": "completed"
    },
    "tags": []
   },
   "outputs": [],
   "source": [
    "# TODO: ask for a code review\n",
    "# std = np.sqrt(np.mean(x**2) - np.mean(x)**2)\n",
    "\n",
    "def calc_overall_stdev(row, suffix=''):\n",
    "    return np.sqrt(                 # 5. apply root square to get the SD from the variance\n",
    "        (np.mean(                   # 3. divide by the number of trained model\n",
    "            (row[f'stdev{suffix}']**2)       # 1. cancel the overall square root\n",
    "             + row[f'mean{suffix}']**2))     # 2. add the mean and get the sum or squares\n",
    "        - np.mean(row[f'mean{suffix}'])**2)  # 4. substrct the square of the overall mean"
   ]
  },
  {
   "cell_type": "code",
   "execution_count": 17,
   "metadata": {
    "papermill": {
     "duration": 0.397464,
     "end_time": "2020-05-27T19:11:59.260370",
     "exception": false,
     "start_time": "2020-05-27T19:11:58.862906",
     "status": "completed"
    },
    "tags": []
   },
   "outputs": [],
   "source": [
    "SHUFFLE_METHOD_SUFFIX = ['_layer', '_layer_nonzero']\n",
    "for suffix in SHUFFLE_METHOD_SUFFIX:\n",
    "    statistics_df[f'overall_std{suffix}'] = df_grpby_model.apply(calc_overall_stdev, suffix)\n",
    "\n",
    "for suffix in SHUFFLE_METHOD_SUFFIX:\n",
    "    statistics_df[f'is_stable{suffix}'] = (statistics_df[(f'is_sig{suffix}', 'mean')] == 1)\n",
    "\n",
    "statistics_df = statistics_df.loc[TAGS_COMMANDS.keys(), :]"
   ]
  },
  {
   "cell_type": "code",
   "execution_count": 18,
   "metadata": {
    "papermill": {
     "duration": 0.200957,
     "end_time": "2020-05-27T19:11:59.666209",
     "exception": false,
     "start_time": "2020-05-27T19:11:59.465252",
     "status": "completed"
    },
    "tags": []
   },
   "outputs": [
    {
     "data": {
      "text/html": [
       "<div>\n",
       "<style scoped>\n",
       "    .dataframe tbody tr th:only-of-type {\n",
       "        vertical-align: middle;\n",
       "    }\n",
       "\n",
       "    .dataframe tbody tr th {\n",
       "        vertical-align: top;\n",
       "    }\n",
       "\n",
       "    .dataframe thead th {\n",
       "        text-align: right;\n",
       "    }\n",
       "</style>\n",
       "<table border=\"1\" class=\"dataframe\">\n",
       "  <thead>\n",
       "    <tr style=\"text-align: right;\">\n",
       "      <th></th>\n",
       "      <th>(ncut, mean)</th>\n",
       "      <th>(ncut, std)</th>\n",
       "      <th>(mean_layer, mean)</th>\n",
       "      <th>(mean_layer, std)</th>\n",
       "      <th>(mean_layer_nonzero, mean)</th>\n",
       "      <th>(mean_layer_nonzero, std)</th>\n",
       "      <th>(stdev_layer, mean)</th>\n",
       "      <th>(stdev_layer, std)</th>\n",
       "      <th>(stdev_layer_nonzero, mean)</th>\n",
       "      <th>(stdev_layer_nonzero, std)</th>\n",
       "      <th>...</th>\n",
       "      <th>(is_sig_layer, std)</th>\n",
       "      <th>(is_sig_layer_nonzero, mean)</th>\n",
       "      <th>(is_sig_layer_nonzero, std)</th>\n",
       "      <th>n_models</th>\n",
       "      <th>train_acc</th>\n",
       "      <th>test_acc</th>\n",
       "      <th>overall_std_layer</th>\n",
       "      <th>overall_std_layer_nonzero</th>\n",
       "      <th>is_stable_layer</th>\n",
       "      <th>is_stable_layer_nonzero</th>\n",
       "    </tr>\n",
       "    <tr>\n",
       "      <th>model</th>\n",
       "      <th></th>\n",
       "      <th></th>\n",
       "      <th></th>\n",
       "      <th></th>\n",
       "      <th></th>\n",
       "      <th></th>\n",
       "      <th></th>\n",
       "      <th></th>\n",
       "      <th></th>\n",
       "      <th></th>\n",
       "      <th></th>\n",
       "      <th></th>\n",
       "      <th></th>\n",
       "      <th></th>\n",
       "      <th></th>\n",
       "      <th></th>\n",
       "      <th></th>\n",
       "      <th></th>\n",
       "      <th></th>\n",
       "      <th></th>\n",
       "      <th></th>\n",
       "    </tr>\n",
       "  </thead>\n",
       "  <tbody>\n",
       "    <tr>\n",
       "      <th>MNIST</th>\n",
       "      <td>4.555544</td>\n",
       "      <td>0.051615</td>\n",
       "      <td>4.710170</td>\n",
       "      <td>0.011655</td>\n",
       "      <td>4.653256</td>\n",
       "      <td>0.053716</td>\n",
       "      <td>0.023541</td>\n",
       "      <td>0.003714</td>\n",
       "      <td>0.054891</td>\n",
       "      <td>0.035851</td>\n",
       "      <td>...</td>\n",
       "      <td>0.000000</td>\n",
       "      <td>0.6</td>\n",
       "      <td>0.516398</td>\n",
       "      <td>10</td>\n",
       "      <td>1.000000</td>\n",
       "      <td>0.98357</td>\n",
       "      <td>0.026246</td>\n",
       "      <td>0.082259</td>\n",
       "      <td>True</td>\n",
       "      <td>False</td>\n",
       "    </tr>\n",
       "    <tr>\n",
       "      <th>CIFAR10</th>\n",
       "      <td>4.707068</td>\n",
       "      <td>0.101122</td>\n",
       "      <td>4.647285</td>\n",
       "      <td>0.008580</td>\n",
       "      <td>4.632797</td>\n",
       "      <td>0.095489</td>\n",
       "      <td>0.022622</td>\n",
       "      <td>0.002052</td>\n",
       "      <td>0.095566</td>\n",
       "      <td>0.093486</td>\n",
       "      <td>...</td>\n",
       "      <td>0.316228</td>\n",
       "      <td>0.0</td>\n",
       "      <td>0.000000</td>\n",
       "      <td>10</td>\n",
       "      <td>0.650088</td>\n",
       "      <td>0.41523</td>\n",
       "      <td>0.024120</td>\n",
       "      <td>0.158760</td>\n",
       "      <td>False</td>\n",
       "      <td>False</td>\n",
       "    </tr>\n",
       "    <tr>\n",
       "      <th>FASHION</th>\n",
       "      <td>4.351071</td>\n",
       "      <td>0.057357</td>\n",
       "      <td>4.613037</td>\n",
       "      <td>0.013606</td>\n",
       "      <td>4.457097</td>\n",
       "      <td>0.054333</td>\n",
       "      <td>0.025383</td>\n",
       "      <td>0.003354</td>\n",
       "      <td>0.101812</td>\n",
       "      <td>0.040492</td>\n",
       "      <td>...</td>\n",
       "      <td>0.000000</td>\n",
       "      <td>0.0</td>\n",
       "      <td>0.000000</td>\n",
       "      <td>10</td>\n",
       "      <td>0.982630</td>\n",
       "      <td>0.89344</td>\n",
       "      <td>0.028654</td>\n",
       "      <td>0.120409</td>\n",
       "      <td>True</td>\n",
       "      <td>False</td>\n",
       "    </tr>\n",
       "    <tr>\n",
       "      <th>MNIST+DROPOUT</th>\n",
       "      <td>4.222384</td>\n",
       "      <td>0.035363</td>\n",
       "      <td>4.711981</td>\n",
       "      <td>0.006176</td>\n",
       "      <td>4.343858</td>\n",
       "      <td>0.025145</td>\n",
       "      <td>0.022634</td>\n",
       "      <td>0.002080</td>\n",
       "      <td>0.027524</td>\n",
       "      <td>0.027864</td>\n",
       "      <td>...</td>\n",
       "      <td>0.000000</td>\n",
       "      <td>1.0</td>\n",
       "      <td>0.000000</td>\n",
       "      <td>10</td>\n",
       "      <td>0.966788</td>\n",
       "      <td>0.97940</td>\n",
       "      <td>0.023463</td>\n",
       "      <td>0.045004</td>\n",
       "      <td>True</td>\n",
       "      <td>True</td>\n",
       "    </tr>\n",
       "    <tr>\n",
       "      <th>CIFAR10+DROPOUT</th>\n",
       "      <td>4.372795</td>\n",
       "      <td>0.159841</td>\n",
       "      <td>4.618436</td>\n",
       "      <td>0.031946</td>\n",
       "      <td>4.465084</td>\n",
       "      <td>0.135004</td>\n",
       "      <td>0.018004</td>\n",
       "      <td>0.004412</td>\n",
       "      <td>0.111580</td>\n",
       "      <td>0.027130</td>\n",
       "      <td>...</td>\n",
       "      <td>0.316228</td>\n",
       "      <td>0.2</td>\n",
       "      <td>0.421637</td>\n",
       "      <td>10</td>\n",
       "      <td>0.427050</td>\n",
       "      <td>0.42189</td>\n",
       "      <td>0.035499</td>\n",
       "      <td>0.171802</td>\n",
       "      <td>False</td>\n",
       "      <td>False</td>\n",
       "    </tr>\n",
       "    <tr>\n",
       "      <th>FASHION+DROPOUT</th>\n",
       "      <td>4.079355</td>\n",
       "      <td>0.046460</td>\n",
       "      <td>4.662912</td>\n",
       "      <td>0.009527</td>\n",
       "      <td>4.239097</td>\n",
       "      <td>0.038359</td>\n",
       "      <td>0.027192</td>\n",
       "      <td>0.003525</td>\n",
       "      <td>0.076729</td>\n",
       "      <td>0.053602</td>\n",
       "      <td>...</td>\n",
       "      <td>0.000000</td>\n",
       "      <td>0.5</td>\n",
       "      <td>0.527046</td>\n",
       "      <td>10</td>\n",
       "      <td>0.863268</td>\n",
       "      <td>0.86921</td>\n",
       "      <td>0.028849</td>\n",
       "      <td>0.098982</td>\n",
       "      <td>True</td>\n",
       "      <td>False</td>\n",
       "    </tr>\n",
       "  </tbody>\n",
       "</table>\n",
       "<p>6 rows × 29 columns</p>\n",
       "</div>"
      ],
      "text/plain": [
       "                 (ncut, mean)  (ncut, std)  (mean_layer, mean)  \\\n",
       "model                                                            \n",
       "MNIST                4.555544     0.051615            4.710170   \n",
       "CIFAR10              4.707068     0.101122            4.647285   \n",
       "FASHION              4.351071     0.057357            4.613037   \n",
       "MNIST+DROPOUT        4.222384     0.035363            4.711981   \n",
       "CIFAR10+DROPOUT      4.372795     0.159841            4.618436   \n",
       "FASHION+DROPOUT      4.079355     0.046460            4.662912   \n",
       "\n",
       "                 (mean_layer, std)  (mean_layer_nonzero, mean)  \\\n",
       "model                                                            \n",
       "MNIST                     0.011655                    4.653256   \n",
       "CIFAR10                   0.008580                    4.632797   \n",
       "FASHION                   0.013606                    4.457097   \n",
       "MNIST+DROPOUT             0.006176                    4.343858   \n",
       "CIFAR10+DROPOUT           0.031946                    4.465084   \n",
       "FASHION+DROPOUT           0.009527                    4.239097   \n",
       "\n",
       "                 (mean_layer_nonzero, std)  (stdev_layer, mean)  \\\n",
       "model                                                             \n",
       "MNIST                             0.053716             0.023541   \n",
       "CIFAR10                           0.095489             0.022622   \n",
       "FASHION                           0.054333             0.025383   \n",
       "MNIST+DROPOUT                     0.025145             0.022634   \n",
       "CIFAR10+DROPOUT                   0.135004             0.018004   \n",
       "FASHION+DROPOUT                   0.038359             0.027192   \n",
       "\n",
       "                 (stdev_layer, std)  (stdev_layer_nonzero, mean)  \\\n",
       "model                                                              \n",
       "MNIST                      0.003714                     0.054891   \n",
       "CIFAR10                    0.002052                     0.095566   \n",
       "FASHION                    0.003354                     0.101812   \n",
       "MNIST+DROPOUT              0.002080                     0.027524   \n",
       "CIFAR10+DROPOUT            0.004412                     0.111580   \n",
       "FASHION+DROPOUT            0.003525                     0.076729   \n",
       "\n",
       "                 (stdev_layer_nonzero, std)  ...  (is_sig_layer, std)  \\\n",
       "model                                        ...                        \n",
       "MNIST                              0.035851  ...             0.000000   \n",
       "CIFAR10                            0.093486  ...             0.316228   \n",
       "FASHION                            0.040492  ...             0.000000   \n",
       "MNIST+DROPOUT                      0.027864  ...             0.000000   \n",
       "CIFAR10+DROPOUT                    0.027130  ...             0.316228   \n",
       "FASHION+DROPOUT                    0.053602  ...             0.000000   \n",
       "\n",
       "                 (is_sig_layer_nonzero, mean)  (is_sig_layer_nonzero, std)  \\\n",
       "model                                                                        \n",
       "MNIST                                     0.6                     0.516398   \n",
       "CIFAR10                                   0.0                     0.000000   \n",
       "FASHION                                   0.0                     0.000000   \n",
       "MNIST+DROPOUT                             1.0                     0.000000   \n",
       "CIFAR10+DROPOUT                           0.2                     0.421637   \n",
       "FASHION+DROPOUT                           0.5                     0.527046   \n",
       "\n",
       "                 n_models  train_acc  test_acc  overall_std_layer  \\\n",
       "model                                                               \n",
       "MNIST                  10   1.000000   0.98357           0.026246   \n",
       "CIFAR10                10   0.650088   0.41523           0.024120   \n",
       "FASHION                10   0.982630   0.89344           0.028654   \n",
       "MNIST+DROPOUT          10   0.966788   0.97940           0.023463   \n",
       "CIFAR10+DROPOUT        10   0.427050   0.42189           0.035499   \n",
       "FASHION+DROPOUT        10   0.863268   0.86921           0.028849   \n",
       "\n",
       "                 overall_std_layer_nonzero  is_stable_layer  \\\n",
       "model                                                         \n",
       "MNIST                             0.082259             True   \n",
       "CIFAR10                           0.158760            False   \n",
       "FASHION                           0.120409             True   \n",
       "MNIST+DROPOUT                     0.045004             True   \n",
       "CIFAR10+DROPOUT                   0.171802            False   \n",
       "FASHION+DROPOUT                   0.098982             True   \n",
       "\n",
       "                 is_stable_layer_nonzero  \n",
       "model                                     \n",
       "MNIST                              False  \n",
       "CIFAR10                            False  \n",
       "FASHION                            False  \n",
       "MNIST+DROPOUT                       True  \n",
       "CIFAR10+DROPOUT                    False  \n",
       "FASHION+DROPOUT                    False  \n",
       "\n",
       "[6 rows x 29 columns]"
      ]
     },
     "execution_count": 18,
     "metadata": {},
     "output_type": "execute_result"
    }
   ],
   "source": [
    "statistics_df"
   ]
  },
  {
   "cell_type": "code",
   "execution_count": 19,
   "metadata": {
    "papermill": {
     "duration": 0.436506,
     "end_time": "2020-05-27T19:12:00.270970",
     "exception": false,
     "start_time": "2020-05-27T19:11:59.834464",
     "status": "completed"
    },
    "tags": []
   },
   "outputs": [],
   "source": [
    "df.to_csv(f'../results/mlp-clustering-stability-two-shuffling-methods-all-samples-K-{N_CLUSTERS}.csv')\n",
    "statistics_df.to_csv(f'../results/mlp-clustering-stability-two-shuffling-methods-statistics-K-{N_CLUSTERS}.csv')"
   ]
  },
  {
   "cell_type": "markdown",
   "metadata": {
    "papermill": {
     "duration": 5.28372,
     "end_time": "2020-05-27T19:12:05.792725",
     "exception": false,
     "start_time": "2020-05-27T19:12:00.509005",
     "status": "completed"
    },
    "tags": []
   },
   "source": [
    "### Model Stability Statistics"
   ]
  },
  {
   "cell_type": "code",
   "execution_count": 20,
   "metadata": {
    "papermill": {
     "duration": 0.261036,
     "end_time": "2020-05-27T19:12:06.231350",
     "exception": false,
     "start_time": "2020-05-27T19:12:05.970314",
     "status": "completed"
    },
    "tags": []
   },
   "outputs": [
    {
     "data": {
      "text/html": [
       "<div>\n",
       "<style scoped>\n",
       "    .dataframe tbody tr th:only-of-type {\n",
       "        vertical-align: middle;\n",
       "    }\n",
       "\n",
       "    .dataframe tbody tr th {\n",
       "        vertical-align: top;\n",
       "    }\n",
       "\n",
       "    .dataframe thead th {\n",
       "        text-align: right;\n",
       "    }\n",
       "</style>\n",
       "<table border=\"1\" class=\"dataframe\">\n",
       "  <thead>\n",
       "    <tr style=\"text-align: right;\">\n",
       "      <th></th>\n",
       "      <th>(ncut, mean)</th>\n",
       "      <th>(ncut, std)</th>\n",
       "      <th>(mean_layer, mean)</th>\n",
       "      <th>(mean_layer, std)</th>\n",
       "      <th>(mean_layer_nonzero, mean)</th>\n",
       "      <th>(mean_layer_nonzero, std)</th>\n",
       "      <th>(stdev_layer, mean)</th>\n",
       "      <th>(stdev_layer, std)</th>\n",
       "      <th>(stdev_layer_nonzero, mean)</th>\n",
       "      <th>(stdev_layer_nonzero, std)</th>\n",
       "      <th>...</th>\n",
       "      <th>(is_sig_layer, std)</th>\n",
       "      <th>(is_sig_layer_nonzero, mean)</th>\n",
       "      <th>(is_sig_layer_nonzero, std)</th>\n",
       "      <th>n_models</th>\n",
       "      <th>train_acc</th>\n",
       "      <th>test_acc</th>\n",
       "      <th>overall_std_layer</th>\n",
       "      <th>overall_std_layer_nonzero</th>\n",
       "      <th>is_stable_layer</th>\n",
       "      <th>is_stable_layer_nonzero</th>\n",
       "    </tr>\n",
       "    <tr>\n",
       "      <th>model</th>\n",
       "      <th></th>\n",
       "      <th></th>\n",
       "      <th></th>\n",
       "      <th></th>\n",
       "      <th></th>\n",
       "      <th></th>\n",
       "      <th></th>\n",
       "      <th></th>\n",
       "      <th></th>\n",
       "      <th></th>\n",
       "      <th></th>\n",
       "      <th></th>\n",
       "      <th></th>\n",
       "      <th></th>\n",
       "      <th></th>\n",
       "      <th></th>\n",
       "      <th></th>\n",
       "      <th></th>\n",
       "      <th></th>\n",
       "      <th></th>\n",
       "      <th></th>\n",
       "    </tr>\n",
       "  </thead>\n",
       "  <tbody>\n",
       "    <tr>\n",
       "      <th>MNIST</th>\n",
       "      <td>4.555544</td>\n",
       "      <td>0.051615</td>\n",
       "      <td>4.710170</td>\n",
       "      <td>0.011655</td>\n",
       "      <td>4.653256</td>\n",
       "      <td>0.053716</td>\n",
       "      <td>0.023541</td>\n",
       "      <td>0.003714</td>\n",
       "      <td>0.054891</td>\n",
       "      <td>0.035851</td>\n",
       "      <td>...</td>\n",
       "      <td>0.000000</td>\n",
       "      <td>0.6</td>\n",
       "      <td>0.516398</td>\n",
       "      <td>10</td>\n",
       "      <td>1.000000</td>\n",
       "      <td>0.98357</td>\n",
       "      <td>0.026246</td>\n",
       "      <td>0.082259</td>\n",
       "      <td>True</td>\n",
       "      <td>False</td>\n",
       "    </tr>\n",
       "    <tr>\n",
       "      <th>CIFAR10</th>\n",
       "      <td>4.707068</td>\n",
       "      <td>0.101122</td>\n",
       "      <td>4.647285</td>\n",
       "      <td>0.008580</td>\n",
       "      <td>4.632797</td>\n",
       "      <td>0.095489</td>\n",
       "      <td>0.022622</td>\n",
       "      <td>0.002052</td>\n",
       "      <td>0.095566</td>\n",
       "      <td>0.093486</td>\n",
       "      <td>...</td>\n",
       "      <td>0.316228</td>\n",
       "      <td>0.0</td>\n",
       "      <td>0.000000</td>\n",
       "      <td>10</td>\n",
       "      <td>0.650088</td>\n",
       "      <td>0.41523</td>\n",
       "      <td>0.024120</td>\n",
       "      <td>0.158760</td>\n",
       "      <td>False</td>\n",
       "      <td>False</td>\n",
       "    </tr>\n",
       "    <tr>\n",
       "      <th>FASHION</th>\n",
       "      <td>4.351071</td>\n",
       "      <td>0.057357</td>\n",
       "      <td>4.613037</td>\n",
       "      <td>0.013606</td>\n",
       "      <td>4.457097</td>\n",
       "      <td>0.054333</td>\n",
       "      <td>0.025383</td>\n",
       "      <td>0.003354</td>\n",
       "      <td>0.101812</td>\n",
       "      <td>0.040492</td>\n",
       "      <td>...</td>\n",
       "      <td>0.000000</td>\n",
       "      <td>0.0</td>\n",
       "      <td>0.000000</td>\n",
       "      <td>10</td>\n",
       "      <td>0.982630</td>\n",
       "      <td>0.89344</td>\n",
       "      <td>0.028654</td>\n",
       "      <td>0.120409</td>\n",
       "      <td>True</td>\n",
       "      <td>False</td>\n",
       "    </tr>\n",
       "    <tr>\n",
       "      <th>MNIST+DROPOUT</th>\n",
       "      <td>4.222384</td>\n",
       "      <td>0.035363</td>\n",
       "      <td>4.711981</td>\n",
       "      <td>0.006176</td>\n",
       "      <td>4.343858</td>\n",
       "      <td>0.025145</td>\n",
       "      <td>0.022634</td>\n",
       "      <td>0.002080</td>\n",
       "      <td>0.027524</td>\n",
       "      <td>0.027864</td>\n",
       "      <td>...</td>\n",
       "      <td>0.000000</td>\n",
       "      <td>1.0</td>\n",
       "      <td>0.000000</td>\n",
       "      <td>10</td>\n",
       "      <td>0.966788</td>\n",
       "      <td>0.97940</td>\n",
       "      <td>0.023463</td>\n",
       "      <td>0.045004</td>\n",
       "      <td>True</td>\n",
       "      <td>True</td>\n",
       "    </tr>\n",
       "    <tr>\n",
       "      <th>CIFAR10+DROPOUT</th>\n",
       "      <td>4.372795</td>\n",
       "      <td>0.159841</td>\n",
       "      <td>4.618436</td>\n",
       "      <td>0.031946</td>\n",
       "      <td>4.465084</td>\n",
       "      <td>0.135004</td>\n",
       "      <td>0.018004</td>\n",
       "      <td>0.004412</td>\n",
       "      <td>0.111580</td>\n",
       "      <td>0.027130</td>\n",
       "      <td>...</td>\n",
       "      <td>0.316228</td>\n",
       "      <td>0.2</td>\n",
       "      <td>0.421637</td>\n",
       "      <td>10</td>\n",
       "      <td>0.427050</td>\n",
       "      <td>0.42189</td>\n",
       "      <td>0.035499</td>\n",
       "      <td>0.171802</td>\n",
       "      <td>False</td>\n",
       "      <td>False</td>\n",
       "    </tr>\n",
       "    <tr>\n",
       "      <th>FASHION+DROPOUT</th>\n",
       "      <td>4.079355</td>\n",
       "      <td>0.046460</td>\n",
       "      <td>4.662912</td>\n",
       "      <td>0.009527</td>\n",
       "      <td>4.239097</td>\n",
       "      <td>0.038359</td>\n",
       "      <td>0.027192</td>\n",
       "      <td>0.003525</td>\n",
       "      <td>0.076729</td>\n",
       "      <td>0.053602</td>\n",
       "      <td>...</td>\n",
       "      <td>0.000000</td>\n",
       "      <td>0.5</td>\n",
       "      <td>0.527046</td>\n",
       "      <td>10</td>\n",
       "      <td>0.863268</td>\n",
       "      <td>0.86921</td>\n",
       "      <td>0.028849</td>\n",
       "      <td>0.098982</td>\n",
       "      <td>True</td>\n",
       "      <td>False</td>\n",
       "    </tr>\n",
       "  </tbody>\n",
       "</table>\n",
       "<p>6 rows × 29 columns</p>\n",
       "</div>"
      ],
      "text/plain": [
       "                 (ncut, mean)  (ncut, std)  (mean_layer, mean)  \\\n",
       "model                                                            \n",
       "MNIST                4.555544     0.051615            4.710170   \n",
       "CIFAR10              4.707068     0.101122            4.647285   \n",
       "FASHION              4.351071     0.057357            4.613037   \n",
       "MNIST+DROPOUT        4.222384     0.035363            4.711981   \n",
       "CIFAR10+DROPOUT      4.372795     0.159841            4.618436   \n",
       "FASHION+DROPOUT      4.079355     0.046460            4.662912   \n",
       "\n",
       "                 (mean_layer, std)  (mean_layer_nonzero, mean)  \\\n",
       "model                                                            \n",
       "MNIST                     0.011655                    4.653256   \n",
       "CIFAR10                   0.008580                    4.632797   \n",
       "FASHION                   0.013606                    4.457097   \n",
       "MNIST+DROPOUT             0.006176                    4.343858   \n",
       "CIFAR10+DROPOUT           0.031946                    4.465084   \n",
       "FASHION+DROPOUT           0.009527                    4.239097   \n",
       "\n",
       "                 (mean_layer_nonzero, std)  (stdev_layer, mean)  \\\n",
       "model                                                             \n",
       "MNIST                             0.053716             0.023541   \n",
       "CIFAR10                           0.095489             0.022622   \n",
       "FASHION                           0.054333             0.025383   \n",
       "MNIST+DROPOUT                     0.025145             0.022634   \n",
       "CIFAR10+DROPOUT                   0.135004             0.018004   \n",
       "FASHION+DROPOUT                   0.038359             0.027192   \n",
       "\n",
       "                 (stdev_layer, std)  (stdev_layer_nonzero, mean)  \\\n",
       "model                                                              \n",
       "MNIST                      0.003714                     0.054891   \n",
       "CIFAR10                    0.002052                     0.095566   \n",
       "FASHION                    0.003354                     0.101812   \n",
       "MNIST+DROPOUT              0.002080                     0.027524   \n",
       "CIFAR10+DROPOUT            0.004412                     0.111580   \n",
       "FASHION+DROPOUT            0.003525                     0.076729   \n",
       "\n",
       "                 (stdev_layer_nonzero, std)  ...  (is_sig_layer, std)  \\\n",
       "model                                        ...                        \n",
       "MNIST                              0.035851  ...             0.000000   \n",
       "CIFAR10                            0.093486  ...             0.316228   \n",
       "FASHION                            0.040492  ...             0.000000   \n",
       "MNIST+DROPOUT                      0.027864  ...             0.000000   \n",
       "CIFAR10+DROPOUT                    0.027130  ...             0.316228   \n",
       "FASHION+DROPOUT                    0.053602  ...             0.000000   \n",
       "\n",
       "                 (is_sig_layer_nonzero, mean)  (is_sig_layer_nonzero, std)  \\\n",
       "model                                                                        \n",
       "MNIST                                     0.6                     0.516398   \n",
       "CIFAR10                                   0.0                     0.000000   \n",
       "FASHION                                   0.0                     0.000000   \n",
       "MNIST+DROPOUT                             1.0                     0.000000   \n",
       "CIFAR10+DROPOUT                           0.2                     0.421637   \n",
       "FASHION+DROPOUT                           0.5                     0.527046   \n",
       "\n",
       "                 n_models  train_acc  test_acc  overall_std_layer  \\\n",
       "model                                                               \n",
       "MNIST                  10   1.000000   0.98357           0.026246   \n",
       "CIFAR10                10   0.650088   0.41523           0.024120   \n",
       "FASHION                10   0.982630   0.89344           0.028654   \n",
       "MNIST+DROPOUT          10   0.966788   0.97940           0.023463   \n",
       "CIFAR10+DROPOUT        10   0.427050   0.42189           0.035499   \n",
       "FASHION+DROPOUT        10   0.863268   0.86921           0.028849   \n",
       "\n",
       "                 overall_std_layer_nonzero  is_stable_layer  \\\n",
       "model                                                         \n",
       "MNIST                             0.082259             True   \n",
       "CIFAR10                           0.158760            False   \n",
       "FASHION                           0.120409             True   \n",
       "MNIST+DROPOUT                     0.045004             True   \n",
       "CIFAR10+DROPOUT                   0.171802            False   \n",
       "FASHION+DROPOUT                   0.098982             True   \n",
       "\n",
       "                 is_stable_layer_nonzero  \n",
       "model                                     \n",
       "MNIST                              False  \n",
       "CIFAR10                            False  \n",
       "FASHION                            False  \n",
       "MNIST+DROPOUT                       True  \n",
       "CIFAR10+DROPOUT                    False  \n",
       "FASHION+DROPOUT                    False  \n",
       "\n",
       "[6 rows x 29 columns]"
      ]
     },
     "execution_count": 20,
     "metadata": {},
     "output_type": "execute_result"
    }
   ],
   "source": [
    "statistics_df"
   ]
  },
  {
   "cell_type": "markdown",
   "metadata": {
    "papermill": {
     "duration": 0.172371,
     "end_time": "2020-05-27T19:12:06.601790",
     "exception": false,
     "start_time": "2020-05-27T19:12:06.429419",
     "status": "completed"
    },
    "tags": []
   },
   "source": [
    "### Appendix - All Samples"
   ]
  },
  {
   "cell_type": "code",
   "execution_count": 21,
   "metadata": {
    "papermill": {
     "duration": 0.240147,
     "end_time": "2020-05-27T19:12:06.991610",
     "exception": false,
     "start_time": "2020-05-27T19:12:06.751463",
     "status": "completed"
    },
    "tags": []
   },
   "outputs": [
    {
     "data": {
      "text/html": [
       "<div>\n",
       "<style scoped>\n",
       "    .dataframe tbody tr th:only-of-type {\n",
       "        vertical-align: middle;\n",
       "    }\n",
       "\n",
       "    .dataframe tbody tr th {\n",
       "        vertical-align: top;\n",
       "    }\n",
       "\n",
       "    .dataframe thead th {\n",
       "        text-align: right;\n",
       "    }\n",
       "</style>\n",
       "<table border=\"1\" class=\"dataframe\">\n",
       "  <thead>\n",
       "    <tr style=\"text-align: right;\">\n",
       "      <th></th>\n",
       "      <th>model</th>\n",
       "      <th>train_acc</th>\n",
       "      <th>train_loss</th>\n",
       "      <th>test_acc</th>\n",
       "      <th>test_loss</th>\n",
       "      <th>ncut</th>\n",
       "      <th>ave_in_out</th>\n",
       "      <th>n_samples</th>\n",
       "      <th>mean_layer</th>\n",
       "      <th>percentile_layer</th>\n",
       "      <th>stdev_layer</th>\n",
       "      <th>z_score_layer</th>\n",
       "      <th>is_sig_layer</th>\n",
       "      <th>mean_layer_nonzero</th>\n",
       "      <th>percentile_layer_nonzero</th>\n",
       "      <th>stdev_layer_nonzero</th>\n",
       "      <th>z_score_layer_nonzero</th>\n",
       "      <th>is_sig_layer_nonzero</th>\n",
       "      <th>cohen_d</th>\n",
       "    </tr>\n",
       "  </thead>\n",
       "  <tbody>\n",
       "    <tr>\n",
       "      <th>0</th>\n",
       "      <td>MNIST</td>\n",
       "      <td>1.000000</td>\n",
       "      <td>0.000048</td>\n",
       "      <td>0.9835</td>\n",
       "      <td>0.095332</td>\n",
       "      <td>4.634377</td>\n",
       "      <td>0.255226</td>\n",
       "      <td>320</td>\n",
       "      <td>4.701298</td>\n",
       "      <td>0.003115</td>\n",
       "      <td>0.015993</td>\n",
       "      <td>-4.184349</td>\n",
       "      <td>True</td>\n",
       "      <td>4.649677</td>\n",
       "      <td>0.376947</td>\n",
       "      <td>0.047088</td>\n",
       "      <td>-0.324925</td>\n",
       "      <td>False</td>\n",
       "      <td>0.771166</td>\n",
       "    </tr>\n",
       "    <tr>\n",
       "      <th>1</th>\n",
       "      <td>MNIST</td>\n",
       "      <td>1.000000</td>\n",
       "      <td>0.000056</td>\n",
       "      <td>0.9847</td>\n",
       "      <td>0.090697</td>\n",
       "      <td>4.545577</td>\n",
       "      <td>0.269979</td>\n",
       "      <td>320</td>\n",
       "      <td>4.707760</td>\n",
       "      <td>0.003115</td>\n",
       "      <td>0.024822</td>\n",
       "      <td>-6.533918</td>\n",
       "      <td>True</td>\n",
       "      <td>4.693166</td>\n",
       "      <td>0.003115</td>\n",
       "      <td>0.058114</td>\n",
       "      <td>-2.539635</td>\n",
       "      <td>True</td>\n",
       "      <td>0.732510</td>\n",
       "    </tr>\n",
       "    <tr>\n",
       "      <th>2</th>\n",
       "      <td>MNIST</td>\n",
       "      <td>1.000000</td>\n",
       "      <td>0.000059</td>\n",
       "      <td>0.9830</td>\n",
       "      <td>0.099833</td>\n",
       "      <td>4.473643</td>\n",
       "      <td>0.282360</td>\n",
       "      <td>320</td>\n",
       "      <td>4.704236</td>\n",
       "      <td>0.003115</td>\n",
       "      <td>0.026848</td>\n",
       "      <td>-8.588974</td>\n",
       "      <td>True</td>\n",
       "      <td>4.560108</td>\n",
       "      <td>0.003115</td>\n",
       "      <td>0.024097</td>\n",
       "      <td>-3.588255</td>\n",
       "      <td>True</td>\n",
       "      <td>0.873361</td>\n",
       "    </tr>\n",
       "    <tr>\n",
       "      <th>3</th>\n",
       "      <td>MNIST</td>\n",
       "      <td>1.000000</td>\n",
       "      <td>0.000062</td>\n",
       "      <td>0.9828</td>\n",
       "      <td>0.099546</td>\n",
       "      <td>4.559476</td>\n",
       "      <td>0.267632</td>\n",
       "      <td>320</td>\n",
       "      <td>4.701830</td>\n",
       "      <td>0.003115</td>\n",
       "      <td>0.024402</td>\n",
       "      <td>-5.833708</td>\n",
       "      <td>True</td>\n",
       "      <td>4.619620</td>\n",
       "      <td>0.065421</td>\n",
       "      <td>0.038410</td>\n",
       "      <td>-1.565863</td>\n",
       "      <td>False</td>\n",
       "      <td>0.804074</td>\n",
       "    </tr>\n",
       "    <tr>\n",
       "      <th>4</th>\n",
       "      <td>MNIST</td>\n",
       "      <td>1.000000</td>\n",
       "      <td>0.000081</td>\n",
       "      <td>0.9845</td>\n",
       "      <td>0.097756</td>\n",
       "      <td>4.610962</td>\n",
       "      <td>0.259061</td>\n",
       "      <td>320</td>\n",
       "      <td>4.724072</td>\n",
       "      <td>0.003115</td>\n",
       "      <td>0.019739</td>\n",
       "      <td>-5.730319</td>\n",
       "      <td>True</td>\n",
       "      <td>4.675526</td>\n",
       "      <td>0.283489</td>\n",
       "      <td>0.080500</td>\n",
       "      <td>-0.802033</td>\n",
       "      <td>False</td>\n",
       "      <td>0.679664</td>\n",
       "    </tr>\n",
       "    <tr>\n",
       "      <th>5</th>\n",
       "      <td>MNIST</td>\n",
       "      <td>1.000000</td>\n",
       "      <td>0.000048</td>\n",
       "      <td>0.9835</td>\n",
       "      <td>0.095626</td>\n",
       "      <td>4.498175</td>\n",
       "      <td>0.278093</td>\n",
       "      <td>320</td>\n",
       "      <td>4.726294</td>\n",
       "      <td>0.003115</td>\n",
       "      <td>0.021361</td>\n",
       "      <td>-10.679443</td>\n",
       "      <td>True</td>\n",
       "      <td>4.649077</td>\n",
       "      <td>0.003115</td>\n",
       "      <td>0.038872</td>\n",
       "      <td>-3.881992</td>\n",
       "      <td>True</td>\n",
       "      <td>0.803786</td>\n",
       "    </tr>\n",
       "    <tr>\n",
       "      <th>6</th>\n",
       "      <td>MNIST</td>\n",
       "      <td>1.000000</td>\n",
       "      <td>0.000056</td>\n",
       "      <td>0.9838</td>\n",
       "      <td>0.087238</td>\n",
       "      <td>4.514373</td>\n",
       "      <td>0.275301</td>\n",
       "      <td>320</td>\n",
       "      <td>4.695680</td>\n",
       "      <td>0.003115</td>\n",
       "      <td>0.024391</td>\n",
       "      <td>-7.433439</td>\n",
       "      <td>True</td>\n",
       "      <td>4.704034</td>\n",
       "      <td>0.003115</td>\n",
       "      <td>0.145137</td>\n",
       "      <td>-1.306768</td>\n",
       "      <td>True</td>\n",
       "      <td>0.562472</td>\n",
       "    </tr>\n",
       "    <tr>\n",
       "      <th>7</th>\n",
       "      <td>MNIST</td>\n",
       "      <td>1.000000</td>\n",
       "      <td>0.000061</td>\n",
       "      <td>0.9838</td>\n",
       "      <td>0.100444</td>\n",
       "      <td>4.592311</td>\n",
       "      <td>0.262143</td>\n",
       "      <td>320</td>\n",
       "      <td>4.716121</td>\n",
       "      <td>0.003115</td>\n",
       "      <td>0.022920</td>\n",
       "      <td>-5.401807</td>\n",
       "      <td>True</td>\n",
       "      <td>4.707152</td>\n",
       "      <td>0.003115</td>\n",
       "      <td>0.055481</td>\n",
       "      <td>-2.069906</td>\n",
       "      <td>True</td>\n",
       "      <td>0.740625</td>\n",
       "    </tr>\n",
       "    <tr>\n",
       "      <th>8</th>\n",
       "      <td>MNIST</td>\n",
       "      <td>1.000000</td>\n",
       "      <td>0.000047</td>\n",
       "      <td>0.9828</td>\n",
       "      <td>0.093142</td>\n",
       "      <td>4.536716</td>\n",
       "      <td>0.271483</td>\n",
       "      <td>320</td>\n",
       "      <td>4.699434</td>\n",
       "      <td>0.003115</td>\n",
       "      <td>0.028623</td>\n",
       "      <td>-5.684835</td>\n",
       "      <td>True</td>\n",
       "      <td>4.573713</td>\n",
       "      <td>0.065421</td>\n",
       "      <td>0.026173</td>\n",
       "      <td>-1.413515</td>\n",
       "      <td>False</td>\n",
       "      <td>0.860314</td>\n",
       "    </tr>\n",
       "    <tr>\n",
       "      <th>9</th>\n",
       "      <td>MNIST</td>\n",
       "      <td>1.000000</td>\n",
       "      <td>0.000049</td>\n",
       "      <td>0.9833</td>\n",
       "      <td>0.102283</td>\n",
       "      <td>4.589832</td>\n",
       "      <td>0.262555</td>\n",
       "      <td>320</td>\n",
       "      <td>4.724979</td>\n",
       "      <td>0.003115</td>\n",
       "      <td>0.026312</td>\n",
       "      <td>-5.136238</td>\n",
       "      <td>True</td>\n",
       "      <td>4.700492</td>\n",
       "      <td>0.003115</td>\n",
       "      <td>0.035032</td>\n",
       "      <td>-3.158842</td>\n",
       "      <td>True</td>\n",
       "      <td>0.811677</td>\n",
       "    </tr>\n",
       "    <tr>\n",
       "      <th>10</th>\n",
       "      <td>CIFAR10</td>\n",
       "      <td>0.647020</td>\n",
       "      <td>0.982019</td>\n",
       "      <td>0.4164</td>\n",
       "      <td>2.009407</td>\n",
       "      <td>4.642482</td>\n",
       "      <td>0.253907</td>\n",
       "      <td>320</td>\n",
       "      <td>4.651311</td>\n",
       "      <td>0.283489</td>\n",
       "      <td>0.021092</td>\n",
       "      <td>-0.418548</td>\n",
       "      <td>False</td>\n",
       "      <td>4.627100</td>\n",
       "      <td>0.657321</td>\n",
       "      <td>0.035171</td>\n",
       "      <td>0.437368</td>\n",
       "      <td>False</td>\n",
       "      <td>0.807653</td>\n",
       "    </tr>\n",
       "    <tr>\n",
       "      <th>11</th>\n",
       "      <td>CIFAR10</td>\n",
       "      <td>0.655260</td>\n",
       "      <td>0.968012</td>\n",
       "      <td>0.4196</td>\n",
       "      <td>2.009614</td>\n",
       "      <td>4.684847</td>\n",
       "      <td>0.247089</td>\n",
       "      <td>320</td>\n",
       "      <td>4.650236</td>\n",
       "      <td>0.937695</td>\n",
       "      <td>0.025492</td>\n",
       "      <td>1.357749</td>\n",
       "      <td>False</td>\n",
       "      <td>4.661016</td>\n",
       "      <td>0.844237</td>\n",
       "      <td>0.021639</td>\n",
       "      <td>1.101274</td>\n",
       "      <td>False</td>\n",
       "      <td>0.861354</td>\n",
       "    </tr>\n",
       "    <tr>\n",
       "      <th>12</th>\n",
       "      <td>CIFAR10</td>\n",
       "      <td>0.645800</td>\n",
       "      <td>0.993128</td>\n",
       "      <td>0.4085</td>\n",
       "      <td>2.026656</td>\n",
       "      <td>4.707837</td>\n",
       "      <td>0.243441</td>\n",
       "      <td>320</td>\n",
       "      <td>4.645114</td>\n",
       "      <td>1.000000</td>\n",
       "      <td>0.022708</td>\n",
       "      <td>2.762088</td>\n",
       "      <td>False</td>\n",
       "      <td>4.455268</td>\n",
       "      <td>0.813084</td>\n",
       "      <td>0.229422</td>\n",
       "      <td>1.100890</td>\n",
       "      <td>False</td>\n",
       "      <td>0.477315</td>\n",
       "    </tr>\n",
       "    <tr>\n",
       "      <th>13</th>\n",
       "      <td>CIFAR10</td>\n",
       "      <td>0.645580</td>\n",
       "      <td>0.992089</td>\n",
       "      <td>0.4107</td>\n",
       "      <td>2.004410</td>\n",
       "      <td>4.899453</td>\n",
       "      <td>0.214365</td>\n",
       "      <td>320</td>\n",
       "      <td>4.642184</td>\n",
       "      <td>1.000000</td>\n",
       "      <td>0.026820</td>\n",
       "      <td>9.592570</td>\n",
       "      <td>False</td>\n",
       "      <td>4.543834</td>\n",
       "      <td>0.906542</td>\n",
       "      <td>0.275066</td>\n",
       "      <td>1.292851</td>\n",
       "      <td>False</td>\n",
       "      <td>0.441552</td>\n",
       "    </tr>\n",
       "    <tr>\n",
       "      <th>14</th>\n",
       "      <td>CIFAR10</td>\n",
       "      <td>0.654440</td>\n",
       "      <td>0.964225</td>\n",
       "      <td>0.4239</td>\n",
       "      <td>1.981631</td>\n",
       "      <td>4.665183</td>\n",
       "      <td>0.250239</td>\n",
       "      <td>320</td>\n",
       "      <td>4.661804</td>\n",
       "      <td>0.626168</td>\n",
       "      <td>0.022730</td>\n",
       "      <td>0.148670</td>\n",
       "      <td>False</td>\n",
       "      <td>4.659816</td>\n",
       "      <td>0.688474</td>\n",
       "      <td>0.040235</td>\n",
       "      <td>0.133388</td>\n",
       "      <td>False</td>\n",
       "      <td>0.786371</td>\n",
       "    </tr>\n",
       "    <tr>\n",
       "      <th>15</th>\n",
       "      <td>CIFAR10</td>\n",
       "      <td>0.652180</td>\n",
       "      <td>0.973041</td>\n",
       "      <td>0.4111</td>\n",
       "      <td>2.053139</td>\n",
       "      <td>4.607653</td>\n",
       "      <td>0.259606</td>\n",
       "      <td>320</td>\n",
       "      <td>4.642464</td>\n",
       "      <td>0.003115</td>\n",
       "      <td>0.020119</td>\n",
       "      <td>-1.730251</td>\n",
       "      <td>True</td>\n",
       "      <td>4.649237</td>\n",
       "      <td>0.158879</td>\n",
       "      <td>0.082284</td>\n",
       "      <td>-0.505372</td>\n",
       "      <td>False</td>\n",
       "      <td>0.665548</td>\n",
       "    </tr>\n",
       "    <tr>\n",
       "      <th>16</th>\n",
       "      <td>CIFAR10</td>\n",
       "      <td>0.644540</td>\n",
       "      <td>0.994267</td>\n",
       "      <td>0.4178</td>\n",
       "      <td>1.984371</td>\n",
       "      <td>4.632842</td>\n",
       "      <td>0.255476</td>\n",
       "      <td>320</td>\n",
       "      <td>4.651849</td>\n",
       "      <td>0.283489</td>\n",
       "      <td>0.021893</td>\n",
       "      <td>-0.868169</td>\n",
       "      <td>False</td>\n",
       "      <td>4.600624</td>\n",
       "      <td>0.937695</td>\n",
       "      <td>0.036748</td>\n",
       "      <td>0.876729</td>\n",
       "      <td>False</td>\n",
       "      <td>0.804409</td>\n",
       "    </tr>\n",
       "    <tr>\n",
       "      <th>17</th>\n",
       "      <td>CIFAR10</td>\n",
       "      <td>0.651840</td>\n",
       "      <td>0.974107</td>\n",
       "      <td>0.4177</td>\n",
       "      <td>1.981042</td>\n",
       "      <td>4.677363</td>\n",
       "      <td>0.248285</td>\n",
       "      <td>320</td>\n",
       "      <td>4.654959</td>\n",
       "      <td>0.781931</td>\n",
       "      <td>0.022470</td>\n",
       "      <td>0.997055</td>\n",
       "      <td>False</td>\n",
       "      <td>4.647135</td>\n",
       "      <td>0.937695</td>\n",
       "      <td>0.020742</td>\n",
       "      <td>1.457346</td>\n",
       "      <td>False</td>\n",
       "      <td>0.869134</td>\n",
       "    </tr>\n",
       "    <tr>\n",
       "      <th>18</th>\n",
       "      <td>CIFAR10</td>\n",
       "      <td>0.643280</td>\n",
       "      <td>0.998221</td>\n",
       "      <td>0.4150</td>\n",
       "      <td>2.007964</td>\n",
       "      <td>4.882997</td>\n",
       "      <td>0.216773</td>\n",
       "      <td>320</td>\n",
       "      <td>4.631036</td>\n",
       "      <td>1.000000</td>\n",
       "      <td>0.021674</td>\n",
       "      <td>11.625097</td>\n",
       "      <td>False</td>\n",
       "      <td>4.830639</td>\n",
       "      <td>0.563863</td>\n",
       "      <td>0.165660</td>\n",
       "      <td>0.316056</td>\n",
       "      <td>False</td>\n",
       "      <td>0.526016</td>\n",
       "    </tr>\n",
       "    <tr>\n",
       "      <th>19</th>\n",
       "      <td>CIFAR10</td>\n",
       "      <td>0.660940</td>\n",
       "      <td>0.956555</td>\n",
       "      <td>0.4116</td>\n",
       "      <td>2.029548</td>\n",
       "      <td>4.670019</td>\n",
       "      <td>0.249462</td>\n",
       "      <td>320</td>\n",
       "      <td>4.641896</td>\n",
       "      <td>0.844237</td>\n",
       "      <td>0.021222</td>\n",
       "      <td>1.325164</td>\n",
       "      <td>False</td>\n",
       "      <td>4.653300</td>\n",
       "      <td>0.657321</td>\n",
       "      <td>0.048693</td>\n",
       "      <td>0.343355</td>\n",
       "      <td>False</td>\n",
       "      <td>0.754922</td>\n",
       "    </tr>\n",
       "    <tr>\n",
       "      <th>20</th>\n",
       "      <td>FASHION</td>\n",
       "      <td>0.982533</td>\n",
       "      <td>0.049309</td>\n",
       "      <td>0.8937</td>\n",
       "      <td>0.532207</td>\n",
       "      <td>4.308516</td>\n",
       "      <td>0.312345</td>\n",
       "      <td>320</td>\n",
       "      <td>4.627097</td>\n",
       "      <td>0.003115</td>\n",
       "      <td>0.021872</td>\n",
       "      <td>-14.565709</td>\n",
       "      <td>True</td>\n",
       "      <td>4.490250</td>\n",
       "      <td>0.065421</td>\n",
       "      <td>0.161611</td>\n",
       "      <td>-1.124516</td>\n",
       "      <td>False</td>\n",
       "      <td>0.541629</td>\n",
       "    </tr>\n",
       "    <tr>\n",
       "      <th>21</th>\n",
       "      <td>FASHION</td>\n",
       "      <td>0.982217</td>\n",
       "      <td>0.049195</td>\n",
       "      <td>0.8939</td>\n",
       "      <td>0.526313</td>\n",
       "      <td>4.264402</td>\n",
       "      <td>0.320748</td>\n",
       "      <td>320</td>\n",
       "      <td>4.597312</td>\n",
       "      <td>0.003115</td>\n",
       "      <td>0.032649</td>\n",
       "      <td>-10.196545</td>\n",
       "      <td>True</td>\n",
       "      <td>4.349688</td>\n",
       "      <td>0.034268</td>\n",
       "      <td>0.062442</td>\n",
       "      <td>-1.365840</td>\n",
       "      <td>False</td>\n",
       "      <td>0.729640</td>\n",
       "    </tr>\n",
       "    <tr>\n",
       "      <th>22</th>\n",
       "      <td>FASHION</td>\n",
       "      <td>0.982300</td>\n",
       "      <td>0.047581</td>\n",
       "      <td>0.8911</td>\n",
       "      <td>0.595367</td>\n",
       "      <td>4.372453</td>\n",
       "      <td>0.300466</td>\n",
       "      <td>320</td>\n",
       "      <td>4.630344</td>\n",
       "      <td>0.003115</td>\n",
       "      <td>0.024233</td>\n",
       "      <td>-10.642383</td>\n",
       "      <td>True</td>\n",
       "      <td>4.437724</td>\n",
       "      <td>0.065421</td>\n",
       "      <td>0.058260</td>\n",
       "      <td>-1.120358</td>\n",
       "      <td>False</td>\n",
       "      <td>0.741663</td>\n",
       "    </tr>\n",
       "    <tr>\n",
       "      <th>23</th>\n",
       "      <td>FASHION</td>\n",
       "      <td>0.983350</td>\n",
       "      <td>0.046463</td>\n",
       "      <td>0.8949</td>\n",
       "      <td>0.575908</td>\n",
       "      <td>4.344261</td>\n",
       "      <td>0.305661</td>\n",
       "      <td>320</td>\n",
       "      <td>4.621884</td>\n",
       "      <td>0.003115</td>\n",
       "      <td>0.024989</td>\n",
       "      <td>-11.109860</td>\n",
       "      <td>True</td>\n",
       "      <td>4.505900</td>\n",
       "      <td>0.034268</td>\n",
       "      <td>0.145231</td>\n",
       "      <td>-1.112982</td>\n",
       "      <td>False</td>\n",
       "      <td>0.560904</td>\n",
       "    </tr>\n",
       "    <tr>\n",
       "      <th>24</th>\n",
       "      <td>FASHION</td>\n",
       "      <td>0.982533</td>\n",
       "      <td>0.048930</td>\n",
       "      <td>0.8909</td>\n",
       "      <td>0.551969</td>\n",
       "      <td>4.450120</td>\n",
       "      <td>0.286496</td>\n",
       "      <td>320</td>\n",
       "      <td>4.601388</td>\n",
       "      <td>0.003115</td>\n",
       "      <td>0.025593</td>\n",
       "      <td>-5.910436</td>\n",
       "      <td>True</td>\n",
       "      <td>4.411680</td>\n",
       "      <td>0.844237</td>\n",
       "      <td>0.053227</td>\n",
       "      <td>0.722181</td>\n",
       "      <td>False</td>\n",
       "      <td>0.755128</td>\n",
       "    </tr>\n",
       "    <tr>\n",
       "      <th>25</th>\n",
       "      <td>FASHION</td>\n",
       "      <td>0.983767</td>\n",
       "      <td>0.045901</td>\n",
       "      <td>0.8976</td>\n",
       "      <td>0.545859</td>\n",
       "      <td>4.317434</td>\n",
       "      <td>0.310667</td>\n",
       "      <td>320</td>\n",
       "      <td>4.598646</td>\n",
       "      <td>0.003115</td>\n",
       "      <td>0.023530</td>\n",
       "      <td>-11.951115</td>\n",
       "      <td>True</td>\n",
       "      <td>4.463826</td>\n",
       "      <td>0.034268</td>\n",
       "      <td>0.135428</td>\n",
       "      <td>-1.080956</td>\n",
       "      <td>False</td>\n",
       "      <td>0.573534</td>\n",
       "    </tr>\n",
       "    <tr>\n",
       "      <th>26</th>\n",
       "      <td>FASHION</td>\n",
       "      <td>0.982167</td>\n",
       "      <td>0.049422</td>\n",
       "      <td>0.8916</td>\n",
       "      <td>0.564790</td>\n",
       "      <td>4.333570</td>\n",
       "      <td>0.307648</td>\n",
       "      <td>320</td>\n",
       "      <td>4.612837</td>\n",
       "      <td>0.003115</td>\n",
       "      <td>0.025377</td>\n",
       "      <td>-11.004815</td>\n",
       "      <td>True</td>\n",
       "      <td>4.544311</td>\n",
       "      <td>0.034268</td>\n",
       "      <td>0.134240</td>\n",
       "      <td>-1.569882</td>\n",
       "      <td>False</td>\n",
       "      <td>0.573520</td>\n",
       "    </tr>\n",
       "    <tr>\n",
       "      <th>27</th>\n",
       "      <td>FASHION</td>\n",
       "      <td>0.982600</td>\n",
       "      <td>0.049156</td>\n",
       "      <td>0.8944</td>\n",
       "      <td>0.546913</td>\n",
       "      <td>4.391052</td>\n",
       "      <td>0.297075</td>\n",
       "      <td>320</td>\n",
       "      <td>4.597459</td>\n",
       "      <td>0.003115</td>\n",
       "      <td>0.029227</td>\n",
       "      <td>-7.062204</td>\n",
       "      <td>True</td>\n",
       "      <td>4.429788</td>\n",
       "      <td>0.127726</td>\n",
       "      <td>0.078180</td>\n",
       "      <td>-0.495463</td>\n",
       "      <td>False</td>\n",
       "      <td>0.681671</td>\n",
       "    </tr>\n",
       "    <tr>\n",
       "      <th>28</th>\n",
       "      <td>FASHION</td>\n",
       "      <td>0.982267</td>\n",
       "      <td>0.049309</td>\n",
       "      <td>0.8942</td>\n",
       "      <td>0.554626</td>\n",
       "      <td>4.307105</td>\n",
       "      <td>0.312611</td>\n",
       "      <td>320</td>\n",
       "      <td>4.614370</td>\n",
       "      <td>0.003115</td>\n",
       "      <td>0.025013</td>\n",
       "      <td>-12.284402</td>\n",
       "      <td>True</td>\n",
       "      <td>4.454108</td>\n",
       "      <td>0.034268</td>\n",
       "      <td>0.112755</td>\n",
       "      <td>-1.303741</td>\n",
       "      <td>False</td>\n",
       "      <td>0.611902</td>\n",
       "    </tr>\n",
       "    <tr>\n",
       "      <th>29</th>\n",
       "      <td>FASHION</td>\n",
       "      <td>0.982567</td>\n",
       "      <td>0.048766</td>\n",
       "      <td>0.8921</td>\n",
       "      <td>0.539734</td>\n",
       "      <td>4.421796</td>\n",
       "      <td>0.291534</td>\n",
       "      <td>320</td>\n",
       "      <td>4.629036</td>\n",
       "      <td>0.003115</td>\n",
       "      <td>0.021349</td>\n",
       "      <td>-9.707326</td>\n",
       "      <td>True</td>\n",
       "      <td>4.483690</td>\n",
       "      <td>0.127726</td>\n",
       "      <td>0.076746</td>\n",
       "      <td>-0.806492</td>\n",
       "      <td>False</td>\n",
       "      <td>0.687392</td>\n",
       "    </tr>\n",
       "    <tr>\n",
       "      <th>30</th>\n",
       "      <td>MNIST+DROPOUT</td>\n",
       "      <td>0.967817</td>\n",
       "      <td>0.120144</td>\n",
       "      <td>0.9796</td>\n",
       "      <td>0.084581</td>\n",
       "      <td>4.226893</td>\n",
       "      <td>0.328031</td>\n",
       "      <td>320</td>\n",
       "      <td>4.712073</td>\n",
       "      <td>0.003115</td>\n",
       "      <td>0.025949</td>\n",
       "      <td>-18.697790</td>\n",
       "      <td>True</td>\n",
       "      <td>4.341921</td>\n",
       "      <td>0.003115</td>\n",
       "      <td>0.010207</td>\n",
       "      <td>-11.269095</td>\n",
       "      <td>True</td>\n",
       "      <td>0.993299</td>\n",
       "    </tr>\n",
       "    <tr>\n",
       "      <th>31</th>\n",
       "      <td>MNIST+DROPOUT</td>\n",
       "      <td>0.965267</td>\n",
       "      <td>0.127326</td>\n",
       "      <td>0.9802</td>\n",
       "      <td>0.083526</td>\n",
       "      <td>4.256507</td>\n",
       "      <td>0.322270</td>\n",
       "      <td>320</td>\n",
       "      <td>4.719242</td>\n",
       "      <td>0.003115</td>\n",
       "      <td>0.022642</td>\n",
       "      <td>-20.437400</td>\n",
       "      <td>True</td>\n",
       "      <td>4.363140</td>\n",
       "      <td>0.003115</td>\n",
       "      <td>0.022668</td>\n",
       "      <td>-4.704066</td>\n",
       "      <td>True</td>\n",
       "      <td>0.913136</td>\n",
       "    </tr>\n",
       "    <tr>\n",
       "      <th>32</th>\n",
       "      <td>MNIST+DROPOUT</td>\n",
       "      <td>0.966667</td>\n",
       "      <td>0.123364</td>\n",
       "      <td>0.9789</td>\n",
       "      <td>0.081798</td>\n",
       "      <td>4.221213</td>\n",
       "      <td>0.329146</td>\n",
       "      <td>320</td>\n",
       "      <td>4.701025</td>\n",
       "      <td>0.003115</td>\n",
       "      <td>0.023158</td>\n",
       "      <td>-20.718750</td>\n",
       "      <td>True</td>\n",
       "      <td>4.332169</td>\n",
       "      <td>0.003115</td>\n",
       "      <td>0.061308</td>\n",
       "      <td>-1.809796</td>\n",
       "      <td>True</td>\n",
       "      <td>0.752731</td>\n",
       "    </tr>\n",
       "    <tr>\n",
       "      <th>33</th>\n",
       "      <td>MNIST+DROPOUT</td>\n",
       "      <td>0.967167</td>\n",
       "      <td>0.125616</td>\n",
       "      <td>0.9800</td>\n",
       "      <td>0.081888</td>\n",
       "      <td>4.221115</td>\n",
       "      <td>0.329165</td>\n",
       "      <td>320</td>\n",
       "      <td>4.705132</td>\n",
       "      <td>0.003115</td>\n",
       "      <td>0.022903</td>\n",
       "      <td>-21.133096</td>\n",
       "      <td>True</td>\n",
       "      <td>4.383448</td>\n",
       "      <td>0.003115</td>\n",
       "      <td>0.093611</td>\n",
       "      <td>-1.734134</td>\n",
       "      <td>True</td>\n",
       "      <td>0.665740</td>\n",
       "    </tr>\n",
       "    <tr>\n",
       "      <th>34</th>\n",
       "      <td>MNIST+DROPOUT</td>\n",
       "      <td>0.966133</td>\n",
       "      <td>0.127377</td>\n",
       "      <td>0.9793</td>\n",
       "      <td>0.084823</td>\n",
       "      <td>4.183866</td>\n",
       "      <td>0.336547</td>\n",
       "      <td>320</td>\n",
       "      <td>4.713252</td>\n",
       "      <td>0.003115</td>\n",
       "      <td>0.019384</td>\n",
       "      <td>-27.310306</td>\n",
       "      <td>True</td>\n",
       "      <td>4.347099</td>\n",
       "      <td>0.003115</td>\n",
       "      <td>0.008876</td>\n",
       "      <td>-18.389495</td>\n",
       "      <td>True</td>\n",
       "      <td>1.003618</td>\n",
       "    </tr>\n",
       "    <tr>\n",
       "      <th>35</th>\n",
       "      <td>MNIST+DROPOUT</td>\n",
       "      <td>0.965633</td>\n",
       "      <td>0.123383</td>\n",
       "      <td>0.9782</td>\n",
       "      <td>0.086029</td>\n",
       "      <td>4.195546</td>\n",
       "      <td>0.334218</td>\n",
       "      <td>320</td>\n",
       "      <td>4.706445</td>\n",
       "      <td>0.003115</td>\n",
       "      <td>0.021075</td>\n",
       "      <td>-24.241373</td>\n",
       "      <td>True</td>\n",
       "      <td>4.348237</td>\n",
       "      <td>0.003115</td>\n",
       "      <td>0.014554</td>\n",
       "      <td>-10.491646</td>\n",
       "      <td>True</td>\n",
       "      <td>0.962199</td>\n",
       "    </tr>\n",
       "    <tr>\n",
       "      <th>36</th>\n",
       "      <td>MNIST+DROPOUT</td>\n",
       "      <td>0.966617</td>\n",
       "      <td>0.125282</td>\n",
       "      <td>0.9790</td>\n",
       "      <td>0.083403</td>\n",
       "      <td>4.222762</td>\n",
       "      <td>0.328841</td>\n",
       "      <td>320</td>\n",
       "      <td>4.719282</td>\n",
       "      <td>0.003115</td>\n",
       "      <td>0.023811</td>\n",
       "      <td>-20.852570</td>\n",
       "      <td>True</td>\n",
       "      <td>4.333144</td>\n",
       "      <td>0.003115</td>\n",
       "      <td>0.023714</td>\n",
       "      <td>-4.654785</td>\n",
       "      <td>True</td>\n",
       "      <td>0.911641</td>\n",
       "    </tr>\n",
       "    <tr>\n",
       "      <th>37</th>\n",
       "      <td>MNIST+DROPOUT</td>\n",
       "      <td>0.967667</td>\n",
       "      <td>0.122877</td>\n",
       "      <td>0.9808</td>\n",
       "      <td>0.082423</td>\n",
       "      <td>4.172099</td>\n",
       "      <td>0.338906</td>\n",
       "      <td>320</td>\n",
       "      <td>4.712031</td>\n",
       "      <td>0.003115</td>\n",
       "      <td>0.019647</td>\n",
       "      <td>-27.481498</td>\n",
       "      <td>True</td>\n",
       "      <td>4.289718</td>\n",
       "      <td>0.003115</td>\n",
       "      <td>0.009085</td>\n",
       "      <td>-12.946199</td>\n",
       "      <td>True</td>\n",
       "      <td>1.013345</td>\n",
       "    </tr>\n",
       "    <tr>\n",
       "      <th>38</th>\n",
       "      <td>MNIST+DROPOUT</td>\n",
       "      <td>0.967450</td>\n",
       "      <td>0.122427</td>\n",
       "      <td>0.9793</td>\n",
       "      <td>0.082078</td>\n",
       "      <td>4.295151</td>\n",
       "      <td>0.314872</td>\n",
       "      <td>320</td>\n",
       "      <td>4.717996</td>\n",
       "      <td>0.003115</td>\n",
       "      <td>0.023114</td>\n",
       "      <td>-18.293494</td>\n",
       "      <td>True</td>\n",
       "      <td>4.334628</td>\n",
       "      <td>0.003115</td>\n",
       "      <td>0.016176</td>\n",
       "      <td>-2.440489</td>\n",
       "      <td>True</td>\n",
       "      <td>0.956057</td>\n",
       "    </tr>\n",
       "    <tr>\n",
       "      <th>39</th>\n",
       "      <td>MNIST+DROPOUT</td>\n",
       "      <td>0.967467</td>\n",
       "      <td>0.123260</td>\n",
       "      <td>0.9787</td>\n",
       "      <td>0.084267</td>\n",
       "      <td>4.228689</td>\n",
       "      <td>0.327680</td>\n",
       "      <td>320</td>\n",
       "      <td>4.713327</td>\n",
       "      <td>0.003115</td>\n",
       "      <td>0.024655</td>\n",
       "      <td>-19.656749</td>\n",
       "      <td>True</td>\n",
       "      <td>4.365073</td>\n",
       "      <td>0.003115</td>\n",
       "      <td>0.015038</td>\n",
       "      <td>-9.069292</td>\n",
       "      <td>True</td>\n",
       "      <td>0.956772</td>\n",
       "    </tr>\n",
       "    <tr>\n",
       "      <th>40</th>\n",
       "      <td>CIFAR10+DROPOUT</td>\n",
       "      <td>0.425220</td>\n",
       "      <td>1.612513</td>\n",
       "      <td>0.4201</td>\n",
       "      <td>1.628318</td>\n",
       "      <td>4.204254</td>\n",
       "      <td>0.332490</td>\n",
       "      <td>320</td>\n",
       "      <td>4.606864</td>\n",
       "      <td>0.003115</td>\n",
       "      <td>0.014119</td>\n",
       "      <td>-28.515361</td>\n",
       "      <td>True</td>\n",
       "      <td>4.318687</td>\n",
       "      <td>0.065421</td>\n",
       "      <td>0.108263</td>\n",
       "      <td>-1.056983</td>\n",
       "      <td>False</td>\n",
       "      <td>0.627249</td>\n",
       "    </tr>\n",
       "    <tr>\n",
       "      <th>41</th>\n",
       "      <td>CIFAR10+DROPOUT</td>\n",
       "      <td>0.427100</td>\n",
       "      <td>1.602159</td>\n",
       "      <td>0.4216</td>\n",
       "      <td>1.628530</td>\n",
       "      <td>4.679689</td>\n",
       "      <td>0.247913</td>\n",
       "      <td>320</td>\n",
       "      <td>4.631062</td>\n",
       "      <td>1.000000</td>\n",
       "      <td>0.020855</td>\n",
       "      <td>2.331633</td>\n",
       "      <td>False</td>\n",
       "      <td>4.701694</td>\n",
       "      <td>0.376947</td>\n",
       "      <td>0.095994</td>\n",
       "      <td>-0.229241</td>\n",
       "      <td>False</td>\n",
       "      <td>0.632425</td>\n",
       "    </tr>\n",
       "    <tr>\n",
       "      <th>42</th>\n",
       "      <td>CIFAR10+DROPOUT</td>\n",
       "      <td>0.427520</td>\n",
       "      <td>1.613026</td>\n",
       "      <td>0.4202</td>\n",
       "      <td>1.634889</td>\n",
       "      <td>4.415758</td>\n",
       "      <td>0.292616</td>\n",
       "      <td>320</td>\n",
       "      <td>4.600992</td>\n",
       "      <td>0.003115</td>\n",
       "      <td>0.017695</td>\n",
       "      <td>-10.468194</td>\n",
       "      <td>True</td>\n",
       "      <td>4.591241</td>\n",
       "      <td>0.127726</td>\n",
       "      <td>0.138908</td>\n",
       "      <td>-1.263298</td>\n",
       "      <td>False</td>\n",
       "      <td>0.564535</td>\n",
       "    </tr>\n",
       "    <tr>\n",
       "      <th>43</th>\n",
       "      <td>CIFAR10+DROPOUT</td>\n",
       "      <td>0.436320</td>\n",
       "      <td>1.593016</td>\n",
       "      <td>0.4317</td>\n",
       "      <td>1.603236</td>\n",
       "      <td>4.362284</td>\n",
       "      <td>0.302332</td>\n",
       "      <td>320</td>\n",
       "      <td>4.642848</td>\n",
       "      <td>0.003115</td>\n",
       "      <td>0.028094</td>\n",
       "      <td>-9.986684</td>\n",
       "      <td>True</td>\n",
       "      <td>4.503578</td>\n",
       "      <td>0.190031</td>\n",
       "      <td>0.164947</td>\n",
       "      <td>-0.856606</td>\n",
       "      <td>False</td>\n",
       "      <td>0.538324</td>\n",
       "    </tr>\n",
       "    <tr>\n",
       "      <th>44</th>\n",
       "      <td>CIFAR10+DROPOUT</td>\n",
       "      <td>0.427500</td>\n",
       "      <td>1.600558</td>\n",
       "      <td>0.4149</td>\n",
       "      <td>1.639029</td>\n",
       "      <td>4.241719</td>\n",
       "      <td>0.325137</td>\n",
       "      <td>320</td>\n",
       "      <td>4.619377</td>\n",
       "      <td>0.003115</td>\n",
       "      <td>0.019685</td>\n",
       "      <td>-19.184914</td>\n",
       "      <td>True</td>\n",
       "      <td>4.377873</td>\n",
       "      <td>0.003115</td>\n",
       "      <td>0.083232</td>\n",
       "      <td>-1.635837</td>\n",
       "      <td>True</td>\n",
       "      <td>0.677628</td>\n",
       "    </tr>\n",
       "    <tr>\n",
       "      <th>45</th>\n",
       "      <td>CIFAR10+DROPOUT</td>\n",
       "      <td>0.420800</td>\n",
       "      <td>1.624310</td>\n",
       "      <td>0.4189</td>\n",
       "      <td>1.635075</td>\n",
       "      <td>4.186724</td>\n",
       "      <td>0.335976</td>\n",
       "      <td>320</td>\n",
       "      <td>4.595561</td>\n",
       "      <td>0.003115</td>\n",
       "      <td>0.016155</td>\n",
       "      <td>-25.306823</td>\n",
       "      <td>True</td>\n",
       "      <td>4.265606</td>\n",
       "      <td>0.190031</td>\n",
       "      <td>0.097990</td>\n",
       "      <td>-0.805010</td>\n",
       "      <td>False</td>\n",
       "      <td>0.648610</td>\n",
       "    </tr>\n",
       "    <tr>\n",
       "      <th>46</th>\n",
       "      <td>CIFAR10+DROPOUT</td>\n",
       "      <td>0.437900</td>\n",
       "      <td>1.573070</td>\n",
       "      <td>0.4274</td>\n",
       "      <td>1.610751</td>\n",
       "      <td>4.326458</td>\n",
       "      <td>0.308976</td>\n",
       "      <td>320</td>\n",
       "      <td>4.696410</td>\n",
       "      <td>0.003115</td>\n",
       "      <td>0.014515</td>\n",
       "      <td>-25.487467</td>\n",
       "      <td>True</td>\n",
       "      <td>4.548727</td>\n",
       "      <td>0.003115</td>\n",
       "      <td>0.075755</td>\n",
       "      <td>-2.934061</td>\n",
       "      <td>True</td>\n",
       "      <td>0.696357</td>\n",
       "    </tr>\n",
       "    <tr>\n",
       "      <th>47</th>\n",
       "      <td>CIFAR10+DROPOUT</td>\n",
       "      <td>0.420840</td>\n",
       "      <td>1.625915</td>\n",
       "      <td>0.4194</td>\n",
       "      <td>1.632398</td>\n",
       "      <td>4.276981</td>\n",
       "      <td>0.318334</td>\n",
       "      <td>320</td>\n",
       "      <td>4.599370</td>\n",
       "      <td>0.003115</td>\n",
       "      <td>0.012526</td>\n",
       "      <td>-25.736777</td>\n",
       "      <td>True</td>\n",
       "      <td>4.352215</td>\n",
       "      <td>0.221184</td>\n",
       "      <td>0.103860</td>\n",
       "      <td>-0.724376</td>\n",
       "      <td>False</td>\n",
       "      <td>0.633118</td>\n",
       "    </tr>\n",
       "    <tr>\n",
       "      <th>48</th>\n",
       "      <td>CIFAR10+DROPOUT</td>\n",
       "      <td>0.420940</td>\n",
       "      <td>1.617852</td>\n",
       "      <td>0.4202</td>\n",
       "      <td>1.627297</td>\n",
       "      <td>4.535098</td>\n",
       "      <td>0.271758</td>\n",
       "      <td>320</td>\n",
       "      <td>4.593510</td>\n",
       "      <td>0.003115</td>\n",
       "      <td>0.019091</td>\n",
       "      <td>-3.059675</td>\n",
       "      <td>True</td>\n",
       "      <td>4.506198</td>\n",
       "      <td>0.719626</td>\n",
       "      <td>0.114392</td>\n",
       "      <td>0.252644</td>\n",
       "      <td>False</td>\n",
       "      <td>0.604580</td>\n",
       "    </tr>\n",
       "    <tr>\n",
       "      <th>49</th>\n",
       "      <td>CIFAR10+DROPOUT</td>\n",
       "      <td>0.426360</td>\n",
       "      <td>1.609047</td>\n",
       "      <td>0.4245</td>\n",
       "      <td>1.622804</td>\n",
       "      <td>4.498984</td>\n",
       "      <td>0.277953</td>\n",
       "      <td>320</td>\n",
       "      <td>4.598370</td>\n",
       "      <td>0.003115</td>\n",
       "      <td>0.017305</td>\n",
       "      <td>-5.743048</td>\n",
       "      <td>True</td>\n",
       "      <td>4.485019</td>\n",
       "      <td>0.532710</td>\n",
       "      <td>0.132462</td>\n",
       "      <td>0.105428</td>\n",
       "      <td>False</td>\n",
       "      <td>0.577756</td>\n",
       "    </tr>\n",
       "    <tr>\n",
       "      <th>50</th>\n",
       "      <td>FASHION+DROPOUT</td>\n",
       "      <td>0.863800</td>\n",
       "      <td>0.397653</td>\n",
       "      <td>0.8705</td>\n",
       "      <td>0.359481</td>\n",
       "      <td>4.142563</td>\n",
       "      <td>0.344887</td>\n",
       "      <td>320</td>\n",
       "      <td>4.645540</td>\n",
       "      <td>0.003115</td>\n",
       "      <td>0.027892</td>\n",
       "      <td>-18.032842</td>\n",
       "      <td>True</td>\n",
       "      <td>4.201623</td>\n",
       "      <td>0.034268</td>\n",
       "      <td>0.029069</td>\n",
       "      <td>-2.031712</td>\n",
       "      <td>False</td>\n",
       "      <td>0.886655</td>\n",
       "    </tr>\n",
       "    <tr>\n",
       "      <th>51</th>\n",
       "      <td>FASHION+DROPOUT</td>\n",
       "      <td>0.863817</td>\n",
       "      <td>0.390582</td>\n",
       "      <td>0.8725</td>\n",
       "      <td>0.348940</td>\n",
       "      <td>4.064316</td>\n",
       "      <td>0.361154</td>\n",
       "      <td>320</td>\n",
       "      <td>4.666905</td>\n",
       "      <td>0.003115</td>\n",
       "      <td>0.031707</td>\n",
       "      <td>-19.004682</td>\n",
       "      <td>True</td>\n",
       "      <td>4.216407</td>\n",
       "      <td>0.003115</td>\n",
       "      <td>0.072033</td>\n",
       "      <td>-2.111416</td>\n",
       "      <td>True</td>\n",
       "      <td>0.723226</td>\n",
       "    </tr>\n",
       "    <tr>\n",
       "      <th>52</th>\n",
       "      <td>FASHION+DROPOUT</td>\n",
       "      <td>0.862400</td>\n",
       "      <td>0.391380</td>\n",
       "      <td>0.8663</td>\n",
       "      <td>0.355787</td>\n",
       "      <td>4.011317</td>\n",
       "      <td>0.372531</td>\n",
       "      <td>320</td>\n",
       "      <td>4.667771</td>\n",
       "      <td>0.003115</td>\n",
       "      <td>0.023092</td>\n",
       "      <td>-28.428316</td>\n",
       "      <td>True</td>\n",
       "      <td>4.204820</td>\n",
       "      <td>0.003115</td>\n",
       "      <td>0.039240</td>\n",
       "      <td>-4.931230</td>\n",
       "      <td>True</td>\n",
       "      <td>0.842071</td>\n",
       "    </tr>\n",
       "    <tr>\n",
       "      <th>53</th>\n",
       "      <td>FASHION+DROPOUT</td>\n",
       "      <td>0.865350</td>\n",
       "      <td>0.386754</td>\n",
       "      <td>0.8666</td>\n",
       "      <td>0.354577</td>\n",
       "      <td>4.137169</td>\n",
       "      <td>0.345989</td>\n",
       "      <td>320</td>\n",
       "      <td>4.646587</td>\n",
       "      <td>0.003115</td>\n",
       "      <td>0.025514</td>\n",
       "      <td>-19.966190</td>\n",
       "      <td>True</td>\n",
       "      <td>4.221416</td>\n",
       "      <td>0.065421</td>\n",
       "      <td>0.034364</td>\n",
       "      <td>-2.451636</td>\n",
       "      <td>False</td>\n",
       "      <td>0.858189</td>\n",
       "    </tr>\n",
       "    <tr>\n",
       "      <th>54</th>\n",
       "      <td>FASHION+DROPOUT</td>\n",
       "      <td>0.863467</td>\n",
       "      <td>0.388820</td>\n",
       "      <td>0.8690</td>\n",
       "      <td>0.354417</td>\n",
       "      <td>4.054651</td>\n",
       "      <td>0.363206</td>\n",
       "      <td>320</td>\n",
       "      <td>4.672214</td>\n",
       "      <td>0.003115</td>\n",
       "      <td>0.026221</td>\n",
       "      <td>-23.552499</td>\n",
       "      <td>True</td>\n",
       "      <td>4.280999</td>\n",
       "      <td>0.003115</td>\n",
       "      <td>0.092131</td>\n",
       "      <td>-2.456815</td>\n",
       "      <td>True</td>\n",
       "      <td>0.669925</td>\n",
       "    </tr>\n",
       "    <tr>\n",
       "      <th>55</th>\n",
       "      <td>FASHION+DROPOUT</td>\n",
       "      <td>0.864467</td>\n",
       "      <td>0.392445</td>\n",
       "      <td>0.8709</td>\n",
       "      <td>0.354324</td>\n",
       "      <td>4.013757</td>\n",
       "      <td>0.372001</td>\n",
       "      <td>320</td>\n",
       "      <td>4.666420</td>\n",
       "      <td>0.003115</td>\n",
       "      <td>0.027619</td>\n",
       "      <td>-23.630779</td>\n",
       "      <td>True</td>\n",
       "      <td>4.225922</td>\n",
       "      <td>0.003115</td>\n",
       "      <td>0.092687</td>\n",
       "      <td>-2.289039</td>\n",
       "      <td>True</td>\n",
       "      <td>0.670930</td>\n",
       "    </tr>\n",
       "    <tr>\n",
       "      <th>56</th>\n",
       "      <td>FASHION+DROPOUT</td>\n",
       "      <td>0.861367</td>\n",
       "      <td>0.396722</td>\n",
       "      <td>0.8675</td>\n",
       "      <td>0.355441</td>\n",
       "      <td>4.103688</td>\n",
       "      <td>0.352891</td>\n",
       "      <td>320</td>\n",
       "      <td>4.669107</td>\n",
       "      <td>0.003115</td>\n",
       "      <td>0.022175</td>\n",
       "      <td>-25.498274</td>\n",
       "      <td>True</td>\n",
       "      <td>4.283947</td>\n",
       "      <td>0.034268</td>\n",
       "      <td>0.164198</td>\n",
       "      <td>-1.097810</td>\n",
       "      <td>False</td>\n",
       "      <td>0.550310</td>\n",
       "    </tr>\n",
       "    <tr>\n",
       "      <th>57</th>\n",
       "      <td>FASHION+DROPOUT</td>\n",
       "      <td>0.864950</td>\n",
       "      <td>0.390324</td>\n",
       "      <td>0.8703</td>\n",
       "      <td>0.353516</td>\n",
       "      <td>4.095277</td>\n",
       "      <td>0.354643</td>\n",
       "      <td>320</td>\n",
       "      <td>4.662560</td>\n",
       "      <td>0.003115</td>\n",
       "      <td>0.030671</td>\n",
       "      <td>-18.495851</td>\n",
       "      <td>True</td>\n",
       "      <td>4.309936</td>\n",
       "      <td>0.034268</td>\n",
       "      <td>0.171217</td>\n",
       "      <td>-1.253726</td>\n",
       "      <td>False</td>\n",
       "      <td>0.539224</td>\n",
       "    </tr>\n",
       "    <tr>\n",
       "      <th>58</th>\n",
       "      <td>FASHION+DROPOUT</td>\n",
       "      <td>0.860667</td>\n",
       "      <td>0.400913</td>\n",
       "      <td>0.8667</td>\n",
       "      <td>0.359971</td>\n",
       "      <td>4.058933</td>\n",
       "      <td>0.362296</td>\n",
       "      <td>320</td>\n",
       "      <td>4.671131</td>\n",
       "      <td>0.003115</td>\n",
       "      <td>0.024677</td>\n",
       "      <td>-24.808140</td>\n",
       "      <td>True</td>\n",
       "      <td>4.209618</td>\n",
       "      <td>0.034268</td>\n",
       "      <td>0.037795</td>\n",
       "      <td>-3.986901</td>\n",
       "      <td>False</td>\n",
       "      <td>0.848333</td>\n",
       "    </tr>\n",
       "    <tr>\n",
       "      <th>59</th>\n",
       "      <td>FASHION+DROPOUT</td>\n",
       "      <td>0.862400</td>\n",
       "      <td>0.396842</td>\n",
       "      <td>0.8718</td>\n",
       "      <td>0.354866</td>\n",
       "      <td>4.111875</td>\n",
       "      <td>0.351193</td>\n",
       "      <td>320</td>\n",
       "      <td>4.660888</td>\n",
       "      <td>0.003115</td>\n",
       "      <td>0.032351</td>\n",
       "      <td>-16.970364</td>\n",
       "      <td>True</td>\n",
       "      <td>4.236282</td>\n",
       "      <td>0.003115</td>\n",
       "      <td>0.034558</td>\n",
       "      <td>-3.599979</td>\n",
       "      <td>True</td>\n",
       "      <td>0.856787</td>\n",
       "    </tr>\n",
       "  </tbody>\n",
       "</table>\n",
       "</div>"
      ],
      "text/plain": [
       "              model  train_acc  train_loss  test_acc  test_loss      ncut  \\\n",
       "0             MNIST   1.000000    0.000048    0.9835   0.095332  4.634377   \n",
       "1             MNIST   1.000000    0.000056    0.9847   0.090697  4.545577   \n",
       "2             MNIST   1.000000    0.000059    0.9830   0.099833  4.473643   \n",
       "3             MNIST   1.000000    0.000062    0.9828   0.099546  4.559476   \n",
       "4             MNIST   1.000000    0.000081    0.9845   0.097756  4.610962   \n",
       "5             MNIST   1.000000    0.000048    0.9835   0.095626  4.498175   \n",
       "6             MNIST   1.000000    0.000056    0.9838   0.087238  4.514373   \n",
       "7             MNIST   1.000000    0.000061    0.9838   0.100444  4.592311   \n",
       "8             MNIST   1.000000    0.000047    0.9828   0.093142  4.536716   \n",
       "9             MNIST   1.000000    0.000049    0.9833   0.102283  4.589832   \n",
       "10          CIFAR10   0.647020    0.982019    0.4164   2.009407  4.642482   \n",
       "11          CIFAR10   0.655260    0.968012    0.4196   2.009614  4.684847   \n",
       "12          CIFAR10   0.645800    0.993128    0.4085   2.026656  4.707837   \n",
       "13          CIFAR10   0.645580    0.992089    0.4107   2.004410  4.899453   \n",
       "14          CIFAR10   0.654440    0.964225    0.4239   1.981631  4.665183   \n",
       "15          CIFAR10   0.652180    0.973041    0.4111   2.053139  4.607653   \n",
       "16          CIFAR10   0.644540    0.994267    0.4178   1.984371  4.632842   \n",
       "17          CIFAR10   0.651840    0.974107    0.4177   1.981042  4.677363   \n",
       "18          CIFAR10   0.643280    0.998221    0.4150   2.007964  4.882997   \n",
       "19          CIFAR10   0.660940    0.956555    0.4116   2.029548  4.670019   \n",
       "20          FASHION   0.982533    0.049309    0.8937   0.532207  4.308516   \n",
       "21          FASHION   0.982217    0.049195    0.8939   0.526313  4.264402   \n",
       "22          FASHION   0.982300    0.047581    0.8911   0.595367  4.372453   \n",
       "23          FASHION   0.983350    0.046463    0.8949   0.575908  4.344261   \n",
       "24          FASHION   0.982533    0.048930    0.8909   0.551969  4.450120   \n",
       "25          FASHION   0.983767    0.045901    0.8976   0.545859  4.317434   \n",
       "26          FASHION   0.982167    0.049422    0.8916   0.564790  4.333570   \n",
       "27          FASHION   0.982600    0.049156    0.8944   0.546913  4.391052   \n",
       "28          FASHION   0.982267    0.049309    0.8942   0.554626  4.307105   \n",
       "29          FASHION   0.982567    0.048766    0.8921   0.539734  4.421796   \n",
       "30    MNIST+DROPOUT   0.967817    0.120144    0.9796   0.084581  4.226893   \n",
       "31    MNIST+DROPOUT   0.965267    0.127326    0.9802   0.083526  4.256507   \n",
       "32    MNIST+DROPOUT   0.966667    0.123364    0.9789   0.081798  4.221213   \n",
       "33    MNIST+DROPOUT   0.967167    0.125616    0.9800   0.081888  4.221115   \n",
       "34    MNIST+DROPOUT   0.966133    0.127377    0.9793   0.084823  4.183866   \n",
       "35    MNIST+DROPOUT   0.965633    0.123383    0.9782   0.086029  4.195546   \n",
       "36    MNIST+DROPOUT   0.966617    0.125282    0.9790   0.083403  4.222762   \n",
       "37    MNIST+DROPOUT   0.967667    0.122877    0.9808   0.082423  4.172099   \n",
       "38    MNIST+DROPOUT   0.967450    0.122427    0.9793   0.082078  4.295151   \n",
       "39    MNIST+DROPOUT   0.967467    0.123260    0.9787   0.084267  4.228689   \n",
       "40  CIFAR10+DROPOUT   0.425220    1.612513    0.4201   1.628318  4.204254   \n",
       "41  CIFAR10+DROPOUT   0.427100    1.602159    0.4216   1.628530  4.679689   \n",
       "42  CIFAR10+DROPOUT   0.427520    1.613026    0.4202   1.634889  4.415758   \n",
       "43  CIFAR10+DROPOUT   0.436320    1.593016    0.4317   1.603236  4.362284   \n",
       "44  CIFAR10+DROPOUT   0.427500    1.600558    0.4149   1.639029  4.241719   \n",
       "45  CIFAR10+DROPOUT   0.420800    1.624310    0.4189   1.635075  4.186724   \n",
       "46  CIFAR10+DROPOUT   0.437900    1.573070    0.4274   1.610751  4.326458   \n",
       "47  CIFAR10+DROPOUT   0.420840    1.625915    0.4194   1.632398  4.276981   \n",
       "48  CIFAR10+DROPOUT   0.420940    1.617852    0.4202   1.627297  4.535098   \n",
       "49  CIFAR10+DROPOUT   0.426360    1.609047    0.4245   1.622804  4.498984   \n",
       "50  FASHION+DROPOUT   0.863800    0.397653    0.8705   0.359481  4.142563   \n",
       "51  FASHION+DROPOUT   0.863817    0.390582    0.8725   0.348940  4.064316   \n",
       "52  FASHION+DROPOUT   0.862400    0.391380    0.8663   0.355787  4.011317   \n",
       "53  FASHION+DROPOUT   0.865350    0.386754    0.8666   0.354577  4.137169   \n",
       "54  FASHION+DROPOUT   0.863467    0.388820    0.8690   0.354417  4.054651   \n",
       "55  FASHION+DROPOUT   0.864467    0.392445    0.8709   0.354324  4.013757   \n",
       "56  FASHION+DROPOUT   0.861367    0.396722    0.8675   0.355441  4.103688   \n",
       "57  FASHION+DROPOUT   0.864950    0.390324    0.8703   0.353516  4.095277   \n",
       "58  FASHION+DROPOUT   0.860667    0.400913    0.8667   0.359971  4.058933   \n",
       "59  FASHION+DROPOUT   0.862400    0.396842    0.8718   0.354866  4.111875   \n",
       "\n",
       "    ave_in_out  n_samples  mean_layer  percentile_layer  stdev_layer  \\\n",
       "0     0.255226        320    4.701298          0.003115     0.015993   \n",
       "1     0.269979        320    4.707760          0.003115     0.024822   \n",
       "2     0.282360        320    4.704236          0.003115     0.026848   \n",
       "3     0.267632        320    4.701830          0.003115     0.024402   \n",
       "4     0.259061        320    4.724072          0.003115     0.019739   \n",
       "5     0.278093        320    4.726294          0.003115     0.021361   \n",
       "6     0.275301        320    4.695680          0.003115     0.024391   \n",
       "7     0.262143        320    4.716121          0.003115     0.022920   \n",
       "8     0.271483        320    4.699434          0.003115     0.028623   \n",
       "9     0.262555        320    4.724979          0.003115     0.026312   \n",
       "10    0.253907        320    4.651311          0.283489     0.021092   \n",
       "11    0.247089        320    4.650236          0.937695     0.025492   \n",
       "12    0.243441        320    4.645114          1.000000     0.022708   \n",
       "13    0.214365        320    4.642184          1.000000     0.026820   \n",
       "14    0.250239        320    4.661804          0.626168     0.022730   \n",
       "15    0.259606        320    4.642464          0.003115     0.020119   \n",
       "16    0.255476        320    4.651849          0.283489     0.021893   \n",
       "17    0.248285        320    4.654959          0.781931     0.022470   \n",
       "18    0.216773        320    4.631036          1.000000     0.021674   \n",
       "19    0.249462        320    4.641896          0.844237     0.021222   \n",
       "20    0.312345        320    4.627097          0.003115     0.021872   \n",
       "21    0.320748        320    4.597312          0.003115     0.032649   \n",
       "22    0.300466        320    4.630344          0.003115     0.024233   \n",
       "23    0.305661        320    4.621884          0.003115     0.024989   \n",
       "24    0.286496        320    4.601388          0.003115     0.025593   \n",
       "25    0.310667        320    4.598646          0.003115     0.023530   \n",
       "26    0.307648        320    4.612837          0.003115     0.025377   \n",
       "27    0.297075        320    4.597459          0.003115     0.029227   \n",
       "28    0.312611        320    4.614370          0.003115     0.025013   \n",
       "29    0.291534        320    4.629036          0.003115     0.021349   \n",
       "30    0.328031        320    4.712073          0.003115     0.025949   \n",
       "31    0.322270        320    4.719242          0.003115     0.022642   \n",
       "32    0.329146        320    4.701025          0.003115     0.023158   \n",
       "33    0.329165        320    4.705132          0.003115     0.022903   \n",
       "34    0.336547        320    4.713252          0.003115     0.019384   \n",
       "35    0.334218        320    4.706445          0.003115     0.021075   \n",
       "36    0.328841        320    4.719282          0.003115     0.023811   \n",
       "37    0.338906        320    4.712031          0.003115     0.019647   \n",
       "38    0.314872        320    4.717996          0.003115     0.023114   \n",
       "39    0.327680        320    4.713327          0.003115     0.024655   \n",
       "40    0.332490        320    4.606864          0.003115     0.014119   \n",
       "41    0.247913        320    4.631062          1.000000     0.020855   \n",
       "42    0.292616        320    4.600992          0.003115     0.017695   \n",
       "43    0.302332        320    4.642848          0.003115     0.028094   \n",
       "44    0.325137        320    4.619377          0.003115     0.019685   \n",
       "45    0.335976        320    4.595561          0.003115     0.016155   \n",
       "46    0.308976        320    4.696410          0.003115     0.014515   \n",
       "47    0.318334        320    4.599370          0.003115     0.012526   \n",
       "48    0.271758        320    4.593510          0.003115     0.019091   \n",
       "49    0.277953        320    4.598370          0.003115     0.017305   \n",
       "50    0.344887        320    4.645540          0.003115     0.027892   \n",
       "51    0.361154        320    4.666905          0.003115     0.031707   \n",
       "52    0.372531        320    4.667771          0.003115     0.023092   \n",
       "53    0.345989        320    4.646587          0.003115     0.025514   \n",
       "54    0.363206        320    4.672214          0.003115     0.026221   \n",
       "55    0.372001        320    4.666420          0.003115     0.027619   \n",
       "56    0.352891        320    4.669107          0.003115     0.022175   \n",
       "57    0.354643        320    4.662560          0.003115     0.030671   \n",
       "58    0.362296        320    4.671131          0.003115     0.024677   \n",
       "59    0.351193        320    4.660888          0.003115     0.032351   \n",
       "\n",
       "    z_score_layer  is_sig_layer  mean_layer_nonzero  percentile_layer_nonzero  \\\n",
       "0       -4.184349          True            4.649677                  0.376947   \n",
       "1       -6.533918          True            4.693166                  0.003115   \n",
       "2       -8.588974          True            4.560108                  0.003115   \n",
       "3       -5.833708          True            4.619620                  0.065421   \n",
       "4       -5.730319          True            4.675526                  0.283489   \n",
       "5      -10.679443          True            4.649077                  0.003115   \n",
       "6       -7.433439          True            4.704034                  0.003115   \n",
       "7       -5.401807          True            4.707152                  0.003115   \n",
       "8       -5.684835          True            4.573713                  0.065421   \n",
       "9       -5.136238          True            4.700492                  0.003115   \n",
       "10      -0.418548         False            4.627100                  0.657321   \n",
       "11       1.357749         False            4.661016                  0.844237   \n",
       "12       2.762088         False            4.455268                  0.813084   \n",
       "13       9.592570         False            4.543834                  0.906542   \n",
       "14       0.148670         False            4.659816                  0.688474   \n",
       "15      -1.730251          True            4.649237                  0.158879   \n",
       "16      -0.868169         False            4.600624                  0.937695   \n",
       "17       0.997055         False            4.647135                  0.937695   \n",
       "18      11.625097         False            4.830639                  0.563863   \n",
       "19       1.325164         False            4.653300                  0.657321   \n",
       "20     -14.565709          True            4.490250                  0.065421   \n",
       "21     -10.196545          True            4.349688                  0.034268   \n",
       "22     -10.642383          True            4.437724                  0.065421   \n",
       "23     -11.109860          True            4.505900                  0.034268   \n",
       "24      -5.910436          True            4.411680                  0.844237   \n",
       "25     -11.951115          True            4.463826                  0.034268   \n",
       "26     -11.004815          True            4.544311                  0.034268   \n",
       "27      -7.062204          True            4.429788                  0.127726   \n",
       "28     -12.284402          True            4.454108                  0.034268   \n",
       "29      -9.707326          True            4.483690                  0.127726   \n",
       "30     -18.697790          True            4.341921                  0.003115   \n",
       "31     -20.437400          True            4.363140                  0.003115   \n",
       "32     -20.718750          True            4.332169                  0.003115   \n",
       "33     -21.133096          True            4.383448                  0.003115   \n",
       "34     -27.310306          True            4.347099                  0.003115   \n",
       "35     -24.241373          True            4.348237                  0.003115   \n",
       "36     -20.852570          True            4.333144                  0.003115   \n",
       "37     -27.481498          True            4.289718                  0.003115   \n",
       "38     -18.293494          True            4.334628                  0.003115   \n",
       "39     -19.656749          True            4.365073                  0.003115   \n",
       "40     -28.515361          True            4.318687                  0.065421   \n",
       "41       2.331633         False            4.701694                  0.376947   \n",
       "42     -10.468194          True            4.591241                  0.127726   \n",
       "43      -9.986684          True            4.503578                  0.190031   \n",
       "44     -19.184914          True            4.377873                  0.003115   \n",
       "45     -25.306823          True            4.265606                  0.190031   \n",
       "46     -25.487467          True            4.548727                  0.003115   \n",
       "47     -25.736777          True            4.352215                  0.221184   \n",
       "48      -3.059675          True            4.506198                  0.719626   \n",
       "49      -5.743048          True            4.485019                  0.532710   \n",
       "50     -18.032842          True            4.201623                  0.034268   \n",
       "51     -19.004682          True            4.216407                  0.003115   \n",
       "52     -28.428316          True            4.204820                  0.003115   \n",
       "53     -19.966190          True            4.221416                  0.065421   \n",
       "54     -23.552499          True            4.280999                  0.003115   \n",
       "55     -23.630779          True            4.225922                  0.003115   \n",
       "56     -25.498274          True            4.283947                  0.034268   \n",
       "57     -18.495851          True            4.309936                  0.034268   \n",
       "58     -24.808140          True            4.209618                  0.034268   \n",
       "59     -16.970364          True            4.236282                  0.003115   \n",
       "\n",
       "    stdev_layer_nonzero  z_score_layer_nonzero  is_sig_layer_nonzero   cohen_d  \n",
       "0              0.047088              -0.324925                 False  0.771166  \n",
       "1              0.058114              -2.539635                  True  0.732510  \n",
       "2              0.024097              -3.588255                  True  0.873361  \n",
       "3              0.038410              -1.565863                 False  0.804074  \n",
       "4              0.080500              -0.802033                 False  0.679664  \n",
       "5              0.038872              -3.881992                  True  0.803786  \n",
       "6              0.145137              -1.306768                  True  0.562472  \n",
       "7              0.055481              -2.069906                  True  0.740625  \n",
       "8              0.026173              -1.413515                 False  0.860314  \n",
       "9              0.035032              -3.158842                  True  0.811677  \n",
       "10             0.035171               0.437368                 False  0.807653  \n",
       "11             0.021639               1.101274                 False  0.861354  \n",
       "12             0.229422               1.100890                 False  0.477315  \n",
       "13             0.275066               1.292851                 False  0.441552  \n",
       "14             0.040235               0.133388                 False  0.786371  \n",
       "15             0.082284              -0.505372                 False  0.665548  \n",
       "16             0.036748               0.876729                 False  0.804409  \n",
       "17             0.020742               1.457346                 False  0.869134  \n",
       "18             0.165660               0.316056                 False  0.526016  \n",
       "19             0.048693               0.343355                 False  0.754922  \n",
       "20             0.161611              -1.124516                 False  0.541629  \n",
       "21             0.062442              -1.365840                 False  0.729640  \n",
       "22             0.058260              -1.120358                 False  0.741663  \n",
       "23             0.145231              -1.112982                 False  0.560904  \n",
       "24             0.053227               0.722181                 False  0.755128  \n",
       "25             0.135428              -1.080956                 False  0.573534  \n",
       "26             0.134240              -1.569882                 False  0.573520  \n",
       "27             0.078180              -0.495463                 False  0.681671  \n",
       "28             0.112755              -1.303741                 False  0.611902  \n",
       "29             0.076746              -0.806492                 False  0.687392  \n",
       "30             0.010207             -11.269095                  True  0.993299  \n",
       "31             0.022668              -4.704066                  True  0.913136  \n",
       "32             0.061308              -1.809796                  True  0.752731  \n",
       "33             0.093611              -1.734134                  True  0.665740  \n",
       "34             0.008876             -18.389495                  True  1.003618  \n",
       "35             0.014554             -10.491646                  True  0.962199  \n",
       "36             0.023714              -4.654785                  True  0.911641  \n",
       "37             0.009085             -12.946199                  True  1.013345  \n",
       "38             0.016176              -2.440489                  True  0.956057  \n",
       "39             0.015038              -9.069292                  True  0.956772  \n",
       "40             0.108263              -1.056983                 False  0.627249  \n",
       "41             0.095994              -0.229241                 False  0.632425  \n",
       "42             0.138908              -1.263298                 False  0.564535  \n",
       "43             0.164947              -0.856606                 False  0.538324  \n",
       "44             0.083232              -1.635837                  True  0.677628  \n",
       "45             0.097990              -0.805010                 False  0.648610  \n",
       "46             0.075755              -2.934061                  True  0.696357  \n",
       "47             0.103860              -0.724376                 False  0.633118  \n",
       "48             0.114392               0.252644                 False  0.604580  \n",
       "49             0.132462               0.105428                 False  0.577756  \n",
       "50             0.029069              -2.031712                 False  0.886655  \n",
       "51             0.072033              -2.111416                  True  0.723226  \n",
       "52             0.039240              -4.931230                  True  0.842071  \n",
       "53             0.034364              -2.451636                 False  0.858189  \n",
       "54             0.092131              -2.456815                  True  0.669925  \n",
       "55             0.092687              -2.289039                  True  0.670930  \n",
       "56             0.164198              -1.097810                 False  0.550310  \n",
       "57             0.171217              -1.253726                 False  0.539224  \n",
       "58             0.037795              -3.986901                 False  0.848333  \n",
       "59             0.034558              -3.599979                  True  0.856787  "
      ]
     },
     "execution_count": 21,
     "metadata": {},
     "output_type": "execute_result"
    }
   ],
   "source": [
    "df"
   ]
  },
  {
   "cell_type": "markdown",
   "metadata": {
    "papermill": {
     "duration": 0.211999,
     "end_time": "2020-05-27T19:12:07.428244",
     "exception": false,
     "start_time": "2020-05-27T19:12:07.216245",
     "status": "completed"
    },
    "tags": []
   },
   "source": [
    "### Unpruned results without shuffling\n",
    "#### TODO: Refactor\n",
    "- [ ] Combine with the unpruned table"
   ]
  },
  {
   "cell_type": "code",
   "execution_count": 22,
   "metadata": {
    "papermill": {
     "duration": 0.264302,
     "end_time": "2020-05-27T19:12:07.921276",
     "exception": false,
     "start_time": "2020-05-27T19:12:07.656974",
     "status": "completed"
    },
    "tags": []
   },
   "outputs": [],
   "source": [
    "if False:\n",
    "    unpruned_results = {}\n",
    "\n",
    "    for (model_tag, _), dataset_tag in zip(TAGS_COMMANDS.items(), tqdm(DATASETS_TAGS)):\n",
    "        model_paths = get_model_path(model_tag, filter_='all', model_base_path='/scratch/shlomi/models/')\n",
    "        unpruned_results[model_tag] = [run_spectral_cluster(path / f'{dataset_tag}-mlp-unpruned-weights.pckl',\n",
    "                                                   with_shuffle=False)\n",
    "                for path in tqdm(model_paths[-N_TRAINED_MODELS:])]\n",
    "\n",
    "    unpruned_model_dfs = []\n",
    "\n",
    "    for model_tag, model_results in unpruned_results.items():\n",
    "        _, metrics  = zip(*model_results)\n",
    "        unpruned_model_dfs.append(pd.DataFrame(metrics).assign(model=model_tag))\n",
    "\n",
    "    unpruned_df = pd.concat(unpruned_model_dfs, ignore_index=True)\n",
    "\n",
    "    unpruned_df_grpby_model = unpruned_df.groupby('model')\n",
    "\n",
    "\n",
    "    unpruned_statistics_df = pd.concat([(unpruned_df_grpby_model[['ncut']]\n",
    "                                 .agg(['mean', 'std'])),\n",
    "                                unpruned_df_grpby_model.size().rename('n_models'),\n",
    "                                (unpruned_df_grpby_model[['train_acc', 'test_acc']]\n",
    "                                 .agg('mean'))],\n",
    "                               axis=1)\n",
    "\n",
    "    unpruned_statistics_df = unpruned_statistics_df.loc[TAGS_COMMANDS.keys(), :]\n",
    "\n",
    "    unpruned_statistics_df"
   ]
  },
  {
   "cell_type": "code",
   "execution_count": 23,
   "metadata": {
    "papermill": {
     "duration": 0.242569,
     "end_time": "2020-05-27T19:12:08.370579",
     "exception": false,
     "start_time": "2020-05-27T19:12:08.128010",
     "status": "completed"
    },
    "tags": []
   },
   "outputs": [],
   "source": [
    "# unpruned_df.to_csv(f'../results/mlp-clustering-stability-all-samples-unpruned-K-{N_CLUSTERS}.csv')\n",
    "# unpruned_statistics_df.to_csv(f'../results/mlp-clustering-stability-statistics-unpruned-K-{N_CLUSTERS}.csv')"
   ]
  }
 ],
 "metadata": {
  "celltoolbar": "Tags",
  "kernelspec": {
   "display_name": "Python 3",
   "language": "python",
   "name": "python3"
  },
  "language_info": {
   "codemirror_mode": {
    "name": "ipython",
    "version": 3
   },
   "file_extension": ".py",
   "mimetype": "text/x-python",
   "name": "python",
   "nbconvert_exporter": "python",
   "pygments_lexer": "ipython3",
   "version": "3.7.3"
  },
  "papermill": {
   "duration": 27989.10284,
   "end_time": "2020-05-27T19:12:13.870988",
   "environment_variables": {},
   "exception": null,
   "input_path": "./notebooks/mlp-clustering-stability-different-n_clusters.ipynb",
   "output_path": "./notebooks/mlp-clustering-stability-different-n_clusters-K=7.ipynb",
   "parameters": {
    "N_CLUSTERS": 7
   },
   "start_time": "2020-05-27T11:25:44.768148",
   "version": "1.1.0"
  }
 },
 "nbformat": 4,
 "nbformat_minor": 2
}