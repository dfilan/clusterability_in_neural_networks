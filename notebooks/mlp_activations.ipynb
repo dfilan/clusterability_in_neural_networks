{
 "cells": [
  {
   "cell_type": "markdown",
   "metadata": {
    "papermill": {
     "duration": 0.015496,
     "end_time": "2020-09-08T09:48:31.022069",
     "exception": false,
     "start_time": "2020-09-08T09:48:31.006573",
     "status": "completed"
    },
    "tags": []
   },
   "source": [
    "# MLP activations experiments"
   ]
  },
  {
   "cell_type": "code",
   "execution_count": 1,
   "metadata": {
    "execution": {
     "iopub.execute_input": "2020-09-08T09:48:31.055974Z",
     "iopub.status.busy": "2020-09-08T09:48:31.055033Z",
     "iopub.status.idle": "2020-09-08T09:48:35.422007Z",
     "shell.execute_reply": "2020-09-08T09:48:35.420993Z"
    },
    "papermill": {
     "duration": 4.386357,
     "end_time": "2020-09-08T09:48:35.422296",
     "exception": false,
     "start_time": "2020-09-08T09:48:31.035939",
     "status": "completed"
    },
    "tags": []
   },
   "outputs": [
    {
     "name": "stderr",
     "output_type": "stream",
     "text": [
      "Using TensorFlow backend.\n"
     ]
    }
   ],
   "source": [
    "import os\n",
    "import sys\n",
    "sys.path.append('..')\n",
    "import pickle\n",
    "from IPython import display\n",
    "from tqdm import tqdm\n",
    "import numpy as np\n",
    "import matplotlib.pylab as plt\n",
    "import seaborn as sns\n",
    "import pandas as pd\n",
    "\n",
    "from src.experiment_tagging import get_model_path, MODEL_TAG_LOOKUP\n",
    "from src.visualization import run_activations_cluster_experiment, \\\n",
    "get_activations_cluster_results_tbl, draw_cca_grid"
   ]
  },
  {
   "cell_type": "code",
   "execution_count": 2,
   "metadata": {
    "execution": {
     "iopub.execute_input": "2020-09-08T09:48:35.454730Z",
     "iopub.status.busy": "2020-09-08T09:48:35.453689Z",
     "iopub.status.idle": "2020-09-08T09:48:35.460936Z",
     "shell.execute_reply": "2020-09-08T09:48:35.462038Z"
    },
    "papermill": {
     "duration": 0.031408,
     "end_time": "2020-09-08T09:48:35.462364",
     "exception": false,
     "start_time": "2020-09-08T09:48:35.430956",
     "status": "completed"
    },
    "tags": []
   },
   "outputs": [],
   "source": [
    "clustering_results = {}\n",
    "\n",
    "model_tags = ('MNIST', 'MNIST+L1REG',\n",
    "              'FASHION','FASHION+L1REG',\n",
    "              'CIFAR10', 'CIFAR10+L1REG')\n",
    "# print(list(model_tags))\n",
    "mlp_model_paths = {model_tag: get_model_path(model_tag) for model_tag in model_tags}\n",
    "\n",
    "n_clust = 12\n",
    "n_samples = 100"
   ]
  },
  {
   "cell_type": "code",
   "execution_count": 3,
   "metadata": {
    "execution": {
     "iopub.execute_input": "2020-09-08T09:48:35.493001Z",
     "iopub.status.busy": "2020-09-08T09:48:35.492324Z",
     "iopub.status.idle": "2020-09-08T10:45:11.138326Z",
     "shell.execute_reply": "2020-09-08T10:45:11.136494Z"
    },
    "papermill": {
     "duration": 3395.663418,
     "end_time": "2020-09-08T10:45:11.138542",
     "exception": false,
     "start_time": "2020-09-08T09:48:35.475124",
     "status": "completed"
    },
    "tags": []
   },
   "outputs": [
    {
     "name": "stderr",
     "output_type": "stream",
     "text": [
      "\r",
      "  0%|          | 0/6 [00:00<?, ?it/s]"
     ]
    },
    {
     "name": "stderr",
     "output_type": "stream",
     "text": [
      "\r",
      " 17%|█▋        | 1/6 [16:26<1:22:13, 986.68s/it]"
     ]
    },
    {
     "name": "stderr",
     "output_type": "stream",
     "text": [
      "\r",
      " 33%|███▎      | 2/6 [21:08<51:41, 775.31s/it]  "
     ]
    },
    {
     "name": "stderr",
     "output_type": "stream",
     "text": [
      "\r",
      " 50%|█████     | 3/6 [36:43<41:09, 823.26s/it]"
     ]
    },
    {
     "name": "stderr",
     "output_type": "stream",
     "text": [
      "\r",
      " 67%|██████▋   | 4/6 [40:29<21:27, 643.93s/it]"
     ]
    },
    {
     "name": "stderr",
     "output_type": "stream",
     "text": [
      "\r",
      " 83%|████████▎ | 5/6 [53:10<11:19, 679.05s/it]"
     ]
    },
    {
     "name": "stderr",
     "output_type": "stream",
     "text": [
      "\r",
      "100%|██████████| 6/6 [56:35<00:00, 536.87s/it]"
     ]
    },
    {
     "name": "stderr",
     "output_type": "stream",
     "text": [
      "\r",
      "100%|██████████| 6/6 [56:35<00:00, 565.93s/it]"
     ]
    },
    {
     "name": "stderr",
     "output_type": "stream",
     "text": [
      "\n"
     ]
    }
   ],
   "source": [
    "for model_name, path in tqdm(mlp_model_paths.items()):\n",
    "        \n",
    "    clustering_results[model_name] = run_activations_cluster_experiment(path, path,\n",
    "                                                                        n_clusters=n_clust,\n",
    "                                                                        n_samples=n_samples)"
   ]
  },
  {
   "cell_type": "code",
   "execution_count": 4,
   "metadata": {
    "execution": {
     "iopub.execute_input": "2020-09-08T10:45:11.197971Z",
     "iopub.status.busy": "2020-09-08T10:45:11.175191Z",
     "iopub.status.idle": "2020-09-08T10:45:11.216884Z",
     "shell.execute_reply": "2020-09-08T10:45:11.218177Z"
    },
    "papermill": {
     "duration": 0.070326,
     "end_time": "2020-09-08T10:45:11.218499",
     "exception": false,
     "start_time": "2020-09-08T10:45:11.148173",
     "status": "completed"
    },
    "tags": []
   },
   "outputs": [
    {
     "data": {
      "text/html": [
       "<div>\n",
       "<style scoped>\n",
       "    .dataframe tbody tr th:only-of-type {\n",
       "        vertical-align: middle;\n",
       "    }\n",
       "\n",
       "    .dataframe tbody tr th {\n",
       "        vertical-align: top;\n",
       "    }\n",
       "\n",
       "    .dataframe thead th {\n",
       "        text-align: right;\n",
       "    }\n",
       "</style>\n",
       "<table border=\"1\" class=\"dataframe\">\n",
       "  <thead>\n",
       "    <tr style=\"text-align: right;\">\n",
       "      <th></th>\n",
       "      <th>model</th>\n",
       "      <th>weight_ncut</th>\n",
       "      <th>act_ncut</th>\n",
       "      <th>act_ncut_percentile</th>\n",
       "      <th>act_ncut_z_score</th>\n",
       "      <th>transfer_ncut</th>\n",
       "      <th>weight_ave_in_out</th>\n",
       "      <th>act_ave_in_out</th>\n",
       "      <th>weight_entropy</th>\n",
       "      <th>act_entropy</th>\n",
       "      <th>norm_mutual_info</th>\n",
       "      <th>nmi_percentile</th>\n",
       "      <th>nmi_z_score</th>\n",
       "      <th>weight_intra_mean_rsq</th>\n",
       "      <th>weight_inter_mean_rsq</th>\n",
       "    </tr>\n",
       "  </thead>\n",
       "  <tbody>\n",
       "    <tr>\n",
       "      <th>0</th>\n",
       "      <td>MNIST: unpruned</td>\n",
       "      <td>10.410499</td>\n",
       "      <td>8.918243</td>\n",
       "      <td>0.009901</td>\n",
       "      <td>-233.657261</td>\n",
       "      <td>10.786489</td>\n",
       "      <td>0.076341</td>\n",
       "      <td>0.172778</td>\n",
       "      <td>6.698317</td>\n",
       "      <td>6.656565</td>\n",
       "      <td>0.042619</td>\n",
       "      <td>1.000000</td>\n",
       "      <td>5.305723</td>\n",
       "      <td>0.052114</td>\n",
       "      <td>0.037216</td>\n",
       "    </tr>\n",
       "    <tr>\n",
       "      <th>1</th>\n",
       "      <td>MNIST: pruned</td>\n",
       "      <td>9.379449</td>\n",
       "      <td>9.546892</td>\n",
       "      <td>0.009901</td>\n",
       "      <td>-187.680565</td>\n",
       "      <td>10.673940</td>\n",
       "      <td>0.139696</td>\n",
       "      <td>0.128477</td>\n",
       "      <td>6.719287</td>\n",
       "      <td>6.654229</td>\n",
       "      <td>0.073068</td>\n",
       "      <td>1.000000</td>\n",
       "      <td>15.245195</td>\n",
       "      <td>0.063175</td>\n",
       "      <td>0.036264</td>\n",
       "    </tr>\n",
       "    <tr>\n",
       "      <th>2</th>\n",
       "      <td>MNIST+L1REG: unpruned</td>\n",
       "      <td>7.060221</td>\n",
       "      <td>9.151628</td>\n",
       "      <td>0.009901</td>\n",
       "      <td>-141.309955</td>\n",
       "      <td>10.145655</td>\n",
       "      <td>0.349832</td>\n",
       "      <td>0.155621</td>\n",
       "      <td>6.628065</td>\n",
       "      <td>6.038892</td>\n",
       "      <td>0.234709</td>\n",
       "      <td>1.000000</td>\n",
       "      <td>31.319607</td>\n",
       "      <td>0.097700</td>\n",
       "      <td>0.033271</td>\n",
       "    </tr>\n",
       "    <tr>\n",
       "      <th>3</th>\n",
       "      <td>MNIST+L1REG: pruned</td>\n",
       "      <td>10.825440</td>\n",
       "      <td>8.841713</td>\n",
       "      <td>0.009901</td>\n",
       "      <td>-31.030103</td>\n",
       "      <td>2.002332</td>\n",
       "      <td>0.054250</td>\n",
       "      <td>0.178602</td>\n",
       "      <td>6.598985</td>\n",
       "      <td>5.027362</td>\n",
       "      <td>0.066389</td>\n",
       "      <td>0.841584</td>\n",
       "      <td>0.748687</td>\n",
       "      <td>0.093457</td>\n",
       "      <td>0.033885</td>\n",
       "    </tr>\n",
       "    <tr>\n",
       "      <th>4</th>\n",
       "      <td>FASHION: unpruned</td>\n",
       "      <td>10.399693</td>\n",
       "      <td>8.480912</td>\n",
       "      <td>0.009901</td>\n",
       "      <td>-254.191414</td>\n",
       "      <td>10.827176</td>\n",
       "      <td>0.076940</td>\n",
       "      <td>0.207471</td>\n",
       "      <td>6.651662</td>\n",
       "      <td>6.655786</td>\n",
       "      <td>0.042183</td>\n",
       "      <td>1.000000</td>\n",
       "      <td>5.236553</td>\n",
       "      <td>0.045004</td>\n",
       "      <td>0.032410</td>\n",
       "    </tr>\n",
       "    <tr>\n",
       "      <th>5</th>\n",
       "      <td>FASHION: pruned</td>\n",
       "      <td>9.319369</td>\n",
       "      <td>9.456401</td>\n",
       "      <td>0.009901</td>\n",
       "      <td>-166.023742</td>\n",
       "      <td>10.652552</td>\n",
       "      <td>0.143820</td>\n",
       "      <td>0.134491</td>\n",
       "      <td>6.717158</td>\n",
       "      <td>6.636403</td>\n",
       "      <td>0.072793</td>\n",
       "      <td>1.000000</td>\n",
       "      <td>13.342928</td>\n",
       "      <td>0.051911</td>\n",
       "      <td>0.024611</td>\n",
       "    </tr>\n",
       "    <tr>\n",
       "      <th>6</th>\n",
       "      <td>FASHION+L1REG: unpruned</td>\n",
       "      <td>8.855708</td>\n",
       "      <td>9.496423</td>\n",
       "      <td>0.009901</td>\n",
       "      <td>-94.081224</td>\n",
       "      <td>10.457103</td>\n",
       "      <td>0.177529</td>\n",
       "      <td>0.131817</td>\n",
       "      <td>6.629410</td>\n",
       "      <td>6.010541</td>\n",
       "      <td>0.162989</td>\n",
       "      <td>1.000000</td>\n",
       "      <td>13.983536</td>\n",
       "      <td>0.124580</td>\n",
       "      <td>0.084410</td>\n",
       "    </tr>\n",
       "    <tr>\n",
       "      <th>7</th>\n",
       "      <td>FASHION+L1REG: pruned</td>\n",
       "      <td>8.287398</td>\n",
       "      <td>9.103512</td>\n",
       "      <td>0.009901</td>\n",
       "      <td>-43.867735</td>\n",
       "      <td>5.399851</td>\n",
       "      <td>0.223991</td>\n",
       "      <td>0.159086</td>\n",
       "      <td>6.589767</td>\n",
       "      <td>5.039947</td>\n",
       "      <td>0.312619</td>\n",
       "      <td>1.000000</td>\n",
       "      <td>16.516127</td>\n",
       "      <td>0.121382</td>\n",
       "      <td>0.033462</td>\n",
       "    </tr>\n",
       "    <tr>\n",
       "      <th>8</th>\n",
       "      <td>CIFAR10: unpruned</td>\n",
       "      <td>10.491657</td>\n",
       "      <td>7.652475</td>\n",
       "      <td>0.009901</td>\n",
       "      <td>-68.531776</td>\n",
       "      <td>10.819498</td>\n",
       "      <td>0.071883</td>\n",
       "      <td>0.284060</td>\n",
       "      <td>6.665802</td>\n",
       "      <td>6.432657</td>\n",
       "      <td>0.060062</td>\n",
       "      <td>1.000000</td>\n",
       "      <td>9.143132</td>\n",
       "      <td>0.019632</td>\n",
       "      <td>0.004715</td>\n",
       "    </tr>\n",
       "    <tr>\n",
       "      <th>9</th>\n",
       "      <td>CIFAR10: pruned</td>\n",
       "      <td>9.746993</td>\n",
       "      <td>9.422476</td>\n",
       "      <td>0.009901</td>\n",
       "      <td>-131.014567</td>\n",
       "      <td>6.877753</td>\n",
       "      <td>0.115574</td>\n",
       "      <td>0.136775</td>\n",
       "      <td>6.295031</td>\n",
       "      <td>6.472012</td>\n",
       "      <td>0.041061</td>\n",
       "      <td>1.000000</td>\n",
       "      <td>5.922187</td>\n",
       "      <td>0.019453</td>\n",
       "      <td>0.029687</td>\n",
       "    </tr>\n",
       "    <tr>\n",
       "      <th>10</th>\n",
       "      <td>CIFAR10+L1REG: unpruned</td>\n",
       "      <td>9.760869</td>\n",
       "      <td>8.033255</td>\n",
       "      <td>0.009901</td>\n",
       "      <td>-157.907281</td>\n",
       "      <td>10.420307</td>\n",
       "      <td>0.114699</td>\n",
       "      <td>0.246895</td>\n",
       "      <td>6.617780</td>\n",
       "      <td>5.809867</td>\n",
       "      <td>0.208978</td>\n",
       "      <td>1.000000</td>\n",
       "      <td>19.750849</td>\n",
       "      <td>0.092063</td>\n",
       "      <td>0.048577</td>\n",
       "    </tr>\n",
       "    <tr>\n",
       "      <th>11</th>\n",
       "      <td>CIFAR10+L1REG: pruned</td>\n",
       "      <td>10.556933</td>\n",
       "      <td>9.121121</td>\n",
       "      <td>0.009901</td>\n",
       "      <td>-39.691004</td>\n",
       "      <td>0.000000</td>\n",
       "      <td>0.068347</td>\n",
       "      <td>0.157814</td>\n",
       "      <td>6.673454</td>\n",
       "      <td>5.294875</td>\n",
       "      <td>0.250000</td>\n",
       "      <td>0.009901</td>\n",
       "      <td>NaN</td>\n",
       "      <td>0.049752</td>\n",
       "      <td>0.030854</td>\n",
       "    </tr>\n",
       "  </tbody>\n",
       "</table>\n",
       "</div>"
      ],
      "text/plain": [
       "                      model  weight_ncut  act_ncut  act_ncut_percentile  \\\n",
       "0           MNIST: unpruned    10.410499  8.918243             0.009901   \n",
       "1             MNIST: pruned     9.379449  9.546892             0.009901   \n",
       "2     MNIST+L1REG: unpruned     7.060221  9.151628             0.009901   \n",
       "3       MNIST+L1REG: pruned    10.825440  8.841713             0.009901   \n",
       "4         FASHION: unpruned    10.399693  8.480912             0.009901   \n",
       "5           FASHION: pruned     9.319369  9.456401             0.009901   \n",
       "6   FASHION+L1REG: unpruned     8.855708  9.496423             0.009901   \n",
       "7     FASHION+L1REG: pruned     8.287398  9.103512             0.009901   \n",
       "8         CIFAR10: unpruned    10.491657  7.652475             0.009901   \n",
       "9           CIFAR10: pruned     9.746993  9.422476             0.009901   \n",
       "10  CIFAR10+L1REG: unpruned     9.760869  8.033255             0.009901   \n",
       "11    CIFAR10+L1REG: pruned    10.556933  9.121121             0.009901   \n",
       "\n",
       "    act_ncut_z_score  transfer_ncut  weight_ave_in_out  act_ave_in_out  \\\n",
       "0        -233.657261      10.786489           0.076341        0.172778   \n",
       "1        -187.680565      10.673940           0.139696        0.128477   \n",
       "2        -141.309955      10.145655           0.349832        0.155621   \n",
       "3         -31.030103       2.002332           0.054250        0.178602   \n",
       "4        -254.191414      10.827176           0.076940        0.207471   \n",
       "5        -166.023742      10.652552           0.143820        0.134491   \n",
       "6         -94.081224      10.457103           0.177529        0.131817   \n",
       "7         -43.867735       5.399851           0.223991        0.159086   \n",
       "8         -68.531776      10.819498           0.071883        0.284060   \n",
       "9        -131.014567       6.877753           0.115574        0.136775   \n",
       "10       -157.907281      10.420307           0.114699        0.246895   \n",
       "11        -39.691004       0.000000           0.068347        0.157814   \n",
       "\n",
       "    weight_entropy  act_entropy  norm_mutual_info  nmi_percentile  \\\n",
       "0         6.698317     6.656565          0.042619        1.000000   \n",
       "1         6.719287     6.654229          0.073068        1.000000   \n",
       "2         6.628065     6.038892          0.234709        1.000000   \n",
       "3         6.598985     5.027362          0.066389        0.841584   \n",
       "4         6.651662     6.655786          0.042183        1.000000   \n",
       "5         6.717158     6.636403          0.072793        1.000000   \n",
       "6         6.629410     6.010541          0.162989        1.000000   \n",
       "7         6.589767     5.039947          0.312619        1.000000   \n",
       "8         6.665802     6.432657          0.060062        1.000000   \n",
       "9         6.295031     6.472012          0.041061        1.000000   \n",
       "10        6.617780     5.809867          0.208978        1.000000   \n",
       "11        6.673454     5.294875          0.250000        0.009901   \n",
       "\n",
       "    nmi_z_score  weight_intra_mean_rsq  weight_inter_mean_rsq  \n",
       "0      5.305723               0.052114               0.037216  \n",
       "1     15.245195               0.063175               0.036264  \n",
       "2     31.319607               0.097700               0.033271  \n",
       "3      0.748687               0.093457               0.033885  \n",
       "4      5.236553               0.045004               0.032410  \n",
       "5     13.342928               0.051911               0.024611  \n",
       "6     13.983536               0.124580               0.084410  \n",
       "7     16.516127               0.121382               0.033462  \n",
       "8      9.143132               0.019632               0.004715  \n",
       "9      5.922187               0.019453               0.029687  \n",
       "10    19.750849               0.092063               0.048577  \n",
       "11          NaN               0.049752               0.030854  "
      ]
     },
     "execution_count": 4,
     "metadata": {},
     "output_type": "execute_result"
    }
   ],
   "source": [
    "act_results_tbl = get_activations_cluster_results_tbl(model_tags, clustering_results)\n",
    "act_results_tbl"
   ]
  },
  {
   "cell_type": "code",
   "execution_count": 5,
   "metadata": {
    "execution": {
     "iopub.execute_input": "2020-09-08T10:45:11.253098Z",
     "iopub.status.busy": "2020-09-08T10:45:11.252513Z",
     "iopub.status.idle": "2020-09-08T10:45:11.256468Z",
     "shell.execute_reply": "2020-09-08T10:45:11.256910Z"
    },
    "papermill": {
     "duration": 0.020682,
     "end_time": "2020-09-08T10:45:11.257049",
     "exception": false,
     "start_time": "2020-09-08T10:45:11.236367",
     "status": "completed"
    },
    "pycharm": {
     "name": "#%%\n"
    },
    "tags": []
   },
   "outputs": [],
   "source": [
    "# for mt in model_tags:\n",
    "#     for pruning in ['unpruned', 'pruned']:\n",
    "#         draw_cca_grid(mt, clustering_results[mt][pruning]['cluster_comparison_results']['cca_grid'])\n"
   ]
  }
 ],
 "metadata": {
  "kernelspec": {
   "display_name": "Python 3",
   "language": "python",
   "name": "python3"
  },
  "language_info": {
   "codemirror_mode": {
    "name": "ipython",
    "version": 3
   },
   "file_extension": ".py",
   "mimetype": "text/x-python",
   "name": "python",
   "nbconvert_exporter": "python",
   "pygments_lexer": "ipython3",
   "version": "3.7.5"
  },
  "papermill": {
   "duration": 3402.877158,
   "end_time": "2020-09-08T10:45:12.838406",
   "environment_variables": {},
   "exception": null,
   "input_path": "./notebooks/mlp_activations.ipynb",
   "output_path": "./notebooks/mlp_activations.ipynb",
   "parameters": {},
   "start_time": "2020-09-08T09:48:29.961248",
   "version": "1.2.1"
  }
 },
 "nbformat": 4,
 "nbformat_minor": 2
}